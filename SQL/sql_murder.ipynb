{
 "metadata": {
  "language_info": {
   "codemirror_mode": {
    "name": "ipython",
    "version": 3
   },
   "file_extension": ".py",
   "mimetype": "text/x-python",
   "name": "python",
   "nbconvert_exporter": "python",
   "pygments_lexer": "ipython3",
   "version": "3.9.0-final"
  },
  "orig_nbformat": 2,
  "kernelspec": {
   "name": "python3",
   "display_name": "Python 3.9.0 64-bit",
   "metadata": {
    "interpreter": {
     "hash": "55e468aa44997b1a111e264ecfc47cca8eaefaa39ff5edd28dad934b35afc7e9"
    }
   }
  }
 },
 "nbformat": 4,
 "nbformat_minor": 2,
 "cells": [
  {
   "cell_type": "code",
   "execution_count": 1,
   "metadata": {},
   "outputs": [],
   "source": [
    "import pandas as pd \n",
    "import sqlite3"
   ]
  },
  {
   "cell_type": "code",
   "execution_count": 2,
   "metadata": {},
   "outputs": [],
   "source": [
    "dir_db = 'sql-murder-mystery.db'\n",
    "conn = sqlite3.connect(dir_db)\n",
    "cursor = conn.cursor()"
   ]
  },
  {
   "cell_type": "code",
   "execution_count": 6,
   "metadata": {},
   "outputs": [
    {
     "output_type": "execute_result",
     "data": {
      "text/plain": [
       "[(20180115,\n",
       "  'murder',\n",
       "  'Security footage shows that there were 2 witnesses. The first witness lives at the last house on \"Northwestern Dr\". The second witness, named Annabel, lives somewhere on \"Franklin Ave\".',\n",
       "  'SQL City')]"
      ]
     },
     "metadata": {},
     "execution_count": 6
    }
   ],
   "source": [
    "query = \"\"\"\n",
    "SELECT *\n",
    "FROM Crime_scene_report\n",
    "WHERE date==\"20180115\" AND type == \"murder\" and city== \"SQL City\"\n",
    "\"\"\"\n",
    "cursor = conn.cursor()\n",
    "mi_query = cursor.execute(query)\n",
    "mi_query.fetchall()"
   ]
  },
  {
   "cell_type": "code",
   "execution_count": 12,
   "metadata": {},
   "outputs": [
    {
     "output_type": "execute_result",
     "data": {
      "text/plain": [
       "      id            name  license_id  address_number address_street_name  \\\n",
       "0  14887  Morty Schapiro      118009            4919     Northwestern Dr   \n",
       "\n",
       "         ssn  \n",
       "0  111564949  "
      ],
      "text/html": "<div>\n<style scoped>\n    .dataframe tbody tr th:only-of-type {\n        vertical-align: middle;\n    }\n\n    .dataframe tbody tr th {\n        vertical-align: top;\n    }\n\n    .dataframe thead th {\n        text-align: right;\n    }\n</style>\n<table border=\"1\" class=\"dataframe\">\n  <thead>\n    <tr style=\"text-align: right;\">\n      <th></th>\n      <th>id</th>\n      <th>name</th>\n      <th>license_id</th>\n      <th>address_number</th>\n      <th>address_street_name</th>\n      <th>ssn</th>\n    </tr>\n  </thead>\n  <tbody>\n    <tr>\n      <th>0</th>\n      <td>14887</td>\n      <td>Morty Schapiro</td>\n      <td>118009</td>\n      <td>4919</td>\n      <td>Northwestern Dr</td>\n      <td>111564949</td>\n    </tr>\n  </tbody>\n</table>\n</div>"
     },
     "metadata": {},
     "execution_count": 12
    }
   ],
   "source": [
    "query = \"\"\"\n",
    "SELECT *\n",
    "FROM person p \n",
    "WHERE address_street_name == \"Northwestern Dr\" and address_number == \"4919\"\n",
    "\"\"\"\n",
    "\n",
    "pd.read_sql_query(query, conn)"
   ]
  },
  {
   "cell_type": "code",
   "execution_count": 23,
   "metadata": {},
   "outputs": [
    {
     "output_type": "execute_result",
     "data": {
      "text/plain": [
       "      id            name  license_id  address_number address_street_name  \\\n",
       "0  16371  Annabel Miller      490173             103        Franklin Ave   \n",
       "\n",
       "         ssn  \n",
       "0  318771143  "
      ],
      "text/html": "<div>\n<style scoped>\n    .dataframe tbody tr th:only-of-type {\n        vertical-align: middle;\n    }\n\n    .dataframe tbody tr th {\n        vertical-align: top;\n    }\n\n    .dataframe thead th {\n        text-align: right;\n    }\n</style>\n<table border=\"1\" class=\"dataframe\">\n  <thead>\n    <tr style=\"text-align: right;\">\n      <th></th>\n      <th>id</th>\n      <th>name</th>\n      <th>license_id</th>\n      <th>address_number</th>\n      <th>address_street_name</th>\n      <th>ssn</th>\n    </tr>\n  </thead>\n  <tbody>\n    <tr>\n      <th>0</th>\n      <td>16371</td>\n      <td>Annabel Miller</td>\n      <td>490173</td>\n      <td>103</td>\n      <td>Franklin Ave</td>\n      <td>318771143</td>\n    </tr>\n  </tbody>\n</table>\n</div>"
     },
     "metadata": {},
     "execution_count": 23
    }
   ],
   "source": [
    "query = \"\"\"\n",
    "SELECT *\n",
    "FROM person p \n",
    "WHERE address_street_name == \"Franklin Ave\" and name LIKE \"Annabel%\"\n",
    "\"\"\"\n",
    "\n",
    "pd.read_sql_query(query, conn)"
   ]
  },
  {
   "cell_type": "code",
   "execution_count": 17,
   "metadata": {},
   "outputs": [
    {
     "output_type": "execute_result",
     "data": {
      "text/plain": [
       "[(14887,\n",
       "  'I heard a gunshot and then saw a man run out. He had a \"Get Fit Now Gym\" bag. The membership number on the bag started with \"48Z\". Only gold members have those bags. The man got into a car with a plate that included \"H42W\".')]"
      ]
     },
     "metadata": {},
     "execution_count": 17
    }
   ],
   "source": [
    "query = \"\"\"\n",
    "SELECT *\n",
    "FROM interview\n",
    "WHERE person_id == 14887  \n",
    "\"\"\"\n",
    "\n",
    "cursor = conn.cursor()\n",
    "mi_query = cursor.execute(query)\n",
    "mi_query.fetchall()"
   ]
  },
  {
   "cell_type": "code",
   "execution_count": 24,
   "metadata": {},
   "outputs": [
    {
     "output_type": "execute_result",
     "data": {
      "text/plain": [
       "[(16371,\n",
       "  'I saw the murder happen, and I recognized the killer from my gym when I was working out last week on January the 9th.')]"
      ]
     },
     "metadata": {},
     "execution_count": 24
    }
   ],
   "source": [
    "query = \"\"\"\n",
    "SELECT *\n",
    "FROM interview\n",
    "WHERE person_id == 16371  \n",
    "\"\"\"\n",
    "\n",
    "cursor = conn.cursor()\n",
    "mi_query = cursor.execute(query)\n",
    "mi_query.fetchall()"
   ]
  },
  {
   "cell_type": "code",
   "execution_count": 34,
   "metadata": {},
   "outputs": [
    {
     "output_type": "execute_result",
     "data": {
      "text/plain": [
       "      id  person_id           name  membership_start_date membership_status  \\\n",
       "0  48Z55      67318  Jeremy Bowers               20160101              gold   \n",
       "\n",
       "  membership_id  check_in_date  check_in_time  check_out_time     id  ...  \\\n",
       "0         48Z55       20180109           1530            1700  67318  ...   \n",
       "\n",
       "         ssn      id  age height  eye_color  hair_color  gender  plate_number  \\\n",
       "0  871539279  423327   30     70      brown       brown    male        0H42W2   \n",
       "\n",
       "    car_make car_model  \n",
       "0  Chevrolet  Spark LS  \n",
       "\n",
       "[1 rows x 24 columns]"
      ],
      "text/html": "<div>\n<style scoped>\n    .dataframe tbody tr th:only-of-type {\n        vertical-align: middle;\n    }\n\n    .dataframe tbody tr th {\n        vertical-align: top;\n    }\n\n    .dataframe thead th {\n        text-align: right;\n    }\n</style>\n<table border=\"1\" class=\"dataframe\">\n  <thead>\n    <tr style=\"text-align: right;\">\n      <th></th>\n      <th>id</th>\n      <th>person_id</th>\n      <th>name</th>\n      <th>membership_start_date</th>\n      <th>membership_status</th>\n      <th>membership_id</th>\n      <th>check_in_date</th>\n      <th>check_in_time</th>\n      <th>check_out_time</th>\n      <th>id</th>\n      <th>...</th>\n      <th>ssn</th>\n      <th>id</th>\n      <th>age</th>\n      <th>height</th>\n      <th>eye_color</th>\n      <th>hair_color</th>\n      <th>gender</th>\n      <th>plate_number</th>\n      <th>car_make</th>\n      <th>car_model</th>\n    </tr>\n  </thead>\n  <tbody>\n    <tr>\n      <th>0</th>\n      <td>48Z55</td>\n      <td>67318</td>\n      <td>Jeremy Bowers</td>\n      <td>20160101</td>\n      <td>gold</td>\n      <td>48Z55</td>\n      <td>20180109</td>\n      <td>1530</td>\n      <td>1700</td>\n      <td>67318</td>\n      <td>...</td>\n      <td>871539279</td>\n      <td>423327</td>\n      <td>30</td>\n      <td>70</td>\n      <td>brown</td>\n      <td>brown</td>\n      <td>male</td>\n      <td>0H42W2</td>\n      <td>Chevrolet</td>\n      <td>Spark LS</td>\n    </tr>\n  </tbody>\n</table>\n<p>1 rows × 24 columns</p>\n</div>"
     },
     "metadata": {},
     "execution_count": 34
    }
   ],
   "source": [
    "query = \"\"\"\n",
    "SELECT *\n",
    "FROM get_fit_now_member m\n",
    "JOIN get_fit_now_check_in ci ON m.Id = ci.membership_id \n",
    "JOIN person p ON m.person_id = p.Id\n",
    "JOIN drivers_license dl ON p.license_id = dl.Id\n",
    "WHERE m.membership_status == \"gold\" and  ci.membership_id LIKE '48Z%' and dl.plate_number LIKE \"%H42W%\"\n",
    "\"\"\"\n",
    "\n",
    "pd.read_sql_query(query, conn)"
   ]
  },
  {
   "cell_type": "code",
   "execution_count": 33,
   "metadata": {},
   "outputs": [
    {
     "output_type": "execute_result",
     "data": {
      "text/plain": [
       "  membership_id  check_in_date  check_in_time  check_out_time\n",
       "0         48Z7A       20180109           1600            1730\n",
       "1         48Z55       20180109           1530            1700"
      ],
      "text/html": "<div>\n<style scoped>\n    .dataframe tbody tr th:only-of-type {\n        vertical-align: middle;\n    }\n\n    .dataframe tbody tr th {\n        vertical-align: top;\n    }\n\n    .dataframe thead th {\n        text-align: right;\n    }\n</style>\n<table border=\"1\" class=\"dataframe\">\n  <thead>\n    <tr style=\"text-align: right;\">\n      <th></th>\n      <th>membership_id</th>\n      <th>check_in_date</th>\n      <th>check_in_time</th>\n      <th>check_out_time</th>\n    </tr>\n  </thead>\n  <tbody>\n    <tr>\n      <th>0</th>\n      <td>48Z7A</td>\n      <td>20180109</td>\n      <td>1600</td>\n      <td>1730</td>\n    </tr>\n    <tr>\n      <th>1</th>\n      <td>48Z55</td>\n      <td>20180109</td>\n      <td>1530</td>\n      <td>1700</td>\n    </tr>\n  </tbody>\n</table>\n</div>"
     },
     "metadata": {},
     "execution_count": 33
    }
   ],
   "source": [
    "query = \"\"\"\n",
    "SELECT *\n",
    "FROM get_fit_now_check_in\n",
    "WHERE check_in_date == 20180109 and  membership_id LIKE '48Z%'\n",
    "\"\"\"\n",
    "pd.read_sql_query(query, conn)"
   ]
  },
  {
   "cell_type": "code",
   "execution_count": null,
   "metadata": {},
   "outputs": [],
   "source": []
  }
 ]
}