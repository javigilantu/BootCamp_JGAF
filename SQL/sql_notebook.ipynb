{
 "metadata": {
  "language_info": {
   "codemirror_mode": {
    "name": "ipython",
    "version": 3
   },
   "file_extension": ".py",
   "mimetype": "text/x-python",
   "name": "python",
   "nbconvert_exporter": "python",
   "pygments_lexer": "ipython3",
   "version": "3.9.0-final"
  },
  "orig_nbformat": 2,
  "kernelspec": {
   "name": "python3",
   "display_name": "Python 3.9.0 64-bit",
   "metadata": {
    "interpreter": {
     "hash": "55e468aa44997b1a111e264ecfc47cca8eaefaa39ff5edd28dad934b35afc7e9"
    }
   }
  }
 },
 "nbformat": 4,
 "nbformat_minor": 2,
 "cells": [
  {
   "cell_type": "code",
   "execution_count": 3,
   "metadata": {},
   "outputs": [],
   "source": [
    "import sqlite3"
   ]
  },
  {
   "cell_type": "code",
   "execution_count": 4,
   "metadata": {},
   "outputs": [],
   "source": [
    "import pandas as pd"
   ]
  },
  {
   "cell_type": "code",
   "execution_count": 5,
   "metadata": {},
   "outputs": [],
   "source": [
    "dir_db = 'chinook.db'\n",
    "conn = sqlite3.connect(dir_db)"
   ]
  },
  {
   "cell_type": "code",
   "execution_count": 6,
   "metadata": {},
   "outputs": [],
   "source": [
    "cursor = conn.cursor()"
   ]
  },
  {
   "cell_type": "code",
   "execution_count": 7,
   "metadata": {},
   "outputs": [],
   "source": [
    "query = \"\"\"\n",
    "SELECT *\n",
    "FROM genres\n",
    "\"\"\""
   ]
  },
  {
   "cell_type": "code",
   "execution_count": 8,
   "metadata": {},
   "outputs": [],
   "source": [
    "mi_query = cursor.execute(query)"
   ]
  },
  {
   "cell_type": "code",
   "execution_count": 9,
   "metadata": {},
   "outputs": [
    {
     "output_type": "execute_result",
     "data": {
      "text/plain": [
       "[(1, 'Rock'),\n",
       " (2, 'Jazz'),\n",
       " (3, 'Metal'),\n",
       " (4, 'Alternative & Punk'),\n",
       " (5, 'Rock And Roll'),\n",
       " (6, 'Blues'),\n",
       " (7, 'Latin'),\n",
       " (8, 'Reggae'),\n",
       " (9, 'Pop'),\n",
       " (10, 'Soundtrack'),\n",
       " (11, 'Bossa Nova'),\n",
       " (12, 'Easy Listening'),\n",
       " (13, 'Heavy Metal'),\n",
       " (14, 'R&B/Soul'),\n",
       " (15, 'Electronica/Dance'),\n",
       " (16, 'World'),\n",
       " (17, 'Hip Hop/Rap'),\n",
       " (18, 'Science Fiction'),\n",
       " (19, 'TV Shows'),\n",
       " (20, 'Sci Fi & Fantasy'),\n",
       " (21, 'Drama'),\n",
       " (22, 'Comedy'),\n",
       " (23, 'Alternative'),\n",
       " (24, 'Classical'),\n",
       " (25, 'Opera'),\n",
       " (90, 'hola')]"
      ]
     },
     "metadata": {},
     "execution_count": 9
    }
   ],
   "source": [
    "mi_query.fetchall()"
   ]
  },
  {
   "cell_type": "code",
   "execution_count": 10,
   "metadata": {},
   "outputs": [
    {
     "output_type": "execute_result",
     "data": {
      "text/plain": [
       "    GenreId                Name\n",
       "0         1                Rock\n",
       "1         2                Jazz\n",
       "2         3               Metal\n",
       "3         4  Alternative & Punk\n",
       "4         5       Rock And Roll\n",
       "5         6               Blues\n",
       "6         7               Latin\n",
       "7         8              Reggae\n",
       "8         9                 Pop\n",
       "9        10          Soundtrack\n",
       "10       11          Bossa Nova\n",
       "11       12      Easy Listening\n",
       "12       13         Heavy Metal\n",
       "13       14            R&B/Soul\n",
       "14       15   Electronica/Dance\n",
       "15       16               World\n",
       "16       17         Hip Hop/Rap\n",
       "17       18     Science Fiction\n",
       "18       19            TV Shows\n",
       "19       20    Sci Fi & Fantasy\n",
       "20       21               Drama\n",
       "21       22              Comedy\n",
       "22       23         Alternative\n",
       "23       24           Classical\n",
       "24       25               Opera\n",
       "25       90                hola"
      ],
      "text/html": "<div>\n<style scoped>\n    .dataframe tbody tr th:only-of-type {\n        vertical-align: middle;\n    }\n\n    .dataframe tbody tr th {\n        vertical-align: top;\n    }\n\n    .dataframe thead th {\n        text-align: right;\n    }\n</style>\n<table border=\"1\" class=\"dataframe\">\n  <thead>\n    <tr style=\"text-align: right;\">\n      <th></th>\n      <th>GenreId</th>\n      <th>Name</th>\n    </tr>\n  </thead>\n  <tbody>\n    <tr>\n      <th>0</th>\n      <td>1</td>\n      <td>Rock</td>\n    </tr>\n    <tr>\n      <th>1</th>\n      <td>2</td>\n      <td>Jazz</td>\n    </tr>\n    <tr>\n      <th>2</th>\n      <td>3</td>\n      <td>Metal</td>\n    </tr>\n    <tr>\n      <th>3</th>\n      <td>4</td>\n      <td>Alternative &amp; Punk</td>\n    </tr>\n    <tr>\n      <th>4</th>\n      <td>5</td>\n      <td>Rock And Roll</td>\n    </tr>\n    <tr>\n      <th>5</th>\n      <td>6</td>\n      <td>Blues</td>\n    </tr>\n    <tr>\n      <th>6</th>\n      <td>7</td>\n      <td>Latin</td>\n    </tr>\n    <tr>\n      <th>7</th>\n      <td>8</td>\n      <td>Reggae</td>\n    </tr>\n    <tr>\n      <th>8</th>\n      <td>9</td>\n      <td>Pop</td>\n    </tr>\n    <tr>\n      <th>9</th>\n      <td>10</td>\n      <td>Soundtrack</td>\n    </tr>\n    <tr>\n      <th>10</th>\n      <td>11</td>\n      <td>Bossa Nova</td>\n    </tr>\n    <tr>\n      <th>11</th>\n      <td>12</td>\n      <td>Easy Listening</td>\n    </tr>\n    <tr>\n      <th>12</th>\n      <td>13</td>\n      <td>Heavy Metal</td>\n    </tr>\n    <tr>\n      <th>13</th>\n      <td>14</td>\n      <td>R&amp;B/Soul</td>\n    </tr>\n    <tr>\n      <th>14</th>\n      <td>15</td>\n      <td>Electronica/Dance</td>\n    </tr>\n    <tr>\n      <th>15</th>\n      <td>16</td>\n      <td>World</td>\n    </tr>\n    <tr>\n      <th>16</th>\n      <td>17</td>\n      <td>Hip Hop/Rap</td>\n    </tr>\n    <tr>\n      <th>17</th>\n      <td>18</td>\n      <td>Science Fiction</td>\n    </tr>\n    <tr>\n      <th>18</th>\n      <td>19</td>\n      <td>TV Shows</td>\n    </tr>\n    <tr>\n      <th>19</th>\n      <td>20</td>\n      <td>Sci Fi &amp; Fantasy</td>\n    </tr>\n    <tr>\n      <th>20</th>\n      <td>21</td>\n      <td>Drama</td>\n    </tr>\n    <tr>\n      <th>21</th>\n      <td>22</td>\n      <td>Comedy</td>\n    </tr>\n    <tr>\n      <th>22</th>\n      <td>23</td>\n      <td>Alternative</td>\n    </tr>\n    <tr>\n      <th>23</th>\n      <td>24</td>\n      <td>Classical</td>\n    </tr>\n    <tr>\n      <th>24</th>\n      <td>25</td>\n      <td>Opera</td>\n    </tr>\n    <tr>\n      <th>25</th>\n      <td>90</td>\n      <td>hola</td>\n    </tr>\n  </tbody>\n</table>\n</div>"
     },
     "metadata": {},
     "execution_count": 10
    }
   ],
   "source": [
    "pd.read_sql_query(query, conn)"
   ]
  },
  {
   "cell_type": "code",
   "execution_count": 11,
   "metadata": {},
   "outputs": [
    {
     "output_type": "execute_result",
     "data": {
      "text/plain": [
       "     CustomerId FirstName    LastName  \\\n",
       "0             1      Luís   Gonçalves   \n",
       "1             1      Luís   Gonçalves   \n",
       "2             1      Luís   Gonçalves   \n",
       "3             1      Luís   Gonçalves   \n",
       "4             1      Luís   Gonçalves   \n",
       "..          ...       ...         ...   \n",
       "407          59      Puja  Srivastava   \n",
       "408          59      Puja  Srivastava   \n",
       "409          59      Puja  Srivastava   \n",
       "410          59      Puja  Srivastava   \n",
       "411          59      Puja  Srivastava   \n",
       "\n",
       "                                              Company  \\\n",
       "0    Embraer - Empresa Brasileira de Aeronáutica S.A.   \n",
       "1    Embraer - Empresa Brasileira de Aeronáutica S.A.   \n",
       "2    Embraer - Empresa Brasileira de Aeronáutica S.A.   \n",
       "3    Embraer - Empresa Brasileira de Aeronáutica S.A.   \n",
       "4    Embraer - Empresa Brasileira de Aeronáutica S.A.   \n",
       "..                                                ...   \n",
       "407                                              None   \n",
       "408                                              None   \n",
       "409                                              None   \n",
       "410                                              None   \n",
       "411                                              None   \n",
       "\n",
       "                             Address                 City State Country  \\\n",
       "0    Av. Brigadeiro Faria Lima, 2170  São José dos Campos    SP  Brazil   \n",
       "1    Av. Brigadeiro Faria Lima, 2170  São José dos Campos    SP  Brazil   \n",
       "2    Av. Brigadeiro Faria Lima, 2170  São José dos Campos    SP  Brazil   \n",
       "3    Av. Brigadeiro Faria Lima, 2170  São José dos Campos    SP  Brazil   \n",
       "4    Av. Brigadeiro Faria Lima, 2170  São José dos Campos    SP  Brazil   \n",
       "..                               ...                  ...   ...     ...   \n",
       "407                3,Raj Bhavan Road            Bangalore  None   India   \n",
       "408                3,Raj Bhavan Road            Bangalore  None   India   \n",
       "409                3,Raj Bhavan Road            Bangalore  None   India   \n",
       "410                3,Raj Bhavan Road            Bangalore  None   India   \n",
       "411                3,Raj Bhavan Road            Bangalore  None   India   \n",
       "\n",
       "    PostalCode               Phone  ... SupportRepId InvoiceId  CustomerId  \\\n",
       "0    12227-000  +55 (12) 3923-5555  ...            3        98           1   \n",
       "1    12227-000  +55 (12) 3923-5555  ...            3       121           1   \n",
       "2    12227-000  +55 (12) 3923-5555  ...            3       143           1   \n",
       "3    12227-000  +55 (12) 3923-5555  ...            3       195           1   \n",
       "4    12227-000  +55 (12) 3923-5555  ...            3       316           1   \n",
       "..         ...                 ...  ...          ...       ...         ...   \n",
       "407     560001    +91 080 22289999  ...            3        45          59   \n",
       "408     560001    +91 080 22289999  ...            3        97          59   \n",
       "409     560001    +91 080 22289999  ...            3       218          59   \n",
       "410     560001    +91 080 22289999  ...            3       229          59   \n",
       "411     560001    +91 080 22289999  ...            3       284          59   \n",
       "\n",
       "             InvoiceDate                   BillingAddress  \\\n",
       "0    2010-03-11 00:00:00  Av. Brigadeiro Faria Lima, 2170   \n",
       "1    2010-06-13 00:00:00  Av. Brigadeiro Faria Lima, 2170   \n",
       "2    2010-09-15 00:00:00  Av. Brigadeiro Faria Lima, 2170   \n",
       "3    2011-05-06 00:00:00  Av. Brigadeiro Faria Lima, 2170   \n",
       "4    2012-10-27 00:00:00  Av. Brigadeiro Faria Lima, 2170   \n",
       "..                   ...                              ...   \n",
       "407  2009-07-08 00:00:00                3,Raj Bhavan Road   \n",
       "408  2010-02-26 00:00:00                3,Raj Bhavan Road   \n",
       "409  2011-08-20 00:00:00                3,Raj Bhavan Road   \n",
       "410  2011-09-30 00:00:00                3,Raj Bhavan Road   \n",
       "411  2012-05-30 00:00:00                3,Raj Bhavan Road   \n",
       "\n",
       "             BillingCity BillingState BillingCountry BillingPostalCode  Total  \n",
       "0    São José dos Campos           SP         Brazil         12227-000   3.98  \n",
       "1    São José dos Campos           SP         Brazil         12227-000   3.96  \n",
       "2    São José dos Campos           SP         Brazil         12227-000   5.94  \n",
       "3    São José dos Campos           SP         Brazil         12227-000   0.99  \n",
       "4    São José dos Campos           SP         Brazil         12227-000   1.98  \n",
       "..                   ...          ...            ...               ...    ...  \n",
       "407            Bangalore         None          India            560001   5.94  \n",
       "408            Bangalore         None          India            560001   1.99  \n",
       "409            Bangalore         None          India            560001   1.98  \n",
       "410            Bangalore         None          India            560001  13.86  \n",
       "411            Bangalore         None          India            560001   8.91  \n",
       "\n",
       "[412 rows x 22 columns]"
      ],
      "text/html": "<div>\n<style scoped>\n    .dataframe tbody tr th:only-of-type {\n        vertical-align: middle;\n    }\n\n    .dataframe tbody tr th {\n        vertical-align: top;\n    }\n\n    .dataframe thead th {\n        text-align: right;\n    }\n</style>\n<table border=\"1\" class=\"dataframe\">\n  <thead>\n    <tr style=\"text-align: right;\">\n      <th></th>\n      <th>CustomerId</th>\n      <th>FirstName</th>\n      <th>LastName</th>\n      <th>Company</th>\n      <th>Address</th>\n      <th>City</th>\n      <th>State</th>\n      <th>Country</th>\n      <th>PostalCode</th>\n      <th>Phone</th>\n      <th>...</th>\n      <th>SupportRepId</th>\n      <th>InvoiceId</th>\n      <th>CustomerId</th>\n      <th>InvoiceDate</th>\n      <th>BillingAddress</th>\n      <th>BillingCity</th>\n      <th>BillingState</th>\n      <th>BillingCountry</th>\n      <th>BillingPostalCode</th>\n      <th>Total</th>\n    </tr>\n  </thead>\n  <tbody>\n    <tr>\n      <th>0</th>\n      <td>1</td>\n      <td>Luís</td>\n      <td>Gonçalves</td>\n      <td>Embraer - Empresa Brasileira de Aeronáutica S.A.</td>\n      <td>Av. Brigadeiro Faria Lima, 2170</td>\n      <td>São José dos Campos</td>\n      <td>SP</td>\n      <td>Brazil</td>\n      <td>12227-000</td>\n      <td>+55 (12) 3923-5555</td>\n      <td>...</td>\n      <td>3</td>\n      <td>98</td>\n      <td>1</td>\n      <td>2010-03-11 00:00:00</td>\n      <td>Av. Brigadeiro Faria Lima, 2170</td>\n      <td>São José dos Campos</td>\n      <td>SP</td>\n      <td>Brazil</td>\n      <td>12227-000</td>\n      <td>3.98</td>\n    </tr>\n    <tr>\n      <th>1</th>\n      <td>1</td>\n      <td>Luís</td>\n      <td>Gonçalves</td>\n      <td>Embraer - Empresa Brasileira de Aeronáutica S.A.</td>\n      <td>Av. Brigadeiro Faria Lima, 2170</td>\n      <td>São José dos Campos</td>\n      <td>SP</td>\n      <td>Brazil</td>\n      <td>12227-000</td>\n      <td>+55 (12) 3923-5555</td>\n      <td>...</td>\n      <td>3</td>\n      <td>121</td>\n      <td>1</td>\n      <td>2010-06-13 00:00:00</td>\n      <td>Av. Brigadeiro Faria Lima, 2170</td>\n      <td>São José dos Campos</td>\n      <td>SP</td>\n      <td>Brazil</td>\n      <td>12227-000</td>\n      <td>3.96</td>\n    </tr>\n    <tr>\n      <th>2</th>\n      <td>1</td>\n      <td>Luís</td>\n      <td>Gonçalves</td>\n      <td>Embraer - Empresa Brasileira de Aeronáutica S.A.</td>\n      <td>Av. Brigadeiro Faria Lima, 2170</td>\n      <td>São José dos Campos</td>\n      <td>SP</td>\n      <td>Brazil</td>\n      <td>12227-000</td>\n      <td>+55 (12) 3923-5555</td>\n      <td>...</td>\n      <td>3</td>\n      <td>143</td>\n      <td>1</td>\n      <td>2010-09-15 00:00:00</td>\n      <td>Av. Brigadeiro Faria Lima, 2170</td>\n      <td>São José dos Campos</td>\n      <td>SP</td>\n      <td>Brazil</td>\n      <td>12227-000</td>\n      <td>5.94</td>\n    </tr>\n    <tr>\n      <th>3</th>\n      <td>1</td>\n      <td>Luís</td>\n      <td>Gonçalves</td>\n      <td>Embraer - Empresa Brasileira de Aeronáutica S.A.</td>\n      <td>Av. Brigadeiro Faria Lima, 2170</td>\n      <td>São José dos Campos</td>\n      <td>SP</td>\n      <td>Brazil</td>\n      <td>12227-000</td>\n      <td>+55 (12) 3923-5555</td>\n      <td>...</td>\n      <td>3</td>\n      <td>195</td>\n      <td>1</td>\n      <td>2011-05-06 00:00:00</td>\n      <td>Av. Brigadeiro Faria Lima, 2170</td>\n      <td>São José dos Campos</td>\n      <td>SP</td>\n      <td>Brazil</td>\n      <td>12227-000</td>\n      <td>0.99</td>\n    </tr>\n    <tr>\n      <th>4</th>\n      <td>1</td>\n      <td>Luís</td>\n      <td>Gonçalves</td>\n      <td>Embraer - Empresa Brasileira de Aeronáutica S.A.</td>\n      <td>Av. Brigadeiro Faria Lima, 2170</td>\n      <td>São José dos Campos</td>\n      <td>SP</td>\n      <td>Brazil</td>\n      <td>12227-000</td>\n      <td>+55 (12) 3923-5555</td>\n      <td>...</td>\n      <td>3</td>\n      <td>316</td>\n      <td>1</td>\n      <td>2012-10-27 00:00:00</td>\n      <td>Av. Brigadeiro Faria Lima, 2170</td>\n      <td>São José dos Campos</td>\n      <td>SP</td>\n      <td>Brazil</td>\n      <td>12227-000</td>\n      <td>1.98</td>\n    </tr>\n    <tr>\n      <th>...</th>\n      <td>...</td>\n      <td>...</td>\n      <td>...</td>\n      <td>...</td>\n      <td>...</td>\n      <td>...</td>\n      <td>...</td>\n      <td>...</td>\n      <td>...</td>\n      <td>...</td>\n      <td>...</td>\n      <td>...</td>\n      <td>...</td>\n      <td>...</td>\n      <td>...</td>\n      <td>...</td>\n      <td>...</td>\n      <td>...</td>\n      <td>...</td>\n      <td>...</td>\n      <td>...</td>\n    </tr>\n    <tr>\n      <th>407</th>\n      <td>59</td>\n      <td>Puja</td>\n      <td>Srivastava</td>\n      <td>None</td>\n      <td>3,Raj Bhavan Road</td>\n      <td>Bangalore</td>\n      <td>None</td>\n      <td>India</td>\n      <td>560001</td>\n      <td>+91 080 22289999</td>\n      <td>...</td>\n      <td>3</td>\n      <td>45</td>\n      <td>59</td>\n      <td>2009-07-08 00:00:00</td>\n      <td>3,Raj Bhavan Road</td>\n      <td>Bangalore</td>\n      <td>None</td>\n      <td>India</td>\n      <td>560001</td>\n      <td>5.94</td>\n    </tr>\n    <tr>\n      <th>408</th>\n      <td>59</td>\n      <td>Puja</td>\n      <td>Srivastava</td>\n      <td>None</td>\n      <td>3,Raj Bhavan Road</td>\n      <td>Bangalore</td>\n      <td>None</td>\n      <td>India</td>\n      <td>560001</td>\n      <td>+91 080 22289999</td>\n      <td>...</td>\n      <td>3</td>\n      <td>97</td>\n      <td>59</td>\n      <td>2010-02-26 00:00:00</td>\n      <td>3,Raj Bhavan Road</td>\n      <td>Bangalore</td>\n      <td>None</td>\n      <td>India</td>\n      <td>560001</td>\n      <td>1.99</td>\n    </tr>\n    <tr>\n      <th>409</th>\n      <td>59</td>\n      <td>Puja</td>\n      <td>Srivastava</td>\n      <td>None</td>\n      <td>3,Raj Bhavan Road</td>\n      <td>Bangalore</td>\n      <td>None</td>\n      <td>India</td>\n      <td>560001</td>\n      <td>+91 080 22289999</td>\n      <td>...</td>\n      <td>3</td>\n      <td>218</td>\n      <td>59</td>\n      <td>2011-08-20 00:00:00</td>\n      <td>3,Raj Bhavan Road</td>\n      <td>Bangalore</td>\n      <td>None</td>\n      <td>India</td>\n      <td>560001</td>\n      <td>1.98</td>\n    </tr>\n    <tr>\n      <th>410</th>\n      <td>59</td>\n      <td>Puja</td>\n      <td>Srivastava</td>\n      <td>None</td>\n      <td>3,Raj Bhavan Road</td>\n      <td>Bangalore</td>\n      <td>None</td>\n      <td>India</td>\n      <td>560001</td>\n      <td>+91 080 22289999</td>\n      <td>...</td>\n      <td>3</td>\n      <td>229</td>\n      <td>59</td>\n      <td>2011-09-30 00:00:00</td>\n      <td>3,Raj Bhavan Road</td>\n      <td>Bangalore</td>\n      <td>None</td>\n      <td>India</td>\n      <td>560001</td>\n      <td>13.86</td>\n    </tr>\n    <tr>\n      <th>411</th>\n      <td>59</td>\n      <td>Puja</td>\n      <td>Srivastava</td>\n      <td>None</td>\n      <td>3,Raj Bhavan Road</td>\n      <td>Bangalore</td>\n      <td>None</td>\n      <td>India</td>\n      <td>560001</td>\n      <td>+91 080 22289999</td>\n      <td>...</td>\n      <td>3</td>\n      <td>284</td>\n      <td>59</td>\n      <td>2012-05-30 00:00:00</td>\n      <td>3,Raj Bhavan Road</td>\n      <td>Bangalore</td>\n      <td>None</td>\n      <td>India</td>\n      <td>560001</td>\n      <td>8.91</td>\n    </tr>\n  </tbody>\n</table>\n<p>412 rows × 22 columns</p>\n</div>"
     },
     "metadata": {},
     "execution_count": 11
    }
   ],
   "source": [
    "query = \"\"\"\n",
    "SELECT *\n",
    "FROM customers, invoices\n",
    "WHERE customers.CustomerID= invoices.customerID\n",
    "\"\"\"\n",
    "pd.read_sql_query(query, conn)"
   ]
  },
  {
   "cell_type": "code",
   "execution_count": 12,
   "metadata": {},
   "outputs": [
    {
     "output_type": "execute_result",
     "data": {
      "text/plain": [
       "     CustomerId FirstName    LastName  \\\n",
       "0             1      Luís   Gonçalves   \n",
       "1             1      Luís   Gonçalves   \n",
       "2             1      Luís   Gonçalves   \n",
       "3             1      Luís   Gonçalves   \n",
       "4             1      Luís   Gonçalves   \n",
       "..          ...       ...         ...   \n",
       "407          59      Puja  Srivastava   \n",
       "408          59      Puja  Srivastava   \n",
       "409          59      Puja  Srivastava   \n",
       "410          59      Puja  Srivastava   \n",
       "411          59      Puja  Srivastava   \n",
       "\n",
       "                                              Company  \\\n",
       "0    Embraer - Empresa Brasileira de Aeronáutica S.A.   \n",
       "1    Embraer - Empresa Brasileira de Aeronáutica S.A.   \n",
       "2    Embraer - Empresa Brasileira de Aeronáutica S.A.   \n",
       "3    Embraer - Empresa Brasileira de Aeronáutica S.A.   \n",
       "4    Embraer - Empresa Brasileira de Aeronáutica S.A.   \n",
       "..                                                ...   \n",
       "407                                              None   \n",
       "408                                              None   \n",
       "409                                              None   \n",
       "410                                              None   \n",
       "411                                              None   \n",
       "\n",
       "                             Address                 City State Country  \\\n",
       "0    Av. Brigadeiro Faria Lima, 2170  São José dos Campos    SP  Brazil   \n",
       "1    Av. Brigadeiro Faria Lima, 2170  São José dos Campos    SP  Brazil   \n",
       "2    Av. Brigadeiro Faria Lima, 2170  São José dos Campos    SP  Brazil   \n",
       "3    Av. Brigadeiro Faria Lima, 2170  São José dos Campos    SP  Brazil   \n",
       "4    Av. Brigadeiro Faria Lima, 2170  São José dos Campos    SP  Brazil   \n",
       "..                               ...                  ...   ...     ...   \n",
       "407                3,Raj Bhavan Road            Bangalore  None   India   \n",
       "408                3,Raj Bhavan Road            Bangalore  None   India   \n",
       "409                3,Raj Bhavan Road            Bangalore  None   India   \n",
       "410                3,Raj Bhavan Road            Bangalore  None   India   \n",
       "411                3,Raj Bhavan Road            Bangalore  None   India   \n",
       "\n",
       "    PostalCode               Phone  ... SupportRepId InvoiceId  CustomerId  \\\n",
       "0    12227-000  +55 (12) 3923-5555  ...            3        98           1   \n",
       "1    12227-000  +55 (12) 3923-5555  ...            3       121           1   \n",
       "2    12227-000  +55 (12) 3923-5555  ...            3       143           1   \n",
       "3    12227-000  +55 (12) 3923-5555  ...            3       195           1   \n",
       "4    12227-000  +55 (12) 3923-5555  ...            3       316           1   \n",
       "..         ...                 ...  ...          ...       ...         ...   \n",
       "407     560001    +91 080 22289999  ...            3        45          59   \n",
       "408     560001    +91 080 22289999  ...            3        97          59   \n",
       "409     560001    +91 080 22289999  ...            3       218          59   \n",
       "410     560001    +91 080 22289999  ...            3       229          59   \n",
       "411     560001    +91 080 22289999  ...            3       284          59   \n",
       "\n",
       "             InvoiceDate                   BillingAddress  \\\n",
       "0    2010-03-11 00:00:00  Av. Brigadeiro Faria Lima, 2170   \n",
       "1    2010-06-13 00:00:00  Av. Brigadeiro Faria Lima, 2170   \n",
       "2    2010-09-15 00:00:00  Av. Brigadeiro Faria Lima, 2170   \n",
       "3    2011-05-06 00:00:00  Av. Brigadeiro Faria Lima, 2170   \n",
       "4    2012-10-27 00:00:00  Av. Brigadeiro Faria Lima, 2170   \n",
       "..                   ...                              ...   \n",
       "407  2009-07-08 00:00:00                3,Raj Bhavan Road   \n",
       "408  2010-02-26 00:00:00                3,Raj Bhavan Road   \n",
       "409  2011-08-20 00:00:00                3,Raj Bhavan Road   \n",
       "410  2011-09-30 00:00:00                3,Raj Bhavan Road   \n",
       "411  2012-05-30 00:00:00                3,Raj Bhavan Road   \n",
       "\n",
       "             BillingCity BillingState BillingCountry BillingPostalCode  Total  \n",
       "0    São José dos Campos           SP         Brazil         12227-000   3.98  \n",
       "1    São José dos Campos           SP         Brazil         12227-000   3.96  \n",
       "2    São José dos Campos           SP         Brazil         12227-000   5.94  \n",
       "3    São José dos Campos           SP         Brazil         12227-000   0.99  \n",
       "4    São José dos Campos           SP         Brazil         12227-000   1.98  \n",
       "..                   ...          ...            ...               ...    ...  \n",
       "407            Bangalore         None          India            560001   5.94  \n",
       "408            Bangalore         None          India            560001   1.99  \n",
       "409            Bangalore         None          India            560001   1.98  \n",
       "410            Bangalore         None          India            560001  13.86  \n",
       "411            Bangalore         None          India            560001   8.91  \n",
       "\n",
       "[412 rows x 22 columns]"
      ],
      "text/html": "<div>\n<style scoped>\n    .dataframe tbody tr th:only-of-type {\n        vertical-align: middle;\n    }\n\n    .dataframe tbody tr th {\n        vertical-align: top;\n    }\n\n    .dataframe thead th {\n        text-align: right;\n    }\n</style>\n<table border=\"1\" class=\"dataframe\">\n  <thead>\n    <tr style=\"text-align: right;\">\n      <th></th>\n      <th>CustomerId</th>\n      <th>FirstName</th>\n      <th>LastName</th>\n      <th>Company</th>\n      <th>Address</th>\n      <th>City</th>\n      <th>State</th>\n      <th>Country</th>\n      <th>PostalCode</th>\n      <th>Phone</th>\n      <th>...</th>\n      <th>SupportRepId</th>\n      <th>InvoiceId</th>\n      <th>CustomerId</th>\n      <th>InvoiceDate</th>\n      <th>BillingAddress</th>\n      <th>BillingCity</th>\n      <th>BillingState</th>\n      <th>BillingCountry</th>\n      <th>BillingPostalCode</th>\n      <th>Total</th>\n    </tr>\n  </thead>\n  <tbody>\n    <tr>\n      <th>0</th>\n      <td>1</td>\n      <td>Luís</td>\n      <td>Gonçalves</td>\n      <td>Embraer - Empresa Brasileira de Aeronáutica S.A.</td>\n      <td>Av. Brigadeiro Faria Lima, 2170</td>\n      <td>São José dos Campos</td>\n      <td>SP</td>\n      <td>Brazil</td>\n      <td>12227-000</td>\n      <td>+55 (12) 3923-5555</td>\n      <td>...</td>\n      <td>3</td>\n      <td>98</td>\n      <td>1</td>\n      <td>2010-03-11 00:00:00</td>\n      <td>Av. Brigadeiro Faria Lima, 2170</td>\n      <td>São José dos Campos</td>\n      <td>SP</td>\n      <td>Brazil</td>\n      <td>12227-000</td>\n      <td>3.98</td>\n    </tr>\n    <tr>\n      <th>1</th>\n      <td>1</td>\n      <td>Luís</td>\n      <td>Gonçalves</td>\n      <td>Embraer - Empresa Brasileira de Aeronáutica S.A.</td>\n      <td>Av. Brigadeiro Faria Lima, 2170</td>\n      <td>São José dos Campos</td>\n      <td>SP</td>\n      <td>Brazil</td>\n      <td>12227-000</td>\n      <td>+55 (12) 3923-5555</td>\n      <td>...</td>\n      <td>3</td>\n      <td>121</td>\n      <td>1</td>\n      <td>2010-06-13 00:00:00</td>\n      <td>Av. Brigadeiro Faria Lima, 2170</td>\n      <td>São José dos Campos</td>\n      <td>SP</td>\n      <td>Brazil</td>\n      <td>12227-000</td>\n      <td>3.96</td>\n    </tr>\n    <tr>\n      <th>2</th>\n      <td>1</td>\n      <td>Luís</td>\n      <td>Gonçalves</td>\n      <td>Embraer - Empresa Brasileira de Aeronáutica S.A.</td>\n      <td>Av. Brigadeiro Faria Lima, 2170</td>\n      <td>São José dos Campos</td>\n      <td>SP</td>\n      <td>Brazil</td>\n      <td>12227-000</td>\n      <td>+55 (12) 3923-5555</td>\n      <td>...</td>\n      <td>3</td>\n      <td>143</td>\n      <td>1</td>\n      <td>2010-09-15 00:00:00</td>\n      <td>Av. Brigadeiro Faria Lima, 2170</td>\n      <td>São José dos Campos</td>\n      <td>SP</td>\n      <td>Brazil</td>\n      <td>12227-000</td>\n      <td>5.94</td>\n    </tr>\n    <tr>\n      <th>3</th>\n      <td>1</td>\n      <td>Luís</td>\n      <td>Gonçalves</td>\n      <td>Embraer - Empresa Brasileira de Aeronáutica S.A.</td>\n      <td>Av. Brigadeiro Faria Lima, 2170</td>\n      <td>São José dos Campos</td>\n      <td>SP</td>\n      <td>Brazil</td>\n      <td>12227-000</td>\n      <td>+55 (12) 3923-5555</td>\n      <td>...</td>\n      <td>3</td>\n      <td>195</td>\n      <td>1</td>\n      <td>2011-05-06 00:00:00</td>\n      <td>Av. Brigadeiro Faria Lima, 2170</td>\n      <td>São José dos Campos</td>\n      <td>SP</td>\n      <td>Brazil</td>\n      <td>12227-000</td>\n      <td>0.99</td>\n    </tr>\n    <tr>\n      <th>4</th>\n      <td>1</td>\n      <td>Luís</td>\n      <td>Gonçalves</td>\n      <td>Embraer - Empresa Brasileira de Aeronáutica S.A.</td>\n      <td>Av. Brigadeiro Faria Lima, 2170</td>\n      <td>São José dos Campos</td>\n      <td>SP</td>\n      <td>Brazil</td>\n      <td>12227-000</td>\n      <td>+55 (12) 3923-5555</td>\n      <td>...</td>\n      <td>3</td>\n      <td>316</td>\n      <td>1</td>\n      <td>2012-10-27 00:00:00</td>\n      <td>Av. Brigadeiro Faria Lima, 2170</td>\n      <td>São José dos Campos</td>\n      <td>SP</td>\n      <td>Brazil</td>\n      <td>12227-000</td>\n      <td>1.98</td>\n    </tr>\n    <tr>\n      <th>...</th>\n      <td>...</td>\n      <td>...</td>\n      <td>...</td>\n      <td>...</td>\n      <td>...</td>\n      <td>...</td>\n      <td>...</td>\n      <td>...</td>\n      <td>...</td>\n      <td>...</td>\n      <td>...</td>\n      <td>...</td>\n      <td>...</td>\n      <td>...</td>\n      <td>...</td>\n      <td>...</td>\n      <td>...</td>\n      <td>...</td>\n      <td>...</td>\n      <td>...</td>\n      <td>...</td>\n    </tr>\n    <tr>\n      <th>407</th>\n      <td>59</td>\n      <td>Puja</td>\n      <td>Srivastava</td>\n      <td>None</td>\n      <td>3,Raj Bhavan Road</td>\n      <td>Bangalore</td>\n      <td>None</td>\n      <td>India</td>\n      <td>560001</td>\n      <td>+91 080 22289999</td>\n      <td>...</td>\n      <td>3</td>\n      <td>45</td>\n      <td>59</td>\n      <td>2009-07-08 00:00:00</td>\n      <td>3,Raj Bhavan Road</td>\n      <td>Bangalore</td>\n      <td>None</td>\n      <td>India</td>\n      <td>560001</td>\n      <td>5.94</td>\n    </tr>\n    <tr>\n      <th>408</th>\n      <td>59</td>\n      <td>Puja</td>\n      <td>Srivastava</td>\n      <td>None</td>\n      <td>3,Raj Bhavan Road</td>\n      <td>Bangalore</td>\n      <td>None</td>\n      <td>India</td>\n      <td>560001</td>\n      <td>+91 080 22289999</td>\n      <td>...</td>\n      <td>3</td>\n      <td>97</td>\n      <td>59</td>\n      <td>2010-02-26 00:00:00</td>\n      <td>3,Raj Bhavan Road</td>\n      <td>Bangalore</td>\n      <td>None</td>\n      <td>India</td>\n      <td>560001</td>\n      <td>1.99</td>\n    </tr>\n    <tr>\n      <th>409</th>\n      <td>59</td>\n      <td>Puja</td>\n      <td>Srivastava</td>\n      <td>None</td>\n      <td>3,Raj Bhavan Road</td>\n      <td>Bangalore</td>\n      <td>None</td>\n      <td>India</td>\n      <td>560001</td>\n      <td>+91 080 22289999</td>\n      <td>...</td>\n      <td>3</td>\n      <td>218</td>\n      <td>59</td>\n      <td>2011-08-20 00:00:00</td>\n      <td>3,Raj Bhavan Road</td>\n      <td>Bangalore</td>\n      <td>None</td>\n      <td>India</td>\n      <td>560001</td>\n      <td>1.98</td>\n    </tr>\n    <tr>\n      <th>410</th>\n      <td>59</td>\n      <td>Puja</td>\n      <td>Srivastava</td>\n      <td>None</td>\n      <td>3,Raj Bhavan Road</td>\n      <td>Bangalore</td>\n      <td>None</td>\n      <td>India</td>\n      <td>560001</td>\n      <td>+91 080 22289999</td>\n      <td>...</td>\n      <td>3</td>\n      <td>229</td>\n      <td>59</td>\n      <td>2011-09-30 00:00:00</td>\n      <td>3,Raj Bhavan Road</td>\n      <td>Bangalore</td>\n      <td>None</td>\n      <td>India</td>\n      <td>560001</td>\n      <td>13.86</td>\n    </tr>\n    <tr>\n      <th>411</th>\n      <td>59</td>\n      <td>Puja</td>\n      <td>Srivastava</td>\n      <td>None</td>\n      <td>3,Raj Bhavan Road</td>\n      <td>Bangalore</td>\n      <td>None</td>\n      <td>India</td>\n      <td>560001</td>\n      <td>+91 080 22289999</td>\n      <td>...</td>\n      <td>3</td>\n      <td>284</td>\n      <td>59</td>\n      <td>2012-05-30 00:00:00</td>\n      <td>3,Raj Bhavan Road</td>\n      <td>Bangalore</td>\n      <td>None</td>\n      <td>India</td>\n      <td>560001</td>\n      <td>8.91</td>\n    </tr>\n  </tbody>\n</table>\n<p>412 rows × 22 columns</p>\n</div>"
     },
     "metadata": {},
     "execution_count": 12
    }
   ],
   "source": [
    "query = \"\"\"\n",
    "SELECT *\n",
    "FROM customers\n",
    "JOIN invoices ON customers.CustomerID= invoices.customerID\n",
    "\"\"\"\n",
    "pd.read_sql_query(query, conn)"
   ]
  },
  {
   "cell_type": "code",
   "execution_count": 13,
   "metadata": {},
   "outputs": [
    {
     "output_type": "execute_result",
     "data": {
      "text/plain": [
       "    FirstName   LastName  InvoiceId          InvoiceDate BillingCountry\n",
       "0        Luís  Gonçalves         98  2010-03-11 00:00:00         Brazil\n",
       "1        Luís  Gonçalves        121  2010-06-13 00:00:00         Brazil\n",
       "2        Luís  Gonçalves        143  2010-09-15 00:00:00         Brazil\n",
       "3        Luís  Gonçalves        195  2011-05-06 00:00:00         Brazil\n",
       "4        Luís  Gonçalves        316  2012-10-27 00:00:00         Brazil\n",
       "5        Luís  Gonçalves        327  2012-12-07 00:00:00         Brazil\n",
       "6        Luís  Gonçalves        382  2013-08-07 00:00:00         Brazil\n",
       "7     Eduardo    Martins         25  2009-04-09 00:00:00         Brazil\n",
       "8     Eduardo    Martins        154  2010-11-14 00:00:00         Brazil\n",
       "9     Eduardo    Martins        177  2011-02-16 00:00:00         Brazil\n",
       "10    Eduardo    Martins        199  2011-05-21 00:00:00         Brazil\n",
       "11    Eduardo    Martins        251  2012-01-09 00:00:00         Brazil\n",
       "12    Eduardo    Martins        372  2013-07-02 00:00:00         Brazil\n",
       "13    Eduardo    Martins        383  2013-08-12 00:00:00         Brazil\n",
       "14  Alexandre      Rocha         57  2009-09-06 00:00:00         Brazil\n",
       "15  Alexandre      Rocha         68  2009-10-17 00:00:00         Brazil\n",
       "16  Alexandre      Rocha        123  2010-06-17 00:00:00         Brazil\n",
       "17  Alexandre      Rocha        252  2012-01-22 00:00:00         Brazil\n",
       "18  Alexandre      Rocha        275  2012-04-25 00:00:00         Brazil\n",
       "19  Alexandre      Rocha        297  2012-07-28 00:00:00         Brazil\n",
       "20  Alexandre      Rocha        349  2013-03-18 00:00:00         Brazil\n",
       "21    Roberto    Almeida         34  2009-05-23 00:00:00         Brazil\n",
       "22    Roberto    Almeida        155  2010-11-14 00:00:00         Brazil\n",
       "23    Roberto    Almeida        166  2010-12-25 00:00:00         Brazil\n",
       "24    Roberto    Almeida        221  2011-08-25 00:00:00         Brazil\n",
       "25    Roberto    Almeida        350  2013-03-31 00:00:00         Brazil\n",
       "26    Roberto    Almeida        373  2013-07-03 00:00:00         Brazil\n",
       "27    Roberto    Almeida        395  2013-10-05 00:00:00         Brazil\n",
       "28   Fernanda      Ramos         35  2009-06-05 00:00:00         Brazil\n",
       "29   Fernanda      Ramos         58  2009-09-07 00:00:00         Brazil\n",
       "30   Fernanda      Ramos         80  2009-12-10 00:00:00         Brazil\n",
       "31   Fernanda      Ramos        132  2010-07-31 00:00:00         Brazil\n",
       "32   Fernanda      Ramos        253  2012-01-22 00:00:00         Brazil\n",
       "33   Fernanda      Ramos        264  2012-03-03 00:00:00         Brazil\n",
       "34   Fernanda      Ramos        319  2012-11-01 00:00:00         Brazil"
      ],
      "text/html": "<div>\n<style scoped>\n    .dataframe tbody tr th:only-of-type {\n        vertical-align: middle;\n    }\n\n    .dataframe tbody tr th {\n        vertical-align: top;\n    }\n\n    .dataframe thead th {\n        text-align: right;\n    }\n</style>\n<table border=\"1\" class=\"dataframe\">\n  <thead>\n    <tr style=\"text-align: right;\">\n      <th></th>\n      <th>FirstName</th>\n      <th>LastName</th>\n      <th>InvoiceId</th>\n      <th>InvoiceDate</th>\n      <th>BillingCountry</th>\n    </tr>\n  </thead>\n  <tbody>\n    <tr>\n      <th>0</th>\n      <td>Luís</td>\n      <td>Gonçalves</td>\n      <td>98</td>\n      <td>2010-03-11 00:00:00</td>\n      <td>Brazil</td>\n    </tr>\n    <tr>\n      <th>1</th>\n      <td>Luís</td>\n      <td>Gonçalves</td>\n      <td>121</td>\n      <td>2010-06-13 00:00:00</td>\n      <td>Brazil</td>\n    </tr>\n    <tr>\n      <th>2</th>\n      <td>Luís</td>\n      <td>Gonçalves</td>\n      <td>143</td>\n      <td>2010-09-15 00:00:00</td>\n      <td>Brazil</td>\n    </tr>\n    <tr>\n      <th>3</th>\n      <td>Luís</td>\n      <td>Gonçalves</td>\n      <td>195</td>\n      <td>2011-05-06 00:00:00</td>\n      <td>Brazil</td>\n    </tr>\n    <tr>\n      <th>4</th>\n      <td>Luís</td>\n      <td>Gonçalves</td>\n      <td>316</td>\n      <td>2012-10-27 00:00:00</td>\n      <td>Brazil</td>\n    </tr>\n    <tr>\n      <th>5</th>\n      <td>Luís</td>\n      <td>Gonçalves</td>\n      <td>327</td>\n      <td>2012-12-07 00:00:00</td>\n      <td>Brazil</td>\n    </tr>\n    <tr>\n      <th>6</th>\n      <td>Luís</td>\n      <td>Gonçalves</td>\n      <td>382</td>\n      <td>2013-08-07 00:00:00</td>\n      <td>Brazil</td>\n    </tr>\n    <tr>\n      <th>7</th>\n      <td>Eduardo</td>\n      <td>Martins</td>\n      <td>25</td>\n      <td>2009-04-09 00:00:00</td>\n      <td>Brazil</td>\n    </tr>\n    <tr>\n      <th>8</th>\n      <td>Eduardo</td>\n      <td>Martins</td>\n      <td>154</td>\n      <td>2010-11-14 00:00:00</td>\n      <td>Brazil</td>\n    </tr>\n    <tr>\n      <th>9</th>\n      <td>Eduardo</td>\n      <td>Martins</td>\n      <td>177</td>\n      <td>2011-02-16 00:00:00</td>\n      <td>Brazil</td>\n    </tr>\n    <tr>\n      <th>10</th>\n      <td>Eduardo</td>\n      <td>Martins</td>\n      <td>199</td>\n      <td>2011-05-21 00:00:00</td>\n      <td>Brazil</td>\n    </tr>\n    <tr>\n      <th>11</th>\n      <td>Eduardo</td>\n      <td>Martins</td>\n      <td>251</td>\n      <td>2012-01-09 00:00:00</td>\n      <td>Brazil</td>\n    </tr>\n    <tr>\n      <th>12</th>\n      <td>Eduardo</td>\n      <td>Martins</td>\n      <td>372</td>\n      <td>2013-07-02 00:00:00</td>\n      <td>Brazil</td>\n    </tr>\n    <tr>\n      <th>13</th>\n      <td>Eduardo</td>\n      <td>Martins</td>\n      <td>383</td>\n      <td>2013-08-12 00:00:00</td>\n      <td>Brazil</td>\n    </tr>\n    <tr>\n      <th>14</th>\n      <td>Alexandre</td>\n      <td>Rocha</td>\n      <td>57</td>\n      <td>2009-09-06 00:00:00</td>\n      <td>Brazil</td>\n    </tr>\n    <tr>\n      <th>15</th>\n      <td>Alexandre</td>\n      <td>Rocha</td>\n      <td>68</td>\n      <td>2009-10-17 00:00:00</td>\n      <td>Brazil</td>\n    </tr>\n    <tr>\n      <th>16</th>\n      <td>Alexandre</td>\n      <td>Rocha</td>\n      <td>123</td>\n      <td>2010-06-17 00:00:00</td>\n      <td>Brazil</td>\n    </tr>\n    <tr>\n      <th>17</th>\n      <td>Alexandre</td>\n      <td>Rocha</td>\n      <td>252</td>\n      <td>2012-01-22 00:00:00</td>\n      <td>Brazil</td>\n    </tr>\n    <tr>\n      <th>18</th>\n      <td>Alexandre</td>\n      <td>Rocha</td>\n      <td>275</td>\n      <td>2012-04-25 00:00:00</td>\n      <td>Brazil</td>\n    </tr>\n    <tr>\n      <th>19</th>\n      <td>Alexandre</td>\n      <td>Rocha</td>\n      <td>297</td>\n      <td>2012-07-28 00:00:00</td>\n      <td>Brazil</td>\n    </tr>\n    <tr>\n      <th>20</th>\n      <td>Alexandre</td>\n      <td>Rocha</td>\n      <td>349</td>\n      <td>2013-03-18 00:00:00</td>\n      <td>Brazil</td>\n    </tr>\n    <tr>\n      <th>21</th>\n      <td>Roberto</td>\n      <td>Almeida</td>\n      <td>34</td>\n      <td>2009-05-23 00:00:00</td>\n      <td>Brazil</td>\n    </tr>\n    <tr>\n      <th>22</th>\n      <td>Roberto</td>\n      <td>Almeida</td>\n      <td>155</td>\n      <td>2010-11-14 00:00:00</td>\n      <td>Brazil</td>\n    </tr>\n    <tr>\n      <th>23</th>\n      <td>Roberto</td>\n      <td>Almeida</td>\n      <td>166</td>\n      <td>2010-12-25 00:00:00</td>\n      <td>Brazil</td>\n    </tr>\n    <tr>\n      <th>24</th>\n      <td>Roberto</td>\n      <td>Almeida</td>\n      <td>221</td>\n      <td>2011-08-25 00:00:00</td>\n      <td>Brazil</td>\n    </tr>\n    <tr>\n      <th>25</th>\n      <td>Roberto</td>\n      <td>Almeida</td>\n      <td>350</td>\n      <td>2013-03-31 00:00:00</td>\n      <td>Brazil</td>\n    </tr>\n    <tr>\n      <th>26</th>\n      <td>Roberto</td>\n      <td>Almeida</td>\n      <td>373</td>\n      <td>2013-07-03 00:00:00</td>\n      <td>Brazil</td>\n    </tr>\n    <tr>\n      <th>27</th>\n      <td>Roberto</td>\n      <td>Almeida</td>\n      <td>395</td>\n      <td>2013-10-05 00:00:00</td>\n      <td>Brazil</td>\n    </tr>\n    <tr>\n      <th>28</th>\n      <td>Fernanda</td>\n      <td>Ramos</td>\n      <td>35</td>\n      <td>2009-06-05 00:00:00</td>\n      <td>Brazil</td>\n    </tr>\n    <tr>\n      <th>29</th>\n      <td>Fernanda</td>\n      <td>Ramos</td>\n      <td>58</td>\n      <td>2009-09-07 00:00:00</td>\n      <td>Brazil</td>\n    </tr>\n    <tr>\n      <th>30</th>\n      <td>Fernanda</td>\n      <td>Ramos</td>\n      <td>80</td>\n      <td>2009-12-10 00:00:00</td>\n      <td>Brazil</td>\n    </tr>\n    <tr>\n      <th>31</th>\n      <td>Fernanda</td>\n      <td>Ramos</td>\n      <td>132</td>\n      <td>2010-07-31 00:00:00</td>\n      <td>Brazil</td>\n    </tr>\n    <tr>\n      <th>32</th>\n      <td>Fernanda</td>\n      <td>Ramos</td>\n      <td>253</td>\n      <td>2012-01-22 00:00:00</td>\n      <td>Brazil</td>\n    </tr>\n    <tr>\n      <th>33</th>\n      <td>Fernanda</td>\n      <td>Ramos</td>\n      <td>264</td>\n      <td>2012-03-03 00:00:00</td>\n      <td>Brazil</td>\n    </tr>\n    <tr>\n      <th>34</th>\n      <td>Fernanda</td>\n      <td>Ramos</td>\n      <td>319</td>\n      <td>2012-11-01 00:00:00</td>\n      <td>Brazil</td>\n    </tr>\n  </tbody>\n</table>\n</div>"
     },
     "metadata": {},
     "execution_count": 13
    }
   ],
   "source": [
    "query = \"\"\"\n",
    "SELECT c.FirstName, c.LastName, i.InvoiceId, i.InvoiceDate, i.BillingCountry\n",
    "FROM customers c\n",
    "JOIN invoices i ON c.CustomerId= i.customerId\n",
    "WHERE  c.Country= \"Brazil\"\n",
    "\"\"\"\n",
    "pd.read_sql_query(query, conn)"
   ]
  },
  {
   "cell_type": "code",
   "execution_count": 14,
   "metadata": {},
   "outputs": [
    {
     "output_type": "execute_result",
     "data": {
      "text/plain": [
       "    InvoiceId  CustomerId          InvoiceDate  \\\n",
       "0          98           1  2010-03-11 00:00:00   \n",
       "1         121           1  2010-06-13 00:00:00   \n",
       "2         143           1  2010-09-15 00:00:00   \n",
       "3         195           1  2011-05-06 00:00:00   \n",
       "4         316           1  2012-10-27 00:00:00   \n",
       "5         327           1  2012-12-07 00:00:00   \n",
       "6         382           1  2013-08-07 00:00:00   \n",
       "7          25          10  2009-04-09 00:00:00   \n",
       "8         154          10  2010-11-14 00:00:00   \n",
       "9         177          10  2011-02-16 00:00:00   \n",
       "10        199          10  2011-05-21 00:00:00   \n",
       "11        251          10  2012-01-09 00:00:00   \n",
       "12        372          10  2013-07-02 00:00:00   \n",
       "13        383          10  2013-08-12 00:00:00   \n",
       "14         57          11  2009-09-06 00:00:00   \n",
       "15         68          11  2009-10-17 00:00:00   \n",
       "16        123          11  2010-06-17 00:00:00   \n",
       "17        252          11  2012-01-22 00:00:00   \n",
       "18        275          11  2012-04-25 00:00:00   \n",
       "19        297          11  2012-07-28 00:00:00   \n",
       "20        349          11  2013-03-18 00:00:00   \n",
       "21         34          12  2009-05-23 00:00:00   \n",
       "22        155          12  2010-11-14 00:00:00   \n",
       "23        166          12  2010-12-25 00:00:00   \n",
       "24        221          12  2011-08-25 00:00:00   \n",
       "25        350          12  2013-03-31 00:00:00   \n",
       "26        373          12  2013-07-03 00:00:00   \n",
       "27        395          12  2013-10-05 00:00:00   \n",
       "28         35          13  2009-06-05 00:00:00   \n",
       "29         58          13  2009-09-07 00:00:00   \n",
       "30         80          13  2009-12-10 00:00:00   \n",
       "31        132          13  2010-07-31 00:00:00   \n",
       "32        253          13  2012-01-22 00:00:00   \n",
       "33        264          13  2012-03-03 00:00:00   \n",
       "34        319          13  2012-11-01 00:00:00   \n",
       "\n",
       "                     BillingAddress          BillingCity BillingState  \\\n",
       "0   Av. Brigadeiro Faria Lima, 2170  São José dos Campos           SP   \n",
       "1   Av. Brigadeiro Faria Lima, 2170  São José dos Campos           SP   \n",
       "2   Av. Brigadeiro Faria Lima, 2170  São José dos Campos           SP   \n",
       "3   Av. Brigadeiro Faria Lima, 2170  São José dos Campos           SP   \n",
       "4   Av. Brigadeiro Faria Lima, 2170  São José dos Campos           SP   \n",
       "5   Av. Brigadeiro Faria Lima, 2170  São José dos Campos           SP   \n",
       "6   Av. Brigadeiro Faria Lima, 2170  São José dos Campos           SP   \n",
       "7         Rua Dr. Falcão Filho, 155            São Paulo           SP   \n",
       "8         Rua Dr. Falcão Filho, 155            São Paulo           SP   \n",
       "9         Rua Dr. Falcão Filho, 155            São Paulo           SP   \n",
       "10        Rua Dr. Falcão Filho, 155            São Paulo           SP   \n",
       "11        Rua Dr. Falcão Filho, 155            São Paulo           SP   \n",
       "12        Rua Dr. Falcão Filho, 155            São Paulo           SP   \n",
       "13        Rua Dr. Falcão Filho, 155            São Paulo           SP   \n",
       "14               Av. Paulista, 2022            São Paulo           SP   \n",
       "15               Av. Paulista, 2022            São Paulo           SP   \n",
       "16               Av. Paulista, 2022            São Paulo           SP   \n",
       "17               Av. Paulista, 2022            São Paulo           SP   \n",
       "18               Av. Paulista, 2022            São Paulo           SP   \n",
       "19               Av. Paulista, 2022            São Paulo           SP   \n",
       "20               Av. Paulista, 2022            São Paulo           SP   \n",
       "21                 Praça Pio X, 119       Rio de Janeiro           RJ   \n",
       "22                 Praça Pio X, 119       Rio de Janeiro           RJ   \n",
       "23                 Praça Pio X, 119       Rio de Janeiro           RJ   \n",
       "24                 Praça Pio X, 119       Rio de Janeiro           RJ   \n",
       "25                 Praça Pio X, 119       Rio de Janeiro           RJ   \n",
       "26                 Praça Pio X, 119       Rio de Janeiro           RJ   \n",
       "27                 Praça Pio X, 119       Rio de Janeiro           RJ   \n",
       "28                     Qe 7 Bloco G             Brasília           DF   \n",
       "29                     Qe 7 Bloco G             Brasília           DF   \n",
       "30                     Qe 7 Bloco G             Brasília           DF   \n",
       "31                     Qe 7 Bloco G             Brasília           DF   \n",
       "32                     Qe 7 Bloco G             Brasília           DF   \n",
       "33                     Qe 7 Bloco G             Brasília           DF   \n",
       "34                     Qe 7 Bloco G             Brasília           DF   \n",
       "\n",
       "   BillingCountry BillingPostalCode  Total  \n",
       "0          Brazil         12227-000   3.98  \n",
       "1          Brazil         12227-000   3.96  \n",
       "2          Brazil         12227-000   5.94  \n",
       "3          Brazil         12227-000   0.99  \n",
       "4          Brazil         12227-000   1.98  \n",
       "5          Brazil         12227-000  13.86  \n",
       "6          Brazil         12227-000   8.91  \n",
       "7          Brazil         01007-010   8.91  \n",
       "8          Brazil         01007-010   1.98  \n",
       "9          Brazil         01007-010   3.96  \n",
       "10         Brazil         01007-010   5.94  \n",
       "11         Brazil         01007-010   0.99  \n",
       "12         Brazil         01007-010   1.98  \n",
       "13         Brazil         01007-010  13.86  \n",
       "14         Brazil         01310-200   1.98  \n",
       "15         Brazil         01310-200  13.86  \n",
       "16         Brazil         01310-200   8.91  \n",
       "17         Brazil         01310-200   1.98  \n",
       "18         Brazil         01310-200   3.96  \n",
       "19         Brazil         01310-200   5.94  \n",
       "20         Brazil         01310-200   0.99  \n",
       "21         Brazil         20040-020   0.99  \n",
       "22         Brazil         20040-020   1.98  \n",
       "23         Brazil         20040-020  13.86  \n",
       "24         Brazil         20040-020   8.91  \n",
       "25         Brazil         20040-020   1.98  \n",
       "26         Brazil         20040-020   3.96  \n",
       "27         Brazil         20040-020   5.94  \n",
       "28         Brazil         71020-677   1.98  \n",
       "29         Brazil         71020-677   3.96  \n",
       "30         Brazil         71020-677   5.94  \n",
       "31         Brazil         71020-677   0.99  \n",
       "32         Brazil         71020-677   1.98  \n",
       "33         Brazil         71020-677  13.86  \n",
       "34         Brazil         71020-677   8.91  "
      ],
      "text/html": "<div>\n<style scoped>\n    .dataframe tbody tr th:only-of-type {\n        vertical-align: middle;\n    }\n\n    .dataframe tbody tr th {\n        vertical-align: top;\n    }\n\n    .dataframe thead th {\n        text-align: right;\n    }\n</style>\n<table border=\"1\" class=\"dataframe\">\n  <thead>\n    <tr style=\"text-align: right;\">\n      <th></th>\n      <th>InvoiceId</th>\n      <th>CustomerId</th>\n      <th>InvoiceDate</th>\n      <th>BillingAddress</th>\n      <th>BillingCity</th>\n      <th>BillingState</th>\n      <th>BillingCountry</th>\n      <th>BillingPostalCode</th>\n      <th>Total</th>\n    </tr>\n  </thead>\n  <tbody>\n    <tr>\n      <th>0</th>\n      <td>98</td>\n      <td>1</td>\n      <td>2010-03-11 00:00:00</td>\n      <td>Av. Brigadeiro Faria Lima, 2170</td>\n      <td>São José dos Campos</td>\n      <td>SP</td>\n      <td>Brazil</td>\n      <td>12227-000</td>\n      <td>3.98</td>\n    </tr>\n    <tr>\n      <th>1</th>\n      <td>121</td>\n      <td>1</td>\n      <td>2010-06-13 00:00:00</td>\n      <td>Av. Brigadeiro Faria Lima, 2170</td>\n      <td>São José dos Campos</td>\n      <td>SP</td>\n      <td>Brazil</td>\n      <td>12227-000</td>\n      <td>3.96</td>\n    </tr>\n    <tr>\n      <th>2</th>\n      <td>143</td>\n      <td>1</td>\n      <td>2010-09-15 00:00:00</td>\n      <td>Av. Brigadeiro Faria Lima, 2170</td>\n      <td>São José dos Campos</td>\n      <td>SP</td>\n      <td>Brazil</td>\n      <td>12227-000</td>\n      <td>5.94</td>\n    </tr>\n    <tr>\n      <th>3</th>\n      <td>195</td>\n      <td>1</td>\n      <td>2011-05-06 00:00:00</td>\n      <td>Av. Brigadeiro Faria Lima, 2170</td>\n      <td>São José dos Campos</td>\n      <td>SP</td>\n      <td>Brazil</td>\n      <td>12227-000</td>\n      <td>0.99</td>\n    </tr>\n    <tr>\n      <th>4</th>\n      <td>316</td>\n      <td>1</td>\n      <td>2012-10-27 00:00:00</td>\n      <td>Av. Brigadeiro Faria Lima, 2170</td>\n      <td>São José dos Campos</td>\n      <td>SP</td>\n      <td>Brazil</td>\n      <td>12227-000</td>\n      <td>1.98</td>\n    </tr>\n    <tr>\n      <th>5</th>\n      <td>327</td>\n      <td>1</td>\n      <td>2012-12-07 00:00:00</td>\n      <td>Av. Brigadeiro Faria Lima, 2170</td>\n      <td>São José dos Campos</td>\n      <td>SP</td>\n      <td>Brazil</td>\n      <td>12227-000</td>\n      <td>13.86</td>\n    </tr>\n    <tr>\n      <th>6</th>\n      <td>382</td>\n      <td>1</td>\n      <td>2013-08-07 00:00:00</td>\n      <td>Av. Brigadeiro Faria Lima, 2170</td>\n      <td>São José dos Campos</td>\n      <td>SP</td>\n      <td>Brazil</td>\n      <td>12227-000</td>\n      <td>8.91</td>\n    </tr>\n    <tr>\n      <th>7</th>\n      <td>25</td>\n      <td>10</td>\n      <td>2009-04-09 00:00:00</td>\n      <td>Rua Dr. Falcão Filho, 155</td>\n      <td>São Paulo</td>\n      <td>SP</td>\n      <td>Brazil</td>\n      <td>01007-010</td>\n      <td>8.91</td>\n    </tr>\n    <tr>\n      <th>8</th>\n      <td>154</td>\n      <td>10</td>\n      <td>2010-11-14 00:00:00</td>\n      <td>Rua Dr. Falcão Filho, 155</td>\n      <td>São Paulo</td>\n      <td>SP</td>\n      <td>Brazil</td>\n      <td>01007-010</td>\n      <td>1.98</td>\n    </tr>\n    <tr>\n      <th>9</th>\n      <td>177</td>\n      <td>10</td>\n      <td>2011-02-16 00:00:00</td>\n      <td>Rua Dr. Falcão Filho, 155</td>\n      <td>São Paulo</td>\n      <td>SP</td>\n      <td>Brazil</td>\n      <td>01007-010</td>\n      <td>3.96</td>\n    </tr>\n    <tr>\n      <th>10</th>\n      <td>199</td>\n      <td>10</td>\n      <td>2011-05-21 00:00:00</td>\n      <td>Rua Dr. Falcão Filho, 155</td>\n      <td>São Paulo</td>\n      <td>SP</td>\n      <td>Brazil</td>\n      <td>01007-010</td>\n      <td>5.94</td>\n    </tr>\n    <tr>\n      <th>11</th>\n      <td>251</td>\n      <td>10</td>\n      <td>2012-01-09 00:00:00</td>\n      <td>Rua Dr. Falcão Filho, 155</td>\n      <td>São Paulo</td>\n      <td>SP</td>\n      <td>Brazil</td>\n      <td>01007-010</td>\n      <td>0.99</td>\n    </tr>\n    <tr>\n      <th>12</th>\n      <td>372</td>\n      <td>10</td>\n      <td>2013-07-02 00:00:00</td>\n      <td>Rua Dr. Falcão Filho, 155</td>\n      <td>São Paulo</td>\n      <td>SP</td>\n      <td>Brazil</td>\n      <td>01007-010</td>\n      <td>1.98</td>\n    </tr>\n    <tr>\n      <th>13</th>\n      <td>383</td>\n      <td>10</td>\n      <td>2013-08-12 00:00:00</td>\n      <td>Rua Dr. Falcão Filho, 155</td>\n      <td>São Paulo</td>\n      <td>SP</td>\n      <td>Brazil</td>\n      <td>01007-010</td>\n      <td>13.86</td>\n    </tr>\n    <tr>\n      <th>14</th>\n      <td>57</td>\n      <td>11</td>\n      <td>2009-09-06 00:00:00</td>\n      <td>Av. Paulista, 2022</td>\n      <td>São Paulo</td>\n      <td>SP</td>\n      <td>Brazil</td>\n      <td>01310-200</td>\n      <td>1.98</td>\n    </tr>\n    <tr>\n      <th>15</th>\n      <td>68</td>\n      <td>11</td>\n      <td>2009-10-17 00:00:00</td>\n      <td>Av. Paulista, 2022</td>\n      <td>São Paulo</td>\n      <td>SP</td>\n      <td>Brazil</td>\n      <td>01310-200</td>\n      <td>13.86</td>\n    </tr>\n    <tr>\n      <th>16</th>\n      <td>123</td>\n      <td>11</td>\n      <td>2010-06-17 00:00:00</td>\n      <td>Av. Paulista, 2022</td>\n      <td>São Paulo</td>\n      <td>SP</td>\n      <td>Brazil</td>\n      <td>01310-200</td>\n      <td>8.91</td>\n    </tr>\n    <tr>\n      <th>17</th>\n      <td>252</td>\n      <td>11</td>\n      <td>2012-01-22 00:00:00</td>\n      <td>Av. Paulista, 2022</td>\n      <td>São Paulo</td>\n      <td>SP</td>\n      <td>Brazil</td>\n      <td>01310-200</td>\n      <td>1.98</td>\n    </tr>\n    <tr>\n      <th>18</th>\n      <td>275</td>\n      <td>11</td>\n      <td>2012-04-25 00:00:00</td>\n      <td>Av. Paulista, 2022</td>\n      <td>São Paulo</td>\n      <td>SP</td>\n      <td>Brazil</td>\n      <td>01310-200</td>\n      <td>3.96</td>\n    </tr>\n    <tr>\n      <th>19</th>\n      <td>297</td>\n      <td>11</td>\n      <td>2012-07-28 00:00:00</td>\n      <td>Av. Paulista, 2022</td>\n      <td>São Paulo</td>\n      <td>SP</td>\n      <td>Brazil</td>\n      <td>01310-200</td>\n      <td>5.94</td>\n    </tr>\n    <tr>\n      <th>20</th>\n      <td>349</td>\n      <td>11</td>\n      <td>2013-03-18 00:00:00</td>\n      <td>Av. Paulista, 2022</td>\n      <td>São Paulo</td>\n      <td>SP</td>\n      <td>Brazil</td>\n      <td>01310-200</td>\n      <td>0.99</td>\n    </tr>\n    <tr>\n      <th>21</th>\n      <td>34</td>\n      <td>12</td>\n      <td>2009-05-23 00:00:00</td>\n      <td>Praça Pio X, 119</td>\n      <td>Rio de Janeiro</td>\n      <td>RJ</td>\n      <td>Brazil</td>\n      <td>20040-020</td>\n      <td>0.99</td>\n    </tr>\n    <tr>\n      <th>22</th>\n      <td>155</td>\n      <td>12</td>\n      <td>2010-11-14 00:00:00</td>\n      <td>Praça Pio X, 119</td>\n      <td>Rio de Janeiro</td>\n      <td>RJ</td>\n      <td>Brazil</td>\n      <td>20040-020</td>\n      <td>1.98</td>\n    </tr>\n    <tr>\n      <th>23</th>\n      <td>166</td>\n      <td>12</td>\n      <td>2010-12-25 00:00:00</td>\n      <td>Praça Pio X, 119</td>\n      <td>Rio de Janeiro</td>\n      <td>RJ</td>\n      <td>Brazil</td>\n      <td>20040-020</td>\n      <td>13.86</td>\n    </tr>\n    <tr>\n      <th>24</th>\n      <td>221</td>\n      <td>12</td>\n      <td>2011-08-25 00:00:00</td>\n      <td>Praça Pio X, 119</td>\n      <td>Rio de Janeiro</td>\n      <td>RJ</td>\n      <td>Brazil</td>\n      <td>20040-020</td>\n      <td>8.91</td>\n    </tr>\n    <tr>\n      <th>25</th>\n      <td>350</td>\n      <td>12</td>\n      <td>2013-03-31 00:00:00</td>\n      <td>Praça Pio X, 119</td>\n      <td>Rio de Janeiro</td>\n      <td>RJ</td>\n      <td>Brazil</td>\n      <td>20040-020</td>\n      <td>1.98</td>\n    </tr>\n    <tr>\n      <th>26</th>\n      <td>373</td>\n      <td>12</td>\n      <td>2013-07-03 00:00:00</td>\n      <td>Praça Pio X, 119</td>\n      <td>Rio de Janeiro</td>\n      <td>RJ</td>\n      <td>Brazil</td>\n      <td>20040-020</td>\n      <td>3.96</td>\n    </tr>\n    <tr>\n      <th>27</th>\n      <td>395</td>\n      <td>12</td>\n      <td>2013-10-05 00:00:00</td>\n      <td>Praça Pio X, 119</td>\n      <td>Rio de Janeiro</td>\n      <td>RJ</td>\n      <td>Brazil</td>\n      <td>20040-020</td>\n      <td>5.94</td>\n    </tr>\n    <tr>\n      <th>28</th>\n      <td>35</td>\n      <td>13</td>\n      <td>2009-06-05 00:00:00</td>\n      <td>Qe 7 Bloco G</td>\n      <td>Brasília</td>\n      <td>DF</td>\n      <td>Brazil</td>\n      <td>71020-677</td>\n      <td>1.98</td>\n    </tr>\n    <tr>\n      <th>29</th>\n      <td>58</td>\n      <td>13</td>\n      <td>2009-09-07 00:00:00</td>\n      <td>Qe 7 Bloco G</td>\n      <td>Brasília</td>\n      <td>DF</td>\n      <td>Brazil</td>\n      <td>71020-677</td>\n      <td>3.96</td>\n    </tr>\n    <tr>\n      <th>30</th>\n      <td>80</td>\n      <td>13</td>\n      <td>2009-12-10 00:00:00</td>\n      <td>Qe 7 Bloco G</td>\n      <td>Brasília</td>\n      <td>DF</td>\n      <td>Brazil</td>\n      <td>71020-677</td>\n      <td>5.94</td>\n    </tr>\n    <tr>\n      <th>31</th>\n      <td>132</td>\n      <td>13</td>\n      <td>2010-07-31 00:00:00</td>\n      <td>Qe 7 Bloco G</td>\n      <td>Brasília</td>\n      <td>DF</td>\n      <td>Brazil</td>\n      <td>71020-677</td>\n      <td>0.99</td>\n    </tr>\n    <tr>\n      <th>32</th>\n      <td>253</td>\n      <td>13</td>\n      <td>2012-01-22 00:00:00</td>\n      <td>Qe 7 Bloco G</td>\n      <td>Brasília</td>\n      <td>DF</td>\n      <td>Brazil</td>\n      <td>71020-677</td>\n      <td>1.98</td>\n    </tr>\n    <tr>\n      <th>33</th>\n      <td>264</td>\n      <td>13</td>\n      <td>2012-03-03 00:00:00</td>\n      <td>Qe 7 Bloco G</td>\n      <td>Brasília</td>\n      <td>DF</td>\n      <td>Brazil</td>\n      <td>71020-677</td>\n      <td>13.86</td>\n    </tr>\n    <tr>\n      <th>34</th>\n      <td>319</td>\n      <td>13</td>\n      <td>2012-11-01 00:00:00</td>\n      <td>Qe 7 Bloco G</td>\n      <td>Brasília</td>\n      <td>DF</td>\n      <td>Brazil</td>\n      <td>71020-677</td>\n      <td>8.91</td>\n    </tr>\n  </tbody>\n</table>\n</div>"
     },
     "metadata": {},
     "execution_count": 14
    }
   ],
   "source": [
    "query = \"\"\"\n",
    "SELECT i.*\n",
    "FROM customers c\n",
    "JOIN invoices i ON c.CustomerId= i.customerId\n",
    "WHERE  c.Country= \"Brazil\"\n",
    "\"\"\"\n",
    "pd.read_sql_query(query, conn)"
   ]
  },
  {
   "cell_type": "code",
   "execution_count": 15,
   "metadata": {},
   "outputs": [
    {
     "output_type": "execute_result",
     "data": {
      "text/plain": [
       "            Nombre  InvoiceId  CustomerId          InvoiceDate  \\\n",
       "0     Jane Peacock         98           1  2010-03-11 00:00:00   \n",
       "1     Jane Peacock        121           1  2010-06-13 00:00:00   \n",
       "2     Jane Peacock        143           1  2010-09-15 00:00:00   \n",
       "3     Jane Peacock        195           1  2011-05-06 00:00:00   \n",
       "4     Jane Peacock        316           1  2012-10-27 00:00:00   \n",
       "..             ...        ...         ...                  ...   \n",
       "407  Steve Johnson         88          57  2010-01-13 00:00:00   \n",
       "408  Steve Johnson        217          57  2011-08-20 00:00:00   \n",
       "409  Steve Johnson        240          57  2011-11-22 00:00:00   \n",
       "410  Steve Johnson        262          57  2012-02-24 00:00:00   \n",
       "411  Steve Johnson        314          57  2012-10-14 00:00:00   \n",
       "\n",
       "                      BillingAddress          BillingCity BillingState  \\\n",
       "0    Av. Brigadeiro Faria Lima, 2170  São José dos Campos           SP   \n",
       "1    Av. Brigadeiro Faria Lima, 2170  São José dos Campos           SP   \n",
       "2    Av. Brigadeiro Faria Lima, 2170  São José dos Campos           SP   \n",
       "3    Av. Brigadeiro Faria Lima, 2170  São José dos Campos           SP   \n",
       "4    Av. Brigadeiro Faria Lima, 2170  São José dos Campos           SP   \n",
       "..                               ...                  ...          ...   \n",
       "407                  Calle Lira, 198             Santiago         None   \n",
       "408                  Calle Lira, 198             Santiago         None   \n",
       "409                  Calle Lira, 198             Santiago         None   \n",
       "410                  Calle Lira, 198             Santiago         None   \n",
       "411                  Calle Lira, 198             Santiago         None   \n",
       "\n",
       "    BillingCountry BillingPostalCode  Total  \n",
       "0           Brazil         12227-000   3.98  \n",
       "1           Brazil         12227-000   3.96  \n",
       "2           Brazil         12227-000   5.94  \n",
       "3           Brazil         12227-000   0.99  \n",
       "4           Brazil         12227-000   1.98  \n",
       "..             ...               ...    ...  \n",
       "407          Chile              None  17.91  \n",
       "408          Chile              None   1.98  \n",
       "409          Chile              None   3.96  \n",
       "410          Chile              None   5.94  \n",
       "411          Chile              None   0.99  \n",
       "\n",
       "[412 rows x 10 columns]"
      ],
      "text/html": "<div>\n<style scoped>\n    .dataframe tbody tr th:only-of-type {\n        vertical-align: middle;\n    }\n\n    .dataframe tbody tr th {\n        vertical-align: top;\n    }\n\n    .dataframe thead th {\n        text-align: right;\n    }\n</style>\n<table border=\"1\" class=\"dataframe\">\n  <thead>\n    <tr style=\"text-align: right;\">\n      <th></th>\n      <th>Nombre</th>\n      <th>InvoiceId</th>\n      <th>CustomerId</th>\n      <th>InvoiceDate</th>\n      <th>BillingAddress</th>\n      <th>BillingCity</th>\n      <th>BillingState</th>\n      <th>BillingCountry</th>\n      <th>BillingPostalCode</th>\n      <th>Total</th>\n    </tr>\n  </thead>\n  <tbody>\n    <tr>\n      <th>0</th>\n      <td>Jane Peacock</td>\n      <td>98</td>\n      <td>1</td>\n      <td>2010-03-11 00:00:00</td>\n      <td>Av. Brigadeiro Faria Lima, 2170</td>\n      <td>São José dos Campos</td>\n      <td>SP</td>\n      <td>Brazil</td>\n      <td>12227-000</td>\n      <td>3.98</td>\n    </tr>\n    <tr>\n      <th>1</th>\n      <td>Jane Peacock</td>\n      <td>121</td>\n      <td>1</td>\n      <td>2010-06-13 00:00:00</td>\n      <td>Av. Brigadeiro Faria Lima, 2170</td>\n      <td>São José dos Campos</td>\n      <td>SP</td>\n      <td>Brazil</td>\n      <td>12227-000</td>\n      <td>3.96</td>\n    </tr>\n    <tr>\n      <th>2</th>\n      <td>Jane Peacock</td>\n      <td>143</td>\n      <td>1</td>\n      <td>2010-09-15 00:00:00</td>\n      <td>Av. Brigadeiro Faria Lima, 2170</td>\n      <td>São José dos Campos</td>\n      <td>SP</td>\n      <td>Brazil</td>\n      <td>12227-000</td>\n      <td>5.94</td>\n    </tr>\n    <tr>\n      <th>3</th>\n      <td>Jane Peacock</td>\n      <td>195</td>\n      <td>1</td>\n      <td>2011-05-06 00:00:00</td>\n      <td>Av. Brigadeiro Faria Lima, 2170</td>\n      <td>São José dos Campos</td>\n      <td>SP</td>\n      <td>Brazil</td>\n      <td>12227-000</td>\n      <td>0.99</td>\n    </tr>\n    <tr>\n      <th>4</th>\n      <td>Jane Peacock</td>\n      <td>316</td>\n      <td>1</td>\n      <td>2012-10-27 00:00:00</td>\n      <td>Av. Brigadeiro Faria Lima, 2170</td>\n      <td>São José dos Campos</td>\n      <td>SP</td>\n      <td>Brazil</td>\n      <td>12227-000</td>\n      <td>1.98</td>\n    </tr>\n    <tr>\n      <th>...</th>\n      <td>...</td>\n      <td>...</td>\n      <td>...</td>\n      <td>...</td>\n      <td>...</td>\n      <td>...</td>\n      <td>...</td>\n      <td>...</td>\n      <td>...</td>\n      <td>...</td>\n    </tr>\n    <tr>\n      <th>407</th>\n      <td>Steve Johnson</td>\n      <td>88</td>\n      <td>57</td>\n      <td>2010-01-13 00:00:00</td>\n      <td>Calle Lira, 198</td>\n      <td>Santiago</td>\n      <td>None</td>\n      <td>Chile</td>\n      <td>None</td>\n      <td>17.91</td>\n    </tr>\n    <tr>\n      <th>408</th>\n      <td>Steve Johnson</td>\n      <td>217</td>\n      <td>57</td>\n      <td>2011-08-20 00:00:00</td>\n      <td>Calle Lira, 198</td>\n      <td>Santiago</td>\n      <td>None</td>\n      <td>Chile</td>\n      <td>None</td>\n      <td>1.98</td>\n    </tr>\n    <tr>\n      <th>409</th>\n      <td>Steve Johnson</td>\n      <td>240</td>\n      <td>57</td>\n      <td>2011-11-22 00:00:00</td>\n      <td>Calle Lira, 198</td>\n      <td>Santiago</td>\n      <td>None</td>\n      <td>Chile</td>\n      <td>None</td>\n      <td>3.96</td>\n    </tr>\n    <tr>\n      <th>410</th>\n      <td>Steve Johnson</td>\n      <td>262</td>\n      <td>57</td>\n      <td>2012-02-24 00:00:00</td>\n      <td>Calle Lira, 198</td>\n      <td>Santiago</td>\n      <td>None</td>\n      <td>Chile</td>\n      <td>None</td>\n      <td>5.94</td>\n    </tr>\n    <tr>\n      <th>411</th>\n      <td>Steve Johnson</td>\n      <td>314</td>\n      <td>57</td>\n      <td>2012-10-14 00:00:00</td>\n      <td>Calle Lira, 198</td>\n      <td>Santiago</td>\n      <td>None</td>\n      <td>Chile</td>\n      <td>None</td>\n      <td>0.99</td>\n    </tr>\n  </tbody>\n</table>\n<p>412 rows × 10 columns</p>\n</div>"
     },
     "metadata": {},
     "execution_count": 15
    }
   ],
   "source": [
    "query = \"\"\"\n",
    "SELECT e.FirstName || \" \" || e.LastName as Nombre, i.*\n",
    "FROM employees e\n",
    "JOIN customers c ON e.employeeID= c.SupportRepId\n",
    "JOIN invoices i ON c.CustomerId= i.customerId\n",
    "\"\"\"\n",
    "pd.read_sql_query(query, conn)"
   ]
  },
  {
   "cell_type": "code",
   "execution_count": 16,
   "metadata": {},
   "outputs": [
    {
     "output_type": "execute_result",
     "data": {
      "text/plain": [
       "    FirstName    LastName FirstName LastName  c.Country= \"Brazil\"  Total\n",
       "0        Luís   Gonçalves      Jane  Peacock                    1   3.98\n",
       "1        Luís   Gonçalves      Jane  Peacock                    1   3.96\n",
       "2        Luís   Gonçalves      Jane  Peacock                    1   5.94\n",
       "3        Luís   Gonçalves      Jane  Peacock                    1   0.99\n",
       "4        Luís   Gonçalves      Jane  Peacock                    1   1.98\n",
       "..        ...         ...       ...      ...                  ...    ...\n",
       "407      Puja  Srivastava      Jane  Peacock                    0   5.94\n",
       "408      Puja  Srivastava      Jane  Peacock                    0   1.99\n",
       "409      Puja  Srivastava      Jane  Peacock                    0   1.98\n",
       "410      Puja  Srivastava      Jane  Peacock                    0  13.86\n",
       "411      Puja  Srivastava      Jane  Peacock                    0   8.91\n",
       "\n",
       "[412 rows x 6 columns]"
      ],
      "text/html": "<div>\n<style scoped>\n    .dataframe tbody tr th:only-of-type {\n        vertical-align: middle;\n    }\n\n    .dataframe tbody tr th {\n        vertical-align: top;\n    }\n\n    .dataframe thead th {\n        text-align: right;\n    }\n</style>\n<table border=\"1\" class=\"dataframe\">\n  <thead>\n    <tr style=\"text-align: right;\">\n      <th></th>\n      <th>FirstName</th>\n      <th>LastName</th>\n      <th>FirstName</th>\n      <th>LastName</th>\n      <th>c.Country= \"Brazil\"</th>\n      <th>Total</th>\n    </tr>\n  </thead>\n  <tbody>\n    <tr>\n      <th>0</th>\n      <td>Luís</td>\n      <td>Gonçalves</td>\n      <td>Jane</td>\n      <td>Peacock</td>\n      <td>1</td>\n      <td>3.98</td>\n    </tr>\n    <tr>\n      <th>1</th>\n      <td>Luís</td>\n      <td>Gonçalves</td>\n      <td>Jane</td>\n      <td>Peacock</td>\n      <td>1</td>\n      <td>3.96</td>\n    </tr>\n    <tr>\n      <th>2</th>\n      <td>Luís</td>\n      <td>Gonçalves</td>\n      <td>Jane</td>\n      <td>Peacock</td>\n      <td>1</td>\n      <td>5.94</td>\n    </tr>\n    <tr>\n      <th>3</th>\n      <td>Luís</td>\n      <td>Gonçalves</td>\n      <td>Jane</td>\n      <td>Peacock</td>\n      <td>1</td>\n      <td>0.99</td>\n    </tr>\n    <tr>\n      <th>4</th>\n      <td>Luís</td>\n      <td>Gonçalves</td>\n      <td>Jane</td>\n      <td>Peacock</td>\n      <td>1</td>\n      <td>1.98</td>\n    </tr>\n    <tr>\n      <th>...</th>\n      <td>...</td>\n      <td>...</td>\n      <td>...</td>\n      <td>...</td>\n      <td>...</td>\n      <td>...</td>\n    </tr>\n    <tr>\n      <th>407</th>\n      <td>Puja</td>\n      <td>Srivastava</td>\n      <td>Jane</td>\n      <td>Peacock</td>\n      <td>0</td>\n      <td>5.94</td>\n    </tr>\n    <tr>\n      <th>408</th>\n      <td>Puja</td>\n      <td>Srivastava</td>\n      <td>Jane</td>\n      <td>Peacock</td>\n      <td>0</td>\n      <td>1.99</td>\n    </tr>\n    <tr>\n      <th>409</th>\n      <td>Puja</td>\n      <td>Srivastava</td>\n      <td>Jane</td>\n      <td>Peacock</td>\n      <td>0</td>\n      <td>1.98</td>\n    </tr>\n    <tr>\n      <th>410</th>\n      <td>Puja</td>\n      <td>Srivastava</td>\n      <td>Jane</td>\n      <td>Peacock</td>\n      <td>0</td>\n      <td>13.86</td>\n    </tr>\n    <tr>\n      <th>411</th>\n      <td>Puja</td>\n      <td>Srivastava</td>\n      <td>Jane</td>\n      <td>Peacock</td>\n      <td>0</td>\n      <td>8.91</td>\n    </tr>\n  </tbody>\n</table>\n<p>412 rows × 6 columns</p>\n</div>"
     },
     "metadata": {},
     "execution_count": 16
    }
   ],
   "source": [
    "query = \"\"\"\n",
    "SELECT c.FirstName, c.LastName, e.FirstName, e.LastName, c.Country= \"Brazil\", i.Total\n",
    "FROM employees e\n",
    "JOIN customers c ON e.employeeID= c.SupportRepId\n",
    "JOIN invoices i ON c.CustomerId= i.customerId\n",
    "\"\"\"\n",
    "pd.read_sql_query(query, conn)"
   ]
  },
  {
   "cell_type": "code",
   "execution_count": 17,
   "metadata": {},
   "outputs": [
    {
     "output_type": "execute_result",
     "data": {
      "text/plain": [
       "                               Name  InvoiceId\n",
       "0               Experiment In Terra         98\n",
       "1                 Take the Celestra         98\n",
       "2                 Shout It Out Loud        121\n",
       "3                  Calling Dr. Love        121\n",
       "4                          Strutter        121\n",
       "...                             ...        ...\n",
       "2235           Esporrei Na Manivela        284\n",
       "2236  No Fundo Do Quintal Da Escola        284\n",
       "2237                 Que Luz É Essa        284\n",
       "2238          The Power Of Equality        284\n",
       "2239   Mellowship Slinky In B Major        284\n",
       "\n",
       "[2240 rows x 2 columns]"
      ],
      "text/html": "<div>\n<style scoped>\n    .dataframe tbody tr th:only-of-type {\n        vertical-align: middle;\n    }\n\n    .dataframe tbody tr th {\n        vertical-align: top;\n    }\n\n    .dataframe thead th {\n        text-align: right;\n    }\n</style>\n<table border=\"1\" class=\"dataframe\">\n  <thead>\n    <tr style=\"text-align: right;\">\n      <th></th>\n      <th>Name</th>\n      <th>InvoiceId</th>\n    </tr>\n  </thead>\n  <tbody>\n    <tr>\n      <th>0</th>\n      <td>Experiment In Terra</td>\n      <td>98</td>\n    </tr>\n    <tr>\n      <th>1</th>\n      <td>Take the Celestra</td>\n      <td>98</td>\n    </tr>\n    <tr>\n      <th>2</th>\n      <td>Shout It Out Loud</td>\n      <td>121</td>\n    </tr>\n    <tr>\n      <th>3</th>\n      <td>Calling Dr. Love</td>\n      <td>121</td>\n    </tr>\n    <tr>\n      <th>4</th>\n      <td>Strutter</td>\n      <td>121</td>\n    </tr>\n    <tr>\n      <th>...</th>\n      <td>...</td>\n      <td>...</td>\n    </tr>\n    <tr>\n      <th>2235</th>\n      <td>Esporrei Na Manivela</td>\n      <td>284</td>\n    </tr>\n    <tr>\n      <th>2236</th>\n      <td>No Fundo Do Quintal Da Escola</td>\n      <td>284</td>\n    </tr>\n    <tr>\n      <th>2237</th>\n      <td>Que Luz É Essa</td>\n      <td>284</td>\n    </tr>\n    <tr>\n      <th>2238</th>\n      <td>The Power Of Equality</td>\n      <td>284</td>\n    </tr>\n    <tr>\n      <th>2239</th>\n      <td>Mellowship Slinky In B Major</td>\n      <td>284</td>\n    </tr>\n  </tbody>\n</table>\n<p>2240 rows × 2 columns</p>\n</div>"
     },
     "metadata": {},
     "execution_count": 17
    }
   ],
   "source": [
    "query = \"\"\"\n",
    "SELECT t.Name, it.InvoiceId\n",
    "FROM invoice_items it\n",
    "JOIN invoices i ON it.InvoiceId= i.InvoiceId\n",
    "JOIN tracks t ON it.TrackId = t.TrackId\n",
    "\"\"\"\n",
    "\n",
    "pd.read_sql_query(query, conn)"
   ]
  },
  {
   "cell_type": "code",
   "execution_count": 18,
   "metadata": {},
   "outputs": [
    {
     "output_type": "execute_result",
     "data": {
      "text/plain": [
       "                                                   Name  \\\n",
       "0               For Those About To Rock (We Salute You)   \n",
       "1                                     Balls to the Wall   \n",
       "2                                       Fast As a Shark   \n",
       "3                                     Restless and Wild   \n",
       "4                                  Princess of the Dawn   \n",
       "...                                                 ...   \n",
       "3498  Pini Di Roma (Pinien Von Rom) \\ I Pini Della V...   \n",
       "3499  String Quartet No. 12 in C Minor, D. 703 \"Quar...   \n",
       "3500               L'orfeo, Act 3, Sinfonia (Orchestra)   \n",
       "3501  Quintet for Horn, Violin, 2 Violas, and Cello ...   \n",
       "3502  Die Zauberflöte, K.620: \"Der Hölle Rache Kocht...   \n",
       "\n",
       "                                               Composer       Name  \\\n",
       "0             Angus Young, Malcolm Young, Brian Johnson       Rock   \n",
       "1                                                  None       Rock   \n",
       "2     F. Baltes, S. Kaufman, U. Dirkscneider & W. Ho...       Rock   \n",
       "3     F. Baltes, R.A. Smith-Diesel, S. Kaufman, U. D...       Rock   \n",
       "4                            Deaffy & R.A. Smith-Diesel       Rock   \n",
       "...                                                 ...        ...   \n",
       "3498                                               None  Classical   \n",
       "3499                                     Franz Schubert  Classical   \n",
       "3500                                 Claudio Monteverdi  Classical   \n",
       "3501                            Wolfgang Amadeus Mozart  Classical   \n",
       "3502                            Wolfgang Amadeus Mozart      Opera   \n",
       "\n",
       "                          Name  \\\n",
       "0              MPEG audio file   \n",
       "1     Protected AAC audio file   \n",
       "2     Protected AAC audio file   \n",
       "3     Protected AAC audio file   \n",
       "4     Protected AAC audio file   \n",
       "...                        ...   \n",
       "3498  Protected AAC audio file   \n",
       "3499  Protected AAC audio file   \n",
       "3500  Protected AAC audio file   \n",
       "3501  Protected AAC audio file   \n",
       "3502  Protected AAC audio file   \n",
       "\n",
       "                                                  Title  \n",
       "0                 For Those About To Rock We Salute You  \n",
       "1                                     Balls to the Wall  \n",
       "2                                     Restless and Wild  \n",
       "3                                     Restless and Wild  \n",
       "4                                     Restless and Wild  \n",
       "...                                                 ...  \n",
       "3498                             Respighi:Pines of Rome  \n",
       "3499  Schubert: The Late String Quartets & String Qu...  \n",
       "3500                                Monteverdi: L'Orfeo  \n",
       "3501                              Mozart: Chamber Music  \n",
       "3502                          Mozart Gala: Famous Arias  \n",
       "\n",
       "[3503 rows x 5 columns]"
      ],
      "text/html": "<div>\n<style scoped>\n    .dataframe tbody tr th:only-of-type {\n        vertical-align: middle;\n    }\n\n    .dataframe tbody tr th {\n        vertical-align: top;\n    }\n\n    .dataframe thead th {\n        text-align: right;\n    }\n</style>\n<table border=\"1\" class=\"dataframe\">\n  <thead>\n    <tr style=\"text-align: right;\">\n      <th></th>\n      <th>Name</th>\n      <th>Composer</th>\n      <th>Name</th>\n      <th>Name</th>\n      <th>Title</th>\n    </tr>\n  </thead>\n  <tbody>\n    <tr>\n      <th>0</th>\n      <td>For Those About To Rock (We Salute You)</td>\n      <td>Angus Young, Malcolm Young, Brian Johnson</td>\n      <td>Rock</td>\n      <td>MPEG audio file</td>\n      <td>For Those About To Rock We Salute You</td>\n    </tr>\n    <tr>\n      <th>1</th>\n      <td>Balls to the Wall</td>\n      <td>None</td>\n      <td>Rock</td>\n      <td>Protected AAC audio file</td>\n      <td>Balls to the Wall</td>\n    </tr>\n    <tr>\n      <th>2</th>\n      <td>Fast As a Shark</td>\n      <td>F. Baltes, S. Kaufman, U. Dirkscneider &amp; W. Ho...</td>\n      <td>Rock</td>\n      <td>Protected AAC audio file</td>\n      <td>Restless and Wild</td>\n    </tr>\n    <tr>\n      <th>3</th>\n      <td>Restless and Wild</td>\n      <td>F. Baltes, R.A. Smith-Diesel, S. Kaufman, U. D...</td>\n      <td>Rock</td>\n      <td>Protected AAC audio file</td>\n      <td>Restless and Wild</td>\n    </tr>\n    <tr>\n      <th>4</th>\n      <td>Princess of the Dawn</td>\n      <td>Deaffy &amp; R.A. Smith-Diesel</td>\n      <td>Rock</td>\n      <td>Protected AAC audio file</td>\n      <td>Restless and Wild</td>\n    </tr>\n    <tr>\n      <th>...</th>\n      <td>...</td>\n      <td>...</td>\n      <td>...</td>\n      <td>...</td>\n      <td>...</td>\n    </tr>\n    <tr>\n      <th>3498</th>\n      <td>Pini Di Roma (Pinien Von Rom) \\ I Pini Della V...</td>\n      <td>None</td>\n      <td>Classical</td>\n      <td>Protected AAC audio file</td>\n      <td>Respighi:Pines of Rome</td>\n    </tr>\n    <tr>\n      <th>3499</th>\n      <td>String Quartet No. 12 in C Minor, D. 703 \"Quar...</td>\n      <td>Franz Schubert</td>\n      <td>Classical</td>\n      <td>Protected AAC audio file</td>\n      <td>Schubert: The Late String Quartets &amp; String Qu...</td>\n    </tr>\n    <tr>\n      <th>3500</th>\n      <td>L'orfeo, Act 3, Sinfonia (Orchestra)</td>\n      <td>Claudio Monteverdi</td>\n      <td>Classical</td>\n      <td>Protected AAC audio file</td>\n      <td>Monteverdi: L'Orfeo</td>\n    </tr>\n    <tr>\n      <th>3501</th>\n      <td>Quintet for Horn, Violin, 2 Violas, and Cello ...</td>\n      <td>Wolfgang Amadeus Mozart</td>\n      <td>Classical</td>\n      <td>Protected AAC audio file</td>\n      <td>Mozart: Chamber Music</td>\n    </tr>\n    <tr>\n      <th>3502</th>\n      <td>Die Zauberflöte, K.620: \"Der Hölle Rache Kocht...</td>\n      <td>Wolfgang Amadeus Mozart</td>\n      <td>Opera</td>\n      <td>Protected AAC audio file</td>\n      <td>Mozart Gala: Famous Arias</td>\n    </tr>\n  </tbody>\n</table>\n<p>3503 rows × 5 columns</p>\n</div>"
     },
     "metadata": {},
     "execution_count": 18
    }
   ],
   "source": [
    "query = \"\"\"\n",
    "SELECT t.Name, t.Composer, g.Name, m.Name, al.Title\n",
    "FROM Tracks t\n",
    "JOIN Genres g ON t.GenreId = g.GenreId\n",
    "JOIN media_types m ON t.MediaTypeId = m.MediaTypeId\n",
    "JOIN albums al On t.albumId= al.albumId\n",
    "\n",
    "\"\"\"\n",
    "\n",
    "pd.read_sql_query(query, conn)"
   ]
  },
  {
   "cell_type": "code",
   "execution_count": 22,
   "metadata": {},
   "outputs": [
    {
     "output_type": "execute_result",
     "data": {
      "text/plain": [
       "                          Name  COUNT(*)\n",
       "0                        Music      3290\n",
       "1                     TV Shows       213\n",
       "2                   90’s Music      1477\n",
       "3                        Music      3290\n",
       "4                 Music Videos         1\n",
       "5                     TV Shows       213\n",
       "6              Brazilian Music        39\n",
       "7                    Classical        75\n",
       "8    Classical 101 - Deep Cuts        25\n",
       "9   Classical 101 - Next Steps        25\n",
       "10  Classical 101 - The Basics        25\n",
       "11                      Grunge        15\n",
       "12         Heavy Metal Classic        26\n",
       "13                 On-The-Go 1         1"
      ],
      "text/html": "<div>\n<style scoped>\n    .dataframe tbody tr th:only-of-type {\n        vertical-align: middle;\n    }\n\n    .dataframe tbody tr th {\n        vertical-align: top;\n    }\n\n    .dataframe thead th {\n        text-align: right;\n    }\n</style>\n<table border=\"1\" class=\"dataframe\">\n  <thead>\n    <tr style=\"text-align: right;\">\n      <th></th>\n      <th>Name</th>\n      <th>COUNT(*)</th>\n    </tr>\n  </thead>\n  <tbody>\n    <tr>\n      <th>0</th>\n      <td>Music</td>\n      <td>3290</td>\n    </tr>\n    <tr>\n      <th>1</th>\n      <td>TV Shows</td>\n      <td>213</td>\n    </tr>\n    <tr>\n      <th>2</th>\n      <td>90’s Music</td>\n      <td>1477</td>\n    </tr>\n    <tr>\n      <th>3</th>\n      <td>Music</td>\n      <td>3290</td>\n    </tr>\n    <tr>\n      <th>4</th>\n      <td>Music Videos</td>\n      <td>1</td>\n    </tr>\n    <tr>\n      <th>5</th>\n      <td>TV Shows</td>\n      <td>213</td>\n    </tr>\n    <tr>\n      <th>6</th>\n      <td>Brazilian Music</td>\n      <td>39</td>\n    </tr>\n    <tr>\n      <th>7</th>\n      <td>Classical</td>\n      <td>75</td>\n    </tr>\n    <tr>\n      <th>8</th>\n      <td>Classical 101 - Deep Cuts</td>\n      <td>25</td>\n    </tr>\n    <tr>\n      <th>9</th>\n      <td>Classical 101 - Next Steps</td>\n      <td>25</td>\n    </tr>\n    <tr>\n      <th>10</th>\n      <td>Classical 101 - The Basics</td>\n      <td>25</td>\n    </tr>\n    <tr>\n      <th>11</th>\n      <td>Grunge</td>\n      <td>15</td>\n    </tr>\n    <tr>\n      <th>12</th>\n      <td>Heavy Metal Classic</td>\n      <td>26</td>\n    </tr>\n    <tr>\n      <th>13</th>\n      <td>On-The-Go 1</td>\n      <td>1</td>\n    </tr>\n  </tbody>\n</table>\n</div>"
     },
     "metadata": {},
     "execution_count": 22
    }
   ],
   "source": [
    "query= \"\"\"\n",
    "SELECT  p.Name, COUNT(*) \n",
    "FROM playlists p\n",
    "JOIN playlist_track pt ON p.PlaylistID= pt.PlaylistID\n",
    "JOIN tracks t ON pt.TrackId = t.TrackId\n",
    "GROUP BY pt.playlistId  \n",
    "\"\"\"\n",
    "pd.read_sql_query(query, conn)"
   ]
  },
  {
   "cell_type": "code",
   "execution_count": 23,
   "metadata": {},
   "outputs": [
    {
     "output_type": "execute_result",
     "data": {
      "text/plain": [
       "  LastName  SUM(i.Total)\n",
       "0  Peacock        833.04\n",
       "1     Park        775.40\n",
       "2  Johnson        720.16"
      ],
      "text/html": "<div>\n<style scoped>\n    .dataframe tbody tr th:only-of-type {\n        vertical-align: middle;\n    }\n\n    .dataframe tbody tr th {\n        vertical-align: top;\n    }\n\n    .dataframe thead th {\n        text-align: right;\n    }\n</style>\n<table border=\"1\" class=\"dataframe\">\n  <thead>\n    <tr style=\"text-align: right;\">\n      <th></th>\n      <th>LastName</th>\n      <th>SUM(i.Total)</th>\n    </tr>\n  </thead>\n  <tbody>\n    <tr>\n      <th>0</th>\n      <td>Peacock</td>\n      <td>833.04</td>\n    </tr>\n    <tr>\n      <th>1</th>\n      <td>Park</td>\n      <td>775.40</td>\n    </tr>\n    <tr>\n      <th>2</th>\n      <td>Johnson</td>\n      <td>720.16</td>\n    </tr>\n  </tbody>\n</table>\n</div>"
     },
     "metadata": {},
     "execution_count": 23
    }
   ],
   "source": [
    "query = \"\"\"\n",
    "SELECT e.LastName, SUM(i.Total)\n",
    "FROM employees e \n",
    "JOIN customers c ON e.employeeID= c.SupportRepId\n",
    "JOIN invoices i ON c.CustomerId= i.customerId\n",
    "GROUP BY e.employeeId\n",
    "\"\"\"\n",
    "pd.read_sql_query(query, conn)"
   ]
  },
  {
   "cell_type": "code",
   "execution_count": 24,
   "metadata": {},
   "outputs": [
    {
     "output_type": "execute_result",
     "data": {
      "text/plain": [
       "   EmployeeId  SUM(i.Total)\n",
       "0           3        123.75\n",
       "1           4        161.37\n",
       "2           5        164.34"
      ],
      "text/html": "<div>\n<style scoped>\n    .dataframe tbody tr th:only-of-type {\n        vertical-align: middle;\n    }\n\n    .dataframe tbody tr th {\n        vertical-align: top;\n    }\n\n    .dataframe thead th {\n        text-align: right;\n    }\n</style>\n<table border=\"1\" class=\"dataframe\">\n  <thead>\n    <tr style=\"text-align: right;\">\n      <th></th>\n      <th>EmployeeId</th>\n      <th>SUM(i.Total)</th>\n    </tr>\n  </thead>\n  <tbody>\n    <tr>\n      <th>0</th>\n      <td>3</td>\n      <td>123.75</td>\n    </tr>\n    <tr>\n      <th>1</th>\n      <td>4</td>\n      <td>161.37</td>\n    </tr>\n    <tr>\n      <th>2</th>\n      <td>5</td>\n      <td>164.34</td>\n    </tr>\n  </tbody>\n</table>\n</div>"
     },
     "metadata": {},
     "execution_count": 24
    }
   ],
   "source": [
    "query = \"\"\"\n",
    "SELECT e.EmployeeId, SUM(i.Total)\n",
    "FROM employees e \n",
    "JOIN customers c ON e.employeeID= c.SupportRepId\n",
    "JOIN invoices i ON c.CustomerId= i.customerId\n",
    "WHERE i.invoiceDate LIKE \"2009%\"\n",
    "GROUP BY  e.employeeId\n",
    "\"\"\"\n",
    "pd.read_sql_query(query, conn)"
   ]
  },
  {
   "cell_type": "code",
   "execution_count": 28,
   "metadata": {},
   "outputs": [
    {
     "output_type": "execute_result",
     "data": {
      "text/plain": [
       "                                   Name  Sum(ii.UnitPrice)\n",
       "0                                 AC/DC              15.84\n",
       "1                                Accept               4.95\n",
       "2                             Aerosmith               9.90\n",
       "3                     Alanis Morissette               7.92\n",
       "4                       Alice In Chains               6.93\n",
       "..                                  ...                ...\n",
       "160                        Julian Bream               0.99\n",
       "161                       Martin Roscoe               0.99\n",
       "162  Göteborgs Symfoniker & Neeme Järvi               0.99\n",
       "163                  Michele Campanella               0.99\n",
       "164              Emerson String Quartet               1.98\n",
       "\n",
       "[165 rows x 2 columns]"
      ],
      "text/html": "<div>\n<style scoped>\n    .dataframe tbody tr th:only-of-type {\n        vertical-align: middle;\n    }\n\n    .dataframe tbody tr th {\n        vertical-align: top;\n    }\n\n    .dataframe thead th {\n        text-align: right;\n    }\n</style>\n<table border=\"1\" class=\"dataframe\">\n  <thead>\n    <tr style=\"text-align: right;\">\n      <th></th>\n      <th>Name</th>\n      <th>Sum(ii.UnitPrice)</th>\n    </tr>\n  </thead>\n  <tbody>\n    <tr>\n      <th>0</th>\n      <td>AC/DC</td>\n      <td>15.84</td>\n    </tr>\n    <tr>\n      <th>1</th>\n      <td>Accept</td>\n      <td>4.95</td>\n    </tr>\n    <tr>\n      <th>2</th>\n      <td>Aerosmith</td>\n      <td>9.90</td>\n    </tr>\n    <tr>\n      <th>3</th>\n      <td>Alanis Morissette</td>\n      <td>7.92</td>\n    </tr>\n    <tr>\n      <th>4</th>\n      <td>Alice In Chains</td>\n      <td>6.93</td>\n    </tr>\n    <tr>\n      <th>...</th>\n      <td>...</td>\n      <td>...</td>\n    </tr>\n    <tr>\n      <th>160</th>\n      <td>Julian Bream</td>\n      <td>0.99</td>\n    </tr>\n    <tr>\n      <th>161</th>\n      <td>Martin Roscoe</td>\n      <td>0.99</td>\n    </tr>\n    <tr>\n      <th>162</th>\n      <td>Göteborgs Symfoniker &amp; Neeme Järvi</td>\n      <td>0.99</td>\n    </tr>\n    <tr>\n      <th>163</th>\n      <td>Michele Campanella</td>\n      <td>0.99</td>\n    </tr>\n    <tr>\n      <th>164</th>\n      <td>Emerson String Quartet</td>\n      <td>1.98</td>\n    </tr>\n  </tbody>\n</table>\n<p>165 rows × 2 columns</p>\n</div>"
     },
     "metadata": {},
     "execution_count": 28
    }
   ],
   "source": [
    "query = \"\"\"\n",
    "SELECT ar.Name, Sum(ii.UnitPrice)\n",
    "FROM artists ar\n",
    "JOIN albums al ON al.artistId = ar.artistId\n",
    "JOIN tracks t ON t.albumId = al.AlbumId\n",
    "JOIN invoice_items ii On t.TrackId= ii.trackId\n",
    "GROUP BY ar.artistId\n",
    "\"\"\"\n",
    "\n",
    "pd.read_sql_query(query, conn)"
   ]
  },
  {
   "cell_type": "code",
   "execution_count": null,
   "metadata": {},
   "outputs": [],
   "source": []
  }
 ]
}