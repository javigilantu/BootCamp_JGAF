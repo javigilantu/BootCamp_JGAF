{
 "metadata": {
  "language_info": {
   "codemirror_mode": {
    "name": "ipython",
    "version": 3
   },
   "file_extension": ".py",
   "mimetype": "text/x-python",
   "name": "python",
   "nbconvert_exporter": "python",
   "pygments_lexer": "ipython3",
   "version": "3.9.0-final"
  },
  "orig_nbformat": 2,
  "kernelspec": {
   "name": "python3",
   "display_name": "Python 3.9.0 64-bit",
   "metadata": {
    "interpreter": {
     "hash": "55e468aa44997b1a111e264ecfc47cca8eaefaa39ff5edd28dad934b35afc7e9"
    }
   }
  }
 },
 "nbformat": 4,
 "nbformat_minor": 2,
 "cells": [
  {
   "cell_type": "markdown",
   "metadata": {},
   "source": [
    "Añade los dos algoritmos que hemos aprendido hoy (Polynomial, SVM) al programa del archivo \"3.regression_classification_exercise\" del CW8D4/exercises.\n",
    "\n",
    "Haz que se puedan ejecutar de forma genérica para varias features de los algoritmos. Por ejemplo, que se ejecute con \"param\" para diferentes grados del polinomio y para usar diferentes kernels en SVM. "
   ]
  },
  {
   "cell_type": "code",
   "execution_count": null,
   "metadata": {},
   "outputs": [],
   "source": [
    "import pandas as pd\n",
    "import numpy as np\n",
    "\n",
    "from sklearn.model_selection import train_test_split\n",
    "\n",
    "from sklearn.neighbors import KNeighborsClassifier\n",
    "from sklearn.linear_model import LinearRegression, LogisticRegression\n",
    "\n",
    "from sklearn import metrics\n",
    "\n",
    "from sklearn.preprocessing import PolynomialFeatures\n",
    "\n",
    "from sklearn.svm import SVR"
   ]
  },
  {
   "cell_type": "code",
   "execution_count": 2,
   "metadata": {},
   "outputs": [],
   "source": [
    "def choose_model(option_user, params=None):\n",
    "    '''\n",
    "    Para el primer parámetro actualmente solo disponemos de tres opciones: \n",
    "    \n",
    "    - Regresión: regresion lineal (1)\n",
    "    - Clasificación: regresion logistica (2) \n",
    "    - knn (3)\n",
    "    - Polynomial (4)\n",
    "    - SVM (5)\n",
    "    Inserta una de estas opciones.\n",
    "    \n",
    "    Para el segundo parámetro actualmente solo recogemos la \"k\" de KneighborsClassifier\n",
    "    '''\n",
    "    # your code\n",
    "    if option_user == 1:\n",
    "        model = LinearRegression() \n",
    "    elif option_user == 2:\n",
    "        model = LogisticRegression()\n",
    "    elif option_user == 3:\n",
    "        if params:\n",
    "            if \"k\" in params.keys():\n",
    "                model = KNeighborsClassifier(params[\"k\"])\n",
    "            else: \n",
    "                raise Exception(\"Solo conozco el parámetro 'k'\")\n",
    "        else: \n",
    "            model = KneighborsClassifier()\n",
    "    elif option_user == 4:\n",
    "        if params:\n",
    "            if \"degree\" in params.keys():\n",
    "                model = PolynomialFeatures(\"degree\")\n",
    "            else: \n",
    "                raise Exception(\"necesito 'degree'\")\n",
    "    elif option_user == 5:\n",
    "        if params:\n",
    "            if \"kernel\" in params.keys():\n",
    "                if kernel == \"poly\":\n",
    "                    model.poly = SVR(kernel=kernel, C=100, gamma='auto', degree=3, epsilon=.1, coef0=1)\n",
    "                if kernel == \"rbf\":\n",
    "                    model_rbf = SVR(kernel='rbf', C=100, gamma=0.1, epsilon=.1)\n",
    "                if kernel == \"linear\":\n",
    "                    model_lin = SVR(kernel='linear', C=100, gamma='auto')\n",
    "                else: \n",
    "                    raise Exception(\"necesito 'Kernel'\")\n",
    "    else:\n",
    "        raise Exception(\"Actualmente solo disponemos de tres opciones [regresion linear, regresión logística, knn]\")\n",
    "    return model"
   ]
  },
  {
   "cell_type": "code",
   "execution_count": null,
   "metadata": {},
   "outputs": [],
   "source": [
    "param = {\"k\":3, \"degree\": 2, 'kernel': \"poly\"}"
   ]
  },
  {
   "cell_type": "code",
   "execution_count": 5,
   "metadata": {},
   "outputs": [],
   "source": [
    "def train_model(model, df, target_name):\n",
    "    '''\n",
    "    Esta función por defecto divide el dataset en: \n",
    "    80% train\n",
    "    20% test\n",
    "    \n",
    "    Y devuelve el modelo entrenado y el porcentaje del accuracy\n",
    "    '''\n",
    "    # your code\n",
    "    X = df._get_numeric_data().drop(target_name, axis = 1)\n",
    "    y = df[target_name]\n",
    "    X_train, X_test, y_train, y_test = train_test_split(X, y, test_size=0.2)\n",
    "    if model== \"poly\":\n",
    "            X_poly = polinominal_model.fit_transform(X_train,y_train)\n",
    "            lin_reg_model = LinearRegression()\n",
    "            model_trained = lin_reg_model.fit(X_poly, y_train)\n",
    "\n",
    "    else:       \n",
    "        model_trained = model.fit(X_train, y_train)\n",
    "    accuracy = model_trained.score(X_test, y_test) \n",
    "    return model_trained, accuracy, X_test.head(1).values"
   ]
  },
  {
   "cell_type": "code",
   "execution_count": 6,
   "metadata": {},
   "outputs": [],
   "source": [
    "def main():\n",
    "    sel_model = input (\"Indica el modelo a utilizar: (1):Regr.Lineal, (2): Regr.Logística, (3): Knm\")\n",
    "    mod = choose_model(int(sel_model),param)    #Selección del modelo según lo indicado por el usuario\n",
    "    model_trained, accuracy = train_model(mod,df,target_col)        # Entrenamiento del modelo con los datos\n",
    "    print(\"Accuracy: \", round(accuracy*100,2), \"%\")     #Precisión del modelo\n",
    "    return model_trained"
   ]
  },
  {
   "cell_type": "code",
   "execution_count": null,
   "metadata": {},
   "outputs": [],
   "source": []
  }
 ]
}