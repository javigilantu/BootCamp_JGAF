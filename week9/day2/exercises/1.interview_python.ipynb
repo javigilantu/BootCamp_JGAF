{
 "metadata": {
  "language_info": {
   "codemirror_mode": {
    "name": "ipython",
    "version": 3
   },
   "file_extension": ".py",
   "mimetype": "text/x-python",
   "name": "python",
   "nbconvert_exporter": "python",
   "pygments_lexer": "ipython3",
   "version": "3.9.0-final"
  },
  "orig_nbformat": 2,
  "kernelspec": {
   "name": "python3",
   "display_name": "Python 3.9.0 64-bit",
   "metadata": {
    "interpreter": {
     "hash": "55e468aa44997b1a111e264ecfc47cca8eaefaa39ff5edd28dad934b35afc7e9"
    }
   }
  }
 },
 "nbformat": 4,
 "nbformat_minor": 2,
 "cells": [
  {
   "cell_type": "markdown",
   "metadata": {},
   "source": [
    "Here's your coding interview problem for today.\n",
    "\n",
    "This problem was asked by Facebook.\n",
    "\n",
    "Given a string of round, curly, and square open and closing brackets, return whether the brackets are balanced (well-formed).\n",
    "\n",
    "For example, given the string \"([])[]({})\", you should return true.\n",
    "\n",
    "Given the string \"([)]\" or \"((()\", you should return false."
   ]
  },
  {
   "cell_type": "code",
   "execution_count": 127,
   "metadata": {},
   "outputs": [],
   "source": [
    "# Your code\n",
    "def interview(string):\n",
    "    \n",
    "    review = []\n",
    "    for elem in string:\n",
    "        review.append(elem)\n",
    "    \n",
    "    x = review.count('[')\n",
    "    y = review.count(']')\n",
    "    z = review.count('(')\n",
    "    q = review.count(')')\n",
    "    d = len( review)\n",
    "   \n",
    "    if x == y and z == q:\n",
    "        for i in range(d):\n",
    "            acum = (d-1-i)\n",
    "            if review[i]== '[' and review[acum]== ']' or review[i] == '(' and review[acum]== ')':\n",
    "                print( \"All good\")\n",
    "                return True\n",
    "            elif review[i]== '[' and review[acum]== ')' or review[i] == '(' and review[acum]== ']':\n",
    "                print('Not good')\n",
    "                return False\n",
    "    else:\n",
    "        print('Not good')\n",
    "        return False\n"
   ]
  },
  {
   "cell_type": "code",
   "execution_count": 130,
   "metadata": {},
   "outputs": [],
   "source": [
    "string = \"[(()])\""
   ]
  },
  {
   "cell_type": "code",
   "execution_count": 131,
   "metadata": {},
   "outputs": [
    {
     "output_type": "stream",
     "name": "stdout",
     "text": [
      "Not good\n"
     ]
    },
    {
     "output_type": "execute_result",
     "data": {
      "text/plain": [
       "False"
      ]
     },
     "metadata": {},
     "execution_count": 131
    }
   ],
   "source": [
    "interview(string= string)"
   ]
  },
  {
   "cell_type": "code",
   "execution_count": null,
   "metadata": {},
   "outputs": [],
   "source": []
  }
 ]
}