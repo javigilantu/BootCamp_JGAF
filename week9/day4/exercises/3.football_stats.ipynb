{
 "metadata": {
  "language_info": {
   "codemirror_mode": {
    "name": "ipython",
    "version": 3
   },
   "file_extension": ".py",
   "mimetype": "text/x-python",
   "name": "python",
   "nbconvert_exporter": "python",
   "pygments_lexer": "ipython3",
   "version": "3.9.0-final"
  },
  "orig_nbformat": 2,
  "kernelspec": {
   "name": "python3",
   "display_name": "Python 3.9.0 64-bit",
   "metadata": {
    "interpreter": {
     "hash": "55e468aa44997b1a111e264ecfc47cca8eaefaa39ff5edd28dad934b35afc7e9"
    }
   }
  }
 },
 "nbformat": 4,
 "nbformat_minor": 2,
 "cells": [
  {
   "cell_type": "markdown",
   "metadata": {},
   "source": [
    "A partir del archivo Euro_2012_stats_TEAM, se pide:\n",
    "\n",
    "1. Obtener la matriz de correlación. ¿Qué columnas están mejor correlacionadas?\n",
    "\n",
    "2. ¿Existe algún tipo de relación entre la precisión de disparo a puerta (Shooting Accuracy) con respecto a los goles? Muestra en una gráfica (pintando la línea en la distribución de ambas variables) y usando Regresión Lineal, Regresión no Lineal con polinomio y SVR la relación entre ambos. Por cada porcentaje de acierto de cara a puerta, ¿cuánto aumenta o disminuye el número de goles? \n",
    "\n",
    "3. Si tratamos la columna Goals como una columna categórica y usando logistic regression, SVM y Random forest, ¿cuántos goles marcaría un equipo que tiene...? (por cada algoritmo):\n",
    "\n",
    "    - % de goles por disparo: 40%\n",
    "    - Total shots (inc. Blocked): 102\n",
    "    - Corners Taken: 5\n",
    "    - Passes: 82\n",
    "    - Dribbles: 23"
   ]
  },
  {
   "cell_type": "code",
   "execution_count": 24,
   "metadata": {},
   "outputs": [
    {
     "output_type": "stream",
     "name": "stdout",
     "text": [
      "<class 'pandas.core.frame.DataFrame'>\nRangeIndex: 16 entries, 0 to 15\nData columns (total 35 columns):\n #   Column                      Non-Null Count  Dtype  \n---  ------                      --------------  -----  \n 0   Team                        16 non-null     object \n 1   Goals                       16 non-null     int64  \n 2   Shots on target             16 non-null     int64  \n 3   Shots off target            16 non-null     int64  \n 4   Shooting Accuracy           16 non-null     object \n 5   % Goals-to-shots            16 non-null     object \n 6   Total shots (inc. Blocked)  16 non-null     int64  \n 7   Hit Woodwork                16 non-null     int64  \n 8   Penalty goals               16 non-null     int64  \n 9   Penalties not scored        16 non-null     int64  \n 10  Headed goals                16 non-null     int64  \n 11  Passes                      16 non-null     int64  \n 12  Passes completed            16 non-null     int64  \n 13  Passing Accuracy            16 non-null     object \n 14  Touches                     16 non-null     int64  \n 15  Crosses                     16 non-null     int64  \n 16  Dribbles                    16 non-null     int64  \n 17  Corners Taken               16 non-null     int64  \n 18  Tackles                     16 non-null     int64  \n 19  Clearances                  16 non-null     int64  \n 20  Interceptions               16 non-null     int64  \n 21  Clearances off line         15 non-null     float64\n 22  Clean Sheets                16 non-null     int64  \n 23  Blocks                      16 non-null     int64  \n 24  Goals conceded              16 non-null     int64  \n 25  Saves made                  16 non-null     int64  \n 26  Saves-to-shots ratio        16 non-null     object \n 27  Fouls Won                   16 non-null     int64  \n 28  Fouls Conceded              16 non-null     int64  \n 29  Offsides                    16 non-null     int64  \n 30  Yellow Cards                16 non-null     int64  \n 31  Red Cards                   16 non-null     int64  \n 32  Subs on                     16 non-null     int64  \n 33  Subs off                    16 non-null     int64  \n 34  Players Used                16 non-null     int64  \ndtypes: float64(1), int64(29), object(5)\nmemory usage: 4.5+ KB\n"
     ]
    }
   ],
   "source": [
    "import pandas as pd\n",
    "df = pd.read_csv(\"../data/Euro_2012_stats_TEAM.csv\")\n",
    "\n",
    "df.info()"
   ]
  },
  {
   "cell_type": "code",
   "execution_count": 3,
   "metadata": {},
   "outputs": [
    {
     "output_type": "execute_result",
     "data": {
      "text/plain": [
       "                               Goals  Shots on target  Shots off target  \\\n",
       "Goals                       1.000000         0.804193          0.403821   \n",
       "Shots on target             0.804193         1.000000          0.611185   \n",
       "Shots off target            0.403821         0.611185          1.000000   \n",
       "Total shots (inc. Blocked)  0.650109         0.886090          0.887032   \n",
       "Hit Woodwork                0.200512         0.212932          0.581655   \n",
       "Penalty goals               0.730437         0.478610          0.126783   \n",
       "Penalties not scored        0.023094        -0.229945         -0.173221   \n",
       "Headed goals                0.349330         0.210571          0.002284   \n",
       "Passes                      0.838497         0.930337          0.624451   \n",
       "Passes completed            0.830062         0.923242          0.612998   \n",
       "Touches                     0.837760         0.934623          0.649127   \n",
       "Crosses                     0.667097         0.727451          0.563719   \n",
       "Dribbles                    0.693998         0.787066          0.510942   \n",
       "Corners Taken               0.697240         0.803347          0.749154   \n",
       "Tackles                     0.796830         0.811582          0.531234   \n",
       "Clearances                  0.255700         0.262694          0.212638   \n",
       "Interceptions               0.482441         0.587278          0.531190   \n",
       "Clearances off line        -0.155292        -0.095605         -0.199107   \n",
       "Clean Sheets                0.792559         0.756715          0.348872   \n",
       "Blocks                     -0.029128        -0.172650         -0.230736   \n",
       "Goals conceded             -0.337689        -0.214415         -0.139274   \n",
       "Saves made                  0.143912         0.085059          0.086157   \n",
       "Fouls Won                   0.663876         0.765949          0.615058   \n",
       "Fouls Conceded              0.483833         0.658353          0.434815   \n",
       "Offsides                    0.703043         0.696263          0.344626   \n",
       "Yellow Cards                0.337709         0.544307          0.534186   \n",
       "Red Cards                  -0.358057        -0.334050         -0.337766   \n",
       "Subs on                     0.727830         0.821342          0.544974   \n",
       "Subs off                    0.727830         0.821342          0.544974   \n",
       "Players Used                0.136067         0.249516          0.045973   \n",
       "\n",
       "                            Total shots (inc. Blocked)  Hit Woodwork  \\\n",
       "Goals                                         0.650109      0.200512   \n",
       "Shots on target                               0.886090      0.212932   \n",
       "Shots off target                              0.887032      0.581655   \n",
       "Total shots (inc. Blocked)                    1.000000      0.400121   \n",
       "Hit Woodwork                                  0.400121      1.000000   \n",
       "Penalty goals                                 0.299397     -0.076923   \n",
       "Penalties not scored                         -0.234668     -0.041345   \n",
       "Headed goals                                  0.125738      0.020174   \n",
       "Passes                                        0.875698      0.095882   \n",
       "Passes completed                              0.864279      0.073814   \n",
       "Touches                                       0.894708      0.129331   \n",
       "Crosses                                       0.691374      0.480272   \n",
       "Dribbles                                      0.744255      0.061463   \n",
       "Corners Taken                                 0.864856      0.389104   \n",
       "Tackles                                       0.757590      0.037136   \n",
       "Clearances                                    0.306509     -0.173871   \n",
       "Interceptions                                 0.669220      0.307694   \n",
       "Clearances off line                          -0.116198     -0.330719   \n",
       "Clean Sheets                                  0.619025      0.088181   \n",
       "Blocks                                       -0.180443     -0.102803   \n",
       "Goals conceded                               -0.184740      0.062541   \n",
       "Saves made                                    0.148269     -0.230524   \n",
       "Fouls Won                                     0.766215      0.141180   \n",
       "Fouls Conceded                                0.623288      0.303987   \n",
       "Offsides                                      0.589635      0.113657   \n",
       "Yellow Cards                                  0.622268      0.319708   \n",
       "Red Cards                                    -0.360466     -0.282051   \n",
       "Subs on                                       0.763336      0.204511   \n",
       "Subs off                                      0.763336      0.204511   \n",
       "Players Used                                  0.157812     -0.189466   \n",
       "\n",
       "                            Penalty goals  Penalties not scored  Headed goals  \\\n",
       "Goals                            0.730437              0.023094      0.349330   \n",
       "Shots on target                  0.478610             -0.229945      0.210571   \n",
       "Shots off target                 0.126783             -0.173221      0.002284   \n",
       "Total shots (inc. Blocked)       0.299397             -0.234668      0.125738   \n",
       "Hit Woodwork                    -0.076923             -0.041345      0.020174   \n",
       "Penalty goals                    1.000000              0.537484     -0.020174   \n",
       "Penalties not scored             0.537484              1.000000     -0.357830   \n",
       "Headed goals                    -0.020174             -0.357830      1.000000   \n",
       "Passes                           0.545294             -0.169613      0.213073   \n",
       "Passes completed                 0.550720             -0.179278      0.200605   \n",
       "Touches                          0.534153             -0.133834      0.230278   \n",
       "Crosses                          0.448069             -0.074308      0.296622   \n",
       "Dribbles                         0.452092              0.008075     -0.008239   \n",
       "Corners Taken                    0.357828             -0.274399      0.206268   \n",
       "Tackles                          0.528052             -0.039433      0.321400   \n",
       "Clearances                       0.261227              0.396836      0.163236   \n",
       "Interceptions                    0.284426              0.242572      0.284387   \n",
       "Clearances off line             -0.279508             -0.149404     -0.073721   \n",
       "Clean Sheets                     0.489003             -0.012926      0.334287   \n",
       "Blocks                           0.102803              0.401200      0.146531   \n",
       "Goals conceded                  -0.020847              0.302532     -0.344447   \n",
       "Saves made                       0.058761              0.051019      0.458773   \n",
       "Fouls Won                        0.528185              0.163643      0.157215   \n",
       "Fouls Conceded                   0.114404             -0.107169      0.117445   \n",
       "Offsides                         0.627220              0.210417      0.188786   \n",
       "Yellow Cards                     0.085467              0.127603      0.067245   \n",
       "Red Cards                        0.179487              0.537484     -0.342962   \n",
       "Subs on                          0.531727              0.084796      0.216077   \n",
       "Subs off                         0.531727              0.084796      0.216077   \n",
       "Players Used                     0.351866              0.480079     -0.447214   \n",
       "\n",
       "                              Passes  Passes completed  ...  Goals conceded  \\\n",
       "Goals                       0.838497          0.830062  ...       -0.337689   \n",
       "Shots on target             0.930337          0.923242  ...       -0.214415   \n",
       "Shots off target            0.624451          0.612998  ...       -0.139274   \n",
       "Total shots (inc. Blocked)  0.875698          0.864279  ...       -0.184740   \n",
       "Hit Woodwork                0.095882          0.073814  ...        0.062541   \n",
       "Penalty goals               0.545294          0.550720  ...       -0.020847   \n",
       "Penalties not scored       -0.169613         -0.179278  ...        0.302532   \n",
       "Headed goals                0.213073          0.200605  ...       -0.344447   \n",
       "Passes                      1.000000          0.997697  ...       -0.284982   \n",
       "Passes completed            0.997697          1.000000  ...       -0.300837   \n",
       "Touches                     0.993044          0.984324  ...       -0.256484   \n",
       "Crosses                     0.585416          0.562895  ...       -0.043787   \n",
       "Dribbles                    0.850185          0.838306  ...       -0.312041   \n",
       "Corners Taken               0.849358          0.838238  ...       -0.331310   \n",
       "Tackles                     0.846133          0.826818  ...       -0.342426   \n",
       "Clearances                  0.312709          0.267555  ...        0.070340   \n",
       "Interceptions               0.532466          0.499171  ...        0.066863   \n",
       "Clearances off line        -0.070677         -0.105891  ...        0.386680   \n",
       "Clean Sheets                0.826174          0.809049  ...       -0.358468   \n",
       "Blocks                     -0.166718         -0.193420  ...        0.427601   \n",
       "Goals conceded             -0.284982         -0.300837  ...        1.000000   \n",
       "Saves made                  0.207240          0.184878  ...        0.121274   \n",
       "Fouls Won                   0.773382          0.738845  ...       -0.037039   \n",
       "Fouls Conceded              0.549248          0.499351  ...       -0.075297   \n",
       "Offsides                    0.731938          0.704802  ...        0.222461   \n",
       "Yellow Cards                0.465799          0.420410  ...       -0.002574   \n",
       "Red Cards                  -0.400251         -0.406290  ...        0.396091   \n",
       "Subs on                     0.800546          0.766326  ...        0.099764   \n",
       "Subs off                    0.800546          0.766326  ...        0.099764   \n",
       "Players Used                0.232214          0.213345  ...        0.330089   \n",
       "\n",
       "                            Saves made  Fouls Won  Fouls Conceded  Offsides  \\\n",
       "Goals                         0.143912   0.663876        0.483833  0.703043   \n",
       "Shots on target               0.085059   0.765949        0.658353  0.696263   \n",
       "Shots off target              0.086157   0.615058        0.434815  0.344626   \n",
       "Total shots (inc. Blocked)    0.148269   0.766215        0.623288  0.589635   \n",
       "Hit Woodwork                 -0.230524   0.141180        0.303987  0.113657   \n",
       "Penalty goals                 0.058761   0.528185        0.114404  0.627220   \n",
       "Penalties not scored          0.051019   0.163643       -0.107169  0.210417   \n",
       "Headed goals                  0.458773   0.157215        0.117445  0.188786   \n",
       "Passes                        0.207240   0.773382        0.549248  0.731938   \n",
       "Passes completed              0.184878   0.738845        0.499351  0.704802   \n",
       "Touches                       0.257793   0.821173        0.608055  0.758892   \n",
       "Crosses                       0.085055   0.599338        0.571356  0.485388   \n",
       "Dribbles                      0.142779   0.705718        0.633913  0.575453   \n",
       "Corners Taken                 0.002432   0.651030        0.576427  0.512095   \n",
       "Tackles                       0.313748   0.814550        0.600603  0.680592   \n",
       "Clearances                    0.529647   0.718739        0.547268  0.513667   \n",
       "Interceptions                 0.424241   0.736808        0.625049  0.628501   \n",
       "Clearances off line           0.407966   0.119882        0.325407  0.152892   \n",
       "Clean Sheets                  0.326440   0.728923        0.619626  0.767269   \n",
       "Blocks                        0.707827   0.122265        0.041215  0.293275   \n",
       "Goals conceded                0.121274  -0.037039       -0.075297  0.222461   \n",
       "Saves made                    1.000000   0.391921        0.146550  0.397007   \n",
       "Fouls Won                     0.391921   1.000000        0.768445  0.830030   \n",
       "Fouls Conceded                0.146550   0.768445        1.000000  0.602987   \n",
       "Offsides                      0.397007   0.830030        0.602987  1.000000   \n",
       "Yellow Cards                  0.313044   0.800450        0.856143  0.561767   \n",
       "Red Cards                    -0.013560  -0.005864       -0.103508  0.054724   \n",
       "Subs on                       0.413050   0.907719        0.734200  0.856638   \n",
       "Subs off                      0.413050   0.907719        0.734200  0.856638   \n",
       "Players Used                 -0.023857   0.463276        0.313987  0.422139   \n",
       "\n",
       "                            Yellow Cards     Red Cards   Subs on  Subs off  \\\n",
       "Goals                           0.337709 -3.580574e-01  0.727830  0.727830   \n",
       "Shots on target                 0.544307 -3.340500e-01  0.821342  0.821342   \n",
       "Shots off target                0.534186 -3.377661e-01  0.544974  0.544974   \n",
       "Total shots (inc. Blocked)      0.622268 -3.604662e-01  0.763336  0.763336   \n",
       "Hit Woodwork                    0.319708 -2.820513e-01  0.204511  0.204511   \n",
       "Penalty goals                   0.085467  1.794872e-01  0.531727  0.531727   \n",
       "Penalties not scored            0.127603  5.374838e-01  0.084796  0.084796   \n",
       "Headed goals                    0.067245 -3.429623e-01  0.216077  0.216077   \n",
       "Passes                          0.465799 -4.002506e-01  0.800546  0.800546   \n",
       "Passes completed                0.420410 -4.062897e-01  0.766326  0.766326   \n",
       "Touches                         0.532544 -3.779538e-01  0.852144  0.852144   \n",
       "Crosses                         0.414210 -1.915536e-01  0.722090  0.722090   \n",
       "Dribbles                        0.506126 -3.419145e-01  0.745862  0.745862   \n",
       "Corners Taken                   0.410743 -4.810903e-01  0.691124  0.691124   \n",
       "Tackles                         0.505745 -2.037936e-01  0.832844  0.832844   \n",
       "Clearances                      0.655658  1.940302e-01  0.640657  0.640657   \n",
       "Interceptions                   0.779763  8.424464e-03  0.724859  0.724859   \n",
       "Clearances off line             0.149593  7.757919e-18  0.191533  0.191533   \n",
       "Clean Sheets                    0.499770 -2.805752e-01  0.747166  0.747166   \n",
       "Blocks                          0.123786  3.888646e-01  0.228500  0.228500   \n",
       "Goals conceded                 -0.002574  3.960913e-01  0.099764  0.099764   \n",
       "Saves made                      0.313044 -1.356023e-02  0.413050  0.413050   \n",
       "Fouls Won                       0.800450 -5.863708e-03  0.907719  0.907719   \n",
       "Fouls Conceded                  0.856143 -1.035081e-01  0.734200  0.734200   \n",
       "Offsides                        0.561767  5.472387e-02  0.856638  0.856638   \n",
       "Yellow Cards                    1.000000 -1.582714e-02  0.680231  0.680231   \n",
       "Red Cards                      -0.015827  1.000000e+00 -0.169452 -0.169452   \n",
       "Subs on                         0.680231 -1.694516e-01  1.000000  1.000000   \n",
       "Subs off                        0.680231 -1.694516e-01  1.000000  1.000000   \n",
       "Players Used                    0.377580  2.435994e-01  0.474938  0.474938   \n",
       "\n",
       "                            Players Used  \n",
       "Goals                           0.136067  \n",
       "Shots on target                 0.249516  \n",
       "Shots off target                0.045973  \n",
       "Total shots (inc. Blocked)      0.157812  \n",
       "Hit Woodwork                   -0.189466  \n",
       "Penalty goals                   0.351866  \n",
       "Penalties not scored            0.480079  \n",
       "Headed goals                   -0.447214  \n",
       "Passes                          0.232214  \n",
       "Passes completed                0.213345  \n",
       "Touches                         0.265333  \n",
       "Crosses                        -0.022858  \n",
       "Dribbles                        0.347467  \n",
       "Corners Taken                   0.010681  \n",
       "Tackles                         0.383399  \n",
       "Clearances                      0.602040  \n",
       "Interceptions                   0.253658  \n",
       "Clearances off line             0.250000  \n",
       "Clean Sheets                    0.228477  \n",
       "Blocks                          0.105373  \n",
       "Goals conceded                  0.330089  \n",
       "Saves made                     -0.023857  \n",
       "Fouls Won                       0.463276  \n",
       "Fouls Conceded                  0.313987  \n",
       "Offsides                        0.422139  \n",
       "Yellow Cards                    0.377580  \n",
       "Red Cards                       0.243599  \n",
       "Subs on                         0.474938  \n",
       "Subs off                        0.474938  \n",
       "Players Used                    1.000000  \n",
       "\n",
       "[30 rows x 30 columns]"
      ],
      "text/html": "<div>\n<style scoped>\n    .dataframe tbody tr th:only-of-type {\n        vertical-align: middle;\n    }\n\n    .dataframe tbody tr th {\n        vertical-align: top;\n    }\n\n    .dataframe thead th {\n        text-align: right;\n    }\n</style>\n<table border=\"1\" class=\"dataframe\">\n  <thead>\n    <tr style=\"text-align: right;\">\n      <th></th>\n      <th>Goals</th>\n      <th>Shots on target</th>\n      <th>Shots off target</th>\n      <th>Total shots (inc. Blocked)</th>\n      <th>Hit Woodwork</th>\n      <th>Penalty goals</th>\n      <th>Penalties not scored</th>\n      <th>Headed goals</th>\n      <th>Passes</th>\n      <th>Passes completed</th>\n      <th>...</th>\n      <th>Goals conceded</th>\n      <th>Saves made</th>\n      <th>Fouls Won</th>\n      <th>Fouls Conceded</th>\n      <th>Offsides</th>\n      <th>Yellow Cards</th>\n      <th>Red Cards</th>\n      <th>Subs on</th>\n      <th>Subs off</th>\n      <th>Players Used</th>\n    </tr>\n  </thead>\n  <tbody>\n    <tr>\n      <th>Goals</th>\n      <td>1.000000</td>\n      <td>0.804193</td>\n      <td>0.403821</td>\n      <td>0.650109</td>\n      <td>0.200512</td>\n      <td>0.730437</td>\n      <td>0.023094</td>\n      <td>0.349330</td>\n      <td>0.838497</td>\n      <td>0.830062</td>\n      <td>...</td>\n      <td>-0.337689</td>\n      <td>0.143912</td>\n      <td>0.663876</td>\n      <td>0.483833</td>\n      <td>0.703043</td>\n      <td>0.337709</td>\n      <td>-3.580574e-01</td>\n      <td>0.727830</td>\n      <td>0.727830</td>\n      <td>0.136067</td>\n    </tr>\n    <tr>\n      <th>Shots on target</th>\n      <td>0.804193</td>\n      <td>1.000000</td>\n      <td>0.611185</td>\n      <td>0.886090</td>\n      <td>0.212932</td>\n      <td>0.478610</td>\n      <td>-0.229945</td>\n      <td>0.210571</td>\n      <td>0.930337</td>\n      <td>0.923242</td>\n      <td>...</td>\n      <td>-0.214415</td>\n      <td>0.085059</td>\n      <td>0.765949</td>\n      <td>0.658353</td>\n      <td>0.696263</td>\n      <td>0.544307</td>\n      <td>-3.340500e-01</td>\n      <td>0.821342</td>\n      <td>0.821342</td>\n      <td>0.249516</td>\n    </tr>\n    <tr>\n      <th>Shots off target</th>\n      <td>0.403821</td>\n      <td>0.611185</td>\n      <td>1.000000</td>\n      <td>0.887032</td>\n      <td>0.581655</td>\n      <td>0.126783</td>\n      <td>-0.173221</td>\n      <td>0.002284</td>\n      <td>0.624451</td>\n      <td>0.612998</td>\n      <td>...</td>\n      <td>-0.139274</td>\n      <td>0.086157</td>\n      <td>0.615058</td>\n      <td>0.434815</td>\n      <td>0.344626</td>\n      <td>0.534186</td>\n      <td>-3.377661e-01</td>\n      <td>0.544974</td>\n      <td>0.544974</td>\n      <td>0.045973</td>\n    </tr>\n    <tr>\n      <th>Total shots (inc. Blocked)</th>\n      <td>0.650109</td>\n      <td>0.886090</td>\n      <td>0.887032</td>\n      <td>1.000000</td>\n      <td>0.400121</td>\n      <td>0.299397</td>\n      <td>-0.234668</td>\n      <td>0.125738</td>\n      <td>0.875698</td>\n      <td>0.864279</td>\n      <td>...</td>\n      <td>-0.184740</td>\n      <td>0.148269</td>\n      <td>0.766215</td>\n      <td>0.623288</td>\n      <td>0.589635</td>\n      <td>0.622268</td>\n      <td>-3.604662e-01</td>\n      <td>0.763336</td>\n      <td>0.763336</td>\n      <td>0.157812</td>\n    </tr>\n    <tr>\n      <th>Hit Woodwork</th>\n      <td>0.200512</td>\n      <td>0.212932</td>\n      <td>0.581655</td>\n      <td>0.400121</td>\n      <td>1.000000</td>\n      <td>-0.076923</td>\n      <td>-0.041345</td>\n      <td>0.020174</td>\n      <td>0.095882</td>\n      <td>0.073814</td>\n      <td>...</td>\n      <td>0.062541</td>\n      <td>-0.230524</td>\n      <td>0.141180</td>\n      <td>0.303987</td>\n      <td>0.113657</td>\n      <td>0.319708</td>\n      <td>-2.820513e-01</td>\n      <td>0.204511</td>\n      <td>0.204511</td>\n      <td>-0.189466</td>\n    </tr>\n    <tr>\n      <th>Penalty goals</th>\n      <td>0.730437</td>\n      <td>0.478610</td>\n      <td>0.126783</td>\n      <td>0.299397</td>\n      <td>-0.076923</td>\n      <td>1.000000</td>\n      <td>0.537484</td>\n      <td>-0.020174</td>\n      <td>0.545294</td>\n      <td>0.550720</td>\n      <td>...</td>\n      <td>-0.020847</td>\n      <td>0.058761</td>\n      <td>0.528185</td>\n      <td>0.114404</td>\n      <td>0.627220</td>\n      <td>0.085467</td>\n      <td>1.794872e-01</td>\n      <td>0.531727</td>\n      <td>0.531727</td>\n      <td>0.351866</td>\n    </tr>\n    <tr>\n      <th>Penalties not scored</th>\n      <td>0.023094</td>\n      <td>-0.229945</td>\n      <td>-0.173221</td>\n      <td>-0.234668</td>\n      <td>-0.041345</td>\n      <td>0.537484</td>\n      <td>1.000000</td>\n      <td>-0.357830</td>\n      <td>-0.169613</td>\n      <td>-0.179278</td>\n      <td>...</td>\n      <td>0.302532</td>\n      <td>0.051019</td>\n      <td>0.163643</td>\n      <td>-0.107169</td>\n      <td>0.210417</td>\n      <td>0.127603</td>\n      <td>5.374838e-01</td>\n      <td>0.084796</td>\n      <td>0.084796</td>\n      <td>0.480079</td>\n    </tr>\n    <tr>\n      <th>Headed goals</th>\n      <td>0.349330</td>\n      <td>0.210571</td>\n      <td>0.002284</td>\n      <td>0.125738</td>\n      <td>0.020174</td>\n      <td>-0.020174</td>\n      <td>-0.357830</td>\n      <td>1.000000</td>\n      <td>0.213073</td>\n      <td>0.200605</td>\n      <td>...</td>\n      <td>-0.344447</td>\n      <td>0.458773</td>\n      <td>0.157215</td>\n      <td>0.117445</td>\n      <td>0.188786</td>\n      <td>0.067245</td>\n      <td>-3.429623e-01</td>\n      <td>0.216077</td>\n      <td>0.216077</td>\n      <td>-0.447214</td>\n    </tr>\n    <tr>\n      <th>Passes</th>\n      <td>0.838497</td>\n      <td>0.930337</td>\n      <td>0.624451</td>\n      <td>0.875698</td>\n      <td>0.095882</td>\n      <td>0.545294</td>\n      <td>-0.169613</td>\n      <td>0.213073</td>\n      <td>1.000000</td>\n      <td>0.997697</td>\n      <td>...</td>\n      <td>-0.284982</td>\n      <td>0.207240</td>\n      <td>0.773382</td>\n      <td>0.549248</td>\n      <td>0.731938</td>\n      <td>0.465799</td>\n      <td>-4.002506e-01</td>\n      <td>0.800546</td>\n      <td>0.800546</td>\n      <td>0.232214</td>\n    </tr>\n    <tr>\n      <th>Passes completed</th>\n      <td>0.830062</td>\n      <td>0.923242</td>\n      <td>0.612998</td>\n      <td>0.864279</td>\n      <td>0.073814</td>\n      <td>0.550720</td>\n      <td>-0.179278</td>\n      <td>0.200605</td>\n      <td>0.997697</td>\n      <td>1.000000</td>\n      <td>...</td>\n      <td>-0.300837</td>\n      <td>0.184878</td>\n      <td>0.738845</td>\n      <td>0.499351</td>\n      <td>0.704802</td>\n      <td>0.420410</td>\n      <td>-4.062897e-01</td>\n      <td>0.766326</td>\n      <td>0.766326</td>\n      <td>0.213345</td>\n    </tr>\n    <tr>\n      <th>Touches</th>\n      <td>0.837760</td>\n      <td>0.934623</td>\n      <td>0.649127</td>\n      <td>0.894708</td>\n      <td>0.129331</td>\n      <td>0.534153</td>\n      <td>-0.133834</td>\n      <td>0.230278</td>\n      <td>0.993044</td>\n      <td>0.984324</td>\n      <td>...</td>\n      <td>-0.256484</td>\n      <td>0.257793</td>\n      <td>0.821173</td>\n      <td>0.608055</td>\n      <td>0.758892</td>\n      <td>0.532544</td>\n      <td>-3.779538e-01</td>\n      <td>0.852144</td>\n      <td>0.852144</td>\n      <td>0.265333</td>\n    </tr>\n    <tr>\n      <th>Crosses</th>\n      <td>0.667097</td>\n      <td>0.727451</td>\n      <td>0.563719</td>\n      <td>0.691374</td>\n      <td>0.480272</td>\n      <td>0.448069</td>\n      <td>-0.074308</td>\n      <td>0.296622</td>\n      <td>0.585416</td>\n      <td>0.562895</td>\n      <td>...</td>\n      <td>-0.043787</td>\n      <td>0.085055</td>\n      <td>0.599338</td>\n      <td>0.571356</td>\n      <td>0.485388</td>\n      <td>0.414210</td>\n      <td>-1.915536e-01</td>\n      <td>0.722090</td>\n      <td>0.722090</td>\n      <td>-0.022858</td>\n    </tr>\n    <tr>\n      <th>Dribbles</th>\n      <td>0.693998</td>\n      <td>0.787066</td>\n      <td>0.510942</td>\n      <td>0.744255</td>\n      <td>0.061463</td>\n      <td>0.452092</td>\n      <td>0.008075</td>\n      <td>-0.008239</td>\n      <td>0.850185</td>\n      <td>0.838306</td>\n      <td>...</td>\n      <td>-0.312041</td>\n      <td>0.142779</td>\n      <td>0.705718</td>\n      <td>0.633913</td>\n      <td>0.575453</td>\n      <td>0.506126</td>\n      <td>-3.419145e-01</td>\n      <td>0.745862</td>\n      <td>0.745862</td>\n      <td>0.347467</td>\n    </tr>\n    <tr>\n      <th>Corners Taken</th>\n      <td>0.697240</td>\n      <td>0.803347</td>\n      <td>0.749154</td>\n      <td>0.864856</td>\n      <td>0.389104</td>\n      <td>0.357828</td>\n      <td>-0.274399</td>\n      <td>0.206268</td>\n      <td>0.849358</td>\n      <td>0.838238</td>\n      <td>...</td>\n      <td>-0.331310</td>\n      <td>0.002432</td>\n      <td>0.651030</td>\n      <td>0.576427</td>\n      <td>0.512095</td>\n      <td>0.410743</td>\n      <td>-4.810903e-01</td>\n      <td>0.691124</td>\n      <td>0.691124</td>\n      <td>0.010681</td>\n    </tr>\n    <tr>\n      <th>Tackles</th>\n      <td>0.796830</td>\n      <td>0.811582</td>\n      <td>0.531234</td>\n      <td>0.757590</td>\n      <td>0.037136</td>\n      <td>0.528052</td>\n      <td>-0.039433</td>\n      <td>0.321400</td>\n      <td>0.846133</td>\n      <td>0.826818</td>\n      <td>...</td>\n      <td>-0.342426</td>\n      <td>0.313748</td>\n      <td>0.814550</td>\n      <td>0.600603</td>\n      <td>0.680592</td>\n      <td>0.505745</td>\n      <td>-2.037936e-01</td>\n      <td>0.832844</td>\n      <td>0.832844</td>\n      <td>0.383399</td>\n    </tr>\n    <tr>\n      <th>Clearances</th>\n      <td>0.255700</td>\n      <td>0.262694</td>\n      <td>0.212638</td>\n      <td>0.306509</td>\n      <td>-0.173871</td>\n      <td>0.261227</td>\n      <td>0.396836</td>\n      <td>0.163236</td>\n      <td>0.312709</td>\n      <td>0.267555</td>\n      <td>...</td>\n      <td>0.070340</td>\n      <td>0.529647</td>\n      <td>0.718739</td>\n      <td>0.547268</td>\n      <td>0.513667</td>\n      <td>0.655658</td>\n      <td>1.940302e-01</td>\n      <td>0.640657</td>\n      <td>0.640657</td>\n      <td>0.602040</td>\n    </tr>\n    <tr>\n      <th>Interceptions</th>\n      <td>0.482441</td>\n      <td>0.587278</td>\n      <td>0.531190</td>\n      <td>0.669220</td>\n      <td>0.307694</td>\n      <td>0.284426</td>\n      <td>0.242572</td>\n      <td>0.284387</td>\n      <td>0.532466</td>\n      <td>0.499171</td>\n      <td>...</td>\n      <td>0.066863</td>\n      <td>0.424241</td>\n      <td>0.736808</td>\n      <td>0.625049</td>\n      <td>0.628501</td>\n      <td>0.779763</td>\n      <td>8.424464e-03</td>\n      <td>0.724859</td>\n      <td>0.724859</td>\n      <td>0.253658</td>\n    </tr>\n    <tr>\n      <th>Clearances off line</th>\n      <td>-0.155292</td>\n      <td>-0.095605</td>\n      <td>-0.199107</td>\n      <td>-0.116198</td>\n      <td>-0.330719</td>\n      <td>-0.279508</td>\n      <td>-0.149404</td>\n      <td>-0.073721</td>\n      <td>-0.070677</td>\n      <td>-0.105891</td>\n      <td>...</td>\n      <td>0.386680</td>\n      <td>0.407966</td>\n      <td>0.119882</td>\n      <td>0.325407</td>\n      <td>0.152892</td>\n      <td>0.149593</td>\n      <td>7.757919e-18</td>\n      <td>0.191533</td>\n      <td>0.191533</td>\n      <td>0.250000</td>\n    </tr>\n    <tr>\n      <th>Clean Sheets</th>\n      <td>0.792559</td>\n      <td>0.756715</td>\n      <td>0.348872</td>\n      <td>0.619025</td>\n      <td>0.088181</td>\n      <td>0.489003</td>\n      <td>-0.012926</td>\n      <td>0.334287</td>\n      <td>0.826174</td>\n      <td>0.809049</td>\n      <td>...</td>\n      <td>-0.358468</td>\n      <td>0.326440</td>\n      <td>0.728923</td>\n      <td>0.619626</td>\n      <td>0.767269</td>\n      <td>0.499770</td>\n      <td>-2.805752e-01</td>\n      <td>0.747166</td>\n      <td>0.747166</td>\n      <td>0.228477</td>\n    </tr>\n    <tr>\n      <th>Blocks</th>\n      <td>-0.029128</td>\n      <td>-0.172650</td>\n      <td>-0.230736</td>\n      <td>-0.180443</td>\n      <td>-0.102803</td>\n      <td>0.102803</td>\n      <td>0.401200</td>\n      <td>0.146531</td>\n      <td>-0.166718</td>\n      <td>-0.193420</td>\n      <td>...</td>\n      <td>0.427601</td>\n      <td>0.707827</td>\n      <td>0.122265</td>\n      <td>0.041215</td>\n      <td>0.293275</td>\n      <td>0.123786</td>\n      <td>3.888646e-01</td>\n      <td>0.228500</td>\n      <td>0.228500</td>\n      <td>0.105373</td>\n    </tr>\n    <tr>\n      <th>Goals conceded</th>\n      <td>-0.337689</td>\n      <td>-0.214415</td>\n      <td>-0.139274</td>\n      <td>-0.184740</td>\n      <td>0.062541</td>\n      <td>-0.020847</td>\n      <td>0.302532</td>\n      <td>-0.344447</td>\n      <td>-0.284982</td>\n      <td>-0.300837</td>\n      <td>...</td>\n      <td>1.000000</td>\n      <td>0.121274</td>\n      <td>-0.037039</td>\n      <td>-0.075297</td>\n      <td>0.222461</td>\n      <td>-0.002574</td>\n      <td>3.960913e-01</td>\n      <td>0.099764</td>\n      <td>0.099764</td>\n      <td>0.330089</td>\n    </tr>\n    <tr>\n      <th>Saves made</th>\n      <td>0.143912</td>\n      <td>0.085059</td>\n      <td>0.086157</td>\n      <td>0.148269</td>\n      <td>-0.230524</td>\n      <td>0.058761</td>\n      <td>0.051019</td>\n      <td>0.458773</td>\n      <td>0.207240</td>\n      <td>0.184878</td>\n      <td>...</td>\n      <td>0.121274</td>\n      <td>1.000000</td>\n      <td>0.391921</td>\n      <td>0.146550</td>\n      <td>0.397007</td>\n      <td>0.313044</td>\n      <td>-1.356023e-02</td>\n      <td>0.413050</td>\n      <td>0.413050</td>\n      <td>-0.023857</td>\n    </tr>\n    <tr>\n      <th>Fouls Won</th>\n      <td>0.663876</td>\n      <td>0.765949</td>\n      <td>0.615058</td>\n      <td>0.766215</td>\n      <td>0.141180</td>\n      <td>0.528185</td>\n      <td>0.163643</td>\n      <td>0.157215</td>\n      <td>0.773382</td>\n      <td>0.738845</td>\n      <td>...</td>\n      <td>-0.037039</td>\n      <td>0.391921</td>\n      <td>1.000000</td>\n      <td>0.768445</td>\n      <td>0.830030</td>\n      <td>0.800450</td>\n      <td>-5.863708e-03</td>\n      <td>0.907719</td>\n      <td>0.907719</td>\n      <td>0.463276</td>\n    </tr>\n    <tr>\n      <th>Fouls Conceded</th>\n      <td>0.483833</td>\n      <td>0.658353</td>\n      <td>0.434815</td>\n      <td>0.623288</td>\n      <td>0.303987</td>\n      <td>0.114404</td>\n      <td>-0.107169</td>\n      <td>0.117445</td>\n      <td>0.549248</td>\n      <td>0.499351</td>\n      <td>...</td>\n      <td>-0.075297</td>\n      <td>0.146550</td>\n      <td>0.768445</td>\n      <td>1.000000</td>\n      <td>0.602987</td>\n      <td>0.856143</td>\n      <td>-1.035081e-01</td>\n      <td>0.734200</td>\n      <td>0.734200</td>\n      <td>0.313987</td>\n    </tr>\n    <tr>\n      <th>Offsides</th>\n      <td>0.703043</td>\n      <td>0.696263</td>\n      <td>0.344626</td>\n      <td>0.589635</td>\n      <td>0.113657</td>\n      <td>0.627220</td>\n      <td>0.210417</td>\n      <td>0.188786</td>\n      <td>0.731938</td>\n      <td>0.704802</td>\n      <td>...</td>\n      <td>0.222461</td>\n      <td>0.397007</td>\n      <td>0.830030</td>\n      <td>0.602987</td>\n      <td>1.000000</td>\n      <td>0.561767</td>\n      <td>5.472387e-02</td>\n      <td>0.856638</td>\n      <td>0.856638</td>\n      <td>0.422139</td>\n    </tr>\n    <tr>\n      <th>Yellow Cards</th>\n      <td>0.337709</td>\n      <td>0.544307</td>\n      <td>0.534186</td>\n      <td>0.622268</td>\n      <td>0.319708</td>\n      <td>0.085467</td>\n      <td>0.127603</td>\n      <td>0.067245</td>\n      <td>0.465799</td>\n      <td>0.420410</td>\n      <td>...</td>\n      <td>-0.002574</td>\n      <td>0.313044</td>\n      <td>0.800450</td>\n      <td>0.856143</td>\n      <td>0.561767</td>\n      <td>1.000000</td>\n      <td>-1.582714e-02</td>\n      <td>0.680231</td>\n      <td>0.680231</td>\n      <td>0.377580</td>\n    </tr>\n    <tr>\n      <th>Red Cards</th>\n      <td>-0.358057</td>\n      <td>-0.334050</td>\n      <td>-0.337766</td>\n      <td>-0.360466</td>\n      <td>-0.282051</td>\n      <td>0.179487</td>\n      <td>0.537484</td>\n      <td>-0.342962</td>\n      <td>-0.400251</td>\n      <td>-0.406290</td>\n      <td>...</td>\n      <td>0.396091</td>\n      <td>-0.013560</td>\n      <td>-0.005864</td>\n      <td>-0.103508</td>\n      <td>0.054724</td>\n      <td>-0.015827</td>\n      <td>1.000000e+00</td>\n      <td>-0.169452</td>\n      <td>-0.169452</td>\n      <td>0.243599</td>\n    </tr>\n    <tr>\n      <th>Subs on</th>\n      <td>0.727830</td>\n      <td>0.821342</td>\n      <td>0.544974</td>\n      <td>0.763336</td>\n      <td>0.204511</td>\n      <td>0.531727</td>\n      <td>0.084796</td>\n      <td>0.216077</td>\n      <td>0.800546</td>\n      <td>0.766326</td>\n      <td>...</td>\n      <td>0.099764</td>\n      <td>0.413050</td>\n      <td>0.907719</td>\n      <td>0.734200</td>\n      <td>0.856638</td>\n      <td>0.680231</td>\n      <td>-1.694516e-01</td>\n      <td>1.000000</td>\n      <td>1.000000</td>\n      <td>0.474938</td>\n    </tr>\n    <tr>\n      <th>Subs off</th>\n      <td>0.727830</td>\n      <td>0.821342</td>\n      <td>0.544974</td>\n      <td>0.763336</td>\n      <td>0.204511</td>\n      <td>0.531727</td>\n      <td>0.084796</td>\n      <td>0.216077</td>\n      <td>0.800546</td>\n      <td>0.766326</td>\n      <td>...</td>\n      <td>0.099764</td>\n      <td>0.413050</td>\n      <td>0.907719</td>\n      <td>0.734200</td>\n      <td>0.856638</td>\n      <td>0.680231</td>\n      <td>-1.694516e-01</td>\n      <td>1.000000</td>\n      <td>1.000000</td>\n      <td>0.474938</td>\n    </tr>\n    <tr>\n      <th>Players Used</th>\n      <td>0.136067</td>\n      <td>0.249516</td>\n      <td>0.045973</td>\n      <td>0.157812</td>\n      <td>-0.189466</td>\n      <td>0.351866</td>\n      <td>0.480079</td>\n      <td>-0.447214</td>\n      <td>0.232214</td>\n      <td>0.213345</td>\n      <td>...</td>\n      <td>0.330089</td>\n      <td>-0.023857</td>\n      <td>0.463276</td>\n      <td>0.313987</td>\n      <td>0.422139</td>\n      <td>0.377580</td>\n      <td>2.435994e-01</td>\n      <td>0.474938</td>\n      <td>0.474938</td>\n      <td>1.000000</td>\n    </tr>\n  </tbody>\n</table>\n<p>30 rows × 30 columns</p>\n</div>"
     },
     "metadata": {},
     "execution_count": 3
    }
   ],
   "source": [
    "df.corr()"
   ]
  },
  {
   "cell_type": "code",
   "execution_count": 2,
   "metadata": {},
   "outputs": [
    {
     "output_type": "execute_result",
     "data": {
      "text/plain": [
       "<AxesSubplot:>"
      ]
     },
     "metadata": {},
     "execution_count": 2
    },
    {
     "output_type": "display_data",
     "data": {
      "text/plain": "<Figure size 432x288 with 2 Axes>",
      "image/svg+xml": "<?xml version=\"1.0\" encoding=\"utf-8\" standalone=\"no\"?>\r\n<!DOCTYPE svg PUBLIC \"-//W3C//DTD SVG 1.1//EN\"\r\n  \"http://www.w3.org/Graphics/SVG/1.1/DTD/svg11.dtd\">\r\n<!-- Created with matplotlib (https://matplotlib.org/) -->\r\n<svg height=\"343.711094pt\" version=\"1.1\" viewBox=\"0 0 449.206687 343.711094\" width=\"449.206687pt\" xmlns=\"http://www.w3.org/2000/svg\" xmlns:xlink=\"http://www.w3.org/1999/xlink\">\r\n <metadata>\r\n  <rdf:RDF xmlns:cc=\"http://creativecommons.org/ns#\" xmlns:dc=\"http://purl.org/dc/elements/1.1/\" xmlns:rdf=\"http://www.w3.org/1999/02/22-rdf-syntax-ns#\">\r\n   <cc:Work>\r\n    <dc:type rdf:resource=\"http://purl.org/dc/dcmitype/StillImage\"/>\r\n    <dc:date>2021-02-09T09:56:49.161990</dc:date>\r\n    <dc:format>image/svg+xml</dc:format>\r\n    <dc:creator>\r\n     <cc:Agent>\r\n      <dc:title>Matplotlib v3.3.3, https://matplotlib.org/</dc:title>\r\n     </cc:Agent>\r\n    </dc:creator>\r\n   </cc:Work>\r\n  </rdf:RDF>\r\n </metadata>\r\n <defs>\r\n  <style type=\"text/css\">*{stroke-linecap:butt;stroke-linejoin:round;}</style>\r\n </defs>\r\n <g id=\"figure_1\">\r\n  <g id=\"patch_1\">\r\n   <path d=\"M 0 343.711094 \r\nL 449.206687 343.711094 \r\nL 449.206687 0 \r\nL 0 0 \r\nz\r\n\" style=\"fill:none;\"/>\r\n  </g>\r\n  <g id=\"axes_1\">\r\n   <g id=\"patch_2\">\r\n    <path d=\"M 115.271875 228.439219 \r\nL 383.111875 228.439219 \r\nL 383.111875 10.999219 \r\nL 115.271875 10.999219 \r\nz\r\n\" style=\"fill:#ffffff;\"/>\r\n   </g>\r\n   <g id=\"QuadMesh_1\">\r\n    <path clip-path=\"url(#p121c82ebf5)\" d=\"M 115.271875 10.999219 \r\nL 124.199875 10.999219 \r\nL 124.199875 18.247219 \r\nL 115.271875 18.247219 \r\nL 115.271875 10.999219 \r\n\" style=\"fill:#faebdd;\"/>\r\n    <path clip-path=\"url(#p121c82ebf5)\" d=\"M 124.199875 10.999219 \r\nL 133.127875 10.999219 \r\nL 133.127875 18.247219 \r\nL 124.199875 18.247219 \r\nL 124.199875 10.999219 \r\n\" style=\"fill:#f6b995;\"/>\r\n    <path clip-path=\"url(#p121c82ebf5)\" d=\"M 133.127875 10.999219 \r\nL 142.055875 10.999219 \r\nL 142.055875 18.247219 \r\nL 133.127875 18.247219 \r\nL 133.127875 10.999219 \r\n\" style=\"fill:#e73d3f;\"/>\r\n    <path clip-path=\"url(#p121c82ebf5)\" d=\"M 142.055875 10.999219 \r\nL 150.983875 10.999219 \r\nL 150.983875 18.247219 \r\nL 142.055875 18.247219 \r\nL 142.055875 10.999219 \r\n\" style=\"fill:#f58d64;\"/>\r\n    <path clip-path=\"url(#p121c82ebf5)\" d=\"M 150.983875 10.999219 \r\nL 159.911875 10.999219 \r\nL 159.911875 18.247219 \r\nL 150.983875 18.247219 \r\nL 150.983875 10.999219 \r\n\" style=\"fill:#ba1656;\"/>\r\n    <path clip-path=\"url(#p121c82ebf5)\" d=\"M 159.911875 10.999219 \r\nL 168.839875 10.999219 \r\nL 168.839875 18.247219 \r\nL 159.911875 18.247219 \r\nL 159.911875 10.999219 \r\n\" style=\"fill:#f6a47c;\"/>\r\n    <path clip-path=\"url(#p121c82ebf5)\" d=\"M 168.839875 10.999219 \r\nL 177.767875 10.999219 \r\nL 177.767875 18.247219 \r\nL 168.839875 18.247219 \r\nL 168.839875 10.999219 \r\n\" style=\"fill:#871e5b;\"/>\r\n    <path clip-path=\"url(#p121c82ebf5)\" d=\"M 177.767875 10.999219 \r\nL 186.695875 10.999219 \r\nL 186.695875 18.247219 \r\nL 177.767875 18.247219 \r\nL 177.767875 10.999219 \r\n\" style=\"fill:#de2e44;\"/>\r\n    <path clip-path=\"url(#p121c82ebf5)\" d=\"M 186.695875 10.999219 \r\nL 195.623875 10.999219 \r\nL 195.623875 18.247219 \r\nL 186.695875 18.247219 \r\nL 186.695875 10.999219 \r\n\" style=\"fill:#f7c2a2;\"/>\r\n    <path clip-path=\"url(#p121c82ebf5)\" d=\"M 195.623875 10.999219 \r\nL 204.551875 10.999219 \r\nL 204.551875 18.247219 \r\nL 195.623875 18.247219 \r\nL 195.623875 10.999219 \r\n\" style=\"fill:#f6bf9d;\"/>\r\n    <path clip-path=\"url(#p121c82ebf5)\" d=\"M 204.551875 10.999219 \r\nL 213.479875 10.999219 \r\nL 213.479875 18.247219 \r\nL 204.551875 18.247219 \r\nL 204.551875 10.999219 \r\n\" style=\"fill:#f6c19f;\"/>\r\n    <path clip-path=\"url(#p121c82ebf5)\" d=\"M 213.479875 10.999219 \r\nL 222.407875 10.999219 \r\nL 222.407875 18.247219 \r\nL 213.479875 18.247219 \r\nL 213.479875 10.999219 \r\n\" style=\"fill:#f59269;\"/>\r\n    <path clip-path=\"url(#p121c82ebf5)\" d=\"M 222.407875 10.999219 \r\nL 231.335875 10.999219 \r\nL 231.335875 18.247219 \r\nL 222.407875 18.247219 \r\nL 222.407875 10.999219 \r\n\" style=\"fill:#f69b71;\"/>\r\n    <path clip-path=\"url(#p121c82ebf5)\" d=\"M 231.335875 10.999219 \r\nL 240.263875 10.999219 \r\nL 240.263875 18.247219 \r\nL 231.335875 18.247219 \r\nL 231.335875 10.999219 \r\n\" style=\"fill:#f69b71;\"/>\r\n    <path clip-path=\"url(#p121c82ebf5)\" d=\"M 240.263875 10.999219 \r\nL 249.191875 10.999219 \r\nL 249.191875 18.247219 \r\nL 240.263875 18.247219 \r\nL 240.263875 10.999219 \r\n\" style=\"fill:#f6b691;\"/>\r\n    <path clip-path=\"url(#p121c82ebf5)\" d=\"M 249.191875 10.999219 \r\nL 258.119875 10.999219 \r\nL 258.119875 18.247219 \r\nL 249.191875 18.247219 \r\nL 249.191875 10.999219 \r\n\" style=\"fill:#ca1a50;\"/>\r\n    <path clip-path=\"url(#p121c82ebf5)\" d=\"M 258.119875 10.999219 \r\nL 267.047875 10.999219 \r\nL 267.047875 18.247219 \r\nL 258.119875 18.247219 \r\nL 258.119875 10.999219 \r\n\" style=\"fill:#ef5840;\"/>\r\n    <path clip-path=\"url(#p121c82ebf5)\" d=\"M 267.047875 10.999219 \r\nL 275.975875 10.999219 \r\nL 275.975875 18.247219 \r\nL 267.047875 18.247219 \r\nL 267.047875 10.999219 \r\n\" style=\"fill:#541e4e;\"/>\r\n    <path clip-path=\"url(#p121c82ebf5)\" d=\"M 275.975875 10.999219 \r\nL 284.903875 10.999219 \r\nL 284.903875 18.247219 \r\nL 275.975875 18.247219 \r\nL 275.975875 10.999219 \r\n\" style=\"fill:#f6b691;\"/>\r\n    <path clip-path=\"url(#p121c82ebf5)\" d=\"M 284.903875 10.999219 \r\nL 293.831875 10.999219 \r\nL 293.831875 18.247219 \r\nL 284.903875 18.247219 \r\nL 284.903875 10.999219 \r\n\" style=\"fill:#781f59;\"/>\r\n    <path clip-path=\"url(#p121c82ebf5)\" d=\"M 293.831875 10.999219 \r\nL 302.759875 10.999219 \r\nL 302.759875 18.247219 \r\nL 293.831875 18.247219 \r\nL 293.831875 10.999219 \r\n\" style=\"fill:#241432;\"/>\r\n    <path clip-path=\"url(#p121c82ebf5)\" d=\"M 302.759875 10.999219 \r\nL 311.687875 10.999219 \r\nL 311.687875 18.247219 \r\nL 302.759875 18.247219 \r\nL 302.759875 10.999219 \r\n\" style=\"fill:#ab185a;\"/>\r\n    <path clip-path=\"url(#p121c82ebf5)\" d=\"M 311.687875 10.999219 \r\nL 320.615875 10.999219 \r\nL 320.615875 18.247219 \r\nL 311.687875 18.247219 \r\nL 311.687875 10.999219 \r\n\" style=\"fill:#f59067;\"/>\r\n    <path clip-path=\"url(#p121c82ebf5)\" d=\"M 320.615875 10.999219 \r\nL 329.543875 10.999219 \r\nL 329.543875 18.247219 \r\nL 320.615875 18.247219 \r\nL 320.615875 10.999219 \r\n\" style=\"fill:#ef5840;\"/>\r\n    <path clip-path=\"url(#p121c82ebf5)\" d=\"M 329.543875 10.999219 \r\nL 338.471875 10.999219 \r\nL 338.471875 18.247219 \r\nL 329.543875 18.247219 \r\nL 329.543875 10.999219 \r\n\" style=\"fill:#f69c73;\"/>\r\n    <path clip-path=\"url(#p121c82ebf5)\" d=\"M 338.471875 10.999219 \r\nL 347.399875 10.999219 \r\nL 347.399875 18.247219 \r\nL 338.471875 18.247219 \r\nL 338.471875 10.999219 \r\n\" style=\"fill:#dc2b46;\"/>\r\n    <path clip-path=\"url(#p121c82ebf5)\" d=\"M 347.399875 10.999219 \r\nL 356.327875 10.999219 \r\nL 356.327875 18.247219 \r\nL 347.399875 18.247219 \r\nL 347.399875 10.999219 \r\n\" style=\"fill:#20122e;\"/>\r\n    <path clip-path=\"url(#p121c82ebf5)\" d=\"M 356.327875 10.999219 \r\nL 365.255875 10.999219 \r\nL 365.255875 18.247219 \r\nL 356.327875 18.247219 \r\nL 356.327875 10.999219 \r\n\" style=\"fill:#f6a37a;\"/>\r\n    <path clip-path=\"url(#p121c82ebf5)\" d=\"M 365.255875 10.999219 \r\nL 374.183875 10.999219 \r\nL 374.183875 18.247219 \r\nL 365.255875 18.247219 \r\nL 365.255875 10.999219 \r\n\" style=\"fill:#f6a37a;\"/>\r\n    <path clip-path=\"url(#p121c82ebf5)\" d=\"M 374.183875 10.999219 \r\nL 383.111875 10.999219 \r\nL 383.111875 18.247219 \r\nL 374.183875 18.247219 \r\nL 374.183875 10.999219 \r\n\" style=\"fill:#a8185a;\"/>\r\n    <path clip-path=\"url(#p121c82ebf5)\" d=\"M 115.271875 18.247219 \r\nL 124.199875 18.247219 \r\nL 124.199875 25.495219 \r\nL 115.271875 25.495219 \r\nL 115.271875 18.247219 \r\n\" style=\"fill:#f6b995;\"/>\r\n    <path clip-path=\"url(#p121c82ebf5)\" d=\"M 124.199875 18.247219 \r\nL 133.127875 18.247219 \r\nL 133.127875 25.495219 \r\nL 124.199875 25.495219 \r\nL 124.199875 18.247219 \r\n\" style=\"fill:#faebdd;\"/>\r\n    <path clip-path=\"url(#p121c82ebf5)\" d=\"M 133.127875 18.247219 \r\nL 142.055875 18.247219 \r\nL 142.055875 25.495219 \r\nL 133.127875 25.495219 \r\nL 133.127875 18.247219 \r\n\" style=\"fill:#f4815a;\"/>\r\n    <path clip-path=\"url(#p121c82ebf5)\" d=\"M 142.055875 18.247219 \r\nL 150.983875 18.247219 \r\nL 150.983875 25.495219 \r\nL 142.055875 25.495219 \r\nL 142.055875 18.247219 \r\n\" style=\"fill:#f7cfb3;\"/>\r\n    <path clip-path=\"url(#p121c82ebf5)\" d=\"M 150.983875 18.247219 \r\nL 159.911875 18.247219 \r\nL 159.911875 25.495219 \r\nL 150.983875 25.495219 \r\nL 150.983875 18.247219 \r\n\" style=\"fill:#bd1655;\"/>\r\n    <path clip-path=\"url(#p121c82ebf5)\" d=\"M 159.911875 18.247219 \r\nL 168.839875 18.247219 \r\nL 168.839875 25.495219 \r\nL 159.911875 25.495219 \r\nL 159.911875 18.247219 \r\n\" style=\"fill:#ef5640;\"/>\r\n    <path clip-path=\"url(#p121c82ebf5)\" d=\"M 168.839875 18.247219 \r\nL 177.767875 18.247219 \r\nL 177.767875 25.495219 \r\nL 168.839875 25.495219 \r\nL 168.839875 18.247219 \r\n\" style=\"fill:#401b44;\"/>\r\n    <path clip-path=\"url(#p121c82ebf5)\" d=\"M 177.767875 18.247219 \r\nL 186.695875 18.247219 \r\nL 186.695875 25.495219 \r\nL 177.767875 25.495219 \r\nL 177.767875 18.247219 \r\n\" style=\"fill:#bd1655;\"/>\r\n    <path clip-path=\"url(#p121c82ebf5)\" d=\"M 186.695875 18.247219 \r\nL 195.623875 18.247219 \r\nL 195.623875 25.495219 \r\nL 186.695875 25.495219 \r\nL 186.695875 18.247219 \r\n\" style=\"fill:#f8d9c3;\"/>\r\n    <path clip-path=\"url(#p121c82ebf5)\" d=\"M 195.623875 18.247219 \r\nL 204.551875 18.247219 \r\nL 204.551875 25.495219 \r\nL 195.623875 25.495219 \r\nL 195.623875 18.247219 \r\n\" style=\"fill:#f8d7c0;\"/>\r\n    <path clip-path=\"url(#p121c82ebf5)\" d=\"M 204.551875 18.247219 \r\nL 213.479875 18.247219 \r\nL 213.479875 25.495219 \r\nL 204.551875 25.495219 \r\nL 204.551875 18.247219 \r\n\" style=\"fill:#f8dac5;\"/>\r\n    <path clip-path=\"url(#p121c82ebf5)\" d=\"M 213.479875 18.247219 \r\nL 222.407875 18.247219 \r\nL 222.407875 25.495219 \r\nL 213.479875 25.495219 \r\nL 213.479875 18.247219 \r\n\" style=\"fill:#f6a37a;\"/>\r\n    <path clip-path=\"url(#p121c82ebf5)\" d=\"M 222.407875 18.247219 \r\nL 231.335875 18.247219 \r\nL 231.335875 25.495219 \r\nL 222.407875 25.495219 \r\nL 222.407875 18.247219 \r\n\" style=\"fill:#f6b48f;\"/>\r\n    <path clip-path=\"url(#p121c82ebf5)\" d=\"M 231.335875 18.247219 \r\nL 240.263875 18.247219 \r\nL 240.263875 25.495219 \r\nL 231.335875 25.495219 \r\nL 231.335875 18.247219 \r\n\" style=\"fill:#f6b995;\"/>\r\n    <path clip-path=\"url(#p121c82ebf5)\" d=\"M 240.263875 18.247219 \r\nL 249.191875 18.247219 \r\nL 249.191875 25.495219 \r\nL 240.263875 25.495219 \r\nL 240.263875 18.247219 \r\n\" style=\"fill:#f6bb97;\"/>\r\n    <path clip-path=\"url(#p121c82ebf5)\" d=\"M 249.191875 18.247219 \r\nL 258.119875 18.247219 \r\nL 258.119875 25.495219 \r\nL 249.191875 25.495219 \r\nL 249.191875 18.247219 \r\n\" style=\"fill:#cb1b4f;\"/>\r\n    <path clip-path=\"url(#p121c82ebf5)\" d=\"M 258.119875 18.247219 \r\nL 267.047875 18.247219 \r\nL 267.047875 25.495219 \r\nL 258.119875 25.495219 \r\nL 258.119875 18.247219 \r\n\" style=\"fill:#f47a54;\"/>\r\n    <path clip-path=\"url(#p121c82ebf5)\" d=\"M 267.047875 18.247219 \r\nL 275.975875 18.247219 \r\nL 275.975875 25.495219 \r\nL 267.047875 25.495219 \r\nL 267.047875 18.247219 \r\n\" style=\"fill:#641f54;\"/>\r\n    <path clip-path=\"url(#p121c82ebf5)\" d=\"M 275.975875 18.247219 \r\nL 284.903875 18.247219 \r\nL 284.903875 25.495219 \r\nL 275.975875 25.495219 \r\nL 275.975875 18.247219 \r\n\" style=\"fill:#f6ab83;\"/>\r\n    <path clip-path=\"url(#p121c82ebf5)\" d=\"M 284.903875 18.247219 \r\nL 293.831875 18.247219 \r\nL 293.831875 25.495219 \r\nL 284.903875 25.495219 \r\nL 284.903875 18.247219 \r\n\" style=\"fill:#501d4c;\"/>\r\n    <path clip-path=\"url(#p121c82ebf5)\" d=\"M 293.831875 18.247219 \r\nL 302.759875 18.247219 \r\nL 302.759875 25.495219 \r\nL 293.831875 25.495219 \r\nL 293.831875 18.247219 \r\n\" style=\"fill:#451c47;\"/>\r\n    <path clip-path=\"url(#p121c82ebf5)\" d=\"M 302.759875 18.247219 \r\nL 311.687875 18.247219 \r\nL 311.687875 25.495219 \r\nL 302.759875 25.495219 \r\nL 302.759875 18.247219 \r\n\" style=\"fill:#981b5b;\"/>\r\n    <path clip-path=\"url(#p121c82ebf5)\" d=\"M 311.687875 18.247219 \r\nL 320.615875 18.247219 \r\nL 320.615875 25.495219 \r\nL 311.687875 25.495219 \r\nL 311.687875 18.247219 \r\n\" style=\"fill:#f6ae87;\"/>\r\n    <path clip-path=\"url(#p121c82ebf5)\" d=\"M 320.615875 18.247219 \r\nL 329.543875 18.247219 \r\nL 329.543875 25.495219 \r\nL 320.615875 25.495219 \r\nL 320.615875 18.247219 \r\n\" style=\"fill:#f58f66;\"/>\r\n    <path clip-path=\"url(#p121c82ebf5)\" d=\"M 329.543875 18.247219 \r\nL 338.471875 18.247219 \r\nL 338.471875 25.495219 \r\nL 329.543875 25.495219 \r\nL 329.543875 18.247219 \r\n\" style=\"fill:#f69b71;\"/>\r\n    <path clip-path=\"url(#p121c82ebf5)\" d=\"M 338.471875 18.247219 \r\nL 347.399875 18.247219 \r\nL 347.399875 25.495219 \r\nL 338.471875 25.495219 \r\nL 338.471875 18.247219 \r\n\" style=\"fill:#f26d4b;\"/>\r\n    <path clip-path=\"url(#p121c82ebf5)\" d=\"M 347.399875 18.247219 \r\nL 356.327875 18.247219 \r\nL 356.327875 25.495219 \r\nL 347.399875 25.495219 \r\nL 347.399875 18.247219 \r\n\" style=\"fill:#251433;\"/>\r\n    <path clip-path=\"url(#p121c82ebf5)\" d=\"M 356.327875 18.247219 \r\nL 365.255875 18.247219 \r\nL 365.255875 25.495219 \r\nL 356.327875 25.495219 \r\nL 356.327875 18.247219 \r\n\" style=\"fill:#f6be9b;\"/>\r\n    <path clip-path=\"url(#p121c82ebf5)\" d=\"M 365.255875 18.247219 \r\nL 374.183875 18.247219 \r\nL 374.183875 25.495219 \r\nL 365.255875 25.495219 \r\nL 365.255875 18.247219 \r\n\" style=\"fill:#f6be9b;\"/>\r\n    <path clip-path=\"url(#p121c82ebf5)\" d=\"M 374.183875 18.247219 \r\nL 383.111875 18.247219 \r\nL 383.111875 25.495219 \r\nL 374.183875 25.495219 \r\nL 374.183875 18.247219 \r\n\" style=\"fill:#c81951;\"/>\r\n    <path clip-path=\"url(#p121c82ebf5)\" d=\"M 115.271875 25.495219 \r\nL 124.199875 25.495219 \r\nL 124.199875 32.743219 \r\nL 115.271875 32.743219 \r\nL 115.271875 25.495219 \r\n\" style=\"fill:#e73d3f;\"/>\r\n    <path clip-path=\"url(#p121c82ebf5)\" d=\"M 124.199875 25.495219 \r\nL 133.127875 25.495219 \r\nL 133.127875 32.743219 \r\nL 124.199875 32.743219 \r\nL 124.199875 25.495219 \r\n\" style=\"fill:#f4815a;\"/>\r\n    <path clip-path=\"url(#p121c82ebf5)\" d=\"M 133.127875 25.495219 \r\nL 142.055875 25.495219 \r\nL 142.055875 32.743219 \r\nL 133.127875 32.743219 \r\nL 133.127875 25.495219 \r\n\" style=\"fill:#faebdd;\"/>\r\n    <path clip-path=\"url(#p121c82ebf5)\" d=\"M 142.055875 25.495219 \r\nL 150.983875 25.495219 \r\nL 150.983875 32.743219 \r\nL 142.055875 32.743219 \r\nL 142.055875 25.495219 \r\n\" style=\"fill:#f7cfb3;\"/>\r\n    <path clip-path=\"url(#p121c82ebf5)\" d=\"M 150.983875 25.495219 \r\nL 159.911875 25.495219 \r\nL 159.911875 32.743219 \r\nL 150.983875 32.743219 \r\nL 150.983875 25.495219 \r\n\" style=\"fill:#f37852;\"/>\r\n    <path clip-path=\"url(#p121c82ebf5)\" d=\"M 159.911875 25.495219 \r\nL 168.839875 25.495219 \r\nL 168.839875 32.743219 \r\nL 159.911875 32.743219 \r\nL 159.911875 25.495219 \r\n\" style=\"fill:#a6195a;\"/>\r\n    <path clip-path=\"url(#p121c82ebf5)\" d=\"M 168.839875 25.495219 \r\nL 177.767875 25.495219 \r\nL 177.767875 32.743219 \r\nL 168.839875 32.743219 \r\nL 168.839875 25.495219 \r\n\" style=\"fill:#501d4c;\"/>\r\n    <path clip-path=\"url(#p121c82ebf5)\" d=\"M 177.767875 25.495219 \r\nL 186.695875 25.495219 \r\nL 186.695875 32.743219 \r\nL 177.767875 32.743219 \r\nL 177.767875 25.495219 \r\n\" style=\"fill:#811e5a;\"/>\r\n    <path clip-path=\"url(#p121c82ebf5)\" d=\"M 186.695875 25.495219 \r\nL 195.623875 25.495219 \r\nL 195.623875 32.743219 \r\nL 186.695875 32.743219 \r\nL 186.695875 25.495219 \r\n\" style=\"fill:#f4865e;\"/>\r\n    <path clip-path=\"url(#p121c82ebf5)\" d=\"M 195.623875 25.495219 \r\nL 204.551875 25.495219 \r\nL 204.551875 32.743219 \r\nL 195.623875 32.743219 \r\nL 195.623875 25.495219 \r\n\" style=\"fill:#f4835b;\"/>\r\n    <path clip-path=\"url(#p121c82ebf5)\" d=\"M 204.551875 25.495219 \r\nL 213.479875 25.495219 \r\nL 213.479875 32.743219 \r\nL 204.551875 32.743219 \r\nL 204.551875 25.495219 \r\n\" style=\"fill:#f58d64;\"/>\r\n    <path clip-path=\"url(#p121c82ebf5)\" d=\"M 213.479875 25.495219 \r\nL 222.407875 25.495219 \r\nL 222.407875 32.743219 \r\nL 213.479875 32.743219 \r\nL 213.479875 25.495219 \r\n\" style=\"fill:#f3734e;\"/>\r\n    <path clip-path=\"url(#p121c82ebf5)\" d=\"M 222.407875 25.495219 \r\nL 231.335875 25.495219 \r\nL 231.335875 32.743219 \r\nL 222.407875 32.743219 \r\nL 222.407875 25.495219 \r\n\" style=\"fill:#f16244;\"/>\r\n    <path clip-path=\"url(#p121c82ebf5)\" d=\"M 231.335875 25.495219 \r\nL 240.263875 25.495219 \r\nL 240.263875 32.743219 \r\nL 231.335875 32.743219 \r\nL 231.335875 25.495219 \r\n\" style=\"fill:#f6a981;\"/>\r\n    <path clip-path=\"url(#p121c82ebf5)\" d=\"M 240.263875 25.495219 \r\nL 249.191875 25.495219 \r\nL 249.191875 32.743219 \r\nL 240.263875 32.743219 \r\nL 240.263875 25.495219 \r\n\" style=\"fill:#f26747;\"/>\r\n    <path clip-path=\"url(#p121c82ebf5)\" d=\"M 249.191875 25.495219 \r\nL 258.119875 25.495219 \r\nL 258.119875 32.743219 \r\nL 249.191875 32.743219 \r\nL 249.191875 25.495219 \r\n\" style=\"fill:#bd1655;\"/>\r\n    <path clip-path=\"url(#p121c82ebf5)\" d=\"M 258.119875 25.495219 \r\nL 267.047875 25.495219 \r\nL 267.047875 32.743219 \r\nL 258.119875 32.743219 \r\nL 258.119875 25.495219 \r\n\" style=\"fill:#f26747;\"/>\r\n    <path clip-path=\"url(#p121c82ebf5)\" d=\"M 267.047875 25.495219 \r\nL 275.975875 25.495219 \r\nL 275.975875 32.743219 \r\nL 267.047875 32.743219 \r\nL 267.047875 25.495219 \r\n\" style=\"fill:#481c48;\"/>\r\n    <path clip-path=\"url(#p121c82ebf5)\" d=\"M 275.975875 25.495219 \r\nL 284.903875 25.495219 \r\nL 284.903875 32.743219 \r\nL 275.975875 32.743219 \r\nL 275.975875 25.495219 \r\n\" style=\"fill:#de2e44;\"/>\r\n    <path clip-path=\"url(#p121c82ebf5)\" d=\"M 284.903875 25.495219 \r\nL 293.831875 25.495219 \r\nL 293.831875 32.743219 \r\nL 284.903875 32.743219 \r\nL 284.903875 25.495219 \r\n\" style=\"fill:#401b44;\"/>\r\n    <path clip-path=\"url(#p121c82ebf5)\" d=\"M 293.831875 25.495219 \r\nL 302.759875 25.495219 \r\nL 302.759875 32.743219 \r\nL 293.831875 32.743219 \r\nL 293.831875 25.495219 \r\n\" style=\"fill:#591e50;\"/>\r\n    <path clip-path=\"url(#p121c82ebf5)\" d=\"M 302.759875 25.495219 \r\nL 311.687875 25.495219 \r\nL 311.687875 32.743219 \r\nL 302.759875 32.743219 \r\nL 302.759875 25.495219 \r\n\" style=\"fill:#9a1b5b;\"/>\r\n    <path clip-path=\"url(#p121c82ebf5)\" d=\"M 311.687875 25.495219 \r\nL 320.615875 25.495219 \r\nL 320.615875 32.743219 \r\nL 311.687875 32.743219 \r\nL 311.687875 25.495219 \r\n\" style=\"fill:#f4835b;\"/>\r\n    <path clip-path=\"url(#p121c82ebf5)\" d=\"M 320.615875 25.495219 \r\nL 329.543875 25.495219 \r\nL 329.543875 32.743219 \r\nL 320.615875 32.743219 \r\nL 320.615875 25.495219 \r\n\" style=\"fill:#eb483e;\"/>\r\n    <path clip-path=\"url(#p121c82ebf5)\" d=\"M 329.543875 25.495219 \r\nL 338.471875 25.495219 \r\nL 338.471875 32.743219 \r\nL 329.543875 32.743219 \r\nL 329.543875 25.495219 \r\n\" style=\"fill:#dd2c45;\"/>\r\n    <path clip-path=\"url(#p121c82ebf5)\" d=\"M 338.471875 25.495219 \r\nL 347.399875 25.495219 \r\nL 347.399875 32.743219 \r\nL 338.471875 32.743219 \r\nL 338.471875 25.495219 \r\n\" style=\"fill:#f26948;\"/>\r\n    <path clip-path=\"url(#p121c82ebf5)\" d=\"M 347.399875 25.495219 \r\nL 356.327875 25.495219 \r\nL 356.327875 32.743219 \r\nL 347.399875 32.743219 \r\nL 347.399875 25.495219 \r\n\" style=\"fill:#241432;\"/>\r\n    <path clip-path=\"url(#p121c82ebf5)\" d=\"M 356.327875 25.495219 \r\nL 365.255875 25.495219 \r\nL 365.255875 32.743219 \r\nL 356.327875 32.743219 \r\nL 356.327875 25.495219 \r\n\" style=\"fill:#f26d4b;\"/>\r\n    <path clip-path=\"url(#p121c82ebf5)\" d=\"M 365.255875 25.495219 \r\nL 374.183875 25.495219 \r\nL 374.183875 32.743219 \r\nL 365.255875 32.743219 \r\nL 365.255875 25.495219 \r\n\" style=\"fill:#f26d4b;\"/>\r\n    <path clip-path=\"url(#p121c82ebf5)\" d=\"M 374.183875 25.495219 \r\nL 383.111875 25.495219 \r\nL 383.111875 32.743219 \r\nL 374.183875 32.743219 \r\nL 374.183875 25.495219 \r\n\" style=\"fill:#8e1d5b;\"/>\r\n    <path clip-path=\"url(#p121c82ebf5)\" d=\"M 115.271875 32.743219 \r\nL 124.199875 32.743219 \r\nL 124.199875 39.991219 \r\nL 115.271875 39.991219 \r\nL 115.271875 32.743219 \r\n\" style=\"fill:#f58d64;\"/>\r\n    <path clip-path=\"url(#p121c82ebf5)\" d=\"M 124.199875 32.743219 \r\nL 133.127875 32.743219 \r\nL 133.127875 39.991219 \r\nL 124.199875 39.991219 \r\nL 124.199875 32.743219 \r\n\" style=\"fill:#f7cfb3;\"/>\r\n    <path clip-path=\"url(#p121c82ebf5)\" d=\"M 133.127875 32.743219 \r\nL 142.055875 32.743219 \r\nL 142.055875 39.991219 \r\nL 133.127875 39.991219 \r\nL 133.127875 32.743219 \r\n\" style=\"fill:#f7cfb3;\"/>\r\n    <path clip-path=\"url(#p121c82ebf5)\" d=\"M 142.055875 32.743219 \r\nL 150.983875 32.743219 \r\nL 150.983875 39.991219 \r\nL 142.055875 39.991219 \r\nL 142.055875 32.743219 \r\n\" style=\"fill:#faebdd;\"/>\r\n    <path clip-path=\"url(#p121c82ebf5)\" d=\"M 150.983875 32.743219 \r\nL 159.911875 32.743219 \r\nL 159.911875 39.991219 \r\nL 150.983875 39.991219 \r\nL 150.983875 32.743219 \r\n\" style=\"fill:#e73d3f;\"/>\r\n    <path clip-path=\"url(#p121c82ebf5)\" d=\"M 159.911875 32.743219 \r\nL 168.839875 32.743219 \r\nL 168.839875 39.991219 \r\nL 159.911875 39.991219 \r\nL 159.911875 32.743219 \r\n\" style=\"fill:#d3214b;\"/>\r\n    <path clip-path=\"url(#p121c82ebf5)\" d=\"M 168.839875 32.743219 \r\nL 177.767875 32.743219 \r\nL 177.767875 39.991219 \r\nL 168.839875 39.991219 \r\nL 168.839875 32.743219 \r\n\" style=\"fill:#3f1b43;\"/>\r\n    <path clip-path=\"url(#p121c82ebf5)\" d=\"M 177.767875 32.743219 \r\nL 186.695875 32.743219 \r\nL 186.695875 39.991219 \r\nL 177.767875 39.991219 \r\nL 177.767875 32.743219 \r\n\" style=\"fill:#a4195b;\"/>\r\n    <path clip-path=\"url(#p121c82ebf5)\" d=\"M 186.695875 32.743219 \r\nL 195.623875 32.743219 \r\nL 195.623875 39.991219 \r\nL 186.695875 39.991219 \r\nL 186.695875 32.743219 \r\n\" style=\"fill:#f7ccaf;\"/>\r\n    <path clip-path=\"url(#p121c82ebf5)\" d=\"M 195.623875 32.743219 \r\nL 204.551875 32.743219 \r\nL 204.551875 39.991219 \r\nL 195.623875 39.991219 \r\nL 195.623875 32.743219 \r\n\" style=\"fill:#f7c9aa;\"/>\r\n    <path clip-path=\"url(#p121c82ebf5)\" d=\"M 204.551875 32.743219 \r\nL 213.479875 32.743219 \r\nL 213.479875 39.991219 \r\nL 204.551875 39.991219 \r\nL 204.551875 32.743219 \r\n\" style=\"fill:#f7d0b5;\"/>\r\n    <path clip-path=\"url(#p121c82ebf5)\" d=\"M 213.479875 32.743219 \r\nL 222.407875 32.743219 \r\nL 222.407875 39.991219 \r\nL 213.479875 39.991219 \r\nL 213.479875 32.743219 \r\n\" style=\"fill:#f59970;\"/>\r\n    <path clip-path=\"url(#p121c82ebf5)\" d=\"M 222.407875 32.743219 \r\nL 231.335875 32.743219 \r\nL 231.335875 39.991219 \r\nL 222.407875 39.991219 \r\nL 222.407875 32.743219 \r\n\" style=\"fill:#f6a880;\"/>\r\n    <path clip-path=\"url(#p121c82ebf5)\" d=\"M 231.335875 32.743219 \r\nL 240.263875 32.743219 \r\nL 240.263875 39.991219 \r\nL 231.335875 39.991219 \r\nL 231.335875 32.743219 \r\n\" style=\"fill:#f7c9aa;\"/>\r\n    <path clip-path=\"url(#p121c82ebf5)\" d=\"M 240.263875 32.743219 \r\nL 249.191875 32.743219 \r\nL 249.191875 39.991219 \r\nL 240.263875 39.991219 \r\nL 240.263875 32.743219 \r\n\" style=\"fill:#f6ad85;\"/>\r\n    <path clip-path=\"url(#p121c82ebf5)\" d=\"M 249.191875 32.743219 \r\nL 258.119875 32.743219 \r\nL 258.119875 39.991219 \r\nL 249.191875 39.991219 \r\nL 249.191875 32.743219 \r\n\" style=\"fill:#d62449;\"/>\r\n    <path clip-path=\"url(#p121c82ebf5)\" d=\"M 258.119875 32.743219 \r\nL 267.047875 32.743219 \r\nL 267.047875 39.991219 \r\nL 258.119875 39.991219 \r\nL 258.119875 32.743219 \r\n\" style=\"fill:#f59269;\"/>\r\n    <path clip-path=\"url(#p121c82ebf5)\" d=\"M 267.047875 32.743219 \r\nL 275.975875 32.743219 \r\nL 275.975875 39.991219 \r\nL 267.047875 39.991219 \r\nL 267.047875 32.743219 \r\n\" style=\"fill:#601f52;\"/>\r\n    <path clip-path=\"url(#p121c82ebf5)\" d=\"M 275.975875 32.743219 \r\nL 284.903875 32.743219 \r\nL 284.903875 39.991219 \r\nL 275.975875 39.991219 \r\nL 275.975875 32.743219 \r\n\" style=\"fill:#f4845d;\"/>\r\n    <path clip-path=\"url(#p121c82ebf5)\" d=\"M 284.903875 32.743219 \r\nL 293.831875 32.743219 \r\nL 293.831875 39.991219 \r\nL 284.903875 39.991219 \r\nL 284.903875 32.743219 \r\n\" style=\"fill:#4c1d4b;\"/>\r\n    <path clip-path=\"url(#p121c82ebf5)\" d=\"M 293.831875 32.743219 \r\nL 302.759875 32.743219 \r\nL 302.759875 39.991219 \r\nL 293.831875 39.991219 \r\nL 293.831875 32.743219 \r\n\" style=\"fill:#4c1d4b;\"/>\r\n    <path clip-path=\"url(#p121c82ebf5)\" d=\"M 302.759875 32.743219 \r\nL 311.687875 32.743219 \r\nL 311.687875 39.991219 \r\nL 302.759875 39.991219 \r\nL 302.759875 32.743219 \r\n\" style=\"fill:#ab185a;\"/>\r\n    <path clip-path=\"url(#p121c82ebf5)\" d=\"M 311.687875 32.743219 \r\nL 320.615875 32.743219 \r\nL 320.615875 39.991219 \r\nL 311.687875 39.991219 \r\nL 311.687875 32.743219 \r\n\" style=\"fill:#f6ae87;\"/>\r\n    <path clip-path=\"url(#p121c82ebf5)\" d=\"M 320.615875 32.743219 \r\nL 329.543875 32.743219 \r\nL 329.543875 39.991219 \r\nL 320.615875 39.991219 \r\nL 320.615875 32.743219 \r\n\" style=\"fill:#f4845d;\"/>\r\n    <path clip-path=\"url(#p121c82ebf5)\" d=\"M 329.543875 32.743219 \r\nL 338.471875 32.743219 \r\nL 338.471875 39.991219 \r\nL 329.543875 39.991219 \r\nL 329.543875 32.743219 \r\n\" style=\"fill:#f47c55;\"/>\r\n    <path clip-path=\"url(#p121c82ebf5)\" d=\"M 338.471875 32.743219 \r\nL 347.399875 32.743219 \r\nL 347.399875 39.991219 \r\nL 338.471875 39.991219 \r\nL 338.471875 32.743219 \r\n\" style=\"fill:#f4845d;\"/>\r\n    <path clip-path=\"url(#p121c82ebf5)\" d=\"M 347.399875 32.743219 \r\nL 356.327875 32.743219 \r\nL 356.327875 39.991219 \r\nL 347.399875 39.991219 \r\nL 347.399875 32.743219 \r\n\" style=\"fill:#1e122d;\"/>\r\n    <path clip-path=\"url(#p121c82ebf5)\" d=\"M 356.327875 32.743219 \r\nL 365.255875 32.743219 \r\nL 365.255875 39.991219 \r\nL 356.327875 39.991219 \r\nL 356.327875 32.743219 \r\n\" style=\"fill:#f6ae87;\"/>\r\n    <path clip-path=\"url(#p121c82ebf5)\" d=\"M 365.255875 32.743219 \r\nL 374.183875 32.743219 \r\nL 374.183875 39.991219 \r\nL 365.255875 39.991219 \r\nL 365.255875 32.743219 \r\n\" style=\"fill:#f6ae87;\"/>\r\n    <path clip-path=\"url(#p121c82ebf5)\" d=\"M 374.183875 32.743219 \r\nL 383.111875 32.743219 \r\nL 383.111875 39.991219 \r\nL 374.183875 39.991219 \r\nL 374.183875 32.743219 \r\n\" style=\"fill:#af1759;\"/>\r\n    <path clip-path=\"url(#p121c82ebf5)\" d=\"M 115.271875 39.991219 \r\nL 124.199875 39.991219 \r\nL 124.199875 47.239219 \r\nL 115.271875 47.239219 \r\nL 115.271875 39.991219 \r\n\" style=\"fill:#ba1656;\"/>\r\n    <path clip-path=\"url(#p121c82ebf5)\" d=\"M 124.199875 39.991219 \r\nL 133.127875 39.991219 \r\nL 133.127875 47.239219 \r\nL 124.199875 47.239219 \r\nL 124.199875 39.991219 \r\n\" style=\"fill:#bd1655;\"/>\r\n    <path clip-path=\"url(#p121c82ebf5)\" d=\"M 133.127875 39.991219 \r\nL 142.055875 39.991219 \r\nL 142.055875 47.239219 \r\nL 133.127875 47.239219 \r\nL 133.127875 39.991219 \r\n\" style=\"fill:#f37852;\"/>\r\n    <path clip-path=\"url(#p121c82ebf5)\" d=\"M 142.055875 39.991219 \r\nL 150.983875 39.991219 \r\nL 150.983875 47.239219 \r\nL 142.055875 47.239219 \r\nL 142.055875 39.991219 \r\n\" style=\"fill:#e73d3f;\"/>\r\n    <path clip-path=\"url(#p121c82ebf5)\" d=\"M 150.983875 39.991219 \r\nL 159.911875 39.991219 \r\nL 159.911875 47.239219 \r\nL 150.983875 47.239219 \r\nL 150.983875 39.991219 \r\n\" style=\"fill:#faebdd;\"/>\r\n    <path clip-path=\"url(#p121c82ebf5)\" d=\"M 159.911875 39.991219 \r\nL 168.839875 39.991219 \r\nL 168.839875 47.239219 \r\nL 159.911875 47.239219 \r\nL 159.911875 39.991219 \r\n\" style=\"fill:#691f55;\"/>\r\n    <path clip-path=\"url(#p121c82ebf5)\" d=\"M 168.839875 39.991219 \r\nL 177.767875 39.991219 \r\nL 177.767875 47.239219 \r\nL 168.839875 47.239219 \r\nL 168.839875 39.991219 \r\n\" style=\"fill:#751f58;\"/>\r\n    <path clip-path=\"url(#p121c82ebf5)\" d=\"M 177.767875 39.991219 \r\nL 186.695875 39.991219 \r\nL 186.695875 47.239219 \r\nL 177.767875 47.239219 \r\nL 177.767875 39.991219 \r\n\" style=\"fill:#861e5b;\"/>\r\n    <path clip-path=\"url(#p121c82ebf5)\" d=\"M 186.695875 39.991219 \r\nL 195.623875 39.991219 \r\nL 195.623875 47.239219 \r\nL 186.695875 47.239219 \r\nL 186.695875 39.991219 \r\n\" style=\"fill:#9c1b5b;\"/>\r\n    <path clip-path=\"url(#p121c82ebf5)\" d=\"M 195.623875 39.991219 \r\nL 204.551875 39.991219 \r\nL 204.551875 47.239219 \r\nL 195.623875 47.239219 \r\nL 195.623875 39.991219 \r\n\" style=\"fill:#951c5b;\"/>\r\n    <path clip-path=\"url(#p121c82ebf5)\" d=\"M 204.551875 39.991219 \r\nL 213.479875 39.991219 \r\nL 213.479875 47.239219 \r\nL 204.551875 47.239219 \r\nL 204.551875 39.991219 \r\n\" style=\"fill:#a6195a;\"/>\r\n    <path clip-path=\"url(#p121c82ebf5)\" d=\"M 213.479875 39.991219 \r\nL 222.407875 39.991219 \r\nL 222.407875 47.239219 \r\nL 213.479875 47.239219 \r\nL 213.479875 39.991219 \r\n\" style=\"fill:#ef5840;\"/>\r\n    <path clip-path=\"url(#p121c82ebf5)\" d=\"M 222.407875 39.991219 \r\nL 231.335875 39.991219 \r\nL 231.335875 47.239219 \r\nL 222.407875 47.239219 \r\nL 222.407875 39.991219 \r\n\" style=\"fill:#921c5b;\"/>\r\n    <path clip-path=\"url(#p121c82ebf5)\" d=\"M 231.335875 39.991219 \r\nL 240.263875 39.991219 \r\nL 240.263875 47.239219 \r\nL 231.335875 47.239219 \r\nL 231.335875 39.991219 \r\n\" style=\"fill:#e53940;\"/>\r\n    <path clip-path=\"url(#p121c82ebf5)\" d=\"M 240.263875 39.991219 \r\nL 249.191875 39.991219 \r\nL 249.191875 47.239219 \r\nL 240.263875 47.239219 \r\nL 240.263875 39.991219 \r\n\" style=\"fill:#8b1d5b;\"/>\r\n    <path clip-path=\"url(#p121c82ebf5)\" d=\"M 249.191875 39.991219 \r\nL 258.119875 39.991219 \r\nL 258.119875 47.239219 \r\nL 249.191875 47.239219 \r\nL 249.191875 39.991219 \r\n\" style=\"fill:#501d4c;\"/>\r\n    <path clip-path=\"url(#p121c82ebf5)\" d=\"M 258.119875 39.991219 \r\nL 267.047875 39.991219 \r\nL 267.047875 47.239219 \r\nL 258.119875 47.239219 \r\nL 258.119875 39.991219 \r\n\" style=\"fill:#d62449;\"/>\r\n    <path clip-path=\"url(#p121c82ebf5)\" d=\"M 267.047875 39.991219 \r\nL 275.975875 39.991219 \r\nL 275.975875 47.239219 \r\nL 267.047875 47.239219 \r\nL 267.047875 39.991219 \r\n\" style=\"fill:#251433;\"/>\r\n    <path clip-path=\"url(#p121c82ebf5)\" d=\"M 275.975875 39.991219 \r\nL 284.903875 39.991219 \r\nL 284.903875 47.239219 \r\nL 275.975875 47.239219 \r\nL 275.975875 39.991219 \r\n\" style=\"fill:#9a1b5b;\"/>\r\n    <path clip-path=\"url(#p121c82ebf5)\" d=\"M 284.903875 39.991219 \r\nL 293.831875 39.991219 \r\nL 293.831875 47.239219 \r\nL 284.903875 47.239219 \r\nL 284.903875 39.991219 \r\n\" style=\"fill:#631f53;\"/>\r\n    <path clip-path=\"url(#p121c82ebf5)\" d=\"M 293.831875 39.991219 \r\nL 302.759875 39.991219 \r\nL 302.759875 47.239219 \r\nL 293.831875 47.239219 \r\nL 293.831875 39.991219 \r\n\" style=\"fill:#921c5b;\"/>\r\n    <path clip-path=\"url(#p121c82ebf5)\" d=\"M 302.759875 39.991219 \r\nL 311.687875 39.991219 \r\nL 311.687875 47.239219 \r\nL 302.759875 47.239219 \r\nL 302.759875 39.991219 \r\n\" style=\"fill:#401b44;\"/>\r\n    <path clip-path=\"url(#p121c82ebf5)\" d=\"M 311.687875 39.991219 \r\nL 320.615875 39.991219 \r\nL 320.615875 47.239219 \r\nL 311.687875 47.239219 \r\nL 311.687875 39.991219 \r\n\" style=\"fill:#aa185a;\"/>\r\n    <path clip-path=\"url(#p121c82ebf5)\" d=\"M 320.615875 39.991219 \r\nL 329.543875 39.991219 \r\nL 329.543875 47.239219 \r\nL 320.615875 47.239219 \r\nL 320.615875 39.991219 \r\n\" style=\"fill:#d5224a;\"/>\r\n    <path clip-path=\"url(#p121c82ebf5)\" d=\"M 329.543875 39.991219 \r\nL 338.471875 39.991219 \r\nL 338.471875 47.239219 \r\nL 329.543875 47.239219 \r\nL 329.543875 39.991219 \r\n\" style=\"fill:#a11a5b;\"/>\r\n    <path clip-path=\"url(#p121c82ebf5)\" d=\"M 338.471875 39.991219 \r\nL 347.399875 39.991219 \r\nL 347.399875 47.239219 \r\nL 338.471875 47.239219 \r\nL 338.471875 39.991219 \r\n\" style=\"fill:#d82748;\"/>\r\n    <path clip-path=\"url(#p121c82ebf5)\" d=\"M 347.399875 39.991219 \r\nL 356.327875 39.991219 \r\nL 356.327875 47.239219 \r\nL 347.399875 47.239219 \r\nL 347.399875 39.991219 \r\n\" style=\"fill:#33183c;\"/>\r\n    <path clip-path=\"url(#p121c82ebf5)\" d=\"M 356.327875 39.991219 \r\nL 365.255875 39.991219 \r\nL 365.255875 47.239219 \r\nL 356.327875 47.239219 \r\nL 356.327875 39.991219 \r\n\" style=\"fill:#bc1656;\"/>\r\n    <path clip-path=\"url(#p121c82ebf5)\" d=\"M 365.255875 39.991219 \r\nL 374.183875 39.991219 \r\nL 374.183875 47.239219 \r\nL 365.255875 47.239219 \r\nL 365.255875 39.991219 \r\n\" style=\"fill:#bc1656;\"/>\r\n    <path clip-path=\"url(#p121c82ebf5)\" d=\"M 374.183875 39.991219 \r\nL 383.111875 39.991219 \r\nL 383.111875 47.239219 \r\nL 374.183875 47.239219 \r\nL 374.183875 39.991219 \r\n\" style=\"fill:#4b1d4a;\"/>\r\n    <path clip-path=\"url(#p121c82ebf5)\" d=\"M 115.271875 47.239219 \r\nL 124.199875 47.239219 \r\nL 124.199875 54.487219 \r\nL 115.271875 54.487219 \r\nL 115.271875 47.239219 \r\n\" style=\"fill:#f6a47c;\"/>\r\n    <path clip-path=\"url(#p121c82ebf5)\" d=\"M 124.199875 47.239219 \r\nL 133.127875 47.239219 \r\nL 133.127875 54.487219 \r\nL 124.199875 54.487219 \r\nL 124.199875 47.239219 \r\n\" style=\"fill:#ef5640;\"/>\r\n    <path clip-path=\"url(#p121c82ebf5)\" d=\"M 133.127875 47.239219 \r\nL 142.055875 47.239219 \r\nL 142.055875 54.487219 \r\nL 133.127875 54.487219 \r\nL 133.127875 47.239219 \r\n\" style=\"fill:#a6195a;\"/>\r\n    <path clip-path=\"url(#p121c82ebf5)\" d=\"M 142.055875 47.239219 \r\nL 150.983875 47.239219 \r\nL 150.983875 54.487219 \r\nL 142.055875 54.487219 \r\nL 142.055875 47.239219 \r\n\" style=\"fill:#d3214b;\"/>\r\n    <path clip-path=\"url(#p121c82ebf5)\" d=\"M 150.983875 47.239219 \r\nL 159.911875 47.239219 \r\nL 159.911875 54.487219 \r\nL 150.983875 54.487219 \r\nL 150.983875 47.239219 \r\n\" style=\"fill:#691f55;\"/>\r\n    <path clip-path=\"url(#p121c82ebf5)\" d=\"M 159.911875 47.239219 \r\nL 168.839875 47.239219 \r\nL 168.839875 54.487219 \r\nL 159.911875 54.487219 \r\nL 159.911875 47.239219 \r\n\" style=\"fill:#faebdd;\"/>\r\n    <path clip-path=\"url(#p121c82ebf5)\" d=\"M 168.839875 47.239219 \r\nL 177.767875 47.239219 \r\nL 177.767875 54.487219 \r\nL 168.839875 54.487219 \r\nL 168.839875 47.239219 \r\n\" style=\"fill:#f26b49;\"/>\r\n    <path clip-path=\"url(#p121c82ebf5)\" d=\"M 177.767875 47.239219 \r\nL 186.695875 47.239219 \r\nL 186.695875 54.487219 \r\nL 177.767875 54.487219 \r\nL 177.767875 47.239219 \r\n\" style=\"fill:#7a1f59;\"/>\r\n    <path clip-path=\"url(#p121c82ebf5)\" d=\"M 186.695875 47.239219 \r\nL 195.623875 47.239219 \r\nL 195.623875 54.487219 \r\nL 186.695875 54.487219 \r\nL 186.695875 47.239219 \r\n\" style=\"fill:#f26d4b;\"/>\r\n    <path clip-path=\"url(#p121c82ebf5)\" d=\"M 195.623875 47.239219 \r\nL 204.551875 47.239219 \r\nL 204.551875 54.487219 \r\nL 195.623875 54.487219 \r\nL 195.623875 47.239219 \r\n\" style=\"fill:#f26f4c;\"/>\r\n    <path clip-path=\"url(#p121c82ebf5)\" d=\"M 204.551875 47.239219 \r\nL 213.479875 47.239219 \r\nL 213.479875 54.487219 \r\nL 204.551875 54.487219 \r\nL 204.551875 47.239219 \r\n\" style=\"fill:#f26948;\"/>\r\n    <path clip-path=\"url(#p121c82ebf5)\" d=\"M 213.479875 47.239219 \r\nL 222.407875 47.239219 \r\nL 222.407875 54.487219 \r\nL 213.479875 54.487219 \r\nL 213.479875 47.239219 \r\n\" style=\"fill:#ec4c3e;\"/>\r\n    <path clip-path=\"url(#p121c82ebf5)\" d=\"M 222.407875 47.239219 \r\nL 231.335875 47.239219 \r\nL 231.335875 54.487219 \r\nL 222.407875 54.487219 \r\nL 222.407875 47.239219 \r\n\" style=\"fill:#ed4e3e;\"/>\r\n    <path clip-path=\"url(#p121c82ebf5)\" d=\"M 231.335875 47.239219 \r\nL 240.263875 47.239219 \r\nL 240.263875 54.487219 \r\nL 231.335875 54.487219 \r\nL 231.335875 47.239219 \r\n\" style=\"fill:#e03143;\"/>\r\n    <path clip-path=\"url(#p121c82ebf5)\" d=\"M 240.263875 47.239219 \r\nL 249.191875 47.239219 \r\nL 249.191875 54.487219 \r\nL 240.263875 54.487219 \r\nL 240.263875 47.239219 \r\n\" style=\"fill:#f26747;\"/>\r\n    <path clip-path=\"url(#p121c82ebf5)\" d=\"M 249.191875 47.239219 \r\nL 258.119875 47.239219 \r\nL 258.119875 54.487219 \r\nL 249.191875 54.487219 \r\nL 249.191875 47.239219 \r\n\" style=\"fill:#cb1b4f;\"/>\r\n    <path clip-path=\"url(#p121c82ebf5)\" d=\"M 258.119875 47.239219 \r\nL 267.047875 47.239219 \r\nL 267.047875 54.487219 \r\nL 258.119875 54.487219 \r\nL 258.119875 47.239219 \r\n\" style=\"fill:#d11f4c;\"/>\r\n    <path clip-path=\"url(#p121c82ebf5)\" d=\"M 267.047875 47.239219 \r\nL 275.975875 47.239219 \r\nL 275.975875 54.487219 \r\nL 267.047875 54.487219 \r\nL 267.047875 47.239219 \r\n\" style=\"fill:#33183c;\"/>\r\n    <path clip-path=\"url(#p121c82ebf5)\" d=\"M 275.975875 47.239219 \r\nL 284.903875 47.239219 \r\nL 284.903875 54.487219 \r\nL 275.975875 54.487219 \r\nL 275.975875 47.239219 \r\n\" style=\"fill:#ef5a41;\"/>\r\n    <path clip-path=\"url(#p121c82ebf5)\" d=\"M 284.903875 47.239219 \r\nL 293.831875 47.239219 \r\nL 293.831875 54.487219 \r\nL 284.903875 54.487219 \r\nL 284.903875 47.239219 \r\n\" style=\"fill:#9e1a5b;\"/>\r\n    <path clip-path=\"url(#p121c82ebf5)\" d=\"M 293.831875 47.239219 \r\nL 302.759875 47.239219 \r\nL 302.759875 54.487219 \r\nL 293.831875 54.487219 \r\nL 293.831875 47.239219 \r\n\" style=\"fill:#7a1f59;\"/>\r\n    <path clip-path=\"url(#p121c82ebf5)\" d=\"M 302.759875 47.239219 \r\nL 311.687875 47.239219 \r\nL 311.687875 54.487219 \r\nL 302.759875 54.487219 \r\nL 302.759875 47.239219 \r\n\" style=\"fill:#921c5b;\"/>\r\n    <path clip-path=\"url(#p121c82ebf5)\" d=\"M 311.687875 47.239219 \r\nL 320.615875 47.239219 \r\nL 320.615875 54.487219 \r\nL 311.687875 54.487219 \r\nL 311.687875 47.239219 \r\n\" style=\"fill:#f26747;\"/>\r\n    <path clip-path=\"url(#p121c82ebf5)\" d=\"M 320.615875 47.239219 \r\nL 329.543875 47.239219 \r\nL 329.543875 54.487219 \r\nL 320.615875 54.487219 \r\nL 320.615875 47.239219 \r\n\" style=\"fill:#a11a5b;\"/>\r\n    <path clip-path=\"url(#p121c82ebf5)\" d=\"M 329.543875 47.239219 \r\nL 338.471875 47.239219 \r\nL 338.471875 54.487219 \r\nL 329.543875 54.487219 \r\nL 329.543875 47.239219 \r\n\" style=\"fill:#f4865e;\"/>\r\n    <path clip-path=\"url(#p121c82ebf5)\" d=\"M 338.471875 47.239219 \r\nL 347.399875 47.239219 \r\nL 347.399875 54.487219 \r\nL 338.471875 54.487219 \r\nL 338.471875 47.239219 \r\n\" style=\"fill:#981b5b;\"/>\r\n    <path clip-path=\"url(#p121c82ebf5)\" d=\"M 347.399875 47.239219 \r\nL 356.327875 47.239219 \r\nL 356.327875 54.487219 \r\nL 347.399875 54.487219 \r\nL 347.399875 47.239219 \r\n\" style=\"fill:#b51657;\"/>\r\n    <path clip-path=\"url(#p121c82ebf5)\" d=\"M 356.327875 47.239219 \r\nL 365.255875 47.239219 \r\nL 365.255875 54.487219 \r\nL 356.327875 54.487219 \r\nL 356.327875 47.239219 \r\n\" style=\"fill:#f26948;\"/>\r\n    <path clip-path=\"url(#p121c82ebf5)\" d=\"M 365.255875 47.239219 \r\nL 374.183875 47.239219 \r\nL 374.183875 54.487219 \r\nL 365.255875 54.487219 \r\nL 365.255875 47.239219 \r\n\" style=\"fill:#f26948;\"/>\r\n    <path clip-path=\"url(#p121c82ebf5)\" d=\"M 374.183875 47.239219 \r\nL 383.111875 47.239219 \r\nL 383.111875 54.487219 \r\nL 374.183875 54.487219 \r\nL 374.183875 47.239219 \r\n\" style=\"fill:#de2e44;\"/>\r\n    <path clip-path=\"url(#p121c82ebf5)\" d=\"M 115.271875 54.487219 \r\nL 124.199875 54.487219 \r\nL 124.199875 61.735219 \r\nL 115.271875 61.735219 \r\nL 115.271875 54.487219 \r\n\" style=\"fill:#871e5b;\"/>\r\n    <path clip-path=\"url(#p121c82ebf5)\" d=\"M 124.199875 54.487219 \r\nL 133.127875 54.487219 \r\nL 133.127875 61.735219 \r\nL 124.199875 61.735219 \r\nL 124.199875 54.487219 \r\n\" style=\"fill:#401b44;\"/>\r\n    <path clip-path=\"url(#p121c82ebf5)\" d=\"M 133.127875 54.487219 \r\nL 142.055875 54.487219 \r\nL 142.055875 61.735219 \r\nL 133.127875 61.735219 \r\nL 133.127875 54.487219 \r\n\" style=\"fill:#501d4c;\"/>\r\n    <path clip-path=\"url(#p121c82ebf5)\" d=\"M 142.055875 54.487219 \r\nL 150.983875 54.487219 \r\nL 150.983875 61.735219 \r\nL 142.055875 61.735219 \r\nL 142.055875 54.487219 \r\n\" style=\"fill:#3f1b43;\"/>\r\n    <path clip-path=\"url(#p121c82ebf5)\" d=\"M 150.983875 54.487219 \r\nL 159.911875 54.487219 \r\nL 159.911875 61.735219 \r\nL 150.983875 61.735219 \r\nL 150.983875 54.487219 \r\n\" style=\"fill:#751f58;\"/>\r\n    <path clip-path=\"url(#p121c82ebf5)\" d=\"M 159.911875 54.487219 \r\nL 168.839875 54.487219 \r\nL 168.839875 61.735219 \r\nL 159.911875 61.735219 \r\nL 159.911875 54.487219 \r\n\" style=\"fill:#f26b49;\"/>\r\n    <path clip-path=\"url(#p121c82ebf5)\" d=\"M 168.839875 54.487219 \r\nL 177.767875 54.487219 \r\nL 177.767875 61.735219 \r\nL 168.839875 61.735219 \r\nL 168.839875 54.487219 \r\n\" style=\"fill:#faebdd;\"/>\r\n    <path clip-path=\"url(#p121c82ebf5)\" d=\"M 177.767875 54.487219 \r\nL 186.695875 54.487219 \r\nL 186.695875 61.735219 \r\nL 177.767875 61.735219 \r\nL 177.767875 54.487219 \r\n\" style=\"fill:#20122e;\"/>\r\n    <path clip-path=\"url(#p121c82ebf5)\" d=\"M 186.695875 54.487219 \r\nL 195.623875 54.487219 \r\nL 195.623875 61.735219 \r\nL 186.695875 61.735219 \r\nL 186.695875 54.487219 \r\n\" style=\"fill:#501d4c;\"/>\r\n    <path clip-path=\"url(#p121c82ebf5)\" d=\"M 195.623875 54.487219 \r\nL 204.551875 54.487219 \r\nL 204.551875 61.735219 \r\nL 195.623875 61.735219 \r\nL 195.623875 54.487219 \r\n\" style=\"fill:#4e1d4b;\"/>\r\n    <path clip-path=\"url(#p121c82ebf5)\" d=\"M 204.551875 54.487219 \r\nL 213.479875 54.487219 \r\nL 213.479875 61.735219 \r\nL 204.551875 61.735219 \r\nL 204.551875 54.487219 \r\n\" style=\"fill:#5b1e51;\"/>\r\n    <path clip-path=\"url(#p121c82ebf5)\" d=\"M 213.479875 54.487219 \r\nL 222.407875 54.487219 \r\nL 222.407875 61.735219 \r\nL 213.479875 61.735219 \r\nL 213.479875 54.487219 \r\n\" style=\"fill:#6b1f56;\"/>\r\n    <path clip-path=\"url(#p121c82ebf5)\" d=\"M 222.407875 54.487219 \r\nL 231.335875 54.487219 \r\nL 231.335875 61.735219 \r\nL 222.407875 61.735219 \r\nL 222.407875 54.487219 \r\n\" style=\"fill:#821e5a;\"/>\r\n    <path clip-path=\"url(#p121c82ebf5)\" d=\"M 231.335875 54.487219 \r\nL 240.263875 54.487219 \r\nL 240.263875 61.735219 \r\nL 231.335875 61.735219 \r\nL 231.335875 54.487219 \r\n\" style=\"fill:#34193d;\"/>\r\n    <path clip-path=\"url(#p121c82ebf5)\" d=\"M 240.263875 54.487219 \r\nL 249.191875 54.487219 \r\nL 249.191875 61.735219 \r\nL 240.263875 61.735219 \r\nL 240.263875 54.487219 \r\n\" style=\"fill:#751f58;\"/>\r\n    <path clip-path=\"url(#p121c82ebf5)\" d=\"M 249.191875 54.487219 \r\nL 258.119875 54.487219 \r\nL 258.119875 61.735219 \r\nL 249.191875 61.735219 \r\nL 249.191875 54.487219 \r\n\" style=\"fill:#e63b40;\"/>\r\n    <path clip-path=\"url(#p121c82ebf5)\" d=\"M 258.119875 54.487219 \r\nL 267.047875 54.487219 \r\nL 267.047875 61.735219 \r\nL 258.119875 61.735219 \r\nL 258.119875 54.487219 \r\n\" style=\"fill:#c71951;\"/>\r\n    <path clip-path=\"url(#p121c82ebf5)\" d=\"M 267.047875 54.487219 \r\nL 275.975875 54.487219 \r\nL 275.975875 61.735219 \r\nL 267.047875 61.735219 \r\nL 267.047875 54.487219 \r\n\" style=\"fill:#561e4f;\"/>\r\n    <path clip-path=\"url(#p121c82ebf5)\" d=\"M 275.975875 54.487219 \r\nL 284.903875 54.487219 \r\nL 284.903875 61.735219 \r\nL 275.975875 61.735219 \r\nL 275.975875 54.487219 \r\n\" style=\"fill:#7b1f59;\"/>\r\n    <path clip-path=\"url(#p121c82ebf5)\" d=\"M 284.903875 54.487219 \r\nL 293.831875 54.487219 \r\nL 293.831875 61.735219 \r\nL 284.903875 61.735219 \r\nL 284.903875 54.487219 \r\n\" style=\"fill:#e73d3f;\"/>\r\n    <path clip-path=\"url(#p121c82ebf5)\" d=\"M 293.831875 54.487219 \r\nL 302.759875 54.487219 \r\nL 302.759875 61.735219 \r\nL 293.831875 61.735219 \r\nL 293.831875 54.487219 \r\n\" style=\"fill:#d5224a;\"/>\r\n    <path clip-path=\"url(#p121c82ebf5)\" d=\"M 302.759875 54.487219 \r\nL 311.687875 54.487219 \r\nL 311.687875 61.735219 \r\nL 302.759875 61.735219 \r\nL 302.759875 54.487219 \r\n\" style=\"fill:#8e1d5b;\"/>\r\n    <path clip-path=\"url(#p121c82ebf5)\" d=\"M 311.687875 54.487219 \r\nL 320.615875 54.487219 \r\nL 320.615875 61.735219 \r\nL 311.687875 61.735219 \r\nL 311.687875 54.487219 \r\n\" style=\"fill:#b01759;\"/>\r\n    <path clip-path=\"url(#p121c82ebf5)\" d=\"M 320.615875 54.487219 \r\nL 329.543875 54.487219 \r\nL 329.543875 61.735219 \r\nL 320.615875 61.735219 \r\nL 320.615875 54.487219 \r\n\" style=\"fill:#611f53;\"/>\r\n    <path clip-path=\"url(#p121c82ebf5)\" d=\"M 329.543875 54.487219 \r\nL 338.471875 54.487219 \r\nL 338.471875 61.735219 \r\nL 329.543875 61.735219 \r\nL 329.543875 54.487219 \r\n\" style=\"fill:#bd1655;\"/>\r\n    <path clip-path=\"url(#p121c82ebf5)\" d=\"M 338.471875 54.487219 \r\nL 347.399875 54.487219 \r\nL 347.399875 61.735219 \r\nL 338.471875 61.735219 \r\nL 338.471875 54.487219 \r\n\" style=\"fill:#a6195a;\"/>\r\n    <path clip-path=\"url(#p121c82ebf5)\" d=\"M 347.399875 54.487219 \r\nL 356.327875 54.487219 \r\nL 356.327875 61.735219 \r\nL 347.399875 61.735219 \r\nL 347.399875 54.487219 \r\n\" style=\"fill:#f26b49;\"/>\r\n    <path clip-path=\"url(#p121c82ebf5)\" d=\"M 356.327875 54.487219 \r\nL 365.255875 54.487219 \r\nL 365.255875 61.735219 \r\nL 356.327875 61.735219 \r\nL 356.327875 54.487219 \r\n\" style=\"fill:#981b5b;\"/>\r\n    <path clip-path=\"url(#p121c82ebf5)\" d=\"M 365.255875 54.487219 \r\nL 374.183875 54.487219 \r\nL 374.183875 61.735219 \r\nL 365.255875 61.735219 \r\nL 365.255875 54.487219 \r\n\" style=\"fill:#981b5b;\"/>\r\n    <path clip-path=\"url(#p121c82ebf5)\" d=\"M 374.183875 54.487219 \r\nL 383.111875 54.487219 \r\nL 383.111875 61.735219 \r\nL 374.183875 61.735219 \r\nL 374.183875 54.487219 \r\n\" style=\"fill:#ef5840;\"/>\r\n    <path clip-path=\"url(#p121c82ebf5)\" d=\"M 115.271875 61.735219 \r\nL 124.199875 61.735219 \r\nL 124.199875 68.983219 \r\nL 115.271875 68.983219 \r\nL 115.271875 61.735219 \r\n\" style=\"fill:#de2e44;\"/>\r\n    <path clip-path=\"url(#p121c82ebf5)\" d=\"M 124.199875 61.735219 \r\nL 133.127875 61.735219 \r\nL 133.127875 68.983219 \r\nL 124.199875 68.983219 \r\nL 124.199875 61.735219 \r\n\" style=\"fill:#bd1655;\"/>\r\n    <path clip-path=\"url(#p121c82ebf5)\" d=\"M 133.127875 61.735219 \r\nL 142.055875 61.735219 \r\nL 142.055875 68.983219 \r\nL 133.127875 68.983219 \r\nL 133.127875 61.735219 \r\n\" style=\"fill:#811e5a;\"/>\r\n    <path clip-path=\"url(#p121c82ebf5)\" d=\"M 142.055875 61.735219 \r\nL 150.983875 61.735219 \r\nL 150.983875 68.983219 \r\nL 142.055875 68.983219 \r\nL 142.055875 61.735219 \r\n\" style=\"fill:#a4195b;\"/>\r\n    <path clip-path=\"url(#p121c82ebf5)\" d=\"M 150.983875 61.735219 \r\nL 159.911875 61.735219 \r\nL 159.911875 68.983219 \r\nL 150.983875 68.983219 \r\nL 150.983875 61.735219 \r\n\" style=\"fill:#861e5b;\"/>\r\n    <path clip-path=\"url(#p121c82ebf5)\" d=\"M 159.911875 61.735219 \r\nL 168.839875 61.735219 \r\nL 168.839875 68.983219 \r\nL 159.911875 68.983219 \r\nL 159.911875 61.735219 \r\n\" style=\"fill:#7a1f59;\"/>\r\n    <path clip-path=\"url(#p121c82ebf5)\" d=\"M 168.839875 61.735219 \r\nL 177.767875 61.735219 \r\nL 177.767875 68.983219 \r\nL 168.839875 68.983219 \r\nL 168.839875 61.735219 \r\n\" style=\"fill:#20122e;\"/>\r\n    <path clip-path=\"url(#p121c82ebf5)\" d=\"M 177.767875 61.735219 \r\nL 186.695875 61.735219 \r\nL 186.695875 68.983219 \r\nL 177.767875 68.983219 \r\nL 177.767875 61.735219 \r\n\" style=\"fill:#faebdd;\"/>\r\n    <path clip-path=\"url(#p121c82ebf5)\" d=\"M 186.695875 61.735219 \r\nL 195.623875 61.735219 \r\nL 195.623875 68.983219 \r\nL 186.695875 68.983219 \r\nL 186.695875 61.735219 \r\n\" style=\"fill:#bd1655;\"/>\r\n    <path clip-path=\"url(#p121c82ebf5)\" d=\"M 195.623875 61.735219 \r\nL 204.551875 61.735219 \r\nL 204.551875 68.983219 \r\nL 195.623875 68.983219 \r\nL 195.623875 61.735219 \r\n\" style=\"fill:#ba1656;\"/>\r\n    <path clip-path=\"url(#p121c82ebf5)\" d=\"M 204.551875 61.735219 \r\nL 213.479875 61.735219 \r\nL 213.479875 68.983219 \r\nL 204.551875 68.983219 \r\nL 204.551875 61.735219 \r\n\" style=\"fill:#c21753;\"/>\r\n    <path clip-path=\"url(#p121c82ebf5)\" d=\"M 213.479875 61.735219 \r\nL 222.407875 61.735219 \r\nL 222.407875 68.983219 \r\nL 213.479875 68.983219 \r\nL 213.479875 61.735219 \r\n\" style=\"fill:#d3214b;\"/>\r\n    <path clip-path=\"url(#p121c82ebf5)\" d=\"M 222.407875 61.735219 \r\nL 231.335875 61.735219 \r\nL 231.335875 68.983219 \r\nL 222.407875 68.983219 \r\nL 222.407875 61.735219 \r\n\" style=\"fill:#7d1f5a;\"/>\r\n    <path clip-path=\"url(#p121c82ebf5)\" d=\"M 231.335875 61.735219 \r\nL 240.263875 61.735219 \r\nL 240.263875 68.983219 \r\nL 231.335875 68.983219 \r\nL 231.335875 61.735219 \r\n\" style=\"fill:#bc1656;\"/>\r\n    <path clip-path=\"url(#p121c82ebf5)\" d=\"M 240.263875 61.735219 \r\nL 249.191875 61.735219 \r\nL 249.191875 68.983219 \r\nL 240.263875 68.983219 \r\nL 240.263875 61.735219 \r\n\" style=\"fill:#d82748;\"/>\r\n    <path clip-path=\"url(#p121c82ebf5)\" d=\"M 249.191875 61.735219 \r\nL 258.119875 61.735219 \r\nL 258.119875 68.983219 \r\nL 249.191875 68.983219 \r\nL 249.191875 61.735219 \r\n\" style=\"fill:#b01759;\"/>\r\n    <path clip-path=\"url(#p121c82ebf5)\" d=\"M 258.119875 61.735219 \r\nL 267.047875 61.735219 \r\nL 267.047875 68.983219 \r\nL 258.119875 68.983219 \r\nL 258.119875 61.735219 \r\n\" style=\"fill:#d11f4c;\"/>\r\n    <path clip-path=\"url(#p121c82ebf5)\" d=\"M 267.047875 61.735219 \r\nL 275.975875 61.735219 \r\nL 275.975875 68.983219 \r\nL 267.047875 68.983219 \r\nL 267.047875 61.735219 \r\n\" style=\"fill:#6b1f56;\"/>\r\n    <path clip-path=\"url(#p121c82ebf5)\" d=\"M 275.975875 61.735219 \r\nL 284.903875 61.735219 \r\nL 284.903875 68.983219 \r\nL 275.975875 68.983219 \r\nL 275.975875 61.735219 \r\n\" style=\"fill:#db2946;\"/>\r\n    <path clip-path=\"url(#p121c82ebf5)\" d=\"M 284.903875 61.735219 \r\nL 293.831875 61.735219 \r\nL 293.831875 68.983219 \r\nL 284.903875 68.983219 \r\nL 284.903875 61.735219 \r\n\" style=\"fill:#ab185a;\"/>\r\n    <path clip-path=\"url(#p121c82ebf5)\" d=\"M 293.831875 61.735219 \r\nL 302.759875 61.735219 \r\nL 302.759875 68.983219 \r\nL 293.831875 68.983219 \r\nL 293.831875 61.735219 \r\n\" style=\"fill:#221331;\"/>\r\n    <path clip-path=\"url(#p121c82ebf5)\" d=\"M 302.759875 61.735219 \r\nL 311.687875 61.735219 \r\nL 311.687875 68.983219 \r\nL 302.759875 68.983219 \r\nL 302.759875 61.735219 \r\n\" style=\"fill:#ed503e;\"/>\r\n    <path clip-path=\"url(#p121c82ebf5)\" d=\"M 311.687875 61.735219 \r\nL 320.615875 61.735219 \r\nL 320.615875 68.983219 \r\nL 311.687875 68.983219 \r\nL 311.687875 61.735219 \r\n\" style=\"fill:#af1759;\"/>\r\n    <path clip-path=\"url(#p121c82ebf5)\" d=\"M 320.615875 61.735219 \r\nL 329.543875 61.735219 \r\nL 329.543875 68.983219 \r\nL 320.615875 68.983219 \r\nL 320.615875 61.735219 \r\n\" style=\"fill:#a3195b;\"/>\r\n    <path clip-path=\"url(#p121c82ebf5)\" d=\"M 329.543875 61.735219 \r\nL 338.471875 61.735219 \r\nL 338.471875 68.983219 \r\nL 329.543875 68.983219 \r\nL 329.543875 61.735219 \r\n\" style=\"fill:#b71657;\"/>\r\n    <path clip-path=\"url(#p121c82ebf5)\" d=\"M 338.471875 61.735219 \r\nL 347.399875 61.735219 \r\nL 347.399875 68.983219 \r\nL 338.471875 68.983219 \r\nL 338.471875 61.735219 \r\n\" style=\"fill:#931c5b;\"/>\r\n    <path clip-path=\"url(#p121c82ebf5)\" d=\"M 347.399875 61.735219 \r\nL 356.327875 61.735219 \r\nL 356.327875 68.983219 \r\nL 347.399875 68.983219 \r\nL 347.399875 61.735219 \r\n\" style=\"fill:#221331;\"/>\r\n    <path clip-path=\"url(#p121c82ebf5)\" d=\"M 356.327875 61.735219 \r\nL 365.255875 61.735219 \r\nL 365.255875 68.983219 \r\nL 356.327875 68.983219 \r\nL 356.327875 61.735219 \r\n\" style=\"fill:#bf1654;\"/>\r\n    <path clip-path=\"url(#p121c82ebf5)\" d=\"M 365.255875 61.735219 \r\nL 374.183875 61.735219 \r\nL 374.183875 68.983219 \r\nL 365.255875 68.983219 \r\nL 365.255875 61.735219 \r\n\" style=\"fill:#bf1654;\"/>\r\n    <path clip-path=\"url(#p121c82ebf5)\" d=\"M 374.183875 61.735219 \r\nL 383.111875 61.735219 \r\nL 383.111875 68.983219 \r\nL 374.183875 68.983219 \r\nL 374.183875 61.735219 \r\n\" style=\"fill:#08081e;\"/>\r\n    <path clip-path=\"url(#p121c82ebf5)\" d=\"M 115.271875 68.983219 \r\nL 124.199875 68.983219 \r\nL 124.199875 76.231219 \r\nL 115.271875 76.231219 \r\nL 115.271875 68.983219 \r\n\" style=\"fill:#f7c2a2;\"/>\r\n    <path clip-path=\"url(#p121c82ebf5)\" d=\"M 124.199875 68.983219 \r\nL 133.127875 68.983219 \r\nL 133.127875 76.231219 \r\nL 124.199875 76.231219 \r\nL 124.199875 68.983219 \r\n\" style=\"fill:#f8d9c3;\"/>\r\n    <path clip-path=\"url(#p121c82ebf5)\" d=\"M 133.127875 68.983219 \r\nL 142.055875 68.983219 \r\nL 142.055875 76.231219 \r\nL 133.127875 76.231219 \r\nL 133.127875 68.983219 \r\n\" style=\"fill:#f4865e;\"/>\r\n    <path clip-path=\"url(#p121c82ebf5)\" d=\"M 142.055875 68.983219 \r\nL 150.983875 68.983219 \r\nL 150.983875 76.231219 \r\nL 142.055875 76.231219 \r\nL 142.055875 68.983219 \r\n\" style=\"fill:#f7ccaf;\"/>\r\n    <path clip-path=\"url(#p121c82ebf5)\" d=\"M 150.983875 68.983219 \r\nL 159.911875 68.983219 \r\nL 159.911875 76.231219 \r\nL 150.983875 76.231219 \r\nL 150.983875 68.983219 \r\n\" style=\"fill:#9c1b5b;\"/>\r\n    <path clip-path=\"url(#p121c82ebf5)\" d=\"M 159.911875 68.983219 \r\nL 168.839875 68.983219 \r\nL 168.839875 76.231219 \r\nL 159.911875 76.231219 \r\nL 159.911875 68.983219 \r\n\" style=\"fill:#f26d4b;\"/>\r\n    <path clip-path=\"url(#p121c82ebf5)\" d=\"M 168.839875 68.983219 \r\nL 177.767875 68.983219 \r\nL 177.767875 76.231219 \r\nL 168.839875 76.231219 \r\nL 168.839875 68.983219 \r\n\" style=\"fill:#501d4c;\"/>\r\n    <path clip-path=\"url(#p121c82ebf5)\" d=\"M 177.767875 68.983219 \r\nL 186.695875 68.983219 \r\nL 186.695875 76.231219 \r\nL 177.767875 76.231219 \r\nL 177.767875 68.983219 \r\n\" style=\"fill:#bd1655;\"/>\r\n    <path clip-path=\"url(#p121c82ebf5)\" d=\"M 186.695875 68.983219 \r\nL 195.623875 68.983219 \r\nL 195.623875 76.231219 \r\nL 186.695875 76.231219 \r\nL 186.695875 68.983219 \r\n\" style=\"fill:#faebdd;\"/>\r\n    <path clip-path=\"url(#p121c82ebf5)\" d=\"M 195.623875 68.983219 \r\nL 204.551875 68.983219 \r\nL 204.551875 76.231219 \r\nL 195.623875 76.231219 \r\nL 195.623875 68.983219 \r\n\" style=\"fill:#faebdd;\"/>\r\n    <path clip-path=\"url(#p121c82ebf5)\" d=\"M 204.551875 68.983219 \r\nL 213.479875 68.983219 \r\nL 213.479875 76.231219 \r\nL 204.551875 76.231219 \r\nL 204.551875 68.983219 \r\n\" style=\"fill:#fae9da;\"/>\r\n    <path clip-path=\"url(#p121c82ebf5)\" d=\"M 213.479875 68.983219 \r\nL 222.407875 68.983219 \r\nL 222.407875 76.231219 \r\nL 213.479875 76.231219 \r\nL 213.479875 68.983219 \r\n\" style=\"fill:#f47a54;\"/>\r\n    <path clip-path=\"url(#p121c82ebf5)\" d=\"M 222.407875 68.983219 \r\nL 231.335875 68.983219 \r\nL 231.335875 76.231219 \r\nL 222.407875 76.231219 \r\nL 222.407875 68.983219 \r\n\" style=\"fill:#f7c6a6;\"/>\r\n    <path clip-path=\"url(#p121c82ebf5)\" d=\"M 231.335875 68.983219 \r\nL 240.263875 68.983219 \r\nL 240.263875 76.231219 \r\nL 231.335875 76.231219 \r\nL 231.335875 68.983219 \r\n\" style=\"fill:#f7c4a4;\"/>\r\n    <path clip-path=\"url(#p121c82ebf5)\" d=\"M 240.263875 68.983219 \r\nL 249.191875 68.983219 \r\nL 249.191875 76.231219 \r\nL 240.263875 76.231219 \r\nL 240.263875 68.983219 \r\n\" style=\"fill:#f7c4a4;\"/>\r\n    <path clip-path=\"url(#p121c82ebf5)\" d=\"M 249.191875 68.983219 \r\nL 258.119875 68.983219 \r\nL 258.119875 76.231219 \r\nL 249.191875 76.231219 \r\nL 249.191875 68.983219 \r\n\" style=\"fill:#d72549;\"/>\r\n    <path clip-path=\"url(#p121c82ebf5)\" d=\"M 258.119875 68.983219 \r\nL 267.047875 68.983219 \r\nL 267.047875 76.231219 \r\nL 258.119875 76.231219 \r\nL 258.119875 68.983219 \r\n\" style=\"fill:#f26948;\"/>\r\n    <path clip-path=\"url(#p121c82ebf5)\" d=\"M 267.047875 68.983219 \r\nL 275.975875 68.983219 \r\nL 275.975875 76.231219 \r\nL 267.047875 76.231219 \r\nL 267.047875 68.983219 \r\n\" style=\"fill:#6b1f56;\"/>\r\n    <path clip-path=\"url(#p121c82ebf5)\" d=\"M 275.975875 68.983219 \r\nL 284.903875 68.983219 \r\nL 284.903875 76.231219 \r\nL 275.975875 76.231219 \r\nL 275.975875 68.983219 \r\n\" style=\"fill:#f6be9b;\"/>\r\n    <path clip-path=\"url(#p121c82ebf5)\" d=\"M 284.903875 68.983219 \r\nL 293.831875 68.983219 \r\nL 293.831875 76.231219 \r\nL 284.903875 76.231219 \r\nL 284.903875 68.983219 \r\n\" style=\"fill:#511e4d;\"/>\r\n    <path clip-path=\"url(#p121c82ebf5)\" d=\"M 293.831875 68.983219 \r\nL 302.759875 68.983219 \r\nL 302.759875 76.231219 \r\nL 293.831875 76.231219 \r\nL 293.831875 68.983219 \r\n\" style=\"fill:#31183b;\"/>\r\n    <path clip-path=\"url(#p121c82ebf5)\" d=\"M 302.759875 68.983219 \r\nL 311.687875 68.983219 \r\nL 311.687875 76.231219 \r\nL 302.759875 76.231219 \r\nL 302.759875 68.983219 \r\n\" style=\"fill:#bc1656;\"/>\r\n    <path clip-path=\"url(#p121c82ebf5)\" d=\"M 311.687875 68.983219 \r\nL 320.615875 68.983219 \r\nL 320.615875 76.231219 \r\nL 311.687875 76.231219 \r\nL 311.687875 68.983219 \r\n\" style=\"fill:#f6b089;\"/>\r\n    <path clip-path=\"url(#p121c82ebf5)\" d=\"M 320.615875 68.983219 \r\nL 329.543875 68.983219 \r\nL 329.543875 76.231219 \r\nL 320.615875 76.231219 \r\nL 320.615875 68.983219 \r\n\" style=\"fill:#f26f4c;\"/>\r\n    <path clip-path=\"url(#p121c82ebf5)\" d=\"M 329.543875 68.983219 \r\nL 338.471875 68.983219 \r\nL 338.471875 76.231219 \r\nL 329.543875 76.231219 \r\nL 329.543875 68.983219 \r\n\" style=\"fill:#f6a47c;\"/>\r\n    <path clip-path=\"url(#p121c82ebf5)\" d=\"M 338.471875 68.983219 \r\nL 347.399875 68.983219 \r\nL 347.399875 76.231219 \r\nL 338.471875 76.231219 \r\nL 338.471875 68.983219 \r\n\" style=\"fill:#ee523f;\"/>\r\n    <path clip-path=\"url(#p121c82ebf5)\" d=\"M 347.399875 68.983219 \r\nL 356.327875 68.983219 \r\nL 356.327875 76.231219 \r\nL 347.399875 76.231219 \r\nL 347.399875 68.983219 \r\n\" style=\"fill:#140e26;\"/>\r\n    <path clip-path=\"url(#p121c82ebf5)\" d=\"M 356.327875 68.983219 \r\nL 365.255875 68.983219 \r\nL 365.255875 76.231219 \r\nL 356.327875 76.231219 \r\nL 356.327875 68.983219 \r\n\" style=\"fill:#f6b893;\"/>\r\n    <path clip-path=\"url(#p121c82ebf5)\" d=\"M 365.255875 68.983219 \r\nL 374.183875 68.983219 \r\nL 374.183875 76.231219 \r\nL 365.255875 76.231219 \r\nL 365.255875 68.983219 \r\n\" style=\"fill:#f6b893;\"/>\r\n    <path clip-path=\"url(#p121c82ebf5)\" d=\"M 374.183875 68.983219 \r\nL 383.111875 68.983219 \r\nL 383.111875 76.231219 \r\nL 374.183875 76.231219 \r\nL 374.183875 68.983219 \r\n\" style=\"fill:#c41753;\"/>\r\n    <path clip-path=\"url(#p121c82ebf5)\" d=\"M 115.271875 76.231219 \r\nL 124.199875 76.231219 \r\nL 124.199875 83.479219 \r\nL 115.271875 83.479219 \r\nL 115.271875 76.231219 \r\n\" style=\"fill:#f6bf9d;\"/>\r\n    <path clip-path=\"url(#p121c82ebf5)\" d=\"M 124.199875 76.231219 \r\nL 133.127875 76.231219 \r\nL 133.127875 83.479219 \r\nL 124.199875 83.479219 \r\nL 124.199875 76.231219 \r\n\" style=\"fill:#f8d7c0;\"/>\r\n    <path clip-path=\"url(#p121c82ebf5)\" d=\"M 133.127875 76.231219 \r\nL 142.055875 76.231219 \r\nL 142.055875 83.479219 \r\nL 133.127875 83.479219 \r\nL 133.127875 76.231219 \r\n\" style=\"fill:#f4835b;\"/>\r\n    <path clip-path=\"url(#p121c82ebf5)\" d=\"M 142.055875 76.231219 \r\nL 150.983875 76.231219 \r\nL 150.983875 83.479219 \r\nL 142.055875 83.479219 \r\nL 142.055875 76.231219 \r\n\" style=\"fill:#f7c9aa;\"/>\r\n    <path clip-path=\"url(#p121c82ebf5)\" d=\"M 150.983875 76.231219 \r\nL 159.911875 76.231219 \r\nL 159.911875 83.479219 \r\nL 150.983875 83.479219 \r\nL 150.983875 76.231219 \r\n\" style=\"fill:#951c5b;\"/>\r\n    <path clip-path=\"url(#p121c82ebf5)\" d=\"M 159.911875 76.231219 \r\nL 168.839875 76.231219 \r\nL 168.839875 83.479219 \r\nL 159.911875 83.479219 \r\nL 159.911875 76.231219 \r\n\" style=\"fill:#f26f4c;\"/>\r\n    <path clip-path=\"url(#p121c82ebf5)\" d=\"M 168.839875 76.231219 \r\nL 177.767875 76.231219 \r\nL 177.767875 83.479219 \r\nL 168.839875 83.479219 \r\nL 168.839875 76.231219 \r\n\" style=\"fill:#4e1d4b;\"/>\r\n    <path clip-path=\"url(#p121c82ebf5)\" d=\"M 177.767875 76.231219 \r\nL 186.695875 76.231219 \r\nL 186.695875 83.479219 \r\nL 177.767875 83.479219 \r\nL 177.767875 76.231219 \r\n\" style=\"fill:#ba1656;\"/>\r\n    <path clip-path=\"url(#p121c82ebf5)\" d=\"M 186.695875 76.231219 \r\nL 195.623875 76.231219 \r\nL 195.623875 83.479219 \r\nL 186.695875 83.479219 \r\nL 186.695875 76.231219 \r\n\" style=\"fill:#faebdd;\"/>\r\n    <path clip-path=\"url(#p121c82ebf5)\" d=\"M 195.623875 76.231219 \r\nL 204.551875 76.231219 \r\nL 204.551875 83.479219 \r\nL 195.623875 83.479219 \r\nL 195.623875 76.231219 \r\n\" style=\"fill:#faebdd;\"/>\r\n    <path clip-path=\"url(#p121c82ebf5)\" d=\"M 204.551875 76.231219 \r\nL 213.479875 76.231219 \r\nL 213.479875 83.479219 \r\nL 204.551875 83.479219 \r\nL 204.551875 76.231219 \r\n\" style=\"fill:#fae8d8;\"/>\r\n    <path clip-path=\"url(#p121c82ebf5)\" d=\"M 213.479875 76.231219 \r\nL 222.407875 76.231219 \r\nL 222.407875 83.479219 \r\nL 213.479875 83.479219 \r\nL 213.479875 76.231219 \r\n\" style=\"fill:#f3734e;\"/>\r\n    <path clip-path=\"url(#p121c82ebf5)\" d=\"M 222.407875 76.231219 \r\nL 231.335875 76.231219 \r\nL 231.335875 83.479219 \r\nL 222.407875 83.479219 \r\nL 222.407875 76.231219 \r\n\" style=\"fill:#f7c2a2;\"/>\r\n    <path clip-path=\"url(#p121c82ebf5)\" d=\"M 231.335875 76.231219 \r\nL 240.263875 76.231219 \r\nL 240.263875 83.479219 \r\nL 231.335875 83.479219 \r\nL 231.335875 76.231219 \r\n\" style=\"fill:#f7c2a2;\"/>\r\n    <path clip-path=\"url(#p121c82ebf5)\" d=\"M 240.263875 76.231219 \r\nL 249.191875 76.231219 \r\nL 249.191875 83.479219 \r\nL 240.263875 83.479219 \r\nL 240.263875 76.231219 \r\n\" style=\"fill:#f6bf9d;\"/>\r\n    <path clip-path=\"url(#p121c82ebf5)\" d=\"M 249.191875 76.231219 \r\nL 258.119875 76.231219 \r\nL 258.119875 83.479219 \r\nL 249.191875 83.479219 \r\nL 249.191875 76.231219 \r\n\" style=\"fill:#cd1c4e;\"/>\r\n    <path clip-path=\"url(#p121c82ebf5)\" d=\"M 258.119875 76.231219 \r\nL 267.047875 76.231219 \r\nL 267.047875 83.479219 \r\nL 258.119875 83.479219 \r\nL 258.119875 76.231219 \r\n\" style=\"fill:#f05e42;\"/>\r\n    <path clip-path=\"url(#p121c82ebf5)\" d=\"M 267.047875 76.231219 \r\nL 275.975875 76.231219 \r\nL 275.975875 83.479219 \r\nL 267.047875 83.479219 \r\nL 267.047875 76.231219 \r\n\" style=\"fill:#611f53;\"/>\r\n    <path clip-path=\"url(#p121c82ebf5)\" d=\"M 275.975875 76.231219 \r\nL 284.903875 76.231219 \r\nL 284.903875 83.479219 \r\nL 275.975875 83.479219 \r\nL 275.975875 76.231219 \r\n\" style=\"fill:#f6b995;\"/>\r\n    <path clip-path=\"url(#p121c82ebf5)\" d=\"M 284.903875 76.231219 \r\nL 293.831875 76.231219 \r\nL 293.831875 83.479219 \r\nL 284.903875 83.479219 \r\nL 284.903875 76.231219 \r\n\" style=\"fill:#491d49;\"/>\r\n    <path clip-path=\"url(#p121c82ebf5)\" d=\"M 293.831875 76.231219 \r\nL 302.759875 76.231219 \r\nL 302.759875 83.479219 \r\nL 293.831875 83.479219 \r\nL 293.831875 76.231219 \r\n\" style=\"fill:#2e1739;\"/>\r\n    <path clip-path=\"url(#p121c82ebf5)\" d=\"M 302.759875 76.231219 \r\nL 311.687875 76.231219 \r\nL 311.687875 83.479219 \r\nL 302.759875 83.479219 \r\nL 302.759875 76.231219 \r\n\" style=\"fill:#b71657;\"/>\r\n    <path clip-path=\"url(#p121c82ebf5)\" d=\"M 311.687875 76.231219 \r\nL 320.615875 76.231219 \r\nL 320.615875 83.479219 \r\nL 311.687875 83.479219 \r\nL 311.687875 76.231219 \r\n\" style=\"fill:#f6a67e;\"/>\r\n    <path clip-path=\"url(#p121c82ebf5)\" d=\"M 320.615875 76.231219 \r\nL 329.543875 76.231219 \r\nL 329.543875 83.479219 \r\nL 320.615875 83.479219 \r\nL 320.615875 76.231219 \r\n\" style=\"fill:#f05e42;\"/>\r\n    <path clip-path=\"url(#p121c82ebf5)\" d=\"M 329.543875 76.231219 \r\nL 338.471875 76.231219 \r\nL 338.471875 83.479219 \r\nL 329.543875 83.479219 \r\nL 329.543875 76.231219 \r\n\" style=\"fill:#f69c73;\"/>\r\n    <path clip-path=\"url(#p121c82ebf5)\" d=\"M 338.471875 76.231219 \r\nL 347.399875 76.231219 \r\nL 347.399875 83.479219 \r\nL 338.471875 83.479219 \r\nL 338.471875 76.231219 \r\n\" style=\"fill:#e9423e;\"/>\r\n    <path clip-path=\"url(#p121c82ebf5)\" d=\"M 347.399875 76.231219 \r\nL 356.327875 76.231219 \r\nL 356.327875 83.479219 \r\nL 347.399875 83.479219 \r\nL 347.399875 76.231219 \r\n\" style=\"fill:#130d25;\"/>\r\n    <path clip-path=\"url(#p121c82ebf5)\" d=\"M 356.327875 76.231219 \r\nL 365.255875 76.231219 \r\nL 365.255875 83.479219 \r\nL 356.327875 83.479219 \r\nL 356.327875 76.231219 \r\n\" style=\"fill:#f6ae87;\"/>\r\n    <path clip-path=\"url(#p121c82ebf5)\" d=\"M 365.255875 76.231219 \r\nL 374.183875 76.231219 \r\nL 374.183875 83.479219 \r\nL 365.255875 83.479219 \r\nL 365.255875 76.231219 \r\n\" style=\"fill:#f6ae87;\"/>\r\n    <path clip-path=\"url(#p121c82ebf5)\" d=\"M 374.183875 76.231219 \r\nL 383.111875 76.231219 \r\nL 383.111875 83.479219 \r\nL 374.183875 83.479219 \r\nL 374.183875 76.231219 \r\n\" style=\"fill:#bf1654;\"/>\r\n    <path clip-path=\"url(#p121c82ebf5)\" d=\"M 115.271875 83.479219 \r\nL 124.199875 83.479219 \r\nL 124.199875 90.727219 \r\nL 115.271875 90.727219 \r\nL 115.271875 83.479219 \r\n\" style=\"fill:#f6c19f;\"/>\r\n    <path clip-path=\"url(#p121c82ebf5)\" d=\"M 124.199875 83.479219 \r\nL 133.127875 83.479219 \r\nL 133.127875 90.727219 \r\nL 124.199875 90.727219 \r\nL 124.199875 83.479219 \r\n\" style=\"fill:#f8dac5;\"/>\r\n    <path clip-path=\"url(#p121c82ebf5)\" d=\"M 133.127875 83.479219 \r\nL 142.055875 83.479219 \r\nL 142.055875 90.727219 \r\nL 133.127875 90.727219 \r\nL 133.127875 83.479219 \r\n\" style=\"fill:#f58d64;\"/>\r\n    <path clip-path=\"url(#p121c82ebf5)\" d=\"M 142.055875 83.479219 \r\nL 150.983875 83.479219 \r\nL 150.983875 90.727219 \r\nL 142.055875 90.727219 \r\nL 142.055875 83.479219 \r\n\" style=\"fill:#f7d0b5;\"/>\r\n    <path clip-path=\"url(#p121c82ebf5)\" d=\"M 150.983875 83.479219 \r\nL 159.911875 83.479219 \r\nL 159.911875 90.727219 \r\nL 150.983875 90.727219 \r\nL 150.983875 83.479219 \r\n\" style=\"fill:#a6195a;\"/>\r\n    <path clip-path=\"url(#p121c82ebf5)\" d=\"M 159.911875 83.479219 \r\nL 168.839875 83.479219 \r\nL 168.839875 90.727219 \r\nL 159.911875 90.727219 \r\nL 159.911875 83.479219 \r\n\" style=\"fill:#f26948;\"/>\r\n    <path clip-path=\"url(#p121c82ebf5)\" d=\"M 168.839875 83.479219 \r\nL 177.767875 83.479219 \r\nL 177.767875 90.727219 \r\nL 168.839875 90.727219 \r\nL 168.839875 83.479219 \r\n\" style=\"fill:#5b1e51;\"/>\r\n    <path clip-path=\"url(#p121c82ebf5)\" d=\"M 177.767875 83.479219 \r\nL 186.695875 83.479219 \r\nL 186.695875 90.727219 \r\nL 177.767875 90.727219 \r\nL 177.767875 83.479219 \r\n\" style=\"fill:#c21753;\"/>\r\n    <path clip-path=\"url(#p121c82ebf5)\" d=\"M 186.695875 83.479219 \r\nL 195.623875 83.479219 \r\nL 195.623875 90.727219 \r\nL 186.695875 90.727219 \r\nL 186.695875 83.479219 \r\n\" style=\"fill:#fae9da;\"/>\r\n    <path clip-path=\"url(#p121c82ebf5)\" d=\"M 195.623875 83.479219 \r\nL 204.551875 83.479219 \r\nL 204.551875 90.727219 \r\nL 195.623875 90.727219 \r\nL 195.623875 83.479219 \r\n\" style=\"fill:#fae8d8;\"/>\r\n    <path clip-path=\"url(#p121c82ebf5)\" d=\"M 204.551875 83.479219 \r\nL 213.479875 83.479219 \r\nL 213.479875 90.727219 \r\nL 204.551875 90.727219 \r\nL 204.551875 83.479219 \r\n\" style=\"fill:#faebdd;\"/>\r\n    <path clip-path=\"url(#p121c82ebf5)\" d=\"M 213.479875 83.479219 \r\nL 222.407875 83.479219 \r\nL 222.407875 90.727219 \r\nL 213.479875 90.727219 \r\nL 213.479875 83.479219 \r\n\" style=\"fill:#f4865e;\"/>\r\n    <path clip-path=\"url(#p121c82ebf5)\" d=\"M 222.407875 83.479219 \r\nL 231.335875 83.479219 \r\nL 231.335875 90.727219 \r\nL 222.407875 90.727219 \r\nL 222.407875 83.479219 \r\n\" style=\"fill:#f7caac;\"/>\r\n    <path clip-path=\"url(#p121c82ebf5)\" d=\"M 231.335875 83.479219 \r\nL 240.263875 83.479219 \r\nL 240.263875 90.727219 \r\nL 231.335875 90.727219 \r\nL 231.335875 83.479219 \r\n\" style=\"fill:#f7c6a6;\"/>\r\n    <path clip-path=\"url(#p121c82ebf5)\" d=\"M 240.263875 83.479219 \r\nL 249.191875 83.479219 \r\nL 249.191875 90.727219 \r\nL 240.263875 90.727219 \r\nL 240.263875 83.479219 \r\n\" style=\"fill:#f7cdb1;\"/>\r\n    <path clip-path=\"url(#p121c82ebf5)\" d=\"M 249.191875 83.479219 \r\nL 258.119875 83.479219 \r\nL 258.119875 90.727219 \r\nL 249.191875 90.727219 \r\nL 249.191875 83.479219 \r\n\" style=\"fill:#e63b40;\"/>\r\n    <path clip-path=\"url(#p121c82ebf5)\" d=\"M 258.119875 83.479219 \r\nL 267.047875 83.479219 \r\nL 267.047875 90.727219 \r\nL 258.119875 90.727219 \r\nL 258.119875 83.479219 \r\n\" style=\"fill:#f4815a;\"/>\r\n    <path clip-path=\"url(#p121c82ebf5)\" d=\"M 267.047875 83.479219 \r\nL 275.975875 83.479219 \r\nL 275.975875 90.727219 \r\nL 267.047875 90.727219 \r\nL 267.047875 83.479219 \r\n\" style=\"fill:#7a1f59;\"/>\r\n    <path clip-path=\"url(#p121c82ebf5)\" d=\"M 275.975875 83.479219 \r\nL 284.903875 83.479219 \r\nL 284.903875 90.727219 \r\nL 275.975875 90.727219 \r\nL 275.975875 83.479219 \r\n\" style=\"fill:#f7c4a4;\"/>\r\n    <path clip-path=\"url(#p121c82ebf5)\" d=\"M 284.903875 83.479219 \r\nL 293.831875 83.479219 \r\nL 293.831875 90.727219 \r\nL 284.903875 90.727219 \r\nL 284.903875 83.479219 \r\n\" style=\"fill:#661f54;\"/>\r\n    <path clip-path=\"url(#p121c82ebf5)\" d=\"M 293.831875 83.479219 \r\nL 302.759875 83.479219 \r\nL 302.759875 90.727219 \r\nL 293.831875 90.727219 \r\nL 293.831875 83.479219 \r\n\" style=\"fill:#381a40;\"/>\r\n    <path clip-path=\"url(#p121c82ebf5)\" d=\"M 302.759875 83.479219 \r\nL 311.687875 83.479219 \r\nL 311.687875 90.727219 \r\nL 302.759875 90.727219 \r\nL 302.759875 83.479219 \r\n\" style=\"fill:#ca1a50;\"/>\r\n    <path clip-path=\"url(#p121c82ebf5)\" d=\"M 311.687875 83.479219 \r\nL 320.615875 83.479219 \r\nL 320.615875 90.727219 \r\nL 311.687875 90.727219 \r\nL 311.687875 83.479219 \r\n\" style=\"fill:#f6be9b;\"/>\r\n    <path clip-path=\"url(#p121c82ebf5)\" d=\"M 320.615875 83.479219 \r\nL 329.543875 83.479219 \r\nL 329.543875 90.727219 \r\nL 320.615875 90.727219 \r\nL 320.615875 83.479219 \r\n\" style=\"fill:#f4815a;\"/>\r\n    <path clip-path=\"url(#p121c82ebf5)\" d=\"M 329.543875 83.479219 \r\nL 338.471875 83.479219 \r\nL 338.471875 90.727219 \r\nL 329.543875 90.727219 \r\nL 329.543875 83.479219 \r\n\" style=\"fill:#f6ad85;\"/>\r\n    <path clip-path=\"url(#p121c82ebf5)\" d=\"M 338.471875 83.479219 \r\nL 347.399875 83.479219 \r\nL 347.399875 90.727219 \r\nL 338.471875 90.727219 \r\nL 338.471875 83.479219 \r\n\" style=\"fill:#f26948;\"/>\r\n    <path clip-path=\"url(#p121c82ebf5)\" d=\"M 347.399875 83.479219 \r\nL 356.327875 83.479219 \r\nL 356.327875 90.727219 \r\nL 347.399875 90.727219 \r\nL 347.399875 83.479219 \r\n\" style=\"fill:#1a102a;\"/>\r\n    <path clip-path=\"url(#p121c82ebf5)\" d=\"M 356.327875 83.479219 \r\nL 365.255875 83.479219 \r\nL 365.255875 90.727219 \r\nL 356.327875 90.727219 \r\nL 356.327875 83.479219 \r\n\" style=\"fill:#f7c6a6;\"/>\r\n    <path clip-path=\"url(#p121c82ebf5)\" d=\"M 365.255875 83.479219 \r\nL 374.183875 83.479219 \r\nL 374.183875 90.727219 \r\nL 365.255875 90.727219 \r\nL 365.255875 83.479219 \r\n\" style=\"fill:#f7c6a6;\"/>\r\n    <path clip-path=\"url(#p121c82ebf5)\" d=\"M 374.183875 83.479219 \r\nL 383.111875 83.479219 \r\nL 383.111875 90.727219 \r\nL 374.183875 90.727219 \r\nL 374.183875 83.479219 \r\n\" style=\"fill:#cd1c4e;\"/>\r\n    <path clip-path=\"url(#p121c82ebf5)\" d=\"M 115.271875 90.727219 \r\nL 124.199875 90.727219 \r\nL 124.199875 97.975219 \r\nL 115.271875 97.975219 \r\nL 115.271875 90.727219 \r\n\" style=\"fill:#f59269;\"/>\r\n    <path clip-path=\"url(#p121c82ebf5)\" d=\"M 124.199875 90.727219 \r\nL 133.127875 90.727219 \r\nL 133.127875 97.975219 \r\nL 124.199875 97.975219 \r\nL 124.199875 90.727219 \r\n\" style=\"fill:#f6a37a;\"/>\r\n    <path clip-path=\"url(#p121c82ebf5)\" d=\"M 133.127875 90.727219 \r\nL 142.055875 90.727219 \r\nL 142.055875 97.975219 \r\nL 133.127875 97.975219 \r\nL 133.127875 90.727219 \r\n\" style=\"fill:#f3734e;\"/>\r\n    <path clip-path=\"url(#p121c82ebf5)\" d=\"M 142.055875 90.727219 \r\nL 150.983875 90.727219 \r\nL 150.983875 97.975219 \r\nL 142.055875 97.975219 \r\nL 142.055875 90.727219 \r\n\" style=\"fill:#f59970;\"/>\r\n    <path clip-path=\"url(#p121c82ebf5)\" d=\"M 150.983875 90.727219 \r\nL 159.911875 90.727219 \r\nL 159.911875 97.975219 \r\nL 150.983875 97.975219 \r\nL 150.983875 90.727219 \r\n\" style=\"fill:#ef5840;\"/>\r\n    <path clip-path=\"url(#p121c82ebf5)\" d=\"M 159.911875 90.727219 \r\nL 168.839875 90.727219 \r\nL 168.839875 97.975219 \r\nL 159.911875 97.975219 \r\nL 159.911875 90.727219 \r\n\" style=\"fill:#ec4c3e;\"/>\r\n    <path clip-path=\"url(#p121c82ebf5)\" d=\"M 168.839875 90.727219 \r\nL 177.767875 90.727219 \r\nL 177.767875 97.975219 \r\nL 168.839875 97.975219 \r\nL 168.839875 90.727219 \r\n\" style=\"fill:#6b1f56;\"/>\r\n    <path clip-path=\"url(#p121c82ebf5)\" d=\"M 177.767875 90.727219 \r\nL 186.695875 90.727219 \r\nL 186.695875 97.975219 \r\nL 177.767875 97.975219 \r\nL 177.767875 90.727219 \r\n\" style=\"fill:#d3214b;\"/>\r\n    <path clip-path=\"url(#p121c82ebf5)\" d=\"M 186.695875 90.727219 \r\nL 195.623875 90.727219 \r\nL 195.623875 97.975219 \r\nL 186.695875 97.975219 \r\nL 186.695875 90.727219 \r\n\" style=\"fill:#f47a54;\"/>\r\n    <path clip-path=\"url(#p121c82ebf5)\" d=\"M 195.623875 90.727219 \r\nL 204.551875 90.727219 \r\nL 204.551875 97.975219 \r\nL 195.623875 97.975219 \r\nL 195.623875 90.727219 \r\n\" style=\"fill:#f3734e;\"/>\r\n    <path clip-path=\"url(#p121c82ebf5)\" d=\"M 204.551875 90.727219 \r\nL 213.479875 90.727219 \r\nL 213.479875 97.975219 \r\nL 204.551875 97.975219 \r\nL 204.551875 90.727219 \r\n\" style=\"fill:#f4865e;\"/>\r\n    <path clip-path=\"url(#p121c82ebf5)\" d=\"M 213.479875 90.727219 \r\nL 222.407875 90.727219 \r\nL 222.407875 97.975219 \r\nL 213.479875 97.975219 \r\nL 213.479875 90.727219 \r\n\" style=\"fill:#faebdd;\"/>\r\n    <path clip-path=\"url(#p121c82ebf5)\" d=\"M 222.407875 90.727219 \r\nL 231.335875 90.727219 \r\nL 231.335875 97.975219 \r\nL 222.407875 97.975219 \r\nL 222.407875 90.727219 \r\n\" style=\"fill:#f26f4c;\"/>\r\n    <path clip-path=\"url(#p121c82ebf5)\" d=\"M 231.335875 90.727219 \r\nL 240.263875 90.727219 \r\nL 240.263875 97.975219 \r\nL 231.335875 97.975219 \r\nL 231.335875 90.727219 \r\n\" style=\"fill:#f6a178;\"/>\r\n    <path clip-path=\"url(#p121c82ebf5)\" d=\"M 240.263875 90.727219 \r\nL 249.191875 90.727219 \r\nL 249.191875 97.975219 \r\nL 240.263875 97.975219 \r\nL 240.263875 90.727219 \r\n\" style=\"fill:#f47d57;\"/>\r\n    <path clip-path=\"url(#p121c82ebf5)\" d=\"M 249.191875 90.727219 \r\nL 258.119875 90.727219 \r\nL 258.119875 97.975219 \r\nL 249.191875 97.975219 \r\nL 249.191875 90.727219 \r\n\" style=\"fill:#c41753;\"/>\r\n    <path clip-path=\"url(#p121c82ebf5)\" d=\"M 258.119875 90.727219 \r\nL 267.047875 90.727219 \r\nL 267.047875 97.975219 \r\nL 258.119875 97.975219 \r\nL 258.119875 90.727219 \r\n\" style=\"fill:#f47f58;\"/>\r\n    <path clip-path=\"url(#p121c82ebf5)\" d=\"M 267.047875 90.727219 \r\nL 275.975875 90.727219 \r\nL 275.975875 97.975219 \r\nL 267.047875 97.975219 \r\nL 267.047875 90.727219 \r\n\" style=\"fill:#631f53;\"/>\r\n    <path clip-path=\"url(#p121c82ebf5)\" d=\"M 275.975875 90.727219 \r\nL 284.903875 90.727219 \r\nL 284.903875 97.975219 \r\nL 275.975875 97.975219 \r\nL 275.975875 90.727219 \r\n\" style=\"fill:#ec4c3e;\"/>\r\n    <path clip-path=\"url(#p121c82ebf5)\" d=\"M 284.903875 90.727219 \r\nL 293.831875 90.727219 \r\nL 293.831875 97.975219 \r\nL 284.903875 97.975219 \r\nL 284.903875 90.727219 \r\n\" style=\"fill:#931c5b;\"/>\r\n    <path clip-path=\"url(#p121c82ebf5)\" d=\"M 293.831875 90.727219 \r\nL 302.759875 90.727219 \r\nL 302.759875 97.975219 \r\nL 293.831875 97.975219 \r\nL 293.831875 90.727219 \r\n\" style=\"fill:#731f58;\"/>\r\n    <path clip-path=\"url(#p121c82ebf5)\" d=\"M 302.759875 90.727219 \r\nL 311.687875 90.727219 \r\nL 311.687875 97.975219 \r\nL 302.759875 97.975219 \r\nL 302.759875 90.727219 \r\n\" style=\"fill:#981b5b;\"/>\r\n    <path clip-path=\"url(#p121c82ebf5)\" d=\"M 311.687875 90.727219 \r\nL 320.615875 90.727219 \r\nL 320.615875 97.975219 \r\nL 311.687875 97.975219 \r\nL 311.687875 90.727219 \r\n\" style=\"fill:#f47d57;\"/>\r\n    <path clip-path=\"url(#p121c82ebf5)\" d=\"M 320.615875 90.727219 \r\nL 329.543875 90.727219 \r\nL 329.543875 97.975219 \r\nL 320.615875 97.975219 \r\nL 320.615875 90.727219 \r\n\" style=\"fill:#f37450;\"/>\r\n    <path clip-path=\"url(#p121c82ebf5)\" d=\"M 329.543875 90.727219 \r\nL 338.471875 90.727219 \r\nL 338.471875 97.975219 \r\nL 329.543875 97.975219 \r\nL 329.543875 90.727219 \r\n\" style=\"fill:#ef5a41;\"/>\r\n    <path clip-path=\"url(#p121c82ebf5)\" d=\"M 338.471875 90.727219 \r\nL 347.399875 90.727219 \r\nL 347.399875 97.975219 \r\nL 338.471875 97.975219 \r\nL 338.471875 90.727219 \r\n\" style=\"fill:#e8403e;\"/>\r\n    <path clip-path=\"url(#p121c82ebf5)\" d=\"M 347.399875 90.727219 \r\nL 356.327875 90.727219 \r\nL 356.327875 97.975219 \r\nL 347.399875 97.975219 \r\nL 347.399875 90.727219 \r\n\" style=\"fill:#4b1d4a;\"/>\r\n    <path clip-path=\"url(#p121c82ebf5)\" d=\"M 356.327875 90.727219 \r\nL 365.255875 90.727219 \r\nL 365.255875 97.975219 \r\nL 356.327875 97.975219 \r\nL 356.327875 90.727219 \r\n\" style=\"fill:#f6a178;\"/>\r\n    <path clip-path=\"url(#p121c82ebf5)\" d=\"M 365.255875 90.727219 \r\nL 374.183875 90.727219 \r\nL 374.183875 97.975219 \r\nL 365.255875 97.975219 \r\nL 365.255875 90.727219 \r\n\" style=\"fill:#f6a178;\"/>\r\n    <path clip-path=\"url(#p121c82ebf5)\" d=\"M 374.183875 90.727219 \r\nL 383.111875 90.727219 \r\nL 383.111875 97.975219 \r\nL 374.183875 97.975219 \r\nL 374.183875 90.727219 \r\n\" style=\"fill:#7a1f59;\"/>\r\n    <path clip-path=\"url(#p121c82ebf5)\" d=\"M 115.271875 97.975219 \r\nL 124.199875 97.975219 \r\nL 124.199875 105.223219 \r\nL 115.271875 105.223219 \r\nL 115.271875 97.975219 \r\n\" style=\"fill:#f69b71;\"/>\r\n    <path clip-path=\"url(#p121c82ebf5)\" d=\"M 124.199875 97.975219 \r\nL 133.127875 97.975219 \r\nL 133.127875 105.223219 \r\nL 124.199875 105.223219 \r\nL 124.199875 97.975219 \r\n\" style=\"fill:#f6b48f;\"/>\r\n    <path clip-path=\"url(#p121c82ebf5)\" d=\"M 133.127875 97.975219 \r\nL 142.055875 97.975219 \r\nL 142.055875 105.223219 \r\nL 133.127875 105.223219 \r\nL 133.127875 97.975219 \r\n\" style=\"fill:#f16244;\"/>\r\n    <path clip-path=\"url(#p121c82ebf5)\" d=\"M 142.055875 97.975219 \r\nL 150.983875 97.975219 \r\nL 150.983875 105.223219 \r\nL 142.055875 105.223219 \r\nL 142.055875 97.975219 \r\n\" style=\"fill:#f6a880;\"/>\r\n    <path clip-path=\"url(#p121c82ebf5)\" d=\"M 150.983875 97.975219 \r\nL 159.911875 97.975219 \r\nL 159.911875 105.223219 \r\nL 150.983875 105.223219 \r\nL 150.983875 97.975219 \r\n\" style=\"fill:#921c5b;\"/>\r\n    <path clip-path=\"url(#p121c82ebf5)\" d=\"M 159.911875 97.975219 \r\nL 168.839875 97.975219 \r\nL 168.839875 105.223219 \r\nL 159.911875 105.223219 \r\nL 159.911875 97.975219 \r\n\" style=\"fill:#ed4e3e;\"/>\r\n    <path clip-path=\"url(#p121c82ebf5)\" d=\"M 168.839875 97.975219 \r\nL 177.767875 97.975219 \r\nL 177.767875 105.223219 \r\nL 168.839875 105.223219 \r\nL 168.839875 97.975219 \r\n\" style=\"fill:#821e5a;\"/>\r\n    <path clip-path=\"url(#p121c82ebf5)\" d=\"M 177.767875 97.975219 \r\nL 186.695875 97.975219 \r\nL 186.695875 105.223219 \r\nL 177.767875 105.223219 \r\nL 177.767875 97.975219 \r\n\" style=\"fill:#7d1f5a;\"/>\r\n    <path clip-path=\"url(#p121c82ebf5)\" d=\"M 186.695875 97.975219 \r\nL 195.623875 97.975219 \r\nL 195.623875 105.223219 \r\nL 186.695875 105.223219 \r\nL 186.695875 97.975219 \r\n\" style=\"fill:#f7c6a6;\"/>\r\n    <path clip-path=\"url(#p121c82ebf5)\" d=\"M 195.623875 97.975219 \r\nL 204.551875 97.975219 \r\nL 204.551875 105.223219 \r\nL 195.623875 105.223219 \r\nL 195.623875 97.975219 \r\n\" style=\"fill:#f7c2a2;\"/>\r\n    <path clip-path=\"url(#p121c82ebf5)\" d=\"M 204.551875 97.975219 \r\nL 213.479875 97.975219 \r\nL 213.479875 105.223219 \r\nL 204.551875 105.223219 \r\nL 204.551875 97.975219 \r\n\" style=\"fill:#f7caac;\"/>\r\n    <path clip-path=\"url(#p121c82ebf5)\" d=\"M 213.479875 97.975219 \r\nL 222.407875 97.975219 \r\nL 222.407875 105.223219 \r\nL 213.479875 105.223219 \r\nL 213.479875 97.975219 \r\n\" style=\"fill:#f26f4c;\"/>\r\n    <path clip-path=\"url(#p121c82ebf5)\" d=\"M 222.407875 97.975219 \r\nL 231.335875 97.975219 \r\nL 231.335875 105.223219 \r\nL 222.407875 105.223219 \r\nL 222.407875 97.975219 \r\n\" style=\"fill:#faebdd;\"/>\r\n    <path clip-path=\"url(#p121c82ebf5)\" d=\"M 231.335875 97.975219 \r\nL 240.263875 97.975219 \r\nL 240.263875 105.223219 \r\nL 231.335875 105.223219 \r\nL 231.335875 97.975219 \r\n\" style=\"fill:#f6b48f;\"/>\r\n    <path clip-path=\"url(#p121c82ebf5)\" d=\"M 240.263875 97.975219 \r\nL 249.191875 97.975219 \r\nL 249.191875 105.223219 \r\nL 240.263875 105.223219 \r\nL 240.263875 97.975219 \r\n\" style=\"fill:#f6b18b;\"/>\r\n    <path clip-path=\"url(#p121c82ebf5)\" d=\"M 249.191875 97.975219 \r\nL 258.119875 97.975219 \r\nL 258.119875 105.223219 \r\nL 249.191875 105.223219 \r\nL 249.191875 97.975219 \r\n\" style=\"fill:#eb483e;\"/>\r\n    <path clip-path=\"url(#p121c82ebf5)\" d=\"M 258.119875 97.975219 \r\nL 267.047875 97.975219 \r\nL 267.047875 105.223219 \r\nL 258.119875 105.223219 \r\nL 258.119875 97.975219 \r\n\" style=\"fill:#f26948;\"/>\r\n    <path clip-path=\"url(#p121c82ebf5)\" d=\"M 267.047875 97.975219 \r\nL 275.975875 97.975219 \r\nL 275.975875 105.223219 \r\nL 267.047875 105.223219 \r\nL 267.047875 97.975219 \r\n\" style=\"fill:#a3195b;\"/>\r\n    <path clip-path=\"url(#p121c82ebf5)\" d=\"M 275.975875 97.975219 \r\nL 284.903875 97.975219 \r\nL 284.903875 105.223219 \r\nL 275.975875 105.223219 \r\nL 275.975875 97.975219 \r\n\" style=\"fill:#f6bb97;\"/>\r\n    <path clip-path=\"url(#p121c82ebf5)\" d=\"M 284.903875 97.975219 \r\nL 293.831875 97.975219 \r\nL 293.831875 105.223219 \r\nL 284.903875 105.223219 \r\nL 284.903875 97.975219 \r\n\" style=\"fill:#731f58;\"/>\r\n    <path clip-path=\"url(#p121c82ebf5)\" d=\"M 293.831875 97.975219 \r\nL 302.759875 97.975219 \r\nL 302.759875 105.223219 \r\nL 293.831875 105.223219 \r\nL 293.831875 97.975219 \r\n\" style=\"fill:#2b1637;\"/>\r\n    <path clip-path=\"url(#p121c82ebf5)\" d=\"M 302.759875 97.975219 \r\nL 311.687875 97.975219 \r\nL 311.687875 105.223219 \r\nL 302.759875 105.223219 \r\nL 302.759875 97.975219 \r\n\" style=\"fill:#aa185a;\"/>\r\n    <path clip-path=\"url(#p121c82ebf5)\" d=\"M 311.687875 97.975219 \r\nL 320.615875 97.975219 \r\nL 320.615875 105.223219 \r\nL 311.687875 105.223219 \r\nL 311.687875 97.975219 \r\n\" style=\"fill:#f69e75;\"/>\r\n    <path clip-path=\"url(#p121c82ebf5)\" d=\"M 320.615875 97.975219 \r\nL 329.543875 97.975219 \r\nL 329.543875 105.223219 \r\nL 320.615875 105.223219 \r\nL 320.615875 97.975219 \r\n\" style=\"fill:#f58860;\"/>\r\n    <path clip-path=\"url(#p121c82ebf5)\" d=\"M 329.543875 97.975219 \r\nL 338.471875 97.975219 \r\nL 338.471875 105.223219 \r\nL 329.543875 105.223219 \r\nL 329.543875 97.975219 \r\n\" style=\"fill:#f37651;\"/>\r\n    <path clip-path=\"url(#p121c82ebf5)\" d=\"M 338.471875 97.975219 \r\nL 347.399875 97.975219 \r\nL 347.399875 105.223219 \r\nL 338.471875 105.223219 \r\nL 338.471875 97.975219 \r\n\" style=\"fill:#f06043;\"/>\r\n    <path clip-path=\"url(#p121c82ebf5)\" d=\"M 347.399875 97.975219 \r\nL 356.327875 97.975219 \r\nL 356.327875 105.223219 \r\nL 347.399875 105.223219 \r\nL 347.399875 97.975219 \r\n\" style=\"fill:#241432;\"/>\r\n    <path clip-path=\"url(#p121c82ebf5)\" d=\"M 356.327875 97.975219 \r\nL 365.255875 97.975219 \r\nL 365.255875 105.223219 \r\nL 356.327875 105.223219 \r\nL 356.327875 97.975219 \r\n\" style=\"fill:#f6a981;\"/>\r\n    <path clip-path=\"url(#p121c82ebf5)\" d=\"M 365.255875 97.975219 \r\nL 374.183875 97.975219 \r\nL 374.183875 105.223219 \r\nL 365.255875 105.223219 \r\nL 365.255875 97.975219 \r\n\" style=\"fill:#f6a981;\"/>\r\n    <path clip-path=\"url(#p121c82ebf5)\" d=\"M 374.183875 97.975219 \r\nL 383.111875 97.975219 \r\nL 383.111875 105.223219 \r\nL 374.183875 105.223219 \r\nL 374.183875 97.975219 \r\n\" style=\"fill:#de2e44;\"/>\r\n    <path clip-path=\"url(#p121c82ebf5)\" d=\"M 115.271875 105.223219 \r\nL 124.199875 105.223219 \r\nL 124.199875 112.471219 \r\nL 115.271875 112.471219 \r\nL 115.271875 105.223219 \r\n\" style=\"fill:#f69b71;\"/>\r\n    <path clip-path=\"url(#p121c82ebf5)\" d=\"M 124.199875 105.223219 \r\nL 133.127875 105.223219 \r\nL 133.127875 112.471219 \r\nL 124.199875 112.471219 \r\nL 124.199875 105.223219 \r\n\" style=\"fill:#f6b995;\"/>\r\n    <path clip-path=\"url(#p121c82ebf5)\" d=\"M 133.127875 105.223219 \r\nL 142.055875 105.223219 \r\nL 142.055875 112.471219 \r\nL 133.127875 112.471219 \r\nL 133.127875 105.223219 \r\n\" style=\"fill:#f6a981;\"/>\r\n    <path clip-path=\"url(#p121c82ebf5)\" d=\"M 142.055875 105.223219 \r\nL 150.983875 105.223219 \r\nL 150.983875 112.471219 \r\nL 142.055875 112.471219 \r\nL 142.055875 105.223219 \r\n\" style=\"fill:#f7c9aa;\"/>\r\n    <path clip-path=\"url(#p121c82ebf5)\" d=\"M 150.983875 105.223219 \r\nL 159.911875 105.223219 \r\nL 159.911875 112.471219 \r\nL 150.983875 112.471219 \r\nL 150.983875 105.223219 \r\n\" style=\"fill:#e53940;\"/>\r\n    <path clip-path=\"url(#p121c82ebf5)\" d=\"M 159.911875 105.223219 \r\nL 168.839875 105.223219 \r\nL 168.839875 112.471219 \r\nL 159.911875 112.471219 \r\nL 159.911875 105.223219 \r\n\" style=\"fill:#e03143;\"/>\r\n    <path clip-path=\"url(#p121c82ebf5)\" d=\"M 168.839875 105.223219 \r\nL 177.767875 105.223219 \r\nL 177.767875 112.471219 \r\nL 168.839875 112.471219 \r\nL 168.839875 105.223219 \r\n\" style=\"fill:#34193d;\"/>\r\n    <path clip-path=\"url(#p121c82ebf5)\" d=\"M 177.767875 105.223219 \r\nL 186.695875 105.223219 \r\nL 186.695875 112.471219 \r\nL 177.767875 112.471219 \r\nL 177.767875 105.223219 \r\n\" style=\"fill:#bc1656;\"/>\r\n    <path clip-path=\"url(#p121c82ebf5)\" d=\"M 186.695875 105.223219 \r\nL 195.623875 105.223219 \r\nL 195.623875 112.471219 \r\nL 186.695875 112.471219 \r\nL 186.695875 105.223219 \r\n\" style=\"fill:#f7c4a4;\"/>\r\n    <path clip-path=\"url(#p121c82ebf5)\" d=\"M 195.623875 105.223219 \r\nL 204.551875 105.223219 \r\nL 204.551875 112.471219 \r\nL 195.623875 112.471219 \r\nL 195.623875 105.223219 \r\n\" style=\"fill:#f7c2a2;\"/>\r\n    <path clip-path=\"url(#p121c82ebf5)\" d=\"M 204.551875 105.223219 \r\nL 213.479875 105.223219 \r\nL 213.479875 112.471219 \r\nL 204.551875 112.471219 \r\nL 204.551875 105.223219 \r\n\" style=\"fill:#f7c6a6;\"/>\r\n    <path clip-path=\"url(#p121c82ebf5)\" d=\"M 213.479875 105.223219 \r\nL 222.407875 105.223219 \r\nL 222.407875 112.471219 \r\nL 213.479875 112.471219 \r\nL 213.479875 105.223219 \r\n\" style=\"fill:#f6a178;\"/>\r\n    <path clip-path=\"url(#p121c82ebf5)\" d=\"M 222.407875 105.223219 \r\nL 231.335875 105.223219 \r\nL 231.335875 112.471219 \r\nL 222.407875 112.471219 \r\nL 222.407875 105.223219 \r\n\" style=\"fill:#f6b48f;\"/>\r\n    <path clip-path=\"url(#p121c82ebf5)\" d=\"M 231.335875 105.223219 \r\nL 240.263875 105.223219 \r\nL 240.263875 112.471219 \r\nL 231.335875 112.471219 \r\nL 231.335875 105.223219 \r\n\" style=\"fill:#faebdd;\"/>\r\n    <path clip-path=\"url(#p121c82ebf5)\" d=\"M 240.263875 105.223219 \r\nL 249.191875 105.223219 \r\nL 249.191875 112.471219 \r\nL 240.263875 112.471219 \r\nL 240.263875 105.223219 \r\n\" style=\"fill:#f69e75;\"/>\r\n    <path clip-path=\"url(#p121c82ebf5)\" d=\"M 249.191875 105.223219 \r\nL 258.119875 105.223219 \r\nL 258.119875 112.471219 \r\nL 249.191875 112.471219 \r\nL 249.191875 105.223219 \r\n\" style=\"fill:#b91657;\"/>\r\n    <path clip-path=\"url(#p121c82ebf5)\" d=\"M 258.119875 105.223219 \r\nL 267.047875 105.223219 \r\nL 267.047875 112.471219 \r\nL 258.119875 112.471219 \r\nL 258.119875 105.223219 \r\n\" style=\"fill:#eb483e;\"/>\r\n    <path clip-path=\"url(#p121c82ebf5)\" d=\"M 267.047875 105.223219 \r\nL 275.975875 105.223219 \r\nL 275.975875 112.471219 \r\nL 267.047875 112.471219 \r\nL 267.047875 105.223219 \r\n\" style=\"fill:#581e4f;\"/>\r\n    <path clip-path=\"url(#p121c82ebf5)\" d=\"M 275.975875 105.223219 \r\nL 284.903875 105.223219 \r\nL 284.903875 112.471219 \r\nL 275.975875 112.471219 \r\nL 275.975875 105.223219 \r\n\" style=\"fill:#f59269;\"/>\r\n    <path clip-path=\"url(#p121c82ebf5)\" d=\"M 284.903875 105.223219 \r\nL 293.831875 105.223219 \r\nL 293.831875 112.471219 \r\nL 284.903875 112.471219 \r\nL 284.903875 105.223219 \r\n\" style=\"fill:#251433;\"/>\r\n    <path clip-path=\"url(#p121c82ebf5)\" d=\"M 293.831875 105.223219 \r\nL 302.759875 105.223219 \r\nL 302.759875 112.471219 \r\nL 293.831875 112.471219 \r\nL 293.831875 105.223219 \r\n\" style=\"fill:#251433;\"/>\r\n    <path clip-path=\"url(#p121c82ebf5)\" d=\"M 302.759875 105.223219 \r\nL 311.687875 105.223219 \r\nL 311.687875 112.471219 \r\nL 302.759875 112.471219 \r\nL 302.759875 105.223219 \r\n\" style=\"fill:#811e5a;\"/>\r\n    <path clip-path=\"url(#p121c82ebf5)\" d=\"M 311.687875 105.223219 \r\nL 320.615875 105.223219 \r\nL 320.615875 112.471219 \r\nL 311.687875 112.471219 \r\nL 311.687875 105.223219 \r\n\" style=\"fill:#f58d64;\"/>\r\n    <path clip-path=\"url(#p121c82ebf5)\" d=\"M 320.615875 105.223219 \r\nL 329.543875 105.223219 \r\nL 329.543875 112.471219 \r\nL 320.615875 112.471219 \r\nL 320.615875 105.223219 \r\n\" style=\"fill:#f37651;\"/>\r\n    <path clip-path=\"url(#p121c82ebf5)\" d=\"M 329.543875 105.223219 \r\nL 338.471875 105.223219 \r\nL 338.471875 112.471219 \r\nL 329.543875 112.471219 \r\nL 329.543875 105.223219 \r\n\" style=\"fill:#f16244;\"/>\r\n    <path clip-path=\"url(#p121c82ebf5)\" d=\"M 338.471875 105.223219 \r\nL 347.399875 105.223219 \r\nL 347.399875 112.471219 \r\nL 338.471875 112.471219 \r\nL 338.471875 105.223219 \r\n\" style=\"fill:#e8403e;\"/>\r\n    <path clip-path=\"url(#p121c82ebf5)\" d=\"M 347.399875 105.223219 \r\nL 356.327875 105.223219 \r\nL 356.327875 112.471219 \r\nL 347.399875 112.471219 \r\nL 347.399875 105.223219 \r\n\" style=\"fill:#03051a;\"/>\r\n    <path clip-path=\"url(#p121c82ebf5)\" d=\"M 356.327875 105.223219 \r\nL 365.255875 105.223219 \r\nL 365.255875 112.471219 \r\nL 356.327875 112.471219 \r\nL 356.327875 105.223219 \r\n\" style=\"fill:#f59970;\"/>\r\n    <path clip-path=\"url(#p121c82ebf5)\" d=\"M 365.255875 105.223219 \r\nL 374.183875 105.223219 \r\nL 374.183875 112.471219 \r\nL 365.255875 112.471219 \r\nL 365.255875 105.223219 \r\n\" style=\"fill:#f59970;\"/>\r\n    <path clip-path=\"url(#p121c82ebf5)\" d=\"M 374.183875 105.223219 \r\nL 383.111875 105.223219 \r\nL 383.111875 112.471219 \r\nL 374.183875 112.471219 \r\nL 374.183875 105.223219 \r\n\" style=\"fill:#841e5a;\"/>\r\n    <path clip-path=\"url(#p121c82ebf5)\" d=\"M 115.271875 112.471219 \r\nL 124.199875 112.471219 \r\nL 124.199875 119.719219 \r\nL 115.271875 119.719219 \r\nL 115.271875 112.471219 \r\n\" style=\"fill:#f6b691;\"/>\r\n    <path clip-path=\"url(#p121c82ebf5)\" d=\"M 124.199875 112.471219 \r\nL 133.127875 112.471219 \r\nL 133.127875 119.719219 \r\nL 124.199875 119.719219 \r\nL 124.199875 112.471219 \r\n\" style=\"fill:#f6bb97;\"/>\r\n    <path clip-path=\"url(#p121c82ebf5)\" d=\"M 133.127875 112.471219 \r\nL 142.055875 112.471219 \r\nL 142.055875 119.719219 \r\nL 133.127875 119.719219 \r\nL 133.127875 112.471219 \r\n\" style=\"fill:#f26747;\"/>\r\n    <path clip-path=\"url(#p121c82ebf5)\" d=\"M 142.055875 112.471219 \r\nL 150.983875 112.471219 \r\nL 150.983875 119.719219 \r\nL 142.055875 119.719219 \r\nL 142.055875 112.471219 \r\n\" style=\"fill:#f6ad85;\"/>\r\n    <path clip-path=\"url(#p121c82ebf5)\" d=\"M 150.983875 112.471219 \r\nL 159.911875 112.471219 \r\nL 159.911875 119.719219 \r\nL 150.983875 119.719219 \r\nL 150.983875 112.471219 \r\n\" style=\"fill:#8b1d5b;\"/>\r\n    <path clip-path=\"url(#p121c82ebf5)\" d=\"M 159.911875 112.471219 \r\nL 168.839875 112.471219 \r\nL 168.839875 119.719219 \r\nL 159.911875 119.719219 \r\nL 159.911875 112.471219 \r\n\" style=\"fill:#f26747;\"/>\r\n    <path clip-path=\"url(#p121c82ebf5)\" d=\"M 168.839875 112.471219 \r\nL 177.767875 112.471219 \r\nL 177.767875 119.719219 \r\nL 168.839875 119.719219 \r\nL 168.839875 112.471219 \r\n\" style=\"fill:#751f58;\"/>\r\n    <path clip-path=\"url(#p121c82ebf5)\" d=\"M 177.767875 112.471219 \r\nL 186.695875 112.471219 \r\nL 186.695875 119.719219 \r\nL 177.767875 119.719219 \r\nL 177.767875 112.471219 \r\n\" style=\"fill:#d82748;\"/>\r\n    <path clip-path=\"url(#p121c82ebf5)\" d=\"M 186.695875 112.471219 \r\nL 195.623875 112.471219 \r\nL 195.623875 119.719219 \r\nL 186.695875 119.719219 \r\nL 186.695875 112.471219 \r\n\" style=\"fill:#f7c4a4;\"/>\r\n    <path clip-path=\"url(#p121c82ebf5)\" d=\"M 195.623875 112.471219 \r\nL 204.551875 112.471219 \r\nL 204.551875 119.719219 \r\nL 195.623875 119.719219 \r\nL 195.623875 112.471219 \r\n\" style=\"fill:#f6bf9d;\"/>\r\n    <path clip-path=\"url(#p121c82ebf5)\" d=\"M 204.551875 112.471219 \r\nL 213.479875 112.471219 \r\nL 213.479875 119.719219 \r\nL 204.551875 119.719219 \r\nL 204.551875 112.471219 \r\n\" style=\"fill:#f7cdb1;\"/>\r\n    <path clip-path=\"url(#p121c82ebf5)\" d=\"M 213.479875 112.471219 \r\nL 222.407875 112.471219 \r\nL 222.407875 119.719219 \r\nL 213.479875 119.719219 \r\nL 213.479875 112.471219 \r\n\" style=\"fill:#f47d57;\"/>\r\n    <path clip-path=\"url(#p121c82ebf5)\" d=\"M 222.407875 112.471219 \r\nL 231.335875 112.471219 \r\nL 231.335875 119.719219 \r\nL 222.407875 119.719219 \r\nL 222.407875 112.471219 \r\n\" style=\"fill:#f6b18b;\"/>\r\n    <path clip-path=\"url(#p121c82ebf5)\" d=\"M 231.335875 112.471219 \r\nL 240.263875 112.471219 \r\nL 240.263875 119.719219 \r\nL 231.335875 119.719219 \r\nL 231.335875 112.471219 \r\n\" style=\"fill:#f69e75;\"/>\r\n    <path clip-path=\"url(#p121c82ebf5)\" d=\"M 240.263875 112.471219 \r\nL 249.191875 112.471219 \r\nL 249.191875 119.719219 \r\nL 240.263875 119.719219 \r\nL 240.263875 112.471219 \r\n\" style=\"fill:#faebdd;\"/>\r\n    <path clip-path=\"url(#p121c82ebf5)\" d=\"M 249.191875 112.471219 \r\nL 258.119875 112.471219 \r\nL 258.119875 119.719219 \r\nL 249.191875 119.719219 \r\nL 249.191875 112.471219 \r\n\" style=\"fill:#f4815a;\"/>\r\n    <path clip-path=\"url(#p121c82ebf5)\" d=\"M 258.119875 112.471219 \r\nL 267.047875 112.471219 \r\nL 267.047875 119.719219 \r\nL 258.119875 119.719219 \r\nL 258.119875 112.471219 \r\n\" style=\"fill:#f4835b;\"/>\r\n    <path clip-path=\"url(#p121c82ebf5)\" d=\"M 267.047875 112.471219 \r\nL 275.975875 112.471219 \r\nL 275.975875 119.719219 \r\nL 267.047875 119.719219 \r\nL 267.047875 112.471219 \r\n\" style=\"fill:#871e5b;\"/>\r\n    <path clip-path=\"url(#p121c82ebf5)\" d=\"M 275.975875 112.471219 \r\nL 284.903875 112.471219 \r\nL 284.903875 119.719219 \r\nL 275.975875 119.719219 \r\nL 275.975875 112.471219 \r\n\" style=\"fill:#f6b995;\"/>\r\n    <path clip-path=\"url(#p121c82ebf5)\" d=\"M 284.903875 112.471219 \r\nL 293.831875 112.471219 \r\nL 293.831875 119.719219 \r\nL 284.903875 119.719219 \r\nL 284.903875 112.471219 \r\n\" style=\"fill:#971c5b;\"/>\r\n    <path clip-path=\"url(#p121c82ebf5)\" d=\"M 293.831875 112.471219 \r\nL 302.759875 112.471219 \r\nL 302.759875 119.719219 \r\nL 293.831875 119.719219 \r\nL 293.831875 112.471219 \r\n\" style=\"fill:#221331;\"/>\r\n    <path clip-path=\"url(#p121c82ebf5)\" d=\"M 302.759875 112.471219 \r\nL 311.687875 112.471219 \r\nL 311.687875 119.719219 \r\nL 302.759875 119.719219 \r\nL 302.759875 112.471219 \r\n\" style=\"fill:#d72549;\"/>\r\n    <path clip-path=\"url(#p121c82ebf5)\" d=\"M 311.687875 112.471219 \r\nL 320.615875 112.471219 \r\nL 320.615875 119.719219 \r\nL 311.687875 119.719219 \r\nL 311.687875 112.471219 \r\n\" style=\"fill:#f6bb97;\"/>\r\n    <path clip-path=\"url(#p121c82ebf5)\" d=\"M 320.615875 112.471219 \r\nL 329.543875 112.471219 \r\nL 329.543875 119.719219 \r\nL 320.615875 119.719219 \r\nL 320.615875 112.471219 \r\n\" style=\"fill:#f47d57;\"/>\r\n    <path clip-path=\"url(#p121c82ebf5)\" d=\"M 329.543875 112.471219 \r\nL 338.471875 112.471219 \r\nL 338.471875 119.719219 \r\nL 329.543875 119.719219 \r\nL 329.543875 112.471219 \r\n\" style=\"fill:#f5966c;\"/>\r\n    <path clip-path=\"url(#p121c82ebf5)\" d=\"M 338.471875 112.471219 \r\nL 347.399875 112.471219 \r\nL 347.399875 119.719219 \r\nL 338.471875 119.719219 \r\nL 338.471875 112.471219 \r\n\" style=\"fill:#f06043;\"/>\r\n    <path clip-path=\"url(#p121c82ebf5)\" d=\"M 347.399875 112.471219 \r\nL 356.327875 112.471219 \r\nL 356.327875 119.719219 \r\nL 347.399875 119.719219 \r\nL 347.399875 112.471219 \r\n\" style=\"fill:#461c48;\"/>\r\n    <path clip-path=\"url(#p121c82ebf5)\" d=\"M 356.327875 112.471219 \r\nL 365.255875 112.471219 \r\nL 365.255875 119.719219 \r\nL 356.327875 119.719219 \r\nL 356.327875 112.471219 \r\n\" style=\"fill:#f6c19f;\"/>\r\n    <path clip-path=\"url(#p121c82ebf5)\" d=\"M 365.255875 112.471219 \r\nL 374.183875 112.471219 \r\nL 374.183875 119.719219 \r\nL 365.255875 119.719219 \r\nL 365.255875 112.471219 \r\n\" style=\"fill:#f6c19f;\"/>\r\n    <path clip-path=\"url(#p121c82ebf5)\" d=\"M 374.183875 112.471219 \r\nL 383.111875 112.471219 \r\nL 383.111875 119.719219 \r\nL 374.183875 119.719219 \r\nL 374.183875 112.471219 \r\n\" style=\"fill:#e43841;\"/>\r\n    <path clip-path=\"url(#p121c82ebf5)\" d=\"M 115.271875 119.719219 \r\nL 124.199875 119.719219 \r\nL 124.199875 126.967219 \r\nL 115.271875 126.967219 \r\nL 115.271875 119.719219 \r\n\" style=\"fill:#ca1a50;\"/>\r\n    <path clip-path=\"url(#p121c82ebf5)\" d=\"M 124.199875 119.719219 \r\nL 133.127875 119.719219 \r\nL 133.127875 126.967219 \r\nL 124.199875 126.967219 \r\nL 124.199875 119.719219 \r\n\" style=\"fill:#cb1b4f;\"/>\r\n    <path clip-path=\"url(#p121c82ebf5)\" d=\"M 133.127875 119.719219 \r\nL 142.055875 119.719219 \r\nL 142.055875 126.967219 \r\nL 133.127875 126.967219 \r\nL 133.127875 119.719219 \r\n\" style=\"fill:#bd1655;\"/>\r\n    <path clip-path=\"url(#p121c82ebf5)\" d=\"M 142.055875 119.719219 \r\nL 150.983875 119.719219 \r\nL 150.983875 126.967219 \r\nL 142.055875 126.967219 \r\nL 142.055875 119.719219 \r\n\" style=\"fill:#d62449;\"/>\r\n    <path clip-path=\"url(#p121c82ebf5)\" d=\"M 150.983875 119.719219 \r\nL 159.911875 119.719219 \r\nL 159.911875 126.967219 \r\nL 150.983875 126.967219 \r\nL 150.983875 119.719219 \r\n\" style=\"fill:#501d4c;\"/>\r\n    <path clip-path=\"url(#p121c82ebf5)\" d=\"M 159.911875 119.719219 \r\nL 168.839875 119.719219 \r\nL 168.839875 126.967219 \r\nL 159.911875 126.967219 \r\nL 159.911875 119.719219 \r\n\" style=\"fill:#cb1b4f;\"/>\r\n    <path clip-path=\"url(#p121c82ebf5)\" d=\"M 168.839875 119.719219 \r\nL 177.767875 119.719219 \r\nL 177.767875 126.967219 \r\nL 168.839875 126.967219 \r\nL 168.839875 119.719219 \r\n\" style=\"fill:#e63b40;\"/>\r\n    <path clip-path=\"url(#p121c82ebf5)\" d=\"M 177.767875 119.719219 \r\nL 186.695875 119.719219 \r\nL 186.695875 126.967219 \r\nL 177.767875 126.967219 \r\nL 177.767875 119.719219 \r\n\" style=\"fill:#b01759;\"/>\r\n    <path clip-path=\"url(#p121c82ebf5)\" d=\"M 186.695875 119.719219 \r\nL 195.623875 119.719219 \r\nL 195.623875 126.967219 \r\nL 186.695875 126.967219 \r\nL 186.695875 119.719219 \r\n\" style=\"fill:#d72549;\"/>\r\n    <path clip-path=\"url(#p121c82ebf5)\" d=\"M 195.623875 119.719219 \r\nL 204.551875 119.719219 \r\nL 204.551875 126.967219 \r\nL 195.623875 126.967219 \r\nL 195.623875 119.719219 \r\n\" style=\"fill:#cd1c4e;\"/>\r\n    <path clip-path=\"url(#p121c82ebf5)\" d=\"M 204.551875 119.719219 \r\nL 213.479875 119.719219 \r\nL 213.479875 126.967219 \r\nL 204.551875 126.967219 \r\nL 204.551875 119.719219 \r\n\" style=\"fill:#e63b40;\"/>\r\n    <path clip-path=\"url(#p121c82ebf5)\" d=\"M 213.479875 119.719219 \r\nL 222.407875 119.719219 \r\nL 222.407875 126.967219 \r\nL 213.479875 126.967219 \r\nL 213.479875 119.719219 \r\n\" style=\"fill:#c41753;\"/>\r\n    <path clip-path=\"url(#p121c82ebf5)\" d=\"M 222.407875 119.719219 \r\nL 231.335875 119.719219 \r\nL 231.335875 126.967219 \r\nL 222.407875 126.967219 \r\nL 222.407875 119.719219 \r\n\" style=\"fill:#eb483e;\"/>\r\n    <path clip-path=\"url(#p121c82ebf5)\" d=\"M 231.335875 119.719219 \r\nL 240.263875 119.719219 \r\nL 240.263875 126.967219 \r\nL 231.335875 126.967219 \r\nL 231.335875 119.719219 \r\n\" style=\"fill:#b91657;\"/>\r\n    <path clip-path=\"url(#p121c82ebf5)\" d=\"M 240.263875 119.719219 \r\nL 249.191875 119.719219 \r\nL 249.191875 126.967219 \r\nL 240.263875 126.967219 \r\nL 240.263875 119.719219 \r\n\" style=\"fill:#f4815a;\"/>\r\n    <path clip-path=\"url(#p121c82ebf5)\" d=\"M 249.191875 119.719219 \r\nL 258.119875 119.719219 \r\nL 258.119875 126.967219 \r\nL 249.191875 126.967219 \r\nL 249.191875 119.719219 \r\n\" style=\"fill:#faebdd;\"/>\r\n    <path clip-path=\"url(#p121c82ebf5)\" d=\"M 258.119875 119.719219 \r\nL 267.047875 119.719219 \r\nL 267.047875 126.967219 \r\nL 258.119875 126.967219 \r\nL 258.119875 119.719219 \r\n\" style=\"fill:#f59269;\"/>\r\n    <path clip-path=\"url(#p121c82ebf5)\" d=\"M 267.047875 119.719219 \r\nL 275.975875 119.719219 \r\nL 275.975875 126.967219 \r\nL 267.047875 126.967219 \r\nL 267.047875 119.719219 \r\n\" style=\"fill:#e43841;\"/>\r\n    <path clip-path=\"url(#p121c82ebf5)\" d=\"M 275.975875 119.719219 \r\nL 284.903875 119.719219 \r\nL 284.903875 126.967219 \r\nL 275.975875 126.967219 \r\nL 275.975875 119.719219 \r\n\" style=\"fill:#e8403e;\"/>\r\n    <path clip-path=\"url(#p121c82ebf5)\" d=\"M 284.903875 119.719219 \r\nL 293.831875 119.719219 \r\nL 293.831875 126.967219 \r\nL 284.903875 126.967219 \r\nL 284.903875 119.719219 \r\n\" style=\"fill:#e9423e;\"/>\r\n    <path clip-path=\"url(#p121c82ebf5)\" d=\"M 293.831875 119.719219 \r\nL 302.759875 119.719219 \r\nL 302.759875 126.967219 \r\nL 293.831875 126.967219 \r\nL 293.831875 119.719219 \r\n\" style=\"fill:#951c5b;\"/>\r\n    <path clip-path=\"url(#p121c82ebf5)\" d=\"M 302.759875 119.719219 \r\nL 311.687875 119.719219 \r\nL 311.687875 126.967219 \r\nL 302.759875 126.967219 \r\nL 302.759875 119.719219 \r\n\" style=\"fill:#f26747;\"/>\r\n    <path clip-path=\"url(#p121c82ebf5)\" d=\"M 311.687875 119.719219 \r\nL 320.615875 119.719219 \r\nL 320.615875 126.967219 \r\nL 311.687875 126.967219 \r\nL 311.687875 119.719219 \r\n\" style=\"fill:#f6a178;\"/>\r\n    <path clip-path=\"url(#p121c82ebf5)\" d=\"M 320.615875 119.719219 \r\nL 329.543875 119.719219 \r\nL 329.543875 126.967219 \r\nL 320.615875 126.967219 \r\nL 320.615875 119.719219 \r\n\" style=\"fill:#f26d4b;\"/>\r\n    <path clip-path=\"url(#p121c82ebf5)\" d=\"M 329.543875 119.719219 \r\nL 338.471875 119.719219 \r\nL 338.471875 126.967219 \r\nL 329.543875 126.967219 \r\nL 329.543875 119.719219 \r\n\" style=\"fill:#f16244;\"/>\r\n    <path clip-path=\"url(#p121c82ebf5)\" d=\"M 338.471875 119.719219 \r\nL 347.399875 119.719219 \r\nL 347.399875 126.967219 \r\nL 338.471875 126.967219 \r\nL 338.471875 119.719219 \r\n\" style=\"fill:#f58f66;\"/>\r\n    <path clip-path=\"url(#p121c82ebf5)\" d=\"M 347.399875 119.719219 \r\nL 356.327875 119.719219 \r\nL 356.327875 126.967219 \r\nL 347.399875 126.967219 \r\nL 347.399875 119.719219 \r\n\" style=\"fill:#b91657;\"/>\r\n    <path clip-path=\"url(#p121c82ebf5)\" d=\"M 356.327875 119.719219 \r\nL 365.255875 119.719219 \r\nL 365.255875 126.967219 \r\nL 356.327875 126.967219 \r\nL 356.327875 119.719219 \r\n\" style=\"fill:#f58a61;\"/>\r\n    <path clip-path=\"url(#p121c82ebf5)\" d=\"M 365.255875 119.719219 \r\nL 374.183875 119.719219 \r\nL 374.183875 126.967219 \r\nL 365.255875 126.967219 \r\nL 365.255875 119.719219 \r\n\" style=\"fill:#f58a61;\"/>\r\n    <path clip-path=\"url(#p121c82ebf5)\" d=\"M 374.183875 119.719219 \r\nL 383.111875 119.719219 \r\nL 383.111875 126.967219 \r\nL 374.183875 126.967219 \r\nL 374.183875 119.719219 \r\n\" style=\"fill:#f47f58;\"/>\r\n    <path clip-path=\"url(#p121c82ebf5)\" d=\"M 115.271875 126.967219 \r\nL 124.199875 126.967219 \r\nL 124.199875 134.215219 \r\nL 115.271875 134.215219 \r\nL 115.271875 126.967219 \r\n\" style=\"fill:#ef5840;\"/>\r\n    <path clip-path=\"url(#p121c82ebf5)\" d=\"M 124.199875 126.967219 \r\nL 133.127875 126.967219 \r\nL 133.127875 134.215219 \r\nL 124.199875 134.215219 \r\nL 124.199875 126.967219 \r\n\" style=\"fill:#f47a54;\"/>\r\n    <path clip-path=\"url(#p121c82ebf5)\" d=\"M 133.127875 126.967219 \r\nL 142.055875 126.967219 \r\nL 142.055875 134.215219 \r\nL 133.127875 134.215219 \r\nL 133.127875 126.967219 \r\n\" style=\"fill:#f26747;\"/>\r\n    <path clip-path=\"url(#p121c82ebf5)\" d=\"M 142.055875 126.967219 \r\nL 150.983875 126.967219 \r\nL 150.983875 134.215219 \r\nL 142.055875 134.215219 \r\nL 142.055875 126.967219 \r\n\" style=\"fill:#f59269;\"/>\r\n    <path clip-path=\"url(#p121c82ebf5)\" d=\"M 150.983875 126.967219 \r\nL 159.911875 126.967219 \r\nL 159.911875 134.215219 \r\nL 150.983875 134.215219 \r\nL 150.983875 126.967219 \r\n\" style=\"fill:#d62449;\"/>\r\n    <path clip-path=\"url(#p121c82ebf5)\" d=\"M 159.911875 126.967219 \r\nL 168.839875 126.967219 \r\nL 168.839875 134.215219 \r\nL 159.911875 134.215219 \r\nL 159.911875 126.967219 \r\n\" style=\"fill:#d11f4c;\"/>\r\n    <path clip-path=\"url(#p121c82ebf5)\" d=\"M 168.839875 126.967219 \r\nL 177.767875 126.967219 \r\nL 177.767875 134.215219 \r\nL 168.839875 134.215219 \r\nL 168.839875 126.967219 \r\n\" style=\"fill:#c71951;\"/>\r\n    <path clip-path=\"url(#p121c82ebf5)\" d=\"M 177.767875 126.967219 \r\nL 186.695875 126.967219 \r\nL 186.695875 134.215219 \r\nL 177.767875 134.215219 \r\nL 177.767875 126.967219 \r\n\" style=\"fill:#d11f4c;\"/>\r\n    <path clip-path=\"url(#p121c82ebf5)\" d=\"M 186.695875 126.967219 \r\nL 195.623875 126.967219 \r\nL 195.623875 134.215219 \r\nL 186.695875 134.215219 \r\nL 186.695875 126.967219 \r\n\" style=\"fill:#f26948;\"/>\r\n    <path clip-path=\"url(#p121c82ebf5)\" d=\"M 195.623875 126.967219 \r\nL 204.551875 126.967219 \r\nL 204.551875 134.215219 \r\nL 195.623875 134.215219 \r\nL 195.623875 126.967219 \r\n\" style=\"fill:#f05e42;\"/>\r\n    <path clip-path=\"url(#p121c82ebf5)\" d=\"M 204.551875 126.967219 \r\nL 213.479875 126.967219 \r\nL 213.479875 134.215219 \r\nL 204.551875 134.215219 \r\nL 204.551875 126.967219 \r\n\" style=\"fill:#f4815a;\"/>\r\n    <path clip-path=\"url(#p121c82ebf5)\" d=\"M 213.479875 126.967219 \r\nL 222.407875 126.967219 \r\nL 222.407875 134.215219 \r\nL 213.479875 134.215219 \r\nL 213.479875 126.967219 \r\n\" style=\"fill:#f47f58;\"/>\r\n    <path clip-path=\"url(#p121c82ebf5)\" d=\"M 222.407875 126.967219 \r\nL 231.335875 126.967219 \r\nL 231.335875 134.215219 \r\nL 222.407875 134.215219 \r\nL 222.407875 126.967219 \r\n\" style=\"fill:#f26948;\"/>\r\n    <path clip-path=\"url(#p121c82ebf5)\" d=\"M 231.335875 126.967219 \r\nL 240.263875 126.967219 \r\nL 240.263875 134.215219 \r\nL 231.335875 134.215219 \r\nL 231.335875 126.967219 \r\n\" style=\"fill:#eb483e;\"/>\r\n    <path clip-path=\"url(#p121c82ebf5)\" d=\"M 240.263875 126.967219 \r\nL 249.191875 126.967219 \r\nL 249.191875 134.215219 \r\nL 240.263875 134.215219 \r\nL 240.263875 126.967219 \r\n\" style=\"fill:#f4835b;\"/>\r\n    <path clip-path=\"url(#p121c82ebf5)\" d=\"M 249.191875 126.967219 \r\nL 258.119875 126.967219 \r\nL 258.119875 134.215219 \r\nL 249.191875 134.215219 \r\nL 249.191875 126.967219 \r\n\" style=\"fill:#f59269;\"/>\r\n    <path clip-path=\"url(#p121c82ebf5)\" d=\"M 258.119875 126.967219 \r\nL 267.047875 126.967219 \r\nL 267.047875 134.215219 \r\nL 258.119875 134.215219 \r\nL 258.119875 126.967219 \r\n\" style=\"fill:#faebdd;\"/>\r\n    <path clip-path=\"url(#p121c82ebf5)\" d=\"M 267.047875 126.967219 \r\nL 275.975875 126.967219 \r\nL 275.975875 134.215219 \r\nL 267.047875 134.215219 \r\nL 267.047875 126.967219 \r\n\" style=\"fill:#861e5b;\"/>\r\n    <path clip-path=\"url(#p121c82ebf5)\" d=\"M 275.975875 126.967219 \r\nL 284.903875 126.967219 \r\nL 284.903875 134.215219 \r\nL 275.975875 134.215219 \r\nL 275.975875 126.967219 \r\n\" style=\"fill:#f16445;\"/>\r\n    <path clip-path=\"url(#p121c82ebf5)\" d=\"M 284.903875 126.967219 \r\nL 293.831875 126.967219 \r\nL 293.831875 134.215219 \r\nL 284.903875 134.215219 \r\nL 284.903875 126.967219 \r\n\" style=\"fill:#e23442;\"/>\r\n    <path clip-path=\"url(#p121c82ebf5)\" d=\"M 293.831875 126.967219 \r\nL 302.759875 126.967219 \r\nL 302.759875 134.215219 \r\nL 293.831875 134.215219 \r\nL 293.831875 126.967219 \r\n\" style=\"fill:#931c5b;\"/>\r\n    <path clip-path=\"url(#p121c82ebf5)\" d=\"M 302.759875 126.967219 \r\nL 311.687875 126.967219 \r\nL 311.687875 134.215219 \r\nL 302.759875 134.215219 \r\nL 302.759875 126.967219 \r\n\" style=\"fill:#ea443e;\"/>\r\n    <path clip-path=\"url(#p121c82ebf5)\" d=\"M 311.687875 126.967219 \r\nL 320.615875 126.967219 \r\nL 320.615875 134.215219 \r\nL 311.687875 134.215219 \r\nL 311.687875 126.967219 \r\n\" style=\"fill:#f6a67e;\"/>\r\n    <path clip-path=\"url(#p121c82ebf5)\" d=\"M 320.615875 126.967219 \r\nL 329.543875 126.967219 \r\nL 329.543875 134.215219 \r\nL 320.615875 134.215219 \r\nL 320.615875 126.967219 \r\n\" style=\"fill:#f4865e;\"/>\r\n    <path clip-path=\"url(#p121c82ebf5)\" d=\"M 329.543875 126.967219 \r\nL 338.471875 126.967219 \r\nL 338.471875 134.215219 \r\nL 329.543875 134.215219 \r\nL 329.543875 126.967219 \r\n\" style=\"fill:#f4865e;\"/>\r\n    <path clip-path=\"url(#p121c82ebf5)\" d=\"M 338.471875 126.967219 \r\nL 347.399875 126.967219 \r\nL 347.399875 134.215219 \r\nL 338.471875 134.215219 \r\nL 338.471875 126.967219 \r\n\" style=\"fill:#f6b18b;\"/>\r\n    <path clip-path=\"url(#p121c82ebf5)\" d=\"M 347.399875 126.967219 \r\nL 356.327875 126.967219 \r\nL 356.327875 134.215219 \r\nL 347.399875 134.215219 \r\nL 347.399875 126.967219 \r\n\" style=\"fill:#821e5a;\"/>\r\n    <path clip-path=\"url(#p121c82ebf5)\" d=\"M 356.327875 126.967219 \r\nL 365.255875 126.967219 \r\nL 365.255875 134.215219 \r\nL 356.327875 134.215219 \r\nL 356.327875 126.967219 \r\n\" style=\"fill:#f6a37a;\"/>\r\n    <path clip-path=\"url(#p121c82ebf5)\" d=\"M 365.255875 126.967219 \r\nL 374.183875 126.967219 \r\nL 374.183875 134.215219 \r\nL 365.255875 134.215219 \r\nL 365.255875 126.967219 \r\n\" style=\"fill:#f6a37a;\"/>\r\n    <path clip-path=\"url(#p121c82ebf5)\" d=\"M 374.183875 126.967219 \r\nL 383.111875 126.967219 \r\nL 383.111875 134.215219 \r\nL 374.183875 134.215219 \r\nL 374.183875 126.967219 \r\n\" style=\"fill:#c81951;\"/>\r\n    <path clip-path=\"url(#p121c82ebf5)\" d=\"M 115.271875 134.215219 \r\nL 124.199875 134.215219 \r\nL 124.199875 141.463219 \r\nL 115.271875 141.463219 \r\nL 115.271875 134.215219 \r\n\" style=\"fill:#541e4e;\"/>\r\n    <path clip-path=\"url(#p121c82ebf5)\" d=\"M 124.199875 134.215219 \r\nL 133.127875 134.215219 \r\nL 133.127875 141.463219 \r\nL 124.199875 141.463219 \r\nL 124.199875 134.215219 \r\n\" style=\"fill:#641f54;\"/>\r\n    <path clip-path=\"url(#p121c82ebf5)\" d=\"M 133.127875 134.215219 \r\nL 142.055875 134.215219 \r\nL 142.055875 141.463219 \r\nL 133.127875 141.463219 \r\nL 133.127875 134.215219 \r\n\" style=\"fill:#481c48;\"/>\r\n    <path clip-path=\"url(#p121c82ebf5)\" d=\"M 142.055875 134.215219 \r\nL 150.983875 134.215219 \r\nL 150.983875 141.463219 \r\nL 142.055875 141.463219 \r\nL 142.055875 134.215219 \r\n\" style=\"fill:#601f52;\"/>\r\n    <path clip-path=\"url(#p121c82ebf5)\" d=\"M 150.983875 134.215219 \r\nL 159.911875 134.215219 \r\nL 159.911875 141.463219 \r\nL 150.983875 141.463219 \r\nL 150.983875 134.215219 \r\n\" style=\"fill:#251433;\"/>\r\n    <path clip-path=\"url(#p121c82ebf5)\" d=\"M 159.911875 134.215219 \r\nL 168.839875 134.215219 \r\nL 168.839875 141.463219 \r\nL 159.911875 141.463219 \r\nL 159.911875 134.215219 \r\n\" style=\"fill:#33183c;\"/>\r\n    <path clip-path=\"url(#p121c82ebf5)\" d=\"M 168.839875 134.215219 \r\nL 177.767875 134.215219 \r\nL 177.767875 141.463219 \r\nL 168.839875 141.463219 \r\nL 168.839875 134.215219 \r\n\" style=\"fill:#561e4f;\"/>\r\n    <path clip-path=\"url(#p121c82ebf5)\" d=\"M 177.767875 134.215219 \r\nL 186.695875 134.215219 \r\nL 186.695875 141.463219 \r\nL 177.767875 141.463219 \r\nL 177.767875 134.215219 \r\n\" style=\"fill:#6b1f56;\"/>\r\n    <path clip-path=\"url(#p121c82ebf5)\" d=\"M 186.695875 134.215219 \r\nL 195.623875 134.215219 \r\nL 195.623875 141.463219 \r\nL 186.695875 141.463219 \r\nL 186.695875 134.215219 \r\n\" style=\"fill:#6b1f56;\"/>\r\n    <path clip-path=\"url(#p121c82ebf5)\" d=\"M 195.623875 134.215219 \r\nL 204.551875 134.215219 \r\nL 204.551875 141.463219 \r\nL 195.623875 141.463219 \r\nL 195.623875 134.215219 \r\n\" style=\"fill:#611f53;\"/>\r\n    <path clip-path=\"url(#p121c82ebf5)\" d=\"M 204.551875 134.215219 \r\nL 213.479875 134.215219 \r\nL 213.479875 141.463219 \r\nL 204.551875 141.463219 \r\nL 204.551875 134.215219 \r\n\" style=\"fill:#7a1f59;\"/>\r\n    <path clip-path=\"url(#p121c82ebf5)\" d=\"M 213.479875 134.215219 \r\nL 222.407875 134.215219 \r\nL 222.407875 141.463219 \r\nL 213.479875 141.463219 \r\nL 213.479875 134.215219 \r\n\" style=\"fill:#631f53;\"/>\r\n    <path clip-path=\"url(#p121c82ebf5)\" d=\"M 222.407875 134.215219 \r\nL 231.335875 134.215219 \r\nL 231.335875 141.463219 \r\nL 222.407875 141.463219 \r\nL 222.407875 134.215219 \r\n\" style=\"fill:#a3195b;\"/>\r\n    <path clip-path=\"url(#p121c82ebf5)\" d=\"M 231.335875 134.215219 \r\nL 240.263875 134.215219 \r\nL 240.263875 141.463219 \r\nL 231.335875 141.463219 \r\nL 231.335875 134.215219 \r\n\" style=\"fill:#581e4f;\"/>\r\n    <path clip-path=\"url(#p121c82ebf5)\" d=\"M 240.263875 134.215219 \r\nL 249.191875 134.215219 \r\nL 249.191875 141.463219 \r\nL 240.263875 141.463219 \r\nL 240.263875 134.215219 \r\n\" style=\"fill:#871e5b;\"/>\r\n    <path clip-path=\"url(#p121c82ebf5)\" d=\"M 249.191875 134.215219 \r\nL 258.119875 134.215219 \r\nL 258.119875 141.463219 \r\nL 249.191875 141.463219 \r\nL 249.191875 134.215219 \r\n\" style=\"fill:#e43841;\"/>\r\n    <path clip-path=\"url(#p121c82ebf5)\" d=\"M 258.119875 134.215219 \r\nL 267.047875 134.215219 \r\nL 267.047875 141.463219 \r\nL 258.119875 141.463219 \r\nL 258.119875 134.215219 \r\n\" style=\"fill:#861e5b;\"/>\r\n    <path clip-path=\"url(#p121c82ebf5)\" d=\"M 267.047875 134.215219 \r\nL 275.975875 134.215219 \r\nL 275.975875 141.463219 \r\nL 267.047875 141.463219 \r\nL 267.047875 134.215219 \r\n\" style=\"fill:#faebdd;\"/>\r\n    <path clip-path=\"url(#p121c82ebf5)\" d=\"M 275.975875 134.215219 \r\nL 284.903875 134.215219 \r\nL 284.903875 141.463219 \r\nL 275.975875 141.463219 \r\nL 275.975875 134.215219 \r\n\" style=\"fill:#891e5b;\"/>\r\n    <path clip-path=\"url(#p121c82ebf5)\" d=\"M 284.903875 134.215219 \r\nL 293.831875 134.215219 \r\nL 293.831875 141.463219 \r\nL 284.903875 141.463219 \r\nL 284.903875 134.215219 \r\n\" style=\"fill:#ea443e;\"/>\r\n    <path clip-path=\"url(#p121c82ebf5)\" d=\"M 293.831875 134.215219 \r\nL 302.759875 134.215219 \r\nL 302.759875 141.463219 \r\nL 293.831875 141.463219 \r\nL 293.831875 134.215219 \r\n\" style=\"fill:#e43841;\"/>\r\n    <path clip-path=\"url(#p121c82ebf5)\" d=\"M 302.759875 134.215219 \r\nL 311.687875 134.215219 \r\nL 311.687875 141.463219 \r\nL 302.759875 141.463219 \r\nL 302.759875 134.215219 \r\n\" style=\"fill:#e83f3f;\"/>\r\n    <path clip-path=\"url(#p121c82ebf5)\" d=\"M 311.687875 134.215219 \r\nL 320.615875 134.215219 \r\nL 320.615875 141.463219 \r\nL 311.687875 141.463219 \r\nL 311.687875 134.215219 \r\n\" style=\"fill:#a3195b;\"/>\r\n    <path clip-path=\"url(#p121c82ebf5)\" d=\"M 320.615875 134.215219 \r\nL 329.543875 134.215219 \r\nL 329.543875 141.463219 \r\nL 320.615875 141.463219 \r\nL 320.615875 134.215219 \r\n\" style=\"fill:#d92847;\"/>\r\n    <path clip-path=\"url(#p121c82ebf5)\" d=\"M 329.543875 134.215219 \r\nL 338.471875 134.215219 \r\nL 338.471875 141.463219 \r\nL 329.543875 141.463219 \r\nL 329.543875 134.215219 \r\n\" style=\"fill:#ad1759;\"/>\r\n    <path clip-path=\"url(#p121c82ebf5)\" d=\"M 338.471875 134.215219 \r\nL 347.399875 134.215219 \r\nL 347.399875 141.463219 \r\nL 338.471875 141.463219 \r\nL 338.471875 134.215219 \r\n\" style=\"fill:#ad1759;\"/>\r\n    <path clip-path=\"url(#p121c82ebf5)\" d=\"M 347.399875 134.215219 \r\nL 356.327875 134.215219 \r\nL 356.327875 141.463219 \r\nL 347.399875 141.463219 \r\nL 347.399875 134.215219 \r\n\" style=\"fill:#811e5a;\"/>\r\n    <path clip-path=\"url(#p121c82ebf5)\" d=\"M 356.327875 134.215219 \r\nL 365.255875 134.215219 \r\nL 365.255875 141.463219 \r\nL 356.327875 141.463219 \r\nL 356.327875 134.215219 \r\n\" style=\"fill:#b91657;\"/>\r\n    <path clip-path=\"url(#p121c82ebf5)\" d=\"M 365.255875 134.215219 \r\nL 374.183875 134.215219 \r\nL 374.183875 141.463219 \r\nL 365.255875 141.463219 \r\nL 365.255875 134.215219 \r\n\" style=\"fill:#b91657;\"/>\r\n    <path clip-path=\"url(#p121c82ebf5)\" d=\"M 374.183875 134.215219 \r\nL 383.111875 134.215219 \r\nL 383.111875 141.463219 \r\nL 374.183875 141.463219 \r\nL 374.183875 134.215219 \r\n\" style=\"fill:#c81951;\"/>\r\n    <path clip-path=\"url(#p121c82ebf5)\" d=\"M 115.271875 141.463219 \r\nL 124.199875 141.463219 \r\nL 124.199875 148.711219 \r\nL 115.271875 148.711219 \r\nL 115.271875 141.463219 \r\n\" style=\"fill:#f6b691;\"/>\r\n    <path clip-path=\"url(#p121c82ebf5)\" d=\"M 124.199875 141.463219 \r\nL 133.127875 141.463219 \r\nL 133.127875 148.711219 \r\nL 124.199875 148.711219 \r\nL 124.199875 141.463219 \r\n\" style=\"fill:#f6ab83;\"/>\r\n    <path clip-path=\"url(#p121c82ebf5)\" d=\"M 133.127875 141.463219 \r\nL 142.055875 141.463219 \r\nL 142.055875 148.711219 \r\nL 133.127875 148.711219 \r\nL 133.127875 141.463219 \r\n\" style=\"fill:#de2e44;\"/>\r\n    <path clip-path=\"url(#p121c82ebf5)\" d=\"M 142.055875 141.463219 \r\nL 150.983875 141.463219 \r\nL 150.983875 148.711219 \r\nL 142.055875 148.711219 \r\nL 142.055875 141.463219 \r\n\" style=\"fill:#f4845d;\"/>\r\n    <path clip-path=\"url(#p121c82ebf5)\" d=\"M 150.983875 141.463219 \r\nL 159.911875 141.463219 \r\nL 159.911875 148.711219 \r\nL 150.983875 148.711219 \r\nL 150.983875 141.463219 \r\n\" style=\"fill:#9a1b5b;\"/>\r\n    <path clip-path=\"url(#p121c82ebf5)\" d=\"M 159.911875 141.463219 \r\nL 168.839875 141.463219 \r\nL 168.839875 148.711219 \r\nL 159.911875 148.711219 \r\nL 159.911875 141.463219 \r\n\" style=\"fill:#ef5a41;\"/>\r\n    <path clip-path=\"url(#p121c82ebf5)\" d=\"M 168.839875 141.463219 \r\nL 177.767875 141.463219 \r\nL 177.767875 148.711219 \r\nL 168.839875 148.711219 \r\nL 168.839875 141.463219 \r\n\" style=\"fill:#7b1f59;\"/>\r\n    <path clip-path=\"url(#p121c82ebf5)\" d=\"M 177.767875 141.463219 \r\nL 186.695875 141.463219 \r\nL 186.695875 148.711219 \r\nL 177.767875 148.711219 \r\nL 177.767875 141.463219 \r\n\" style=\"fill:#db2946;\"/>\r\n    <path clip-path=\"url(#p121c82ebf5)\" d=\"M 186.695875 141.463219 \r\nL 195.623875 141.463219 \r\nL 195.623875 148.711219 \r\nL 186.695875 148.711219 \r\nL 186.695875 141.463219 \r\n\" style=\"fill:#f6be9b;\"/>\r\n    <path clip-path=\"url(#p121c82ebf5)\" d=\"M 195.623875 141.463219 \r\nL 204.551875 141.463219 \r\nL 204.551875 148.711219 \r\nL 195.623875 148.711219 \r\nL 195.623875 141.463219 \r\n\" style=\"fill:#f6b995;\"/>\r\n    <path clip-path=\"url(#p121c82ebf5)\" d=\"M 204.551875 141.463219 \r\nL 213.479875 141.463219 \r\nL 213.479875 148.711219 \r\nL 204.551875 148.711219 \r\nL 204.551875 141.463219 \r\n\" style=\"fill:#f7c4a4;\"/>\r\n    <path clip-path=\"url(#p121c82ebf5)\" d=\"M 213.479875 141.463219 \r\nL 222.407875 141.463219 \r\nL 222.407875 148.711219 \r\nL 213.479875 148.711219 \r\nL 213.479875 141.463219 \r\n\" style=\"fill:#ec4c3e;\"/>\r\n    <path clip-path=\"url(#p121c82ebf5)\" d=\"M 222.407875 141.463219 \r\nL 231.335875 141.463219 \r\nL 231.335875 148.711219 \r\nL 222.407875 148.711219 \r\nL 222.407875 141.463219 \r\n\" style=\"fill:#f6bb97;\"/>\r\n    <path clip-path=\"url(#p121c82ebf5)\" d=\"M 231.335875 141.463219 \r\nL 240.263875 141.463219 \r\nL 240.263875 148.711219 \r\nL 231.335875 148.711219 \r\nL 231.335875 141.463219 \r\n\" style=\"fill:#f59269;\"/>\r\n    <path clip-path=\"url(#p121c82ebf5)\" d=\"M 240.263875 141.463219 \r\nL 249.191875 141.463219 \r\nL 249.191875 148.711219 \r\nL 240.263875 148.711219 \r\nL 240.263875 141.463219 \r\n\" style=\"fill:#f6b995;\"/>\r\n    <path clip-path=\"url(#p121c82ebf5)\" d=\"M 249.191875 141.463219 \r\nL 258.119875 141.463219 \r\nL 258.119875 148.711219 \r\nL 249.191875 148.711219 \r\nL 249.191875 141.463219 \r\n\" style=\"fill:#e8403e;\"/>\r\n    <path clip-path=\"url(#p121c82ebf5)\" d=\"M 258.119875 141.463219 \r\nL 267.047875 141.463219 \r\nL 267.047875 148.711219 \r\nL 258.119875 148.711219 \r\nL 258.119875 141.463219 \r\n\" style=\"fill:#f16445;\"/>\r\n    <path clip-path=\"url(#p121c82ebf5)\" d=\"M 267.047875 141.463219 \r\nL 275.975875 141.463219 \r\nL 275.975875 148.711219 \r\nL 267.047875 148.711219 \r\nL 267.047875 141.463219 \r\n\" style=\"fill:#891e5b;\"/>\r\n    <path clip-path=\"url(#p121c82ebf5)\" d=\"M 275.975875 141.463219 \r\nL 284.903875 141.463219 \r\nL 284.903875 148.711219 \r\nL 275.975875 148.711219 \r\nL 275.975875 141.463219 \r\n\" style=\"fill:#faebdd;\"/>\r\n    <path clip-path=\"url(#p121c82ebf5)\" d=\"M 284.903875 141.463219 \r\nL 293.831875 141.463219 \r\nL 293.831875 148.711219 \r\nL 284.903875 148.711219 \r\nL 284.903875 141.463219 \r\n\" style=\"fill:#a3195b;\"/>\r\n    <path clip-path=\"url(#p121c82ebf5)\" d=\"M 293.831875 141.463219 \r\nL 302.759875 141.463219 \r\nL 302.759875 148.711219 \r\nL 293.831875 148.711219 \r\nL 293.831875 141.463219 \r\n\" style=\"fill:#20122e;\"/>\r\n    <path clip-path=\"url(#p121c82ebf5)\" d=\"M 302.759875 141.463219 \r\nL 311.687875 141.463219 \r\nL 311.687875 148.711219 \r\nL 302.759875 148.711219 \r\nL 302.759875 141.463219 \r\n\" style=\"fill:#d92847;\"/>\r\n    <path clip-path=\"url(#p121c82ebf5)\" d=\"M 311.687875 141.463219 \r\nL 320.615875 141.463219 \r\nL 320.615875 148.711219 \r\nL 311.687875 148.711219 \r\nL 311.687875 141.463219 \r\n\" style=\"fill:#f6a47c;\"/>\r\n    <path clip-path=\"url(#p121c82ebf5)\" d=\"M 320.615875 141.463219 \r\nL 329.543875 141.463219 \r\nL 329.543875 148.711219 \r\nL 320.615875 148.711219 \r\nL 320.615875 141.463219 \r\n\" style=\"fill:#f4845d;\"/>\r\n    <path clip-path=\"url(#p121c82ebf5)\" d=\"M 329.543875 141.463219 \r\nL 338.471875 141.463219 \r\nL 338.471875 148.711219 \r\nL 329.543875 148.711219 \r\nL 329.543875 141.463219 \r\n\" style=\"fill:#f6ae87;\"/>\r\n    <path clip-path=\"url(#p121c82ebf5)\" d=\"M 338.471875 141.463219 \r\nL 347.399875 141.463219 \r\nL 347.399875 148.711219 \r\nL 338.471875 148.711219 \r\nL 338.471875 141.463219 \r\n\" style=\"fill:#f05e42;\"/>\r\n    <path clip-path=\"url(#p121c82ebf5)\" d=\"M 347.399875 141.463219 \r\nL 356.327875 141.463219 \r\nL 356.327875 148.711219 \r\nL 347.399875 148.711219 \r\nL 347.399875 141.463219 \r\n\" style=\"fill:#33183c;\"/>\r\n    <path clip-path=\"url(#p121c82ebf5)\" d=\"M 356.327875 141.463219 \r\nL 365.255875 141.463219 \r\nL 365.255875 148.711219 \r\nL 356.327875 148.711219 \r\nL 356.327875 141.463219 \r\n\" style=\"fill:#f6a981;\"/>\r\n    <path clip-path=\"url(#p121c82ebf5)\" d=\"M 365.255875 141.463219 \r\nL 374.183875 141.463219 \r\nL 374.183875 148.711219 \r\nL 365.255875 148.711219 \r\nL 365.255875 141.463219 \r\n\" style=\"fill:#f6a981;\"/>\r\n    <path clip-path=\"url(#p121c82ebf5)\" d=\"M 374.183875 141.463219 \r\nL 383.111875 141.463219 \r\nL 383.111875 148.711219 \r\nL 374.183875 148.711219 \r\nL 374.183875 141.463219 \r\n\" style=\"fill:#c21753;\"/>\r\n    <path clip-path=\"url(#p121c82ebf5)\" d=\"M 115.271875 148.711219 \r\nL 124.199875 148.711219 \r\nL 124.199875 155.959219 \r\nL 115.271875 155.959219 \r\nL 115.271875 148.711219 \r\n\" style=\"fill:#781f59;\"/>\r\n    <path clip-path=\"url(#p121c82ebf5)\" d=\"M 124.199875 148.711219 \r\nL 133.127875 148.711219 \r\nL 133.127875 155.959219 \r\nL 124.199875 155.959219 \r\nL 124.199875 148.711219 \r\n\" style=\"fill:#501d4c;\"/>\r\n    <path clip-path=\"url(#p121c82ebf5)\" d=\"M 133.127875 148.711219 \r\nL 142.055875 148.711219 \r\nL 142.055875 155.959219 \r\nL 133.127875 155.959219 \r\nL 133.127875 148.711219 \r\n\" style=\"fill:#401b44;\"/>\r\n    <path clip-path=\"url(#p121c82ebf5)\" d=\"M 142.055875 148.711219 \r\nL 150.983875 148.711219 \r\nL 150.983875 155.959219 \r\nL 142.055875 155.959219 \r\nL 142.055875 148.711219 \r\n\" style=\"fill:#4c1d4b;\"/>\r\n    <path clip-path=\"url(#p121c82ebf5)\" d=\"M 150.983875 148.711219 \r\nL 159.911875 148.711219 \r\nL 159.911875 155.959219 \r\nL 150.983875 155.959219 \r\nL 150.983875 148.711219 \r\n\" style=\"fill:#631f53;\"/>\r\n    <path clip-path=\"url(#p121c82ebf5)\" d=\"M 159.911875 148.711219 \r\nL 168.839875 148.711219 \r\nL 168.839875 155.959219 \r\nL 159.911875 155.959219 \r\nL 159.911875 148.711219 \r\n\" style=\"fill:#9e1a5b;\"/>\r\n    <path clip-path=\"url(#p121c82ebf5)\" d=\"M 168.839875 148.711219 \r\nL 177.767875 148.711219 \r\nL 177.767875 155.959219 \r\nL 168.839875 155.959219 \r\nL 168.839875 148.711219 \r\n\" style=\"fill:#e73d3f;\"/>\r\n    <path clip-path=\"url(#p121c82ebf5)\" d=\"M 177.767875 148.711219 \r\nL 186.695875 148.711219 \r\nL 186.695875 155.959219 \r\nL 177.767875 155.959219 \r\nL 177.767875 148.711219 \r\n\" style=\"fill:#ab185a;\"/>\r\n    <path clip-path=\"url(#p121c82ebf5)\" d=\"M 186.695875 148.711219 \r\nL 195.623875 148.711219 \r\nL 195.623875 155.959219 \r\nL 186.695875 155.959219 \r\nL 186.695875 148.711219 \r\n\" style=\"fill:#511e4d;\"/>\r\n    <path clip-path=\"url(#p121c82ebf5)\" d=\"M 195.623875 148.711219 \r\nL 204.551875 148.711219 \r\nL 204.551875 155.959219 \r\nL 195.623875 155.959219 \r\nL 195.623875 148.711219 \r\n\" style=\"fill:#491d49;\"/>\r\n    <path clip-path=\"url(#p121c82ebf5)\" d=\"M 204.551875 148.711219 \r\nL 213.479875 148.711219 \r\nL 213.479875 155.959219 \r\nL 204.551875 155.959219 \r\nL 204.551875 148.711219 \r\n\" style=\"fill:#661f54;\"/>\r\n    <path clip-path=\"url(#p121c82ebf5)\" d=\"M 213.479875 148.711219 \r\nL 222.407875 148.711219 \r\nL 222.407875 155.959219 \r\nL 213.479875 155.959219 \r\nL 213.479875 148.711219 \r\n\" style=\"fill:#931c5b;\"/>\r\n    <path clip-path=\"url(#p121c82ebf5)\" d=\"M 222.407875 148.711219 \r\nL 231.335875 148.711219 \r\nL 231.335875 155.959219 \r\nL 222.407875 155.959219 \r\nL 222.407875 148.711219 \r\n\" style=\"fill:#731f58;\"/>\r\n    <path clip-path=\"url(#p121c82ebf5)\" d=\"M 231.335875 148.711219 \r\nL 240.263875 148.711219 \r\nL 240.263875 155.959219 \r\nL 231.335875 155.959219 \r\nL 231.335875 148.711219 \r\n\" style=\"fill:#251433;\"/>\r\n    <path clip-path=\"url(#p121c82ebf5)\" d=\"M 240.263875 148.711219 \r\nL 249.191875 148.711219 \r\nL 249.191875 155.959219 \r\nL 240.263875 155.959219 \r\nL 240.263875 148.711219 \r\n\" style=\"fill:#971c5b;\"/>\r\n    <path clip-path=\"url(#p121c82ebf5)\" d=\"M 249.191875 148.711219 \r\nL 258.119875 148.711219 \r\nL 258.119875 155.959219 \r\nL 249.191875 155.959219 \r\nL 249.191875 148.711219 \r\n\" style=\"fill:#e9423e;\"/>\r\n    <path clip-path=\"url(#p121c82ebf5)\" d=\"M 258.119875 148.711219 \r\nL 267.047875 148.711219 \r\nL 267.047875 155.959219 \r\nL 258.119875 155.959219 \r\nL 258.119875 148.711219 \r\n\" style=\"fill:#e23442;\"/>\r\n    <path clip-path=\"url(#p121c82ebf5)\" d=\"M 267.047875 148.711219 \r\nL 275.975875 148.711219 \r\nL 275.975875 155.959219 \r\nL 267.047875 155.959219 \r\nL 267.047875 148.711219 \r\n\" style=\"fill:#ea443e;\"/>\r\n    <path clip-path=\"url(#p121c82ebf5)\" d=\"M 275.975875 148.711219 \r\nL 284.903875 148.711219 \r\nL 284.903875 155.959219 \r\nL 275.975875 155.959219 \r\nL 275.975875 148.711219 \r\n\" style=\"fill:#a3195b;\"/>\r\n    <path clip-path=\"url(#p121c82ebf5)\" d=\"M 284.903875 148.711219 \r\nL 293.831875 148.711219 \r\nL 293.831875 155.959219 \r\nL 284.903875 155.959219 \r\nL 284.903875 148.711219 \r\n\" style=\"fill:#faebdd;\"/>\r\n    <path clip-path=\"url(#p121c82ebf5)\" d=\"M 293.831875 148.711219 \r\nL 302.759875 148.711219 \r\nL 302.759875 155.959219 \r\nL 293.831875 155.959219 \r\nL 293.831875 148.711219 \r\n\" style=\"fill:#eb463e;\"/>\r\n    <path clip-path=\"url(#p121c82ebf5)\" d=\"M 302.759875 148.711219 \r\nL 311.687875 148.711219 \r\nL 311.687875 155.959219 \r\nL 302.759875 155.959219 \r\nL 302.759875 148.711219 \r\n\" style=\"fill:#f69e75;\"/>\r\n    <path clip-path=\"url(#p121c82ebf5)\" d=\"M 311.687875 148.711219 \r\nL 320.615875 148.711219 \r\nL 320.615875 155.959219 \r\nL 311.687875 155.959219 \r\nL 311.687875 148.711219 \r\n\" style=\"fill:#a4195b;\"/>\r\n    <path clip-path=\"url(#p121c82ebf5)\" d=\"M 320.615875 148.711219 \r\nL 329.543875 148.711219 \r\nL 329.543875 155.959219 \r\nL 320.615875 155.959219 \r\nL 320.615875 148.711219 \r\n\" style=\"fill:#8c1d5b;\"/>\r\n    <path clip-path=\"url(#p121c82ebf5)\" d=\"M 329.543875 148.711219 \r\nL 338.471875 148.711219 \r\nL 338.471875 155.959219 \r\nL 329.543875 155.959219 \r\nL 329.543875 148.711219 \r\n\" style=\"fill:#d2204c;\"/>\r\n    <path clip-path=\"url(#p121c82ebf5)\" d=\"M 338.471875 148.711219 \r\nL 347.399875 148.711219 \r\nL 347.399875 155.959219 \r\nL 338.471875 155.959219 \r\nL 338.471875 148.711219 \r\n\" style=\"fill:#a4195b;\"/>\r\n    <path clip-path=\"url(#p121c82ebf5)\" d=\"M 347.399875 148.711219 \r\nL 356.327875 148.711219 \r\nL 356.327875 155.959219 \r\nL 347.399875 155.959219 \r\nL 347.399875 148.711219 \r\n\" style=\"fill:#e53940;\"/>\r\n    <path clip-path=\"url(#p121c82ebf5)\" d=\"M 356.327875 148.711219 \r\nL 365.255875 148.711219 \r\nL 365.255875 155.959219 \r\nL 356.327875 155.959219 \r\nL 356.327875 148.711219 \r\n\" style=\"fill:#c21753;\"/>\r\n    <path clip-path=\"url(#p121c82ebf5)\" d=\"M 365.255875 148.711219 \r\nL 374.183875 148.711219 \r\nL 374.183875 155.959219 \r\nL 365.255875 155.959219 \r\nL 365.255875 148.711219 \r\n\" style=\"fill:#c21753;\"/>\r\n    <path clip-path=\"url(#p121c82ebf5)\" d=\"M 374.183875 148.711219 \r\nL 383.111875 148.711219 \r\nL 383.111875 155.959219 \r\nL 374.183875 155.959219 \r\nL 374.183875 148.711219 \r\n\" style=\"fill:#9f1a5b;\"/>\r\n    <path clip-path=\"url(#p121c82ebf5)\" d=\"M 115.271875 155.959219 \r\nL 124.199875 155.959219 \r\nL 124.199875 163.207219 \r\nL 115.271875 163.207219 \r\nL 115.271875 155.959219 \r\n\" style=\"fill:#241432;\"/>\r\n    <path clip-path=\"url(#p121c82ebf5)\" d=\"M 124.199875 155.959219 \r\nL 133.127875 155.959219 \r\nL 133.127875 163.207219 \r\nL 124.199875 163.207219 \r\nL 124.199875 155.959219 \r\n\" style=\"fill:#451c47;\"/>\r\n    <path clip-path=\"url(#p121c82ebf5)\" d=\"M 133.127875 155.959219 \r\nL 142.055875 155.959219 \r\nL 142.055875 163.207219 \r\nL 133.127875 163.207219 \r\nL 133.127875 155.959219 \r\n\" style=\"fill:#591e50;\"/>\r\n    <path clip-path=\"url(#p121c82ebf5)\" d=\"M 142.055875 155.959219 \r\nL 150.983875 155.959219 \r\nL 150.983875 163.207219 \r\nL 142.055875 163.207219 \r\nL 142.055875 155.959219 \r\n\" style=\"fill:#4c1d4b;\"/>\r\n    <path clip-path=\"url(#p121c82ebf5)\" d=\"M 150.983875 155.959219 \r\nL 159.911875 155.959219 \r\nL 159.911875 163.207219 \r\nL 150.983875 163.207219 \r\nL 150.983875 155.959219 \r\n\" style=\"fill:#921c5b;\"/>\r\n    <path clip-path=\"url(#p121c82ebf5)\" d=\"M 159.911875 155.959219 \r\nL 168.839875 155.959219 \r\nL 168.839875 163.207219 \r\nL 159.911875 163.207219 \r\nL 159.911875 155.959219 \r\n\" style=\"fill:#7a1f59;\"/>\r\n    <path clip-path=\"url(#p121c82ebf5)\" d=\"M 168.839875 155.959219 \r\nL 177.767875 155.959219 \r\nL 177.767875 163.207219 \r\nL 168.839875 163.207219 \r\nL 168.839875 155.959219 \r\n\" style=\"fill:#d5224a;\"/>\r\n    <path clip-path=\"url(#p121c82ebf5)\" d=\"M 177.767875 155.959219 \r\nL 186.695875 155.959219 \r\nL 186.695875 163.207219 \r\nL 177.767875 163.207219 \r\nL 177.767875 155.959219 \r\n\" style=\"fill:#221331;\"/>\r\n    <path clip-path=\"url(#p121c82ebf5)\" d=\"M 186.695875 155.959219 \r\nL 195.623875 155.959219 \r\nL 195.623875 163.207219 \r\nL 186.695875 163.207219 \r\nL 186.695875 155.959219 \r\n\" style=\"fill:#31183b;\"/>\r\n    <path clip-path=\"url(#p121c82ebf5)\" d=\"M 195.623875 155.959219 \r\nL 204.551875 155.959219 \r\nL 204.551875 163.207219 \r\nL 195.623875 163.207219 \r\nL 195.623875 155.959219 \r\n\" style=\"fill:#2e1739;\"/>\r\n    <path clip-path=\"url(#p121c82ebf5)\" d=\"M 204.551875 155.959219 \r\nL 213.479875 155.959219 \r\nL 213.479875 163.207219 \r\nL 204.551875 163.207219 \r\nL 204.551875 155.959219 \r\n\" style=\"fill:#381a40;\"/>\r\n    <path clip-path=\"url(#p121c82ebf5)\" d=\"M 213.479875 155.959219 \r\nL 222.407875 155.959219 \r\nL 222.407875 163.207219 \r\nL 213.479875 163.207219 \r\nL 213.479875 155.959219 \r\n\" style=\"fill:#731f58;\"/>\r\n    <path clip-path=\"url(#p121c82ebf5)\" d=\"M 222.407875 155.959219 \r\nL 231.335875 155.959219 \r\nL 231.335875 163.207219 \r\nL 222.407875 163.207219 \r\nL 222.407875 155.959219 \r\n\" style=\"fill:#2b1637;\"/>\r\n    <path clip-path=\"url(#p121c82ebf5)\" d=\"M 231.335875 155.959219 \r\nL 240.263875 155.959219 \r\nL 240.263875 163.207219 \r\nL 231.335875 163.207219 \r\nL 231.335875 155.959219 \r\n\" style=\"fill:#251433;\"/>\r\n    <path clip-path=\"url(#p121c82ebf5)\" d=\"M 240.263875 155.959219 \r\nL 249.191875 155.959219 \r\nL 249.191875 163.207219 \r\nL 240.263875 163.207219 \r\nL 240.263875 155.959219 \r\n\" style=\"fill:#221331;\"/>\r\n    <path clip-path=\"url(#p121c82ebf5)\" d=\"M 249.191875 155.959219 \r\nL 258.119875 155.959219 \r\nL 258.119875 163.207219 \r\nL 249.191875 163.207219 \r\nL 249.191875 155.959219 \r\n\" style=\"fill:#951c5b;\"/>\r\n    <path clip-path=\"url(#p121c82ebf5)\" d=\"M 258.119875 155.959219 \r\nL 267.047875 155.959219 \r\nL 267.047875 163.207219 \r\nL 258.119875 163.207219 \r\nL 258.119875 155.959219 \r\n\" style=\"fill:#931c5b;\"/>\r\n    <path clip-path=\"url(#p121c82ebf5)\" d=\"M 267.047875 155.959219 \r\nL 275.975875 155.959219 \r\nL 275.975875 163.207219 \r\nL 267.047875 163.207219 \r\nL 267.047875 155.959219 \r\n\" style=\"fill:#e43841;\"/>\r\n    <path clip-path=\"url(#p121c82ebf5)\" d=\"M 275.975875 155.959219 \r\nL 284.903875 155.959219 \r\nL 284.903875 163.207219 \r\nL 275.975875 163.207219 \r\nL 275.975875 155.959219 \r\n\" style=\"fill:#20122e;\"/>\r\n    <path clip-path=\"url(#p121c82ebf5)\" d=\"M 284.903875 155.959219 \r\nL 293.831875 155.959219 \r\nL 293.831875 163.207219 \r\nL 284.903875 163.207219 \r\nL 284.903875 155.959219 \r\n\" style=\"fill:#eb463e;\"/>\r\n    <path clip-path=\"url(#p121c82ebf5)\" d=\"M 293.831875 155.959219 \r\nL 302.759875 155.959219 \r\nL 302.759875 163.207219 \r\nL 293.831875 163.207219 \r\nL 293.831875 155.959219 \r\n\" style=\"fill:#faebdd;\"/>\r\n    <path clip-path=\"url(#p121c82ebf5)\" d=\"M 302.759875 155.959219 \r\nL 311.687875 155.959219 \r\nL 311.687875 163.207219 \r\nL 302.759875 163.207219 \r\nL 302.759875 155.959219 \r\n\" style=\"fill:#a4195b;\"/>\r\n    <path clip-path=\"url(#p121c82ebf5)\" d=\"M 311.687875 155.959219 \r\nL 320.615875 155.959219 \r\nL 320.615875 163.207219 \r\nL 311.687875 163.207219 \r\nL 311.687875 155.959219 \r\n\" style=\"fill:#751f58;\"/>\r\n    <path clip-path=\"url(#p121c82ebf5)\" d=\"M 320.615875 155.959219 \r\nL 329.543875 155.959219 \r\nL 329.543875 163.207219 \r\nL 320.615875 163.207219 \r\nL 320.615875 155.959219 \r\n\" style=\"fill:#6b1f56;\"/>\r\n    <path clip-path=\"url(#p121c82ebf5)\" d=\"M 329.543875 155.959219 \r\nL 338.471875 155.959219 \r\nL 338.471875 163.207219 \r\nL 329.543875 163.207219 \r\nL 329.543875 155.959219 \r\n\" style=\"fill:#c11754;\"/>\r\n    <path clip-path=\"url(#p121c82ebf5)\" d=\"M 338.471875 155.959219 \r\nL 347.399875 155.959219 \r\nL 347.399875 163.207219 \r\nL 338.471875 163.207219 \r\nL 338.471875 155.959219 \r\n\" style=\"fill:#7f1e5a;\"/>\r\n    <path clip-path=\"url(#p121c82ebf5)\" d=\"M 347.399875 155.959219 \r\nL 356.327875 155.959219 \r\nL 356.327875 163.207219 \r\nL 347.399875 163.207219 \r\nL 347.399875 155.959219 \r\n\" style=\"fill:#e63b40;\"/>\r\n    <path clip-path=\"url(#p121c82ebf5)\" d=\"M 356.327875 155.959219 \r\nL 365.255875 155.959219 \r\nL 365.255875 163.207219 \r\nL 356.327875 163.207219 \r\nL 356.327875 155.959219 \r\n\" style=\"fill:#9e1a5b;\"/>\r\n    <path clip-path=\"url(#p121c82ebf5)\" d=\"M 365.255875 155.959219 \r\nL 374.183875 155.959219 \r\nL 374.183875 163.207219 \r\nL 365.255875 163.207219 \r\nL 365.255875 155.959219 \r\n\" style=\"fill:#9e1a5b;\"/>\r\n    <path clip-path=\"url(#p121c82ebf5)\" d=\"M 374.183875 155.959219 \r\nL 383.111875 155.959219 \r\nL 383.111875 163.207219 \r\nL 374.183875 163.207219 \r\nL 374.183875 155.959219 \r\n\" style=\"fill:#db2946;\"/>\r\n    <path clip-path=\"url(#p121c82ebf5)\" d=\"M 115.271875 163.207219 \r\nL 124.199875 163.207219 \r\nL 124.199875 170.455219 \r\nL 115.271875 170.455219 \r\nL 115.271875 163.207219 \r\n\" style=\"fill:#ab185a;\"/>\r\n    <path clip-path=\"url(#p121c82ebf5)\" d=\"M 124.199875 163.207219 \r\nL 133.127875 163.207219 \r\nL 133.127875 170.455219 \r\nL 124.199875 170.455219 \r\nL 124.199875 163.207219 \r\n\" style=\"fill:#981b5b;\"/>\r\n    <path clip-path=\"url(#p121c82ebf5)\" d=\"M 133.127875 163.207219 \r\nL 142.055875 163.207219 \r\nL 142.055875 170.455219 \r\nL 133.127875 170.455219 \r\nL 133.127875 163.207219 \r\n\" style=\"fill:#9a1b5b;\"/>\r\n    <path clip-path=\"url(#p121c82ebf5)\" d=\"M 142.055875 163.207219 \r\nL 150.983875 163.207219 \r\nL 150.983875 170.455219 \r\nL 142.055875 170.455219 \r\nL 142.055875 163.207219 \r\n\" style=\"fill:#ab185a;\"/>\r\n    <path clip-path=\"url(#p121c82ebf5)\" d=\"M 150.983875 163.207219 \r\nL 159.911875 163.207219 \r\nL 159.911875 170.455219 \r\nL 150.983875 170.455219 \r\nL 150.983875 163.207219 \r\n\" style=\"fill:#401b44;\"/>\r\n    <path clip-path=\"url(#p121c82ebf5)\" d=\"M 159.911875 163.207219 \r\nL 168.839875 163.207219 \r\nL 168.839875 170.455219 \r\nL 159.911875 170.455219 \r\nL 159.911875 163.207219 \r\n\" style=\"fill:#921c5b;\"/>\r\n    <path clip-path=\"url(#p121c82ebf5)\" d=\"M 168.839875 163.207219 \r\nL 177.767875 163.207219 \r\nL 177.767875 170.455219 \r\nL 168.839875 170.455219 \r\nL 168.839875 163.207219 \r\n\" style=\"fill:#8e1d5b;\"/>\r\n    <path clip-path=\"url(#p121c82ebf5)\" d=\"M 177.767875 163.207219 \r\nL 186.695875 163.207219 \r\nL 186.695875 170.455219 \r\nL 177.767875 170.455219 \r\nL 177.767875 163.207219 \r\n\" style=\"fill:#ed503e;\"/>\r\n    <path clip-path=\"url(#p121c82ebf5)\" d=\"M 186.695875 163.207219 \r\nL 195.623875 163.207219 \r\nL 195.623875 170.455219 \r\nL 186.695875 170.455219 \r\nL 186.695875 163.207219 \r\n\" style=\"fill:#bc1656;\"/>\r\n    <path clip-path=\"url(#p121c82ebf5)\" d=\"M 195.623875 163.207219 \r\nL 204.551875 163.207219 \r\nL 204.551875 170.455219 \r\nL 195.623875 170.455219 \r\nL 195.623875 163.207219 \r\n\" style=\"fill:#b71657;\"/>\r\n    <path clip-path=\"url(#p121c82ebf5)\" d=\"M 204.551875 163.207219 \r\nL 213.479875 163.207219 \r\nL 213.479875 170.455219 \r\nL 204.551875 170.455219 \r\nL 204.551875 163.207219 \r\n\" style=\"fill:#ca1a50;\"/>\r\n    <path clip-path=\"url(#p121c82ebf5)\" d=\"M 213.479875 163.207219 \r\nL 222.407875 163.207219 \r\nL 222.407875 170.455219 \r\nL 213.479875 170.455219 \r\nL 213.479875 163.207219 \r\n\" style=\"fill:#981b5b;\"/>\r\n    <path clip-path=\"url(#p121c82ebf5)\" d=\"M 222.407875 163.207219 \r\nL 231.335875 163.207219 \r\nL 231.335875 170.455219 \r\nL 222.407875 170.455219 \r\nL 222.407875 163.207219 \r\n\" style=\"fill:#aa185a;\"/>\r\n    <path clip-path=\"url(#p121c82ebf5)\" d=\"M 231.335875 163.207219 \r\nL 240.263875 163.207219 \r\nL 240.263875 170.455219 \r\nL 231.335875 170.455219 \r\nL 231.335875 163.207219 \r\n\" style=\"fill:#811e5a;\"/>\r\n    <path clip-path=\"url(#p121c82ebf5)\" d=\"M 240.263875 163.207219 \r\nL 249.191875 163.207219 \r\nL 249.191875 170.455219 \r\nL 240.263875 170.455219 \r\nL 240.263875 163.207219 \r\n\" style=\"fill:#d72549;\"/>\r\n    <path clip-path=\"url(#p121c82ebf5)\" d=\"M 249.191875 163.207219 \r\nL 258.119875 163.207219 \r\nL 258.119875 170.455219 \r\nL 249.191875 170.455219 \r\nL 249.191875 163.207219 \r\n\" style=\"fill:#f26747;\"/>\r\n    <path clip-path=\"url(#p121c82ebf5)\" d=\"M 258.119875 163.207219 \r\nL 267.047875 163.207219 \r\nL 267.047875 170.455219 \r\nL 258.119875 170.455219 \r\nL 258.119875 163.207219 \r\n\" style=\"fill:#ea443e;\"/>\r\n    <path clip-path=\"url(#p121c82ebf5)\" d=\"M 267.047875 163.207219 \r\nL 275.975875 163.207219 \r\nL 275.975875 170.455219 \r\nL 267.047875 170.455219 \r\nL 267.047875 163.207219 \r\n\" style=\"fill:#e83f3f;\"/>\r\n    <path clip-path=\"url(#p121c82ebf5)\" d=\"M 275.975875 163.207219 \r\nL 284.903875 163.207219 \r\nL 284.903875 170.455219 \r\nL 275.975875 170.455219 \r\nL 275.975875 163.207219 \r\n\" style=\"fill:#d92847;\"/>\r\n    <path clip-path=\"url(#p121c82ebf5)\" d=\"M 284.903875 163.207219 \r\nL 293.831875 163.207219 \r\nL 293.831875 170.455219 \r\nL 284.903875 170.455219 \r\nL 284.903875 163.207219 \r\n\" style=\"fill:#f69e75;\"/>\r\n    <path clip-path=\"url(#p121c82ebf5)\" d=\"M 293.831875 163.207219 \r\nL 302.759875 163.207219 \r\nL 302.759875 170.455219 \r\nL 293.831875 170.455219 \r\nL 293.831875 163.207219 \r\n\" style=\"fill:#a4195b;\"/>\r\n    <path clip-path=\"url(#p121c82ebf5)\" d=\"M 302.759875 163.207219 \r\nL 311.687875 163.207219 \r\nL 311.687875 170.455219 \r\nL 302.759875 170.455219 \r\nL 302.759875 163.207219 \r\n\" style=\"fill:#faebdd;\"/>\r\n    <path clip-path=\"url(#p121c82ebf5)\" d=\"M 311.687875 163.207219 \r\nL 320.615875 163.207219 \r\nL 320.615875 170.455219 \r\nL 311.687875 170.455219 \r\nL 311.687875 163.207219 \r\n\" style=\"fill:#e53940;\"/>\r\n    <path clip-path=\"url(#p121c82ebf5)\" d=\"M 320.615875 163.207219 \r\nL 329.543875 163.207219 \r\nL 329.543875 170.455219 \r\nL 320.615875 170.455219 \r\nL 320.615875 163.207219 \r\n\" style=\"fill:#ab185a;\"/>\r\n    <path clip-path=\"url(#p121c82ebf5)\" d=\"M 329.543875 163.207219 \r\nL 338.471875 163.207219 \r\nL 338.471875 170.455219 \r\nL 329.543875 170.455219 \r\nL 329.543875 163.207219 \r\n\" style=\"fill:#e63b40;\"/>\r\n    <path clip-path=\"url(#p121c82ebf5)\" d=\"M 338.471875 163.207219 \r\nL 347.399875 163.207219 \r\nL 347.399875 170.455219 \r\nL 338.471875 170.455219 \r\nL 338.471875 163.207219 \r\n\" style=\"fill:#d72549;\"/>\r\n    <path clip-path=\"url(#p121c82ebf5)\" d=\"M 347.399875 163.207219 \r\nL 356.327875 163.207219 \r\nL 356.327875 170.455219 \r\nL 347.399875 170.455219 \r\nL 347.399875 163.207219 \r\n\" style=\"fill:#7b1f59;\"/>\r\n    <path clip-path=\"url(#p121c82ebf5)\" d=\"M 356.327875 163.207219 \r\nL 365.255875 163.207219 \r\nL 365.255875 170.455219 \r\nL 356.327875 170.455219 \r\nL 356.327875 163.207219 \r\n\" style=\"fill:#e8403e;\"/>\r\n    <path clip-path=\"url(#p121c82ebf5)\" d=\"M 365.255875 163.207219 \r\nL 374.183875 163.207219 \r\nL 374.183875 170.455219 \r\nL 365.255875 170.455219 \r\nL 365.255875 163.207219 \r\n\" style=\"fill:#e8403e;\"/>\r\n    <path clip-path=\"url(#p121c82ebf5)\" d=\"M 374.183875 163.207219 \r\nL 383.111875 163.207219 \r\nL 383.111875 170.455219 \r\nL 374.183875 170.455219 \r\nL 374.183875 163.207219 \r\n\" style=\"fill:#7a1f59;\"/>\r\n    <path clip-path=\"url(#p121c82ebf5)\" d=\"M 115.271875 170.455219 \r\nL 124.199875 170.455219 \r\nL 124.199875 177.703219 \r\nL 115.271875 177.703219 \r\nL 115.271875 170.455219 \r\n\" style=\"fill:#f59067;\"/>\r\n    <path clip-path=\"url(#p121c82ebf5)\" d=\"M 124.199875 170.455219 \r\nL 133.127875 170.455219 \r\nL 133.127875 177.703219 \r\nL 124.199875 177.703219 \r\nL 124.199875 170.455219 \r\n\" style=\"fill:#f6ae87;\"/>\r\n    <path clip-path=\"url(#p121c82ebf5)\" d=\"M 133.127875 170.455219 \r\nL 142.055875 170.455219 \r\nL 142.055875 177.703219 \r\nL 133.127875 177.703219 \r\nL 133.127875 170.455219 \r\n\" style=\"fill:#f4835b;\"/>\r\n    <path clip-path=\"url(#p121c82ebf5)\" d=\"M 142.055875 170.455219 \r\nL 150.983875 170.455219 \r\nL 150.983875 177.703219 \r\nL 142.055875 177.703219 \r\nL 142.055875 170.455219 \r\n\" style=\"fill:#f6ae87;\"/>\r\n    <path clip-path=\"url(#p121c82ebf5)\" d=\"M 150.983875 170.455219 \r\nL 159.911875 170.455219 \r\nL 159.911875 177.703219 \r\nL 150.983875 177.703219 \r\nL 150.983875 170.455219 \r\n\" style=\"fill:#aa185a;\"/>\r\n    <path clip-path=\"url(#p121c82ebf5)\" d=\"M 159.911875 170.455219 \r\nL 168.839875 170.455219 \r\nL 168.839875 177.703219 \r\nL 159.911875 177.703219 \r\nL 159.911875 170.455219 \r\n\" style=\"fill:#f26747;\"/>\r\n    <path clip-path=\"url(#p121c82ebf5)\" d=\"M 168.839875 170.455219 \r\nL 177.767875 170.455219 \r\nL 177.767875 177.703219 \r\nL 168.839875 177.703219 \r\nL 168.839875 170.455219 \r\n\" style=\"fill:#b01759;\"/>\r\n    <path clip-path=\"url(#p121c82ebf5)\" d=\"M 177.767875 170.455219 \r\nL 186.695875 170.455219 \r\nL 186.695875 177.703219 \r\nL 177.767875 177.703219 \r\nL 177.767875 170.455219 \r\n\" style=\"fill:#af1759;\"/>\r\n    <path clip-path=\"url(#p121c82ebf5)\" d=\"M 186.695875 170.455219 \r\nL 195.623875 170.455219 \r\nL 195.623875 177.703219 \r\nL 186.695875 177.703219 \r\nL 186.695875 170.455219 \r\n\" style=\"fill:#f6b089;\"/>\r\n    <path clip-path=\"url(#p121c82ebf5)\" d=\"M 195.623875 170.455219 \r\nL 204.551875 170.455219 \r\nL 204.551875 177.703219 \r\nL 195.623875 177.703219 \r\nL 195.623875 170.455219 \r\n\" style=\"fill:#f6a67e;\"/>\r\n    <path clip-path=\"url(#p121c82ebf5)\" d=\"M 204.551875 170.455219 \r\nL 213.479875 170.455219 \r\nL 213.479875 177.703219 \r\nL 204.551875 177.703219 \r\nL 204.551875 170.455219 \r\n\" style=\"fill:#f6be9b;\"/>\r\n    <path clip-path=\"url(#p121c82ebf5)\" d=\"M 213.479875 170.455219 \r\nL 222.407875 170.455219 \r\nL 222.407875 177.703219 \r\nL 213.479875 177.703219 \r\nL 213.479875 170.455219 \r\n\" style=\"fill:#f47d57;\"/>\r\n    <path clip-path=\"url(#p121c82ebf5)\" d=\"M 222.407875 170.455219 \r\nL 231.335875 170.455219 \r\nL 231.335875 177.703219 \r\nL 222.407875 177.703219 \r\nL 222.407875 170.455219 \r\n\" style=\"fill:#f69e75;\"/>\r\n    <path clip-path=\"url(#p121c82ebf5)\" d=\"M 231.335875 170.455219 \r\nL 240.263875 170.455219 \r\nL 240.263875 177.703219 \r\nL 231.335875 177.703219 \r\nL 231.335875 170.455219 \r\n\" style=\"fill:#f58d64;\"/>\r\n    <path clip-path=\"url(#p121c82ebf5)\" d=\"M 240.263875 170.455219 \r\nL 249.191875 170.455219 \r\nL 249.191875 177.703219 \r\nL 240.263875 177.703219 \r\nL 240.263875 170.455219 \r\n\" style=\"fill:#f6bb97;\"/>\r\n    <path clip-path=\"url(#p121c82ebf5)\" d=\"M 249.191875 170.455219 \r\nL 258.119875 170.455219 \r\nL 258.119875 177.703219 \r\nL 249.191875 177.703219 \r\nL 249.191875 170.455219 \r\n\" style=\"fill:#f6a178;\"/>\r\n    <path clip-path=\"url(#p121c82ebf5)\" d=\"M 258.119875 170.455219 \r\nL 267.047875 170.455219 \r\nL 267.047875 177.703219 \r\nL 258.119875 177.703219 \r\nL 258.119875 170.455219 \r\n\" style=\"fill:#f6a67e;\"/>\r\n    <path clip-path=\"url(#p121c82ebf5)\" d=\"M 267.047875 170.455219 \r\nL 275.975875 170.455219 \r\nL 275.975875 177.703219 \r\nL 267.047875 177.703219 \r\nL 267.047875 170.455219 \r\n\" style=\"fill:#a3195b;\"/>\r\n    <path clip-path=\"url(#p121c82ebf5)\" d=\"M 275.975875 170.455219 \r\nL 284.903875 170.455219 \r\nL 284.903875 177.703219 \r\nL 275.975875 177.703219 \r\nL 275.975875 170.455219 \r\n\" style=\"fill:#f6a47c;\"/>\r\n    <path clip-path=\"url(#p121c82ebf5)\" d=\"M 284.903875 170.455219 \r\nL 293.831875 170.455219 \r\nL 293.831875 177.703219 \r\nL 284.903875 177.703219 \r\nL 284.903875 170.455219 \r\n\" style=\"fill:#a4195b;\"/>\r\n    <path clip-path=\"url(#p121c82ebf5)\" d=\"M 293.831875 170.455219 \r\nL 302.759875 170.455219 \r\nL 302.759875 177.703219 \r\nL 293.831875 177.703219 \r\nL 293.831875 170.455219 \r\n\" style=\"fill:#751f58;\"/>\r\n    <path clip-path=\"url(#p121c82ebf5)\" d=\"M 302.759875 170.455219 \r\nL 311.687875 170.455219 \r\nL 311.687875 177.703219 \r\nL 302.759875 177.703219 \r\nL 302.759875 170.455219 \r\n\" style=\"fill:#e53940;\"/>\r\n    <path clip-path=\"url(#p121c82ebf5)\" d=\"M 311.687875 170.455219 \r\nL 320.615875 170.455219 \r\nL 320.615875 177.703219 \r\nL 311.687875 177.703219 \r\nL 311.687875 170.455219 \r\n\" style=\"fill:#faebdd;\"/>\r\n    <path clip-path=\"url(#p121c82ebf5)\" d=\"M 320.615875 170.455219 \r\nL 329.543875 170.455219 \r\nL 329.543875 177.703219 \r\nL 320.615875 177.703219 \r\nL 320.615875 170.455219 \r\n\" style=\"fill:#f6ae87;\"/>\r\n    <path clip-path=\"url(#p121c82ebf5)\" d=\"M 329.543875 170.455219 \r\nL 338.471875 170.455219 \r\nL 338.471875 177.703219 \r\nL 329.543875 177.703219 \r\nL 329.543875 170.455219 \r\n\" style=\"fill:#f6bf9d;\"/>\r\n    <path clip-path=\"url(#p121c82ebf5)\" d=\"M 338.471875 170.455219 \r\nL 347.399875 170.455219 \r\nL 347.399875 177.703219 \r\nL 338.471875 177.703219 \r\nL 338.471875 170.455219 \r\n\" style=\"fill:#f6b893;\"/>\r\n    <path clip-path=\"url(#p121c82ebf5)\" d=\"M 347.399875 170.455219 \r\nL 356.327875 170.455219 \r\nL 356.327875 177.703219 \r\nL 347.399875 177.703219 \r\nL 347.399875 170.455219 \r\n\" style=\"fill:#7f1e5a;\"/>\r\n    <path clip-path=\"url(#p121c82ebf5)\" d=\"M 356.327875 170.455219 \r\nL 365.255875 170.455219 \r\nL 365.255875 177.703219 \r\nL 356.327875 177.703219 \r\nL 356.327875 170.455219 \r\n\" style=\"fill:#f8d4bc;\"/>\r\n    <path clip-path=\"url(#p121c82ebf5)\" d=\"M 365.255875 170.455219 \r\nL 374.183875 170.455219 \r\nL 374.183875 177.703219 \r\nL 365.255875 177.703219 \r\nL 365.255875 170.455219 \r\n\" style=\"fill:#f8d4bc;\"/>\r\n    <path clip-path=\"url(#p121c82ebf5)\" d=\"M 374.183875 170.455219 \r\nL 383.111875 170.455219 \r\nL 383.111875 177.703219 \r\nL 374.183875 177.703219 \r\nL 374.183875 170.455219 \r\n\" style=\"fill:#ee523f;\"/>\r\n    <path clip-path=\"url(#p121c82ebf5)\" d=\"M 115.271875 177.703219 \r\nL 124.199875 177.703219 \r\nL 124.199875 184.951219 \r\nL 115.271875 184.951219 \r\nL 115.271875 177.703219 \r\n\" style=\"fill:#ef5840;\"/>\r\n    <path clip-path=\"url(#p121c82ebf5)\" d=\"M 124.199875 177.703219 \r\nL 133.127875 177.703219 \r\nL 133.127875 184.951219 \r\nL 124.199875 184.951219 \r\nL 124.199875 177.703219 \r\n\" style=\"fill:#f58f66;\"/>\r\n    <path clip-path=\"url(#p121c82ebf5)\" d=\"M 133.127875 177.703219 \r\nL 142.055875 177.703219 \r\nL 142.055875 184.951219 \r\nL 133.127875 184.951219 \r\nL 133.127875 177.703219 \r\n\" style=\"fill:#eb483e;\"/>\r\n    <path clip-path=\"url(#p121c82ebf5)\" d=\"M 142.055875 177.703219 \r\nL 150.983875 177.703219 \r\nL 150.983875 184.951219 \r\nL 142.055875 184.951219 \r\nL 142.055875 177.703219 \r\n\" style=\"fill:#f4845d;\"/>\r\n    <path clip-path=\"url(#p121c82ebf5)\" d=\"M 150.983875 177.703219 \r\nL 159.911875 177.703219 \r\nL 159.911875 184.951219 \r\nL 150.983875 184.951219 \r\nL 150.983875 177.703219 \r\n\" style=\"fill:#d5224a;\"/>\r\n    <path clip-path=\"url(#p121c82ebf5)\" d=\"M 159.911875 177.703219 \r\nL 168.839875 177.703219 \r\nL 168.839875 184.951219 \r\nL 159.911875 184.951219 \r\nL 159.911875 177.703219 \r\n\" style=\"fill:#a11a5b;\"/>\r\n    <path clip-path=\"url(#p121c82ebf5)\" d=\"M 168.839875 177.703219 \r\nL 177.767875 177.703219 \r\nL 177.767875 184.951219 \r\nL 168.839875 184.951219 \r\nL 168.839875 177.703219 \r\n\" style=\"fill:#611f53;\"/>\r\n    <path clip-path=\"url(#p121c82ebf5)\" d=\"M 177.767875 177.703219 \r\nL 186.695875 177.703219 \r\nL 186.695875 184.951219 \r\nL 177.767875 184.951219 \r\nL 177.767875 177.703219 \r\n\" style=\"fill:#a3195b;\"/>\r\n    <path clip-path=\"url(#p121c82ebf5)\" d=\"M 186.695875 177.703219 \r\nL 195.623875 177.703219 \r\nL 195.623875 184.951219 \r\nL 186.695875 184.951219 \r\nL 186.695875 177.703219 \r\n\" style=\"fill:#f26f4c;\"/>\r\n    <path clip-path=\"url(#p121c82ebf5)\" d=\"M 195.623875 177.703219 \r\nL 204.551875 177.703219 \r\nL 204.551875 184.951219 \r\nL 195.623875 184.951219 \r\nL 195.623875 177.703219 \r\n\" style=\"fill:#f05e42;\"/>\r\n    <path clip-path=\"url(#p121c82ebf5)\" d=\"M 204.551875 177.703219 \r\nL 213.479875 177.703219 \r\nL 213.479875 184.951219 \r\nL 204.551875 184.951219 \r\nL 204.551875 177.703219 \r\n\" style=\"fill:#f4815a;\"/>\r\n    <path clip-path=\"url(#p121c82ebf5)\" d=\"M 213.479875 177.703219 \r\nL 222.407875 177.703219 \r\nL 222.407875 184.951219 \r\nL 213.479875 184.951219 \r\nL 213.479875 177.703219 \r\n\" style=\"fill:#f37450;\"/>\r\n    <path clip-path=\"url(#p121c82ebf5)\" d=\"M 222.407875 177.703219 \r\nL 231.335875 177.703219 \r\nL 231.335875 184.951219 \r\nL 222.407875 184.951219 \r\nL 222.407875 177.703219 \r\n\" style=\"fill:#f58860;\"/>\r\n    <path clip-path=\"url(#p121c82ebf5)\" d=\"M 231.335875 177.703219 \r\nL 240.263875 177.703219 \r\nL 240.263875 184.951219 \r\nL 231.335875 184.951219 \r\nL 231.335875 177.703219 \r\n\" style=\"fill:#f37651;\"/>\r\n    <path clip-path=\"url(#p121c82ebf5)\" d=\"M 240.263875 177.703219 \r\nL 249.191875 177.703219 \r\nL 249.191875 184.951219 \r\nL 240.263875 184.951219 \r\nL 240.263875 177.703219 \r\n\" style=\"fill:#f47d57;\"/>\r\n    <path clip-path=\"url(#p121c82ebf5)\" d=\"M 249.191875 177.703219 \r\nL 258.119875 177.703219 \r\nL 258.119875 184.951219 \r\nL 249.191875 184.951219 \r\nL 249.191875 177.703219 \r\n\" style=\"fill:#f26d4b;\"/>\r\n    <path clip-path=\"url(#p121c82ebf5)\" d=\"M 258.119875 177.703219 \r\nL 267.047875 177.703219 \r\nL 267.047875 184.951219 \r\nL 258.119875 184.951219 \r\nL 258.119875 177.703219 \r\n\" style=\"fill:#f4865e;\"/>\r\n    <path clip-path=\"url(#p121c82ebf5)\" d=\"M 267.047875 177.703219 \r\nL 275.975875 177.703219 \r\nL 275.975875 184.951219 \r\nL 267.047875 184.951219 \r\nL 267.047875 177.703219 \r\n\" style=\"fill:#d92847;\"/>\r\n    <path clip-path=\"url(#p121c82ebf5)\" d=\"M 275.975875 177.703219 \r\nL 284.903875 177.703219 \r\nL 284.903875 184.951219 \r\nL 275.975875 184.951219 \r\nL 275.975875 177.703219 \r\n\" style=\"fill:#f4845d;\"/>\r\n    <path clip-path=\"url(#p121c82ebf5)\" d=\"M 284.903875 177.703219 \r\nL 293.831875 177.703219 \r\nL 293.831875 184.951219 \r\nL 284.903875 184.951219 \r\nL 284.903875 177.703219 \r\n\" style=\"fill:#8c1d5b;\"/>\r\n    <path clip-path=\"url(#p121c82ebf5)\" d=\"M 293.831875 177.703219 \r\nL 302.759875 177.703219 \r\nL 302.759875 184.951219 \r\nL 293.831875 184.951219 \r\nL 293.831875 177.703219 \r\n\" style=\"fill:#6b1f56;\"/>\r\n    <path clip-path=\"url(#p121c82ebf5)\" d=\"M 302.759875 177.703219 \r\nL 311.687875 177.703219 \r\nL 311.687875 184.951219 \r\nL 302.759875 184.951219 \r\nL 302.759875 177.703219 \r\n\" style=\"fill:#ab185a;\"/>\r\n    <path clip-path=\"url(#p121c82ebf5)\" d=\"M 311.687875 177.703219 \r\nL 320.615875 177.703219 \r\nL 320.615875 184.951219 \r\nL 311.687875 184.951219 \r\nL 311.687875 177.703219 \r\n\" style=\"fill:#f6ae87;\"/>\r\n    <path clip-path=\"url(#p121c82ebf5)\" d=\"M 320.615875 177.703219 \r\nL 329.543875 177.703219 \r\nL 329.543875 184.951219 \r\nL 320.615875 184.951219 \r\nL 320.615875 177.703219 \r\n\" style=\"fill:#faebdd;\"/>\r\n    <path clip-path=\"url(#p121c82ebf5)\" d=\"M 329.543875 177.703219 \r\nL 338.471875 177.703219 \r\nL 338.471875 184.951219 \r\nL 329.543875 184.951219 \r\nL 329.543875 177.703219 \r\n\" style=\"fill:#f47f58;\"/>\r\n    <path clip-path=\"url(#p121c82ebf5)\" d=\"M 338.471875 177.703219 \r\nL 347.399875 177.703219 \r\nL 347.399875 184.951219 \r\nL 338.471875 184.951219 \r\nL 338.471875 177.703219 \r\n\" style=\"fill:#f7c7a8;\"/>\r\n    <path clip-path=\"url(#p121c82ebf5)\" d=\"M 347.399875 177.703219 \r\nL 356.327875 177.703219 \r\nL 356.327875 184.951219 \r\nL 347.399875 184.951219 \r\nL 347.399875 177.703219 \r\n\" style=\"fill:#631f53;\"/>\r\n    <path clip-path=\"url(#p121c82ebf5)\" d=\"M 356.327875 177.703219 \r\nL 365.255875 177.703219 \r\nL 365.255875 184.951219 \r\nL 356.327875 184.951219 \r\nL 356.327875 177.703219 \r\n\" style=\"fill:#f6a67e;\"/>\r\n    <path clip-path=\"url(#p121c82ebf5)\" d=\"M 365.255875 177.703219 \r\nL 374.183875 177.703219 \r\nL 374.183875 184.951219 \r\nL 365.255875 184.951219 \r\nL 365.255875 177.703219 \r\n\" style=\"fill:#f6a67e;\"/>\r\n    <path clip-path=\"url(#p121c82ebf5)\" d=\"M 374.183875 177.703219 \r\nL 383.111875 177.703219 \r\nL 383.111875 184.951219 \r\nL 374.183875 184.951219 \r\nL 374.183875 177.703219 \r\n\" style=\"fill:#d72549;\"/>\r\n    <path clip-path=\"url(#p121c82ebf5)\" d=\"M 115.271875 184.951219 \r\nL 124.199875 184.951219 \r\nL 124.199875 192.199219 \r\nL 115.271875 192.199219 \r\nL 115.271875 184.951219 \r\n\" style=\"fill:#f69c73;\"/>\r\n    <path clip-path=\"url(#p121c82ebf5)\" d=\"M 124.199875 184.951219 \r\nL 133.127875 184.951219 \r\nL 133.127875 192.199219 \r\nL 124.199875 192.199219 \r\nL 124.199875 184.951219 \r\n\" style=\"fill:#f69b71;\"/>\r\n    <path clip-path=\"url(#p121c82ebf5)\" d=\"M 133.127875 184.951219 \r\nL 142.055875 184.951219 \r\nL 142.055875 192.199219 \r\nL 133.127875 192.199219 \r\nL 133.127875 184.951219 \r\n\" style=\"fill:#dd2c45;\"/>\r\n    <path clip-path=\"url(#p121c82ebf5)\" d=\"M 142.055875 184.951219 \r\nL 150.983875 184.951219 \r\nL 150.983875 192.199219 \r\nL 142.055875 192.199219 \r\nL 142.055875 184.951219 \r\n\" style=\"fill:#f47c55;\"/>\r\n    <path clip-path=\"url(#p121c82ebf5)\" d=\"M 150.983875 184.951219 \r\nL 159.911875 184.951219 \r\nL 159.911875 192.199219 \r\nL 150.983875 192.199219 \r\nL 150.983875 184.951219 \r\n\" style=\"fill:#a11a5b;\"/>\r\n    <path clip-path=\"url(#p121c82ebf5)\" d=\"M 159.911875 184.951219 \r\nL 168.839875 184.951219 \r\nL 168.839875 192.199219 \r\nL 159.911875 192.199219 \r\nL 159.911875 184.951219 \r\n\" style=\"fill:#f4865e;\"/>\r\n    <path clip-path=\"url(#p121c82ebf5)\" d=\"M 168.839875 184.951219 \r\nL 177.767875 184.951219 \r\nL 177.767875 192.199219 \r\nL 168.839875 192.199219 \r\nL 168.839875 184.951219 \r\n\" style=\"fill:#bd1655;\"/>\r\n    <path clip-path=\"url(#p121c82ebf5)\" d=\"M 177.767875 184.951219 \r\nL 186.695875 184.951219 \r\nL 186.695875 192.199219 \r\nL 177.767875 192.199219 \r\nL 177.767875 184.951219 \r\n\" style=\"fill:#b71657;\"/>\r\n    <path clip-path=\"url(#p121c82ebf5)\" d=\"M 186.695875 184.951219 \r\nL 195.623875 184.951219 \r\nL 195.623875 192.199219 \r\nL 186.695875 192.199219 \r\nL 186.695875 184.951219 \r\n\" style=\"fill:#f6a47c;\"/>\r\n    <path clip-path=\"url(#p121c82ebf5)\" d=\"M 195.623875 184.951219 \r\nL 204.551875 184.951219 \r\nL 204.551875 192.199219 \r\nL 195.623875 192.199219 \r\nL 195.623875 184.951219 \r\n\" style=\"fill:#f69c73;\"/>\r\n    <path clip-path=\"url(#p121c82ebf5)\" d=\"M 204.551875 184.951219 \r\nL 213.479875 184.951219 \r\nL 213.479875 192.199219 \r\nL 204.551875 192.199219 \r\nL 204.551875 184.951219 \r\n\" style=\"fill:#f6ad85;\"/>\r\n    <path clip-path=\"url(#p121c82ebf5)\" d=\"M 213.479875 184.951219 \r\nL 222.407875 184.951219 \r\nL 222.407875 192.199219 \r\nL 213.479875 192.199219 \r\nL 213.479875 184.951219 \r\n\" style=\"fill:#ef5a41;\"/>\r\n    <path clip-path=\"url(#p121c82ebf5)\" d=\"M 222.407875 184.951219 \r\nL 231.335875 184.951219 \r\nL 231.335875 192.199219 \r\nL 222.407875 192.199219 \r\nL 222.407875 184.951219 \r\n\" style=\"fill:#f37651;\"/>\r\n    <path clip-path=\"url(#p121c82ebf5)\" d=\"M 231.335875 184.951219 \r\nL 240.263875 184.951219 \r\nL 240.263875 192.199219 \r\nL 231.335875 192.199219 \r\nL 231.335875 184.951219 \r\n\" style=\"fill:#f16244;\"/>\r\n    <path clip-path=\"url(#p121c82ebf5)\" d=\"M 240.263875 184.951219 \r\nL 249.191875 184.951219 \r\nL 249.191875 192.199219 \r\nL 240.263875 192.199219 \r\nL 240.263875 184.951219 \r\n\" style=\"fill:#f5966c;\"/>\r\n    <path clip-path=\"url(#p121c82ebf5)\" d=\"M 249.191875 184.951219 \r\nL 258.119875 184.951219 \r\nL 258.119875 192.199219 \r\nL 249.191875 192.199219 \r\nL 249.191875 184.951219 \r\n\" style=\"fill:#f16244;\"/>\r\n    <path clip-path=\"url(#p121c82ebf5)\" d=\"M 258.119875 184.951219 \r\nL 267.047875 184.951219 \r\nL 267.047875 192.199219 \r\nL 258.119875 192.199219 \r\nL 258.119875 184.951219 \r\n\" style=\"fill:#f4865e;\"/>\r\n    <path clip-path=\"url(#p121c82ebf5)\" d=\"M 267.047875 184.951219 \r\nL 275.975875 184.951219 \r\nL 275.975875 192.199219 \r\nL 267.047875 192.199219 \r\nL 267.047875 184.951219 \r\n\" style=\"fill:#ad1759;\"/>\r\n    <path clip-path=\"url(#p121c82ebf5)\" d=\"M 275.975875 184.951219 \r\nL 284.903875 184.951219 \r\nL 284.903875 192.199219 \r\nL 275.975875 192.199219 \r\nL 275.975875 184.951219 \r\n\" style=\"fill:#f6ae87;\"/>\r\n    <path clip-path=\"url(#p121c82ebf5)\" d=\"M 284.903875 184.951219 \r\nL 293.831875 184.951219 \r\nL 293.831875 192.199219 \r\nL 284.903875 192.199219 \r\nL 284.903875 184.951219 \r\n\" style=\"fill:#d2204c;\"/>\r\n    <path clip-path=\"url(#p121c82ebf5)\" d=\"M 293.831875 184.951219 \r\nL 302.759875 184.951219 \r\nL 302.759875 192.199219 \r\nL 293.831875 192.199219 \r\nL 293.831875 184.951219 \r\n\" style=\"fill:#c11754;\"/>\r\n    <path clip-path=\"url(#p121c82ebf5)\" d=\"M 302.759875 184.951219 \r\nL 311.687875 184.951219 \r\nL 311.687875 192.199219 \r\nL 302.759875 192.199219 \r\nL 302.759875 184.951219 \r\n\" style=\"fill:#e63b40;\"/>\r\n    <path clip-path=\"url(#p121c82ebf5)\" d=\"M 311.687875 184.951219 \r\nL 320.615875 184.951219 \r\nL 320.615875 192.199219 \r\nL 311.687875 192.199219 \r\nL 311.687875 184.951219 \r\n\" style=\"fill:#f6bf9d;\"/>\r\n    <path clip-path=\"url(#p121c82ebf5)\" d=\"M 320.615875 184.951219 \r\nL 329.543875 184.951219 \r\nL 329.543875 192.199219 \r\nL 320.615875 192.199219 \r\nL 320.615875 184.951219 \r\n\" style=\"fill:#f47f58;\"/>\r\n    <path clip-path=\"url(#p121c82ebf5)\" d=\"M 329.543875 184.951219 \r\nL 338.471875 184.951219 \r\nL 338.471875 192.199219 \r\nL 329.543875 192.199219 \r\nL 329.543875 184.951219 \r\n\" style=\"fill:#faebdd;\"/>\r\n    <path clip-path=\"url(#p121c82ebf5)\" d=\"M 338.471875 184.951219 \r\nL 347.399875 184.951219 \r\nL 347.399875 192.199219 \r\nL 338.471875 192.199219 \r\nL 338.471875 184.951219 \r\n\" style=\"fill:#f3734e;\"/>\r\n    <path clip-path=\"url(#p121c82ebf5)\" d=\"M 347.399875 184.951219 \r\nL 356.327875 184.951219 \r\nL 356.327875 192.199219 \r\nL 347.399875 192.199219 \r\nL 347.399875 184.951219 \r\n\" style=\"fill:#901d5b;\"/>\r\n    <path clip-path=\"url(#p121c82ebf5)\" d=\"M 356.327875 184.951219 \r\nL 365.255875 184.951219 \r\nL 365.255875 192.199219 \r\nL 356.327875 192.199219 \r\nL 356.327875 184.951219 \r\n\" style=\"fill:#f7c7a8;\"/>\r\n    <path clip-path=\"url(#p121c82ebf5)\" d=\"M 365.255875 184.951219 \r\nL 374.183875 184.951219 \r\nL 374.183875 192.199219 \r\nL 365.255875 192.199219 \r\nL 365.255875 184.951219 \r\n\" style=\"fill:#f7c7a8;\"/>\r\n    <path clip-path=\"url(#p121c82ebf5)\" d=\"M 374.183875 184.951219 \r\nL 383.111875 184.951219 \r\nL 383.111875 192.199219 \r\nL 374.183875 192.199219 \r\nL 374.183875 184.951219 \r\n\" style=\"fill:#ea443e;\"/>\r\n    <path clip-path=\"url(#p121c82ebf5)\" d=\"M 115.271875 192.199219 \r\nL 124.199875 192.199219 \r\nL 124.199875 199.447219 \r\nL 115.271875 199.447219 \r\nL 115.271875 192.199219 \r\n\" style=\"fill:#dc2b46;\"/>\r\n    <path clip-path=\"url(#p121c82ebf5)\" d=\"M 124.199875 192.199219 \r\nL 133.127875 192.199219 \r\nL 133.127875 199.447219 \r\nL 124.199875 199.447219 \r\nL 124.199875 192.199219 \r\n\" style=\"fill:#f26d4b;\"/>\r\n    <path clip-path=\"url(#p121c82ebf5)\" d=\"M 133.127875 192.199219 \r\nL 142.055875 192.199219 \r\nL 142.055875 199.447219 \r\nL 133.127875 199.447219 \r\nL 133.127875 192.199219 \r\n\" style=\"fill:#f26948;\"/>\r\n    <path clip-path=\"url(#p121c82ebf5)\" d=\"M 142.055875 192.199219 \r\nL 150.983875 192.199219 \r\nL 150.983875 199.447219 \r\nL 142.055875 199.447219 \r\nL 142.055875 192.199219 \r\n\" style=\"fill:#f4845d;\"/>\r\n    <path clip-path=\"url(#p121c82ebf5)\" d=\"M 150.983875 192.199219 \r\nL 159.911875 192.199219 \r\nL 159.911875 199.447219 \r\nL 150.983875 199.447219 \r\nL 150.983875 192.199219 \r\n\" style=\"fill:#d82748;\"/>\r\n    <path clip-path=\"url(#p121c82ebf5)\" d=\"M 159.911875 192.199219 \r\nL 168.839875 192.199219 \r\nL 168.839875 199.447219 \r\nL 159.911875 199.447219 \r\nL 159.911875 192.199219 \r\n\" style=\"fill:#981b5b;\"/>\r\n    <path clip-path=\"url(#p121c82ebf5)\" d=\"M 168.839875 192.199219 \r\nL 177.767875 192.199219 \r\nL 177.767875 199.447219 \r\nL 168.839875 199.447219 \r\nL 168.839875 192.199219 \r\n\" style=\"fill:#a6195a;\"/>\r\n    <path clip-path=\"url(#p121c82ebf5)\" d=\"M 177.767875 192.199219 \r\nL 186.695875 192.199219 \r\nL 186.695875 199.447219 \r\nL 177.767875 199.447219 \r\nL 177.767875 192.199219 \r\n\" style=\"fill:#931c5b;\"/>\r\n    <path clip-path=\"url(#p121c82ebf5)\" d=\"M 186.695875 192.199219 \r\nL 195.623875 192.199219 \r\nL 195.623875 199.447219 \r\nL 186.695875 199.447219 \r\nL 186.695875 192.199219 \r\n\" style=\"fill:#ee523f;\"/>\r\n    <path clip-path=\"url(#p121c82ebf5)\" d=\"M 195.623875 192.199219 \r\nL 204.551875 192.199219 \r\nL 204.551875 199.447219 \r\nL 195.623875 199.447219 \r\nL 195.623875 192.199219 \r\n\" style=\"fill:#e9423e;\"/>\r\n    <path clip-path=\"url(#p121c82ebf5)\" d=\"M 204.551875 192.199219 \r\nL 213.479875 192.199219 \r\nL 213.479875 199.447219 \r\nL 204.551875 199.447219 \r\nL 204.551875 192.199219 \r\n\" style=\"fill:#f26948;\"/>\r\n    <path clip-path=\"url(#p121c82ebf5)\" d=\"M 213.479875 192.199219 \r\nL 222.407875 192.199219 \r\nL 222.407875 199.447219 \r\nL 213.479875 199.447219 \r\nL 213.479875 192.199219 \r\n\" style=\"fill:#e8403e;\"/>\r\n    <path clip-path=\"url(#p121c82ebf5)\" d=\"M 222.407875 192.199219 \r\nL 231.335875 192.199219 \r\nL 231.335875 199.447219 \r\nL 222.407875 199.447219 \r\nL 222.407875 192.199219 \r\n\" style=\"fill:#f06043;\"/>\r\n    <path clip-path=\"url(#p121c82ebf5)\" d=\"M 231.335875 192.199219 \r\nL 240.263875 192.199219 \r\nL 240.263875 199.447219 \r\nL 231.335875 199.447219 \r\nL 231.335875 192.199219 \r\n\" style=\"fill:#e8403e;\"/>\r\n    <path clip-path=\"url(#p121c82ebf5)\" d=\"M 240.263875 192.199219 \r\nL 249.191875 192.199219 \r\nL 249.191875 199.447219 \r\nL 240.263875 199.447219 \r\nL 240.263875 192.199219 \r\n\" style=\"fill:#f06043;\"/>\r\n    <path clip-path=\"url(#p121c82ebf5)\" d=\"M 249.191875 192.199219 \r\nL 258.119875 192.199219 \r\nL 258.119875 199.447219 \r\nL 249.191875 199.447219 \r\nL 249.191875 192.199219 \r\n\" style=\"fill:#f58f66;\"/>\r\n    <path clip-path=\"url(#p121c82ebf5)\" d=\"M 258.119875 192.199219 \r\nL 267.047875 192.199219 \r\nL 267.047875 199.447219 \r\nL 258.119875 199.447219 \r\nL 258.119875 192.199219 \r\n\" style=\"fill:#f6b18b;\"/>\r\n    <path clip-path=\"url(#p121c82ebf5)\" d=\"M 267.047875 192.199219 \r\nL 275.975875 192.199219 \r\nL 275.975875 199.447219 \r\nL 267.047875 199.447219 \r\nL 267.047875 192.199219 \r\n\" style=\"fill:#ad1759;\"/>\r\n    <path clip-path=\"url(#p121c82ebf5)\" d=\"M 275.975875 192.199219 \r\nL 284.903875 192.199219 \r\nL 284.903875 199.447219 \r\nL 275.975875 199.447219 \r\nL 275.975875 192.199219 \r\n\" style=\"fill:#f05e42;\"/>\r\n    <path clip-path=\"url(#p121c82ebf5)\" d=\"M 284.903875 192.199219 \r\nL 293.831875 192.199219 \r\nL 293.831875 199.447219 \r\nL 284.903875 199.447219 \r\nL 284.903875 192.199219 \r\n\" style=\"fill:#a4195b;\"/>\r\n    <path clip-path=\"url(#p121c82ebf5)\" d=\"M 293.831875 192.199219 \r\nL 302.759875 192.199219 \r\nL 302.759875 199.447219 \r\nL 293.831875 199.447219 \r\nL 293.831875 192.199219 \r\n\" style=\"fill:#7f1e5a;\"/>\r\n    <path clip-path=\"url(#p121c82ebf5)\" d=\"M 302.759875 192.199219 \r\nL 311.687875 192.199219 \r\nL 311.687875 199.447219 \r\nL 302.759875 199.447219 \r\nL 302.759875 192.199219 \r\n\" style=\"fill:#d72549;\"/>\r\n    <path clip-path=\"url(#p121c82ebf5)\" d=\"M 311.687875 192.199219 \r\nL 320.615875 192.199219 \r\nL 320.615875 199.447219 \r\nL 311.687875 199.447219 \r\nL 311.687875 192.199219 \r\n\" style=\"fill:#f6b893;\"/>\r\n    <path clip-path=\"url(#p121c82ebf5)\" d=\"M 320.615875 192.199219 \r\nL 329.543875 192.199219 \r\nL 329.543875 199.447219 \r\nL 320.615875 199.447219 \r\nL 320.615875 192.199219 \r\n\" style=\"fill:#f7c7a8;\"/>\r\n    <path clip-path=\"url(#p121c82ebf5)\" d=\"M 329.543875 192.199219 \r\nL 338.471875 192.199219 \r\nL 338.471875 199.447219 \r\nL 329.543875 199.447219 \r\nL 329.543875 192.199219 \r\n\" style=\"fill:#f3734e;\"/>\r\n    <path clip-path=\"url(#p121c82ebf5)\" d=\"M 338.471875 192.199219 \r\nL 347.399875 192.199219 \r\nL 347.399875 199.447219 \r\nL 338.471875 199.447219 \r\nL 338.471875 192.199219 \r\n\" style=\"fill:#faebdd;\"/>\r\n    <path clip-path=\"url(#p121c82ebf5)\" d=\"M 347.399875 192.199219 \r\nL 356.327875 192.199219 \r\nL 356.327875 199.447219 \r\nL 347.399875 199.447219 \r\nL 347.399875 192.199219 \r\n\" style=\"fill:#7b1f59;\"/>\r\n    <path clip-path=\"url(#p121c82ebf5)\" d=\"M 356.327875 192.199219 \r\nL 365.255875 192.199219 \r\nL 365.255875 199.447219 \r\nL 356.327875 199.447219 \r\nL 356.327875 192.199219 \r\n\" style=\"fill:#f5966c;\"/>\r\n    <path clip-path=\"url(#p121c82ebf5)\" d=\"M 365.255875 192.199219 \r\nL 374.183875 192.199219 \r\nL 374.183875 199.447219 \r\nL 365.255875 199.447219 \r\nL 365.255875 192.199219 \r\n\" style=\"fill:#f5966c;\"/>\r\n    <path clip-path=\"url(#p121c82ebf5)\" d=\"M 374.183875 192.199219 \r\nL 383.111875 192.199219 \r\nL 383.111875 199.447219 \r\nL 374.183875 199.447219 \r\nL 374.183875 192.199219 \r\n\" style=\"fill:#e33641;\"/>\r\n    <path clip-path=\"url(#p121c82ebf5)\" d=\"M 115.271875 199.447219 \r\nL 124.199875 199.447219 \r\nL 124.199875 206.695219 \r\nL 115.271875 206.695219 \r\nL 115.271875 199.447219 \r\n\" style=\"fill:#20122e;\"/>\r\n    <path clip-path=\"url(#p121c82ebf5)\" d=\"M 124.199875 199.447219 \r\nL 133.127875 199.447219 \r\nL 133.127875 206.695219 \r\nL 124.199875 206.695219 \r\nL 124.199875 199.447219 \r\n\" style=\"fill:#251433;\"/>\r\n    <path clip-path=\"url(#p121c82ebf5)\" d=\"M 133.127875 199.447219 \r\nL 142.055875 199.447219 \r\nL 142.055875 206.695219 \r\nL 133.127875 206.695219 \r\nL 133.127875 199.447219 \r\n\" style=\"fill:#241432;\"/>\r\n    <path clip-path=\"url(#p121c82ebf5)\" d=\"M 142.055875 199.447219 \r\nL 150.983875 199.447219 \r\nL 150.983875 206.695219 \r\nL 142.055875 206.695219 \r\nL 142.055875 199.447219 \r\n\" style=\"fill:#1e122d;\"/>\r\n    <path clip-path=\"url(#p121c82ebf5)\" d=\"M 150.983875 199.447219 \r\nL 159.911875 199.447219 \r\nL 159.911875 206.695219 \r\nL 150.983875 206.695219 \r\nL 150.983875 199.447219 \r\n\" style=\"fill:#33183c;\"/>\r\n    <path clip-path=\"url(#p121c82ebf5)\" d=\"M 159.911875 199.447219 \r\nL 168.839875 199.447219 \r\nL 168.839875 206.695219 \r\nL 159.911875 206.695219 \r\nL 159.911875 199.447219 \r\n\" style=\"fill:#b51657;\"/>\r\n    <path clip-path=\"url(#p121c82ebf5)\" d=\"M 168.839875 199.447219 \r\nL 177.767875 199.447219 \r\nL 177.767875 206.695219 \r\nL 168.839875 206.695219 \r\nL 168.839875 199.447219 \r\n\" style=\"fill:#f26b49;\"/>\r\n    <path clip-path=\"url(#p121c82ebf5)\" d=\"M 177.767875 199.447219 \r\nL 186.695875 199.447219 \r\nL 186.695875 206.695219 \r\nL 177.767875 206.695219 \r\nL 177.767875 199.447219 \r\n\" style=\"fill:#221331;\"/>\r\n    <path clip-path=\"url(#p121c82ebf5)\" d=\"M 186.695875 199.447219 \r\nL 195.623875 199.447219 \r\nL 195.623875 206.695219 \r\nL 186.695875 206.695219 \r\nL 186.695875 199.447219 \r\n\" style=\"fill:#140e26;\"/>\r\n    <path clip-path=\"url(#p121c82ebf5)\" d=\"M 195.623875 199.447219 \r\nL 204.551875 199.447219 \r\nL 204.551875 206.695219 \r\nL 195.623875 206.695219 \r\nL 195.623875 199.447219 \r\n\" style=\"fill:#130d25;\"/>\r\n    <path clip-path=\"url(#p121c82ebf5)\" d=\"M 204.551875 199.447219 \r\nL 213.479875 199.447219 \r\nL 213.479875 206.695219 \r\nL 204.551875 206.695219 \r\nL 204.551875 199.447219 \r\n\" style=\"fill:#1a102a;\"/>\r\n    <path clip-path=\"url(#p121c82ebf5)\" d=\"M 213.479875 199.447219 \r\nL 222.407875 199.447219 \r\nL 222.407875 206.695219 \r\nL 213.479875 206.695219 \r\nL 213.479875 199.447219 \r\n\" style=\"fill:#4b1d4a;\"/>\r\n    <path clip-path=\"url(#p121c82ebf5)\" d=\"M 222.407875 199.447219 \r\nL 231.335875 199.447219 \r\nL 231.335875 206.695219 \r\nL 222.407875 206.695219 \r\nL 222.407875 199.447219 \r\n\" style=\"fill:#241432;\"/>\r\n    <path clip-path=\"url(#p121c82ebf5)\" d=\"M 231.335875 199.447219 \r\nL 240.263875 199.447219 \r\nL 240.263875 206.695219 \r\nL 231.335875 206.695219 \r\nL 231.335875 199.447219 \r\n\" style=\"fill:#03051a;\"/>\r\n    <path clip-path=\"url(#p121c82ebf5)\" d=\"M 240.263875 199.447219 \r\nL 249.191875 199.447219 \r\nL 249.191875 206.695219 \r\nL 240.263875 206.695219 \r\nL 240.263875 199.447219 \r\n\" style=\"fill:#461c48;\"/>\r\n    <path clip-path=\"url(#p121c82ebf5)\" d=\"M 249.191875 199.447219 \r\nL 258.119875 199.447219 \r\nL 258.119875 206.695219 \r\nL 249.191875 206.695219 \r\nL 249.191875 199.447219 \r\n\" style=\"fill:#b91657;\"/>\r\n    <path clip-path=\"url(#p121c82ebf5)\" d=\"M 258.119875 199.447219 \r\nL 267.047875 199.447219 \r\nL 267.047875 206.695219 \r\nL 258.119875 206.695219 \r\nL 258.119875 199.447219 \r\n\" style=\"fill:#821e5a;\"/>\r\n    <path clip-path=\"url(#p121c82ebf5)\" d=\"M 267.047875 199.447219 \r\nL 275.975875 199.447219 \r\nL 275.975875 206.695219 \r\nL 267.047875 206.695219 \r\nL 267.047875 199.447219 \r\n\" style=\"fill:#811e5a;\"/>\r\n    <path clip-path=\"url(#p121c82ebf5)\" d=\"M 275.975875 199.447219 \r\nL 284.903875 199.447219 \r\nL 284.903875 206.695219 \r\nL 275.975875 206.695219 \r\nL 275.975875 199.447219 \r\n\" style=\"fill:#33183c;\"/>\r\n    <path clip-path=\"url(#p121c82ebf5)\" d=\"M 284.903875 199.447219 \r\nL 293.831875 199.447219 \r\nL 293.831875 206.695219 \r\nL 284.903875 206.695219 \r\nL 284.903875 199.447219 \r\n\" style=\"fill:#e53940;\"/>\r\n    <path clip-path=\"url(#p121c82ebf5)\" d=\"M 293.831875 199.447219 \r\nL 302.759875 199.447219 \r\nL 302.759875 206.695219 \r\nL 293.831875 206.695219 \r\nL 293.831875 199.447219 \r\n\" style=\"fill:#e63b40;\"/>\r\n    <path clip-path=\"url(#p121c82ebf5)\" d=\"M 302.759875 199.447219 \r\nL 311.687875 199.447219 \r\nL 311.687875 206.695219 \r\nL 302.759875 206.695219 \r\nL 302.759875 199.447219 \r\n\" style=\"fill:#7b1f59;\"/>\r\n    <path clip-path=\"url(#p121c82ebf5)\" d=\"M 311.687875 199.447219 \r\nL 320.615875 199.447219 \r\nL 320.615875 206.695219 \r\nL 311.687875 206.695219 \r\nL 311.687875 199.447219 \r\n\" style=\"fill:#7f1e5a;\"/>\r\n    <path clip-path=\"url(#p121c82ebf5)\" d=\"M 320.615875 199.447219 \r\nL 329.543875 199.447219 \r\nL 329.543875 206.695219 \r\nL 320.615875 206.695219 \r\nL 320.615875 199.447219 \r\n\" style=\"fill:#631f53;\"/>\r\n    <path clip-path=\"url(#p121c82ebf5)\" d=\"M 329.543875 199.447219 \r\nL 338.471875 199.447219 \r\nL 338.471875 206.695219 \r\nL 329.543875 206.695219 \r\nL 329.543875 199.447219 \r\n\" style=\"fill:#901d5b;\"/>\r\n    <path clip-path=\"url(#p121c82ebf5)\" d=\"M 338.471875 199.447219 \r\nL 347.399875 199.447219 \r\nL 347.399875 206.695219 \r\nL 338.471875 206.695219 \r\nL 338.471875 199.447219 \r\n\" style=\"fill:#7b1f59;\"/>\r\n    <path clip-path=\"url(#p121c82ebf5)\" d=\"M 347.399875 199.447219 \r\nL 356.327875 199.447219 \r\nL 356.327875 206.695219 \r\nL 347.399875 206.695219 \r\nL 347.399875 199.447219 \r\n\" style=\"fill:#faebdd;\"/>\r\n    <path clip-path=\"url(#p121c82ebf5)\" d=\"M 356.327875 199.447219 \r\nL 365.255875 199.447219 \r\nL 365.255875 206.695219 \r\nL 356.327875 206.695219 \r\nL 356.327875 199.447219 \r\n\" style=\"fill:#501d4c;\"/>\r\n    <path clip-path=\"url(#p121c82ebf5)\" d=\"M 365.255875 199.447219 \r\nL 374.183875 199.447219 \r\nL 374.183875 206.695219 \r\nL 365.255875 206.695219 \r\nL 365.255875 199.447219 \r\n\" style=\"fill:#501d4c;\"/>\r\n    <path clip-path=\"url(#p121c82ebf5)\" d=\"M 374.183875 199.447219 \r\nL 383.111875 199.447219 \r\nL 383.111875 206.695219 \r\nL 374.183875 206.695219 \r\nL 374.183875 199.447219 \r\n\" style=\"fill:#c71951;\"/>\r\n    <path clip-path=\"url(#p121c82ebf5)\" d=\"M 115.271875 206.695219 \r\nL 124.199875 206.695219 \r\nL 124.199875 213.943219 \r\nL 115.271875 213.943219 \r\nL 115.271875 206.695219 \r\n\" style=\"fill:#f6a37a;\"/>\r\n    <path clip-path=\"url(#p121c82ebf5)\" d=\"M 124.199875 206.695219 \r\nL 133.127875 206.695219 \r\nL 133.127875 213.943219 \r\nL 124.199875 213.943219 \r\nL 124.199875 206.695219 \r\n\" style=\"fill:#f6be9b;\"/>\r\n    <path clip-path=\"url(#p121c82ebf5)\" d=\"M 133.127875 206.695219 \r\nL 142.055875 206.695219 \r\nL 142.055875 213.943219 \r\nL 133.127875 213.943219 \r\nL 133.127875 206.695219 \r\n\" style=\"fill:#f26d4b;\"/>\r\n    <path clip-path=\"url(#p121c82ebf5)\" d=\"M 142.055875 206.695219 \r\nL 150.983875 206.695219 \r\nL 150.983875 213.943219 \r\nL 142.055875 213.943219 \r\nL 142.055875 206.695219 \r\n\" style=\"fill:#f6ae87;\"/>\r\n    <path clip-path=\"url(#p121c82ebf5)\" d=\"M 150.983875 206.695219 \r\nL 159.911875 206.695219 \r\nL 159.911875 213.943219 \r\nL 150.983875 213.943219 \r\nL 150.983875 206.695219 \r\n\" style=\"fill:#bc1656;\"/>\r\n    <path clip-path=\"url(#p121c82ebf5)\" d=\"M 159.911875 206.695219 \r\nL 168.839875 206.695219 \r\nL 168.839875 213.943219 \r\nL 159.911875 213.943219 \r\nL 159.911875 206.695219 \r\n\" style=\"fill:#f26948;\"/>\r\n    <path clip-path=\"url(#p121c82ebf5)\" d=\"M 168.839875 206.695219 \r\nL 177.767875 206.695219 \r\nL 177.767875 213.943219 \r\nL 168.839875 213.943219 \r\nL 168.839875 206.695219 \r\n\" style=\"fill:#981b5b;\"/>\r\n    <path clip-path=\"url(#p121c82ebf5)\" d=\"M 177.767875 206.695219 \r\nL 186.695875 206.695219 \r\nL 186.695875 213.943219 \r\nL 177.767875 213.943219 \r\nL 177.767875 206.695219 \r\n\" style=\"fill:#bf1654;\"/>\r\n    <path clip-path=\"url(#p121c82ebf5)\" d=\"M 186.695875 206.695219 \r\nL 195.623875 206.695219 \r\nL 195.623875 213.943219 \r\nL 186.695875 213.943219 \r\nL 186.695875 206.695219 \r\n\" style=\"fill:#f6b893;\"/>\r\n    <path clip-path=\"url(#p121c82ebf5)\" d=\"M 195.623875 206.695219 \r\nL 204.551875 206.695219 \r\nL 204.551875 213.943219 \r\nL 195.623875 213.943219 \r\nL 195.623875 206.695219 \r\n\" style=\"fill:#f6ae87;\"/>\r\n    <path clip-path=\"url(#p121c82ebf5)\" d=\"M 204.551875 206.695219 \r\nL 213.479875 206.695219 \r\nL 213.479875 213.943219 \r\nL 204.551875 213.943219 \r\nL 204.551875 206.695219 \r\n\" style=\"fill:#f7c6a6;\"/>\r\n    <path clip-path=\"url(#p121c82ebf5)\" d=\"M 213.479875 206.695219 \r\nL 222.407875 206.695219 \r\nL 222.407875 213.943219 \r\nL 213.479875 213.943219 \r\nL 213.479875 206.695219 \r\n\" style=\"fill:#f6a178;\"/>\r\n    <path clip-path=\"url(#p121c82ebf5)\" d=\"M 222.407875 206.695219 \r\nL 231.335875 206.695219 \r\nL 231.335875 213.943219 \r\nL 222.407875 213.943219 \r\nL 222.407875 206.695219 \r\n\" style=\"fill:#f6a981;\"/>\r\n    <path clip-path=\"url(#p121c82ebf5)\" d=\"M 231.335875 206.695219 \r\nL 240.263875 206.695219 \r\nL 240.263875 213.943219 \r\nL 231.335875 213.943219 \r\nL 231.335875 206.695219 \r\n\" style=\"fill:#f59970;\"/>\r\n    <path clip-path=\"url(#p121c82ebf5)\" d=\"M 240.263875 206.695219 \r\nL 249.191875 206.695219 \r\nL 249.191875 213.943219 \r\nL 240.263875 213.943219 \r\nL 240.263875 206.695219 \r\n\" style=\"fill:#f6c19f;\"/>\r\n    <path clip-path=\"url(#p121c82ebf5)\" d=\"M 249.191875 206.695219 \r\nL 258.119875 206.695219 \r\nL 258.119875 213.943219 \r\nL 249.191875 213.943219 \r\nL 249.191875 206.695219 \r\n\" style=\"fill:#f58a61;\"/>\r\n    <path clip-path=\"url(#p121c82ebf5)\" d=\"M 258.119875 206.695219 \r\nL 267.047875 206.695219 \r\nL 267.047875 213.943219 \r\nL 258.119875 213.943219 \r\nL 258.119875 206.695219 \r\n\" style=\"fill:#f6a37a;\"/>\r\n    <path clip-path=\"url(#p121c82ebf5)\" d=\"M 267.047875 206.695219 \r\nL 275.975875 206.695219 \r\nL 275.975875 213.943219 \r\nL 267.047875 213.943219 \r\nL 267.047875 206.695219 \r\n\" style=\"fill:#b91657;\"/>\r\n    <path clip-path=\"url(#p121c82ebf5)\" d=\"M 275.975875 206.695219 \r\nL 284.903875 206.695219 \r\nL 284.903875 213.943219 \r\nL 275.975875 213.943219 \r\nL 275.975875 206.695219 \r\n\" style=\"fill:#f6a981;\"/>\r\n    <path clip-path=\"url(#p121c82ebf5)\" d=\"M 284.903875 206.695219 \r\nL 293.831875 206.695219 \r\nL 293.831875 213.943219 \r\nL 284.903875 213.943219 \r\nL 284.903875 206.695219 \r\n\" style=\"fill:#c21753;\"/>\r\n    <path clip-path=\"url(#p121c82ebf5)\" d=\"M 293.831875 206.695219 \r\nL 302.759875 206.695219 \r\nL 302.759875 213.943219 \r\nL 293.831875 213.943219 \r\nL 293.831875 206.695219 \r\n\" style=\"fill:#9e1a5b;\"/>\r\n    <path clip-path=\"url(#p121c82ebf5)\" d=\"M 302.759875 206.695219 \r\nL 311.687875 206.695219 \r\nL 311.687875 213.943219 \r\nL 302.759875 213.943219 \r\nL 302.759875 206.695219 \r\n\" style=\"fill:#e8403e;\"/>\r\n    <path clip-path=\"url(#p121c82ebf5)\" d=\"M 311.687875 206.695219 \r\nL 320.615875 206.695219 \r\nL 320.615875 213.943219 \r\nL 311.687875 213.943219 \r\nL 311.687875 206.695219 \r\n\" style=\"fill:#f8d4bc;\"/>\r\n    <path clip-path=\"url(#p121c82ebf5)\" d=\"M 320.615875 206.695219 \r\nL 329.543875 206.695219 \r\nL 329.543875 213.943219 \r\nL 320.615875 213.943219 \r\nL 320.615875 206.695219 \r\n\" style=\"fill:#f6a67e;\"/>\r\n    <path clip-path=\"url(#p121c82ebf5)\" d=\"M 329.543875 206.695219 \r\nL 338.471875 206.695219 \r\nL 338.471875 213.943219 \r\nL 329.543875 213.943219 \r\nL 329.543875 206.695219 \r\n\" style=\"fill:#f7c7a8;\"/>\r\n    <path clip-path=\"url(#p121c82ebf5)\" d=\"M 338.471875 206.695219 \r\nL 347.399875 206.695219 \r\nL 347.399875 213.943219 \r\nL 338.471875 213.943219 \r\nL 338.471875 206.695219 \r\n\" style=\"fill:#f5966c;\"/>\r\n    <path clip-path=\"url(#p121c82ebf5)\" d=\"M 347.399875 206.695219 \r\nL 356.327875 206.695219 \r\nL 356.327875 213.943219 \r\nL 347.399875 213.943219 \r\nL 347.399875 206.695219 \r\n\" style=\"fill:#501d4c;\"/>\r\n    <path clip-path=\"url(#p121c82ebf5)\" d=\"M 356.327875 206.695219 \r\nL 365.255875 206.695219 \r\nL 365.255875 213.943219 \r\nL 356.327875 213.943219 \r\nL 356.327875 206.695219 \r\n\" style=\"fill:#faebdd;\"/>\r\n    <path clip-path=\"url(#p121c82ebf5)\" d=\"M 365.255875 206.695219 \r\nL 374.183875 206.695219 \r\nL 374.183875 213.943219 \r\nL 365.255875 213.943219 \r\nL 365.255875 206.695219 \r\n\" style=\"fill:#faebdd;\"/>\r\n    <path clip-path=\"url(#p121c82ebf5)\" d=\"M 374.183875 206.695219 \r\nL 383.111875 206.695219 \r\nL 383.111875 213.943219 \r\nL 374.183875 213.943219 \r\nL 374.183875 206.695219 \r\n\" style=\"fill:#ef5640;\"/>\r\n    <path clip-path=\"url(#p121c82ebf5)\" d=\"M 115.271875 213.943219 \r\nL 124.199875 213.943219 \r\nL 124.199875 221.191219 \r\nL 115.271875 221.191219 \r\nL 115.271875 213.943219 \r\n\" style=\"fill:#f6a37a;\"/>\r\n    <path clip-path=\"url(#p121c82ebf5)\" d=\"M 124.199875 213.943219 \r\nL 133.127875 213.943219 \r\nL 133.127875 221.191219 \r\nL 124.199875 221.191219 \r\nL 124.199875 213.943219 \r\n\" style=\"fill:#f6be9b;\"/>\r\n    <path clip-path=\"url(#p121c82ebf5)\" d=\"M 133.127875 213.943219 \r\nL 142.055875 213.943219 \r\nL 142.055875 221.191219 \r\nL 133.127875 221.191219 \r\nL 133.127875 213.943219 \r\n\" style=\"fill:#f26d4b;\"/>\r\n    <path clip-path=\"url(#p121c82ebf5)\" d=\"M 142.055875 213.943219 \r\nL 150.983875 213.943219 \r\nL 150.983875 221.191219 \r\nL 142.055875 221.191219 \r\nL 142.055875 213.943219 \r\n\" style=\"fill:#f6ae87;\"/>\r\n    <path clip-path=\"url(#p121c82ebf5)\" d=\"M 150.983875 213.943219 \r\nL 159.911875 213.943219 \r\nL 159.911875 221.191219 \r\nL 150.983875 221.191219 \r\nL 150.983875 213.943219 \r\n\" style=\"fill:#bc1656;\"/>\r\n    <path clip-path=\"url(#p121c82ebf5)\" d=\"M 159.911875 213.943219 \r\nL 168.839875 213.943219 \r\nL 168.839875 221.191219 \r\nL 159.911875 221.191219 \r\nL 159.911875 213.943219 \r\n\" style=\"fill:#f26948;\"/>\r\n    <path clip-path=\"url(#p121c82ebf5)\" d=\"M 168.839875 213.943219 \r\nL 177.767875 213.943219 \r\nL 177.767875 221.191219 \r\nL 168.839875 221.191219 \r\nL 168.839875 213.943219 \r\n\" style=\"fill:#981b5b;\"/>\r\n    <path clip-path=\"url(#p121c82ebf5)\" d=\"M 177.767875 213.943219 \r\nL 186.695875 213.943219 \r\nL 186.695875 221.191219 \r\nL 177.767875 221.191219 \r\nL 177.767875 213.943219 \r\n\" style=\"fill:#bf1654;\"/>\r\n    <path clip-path=\"url(#p121c82ebf5)\" d=\"M 186.695875 213.943219 \r\nL 195.623875 213.943219 \r\nL 195.623875 221.191219 \r\nL 186.695875 221.191219 \r\nL 186.695875 213.943219 \r\n\" style=\"fill:#f6b893;\"/>\r\n    <path clip-path=\"url(#p121c82ebf5)\" d=\"M 195.623875 213.943219 \r\nL 204.551875 213.943219 \r\nL 204.551875 221.191219 \r\nL 195.623875 221.191219 \r\nL 195.623875 213.943219 \r\n\" style=\"fill:#f6ae87;\"/>\r\n    <path clip-path=\"url(#p121c82ebf5)\" d=\"M 204.551875 213.943219 \r\nL 213.479875 213.943219 \r\nL 213.479875 221.191219 \r\nL 204.551875 221.191219 \r\nL 204.551875 213.943219 \r\n\" style=\"fill:#f7c6a6;\"/>\r\n    <path clip-path=\"url(#p121c82ebf5)\" d=\"M 213.479875 213.943219 \r\nL 222.407875 213.943219 \r\nL 222.407875 221.191219 \r\nL 213.479875 221.191219 \r\nL 213.479875 213.943219 \r\n\" style=\"fill:#f6a178;\"/>\r\n    <path clip-path=\"url(#p121c82ebf5)\" d=\"M 222.407875 213.943219 \r\nL 231.335875 213.943219 \r\nL 231.335875 221.191219 \r\nL 222.407875 221.191219 \r\nL 222.407875 213.943219 \r\n\" style=\"fill:#f6a981;\"/>\r\n    <path clip-path=\"url(#p121c82ebf5)\" d=\"M 231.335875 213.943219 \r\nL 240.263875 213.943219 \r\nL 240.263875 221.191219 \r\nL 231.335875 221.191219 \r\nL 231.335875 213.943219 \r\n\" style=\"fill:#f59970;\"/>\r\n    <path clip-path=\"url(#p121c82ebf5)\" d=\"M 240.263875 213.943219 \r\nL 249.191875 213.943219 \r\nL 249.191875 221.191219 \r\nL 240.263875 221.191219 \r\nL 240.263875 213.943219 \r\n\" style=\"fill:#f6c19f;\"/>\r\n    <path clip-path=\"url(#p121c82ebf5)\" d=\"M 249.191875 213.943219 \r\nL 258.119875 213.943219 \r\nL 258.119875 221.191219 \r\nL 249.191875 221.191219 \r\nL 249.191875 213.943219 \r\n\" style=\"fill:#f58a61;\"/>\r\n    <path clip-path=\"url(#p121c82ebf5)\" d=\"M 258.119875 213.943219 \r\nL 267.047875 213.943219 \r\nL 267.047875 221.191219 \r\nL 258.119875 221.191219 \r\nL 258.119875 213.943219 \r\n\" style=\"fill:#f6a37a;\"/>\r\n    <path clip-path=\"url(#p121c82ebf5)\" d=\"M 267.047875 213.943219 \r\nL 275.975875 213.943219 \r\nL 275.975875 221.191219 \r\nL 267.047875 221.191219 \r\nL 267.047875 213.943219 \r\n\" style=\"fill:#b91657;\"/>\r\n    <path clip-path=\"url(#p121c82ebf5)\" d=\"M 275.975875 213.943219 \r\nL 284.903875 213.943219 \r\nL 284.903875 221.191219 \r\nL 275.975875 221.191219 \r\nL 275.975875 213.943219 \r\n\" style=\"fill:#f6a981;\"/>\r\n    <path clip-path=\"url(#p121c82ebf5)\" d=\"M 284.903875 213.943219 \r\nL 293.831875 213.943219 \r\nL 293.831875 221.191219 \r\nL 284.903875 221.191219 \r\nL 284.903875 213.943219 \r\n\" style=\"fill:#c21753;\"/>\r\n    <path clip-path=\"url(#p121c82ebf5)\" d=\"M 293.831875 213.943219 \r\nL 302.759875 213.943219 \r\nL 302.759875 221.191219 \r\nL 293.831875 221.191219 \r\nL 293.831875 213.943219 \r\n\" style=\"fill:#9e1a5b;\"/>\r\n    <path clip-path=\"url(#p121c82ebf5)\" d=\"M 302.759875 213.943219 \r\nL 311.687875 213.943219 \r\nL 311.687875 221.191219 \r\nL 302.759875 221.191219 \r\nL 302.759875 213.943219 \r\n\" style=\"fill:#e8403e;\"/>\r\n    <path clip-path=\"url(#p121c82ebf5)\" d=\"M 311.687875 213.943219 \r\nL 320.615875 213.943219 \r\nL 320.615875 221.191219 \r\nL 311.687875 221.191219 \r\nL 311.687875 213.943219 \r\n\" style=\"fill:#f8d4bc;\"/>\r\n    <path clip-path=\"url(#p121c82ebf5)\" d=\"M 320.615875 213.943219 \r\nL 329.543875 213.943219 \r\nL 329.543875 221.191219 \r\nL 320.615875 221.191219 \r\nL 320.615875 213.943219 \r\n\" style=\"fill:#f6a67e;\"/>\r\n    <path clip-path=\"url(#p121c82ebf5)\" d=\"M 329.543875 213.943219 \r\nL 338.471875 213.943219 \r\nL 338.471875 221.191219 \r\nL 329.543875 221.191219 \r\nL 329.543875 213.943219 \r\n\" style=\"fill:#f7c7a8;\"/>\r\n    <path clip-path=\"url(#p121c82ebf5)\" d=\"M 338.471875 213.943219 \r\nL 347.399875 213.943219 \r\nL 347.399875 221.191219 \r\nL 338.471875 221.191219 \r\nL 338.471875 213.943219 \r\n\" style=\"fill:#f5966c;\"/>\r\n    <path clip-path=\"url(#p121c82ebf5)\" d=\"M 347.399875 213.943219 \r\nL 356.327875 213.943219 \r\nL 356.327875 221.191219 \r\nL 347.399875 221.191219 \r\nL 347.399875 213.943219 \r\n\" style=\"fill:#501d4c;\"/>\r\n    <path clip-path=\"url(#p121c82ebf5)\" d=\"M 356.327875 213.943219 \r\nL 365.255875 213.943219 \r\nL 365.255875 221.191219 \r\nL 356.327875 221.191219 \r\nL 356.327875 213.943219 \r\n\" style=\"fill:#faebdd;\"/>\r\n    <path clip-path=\"url(#p121c82ebf5)\" d=\"M 365.255875 213.943219 \r\nL 374.183875 213.943219 \r\nL 374.183875 221.191219 \r\nL 365.255875 221.191219 \r\nL 365.255875 213.943219 \r\n\" style=\"fill:#faebdd;\"/>\r\n    <path clip-path=\"url(#p121c82ebf5)\" d=\"M 374.183875 213.943219 \r\nL 383.111875 213.943219 \r\nL 383.111875 221.191219 \r\nL 374.183875 221.191219 \r\nL 374.183875 213.943219 \r\n\" style=\"fill:#ef5640;\"/>\r\n    <path clip-path=\"url(#p121c82ebf5)\" d=\"M 115.271875 221.191219 \r\nL 124.199875 221.191219 \r\nL 124.199875 228.439219 \r\nL 115.271875 228.439219 \r\nL 115.271875 221.191219 \r\n\" style=\"fill:#a8185a;\"/>\r\n    <path clip-path=\"url(#p121c82ebf5)\" d=\"M 124.199875 221.191219 \r\nL 133.127875 221.191219 \r\nL 133.127875 228.439219 \r\nL 124.199875 228.439219 \r\nL 124.199875 221.191219 \r\n\" style=\"fill:#c81951;\"/>\r\n    <path clip-path=\"url(#p121c82ebf5)\" d=\"M 133.127875 221.191219 \r\nL 142.055875 221.191219 \r\nL 142.055875 228.439219 \r\nL 133.127875 228.439219 \r\nL 133.127875 221.191219 \r\n\" style=\"fill:#8e1d5b;\"/>\r\n    <path clip-path=\"url(#p121c82ebf5)\" d=\"M 142.055875 221.191219 \r\nL 150.983875 221.191219 \r\nL 150.983875 228.439219 \r\nL 142.055875 228.439219 \r\nL 142.055875 221.191219 \r\n\" style=\"fill:#af1759;\"/>\r\n    <path clip-path=\"url(#p121c82ebf5)\" d=\"M 150.983875 221.191219 \r\nL 159.911875 221.191219 \r\nL 159.911875 228.439219 \r\nL 150.983875 228.439219 \r\nL 150.983875 221.191219 \r\n\" style=\"fill:#4b1d4a;\"/>\r\n    <path clip-path=\"url(#p121c82ebf5)\" d=\"M 159.911875 221.191219 \r\nL 168.839875 221.191219 \r\nL 168.839875 228.439219 \r\nL 159.911875 228.439219 \r\nL 159.911875 221.191219 \r\n\" style=\"fill:#de2e44;\"/>\r\n    <path clip-path=\"url(#p121c82ebf5)\" d=\"M 168.839875 221.191219 \r\nL 177.767875 221.191219 \r\nL 177.767875 228.439219 \r\nL 168.839875 228.439219 \r\nL 168.839875 221.191219 \r\n\" style=\"fill:#ef5840;\"/>\r\n    <path clip-path=\"url(#p121c82ebf5)\" d=\"M 177.767875 221.191219 \r\nL 186.695875 221.191219 \r\nL 186.695875 228.439219 \r\nL 177.767875 228.439219 \r\nL 177.767875 221.191219 \r\n\" style=\"fill:#08081e;\"/>\r\n    <path clip-path=\"url(#p121c82ebf5)\" d=\"M 186.695875 221.191219 \r\nL 195.623875 221.191219 \r\nL 195.623875 228.439219 \r\nL 186.695875 228.439219 \r\nL 186.695875 221.191219 \r\n\" style=\"fill:#c41753;\"/>\r\n    <path clip-path=\"url(#p121c82ebf5)\" d=\"M 195.623875 221.191219 \r\nL 204.551875 221.191219 \r\nL 204.551875 228.439219 \r\nL 195.623875 228.439219 \r\nL 195.623875 221.191219 \r\n\" style=\"fill:#bf1654;\"/>\r\n    <path clip-path=\"url(#p121c82ebf5)\" d=\"M 204.551875 221.191219 \r\nL 213.479875 221.191219 \r\nL 213.479875 228.439219 \r\nL 204.551875 228.439219 \r\nL 204.551875 221.191219 \r\n\" style=\"fill:#cd1c4e;\"/>\r\n    <path clip-path=\"url(#p121c82ebf5)\" d=\"M 213.479875 221.191219 \r\nL 222.407875 221.191219 \r\nL 222.407875 228.439219 \r\nL 213.479875 228.439219 \r\nL 213.479875 221.191219 \r\n\" style=\"fill:#7a1f59;\"/>\r\n    <path clip-path=\"url(#p121c82ebf5)\" d=\"M 222.407875 221.191219 \r\nL 231.335875 221.191219 \r\nL 231.335875 228.439219 \r\nL 222.407875 228.439219 \r\nL 222.407875 221.191219 \r\n\" style=\"fill:#de2e44;\"/>\r\n    <path clip-path=\"url(#p121c82ebf5)\" d=\"M 231.335875 221.191219 \r\nL 240.263875 221.191219 \r\nL 240.263875 228.439219 \r\nL 231.335875 228.439219 \r\nL 231.335875 221.191219 \r\n\" style=\"fill:#841e5a;\"/>\r\n    <path clip-path=\"url(#p121c82ebf5)\" d=\"M 240.263875 221.191219 \r\nL 249.191875 221.191219 \r\nL 249.191875 228.439219 \r\nL 240.263875 228.439219 \r\nL 240.263875 221.191219 \r\n\" style=\"fill:#e43841;\"/>\r\n    <path clip-path=\"url(#p121c82ebf5)\" d=\"M 249.191875 221.191219 \r\nL 258.119875 221.191219 \r\nL 258.119875 228.439219 \r\nL 249.191875 228.439219 \r\nL 249.191875 221.191219 \r\n\" style=\"fill:#f47f58;\"/>\r\n    <path clip-path=\"url(#p121c82ebf5)\" d=\"M 258.119875 221.191219 \r\nL 267.047875 221.191219 \r\nL 267.047875 228.439219 \r\nL 258.119875 228.439219 \r\nL 258.119875 221.191219 \r\n\" style=\"fill:#c81951;\"/>\r\n    <path clip-path=\"url(#p121c82ebf5)\" d=\"M 267.047875 221.191219 \r\nL 275.975875 221.191219 \r\nL 275.975875 228.439219 \r\nL 267.047875 228.439219 \r\nL 267.047875 221.191219 \r\n\" style=\"fill:#c81951;\"/>\r\n    <path clip-path=\"url(#p121c82ebf5)\" d=\"M 275.975875 221.191219 \r\nL 284.903875 221.191219 \r\nL 284.903875 228.439219 \r\nL 275.975875 228.439219 \r\nL 275.975875 221.191219 \r\n\" style=\"fill:#c21753;\"/>\r\n    <path clip-path=\"url(#p121c82ebf5)\" d=\"M 284.903875 221.191219 \r\nL 293.831875 221.191219 \r\nL 293.831875 228.439219 \r\nL 284.903875 228.439219 \r\nL 284.903875 221.191219 \r\n\" style=\"fill:#9f1a5b;\"/>\r\n    <path clip-path=\"url(#p121c82ebf5)\" d=\"M 293.831875 221.191219 \r\nL 302.759875 221.191219 \r\nL 302.759875 228.439219 \r\nL 293.831875 228.439219 \r\nL 293.831875 221.191219 \r\n\" style=\"fill:#db2946;\"/>\r\n    <path clip-path=\"url(#p121c82ebf5)\" d=\"M 302.759875 221.191219 \r\nL 311.687875 221.191219 \r\nL 311.687875 228.439219 \r\nL 302.759875 228.439219 \r\nL 302.759875 221.191219 \r\n\" style=\"fill:#7a1f59;\"/>\r\n    <path clip-path=\"url(#p121c82ebf5)\" d=\"M 311.687875 221.191219 \r\nL 320.615875 221.191219 \r\nL 320.615875 228.439219 \r\nL 311.687875 228.439219 \r\nL 311.687875 221.191219 \r\n\" style=\"fill:#ee523f;\"/>\r\n    <path clip-path=\"url(#p121c82ebf5)\" d=\"M 320.615875 221.191219 \r\nL 329.543875 221.191219 \r\nL 329.543875 228.439219 \r\nL 320.615875 228.439219 \r\nL 320.615875 221.191219 \r\n\" style=\"fill:#d72549;\"/>\r\n    <path clip-path=\"url(#p121c82ebf5)\" d=\"M 329.543875 221.191219 \r\nL 338.471875 221.191219 \r\nL 338.471875 228.439219 \r\nL 329.543875 228.439219 \r\nL 329.543875 221.191219 \r\n\" style=\"fill:#ea443e;\"/>\r\n    <path clip-path=\"url(#p121c82ebf5)\" d=\"M 338.471875 221.191219 \r\nL 347.399875 221.191219 \r\nL 347.399875 228.439219 \r\nL 338.471875 228.439219 \r\nL 338.471875 221.191219 \r\n\" style=\"fill:#e33641;\"/>\r\n    <path clip-path=\"url(#p121c82ebf5)\" d=\"M 347.399875 221.191219 \r\nL 356.327875 221.191219 \r\nL 356.327875 228.439219 \r\nL 347.399875 228.439219 \r\nL 347.399875 221.191219 \r\n\" style=\"fill:#c71951;\"/>\r\n    <path clip-path=\"url(#p121c82ebf5)\" d=\"M 356.327875 221.191219 \r\nL 365.255875 221.191219 \r\nL 365.255875 228.439219 \r\nL 356.327875 228.439219 \r\nL 356.327875 221.191219 \r\n\" style=\"fill:#ef5640;\"/>\r\n    <path clip-path=\"url(#p121c82ebf5)\" d=\"M 365.255875 221.191219 \r\nL 374.183875 221.191219 \r\nL 374.183875 228.439219 \r\nL 365.255875 228.439219 \r\nL 365.255875 221.191219 \r\n\" style=\"fill:#ef5640;\"/>\r\n    <path clip-path=\"url(#p121c82ebf5)\" d=\"M 374.183875 221.191219 \r\nL 383.111875 221.191219 \r\nL 383.111875 228.439219 \r\nL 374.183875 228.439219 \r\nL 374.183875 221.191219 \r\n\" style=\"fill:#faebdd;\"/>\r\n   </g>\r\n   <g id=\"matplotlib.axis_1\">\r\n    <g id=\"xtick_1\">\r\n     <g id=\"line2d_1\">\r\n      <defs>\r\n       <path d=\"M 0 0 \r\nL 0 3.5 \r\n\" id=\"m6f71d4e33d\" style=\"stroke:#000000;stroke-width:0.8;\"/>\r\n      </defs>\r\n      <g>\r\n       <use style=\"stroke:#000000;stroke-width:0.8;\" x=\"119.735875\" xlink:href=\"#m6f71d4e33d\" y=\"228.439219\"/>\r\n      </g>\r\n     </g>\r\n     <g id=\"text_1\">\r\n      <!-- Goals -->\r\n      <g transform=\"translate(122.49525 263.422031)rotate(-90)scale(0.1 -0.1)\">\r\n       <defs>\r\n        <path d=\"M 59.515625 10.40625 \r\nL 59.515625 29.984375 \r\nL 43.40625 29.984375 \r\nL 43.40625 38.09375 \r\nL 69.28125 38.09375 \r\nL 69.28125 6.78125 \r\nQ 63.578125 2.734375 56.6875 0.65625 \r\nQ 49.8125 -1.421875 42 -1.421875 \r\nQ 24.90625 -1.421875 15.25 8.5625 \r\nQ 5.609375 18.5625 5.609375 36.375 \r\nQ 5.609375 54.25 15.25 64.234375 \r\nQ 24.90625 74.21875 42 74.21875 \r\nQ 49.125 74.21875 55.546875 72.453125 \r\nQ 61.96875 70.703125 67.390625 67.28125 \r\nL 67.390625 56.78125 \r\nQ 61.921875 61.421875 55.765625 63.765625 \r\nQ 49.609375 66.109375 42.828125 66.109375 \r\nQ 29.4375 66.109375 22.71875 58.640625 \r\nQ 16.015625 51.171875 16.015625 36.375 \r\nQ 16.015625 21.625 22.71875 14.15625 \r\nQ 29.4375 6.6875 42.828125 6.6875 \r\nQ 48.046875 6.6875 52.140625 7.59375 \r\nQ 56.25 8.5 59.515625 10.40625 \r\nz\r\n\" id=\"DejaVuSans-71\"/>\r\n        <path d=\"M 30.609375 48.390625 \r\nQ 23.390625 48.390625 19.1875 42.75 \r\nQ 14.984375 37.109375 14.984375 27.296875 \r\nQ 14.984375 17.484375 19.15625 11.84375 \r\nQ 23.34375 6.203125 30.609375 6.203125 \r\nQ 37.796875 6.203125 41.984375 11.859375 \r\nQ 46.1875 17.53125 46.1875 27.296875 \r\nQ 46.1875 37.015625 41.984375 42.703125 \r\nQ 37.796875 48.390625 30.609375 48.390625 \r\nz\r\nM 30.609375 56 \r\nQ 42.328125 56 49.015625 48.375 \r\nQ 55.71875 40.765625 55.71875 27.296875 \r\nQ 55.71875 13.875 49.015625 6.21875 \r\nQ 42.328125 -1.421875 30.609375 -1.421875 \r\nQ 18.84375 -1.421875 12.171875 6.21875 \r\nQ 5.515625 13.875 5.515625 27.296875 \r\nQ 5.515625 40.765625 12.171875 48.375 \r\nQ 18.84375 56 30.609375 56 \r\nz\r\n\" id=\"DejaVuSans-111\"/>\r\n        <path d=\"M 34.28125 27.484375 \r\nQ 23.390625 27.484375 19.1875 25 \r\nQ 14.984375 22.515625 14.984375 16.5 \r\nQ 14.984375 11.71875 18.140625 8.90625 \r\nQ 21.296875 6.109375 26.703125 6.109375 \r\nQ 34.1875 6.109375 38.703125 11.40625 \r\nQ 43.21875 16.703125 43.21875 25.484375 \r\nL 43.21875 27.484375 \r\nz\r\nM 52.203125 31.203125 \r\nL 52.203125 0 \r\nL 43.21875 0 \r\nL 43.21875 8.296875 \r\nQ 40.140625 3.328125 35.546875 0.953125 \r\nQ 30.953125 -1.421875 24.3125 -1.421875 \r\nQ 15.921875 -1.421875 10.953125 3.296875 \r\nQ 6 8.015625 6 15.921875 \r\nQ 6 25.140625 12.171875 29.828125 \r\nQ 18.359375 34.515625 30.609375 34.515625 \r\nL 43.21875 34.515625 \r\nL 43.21875 35.40625 \r\nQ 43.21875 41.609375 39.140625 45 \r\nQ 35.0625 48.390625 27.6875 48.390625 \r\nQ 23 48.390625 18.546875 47.265625 \r\nQ 14.109375 46.140625 10.015625 43.890625 \r\nL 10.015625 52.203125 \r\nQ 14.9375 54.109375 19.578125 55.046875 \r\nQ 24.21875 56 28.609375 56 \r\nQ 40.484375 56 46.34375 49.84375 \r\nQ 52.203125 43.703125 52.203125 31.203125 \r\nz\r\n\" id=\"DejaVuSans-97\"/>\r\n        <path d=\"M 9.421875 75.984375 \r\nL 18.40625 75.984375 \r\nL 18.40625 0 \r\nL 9.421875 0 \r\nz\r\n\" id=\"DejaVuSans-108\"/>\r\n        <path d=\"M 44.28125 53.078125 \r\nL 44.28125 44.578125 \r\nQ 40.484375 46.53125 36.375 47.5 \r\nQ 32.28125 48.484375 27.875 48.484375 \r\nQ 21.1875 48.484375 17.84375 46.4375 \r\nQ 14.5 44.390625 14.5 40.28125 \r\nQ 14.5 37.15625 16.890625 35.375 \r\nQ 19.28125 33.59375 26.515625 31.984375 \r\nL 29.59375 31.296875 \r\nQ 39.15625 29.25 43.1875 25.515625 \r\nQ 47.21875 21.78125 47.21875 15.09375 \r\nQ 47.21875 7.46875 41.1875 3.015625 \r\nQ 35.15625 -1.421875 24.609375 -1.421875 \r\nQ 20.21875 -1.421875 15.453125 -0.5625 \r\nQ 10.6875 0.296875 5.421875 2 \r\nL 5.421875 11.28125 \r\nQ 10.40625 8.6875 15.234375 7.390625 \r\nQ 20.0625 6.109375 24.8125 6.109375 \r\nQ 31.15625 6.109375 34.5625 8.28125 \r\nQ 37.984375 10.453125 37.984375 14.40625 \r\nQ 37.984375 18.0625 35.515625 20.015625 \r\nQ 33.0625 21.96875 24.703125 23.78125 \r\nL 21.578125 24.515625 \r\nQ 13.234375 26.265625 9.515625 29.90625 \r\nQ 5.8125 33.546875 5.8125 39.890625 \r\nQ 5.8125 47.609375 11.28125 51.796875 \r\nQ 16.75 56 26.8125 56 \r\nQ 31.78125 56 36.171875 55.265625 \r\nQ 40.578125 54.546875 44.28125 53.078125 \r\nz\r\n\" id=\"DejaVuSans-115\"/>\r\n       </defs>\r\n       <use xlink:href=\"#DejaVuSans-71\"/>\r\n       <use x=\"77.490234\" xlink:href=\"#DejaVuSans-111\"/>\r\n       <use x=\"138.671875\" xlink:href=\"#DejaVuSans-97\"/>\r\n       <use x=\"199.951172\" xlink:href=\"#DejaVuSans-108\"/>\r\n       <use x=\"227.734375\" xlink:href=\"#DejaVuSans-115\"/>\r\n      </g>\r\n     </g>\r\n    </g>\r\n    <g id=\"xtick_2\">\r\n     <g id=\"line2d_2\">\r\n      <g>\r\n       <use style=\"stroke:#000000;stroke-width:0.8;\" x=\"137.591875\" xlink:href=\"#m6f71d4e33d\" y=\"228.439219\"/>\r\n      </g>\r\n     </g>\r\n     <g id=\"text_2\">\r\n      <!-- Shots off target -->\r\n      <g transform=\"translate(140.35125 313.295469)rotate(-90)scale(0.1 -0.1)\">\r\n       <defs>\r\n        <path d=\"M 53.515625 70.515625 \r\nL 53.515625 60.890625 \r\nQ 47.90625 63.578125 42.921875 64.890625 \r\nQ 37.9375 66.21875 33.296875 66.21875 \r\nQ 25.25 66.21875 20.875 63.09375 \r\nQ 16.5 59.96875 16.5 54.203125 \r\nQ 16.5 49.359375 19.40625 46.890625 \r\nQ 22.3125 44.4375 30.421875 42.921875 \r\nL 36.375 41.703125 \r\nQ 47.40625 39.59375 52.65625 34.296875 \r\nQ 57.90625 29 57.90625 20.125 \r\nQ 57.90625 9.515625 50.796875 4.046875 \r\nQ 43.703125 -1.421875 29.984375 -1.421875 \r\nQ 24.8125 -1.421875 18.96875 -0.25 \r\nQ 13.140625 0.921875 6.890625 3.21875 \r\nL 6.890625 13.375 \r\nQ 12.890625 10.015625 18.65625 8.296875 \r\nQ 24.421875 6.59375 29.984375 6.59375 \r\nQ 38.421875 6.59375 43.015625 9.90625 \r\nQ 47.609375 13.234375 47.609375 19.390625 \r\nQ 47.609375 24.75 44.3125 27.78125 \r\nQ 41.015625 30.8125 33.5 32.328125 \r\nL 27.484375 33.5 \r\nQ 16.453125 35.6875 11.515625 40.375 \r\nQ 6.59375 45.0625 6.59375 53.421875 \r\nQ 6.59375 63.09375 13.40625 68.65625 \r\nQ 20.21875 74.21875 32.171875 74.21875 \r\nQ 37.3125 74.21875 42.625 73.28125 \r\nQ 47.953125 72.359375 53.515625 70.515625 \r\nz\r\n\" id=\"DejaVuSans-83\"/>\r\n        <path d=\"M 54.890625 33.015625 \r\nL 54.890625 0 \r\nL 45.90625 0 \r\nL 45.90625 32.71875 \r\nQ 45.90625 40.484375 42.875 44.328125 \r\nQ 39.84375 48.1875 33.796875 48.1875 \r\nQ 26.515625 48.1875 22.3125 43.546875 \r\nQ 18.109375 38.921875 18.109375 30.90625 \r\nL 18.109375 0 \r\nL 9.078125 0 \r\nL 9.078125 75.984375 \r\nL 18.109375 75.984375 \r\nL 18.109375 46.1875 \r\nQ 21.34375 51.125 25.703125 53.5625 \r\nQ 30.078125 56 35.796875 56 \r\nQ 45.21875 56 50.046875 50.171875 \r\nQ 54.890625 44.34375 54.890625 33.015625 \r\nz\r\n\" id=\"DejaVuSans-104\"/>\r\n        <path d=\"M 18.3125 70.21875 \r\nL 18.3125 54.6875 \r\nL 36.8125 54.6875 \r\nL 36.8125 47.703125 \r\nL 18.3125 47.703125 \r\nL 18.3125 18.015625 \r\nQ 18.3125 11.328125 20.140625 9.421875 \r\nQ 21.96875 7.515625 27.59375 7.515625 \r\nL 36.8125 7.515625 \r\nL 36.8125 0 \r\nL 27.59375 0 \r\nQ 17.1875 0 13.234375 3.875 \r\nQ 9.28125 7.765625 9.28125 18.015625 \r\nL 9.28125 47.703125 \r\nL 2.6875 47.703125 \r\nL 2.6875 54.6875 \r\nL 9.28125 54.6875 \r\nL 9.28125 70.21875 \r\nz\r\n\" id=\"DejaVuSans-116\"/>\r\n        <path id=\"DejaVuSans-32\"/>\r\n        <path d=\"M 37.109375 75.984375 \r\nL 37.109375 68.5 \r\nL 28.515625 68.5 \r\nQ 23.6875 68.5 21.796875 66.546875 \r\nQ 19.921875 64.59375 19.921875 59.515625 \r\nL 19.921875 54.6875 \r\nL 34.71875 54.6875 \r\nL 34.71875 47.703125 \r\nL 19.921875 47.703125 \r\nL 19.921875 0 \r\nL 10.890625 0 \r\nL 10.890625 47.703125 \r\nL 2.296875 47.703125 \r\nL 2.296875 54.6875 \r\nL 10.890625 54.6875 \r\nL 10.890625 58.5 \r\nQ 10.890625 67.625 15.140625 71.796875 \r\nQ 19.390625 75.984375 28.609375 75.984375 \r\nz\r\n\" id=\"DejaVuSans-102\"/>\r\n        <path d=\"M 41.109375 46.296875 \r\nQ 39.59375 47.171875 37.8125 47.578125 \r\nQ 36.03125 48 33.890625 48 \r\nQ 26.265625 48 22.1875 43.046875 \r\nQ 18.109375 38.09375 18.109375 28.8125 \r\nL 18.109375 0 \r\nL 9.078125 0 \r\nL 9.078125 54.6875 \r\nL 18.109375 54.6875 \r\nL 18.109375 46.1875 \r\nQ 20.953125 51.171875 25.484375 53.578125 \r\nQ 30.03125 56 36.53125 56 \r\nQ 37.453125 56 38.578125 55.875 \r\nQ 39.703125 55.765625 41.0625 55.515625 \r\nz\r\n\" id=\"DejaVuSans-114\"/>\r\n        <path d=\"M 45.40625 27.984375 \r\nQ 45.40625 37.75 41.375 43.109375 \r\nQ 37.359375 48.484375 30.078125 48.484375 \r\nQ 22.859375 48.484375 18.828125 43.109375 \r\nQ 14.796875 37.75 14.796875 27.984375 \r\nQ 14.796875 18.265625 18.828125 12.890625 \r\nQ 22.859375 7.515625 30.078125 7.515625 \r\nQ 37.359375 7.515625 41.375 12.890625 \r\nQ 45.40625 18.265625 45.40625 27.984375 \r\nz\r\nM 54.390625 6.78125 \r\nQ 54.390625 -7.171875 48.1875 -13.984375 \r\nQ 42 -20.796875 29.203125 -20.796875 \r\nQ 24.46875 -20.796875 20.265625 -20.09375 \r\nQ 16.0625 -19.390625 12.109375 -17.921875 \r\nL 12.109375 -9.1875 \r\nQ 16.0625 -11.328125 19.921875 -12.34375 \r\nQ 23.78125 -13.375 27.78125 -13.375 \r\nQ 36.625 -13.375 41.015625 -8.765625 \r\nQ 45.40625 -4.15625 45.40625 5.171875 \r\nL 45.40625 9.625 \r\nQ 42.625 4.78125 38.28125 2.390625 \r\nQ 33.9375 0 27.875 0 \r\nQ 17.828125 0 11.671875 7.65625 \r\nQ 5.515625 15.328125 5.515625 27.984375 \r\nQ 5.515625 40.671875 11.671875 48.328125 \r\nQ 17.828125 56 27.875 56 \r\nQ 33.9375 56 38.28125 53.609375 \r\nQ 42.625 51.21875 45.40625 46.390625 \r\nL 45.40625 54.6875 \r\nL 54.390625 54.6875 \r\nz\r\n\" id=\"DejaVuSans-103\"/>\r\n        <path d=\"M 56.203125 29.59375 \r\nL 56.203125 25.203125 \r\nL 14.890625 25.203125 \r\nQ 15.484375 15.921875 20.484375 11.0625 \r\nQ 25.484375 6.203125 34.421875 6.203125 \r\nQ 39.59375 6.203125 44.453125 7.46875 \r\nQ 49.3125 8.734375 54.109375 11.28125 \r\nL 54.109375 2.78125 \r\nQ 49.265625 0.734375 44.1875 -0.34375 \r\nQ 39.109375 -1.421875 33.890625 -1.421875 \r\nQ 20.796875 -1.421875 13.15625 6.1875 \r\nQ 5.515625 13.8125 5.515625 26.8125 \r\nQ 5.515625 40.234375 12.765625 48.109375 \r\nQ 20.015625 56 32.328125 56 \r\nQ 43.359375 56 49.78125 48.890625 \r\nQ 56.203125 41.796875 56.203125 29.59375 \r\nz\r\nM 47.21875 32.234375 \r\nQ 47.125 39.59375 43.09375 43.984375 \r\nQ 39.0625 48.390625 32.421875 48.390625 \r\nQ 24.90625 48.390625 20.390625 44.140625 \r\nQ 15.875 39.890625 15.1875 32.171875 \r\nz\r\n\" id=\"DejaVuSans-101\"/>\r\n       </defs>\r\n       <use xlink:href=\"#DejaVuSans-83\"/>\r\n       <use x=\"63.476562\" xlink:href=\"#DejaVuSans-104\"/>\r\n       <use x=\"126.855469\" xlink:href=\"#DejaVuSans-111\"/>\r\n       <use x=\"188.037109\" xlink:href=\"#DejaVuSans-116\"/>\r\n       <use x=\"227.246094\" xlink:href=\"#DejaVuSans-115\"/>\r\n       <use x=\"279.345703\" xlink:href=\"#DejaVuSans-32\"/>\r\n       <use x=\"311.132812\" xlink:href=\"#DejaVuSans-111\"/>\r\n       <use x=\"372.314453\" xlink:href=\"#DejaVuSans-102\"/>\r\n       <use x=\"407.519531\" xlink:href=\"#DejaVuSans-102\"/>\r\n       <use x=\"442.724609\" xlink:href=\"#DejaVuSans-32\"/>\r\n       <use x=\"474.511719\" xlink:href=\"#DejaVuSans-116\"/>\r\n       <use x=\"513.720703\" xlink:href=\"#DejaVuSans-97\"/>\r\n       <use x=\"575\" xlink:href=\"#DejaVuSans-114\"/>\r\n       <use x=\"614.363281\" xlink:href=\"#DejaVuSans-103\"/>\r\n       <use x=\"677.839844\" xlink:href=\"#DejaVuSans-101\"/>\r\n       <use x=\"739.363281\" xlink:href=\"#DejaVuSans-116\"/>\r\n      </g>\r\n     </g>\r\n    </g>\r\n    <g id=\"xtick_3\">\r\n     <g id=\"line2d_3\">\r\n      <g>\r\n       <use style=\"stroke:#000000;stroke-width:0.8;\" x=\"155.447875\" xlink:href=\"#m6f71d4e33d\" y=\"228.439219\"/>\r\n      </g>\r\n     </g>\r\n     <g id=\"text_3\">\r\n      <!-- Hit Woodwork -->\r\n      <g transform=\"translate(158.20725 304.920469)rotate(-90)scale(0.1 -0.1)\">\r\n       <defs>\r\n        <path d=\"M 9.8125 72.90625 \r\nL 19.671875 72.90625 \r\nL 19.671875 43.015625 \r\nL 55.515625 43.015625 \r\nL 55.515625 72.90625 \r\nL 65.375 72.90625 \r\nL 65.375 0 \r\nL 55.515625 0 \r\nL 55.515625 34.71875 \r\nL 19.671875 34.71875 \r\nL 19.671875 0 \r\nL 9.8125 0 \r\nz\r\n\" id=\"DejaVuSans-72\"/>\r\n        <path d=\"M 9.421875 54.6875 \r\nL 18.40625 54.6875 \r\nL 18.40625 0 \r\nL 9.421875 0 \r\nz\r\nM 9.421875 75.984375 \r\nL 18.40625 75.984375 \r\nL 18.40625 64.59375 \r\nL 9.421875 64.59375 \r\nz\r\n\" id=\"DejaVuSans-105\"/>\r\n        <path d=\"M 3.328125 72.90625 \r\nL 13.28125 72.90625 \r\nL 28.609375 11.28125 \r\nL 43.890625 72.90625 \r\nL 54.984375 72.90625 \r\nL 70.3125 11.28125 \r\nL 85.59375 72.90625 \r\nL 95.609375 72.90625 \r\nL 77.296875 0 \r\nL 64.890625 0 \r\nL 49.515625 63.28125 \r\nL 33.984375 0 \r\nL 21.578125 0 \r\nz\r\n\" id=\"DejaVuSans-87\"/>\r\n        <path d=\"M 45.40625 46.390625 \r\nL 45.40625 75.984375 \r\nL 54.390625 75.984375 \r\nL 54.390625 0 \r\nL 45.40625 0 \r\nL 45.40625 8.203125 \r\nQ 42.578125 3.328125 38.25 0.953125 \r\nQ 33.9375 -1.421875 27.875 -1.421875 \r\nQ 17.96875 -1.421875 11.734375 6.484375 \r\nQ 5.515625 14.40625 5.515625 27.296875 \r\nQ 5.515625 40.1875 11.734375 48.09375 \r\nQ 17.96875 56 27.875 56 \r\nQ 33.9375 56 38.25 53.625 \r\nQ 42.578125 51.265625 45.40625 46.390625 \r\nz\r\nM 14.796875 27.296875 \r\nQ 14.796875 17.390625 18.875 11.75 \r\nQ 22.953125 6.109375 30.078125 6.109375 \r\nQ 37.203125 6.109375 41.296875 11.75 \r\nQ 45.40625 17.390625 45.40625 27.296875 \r\nQ 45.40625 37.203125 41.296875 42.84375 \r\nQ 37.203125 48.484375 30.078125 48.484375 \r\nQ 22.953125 48.484375 18.875 42.84375 \r\nQ 14.796875 37.203125 14.796875 27.296875 \r\nz\r\n\" id=\"DejaVuSans-100\"/>\r\n        <path d=\"M 4.203125 54.6875 \r\nL 13.1875 54.6875 \r\nL 24.421875 12.015625 \r\nL 35.59375 54.6875 \r\nL 46.1875 54.6875 \r\nL 57.421875 12.015625 \r\nL 68.609375 54.6875 \r\nL 77.59375 54.6875 \r\nL 63.28125 0 \r\nL 52.6875 0 \r\nL 40.921875 44.828125 \r\nL 29.109375 0 \r\nL 18.5 0 \r\nz\r\n\" id=\"DejaVuSans-119\"/>\r\n        <path d=\"M 9.078125 75.984375 \r\nL 18.109375 75.984375 \r\nL 18.109375 31.109375 \r\nL 44.921875 54.6875 \r\nL 56.390625 54.6875 \r\nL 27.390625 29.109375 \r\nL 57.625 0 \r\nL 45.90625 0 \r\nL 18.109375 26.703125 \r\nL 18.109375 0 \r\nL 9.078125 0 \r\nz\r\n\" id=\"DejaVuSans-107\"/>\r\n       </defs>\r\n       <use xlink:href=\"#DejaVuSans-72\"/>\r\n       <use x=\"75.195312\" xlink:href=\"#DejaVuSans-105\"/>\r\n       <use x=\"102.978516\" xlink:href=\"#DejaVuSans-116\"/>\r\n       <use x=\"142.1875\" xlink:href=\"#DejaVuSans-32\"/>\r\n       <use x=\"173.974609\" xlink:href=\"#DejaVuSans-87\"/>\r\n       <use x=\"266.976562\" xlink:href=\"#DejaVuSans-111\"/>\r\n       <use x=\"328.158203\" xlink:href=\"#DejaVuSans-111\"/>\r\n       <use x=\"389.339844\" xlink:href=\"#DejaVuSans-100\"/>\r\n       <use x=\"452.816406\" xlink:href=\"#DejaVuSans-119\"/>\r\n       <use x=\"534.603516\" xlink:href=\"#DejaVuSans-111\"/>\r\n       <use x=\"595.785156\" xlink:href=\"#DejaVuSans-114\"/>\r\n       <use x=\"636.898438\" xlink:href=\"#DejaVuSans-107\"/>\r\n      </g>\r\n     </g>\r\n    </g>\r\n    <g id=\"xtick_4\">\r\n     <g id=\"line2d_4\">\r\n      <g>\r\n       <use style=\"stroke:#000000;stroke-width:0.8;\" x=\"173.303875\" xlink:href=\"#m6f71d4e33d\" y=\"228.439219\"/>\r\n      </g>\r\n     </g>\r\n     <g id=\"text_4\">\r\n      <!-- Penalties not scored -->\r\n      <g transform=\"translate(176.06325 336.511094)rotate(-90)scale(0.1 -0.1)\">\r\n       <defs>\r\n        <path d=\"M 19.671875 64.796875 \r\nL 19.671875 37.40625 \r\nL 32.078125 37.40625 \r\nQ 38.96875 37.40625 42.71875 40.96875 \r\nQ 46.484375 44.53125 46.484375 51.125 \r\nQ 46.484375 57.671875 42.71875 61.234375 \r\nQ 38.96875 64.796875 32.078125 64.796875 \r\nz\r\nM 9.8125 72.90625 \r\nL 32.078125 72.90625 \r\nQ 44.34375 72.90625 50.609375 67.359375 \r\nQ 56.890625 61.8125 56.890625 51.125 \r\nQ 56.890625 40.328125 50.609375 34.8125 \r\nQ 44.34375 29.296875 32.078125 29.296875 \r\nL 19.671875 29.296875 \r\nL 19.671875 0 \r\nL 9.8125 0 \r\nz\r\n\" id=\"DejaVuSans-80\"/>\r\n        <path d=\"M 54.890625 33.015625 \r\nL 54.890625 0 \r\nL 45.90625 0 \r\nL 45.90625 32.71875 \r\nQ 45.90625 40.484375 42.875 44.328125 \r\nQ 39.84375 48.1875 33.796875 48.1875 \r\nQ 26.515625 48.1875 22.3125 43.546875 \r\nQ 18.109375 38.921875 18.109375 30.90625 \r\nL 18.109375 0 \r\nL 9.078125 0 \r\nL 9.078125 54.6875 \r\nL 18.109375 54.6875 \r\nL 18.109375 46.1875 \r\nQ 21.34375 51.125 25.703125 53.5625 \r\nQ 30.078125 56 35.796875 56 \r\nQ 45.21875 56 50.046875 50.171875 \r\nQ 54.890625 44.34375 54.890625 33.015625 \r\nz\r\n\" id=\"DejaVuSans-110\"/>\r\n        <path d=\"M 48.78125 52.59375 \r\nL 48.78125 44.1875 \r\nQ 44.96875 46.296875 41.140625 47.34375 \r\nQ 37.3125 48.390625 33.40625 48.390625 \r\nQ 24.65625 48.390625 19.8125 42.84375 \r\nQ 14.984375 37.3125 14.984375 27.296875 \r\nQ 14.984375 17.28125 19.8125 11.734375 \r\nQ 24.65625 6.203125 33.40625 6.203125 \r\nQ 37.3125 6.203125 41.140625 7.25 \r\nQ 44.96875 8.296875 48.78125 10.40625 \r\nL 48.78125 2.09375 \r\nQ 45.015625 0.34375 40.984375 -0.53125 \r\nQ 36.96875 -1.421875 32.421875 -1.421875 \r\nQ 20.0625 -1.421875 12.78125 6.34375 \r\nQ 5.515625 14.109375 5.515625 27.296875 \r\nQ 5.515625 40.671875 12.859375 48.328125 \r\nQ 20.21875 56 33.015625 56 \r\nQ 37.15625 56 41.109375 55.140625 \r\nQ 45.0625 54.296875 48.78125 52.59375 \r\nz\r\n\" id=\"DejaVuSans-99\"/>\r\n       </defs>\r\n       <use xlink:href=\"#DejaVuSans-80\"/>\r\n       <use x=\"56.677734\" xlink:href=\"#DejaVuSans-101\"/>\r\n       <use x=\"118.201172\" xlink:href=\"#DejaVuSans-110\"/>\r\n       <use x=\"181.580078\" xlink:href=\"#DejaVuSans-97\"/>\r\n       <use x=\"242.859375\" xlink:href=\"#DejaVuSans-108\"/>\r\n       <use x=\"270.642578\" xlink:href=\"#DejaVuSans-116\"/>\r\n       <use x=\"309.851562\" xlink:href=\"#DejaVuSans-105\"/>\r\n       <use x=\"337.634766\" xlink:href=\"#DejaVuSans-101\"/>\r\n       <use x=\"399.158203\" xlink:href=\"#DejaVuSans-115\"/>\r\n       <use x=\"451.257812\" xlink:href=\"#DejaVuSans-32\"/>\r\n       <use x=\"483.044922\" xlink:href=\"#DejaVuSans-110\"/>\r\n       <use x=\"546.423828\" xlink:href=\"#DejaVuSans-111\"/>\r\n       <use x=\"607.605469\" xlink:href=\"#DejaVuSans-116\"/>\r\n       <use x=\"646.814453\" xlink:href=\"#DejaVuSans-32\"/>\r\n       <use x=\"678.601562\" xlink:href=\"#DejaVuSans-115\"/>\r\n       <use x=\"730.701172\" xlink:href=\"#DejaVuSans-99\"/>\r\n       <use x=\"785.681641\" xlink:href=\"#DejaVuSans-111\"/>\r\n       <use x=\"846.863281\" xlink:href=\"#DejaVuSans-114\"/>\r\n       <use x=\"885.726562\" xlink:href=\"#DejaVuSans-101\"/>\r\n       <use x=\"947.25\" xlink:href=\"#DejaVuSans-100\"/>\r\n      </g>\r\n     </g>\r\n    </g>\r\n    <g id=\"xtick_5\">\r\n     <g id=\"line2d_5\">\r\n      <g>\r\n       <use style=\"stroke:#000000;stroke-width:0.8;\" x=\"191.159875\" xlink:href=\"#m6f71d4e33d\" y=\"228.439219\"/>\r\n      </g>\r\n     </g>\r\n     <g id=\"text_5\">\r\n      <!-- Passes -->\r\n      <g transform=\"translate(193.91925 268.928281)rotate(-90)scale(0.1 -0.1)\">\r\n       <use xlink:href=\"#DejaVuSans-80\"/>\r\n       <use x=\"55.802734\" xlink:href=\"#DejaVuSans-97\"/>\r\n       <use x=\"117.082031\" xlink:href=\"#DejaVuSans-115\"/>\r\n       <use x=\"169.181641\" xlink:href=\"#DejaVuSans-115\"/>\r\n       <use x=\"221.28125\" xlink:href=\"#DejaVuSans-101\"/>\r\n       <use x=\"282.804688\" xlink:href=\"#DejaVuSans-115\"/>\r\n      </g>\r\n     </g>\r\n    </g>\r\n    <g id=\"xtick_6\">\r\n     <g id=\"line2d_6\">\r\n      <g>\r\n       <use style=\"stroke:#000000;stroke-width:0.8;\" x=\"209.015875\" xlink:href=\"#m6f71d4e33d\" y=\"228.439219\"/>\r\n      </g>\r\n     </g>\r\n     <g id=\"text_6\">\r\n      <!-- Touches -->\r\n      <g transform=\"translate(211.77525 275.501719)rotate(-90)scale(0.1 -0.1)\">\r\n       <defs>\r\n        <path d=\"M -0.296875 72.90625 \r\nL 61.375 72.90625 \r\nL 61.375 64.59375 \r\nL 35.5 64.59375 \r\nL 35.5 0 \r\nL 25.59375 0 \r\nL 25.59375 64.59375 \r\nL -0.296875 64.59375 \r\nz\r\n\" id=\"DejaVuSans-84\"/>\r\n        <path d=\"M 8.5 21.578125 \r\nL 8.5 54.6875 \r\nL 17.484375 54.6875 \r\nL 17.484375 21.921875 \r\nQ 17.484375 14.15625 20.5 10.265625 \r\nQ 23.53125 6.390625 29.59375 6.390625 \r\nQ 36.859375 6.390625 41.078125 11.03125 \r\nQ 45.3125 15.671875 45.3125 23.6875 \r\nL 45.3125 54.6875 \r\nL 54.296875 54.6875 \r\nL 54.296875 0 \r\nL 45.3125 0 \r\nL 45.3125 8.40625 \r\nQ 42.046875 3.421875 37.71875 1 \r\nQ 33.40625 -1.421875 27.6875 -1.421875 \r\nQ 18.265625 -1.421875 13.375 4.4375 \r\nQ 8.5 10.296875 8.5 21.578125 \r\nz\r\nM 31.109375 56 \r\nz\r\n\" id=\"DejaVuSans-117\"/>\r\n       </defs>\r\n       <use xlink:href=\"#DejaVuSans-84\"/>\r\n       <use x=\"44.083984\" xlink:href=\"#DejaVuSans-111\"/>\r\n       <use x=\"105.265625\" xlink:href=\"#DejaVuSans-117\"/>\r\n       <use x=\"168.644531\" xlink:href=\"#DejaVuSans-99\"/>\r\n       <use x=\"223.625\" xlink:href=\"#DejaVuSans-104\"/>\r\n       <use x=\"287.003906\" xlink:href=\"#DejaVuSans-101\"/>\r\n       <use x=\"348.527344\" xlink:href=\"#DejaVuSans-115\"/>\r\n      </g>\r\n     </g>\r\n    </g>\r\n    <g id=\"xtick_7\">\r\n     <g id=\"line2d_7\">\r\n      <g>\r\n       <use style=\"stroke:#000000;stroke-width:0.8;\" x=\"226.871875\" xlink:href=\"#m6f71d4e33d\" y=\"228.439219\"/>\r\n      </g>\r\n     </g>\r\n     <g id=\"text_7\">\r\n      <!-- Dribbles -->\r\n      <g transform=\"translate(229.63125 276.865781)rotate(-90)scale(0.1 -0.1)\">\r\n       <defs>\r\n        <path d=\"M 19.671875 64.796875 \r\nL 19.671875 8.109375 \r\nL 31.59375 8.109375 \r\nQ 46.6875 8.109375 53.6875 14.9375 \r\nQ 60.6875 21.78125 60.6875 36.53125 \r\nQ 60.6875 51.171875 53.6875 57.984375 \r\nQ 46.6875 64.796875 31.59375 64.796875 \r\nz\r\nM 9.8125 72.90625 \r\nL 30.078125 72.90625 \r\nQ 51.265625 72.90625 61.171875 64.09375 \r\nQ 71.09375 55.28125 71.09375 36.53125 \r\nQ 71.09375 17.671875 61.125 8.828125 \r\nQ 51.171875 0 30.078125 0 \r\nL 9.8125 0 \r\nz\r\n\" id=\"DejaVuSans-68\"/>\r\n        <path d=\"M 48.6875 27.296875 \r\nQ 48.6875 37.203125 44.609375 42.84375 \r\nQ 40.53125 48.484375 33.40625 48.484375 \r\nQ 26.265625 48.484375 22.1875 42.84375 \r\nQ 18.109375 37.203125 18.109375 27.296875 \r\nQ 18.109375 17.390625 22.1875 11.75 \r\nQ 26.265625 6.109375 33.40625 6.109375 \r\nQ 40.53125 6.109375 44.609375 11.75 \r\nQ 48.6875 17.390625 48.6875 27.296875 \r\nz\r\nM 18.109375 46.390625 \r\nQ 20.953125 51.265625 25.265625 53.625 \r\nQ 29.59375 56 35.59375 56 \r\nQ 45.5625 56 51.78125 48.09375 \r\nQ 58.015625 40.1875 58.015625 27.296875 \r\nQ 58.015625 14.40625 51.78125 6.484375 \r\nQ 45.5625 -1.421875 35.59375 -1.421875 \r\nQ 29.59375 -1.421875 25.265625 0.953125 \r\nQ 20.953125 3.328125 18.109375 8.203125 \r\nL 18.109375 0 \r\nL 9.078125 0 \r\nL 9.078125 75.984375 \r\nL 18.109375 75.984375 \r\nz\r\n\" id=\"DejaVuSans-98\"/>\r\n       </defs>\r\n       <use xlink:href=\"#DejaVuSans-68\"/>\r\n       <use x=\"77.001953\" xlink:href=\"#DejaVuSans-114\"/>\r\n       <use x=\"118.115234\" xlink:href=\"#DejaVuSans-105\"/>\r\n       <use x=\"145.898438\" xlink:href=\"#DejaVuSans-98\"/>\r\n       <use x=\"209.375\" xlink:href=\"#DejaVuSans-98\"/>\r\n       <use x=\"272.851562\" xlink:href=\"#DejaVuSans-108\"/>\r\n       <use x=\"300.634766\" xlink:href=\"#DejaVuSans-101\"/>\r\n       <use x=\"362.158203\" xlink:href=\"#DejaVuSans-115\"/>\r\n      </g>\r\n     </g>\r\n    </g>\r\n    <g id=\"xtick_8\">\r\n     <g id=\"line2d_8\">\r\n      <g>\r\n       <use style=\"stroke:#000000;stroke-width:0.8;\" x=\"244.727875\" xlink:href=\"#m6f71d4e33d\" y=\"228.439219\"/>\r\n      </g>\r\n     </g>\r\n     <g id=\"text_8\">\r\n      <!-- Tackles -->\r\n      <g transform=\"translate(247.48725 271.454844)rotate(-90)scale(0.1 -0.1)\">\r\n       <use xlink:href=\"#DejaVuSans-84\"/>\r\n       <use x=\"44.583984\" xlink:href=\"#DejaVuSans-97\"/>\r\n       <use x=\"105.863281\" xlink:href=\"#DejaVuSans-99\"/>\r\n       <use x=\"160.84375\" xlink:href=\"#DejaVuSans-107\"/>\r\n       <use x=\"218.753906\" xlink:href=\"#DejaVuSans-108\"/>\r\n       <use x=\"246.537109\" xlink:href=\"#DejaVuSans-101\"/>\r\n       <use x=\"308.060547\" xlink:href=\"#DejaVuSans-115\"/>\r\n      </g>\r\n     </g>\r\n    </g>\r\n    <g id=\"xtick_9\">\r\n     <g id=\"line2d_9\">\r\n      <g>\r\n       <use style=\"stroke:#000000;stroke-width:0.8;\" x=\"262.583875\" xlink:href=\"#m6f71d4e33d\" y=\"228.439219\"/>\r\n      </g>\r\n     </g>\r\n     <g id=\"text_9\">\r\n      <!-- Interceptions -->\r\n      <g transform=\"translate(265.34325 301.050156)rotate(-90)scale(0.1 -0.1)\">\r\n       <defs>\r\n        <path d=\"M 9.8125 72.90625 \r\nL 19.671875 72.90625 \r\nL 19.671875 0 \r\nL 9.8125 0 \r\nz\r\n\" id=\"DejaVuSans-73\"/>\r\n        <path d=\"M 18.109375 8.203125 \r\nL 18.109375 -20.796875 \r\nL 9.078125 -20.796875 \r\nL 9.078125 54.6875 \r\nL 18.109375 54.6875 \r\nL 18.109375 46.390625 \r\nQ 20.953125 51.265625 25.265625 53.625 \r\nQ 29.59375 56 35.59375 56 \r\nQ 45.5625 56 51.78125 48.09375 \r\nQ 58.015625 40.1875 58.015625 27.296875 \r\nQ 58.015625 14.40625 51.78125 6.484375 \r\nQ 45.5625 -1.421875 35.59375 -1.421875 \r\nQ 29.59375 -1.421875 25.265625 0.953125 \r\nQ 20.953125 3.328125 18.109375 8.203125 \r\nz\r\nM 48.6875 27.296875 \r\nQ 48.6875 37.203125 44.609375 42.84375 \r\nQ 40.53125 48.484375 33.40625 48.484375 \r\nQ 26.265625 48.484375 22.1875 42.84375 \r\nQ 18.109375 37.203125 18.109375 27.296875 \r\nQ 18.109375 17.390625 22.1875 11.75 \r\nQ 26.265625 6.109375 33.40625 6.109375 \r\nQ 40.53125 6.109375 44.609375 11.75 \r\nQ 48.6875 17.390625 48.6875 27.296875 \r\nz\r\n\" id=\"DejaVuSans-112\"/>\r\n       </defs>\r\n       <use xlink:href=\"#DejaVuSans-73\"/>\r\n       <use x=\"29.492188\" xlink:href=\"#DejaVuSans-110\"/>\r\n       <use x=\"92.871094\" xlink:href=\"#DejaVuSans-116\"/>\r\n       <use x=\"132.080078\" xlink:href=\"#DejaVuSans-101\"/>\r\n       <use x=\"193.603516\" xlink:href=\"#DejaVuSans-114\"/>\r\n       <use x=\"232.466797\" xlink:href=\"#DejaVuSans-99\"/>\r\n       <use x=\"287.447266\" xlink:href=\"#DejaVuSans-101\"/>\r\n       <use x=\"348.970703\" xlink:href=\"#DejaVuSans-112\"/>\r\n       <use x=\"412.447266\" xlink:href=\"#DejaVuSans-116\"/>\r\n       <use x=\"451.65625\" xlink:href=\"#DejaVuSans-105\"/>\r\n       <use x=\"479.439453\" xlink:href=\"#DejaVuSans-111\"/>\r\n       <use x=\"540.621094\" xlink:href=\"#DejaVuSans-110\"/>\r\n       <use x=\"604\" xlink:href=\"#DejaVuSans-115\"/>\r\n      </g>\r\n     </g>\r\n    </g>\r\n    <g id=\"xtick_10\">\r\n     <g id=\"line2d_10\">\r\n      <g>\r\n       <use style=\"stroke:#000000;stroke-width:0.8;\" x=\"280.439875\" xlink:href=\"#m6f71d4e33d\" y=\"228.439219\"/>\r\n      </g>\r\n     </g>\r\n     <g id=\"text_10\">\r\n      <!-- Clean Sheets -->\r\n      <g transform=\"translate(283.19925 301.118906)rotate(-90)scale(0.1 -0.1)\">\r\n       <defs>\r\n        <path d=\"M 64.40625 67.28125 \r\nL 64.40625 56.890625 \r\nQ 59.421875 61.53125 53.78125 63.8125 \r\nQ 48.140625 66.109375 41.796875 66.109375 \r\nQ 29.296875 66.109375 22.65625 58.46875 \r\nQ 16.015625 50.828125 16.015625 36.375 \r\nQ 16.015625 21.96875 22.65625 14.328125 \r\nQ 29.296875 6.6875 41.796875 6.6875 \r\nQ 48.140625 6.6875 53.78125 8.984375 \r\nQ 59.421875 11.28125 64.40625 15.921875 \r\nL 64.40625 5.609375 \r\nQ 59.234375 2.09375 53.4375 0.328125 \r\nQ 47.65625 -1.421875 41.21875 -1.421875 \r\nQ 24.65625 -1.421875 15.125 8.703125 \r\nQ 5.609375 18.84375 5.609375 36.375 \r\nQ 5.609375 53.953125 15.125 64.078125 \r\nQ 24.65625 74.21875 41.21875 74.21875 \r\nQ 47.75 74.21875 53.53125 72.484375 \r\nQ 59.328125 70.75 64.40625 67.28125 \r\nz\r\n\" id=\"DejaVuSans-67\"/>\r\n       </defs>\r\n       <use xlink:href=\"#DejaVuSans-67\"/>\r\n       <use x=\"69.824219\" xlink:href=\"#DejaVuSans-108\"/>\r\n       <use x=\"97.607422\" xlink:href=\"#DejaVuSans-101\"/>\r\n       <use x=\"159.130859\" xlink:href=\"#DejaVuSans-97\"/>\r\n       <use x=\"220.410156\" xlink:href=\"#DejaVuSans-110\"/>\r\n       <use x=\"283.789062\" xlink:href=\"#DejaVuSans-32\"/>\r\n       <use x=\"315.576172\" xlink:href=\"#DejaVuSans-83\"/>\r\n       <use x=\"379.052734\" xlink:href=\"#DejaVuSans-104\"/>\r\n       <use x=\"442.431641\" xlink:href=\"#DejaVuSans-101\"/>\r\n       <use x=\"503.955078\" xlink:href=\"#DejaVuSans-101\"/>\r\n       <use x=\"565.478516\" xlink:href=\"#DejaVuSans-116\"/>\r\n       <use x=\"604.6875\" xlink:href=\"#DejaVuSans-115\"/>\r\n      </g>\r\n     </g>\r\n    </g>\r\n    <g id=\"xtick_11\">\r\n     <g id=\"line2d_11\">\r\n      <g>\r\n       <use style=\"stroke:#000000;stroke-width:0.8;\" x=\"298.295875\" xlink:href=\"#m6f71d4e33d\" y=\"228.439219\"/>\r\n      </g>\r\n     </g>\r\n     <g id=\"text_11\">\r\n      <!-- Goals conceded -->\r\n      <g transform=\"translate(301.05525 315.056406)rotate(-90)scale(0.1 -0.1)\">\r\n       <use xlink:href=\"#DejaVuSans-71\"/>\r\n       <use x=\"77.490234\" xlink:href=\"#DejaVuSans-111\"/>\r\n       <use x=\"138.671875\" xlink:href=\"#DejaVuSans-97\"/>\r\n       <use x=\"199.951172\" xlink:href=\"#DejaVuSans-108\"/>\r\n       <use x=\"227.734375\" xlink:href=\"#DejaVuSans-115\"/>\r\n       <use x=\"279.833984\" xlink:href=\"#DejaVuSans-32\"/>\r\n       <use x=\"311.621094\" xlink:href=\"#DejaVuSans-99\"/>\r\n       <use x=\"366.601562\" xlink:href=\"#DejaVuSans-111\"/>\r\n       <use x=\"427.783203\" xlink:href=\"#DejaVuSans-110\"/>\r\n       <use x=\"491.162109\" xlink:href=\"#DejaVuSans-99\"/>\r\n       <use x=\"546.142578\" xlink:href=\"#DejaVuSans-101\"/>\r\n       <use x=\"607.666016\" xlink:href=\"#DejaVuSans-100\"/>\r\n       <use x=\"671.142578\" xlink:href=\"#DejaVuSans-101\"/>\r\n       <use x=\"732.666016\" xlink:href=\"#DejaVuSans-100\"/>\r\n      </g>\r\n     </g>\r\n    </g>\r\n    <g id=\"xtick_12\">\r\n     <g id=\"line2d_12\">\r\n      <g>\r\n       <use style=\"stroke:#000000;stroke-width:0.8;\" x=\"316.151875\" xlink:href=\"#m6f71d4e33d\" y=\"228.439219\"/>\r\n      </g>\r\n     </g>\r\n     <g id=\"text_12\">\r\n      <!-- Fouls Won -->\r\n      <g transform=\"translate(318.91125 286.206406)rotate(-90)scale(0.1 -0.1)\">\r\n       <defs>\r\n        <path d=\"M 9.8125 72.90625 \r\nL 51.703125 72.90625 \r\nL 51.703125 64.59375 \r\nL 19.671875 64.59375 \r\nL 19.671875 43.109375 \r\nL 48.578125 43.109375 \r\nL 48.578125 34.8125 \r\nL 19.671875 34.8125 \r\nL 19.671875 0 \r\nL 9.8125 0 \r\nz\r\n\" id=\"DejaVuSans-70\"/>\r\n       </defs>\r\n       <use xlink:href=\"#DejaVuSans-70\"/>\r\n       <use x=\"53.894531\" xlink:href=\"#DejaVuSans-111\"/>\r\n       <use x=\"115.076172\" xlink:href=\"#DejaVuSans-117\"/>\r\n       <use x=\"178.455078\" xlink:href=\"#DejaVuSans-108\"/>\r\n       <use x=\"206.238281\" xlink:href=\"#DejaVuSans-115\"/>\r\n       <use x=\"258.337891\" xlink:href=\"#DejaVuSans-32\"/>\r\n       <use x=\"290.125\" xlink:href=\"#DejaVuSans-87\"/>\r\n       <use x=\"383.126953\" xlink:href=\"#DejaVuSans-111\"/>\r\n       <use x=\"444.308594\" xlink:href=\"#DejaVuSans-110\"/>\r\n      </g>\r\n     </g>\r\n    </g>\r\n    <g id=\"xtick_13\">\r\n     <g id=\"line2d_13\">\r\n      <g>\r\n       <use style=\"stroke:#000000;stroke-width:0.8;\" x=\"334.007875\" xlink:href=\"#m6f71d4e33d\" y=\"228.439219\"/>\r\n      </g>\r\n     </g>\r\n     <g id=\"text_13\">\r\n      <!-- Offsides -->\r\n      <g transform=\"translate(336.76725 276.050156)rotate(-90)scale(0.1 -0.1)\">\r\n       <defs>\r\n        <path d=\"M 39.40625 66.21875 \r\nQ 28.65625 66.21875 22.328125 58.203125 \r\nQ 16.015625 50.203125 16.015625 36.375 \r\nQ 16.015625 22.609375 22.328125 14.59375 \r\nQ 28.65625 6.59375 39.40625 6.59375 \r\nQ 50.140625 6.59375 56.421875 14.59375 \r\nQ 62.703125 22.609375 62.703125 36.375 \r\nQ 62.703125 50.203125 56.421875 58.203125 \r\nQ 50.140625 66.21875 39.40625 66.21875 \r\nz\r\nM 39.40625 74.21875 \r\nQ 54.734375 74.21875 63.90625 63.9375 \r\nQ 73.09375 53.65625 73.09375 36.375 \r\nQ 73.09375 19.140625 63.90625 8.859375 \r\nQ 54.734375 -1.421875 39.40625 -1.421875 \r\nQ 24.03125 -1.421875 14.8125 8.828125 \r\nQ 5.609375 19.09375 5.609375 36.375 \r\nQ 5.609375 53.65625 14.8125 63.9375 \r\nQ 24.03125 74.21875 39.40625 74.21875 \r\nz\r\n\" id=\"DejaVuSans-79\"/>\r\n       </defs>\r\n       <use xlink:href=\"#DejaVuSans-79\"/>\r\n       <use x=\"78.710938\" xlink:href=\"#DejaVuSans-102\"/>\r\n       <use x=\"113.916016\" xlink:href=\"#DejaVuSans-102\"/>\r\n       <use x=\"149.121094\" xlink:href=\"#DejaVuSans-115\"/>\r\n       <use x=\"201.220703\" xlink:href=\"#DejaVuSans-105\"/>\r\n       <use x=\"229.003906\" xlink:href=\"#DejaVuSans-100\"/>\r\n       <use x=\"292.480469\" xlink:href=\"#DejaVuSans-101\"/>\r\n       <use x=\"354.003906\" xlink:href=\"#DejaVuSans-115\"/>\r\n      </g>\r\n     </g>\r\n    </g>\r\n    <g id=\"xtick_14\">\r\n     <g id=\"line2d_14\">\r\n      <g>\r\n       <use style=\"stroke:#000000;stroke-width:0.8;\" x=\"351.863875\" xlink:href=\"#m6f71d4e33d\" y=\"228.439219\"/>\r\n      </g>\r\n     </g>\r\n     <g id=\"text_14\">\r\n      <!-- Red Cards -->\r\n      <g transform=\"translate(354.62325 286.222031)rotate(-90)scale(0.1 -0.1)\">\r\n       <defs>\r\n        <path d=\"M 44.390625 34.1875 \r\nQ 47.5625 33.109375 50.5625 29.59375 \r\nQ 53.5625 26.078125 56.59375 19.921875 \r\nL 66.609375 0 \r\nL 56 0 \r\nL 46.6875 18.703125 \r\nQ 43.0625 26.03125 39.671875 28.421875 \r\nQ 36.28125 30.8125 30.421875 30.8125 \r\nL 19.671875 30.8125 \r\nL 19.671875 0 \r\nL 9.8125 0 \r\nL 9.8125 72.90625 \r\nL 32.078125 72.90625 \r\nQ 44.578125 72.90625 50.734375 67.671875 \r\nQ 56.890625 62.453125 56.890625 51.90625 \r\nQ 56.890625 45.015625 53.6875 40.46875 \r\nQ 50.484375 35.9375 44.390625 34.1875 \r\nz\r\nM 19.671875 64.796875 \r\nL 19.671875 38.921875 \r\nL 32.078125 38.921875 \r\nQ 39.203125 38.921875 42.84375 42.21875 \r\nQ 46.484375 45.515625 46.484375 51.90625 \r\nQ 46.484375 58.296875 42.84375 61.546875 \r\nQ 39.203125 64.796875 32.078125 64.796875 \r\nz\r\n\" id=\"DejaVuSans-82\"/>\r\n       </defs>\r\n       <use xlink:href=\"#DejaVuSans-82\"/>\r\n       <use x=\"64.982422\" xlink:href=\"#DejaVuSans-101\"/>\r\n       <use x=\"126.505859\" xlink:href=\"#DejaVuSans-100\"/>\r\n       <use x=\"189.982422\" xlink:href=\"#DejaVuSans-32\"/>\r\n       <use x=\"221.769531\" xlink:href=\"#DejaVuSans-67\"/>\r\n       <use x=\"291.59375\" xlink:href=\"#DejaVuSans-97\"/>\r\n       <use x=\"352.873047\" xlink:href=\"#DejaVuSans-114\"/>\r\n       <use x=\"392.236328\" xlink:href=\"#DejaVuSans-100\"/>\r\n       <use x=\"455.712891\" xlink:href=\"#DejaVuSans-115\"/>\r\n      </g>\r\n     </g>\r\n    </g>\r\n    <g id=\"xtick_15\">\r\n     <g id=\"line2d_15\">\r\n      <g>\r\n       <use style=\"stroke:#000000;stroke-width:0.8;\" x=\"369.719875\" xlink:href=\"#m6f71d4e33d\" y=\"228.439219\"/>\r\n      </g>\r\n     </g>\r\n     <g id=\"text_15\">\r\n      <!-- Subs off -->\r\n      <g transform=\"translate(372.47925 276.020469)rotate(-90)scale(0.1 -0.1)\">\r\n       <use xlink:href=\"#DejaVuSans-83\"/>\r\n       <use x=\"63.476562\" xlink:href=\"#DejaVuSans-117\"/>\r\n       <use x=\"126.855469\" xlink:href=\"#DejaVuSans-98\"/>\r\n       <use x=\"190.332031\" xlink:href=\"#DejaVuSans-115\"/>\r\n       <use x=\"242.431641\" xlink:href=\"#DejaVuSans-32\"/>\r\n       <use x=\"274.21875\" xlink:href=\"#DejaVuSans-111\"/>\r\n       <use x=\"335.400391\" xlink:href=\"#DejaVuSans-102\"/>\r\n       <use x=\"370.605469\" xlink:href=\"#DejaVuSans-102\"/>\r\n      </g>\r\n     </g>\r\n    </g>\r\n   </g>\r\n   <g id=\"matplotlib.axis_2\">\r\n    <g id=\"ytick_1\">\r\n     <g id=\"line2d_16\">\r\n      <defs>\r\n       <path d=\"M 0 0 \r\nL -3.5 0 \r\n\" id=\"mcd51e4589c\" style=\"stroke:#000000;stroke-width:0.8;\"/>\r\n      </defs>\r\n      <g>\r\n       <use style=\"stroke:#000000;stroke-width:0.8;\" x=\"115.271875\" xlink:href=\"#mcd51e4589c\" y=\"14.623219\"/>\r\n      </g>\r\n     </g>\r\n     <g id=\"text_16\">\r\n      <!-- Goals -->\r\n      <g transform=\"translate(80.289062 18.422438)scale(0.1 -0.1)\">\r\n       <use xlink:href=\"#DejaVuSans-71\"/>\r\n       <use x=\"77.490234\" xlink:href=\"#DejaVuSans-111\"/>\r\n       <use x=\"138.671875\" xlink:href=\"#DejaVuSans-97\"/>\r\n       <use x=\"199.951172\" xlink:href=\"#DejaVuSans-108\"/>\r\n       <use x=\"227.734375\" xlink:href=\"#DejaVuSans-115\"/>\r\n      </g>\r\n     </g>\r\n    </g>\r\n    <g id=\"ytick_2\">\r\n     <g id=\"line2d_17\">\r\n      <g>\r\n       <use style=\"stroke:#000000;stroke-width:0.8;\" x=\"115.271875\" xlink:href=\"#mcd51e4589c\" y=\"29.119219\"/>\r\n      </g>\r\n     </g>\r\n     <g id=\"text_17\">\r\n      <!-- Shots off target -->\r\n      <g transform=\"translate(30.415625 32.918437)scale(0.1 -0.1)\">\r\n       <use xlink:href=\"#DejaVuSans-83\"/>\r\n       <use x=\"63.476562\" xlink:href=\"#DejaVuSans-104\"/>\r\n       <use x=\"126.855469\" xlink:href=\"#DejaVuSans-111\"/>\r\n       <use x=\"188.037109\" xlink:href=\"#DejaVuSans-116\"/>\r\n       <use x=\"227.246094\" xlink:href=\"#DejaVuSans-115\"/>\r\n       <use x=\"279.345703\" xlink:href=\"#DejaVuSans-32\"/>\r\n       <use x=\"311.132812\" xlink:href=\"#DejaVuSans-111\"/>\r\n       <use x=\"372.314453\" xlink:href=\"#DejaVuSans-102\"/>\r\n       <use x=\"407.519531\" xlink:href=\"#DejaVuSans-102\"/>\r\n       <use x=\"442.724609\" xlink:href=\"#DejaVuSans-32\"/>\r\n       <use x=\"474.511719\" xlink:href=\"#DejaVuSans-116\"/>\r\n       <use x=\"513.720703\" xlink:href=\"#DejaVuSans-97\"/>\r\n       <use x=\"575\" xlink:href=\"#DejaVuSans-114\"/>\r\n       <use x=\"614.363281\" xlink:href=\"#DejaVuSans-103\"/>\r\n       <use x=\"677.839844\" xlink:href=\"#DejaVuSans-101\"/>\r\n       <use x=\"739.363281\" xlink:href=\"#DejaVuSans-116\"/>\r\n      </g>\r\n     </g>\r\n    </g>\r\n    <g id=\"ytick_3\">\r\n     <g id=\"line2d_18\">\r\n      <g>\r\n       <use style=\"stroke:#000000;stroke-width:0.8;\" x=\"115.271875\" xlink:href=\"#mcd51e4589c\" y=\"43.615219\"/>\r\n      </g>\r\n     </g>\r\n     <g id=\"text_18\">\r\n      <!-- Hit Woodwork -->\r\n      <g transform=\"translate(38.790625 47.414437)scale(0.1 -0.1)\">\r\n       <use xlink:href=\"#DejaVuSans-72\"/>\r\n       <use x=\"75.195312\" xlink:href=\"#DejaVuSans-105\"/>\r\n       <use x=\"102.978516\" xlink:href=\"#DejaVuSans-116\"/>\r\n       <use x=\"142.1875\" xlink:href=\"#DejaVuSans-32\"/>\r\n       <use x=\"173.974609\" xlink:href=\"#DejaVuSans-87\"/>\r\n       <use x=\"266.976562\" xlink:href=\"#DejaVuSans-111\"/>\r\n       <use x=\"328.158203\" xlink:href=\"#DejaVuSans-111\"/>\r\n       <use x=\"389.339844\" xlink:href=\"#DejaVuSans-100\"/>\r\n       <use x=\"452.816406\" xlink:href=\"#DejaVuSans-119\"/>\r\n       <use x=\"534.603516\" xlink:href=\"#DejaVuSans-111\"/>\r\n       <use x=\"595.785156\" xlink:href=\"#DejaVuSans-114\"/>\r\n       <use x=\"636.898438\" xlink:href=\"#DejaVuSans-107\"/>\r\n      </g>\r\n     </g>\r\n    </g>\r\n    <g id=\"ytick_4\">\r\n     <g id=\"line2d_19\">\r\n      <g>\r\n       <use style=\"stroke:#000000;stroke-width:0.8;\" x=\"115.271875\" xlink:href=\"#mcd51e4589c\" y=\"58.111219\"/>\r\n      </g>\r\n     </g>\r\n     <g id=\"text_19\">\r\n      <!-- Penalties not scored -->\r\n      <g transform=\"translate(7.2 61.910438)scale(0.1 -0.1)\">\r\n       <use xlink:href=\"#DejaVuSans-80\"/>\r\n       <use x=\"56.677734\" xlink:href=\"#DejaVuSans-101\"/>\r\n       <use x=\"118.201172\" xlink:href=\"#DejaVuSans-110\"/>\r\n       <use x=\"181.580078\" xlink:href=\"#DejaVuSans-97\"/>\r\n       <use x=\"242.859375\" xlink:href=\"#DejaVuSans-108\"/>\r\n       <use x=\"270.642578\" xlink:href=\"#DejaVuSans-116\"/>\r\n       <use x=\"309.851562\" xlink:href=\"#DejaVuSans-105\"/>\r\n       <use x=\"337.634766\" xlink:href=\"#DejaVuSans-101\"/>\r\n       <use x=\"399.158203\" xlink:href=\"#DejaVuSans-115\"/>\r\n       <use x=\"451.257812\" xlink:href=\"#DejaVuSans-32\"/>\r\n       <use x=\"483.044922\" xlink:href=\"#DejaVuSans-110\"/>\r\n       <use x=\"546.423828\" xlink:href=\"#DejaVuSans-111\"/>\r\n       <use x=\"607.605469\" xlink:href=\"#DejaVuSans-116\"/>\r\n       <use x=\"646.814453\" xlink:href=\"#DejaVuSans-32\"/>\r\n       <use x=\"678.601562\" xlink:href=\"#DejaVuSans-115\"/>\r\n       <use x=\"730.701172\" xlink:href=\"#DejaVuSans-99\"/>\r\n       <use x=\"785.681641\" xlink:href=\"#DejaVuSans-111\"/>\r\n       <use x=\"846.863281\" xlink:href=\"#DejaVuSans-114\"/>\r\n       <use x=\"885.726562\" xlink:href=\"#DejaVuSans-101\"/>\r\n       <use x=\"947.25\" xlink:href=\"#DejaVuSans-100\"/>\r\n      </g>\r\n     </g>\r\n    </g>\r\n    <g id=\"ytick_5\">\r\n     <g id=\"line2d_20\">\r\n      <g>\r\n       <use style=\"stroke:#000000;stroke-width:0.8;\" x=\"115.271875\" xlink:href=\"#mcd51e4589c\" y=\"72.607219\"/>\r\n      </g>\r\n     </g>\r\n     <g id=\"text_20\">\r\n      <!-- Passes -->\r\n      <g transform=\"translate(74.782812 76.406437)scale(0.1 -0.1)\">\r\n       <use xlink:href=\"#DejaVuSans-80\"/>\r\n       <use x=\"55.802734\" xlink:href=\"#DejaVuSans-97\"/>\r\n       <use x=\"117.082031\" xlink:href=\"#DejaVuSans-115\"/>\r\n       <use x=\"169.181641\" xlink:href=\"#DejaVuSans-115\"/>\r\n       <use x=\"221.28125\" xlink:href=\"#DejaVuSans-101\"/>\r\n       <use x=\"282.804688\" xlink:href=\"#DejaVuSans-115\"/>\r\n      </g>\r\n     </g>\r\n    </g>\r\n    <g id=\"ytick_6\">\r\n     <g id=\"line2d_21\">\r\n      <g>\r\n       <use style=\"stroke:#000000;stroke-width:0.8;\" x=\"115.271875\" xlink:href=\"#mcd51e4589c\" y=\"87.103219\"/>\r\n      </g>\r\n     </g>\r\n     <g id=\"text_21\">\r\n      <!-- Touches -->\r\n      <g transform=\"translate(68.209375 90.902437)scale(0.1 -0.1)\">\r\n       <use xlink:href=\"#DejaVuSans-84\"/>\r\n       <use x=\"44.083984\" xlink:href=\"#DejaVuSans-111\"/>\r\n       <use x=\"105.265625\" xlink:href=\"#DejaVuSans-117\"/>\r\n       <use x=\"168.644531\" xlink:href=\"#DejaVuSans-99\"/>\r\n       <use x=\"223.625\" xlink:href=\"#DejaVuSans-104\"/>\r\n       <use x=\"287.003906\" xlink:href=\"#DejaVuSans-101\"/>\r\n       <use x=\"348.527344\" xlink:href=\"#DejaVuSans-115\"/>\r\n      </g>\r\n     </g>\r\n    </g>\r\n    <g id=\"ytick_7\">\r\n     <g id=\"line2d_22\">\r\n      <g>\r\n       <use style=\"stroke:#000000;stroke-width:0.8;\" x=\"115.271875\" xlink:href=\"#mcd51e4589c\" y=\"101.599219\"/>\r\n      </g>\r\n     </g>\r\n     <g id=\"text_22\">\r\n      <!-- Dribbles -->\r\n      <g transform=\"translate(66.845312 105.398437)scale(0.1 -0.1)\">\r\n       <use xlink:href=\"#DejaVuSans-68\"/>\r\n       <use x=\"77.001953\" xlink:href=\"#DejaVuSans-114\"/>\r\n       <use x=\"118.115234\" xlink:href=\"#DejaVuSans-105\"/>\r\n       <use x=\"145.898438\" xlink:href=\"#DejaVuSans-98\"/>\r\n       <use x=\"209.375\" xlink:href=\"#DejaVuSans-98\"/>\r\n       <use x=\"272.851562\" xlink:href=\"#DejaVuSans-108\"/>\r\n       <use x=\"300.634766\" xlink:href=\"#DejaVuSans-101\"/>\r\n       <use x=\"362.158203\" xlink:href=\"#DejaVuSans-115\"/>\r\n      </g>\r\n     </g>\r\n    </g>\r\n    <g id=\"ytick_8\">\r\n     <g id=\"line2d_23\">\r\n      <g>\r\n       <use style=\"stroke:#000000;stroke-width:0.8;\" x=\"115.271875\" xlink:href=\"#mcd51e4589c\" y=\"116.095219\"/>\r\n      </g>\r\n     </g>\r\n     <g id=\"text_23\">\r\n      <!-- Tackles -->\r\n      <g transform=\"translate(72.25625 119.894437)scale(0.1 -0.1)\">\r\n       <use xlink:href=\"#DejaVuSans-84\"/>\r\n       <use x=\"44.583984\" xlink:href=\"#DejaVuSans-97\"/>\r\n       <use x=\"105.863281\" xlink:href=\"#DejaVuSans-99\"/>\r\n       <use x=\"160.84375\" xlink:href=\"#DejaVuSans-107\"/>\r\n       <use x=\"218.753906\" xlink:href=\"#DejaVuSans-108\"/>\r\n       <use x=\"246.537109\" xlink:href=\"#DejaVuSans-101\"/>\r\n       <use x=\"308.060547\" xlink:href=\"#DejaVuSans-115\"/>\r\n      </g>\r\n     </g>\r\n    </g>\r\n    <g id=\"ytick_9\">\r\n     <g id=\"line2d_24\">\r\n      <g>\r\n       <use style=\"stroke:#000000;stroke-width:0.8;\" x=\"115.271875\" xlink:href=\"#mcd51e4589c\" y=\"130.591219\"/>\r\n      </g>\r\n     </g>\r\n     <g id=\"text_24\">\r\n      <!-- Interceptions -->\r\n      <g transform=\"translate(42.660937 134.390437)scale(0.1 -0.1)\">\r\n       <use xlink:href=\"#DejaVuSans-73\"/>\r\n       <use x=\"29.492188\" xlink:href=\"#DejaVuSans-110\"/>\r\n       <use x=\"92.871094\" xlink:href=\"#DejaVuSans-116\"/>\r\n       <use x=\"132.080078\" xlink:href=\"#DejaVuSans-101\"/>\r\n       <use x=\"193.603516\" xlink:href=\"#DejaVuSans-114\"/>\r\n       <use x=\"232.466797\" xlink:href=\"#DejaVuSans-99\"/>\r\n       <use x=\"287.447266\" xlink:href=\"#DejaVuSans-101\"/>\r\n       <use x=\"348.970703\" xlink:href=\"#DejaVuSans-112\"/>\r\n       <use x=\"412.447266\" xlink:href=\"#DejaVuSans-116\"/>\r\n       <use x=\"451.65625\" xlink:href=\"#DejaVuSans-105\"/>\r\n       <use x=\"479.439453\" xlink:href=\"#DejaVuSans-111\"/>\r\n       <use x=\"540.621094\" xlink:href=\"#DejaVuSans-110\"/>\r\n       <use x=\"604\" xlink:href=\"#DejaVuSans-115\"/>\r\n      </g>\r\n     </g>\r\n    </g>\r\n    <g id=\"ytick_10\">\r\n     <g id=\"line2d_25\">\r\n      <g>\r\n       <use style=\"stroke:#000000;stroke-width:0.8;\" x=\"115.271875\" xlink:href=\"#mcd51e4589c\" y=\"145.087219\"/>\r\n      </g>\r\n     </g>\r\n     <g id=\"text_25\">\r\n      <!-- Clean Sheets -->\r\n      <g transform=\"translate(42.592187 148.886437)scale(0.1 -0.1)\">\r\n       <use xlink:href=\"#DejaVuSans-67\"/>\r\n       <use x=\"69.824219\" xlink:href=\"#DejaVuSans-108\"/>\r\n       <use x=\"97.607422\" xlink:href=\"#DejaVuSans-101\"/>\r\n       <use x=\"159.130859\" xlink:href=\"#DejaVuSans-97\"/>\r\n       <use x=\"220.410156\" xlink:href=\"#DejaVuSans-110\"/>\r\n       <use x=\"283.789062\" xlink:href=\"#DejaVuSans-32\"/>\r\n       <use x=\"315.576172\" xlink:href=\"#DejaVuSans-83\"/>\r\n       <use x=\"379.052734\" xlink:href=\"#DejaVuSans-104\"/>\r\n       <use x=\"442.431641\" xlink:href=\"#DejaVuSans-101\"/>\r\n       <use x=\"503.955078\" xlink:href=\"#DejaVuSans-101\"/>\r\n       <use x=\"565.478516\" xlink:href=\"#DejaVuSans-116\"/>\r\n       <use x=\"604.6875\" xlink:href=\"#DejaVuSans-115\"/>\r\n      </g>\r\n     </g>\r\n    </g>\r\n    <g id=\"ytick_11\">\r\n     <g id=\"line2d_26\">\r\n      <g>\r\n       <use style=\"stroke:#000000;stroke-width:0.8;\" x=\"115.271875\" xlink:href=\"#mcd51e4589c\" y=\"159.583219\"/>\r\n      </g>\r\n     </g>\r\n     <g id=\"text_26\">\r\n      <!-- Goals conceded -->\r\n      <g transform=\"translate(28.654687 163.382437)scale(0.1 -0.1)\">\r\n       <use xlink:href=\"#DejaVuSans-71\"/>\r\n       <use x=\"77.490234\" xlink:href=\"#DejaVuSans-111\"/>\r\n       <use x=\"138.671875\" xlink:href=\"#DejaVuSans-97\"/>\r\n       <use x=\"199.951172\" xlink:href=\"#DejaVuSans-108\"/>\r\n       <use x=\"227.734375\" xlink:href=\"#DejaVuSans-115\"/>\r\n       <use x=\"279.833984\" xlink:href=\"#DejaVuSans-32\"/>\r\n       <use x=\"311.621094\" xlink:href=\"#DejaVuSans-99\"/>\r\n       <use x=\"366.601562\" xlink:href=\"#DejaVuSans-111\"/>\r\n       <use x=\"427.783203\" xlink:href=\"#DejaVuSans-110\"/>\r\n       <use x=\"491.162109\" xlink:href=\"#DejaVuSans-99\"/>\r\n       <use x=\"546.142578\" xlink:href=\"#DejaVuSans-101\"/>\r\n       <use x=\"607.666016\" xlink:href=\"#DejaVuSans-100\"/>\r\n       <use x=\"671.142578\" xlink:href=\"#DejaVuSans-101\"/>\r\n       <use x=\"732.666016\" xlink:href=\"#DejaVuSans-100\"/>\r\n      </g>\r\n     </g>\r\n    </g>\r\n    <g id=\"ytick_12\">\r\n     <g id=\"line2d_27\">\r\n      <g>\r\n       <use style=\"stroke:#000000;stroke-width:0.8;\" x=\"115.271875\" xlink:href=\"#mcd51e4589c\" y=\"174.079219\"/>\r\n      </g>\r\n     </g>\r\n     <g id=\"text_27\">\r\n      <!-- Fouls Won -->\r\n      <g transform=\"translate(57.504687 177.878437)scale(0.1 -0.1)\">\r\n       <use xlink:href=\"#DejaVuSans-70\"/>\r\n       <use x=\"53.894531\" xlink:href=\"#DejaVuSans-111\"/>\r\n       <use x=\"115.076172\" xlink:href=\"#DejaVuSans-117\"/>\r\n       <use x=\"178.455078\" xlink:href=\"#DejaVuSans-108\"/>\r\n       <use x=\"206.238281\" xlink:href=\"#DejaVuSans-115\"/>\r\n       <use x=\"258.337891\" xlink:href=\"#DejaVuSans-32\"/>\r\n       <use x=\"290.125\" xlink:href=\"#DejaVuSans-87\"/>\r\n       <use x=\"383.126953\" xlink:href=\"#DejaVuSans-111\"/>\r\n       <use x=\"444.308594\" xlink:href=\"#DejaVuSans-110\"/>\r\n      </g>\r\n     </g>\r\n    </g>\r\n    <g id=\"ytick_13\">\r\n     <g id=\"line2d_28\">\r\n      <g>\r\n       <use style=\"stroke:#000000;stroke-width:0.8;\" x=\"115.271875\" xlink:href=\"#mcd51e4589c\" y=\"188.575219\"/>\r\n      </g>\r\n     </g>\r\n     <g id=\"text_28\">\r\n      <!-- Offsides -->\r\n      <g transform=\"translate(67.660937 192.374437)scale(0.1 -0.1)\">\r\n       <use xlink:href=\"#DejaVuSans-79\"/>\r\n       <use x=\"78.710938\" xlink:href=\"#DejaVuSans-102\"/>\r\n       <use x=\"113.916016\" xlink:href=\"#DejaVuSans-102\"/>\r\n       <use x=\"149.121094\" xlink:href=\"#DejaVuSans-115\"/>\r\n       <use x=\"201.220703\" xlink:href=\"#DejaVuSans-105\"/>\r\n       <use x=\"229.003906\" xlink:href=\"#DejaVuSans-100\"/>\r\n       <use x=\"292.480469\" xlink:href=\"#DejaVuSans-101\"/>\r\n       <use x=\"354.003906\" xlink:href=\"#DejaVuSans-115\"/>\r\n      </g>\r\n     </g>\r\n    </g>\r\n    <g id=\"ytick_14\">\r\n     <g id=\"line2d_29\">\r\n      <g>\r\n       <use style=\"stroke:#000000;stroke-width:0.8;\" x=\"115.271875\" xlink:href=\"#mcd51e4589c\" y=\"203.071219\"/>\r\n      </g>\r\n     </g>\r\n     <g id=\"text_29\">\r\n      <!-- Red Cards -->\r\n      <g transform=\"translate(57.489062 206.870437)scale(0.1 -0.1)\">\r\n       <use xlink:href=\"#DejaVuSans-82\"/>\r\n       <use x=\"64.982422\" xlink:href=\"#DejaVuSans-101\"/>\r\n       <use x=\"126.505859\" xlink:href=\"#DejaVuSans-100\"/>\r\n       <use x=\"189.982422\" xlink:href=\"#DejaVuSans-32\"/>\r\n       <use x=\"221.769531\" xlink:href=\"#DejaVuSans-67\"/>\r\n       <use x=\"291.59375\" xlink:href=\"#DejaVuSans-97\"/>\r\n       <use x=\"352.873047\" xlink:href=\"#DejaVuSans-114\"/>\r\n       <use x=\"392.236328\" xlink:href=\"#DejaVuSans-100\"/>\r\n       <use x=\"455.712891\" xlink:href=\"#DejaVuSans-115\"/>\r\n      </g>\r\n     </g>\r\n    </g>\r\n    <g id=\"ytick_15\">\r\n     <g id=\"line2d_30\">\r\n      <g>\r\n       <use style=\"stroke:#000000;stroke-width:0.8;\" x=\"115.271875\" xlink:href=\"#mcd51e4589c\" y=\"217.567219\"/>\r\n      </g>\r\n     </g>\r\n     <g id=\"text_30\">\r\n      <!-- Subs off -->\r\n      <g transform=\"translate(67.690625 221.366437)scale(0.1 -0.1)\">\r\n       <use xlink:href=\"#DejaVuSans-83\"/>\r\n       <use x=\"63.476562\" xlink:href=\"#DejaVuSans-117\"/>\r\n       <use x=\"126.855469\" xlink:href=\"#DejaVuSans-98\"/>\r\n       <use x=\"190.332031\" xlink:href=\"#DejaVuSans-115\"/>\r\n       <use x=\"242.431641\" xlink:href=\"#DejaVuSans-32\"/>\r\n       <use x=\"274.21875\" xlink:href=\"#DejaVuSans-111\"/>\r\n       <use x=\"335.400391\" xlink:href=\"#DejaVuSans-102\"/>\r\n       <use x=\"370.605469\" xlink:href=\"#DejaVuSans-102\"/>\r\n      </g>\r\n     </g>\r\n    </g>\r\n   </g>\r\n  </g>\r\n  <g id=\"axes_2\">\r\n   <g id=\"patch_3\">\r\n    <path clip-path=\"url(#p3e7fe94094)\" d=\"M 399.851875 228.439219 \r\nL 399.851875 227.589844 \r\nL 399.851875 11.848594 \r\nL 399.851875 10.999219 \r\nL 410.723875 10.999219 \r\nL 410.723875 11.848594 \r\nL 410.723875 227.589844 \r\nL 410.723875 228.439219 \r\nz\r\n\" style=\"fill:#ffffff;stroke:#ffffff;stroke-linejoin:miter;stroke-width:0.01;\"/>\r\n   </g>\r\n   <image height=\"218\" id=\"image8f0b04d080\" transform=\"scale(1 -1)translate(0 -218)\" width=\"11\" x=\"400\" xlink:href=\"data:image/png;base64,\r\niVBORw0KGgoAAAANSUhEUgAAAAsAAADaCAYAAABwzrisAAABV0lEQVR4nN3aQW7DMAxEUVF0LtH7n7PpFfgWA9D1mhh8zpCyI6T68/M9w+e5VdPa8xQVn5SyMQtG3wsYSxokZWG+JW7sYCblrgZlsy41osHhz8VNDebWKjf8S5gt7n+eIA7/Coz5zL00bmowh4Fxz59g3DnlfmXcoIwNgvJcN2wdFD/fFRi5sw7dgOJkg1IszPNvXI5bMF7pRnA25tKGYQfjVzBEeYkbTcpz4fPUFmUobthYZCZlKaZB6vubwgCOpBuCQW4U7BW6Ycop624LxhI3pBgbHNdiKKZsbohyzg0pPkuUH8KAj21sMKYM7ytTPsKMDaaKq8kNwkgpB61ruOdH5pjPcv8sP2uSGEuss7gFQ64NcVOkONag7aDNxg43ljDnBqnnb3plzrlBZ500uIQ5plz9SWG80I2Tc4NCkf8VBLfbQllxipbFTWfdCxu02ZgPv9ztnT+fcSsluH8ItwAAAABJRU5ErkJggg==\" y=\"-10\"/>\r\n   <g id=\"matplotlib.axis_3\"/>\r\n   <g id=\"matplotlib.axis_4\">\r\n    <g id=\"ytick_16\">\r\n     <g id=\"line2d_31\">\r\n      <defs>\r\n       <path d=\"M 0 0 \r\nL 3.5 0 \r\n\" id=\"md3386fc783\" style=\"stroke:#000000;stroke-width:0.8;\"/>\r\n      </defs>\r\n      <g>\r\n       <use style=\"stroke:#000000;stroke-width:0.8;\" x=\"410.723875\" xlink:href=\"#md3386fc783\" y=\"216.534294\"/>\r\n      </g>\r\n     </g>\r\n     <g id=\"text_31\">\r\n      <!-- −0.4 -->\r\n      <g transform=\"translate(417.723875 220.333513)scale(0.1 -0.1)\">\r\n       <defs>\r\n        <path d=\"M 10.59375 35.5 \r\nL 73.1875 35.5 \r\nL 73.1875 27.203125 \r\nL 10.59375 27.203125 \r\nz\r\n\" id=\"DejaVuSans-8722\"/>\r\n        <path d=\"M 31.78125 66.40625 \r\nQ 24.171875 66.40625 20.328125 58.90625 \r\nQ 16.5 51.421875 16.5 36.375 \r\nQ 16.5 21.390625 20.328125 13.890625 \r\nQ 24.171875 6.390625 31.78125 6.390625 \r\nQ 39.453125 6.390625 43.28125 13.890625 \r\nQ 47.125 21.390625 47.125 36.375 \r\nQ 47.125 51.421875 43.28125 58.90625 \r\nQ 39.453125 66.40625 31.78125 66.40625 \r\nz\r\nM 31.78125 74.21875 \r\nQ 44.046875 74.21875 50.515625 64.515625 \r\nQ 56.984375 54.828125 56.984375 36.375 \r\nQ 56.984375 17.96875 50.515625 8.265625 \r\nQ 44.046875 -1.421875 31.78125 -1.421875 \r\nQ 19.53125 -1.421875 13.0625 8.265625 \r\nQ 6.59375 17.96875 6.59375 36.375 \r\nQ 6.59375 54.828125 13.0625 64.515625 \r\nQ 19.53125 74.21875 31.78125 74.21875 \r\nz\r\n\" id=\"DejaVuSans-48\"/>\r\n        <path d=\"M 10.6875 12.40625 \r\nL 21 12.40625 \r\nL 21 0 \r\nL 10.6875 0 \r\nz\r\n\" id=\"DejaVuSans-46\"/>\r\n        <path d=\"M 37.796875 64.3125 \r\nL 12.890625 25.390625 \r\nL 37.796875 25.390625 \r\nz\r\nM 35.203125 72.90625 \r\nL 47.609375 72.90625 \r\nL 47.609375 25.390625 \r\nL 58.015625 25.390625 \r\nL 58.015625 17.1875 \r\nL 47.609375 17.1875 \r\nL 47.609375 0 \r\nL 37.796875 0 \r\nL 37.796875 17.1875 \r\nL 4.890625 17.1875 \r\nL 4.890625 26.703125 \r\nz\r\n\" id=\"DejaVuSans-52\"/>\r\n       </defs>\r\n       <use xlink:href=\"#DejaVuSans-8722\"/>\r\n       <use x=\"83.789062\" xlink:href=\"#DejaVuSans-48\"/>\r\n       <use x=\"147.412109\" xlink:href=\"#DejaVuSans-46\"/>\r\n       <use x=\"179.199219\" xlink:href=\"#DejaVuSans-52\"/>\r\n      </g>\r\n     </g>\r\n    </g>\r\n    <g id=\"ytick_17\">\r\n     <g id=\"line2d_32\">\r\n      <g>\r\n       <use style=\"stroke:#000000;stroke-width:0.8;\" x=\"410.723875\" xlink:href=\"#md3386fc783\" y=\"187.17214\"/>\r\n      </g>\r\n     </g>\r\n     <g id=\"text_32\">\r\n      <!-- −0.2 -->\r\n      <g transform=\"translate(417.723875 190.971359)scale(0.1 -0.1)\">\r\n       <defs>\r\n        <path d=\"M 19.1875 8.296875 \r\nL 53.609375 8.296875 \r\nL 53.609375 0 \r\nL 7.328125 0 \r\nL 7.328125 8.296875 \r\nQ 12.9375 14.109375 22.625 23.890625 \r\nQ 32.328125 33.6875 34.8125 36.53125 \r\nQ 39.546875 41.84375 41.421875 45.53125 \r\nQ 43.3125 49.21875 43.3125 52.78125 \r\nQ 43.3125 58.59375 39.234375 62.25 \r\nQ 35.15625 65.921875 28.609375 65.921875 \r\nQ 23.96875 65.921875 18.8125 64.3125 \r\nQ 13.671875 62.703125 7.8125 59.421875 \r\nL 7.8125 69.390625 \r\nQ 13.765625 71.78125 18.9375 73 \r\nQ 24.125 74.21875 28.421875 74.21875 \r\nQ 39.75 74.21875 46.484375 68.546875 \r\nQ 53.21875 62.890625 53.21875 53.421875 \r\nQ 53.21875 48.921875 51.53125 44.890625 \r\nQ 49.859375 40.875 45.40625 35.40625 \r\nQ 44.1875 33.984375 37.640625 27.21875 \r\nQ 31.109375 20.453125 19.1875 8.296875 \r\nz\r\n\" id=\"DejaVuSans-50\"/>\r\n       </defs>\r\n       <use xlink:href=\"#DejaVuSans-8722\"/>\r\n       <use x=\"83.789062\" xlink:href=\"#DejaVuSans-48\"/>\r\n       <use x=\"147.412109\" xlink:href=\"#DejaVuSans-46\"/>\r\n       <use x=\"179.199219\" xlink:href=\"#DejaVuSans-50\"/>\r\n      </g>\r\n     </g>\r\n    </g>\r\n    <g id=\"ytick_18\">\r\n     <g id=\"line2d_33\">\r\n      <g>\r\n       <use style=\"stroke:#000000;stroke-width:0.8;\" x=\"410.723875\" xlink:href=\"#md3386fc783\" y=\"157.809987\"/>\r\n      </g>\r\n     </g>\r\n     <g id=\"text_33\">\r\n      <!-- 0.0 -->\r\n      <g transform=\"translate(417.723875 161.609206)scale(0.1 -0.1)\">\r\n       <use xlink:href=\"#DejaVuSans-48\"/>\r\n       <use x=\"63.623047\" xlink:href=\"#DejaVuSans-46\"/>\r\n       <use x=\"95.410156\" xlink:href=\"#DejaVuSans-48\"/>\r\n      </g>\r\n     </g>\r\n    </g>\r\n    <g id=\"ytick_19\">\r\n     <g id=\"line2d_34\">\r\n      <g>\r\n       <use style=\"stroke:#000000;stroke-width:0.8;\" x=\"410.723875\" xlink:href=\"#md3386fc783\" y=\"128.447833\"/>\r\n      </g>\r\n     </g>\r\n     <g id=\"text_34\">\r\n      <!-- 0.2 -->\r\n      <g transform=\"translate(417.723875 132.247052)scale(0.1 -0.1)\">\r\n       <use xlink:href=\"#DejaVuSans-48\"/>\r\n       <use x=\"63.623047\" xlink:href=\"#DejaVuSans-46\"/>\r\n       <use x=\"95.410156\" xlink:href=\"#DejaVuSans-50\"/>\r\n      </g>\r\n     </g>\r\n    </g>\r\n    <g id=\"ytick_20\">\r\n     <g id=\"line2d_35\">\r\n      <g>\r\n       <use style=\"stroke:#000000;stroke-width:0.8;\" x=\"410.723875\" xlink:href=\"#md3386fc783\" y=\"99.08568\"/>\r\n      </g>\r\n     </g>\r\n     <g id=\"text_35\">\r\n      <!-- 0.4 -->\r\n      <g transform=\"translate(417.723875 102.884898)scale(0.1 -0.1)\">\r\n       <use xlink:href=\"#DejaVuSans-48\"/>\r\n       <use x=\"63.623047\" xlink:href=\"#DejaVuSans-46\"/>\r\n       <use x=\"95.410156\" xlink:href=\"#DejaVuSans-52\"/>\r\n      </g>\r\n     </g>\r\n    </g>\r\n    <g id=\"ytick_21\">\r\n     <g id=\"line2d_36\">\r\n      <g>\r\n       <use style=\"stroke:#000000;stroke-width:0.8;\" x=\"410.723875\" xlink:href=\"#md3386fc783\" y=\"69.723526\"/>\r\n      </g>\r\n     </g>\r\n     <g id=\"text_36\">\r\n      <!-- 0.6 -->\r\n      <g transform=\"translate(417.723875 73.522745)scale(0.1 -0.1)\">\r\n       <defs>\r\n        <path d=\"M 33.015625 40.375 \r\nQ 26.375 40.375 22.484375 35.828125 \r\nQ 18.609375 31.296875 18.609375 23.390625 \r\nQ 18.609375 15.53125 22.484375 10.953125 \r\nQ 26.375 6.390625 33.015625 6.390625 \r\nQ 39.65625 6.390625 43.53125 10.953125 \r\nQ 47.40625 15.53125 47.40625 23.390625 \r\nQ 47.40625 31.296875 43.53125 35.828125 \r\nQ 39.65625 40.375 33.015625 40.375 \r\nz\r\nM 52.59375 71.296875 \r\nL 52.59375 62.3125 \r\nQ 48.875 64.0625 45.09375 64.984375 \r\nQ 41.3125 65.921875 37.59375 65.921875 \r\nQ 27.828125 65.921875 22.671875 59.328125 \r\nQ 17.53125 52.734375 16.796875 39.40625 \r\nQ 19.671875 43.65625 24.015625 45.921875 \r\nQ 28.375 48.1875 33.59375 48.1875 \r\nQ 44.578125 48.1875 50.953125 41.515625 \r\nQ 57.328125 34.859375 57.328125 23.390625 \r\nQ 57.328125 12.15625 50.6875 5.359375 \r\nQ 44.046875 -1.421875 33.015625 -1.421875 \r\nQ 20.359375 -1.421875 13.671875 8.265625 \r\nQ 6.984375 17.96875 6.984375 36.375 \r\nQ 6.984375 53.65625 15.1875 63.9375 \r\nQ 23.390625 74.21875 37.203125 74.21875 \r\nQ 40.921875 74.21875 44.703125 73.484375 \r\nQ 48.484375 72.75 52.59375 71.296875 \r\nz\r\n\" id=\"DejaVuSans-54\"/>\r\n       </defs>\r\n       <use xlink:href=\"#DejaVuSans-48\"/>\r\n       <use x=\"63.623047\" xlink:href=\"#DejaVuSans-46\"/>\r\n       <use x=\"95.410156\" xlink:href=\"#DejaVuSans-54\"/>\r\n      </g>\r\n     </g>\r\n    </g>\r\n    <g id=\"ytick_22\">\r\n     <g id=\"line2d_37\">\r\n      <g>\r\n       <use style=\"stroke:#000000;stroke-width:0.8;\" x=\"410.723875\" xlink:href=\"#md3386fc783\" y=\"40.361372\"/>\r\n      </g>\r\n     </g>\r\n     <g id=\"text_37\">\r\n      <!-- 0.8 -->\r\n      <g transform=\"translate(417.723875 44.160591)scale(0.1 -0.1)\">\r\n       <defs>\r\n        <path d=\"M 31.78125 34.625 \r\nQ 24.75 34.625 20.71875 30.859375 \r\nQ 16.703125 27.09375 16.703125 20.515625 \r\nQ 16.703125 13.921875 20.71875 10.15625 \r\nQ 24.75 6.390625 31.78125 6.390625 \r\nQ 38.8125 6.390625 42.859375 10.171875 \r\nQ 46.921875 13.96875 46.921875 20.515625 \r\nQ 46.921875 27.09375 42.890625 30.859375 \r\nQ 38.875 34.625 31.78125 34.625 \r\nz\r\nM 21.921875 38.8125 \r\nQ 15.578125 40.375 12.03125 44.71875 \r\nQ 8.5 49.078125 8.5 55.328125 \r\nQ 8.5 64.0625 14.71875 69.140625 \r\nQ 20.953125 74.21875 31.78125 74.21875 \r\nQ 42.671875 74.21875 48.875 69.140625 \r\nQ 55.078125 64.0625 55.078125 55.328125 \r\nQ 55.078125 49.078125 51.53125 44.71875 \r\nQ 48 40.375 41.703125 38.8125 \r\nQ 48.828125 37.15625 52.796875 32.3125 \r\nQ 56.78125 27.484375 56.78125 20.515625 \r\nQ 56.78125 9.90625 50.3125 4.234375 \r\nQ 43.84375 -1.421875 31.78125 -1.421875 \r\nQ 19.734375 -1.421875 13.25 4.234375 \r\nQ 6.78125 9.90625 6.78125 20.515625 \r\nQ 6.78125 27.484375 10.78125 32.3125 \r\nQ 14.796875 37.15625 21.921875 38.8125 \r\nz\r\nM 18.3125 54.390625 \r\nQ 18.3125 48.734375 21.84375 45.5625 \r\nQ 25.390625 42.390625 31.78125 42.390625 \r\nQ 38.140625 42.390625 41.71875 45.5625 \r\nQ 45.3125 48.734375 45.3125 54.390625 \r\nQ 45.3125 60.0625 41.71875 63.234375 \r\nQ 38.140625 66.40625 31.78125 66.40625 \r\nQ 25.390625 66.40625 21.84375 63.234375 \r\nQ 18.3125 60.0625 18.3125 54.390625 \r\nz\r\n\" id=\"DejaVuSans-56\"/>\r\n       </defs>\r\n       <use xlink:href=\"#DejaVuSans-48\"/>\r\n       <use x=\"63.623047\" xlink:href=\"#DejaVuSans-46\"/>\r\n       <use x=\"95.410156\" xlink:href=\"#DejaVuSans-56\"/>\r\n      </g>\r\n     </g>\r\n    </g>\r\n    <g id=\"ytick_23\">\r\n     <g id=\"line2d_38\">\r\n      <g>\r\n       <use style=\"stroke:#000000;stroke-width:0.8;\" x=\"410.723875\" xlink:href=\"#md3386fc783\" y=\"10.999219\"/>\r\n      </g>\r\n     </g>\r\n     <g id=\"text_38\">\r\n      <!-- 1.0 -->\r\n      <g transform=\"translate(417.723875 14.798437)scale(0.1 -0.1)\">\r\n       <defs>\r\n        <path d=\"M 12.40625 8.296875 \r\nL 28.515625 8.296875 \r\nL 28.515625 63.921875 \r\nL 10.984375 60.40625 \r\nL 10.984375 69.390625 \r\nL 28.421875 72.90625 \r\nL 38.28125 72.90625 \r\nL 38.28125 8.296875 \r\nL 54.390625 8.296875 \r\nL 54.390625 0 \r\nL 12.40625 0 \r\nz\r\n\" id=\"DejaVuSans-49\"/>\r\n       </defs>\r\n       <use xlink:href=\"#DejaVuSans-49\"/>\r\n       <use x=\"63.623047\" xlink:href=\"#DejaVuSans-46\"/>\r\n       <use x=\"95.410156\" xlink:href=\"#DejaVuSans-48\"/>\r\n      </g>\r\n     </g>\r\n    </g>\r\n   </g>\r\n   <g id=\"patch_4\">\r\n    <path d=\"M 399.851875 228.439219 \r\nL 399.851875 227.589844 \r\nL 399.851875 11.848594 \r\nL 399.851875 10.999219 \r\nL 410.723875 10.999219 \r\nL 410.723875 11.848594 \r\nL 410.723875 227.589844 \r\nL 410.723875 228.439219 \r\nz\r\n\" style=\"fill:none;\"/>\r\n   </g>\r\n  </g>\r\n </g>\r\n <defs>\r\n  <clipPath id=\"p121c82ebf5\">\r\n   <rect height=\"217.44\" width=\"267.84\" x=\"115.271875\" y=\"10.999219\"/>\r\n  </clipPath>\r\n  <clipPath id=\"p3e7fe94094\">\r\n   <rect height=\"217.44\" width=\"10.872\" x=\"399.851875\" y=\"10.999219\"/>\r\n  </clipPath>\r\n </defs>\r\n</svg>\r\n",
      "image/png": "[encoded data removed]"
     },
     "metadata": {
      "needs_background": "light"
     }
    }
   ],
   "source": [
    "import seaborn as sns \n",
    "sns.heatmap( df.corr())"
   ]
  },
  {
   "cell_type": "code",
   "execution_count": null,
   "metadata": {},
   "outputs": [],
   "source": []
  },
  {
   "cell_type": "code",
   "execution_count": 8,
   "metadata": {},
   "outputs": [
    {
     "output_type": "display_data",
     "data": {
      "application/vnd.plotly.v1+json": {
       "config": {
        "plotlyServerURL": "https://plot.ly"
       },
       "data": [
        {
         "hovertemplate": "Shooting Accuracy=%{x}<br>Goals=%{y}<extra></extra>",
         "legendgroup": "",
         "marker": {
          "color": "#636efa",
          "symbol": "circle"
         },
         "mode": "markers",
         "name": "",
         "orientation": "v",
         "showlegend": false,
         "type": "scatter",
         "x": [
          "51.9%",
          "41.9%",
          "50.0%",
          "50.0%",
          "37.9%",
          "47.8%",
          "30.7%",
          "43.0%",
          "25.0%",
          "39.4%",
          "34.3%",
          "36.8%",
          "22.5%",
          "55.9%",
          "47.2%",
          "21.2%"
         ],
         "xaxis": "x",
         "y": [
          4,
          4,
          4,
          5,
          3,
          10,
          5,
          6,
          2,
          2,
          6,
          1,
          5,
          12,
          5,
          2
         ],
         "yaxis": "y"
        }
       ],
       "layout": {
        "legend": {
         "tracegroupgap": 0
        },
        "margin": {
         "t": 60
        },
        "template": {
         "data": {
          "bar": [
           {
            "error_x": {
             "color": "#2a3f5f"
            },
            "error_y": {
             "color": "#2a3f5f"
            },
            "marker": {
             "line": {
              "color": "#E5ECF6",
              "width": 0.5
             }
            },
            "type": "bar"
           }
          ],
          "barpolar": [
           {
            "marker": {
             "line": {
              "color": "#E5ECF6",
              "width": 0.5
             }
            },
            "type": "barpolar"
           }
          ],
          "carpet": [
           {
            "aaxis": {
             "endlinecolor": "#2a3f5f",
             "gridcolor": "white",
             "linecolor": "white",
             "minorgridcolor": "white",
             "startlinecolor": "#2a3f5f"
            },
            "baxis": {
             "endlinecolor": "#2a3f5f",
             "gridcolor": "white",
             "linecolor": "white",
             "minorgridcolor": "white",
             "startlinecolor": "#2a3f5f"
            },
            "type": "carpet"
           }
          ],
          "choropleth": [
           {
            "colorbar": {
             "outlinewidth": 0,
             "ticks": ""
            },
            "type": "choropleth"
           }
          ],
          "contour": [
           {
            "colorbar": {
             "outlinewidth": 0,
             "ticks": ""
            },
            "colorscale": [
             [
              0,
              "#0d0887"
             ],
             [
              0.1111111111111111,
              "#46039f"
             ],
             [
              0.2222222222222222,
              "#7201a8"
             ],
             [
              0.3333333333333333,
              "#9c179e"
             ],
             [
              0.4444444444444444,
              "#bd3786"
             ],
             [
              0.5555555555555556,
              "#d8576b"
             ],
             [
              0.6666666666666666,
              "#ed7953"
             ],
             [
              0.7777777777777778,
              "#fb9f3a"
             ],
             [
              0.8888888888888888,
              "#fdca26"
             ],
             [
              1,
              "#f0f921"
             ]
            ],
            "type": "contour"
           }
          ],
          "contourcarpet": [
           {
            "colorbar": {
             "outlinewidth": 0,
             "ticks": ""
            },
            "type": "contourcarpet"
           }
          ],
          "heatmap": [
           {
            "colorbar": {
             "outlinewidth": 0,
             "ticks": ""
            },
            "colorscale": [
             [
              0,
              "#0d0887"
             ],
             [
              0.1111111111111111,
              "#46039f"
             ],
             [
              0.2222222222222222,
              "#7201a8"
             ],
             [
              0.3333333333333333,
              "#9c179e"
             ],
             [
              0.4444444444444444,
              "#bd3786"
             ],
             [
              0.5555555555555556,
              "#d8576b"
             ],
             [
              0.6666666666666666,
              "#ed7953"
             ],
             [
              0.7777777777777778,
              "#fb9f3a"
             ],
             [
              0.8888888888888888,
              "#fdca26"
             ],
             [
              1,
              "#f0f921"
             ]
            ],
            "type": "heatmap"
           }
          ],
          "heatmapgl": [
           {
            "colorbar": {
             "outlinewidth": 0,
             "ticks": ""
            },
            "colorscale": [
             [
              0,
              "#0d0887"
             ],
             [
              0.1111111111111111,
              "#46039f"
             ],
             [
              0.2222222222222222,
              "#7201a8"
             ],
             [
              0.3333333333333333,
              "#9c179e"
             ],
             [
              0.4444444444444444,
              "#bd3786"
             ],
             [
              0.5555555555555556,
              "#d8576b"
             ],
             [
              0.6666666666666666,
              "#ed7953"
             ],
             [
              0.7777777777777778,
              "#fb9f3a"
             ],
             [
              0.8888888888888888,
              "#fdca26"
             ],
             [
              1,
              "#f0f921"
             ]
            ],
            "type": "heatmapgl"
           }
          ],
          "histogram": [
           {
            "marker": {
             "colorbar": {
              "outlinewidth": 0,
              "ticks": ""
             }
            },
            "type": "histogram"
           }
          ],
          "histogram2d": [
           {
            "colorbar": {
             "outlinewidth": 0,
             "ticks": ""
            },
            "colorscale": [
             [
              0,
              "#0d0887"
             ],
             [
              0.1111111111111111,
              "#46039f"
             ],
             [
              0.2222222222222222,
              "#7201a8"
             ],
             [
              0.3333333333333333,
              "#9c179e"
             ],
             [
              0.4444444444444444,
              "#bd3786"
             ],
             [
              0.5555555555555556,
              "#d8576b"
             ],
             [
              0.6666666666666666,
              "#ed7953"
             ],
             [
              0.7777777777777778,
              "#fb9f3a"
             ],
             [
              0.8888888888888888,
              "#fdca26"
             ],
             [
              1,
              "#f0f921"
             ]
            ],
            "type": "histogram2d"
           }
          ],
          "histogram2dcontour": [
           {
            "colorbar": {
             "outlinewidth": 0,
             "ticks": ""
            },
            "colorscale": [
             [
              0,
              "#0d0887"
             ],
             [
              0.1111111111111111,
              "#46039f"
             ],
             [
              0.2222222222222222,
              "#7201a8"
             ],
             [
              0.3333333333333333,
              "#9c179e"
             ],
             [
              0.4444444444444444,
              "#bd3786"
             ],
             [
              0.5555555555555556,
              "#d8576b"
             ],
             [
              0.6666666666666666,
              "#ed7953"
             ],
             [
              0.7777777777777778,
              "#fb9f3a"
             ],
             [
              0.8888888888888888,
              "#fdca26"
             ],
             [
              1,
              "#f0f921"
             ]
            ],
            "type": "histogram2dcontour"
           }
          ],
          "mesh3d": [
           {
            "colorbar": {
             "outlinewidth": 0,
             "ticks": ""
            },
            "type": "mesh3d"
           }
          ],
          "parcoords": [
           {
            "line": {
             "colorbar": {
              "outlinewidth": 0,
              "ticks": ""
             }
            },
            "type": "parcoords"
           }
          ],
          "pie": [
           {
            "automargin": true,
            "type": "pie"
           }
          ],
          "scatter": [
           {
            "marker": {
             "colorbar": {
              "outlinewidth": 0,
              "ticks": ""
             }
            },
            "type": "scatter"
           }
          ],
          "scatter3d": [
           {
            "line": {
             "colorbar": {
              "outlinewidth": 0,
              "ticks": ""
             }
            },
            "marker": {
             "colorbar": {
              "outlinewidth": 0,
              "ticks": ""
             }
            },
            "type": "scatter3d"
           }
          ],
          "scattercarpet": [
           {
            "marker": {
             "colorbar": {
              "outlinewidth": 0,
              "ticks": ""
             }
            },
            "type": "scattercarpet"
           }
          ],
          "scattergeo": [
           {
            "marker": {
             "colorbar": {
              "outlinewidth": 0,
              "ticks": ""
             }
            },
            "type": "scattergeo"
           }
          ],
          "scattergl": [
           {
            "marker": {
             "colorbar": {
              "outlinewidth": 0,
              "ticks": ""
             }
            },
            "type": "scattergl"
           }
          ],
          "scattermapbox": [
           {
            "marker": {
             "colorbar": {
              "outlinewidth": 0,
              "ticks": ""
             }
            },
            "type": "scattermapbox"
           }
          ],
          "scatterpolar": [
           {
            "marker": {
             "colorbar": {
              "outlinewidth": 0,
              "ticks": ""
             }
            },
            "type": "scatterpolar"
           }
          ],
          "scatterpolargl": [
           {
            "marker": {
             "colorbar": {
              "outlinewidth": 0,
              "ticks": ""
             }
            },
            "type": "scatterpolargl"
           }
          ],
          "scatterternary": [
           {
            "marker": {
             "colorbar": {
              "outlinewidth": 0,
              "ticks": ""
             }
            },
            "type": "scatterternary"
           }
          ],
          "surface": [
           {
            "colorbar": {
             "outlinewidth": 0,
             "ticks": ""
            },
            "colorscale": [
             [
              0,
              "#0d0887"
             ],
             [
              0.1111111111111111,
              "#46039f"
             ],
             [
              0.2222222222222222,
              "#7201a8"
             ],
             [
              0.3333333333333333,
              "#9c179e"
             ],
             [
              0.4444444444444444,
              "#bd3786"
             ],
             [
              0.5555555555555556,
              "#d8576b"
             ],
             [
              0.6666666666666666,
              "#ed7953"
             ],
             [
              0.7777777777777778,
              "#fb9f3a"
             ],
             [
              0.8888888888888888,
              "#fdca26"
             ],
             [
              1,
              "#f0f921"
             ]
            ],
            "type": "surface"
           }
          ],
          "table": [
           {
            "cells": {
             "fill": {
              "color": "#EBF0F8"
             },
             "line": {
              "color": "white"
             }
            },
            "header": {
             "fill": {
              "color": "#C8D4E3"
             },
             "line": {
              "color": "white"
             }
            },
            "type": "table"
           }
          ]
         },
         "layout": {
          "annotationdefaults": {
           "arrowcolor": "#2a3f5f",
           "arrowhead": 0,
           "arrowwidth": 1
          },
          "autotypenumbers": "strict",
          "coloraxis": {
           "colorbar": {
            "outlinewidth": 0,
            "ticks": ""
           }
          },
          "colorscale": {
           "diverging": [
            [
             0,
             "#8e0152"
            ],
            [
             0.1,
             "#c51b7d"
            ],
            [
             0.2,
             "#de77ae"
            ],
            [
             0.3,
             "#f1b6da"
            ],
            [
             0.4,
             "#fde0ef"
            ],
            [
             0.5,
             "#f7f7f7"
            ],
            [
             0.6,
             "#e6f5d0"
            ],
            [
             0.7,
             "#b8e186"
            ],
            [
             0.8,
             "#7fbc41"
            ],
            [
             0.9,
             "#4d9221"
            ],
            [
             1,
             "#276419"
            ]
           ],
           "sequential": [
            [
             0,
             "#0d0887"
            ],
            [
             0.1111111111111111,
             "#46039f"
            ],
            [
             0.2222222222222222,
             "#7201a8"
            ],
            [
             0.3333333333333333,
             "#9c179e"
            ],
            [
             0.4444444444444444,
             "#bd3786"
            ],
            [
             0.5555555555555556,
             "#d8576b"
            ],
            [
             0.6666666666666666,
             "#ed7953"
            ],
            [
             0.7777777777777778,
             "#fb9f3a"
            ],
            [
             0.8888888888888888,
             "#fdca26"
            ],
            [
             1,
             "#f0f921"
            ]
           ],
           "sequentialminus": [
            [
             0,
             "#0d0887"
            ],
            [
             0.1111111111111111,
             "#46039f"
            ],
            [
             0.2222222222222222,
             "#7201a8"
            ],
            [
             0.3333333333333333,
             "#9c179e"
            ],
            [
             0.4444444444444444,
             "#bd3786"
            ],
            [
             0.5555555555555556,
             "#d8576b"
            ],
            [
             0.6666666666666666,
             "#ed7953"
            ],
            [
             0.7777777777777778,
             "#fb9f3a"
            ],
            [
             0.8888888888888888,
             "#fdca26"
            ],
            [
             1,
             "#f0f921"
            ]
           ]
          },
          "colorway": [
           "#636efa",
           "#EF553B",
           "#00cc96",
           "#ab63fa",
           "#FFA15A",
           "#19d3f3",
           "#FF6692",
           "#B6E880",
           "#FF97FF",
           "#FECB52"
          ],
          "font": {
           "color": "#2a3f5f"
          },
          "geo": {
           "bgcolor": "white",
           "lakecolor": "white",
           "landcolor": "#E5ECF6",
           "showlakes": true,
           "showland": true,
           "subunitcolor": "white"
          },
          "hoverlabel": {
           "align": "left"
          },
          "hovermode": "closest",
          "mapbox": {
           "style": "light"
          },
          "paper_bgcolor": "white",
          "plot_bgcolor": "#E5ECF6",
          "polar": {
           "angularaxis": {
            "gridcolor": "white",
            "linecolor": "white",
            "ticks": ""
           },
           "bgcolor": "#E5ECF6",
           "radialaxis": {
            "gridcolor": "white",
            "linecolor": "white",
            "ticks": ""
           }
          },
          "scene": {
           "xaxis": {
            "backgroundcolor": "#E5ECF6",
            "gridcolor": "white",
            "gridwidth": 2,
            "linecolor": "white",
            "showbackground": true,
            "ticks": "",
            "zerolinecolor": "white"
           },
           "yaxis": {
            "backgroundcolor": "#E5ECF6",
            "gridcolor": "white",
            "gridwidth": 2,
            "linecolor": "white",
            "showbackground": true,
            "ticks": "",
            "zerolinecolor": "white"
           },
           "zaxis": {
            "backgroundcolor": "#E5ECF6",
            "gridcolor": "white",
            "gridwidth": 2,
            "linecolor": "white",
            "showbackground": true,
            "ticks": "",
            "zerolinecolor": "white"
           }
          },
          "shapedefaults": {
           "line": {
            "color": "#2a3f5f"
           }
          },
          "ternary": {
           "aaxis": {
            "gridcolor": "white",
            "linecolor": "white",
            "ticks": ""
           },
           "baxis": {
            "gridcolor": "white",
            "linecolor": "white",
            "ticks": ""
           },
           "bgcolor": "#E5ECF6",
           "caxis": {
            "gridcolor": "white",
            "linecolor": "white",
            "ticks": ""
           }
          },
          "title": {
           "x": 0.05
          },
          "xaxis": {
           "automargin": true,
           "gridcolor": "white",
           "linecolor": "white",
           "ticks": "",
           "title": {
            "standoff": 15
           },
           "zerolinecolor": "white",
           "zerolinewidth": 2
          },
          "yaxis": {
           "automargin": true,
           "gridcolor": "white",
           "linecolor": "white",
           "ticks": "",
           "title": {
            "standoff": 15
           },
           "zerolinecolor": "white",
           "zerolinewidth": 2
          }
         }
        },
        "xaxis": {
         "anchor": "y",
         "domain": [
          0,
          1
         ],
         "title": {
          "text": "Shooting Accuracy"
         }
        },
        "yaxis": {
         "anchor": "x",
         "domain": [
          0,
          1
         ],
         "title": {
          "text": "Goals"
         }
        }
       }
      }
     },
     "metadata": {}
    }
   ],
   "source": [
    "# importat plotly y hacer un scatter plot entre Shooting Accuracy y Goals\n",
    "import plotly.express as px\n",
    "\n",
    "fig = px.scatter(df, x=\"Shooting Accuracy\", y=\"Goals\")\n",
    "fig.show()"
   ]
  },
  {
   "cell_type": "code",
   "execution_count": 9,
   "metadata": {},
   "outputs": [
    {
     "output_type": "display_data",
     "data": {
      "application/vnd.plotly.v1+json": {
       "config": {
        "plotlyServerURL": "https://plot.ly"
       },
       "data": [
        {
         "hovertemplate": "Shooting Accuracy=%{x}<br>Goals=%{y}<extra></extra>",
         "legendgroup": "",
         "line": {
          "color": "#636efa",
          "dash": "solid"
         },
         "mode": "lines",
         "name": "",
         "orientation": "v",
         "showlegend": false,
         "type": "scatter",
         "x": [
          "51.9%",
          "41.9%",
          "50.0%",
          "50.0%",
          "37.9%",
          "47.8%",
          "30.7%",
          "43.0%",
          "25.0%",
          "39.4%",
          "34.3%",
          "36.8%",
          "22.5%",
          "55.9%",
          "47.2%",
          "21.2%"
         ],
         "xaxis": "x",
         "y": [
          4,
          4,
          4,
          5,
          3,
          10,
          5,
          6,
          2,
          2,
          6,
          1,
          5,
          12,
          5,
          2
         ],
         "yaxis": "y"
        }
       ],
       "layout": {
        "legend": {
         "tracegroupgap": 0
        },
        "margin": {
         "t": 60
        },
        "template": {
         "data": {
          "bar": [
           {
            "error_x": {
             "color": "#2a3f5f"
            },
            "error_y": {
             "color": "#2a3f5f"
            },
            "marker": {
             "line": {
              "color": "#E5ECF6",
              "width": 0.5
             }
            },
            "type": "bar"
           }
          ],
          "barpolar": [
           {
            "marker": {
             "line": {
              "color": "#E5ECF6",
              "width": 0.5
             }
            },
            "type": "barpolar"
           }
          ],
          "carpet": [
           {
            "aaxis": {
             "endlinecolor": "#2a3f5f",
             "gridcolor": "white",
             "linecolor": "white",
             "minorgridcolor": "white",
             "startlinecolor": "#2a3f5f"
            },
            "baxis": {
             "endlinecolor": "#2a3f5f",
             "gridcolor": "white",
             "linecolor": "white",
             "minorgridcolor": "white",
             "startlinecolor": "#2a3f5f"
            },
            "type": "carpet"
           }
          ],
          "choropleth": [
           {
            "colorbar": {
             "outlinewidth": 0,
             "ticks": ""
            },
            "type": "choropleth"
           }
          ],
          "contour": [
           {
            "colorbar": {
             "outlinewidth": 0,
             "ticks": ""
            },
            "colorscale": [
             [
              0,
              "#0d0887"
             ],
             [
              0.1111111111111111,
              "#46039f"
             ],
             [
              0.2222222222222222,
              "#7201a8"
             ],
             [
              0.3333333333333333,
              "#9c179e"
             ],
             [
              0.4444444444444444,
              "#bd3786"
             ],
             [
              0.5555555555555556,
              "#d8576b"
             ],
             [
              0.6666666666666666,
              "#ed7953"
             ],
             [
              0.7777777777777778,
              "#fb9f3a"
             ],
             [
              0.8888888888888888,
              "#fdca26"
             ],
             [
              1,
              "#f0f921"
             ]
            ],
            "type": "contour"
           }
          ],
          "contourcarpet": [
           {
            "colorbar": {
             "outlinewidth": 0,
             "ticks": ""
            },
            "type": "contourcarpet"
           }
          ],
          "heatmap": [
           {
            "colorbar": {
             "outlinewidth": 0,
             "ticks": ""
            },
            "colorscale": [
             [
              0,
              "#0d0887"
             ],
             [
              0.1111111111111111,
              "#46039f"
             ],
             [
              0.2222222222222222,
              "#7201a8"
             ],
             [
              0.3333333333333333,
              "#9c179e"
             ],
             [
              0.4444444444444444,
              "#bd3786"
             ],
             [
              0.5555555555555556,
              "#d8576b"
             ],
             [
              0.6666666666666666,
              "#ed7953"
             ],
             [
              0.7777777777777778,
              "#fb9f3a"
             ],
             [
              0.8888888888888888,
              "#fdca26"
             ],
             [
              1,
              "#f0f921"
             ]
            ],
            "type": "heatmap"
           }
          ],
          "heatmapgl": [
           {
            "colorbar": {
             "outlinewidth": 0,
             "ticks": ""
            },
            "colorscale": [
             [
              0,
              "#0d0887"
             ],
             [
              0.1111111111111111,
              "#46039f"
             ],
             [
              0.2222222222222222,
              "#7201a8"
             ],
             [
              0.3333333333333333,
              "#9c179e"
             ],
             [
              0.4444444444444444,
              "#bd3786"
             ],
             [
              0.5555555555555556,
              "#d8576b"
             ],
             [
              0.6666666666666666,
              "#ed7953"
             ],
             [
              0.7777777777777778,
              "#fb9f3a"
             ],
             [
              0.8888888888888888,
              "#fdca26"
             ],
             [
              1,
              "#f0f921"
             ]
            ],
            "type": "heatmapgl"
           }
          ],
          "histogram": [
           {
            "marker": {
             "colorbar": {
              "outlinewidth": 0,
              "ticks": ""
             }
            },
            "type": "histogram"
           }
          ],
          "histogram2d": [
           {
            "colorbar": {
             "outlinewidth": 0,
             "ticks": ""
            },
            "colorscale": [
             [
              0,
              "#0d0887"
             ],
             [
              0.1111111111111111,
              "#46039f"
             ],
             [
              0.2222222222222222,
              "#7201a8"
             ],
             [
              0.3333333333333333,
              "#9c179e"
             ],
             [
              0.4444444444444444,
              "#bd3786"
             ],
             [
              0.5555555555555556,
              "#d8576b"
             ],
             [
              0.6666666666666666,
              "#ed7953"
             ],
             [
              0.7777777777777778,
              "#fb9f3a"
             ],
             [
              0.8888888888888888,
              "#fdca26"
             ],
             [
              1,
              "#f0f921"
             ]
            ],
            "type": "histogram2d"
           }
          ],
          "histogram2dcontour": [
           {
            "colorbar": {
             "outlinewidth": 0,
             "ticks": ""
            },
            "colorscale": [
             [
              0,
              "#0d0887"
             ],
             [
              0.1111111111111111,
              "#46039f"
             ],
             [
              0.2222222222222222,
              "#7201a8"
             ],
             [
              0.3333333333333333,
              "#9c179e"
             ],
             [
              0.4444444444444444,
              "#bd3786"
             ],
             [
              0.5555555555555556,
              "#d8576b"
             ],
             [
              0.6666666666666666,
              "#ed7953"
             ],
             [
              0.7777777777777778,
              "#fb9f3a"
             ],
             [
              0.8888888888888888,
              "#fdca26"
             ],
             [
              1,
              "#f0f921"
             ]
            ],
            "type": "histogram2dcontour"
           }
          ],
          "mesh3d": [
           {
            "colorbar": {
             "outlinewidth": 0,
             "ticks": ""
            },
            "type": "mesh3d"
           }
          ],
          "parcoords": [
           {
            "line": {
             "colorbar": {
              "outlinewidth": 0,
              "ticks": ""
             }
            },
            "type": "parcoords"
           }
          ],
          "pie": [
           {
            "automargin": true,
            "type": "pie"
           }
          ],
          "scatter": [
           {
            "marker": {
             "colorbar": {
              "outlinewidth": 0,
              "ticks": ""
             }
            },
            "type": "scatter"
           }
          ],
          "scatter3d": [
           {
            "line": {
             "colorbar": {
              "outlinewidth": 0,
              "ticks": ""
             }
            },
            "marker": {
             "colorbar": {
              "outlinewidth": 0,
              "ticks": ""
             }
            },
            "type": "scatter3d"
           }
          ],
          "scattercarpet": [
           {
            "marker": {
             "colorbar": {
              "outlinewidth": 0,
              "ticks": ""
             }
            },
            "type": "scattercarpet"
           }
          ],
          "scattergeo": [
           {
            "marker": {
             "colorbar": {
              "outlinewidth": 0,
              "ticks": ""
             }
            },
            "type": "scattergeo"
           }
          ],
          "scattergl": [
           {
            "marker": {
             "colorbar": {
              "outlinewidth": 0,
              "ticks": ""
             }
            },
            "type": "scattergl"
           }
          ],
          "scattermapbox": [
           {
            "marker": {
             "colorbar": {
              "outlinewidth": 0,
              "ticks": ""
             }
            },
            "type": "scattermapbox"
           }
          ],
          "scatterpolar": [
           {
            "marker": {
             "colorbar": {
              "outlinewidth": 0,
              "ticks": ""
             }
            },
            "type": "scatterpolar"
           }
          ],
          "scatterpolargl": [
           {
            "marker": {
             "colorbar": {
              "outlinewidth": 0,
              "ticks": ""
             }
            },
            "type": "scatterpolargl"
           }
          ],
          "scatterternary": [
           {
            "marker": {
             "colorbar": {
              "outlinewidth": 0,
              "ticks": ""
             }
            },
            "type": "scatterternary"
           }
          ],
          "surface": [
           {
            "colorbar": {
             "outlinewidth": 0,
             "ticks": ""
            },
            "colorscale": [
             [
              0,
              "#0d0887"
             ],
             [
              0.1111111111111111,
              "#46039f"
             ],
             [
              0.2222222222222222,
              "#7201a8"
             ],
             [
              0.3333333333333333,
              "#9c179e"
             ],
             [
              0.4444444444444444,
              "#bd3786"
             ],
             [
              0.5555555555555556,
              "#d8576b"
             ],
             [
              0.6666666666666666,
              "#ed7953"
             ],
             [
              0.7777777777777778,
              "#fb9f3a"
             ],
             [
              0.8888888888888888,
              "#fdca26"
             ],
             [
              1,
              "#f0f921"
             ]
            ],
            "type": "surface"
           }
          ],
          "table": [
           {
            "cells": {
             "fill": {
              "color": "#EBF0F8"
             },
             "line": {
              "color": "white"
             }
            },
            "header": {
             "fill": {
              "color": "#C8D4E3"
             },
             "line": {
              "color": "white"
             }
            },
            "type": "table"
           }
          ]
         },
         "layout": {
          "annotationdefaults": {
           "arrowcolor": "#2a3f5f",
           "arrowhead": 0,
           "arrowwidth": 1
          },
          "autotypenumbers": "strict",
          "coloraxis": {
           "colorbar": {
            "outlinewidth": 0,
            "ticks": ""
           }
          },
          "colorscale": {
           "diverging": [
            [
             0,
             "#8e0152"
            ],
            [
             0.1,
             "#c51b7d"
            ],
            [
             0.2,
             "#de77ae"
            ],
            [
             0.3,
             "#f1b6da"
            ],
            [
             0.4,
             "#fde0ef"
            ],
            [
             0.5,
             "#f7f7f7"
            ],
            [
             0.6,
             "#e6f5d0"
            ],
            [
             0.7,
             "#b8e186"
            ],
            [
             0.8,
             "#7fbc41"
            ],
            [
             0.9,
             "#4d9221"
            ],
            [
             1,
             "#276419"
            ]
           ],
           "sequential": [
            [
             0,
             "#0d0887"
            ],
            [
             0.1111111111111111,
             "#46039f"
            ],
            [
             0.2222222222222222,
             "#7201a8"
            ],
            [
             0.3333333333333333,
             "#9c179e"
            ],
            [
             0.4444444444444444,
             "#bd3786"
            ],
            [
             0.5555555555555556,
             "#d8576b"
            ],
            [
             0.6666666666666666,
             "#ed7953"
            ],
            [
             0.7777777777777778,
             "#fb9f3a"
            ],
            [
             0.8888888888888888,
             "#fdca26"
            ],
            [
             1,
             "#f0f921"
            ]
           ],
           "sequentialminus": [
            [
             0,
             "#0d0887"
            ],
            [
             0.1111111111111111,
             "#46039f"
            ],
            [
             0.2222222222222222,
             "#7201a8"
            ],
            [
             0.3333333333333333,
             "#9c179e"
            ],
            [
             0.4444444444444444,
             "#bd3786"
            ],
            [
             0.5555555555555556,
             "#d8576b"
            ],
            [
             0.6666666666666666,
             "#ed7953"
            ],
            [
             0.7777777777777778,
             "#fb9f3a"
            ],
            [
             0.8888888888888888,
             "#fdca26"
            ],
            [
             1,
             "#f0f921"
            ]
           ]
          },
          "colorway": [
           "#636efa",
           "#EF553B",
           "#00cc96",
           "#ab63fa",
           "#FFA15A",
           "#19d3f3",
           "#FF6692",
           "#B6E880",
           "#FF97FF",
           "#FECB52"
          ],
          "font": {
           "color": "#2a3f5f"
          },
          "geo": {
           "bgcolor": "white",
           "lakecolor": "white",
           "landcolor": "#E5ECF6",
           "showlakes": true,
           "showland": true,
           "subunitcolor": "white"
          },
          "hoverlabel": {
           "align": "left"
          },
          "hovermode": "closest",
          "mapbox": {
           "style": "light"
          },
          "paper_bgcolor": "white",
          "plot_bgcolor": "#E5ECF6",
          "polar": {
           "angularaxis": {
            "gridcolor": "white",
            "linecolor": "white",
            "ticks": ""
           },
           "bgcolor": "#E5ECF6",
           "radialaxis": {
            "gridcolor": "white",
            "linecolor": "white",
            "ticks": ""
           }
          },
          "scene": {
           "xaxis": {
            "backgroundcolor": "#E5ECF6",
            "gridcolor": "white",
            "gridwidth": 2,
            "linecolor": "white",
            "showbackground": true,
            "ticks": "",
            "zerolinecolor": "white"
           },
           "yaxis": {
            "backgroundcolor": "#E5ECF6",
            "gridcolor": "white",
            "gridwidth": 2,
            "linecolor": "white",
            "showbackground": true,
            "ticks": "",
            "zerolinecolor": "white"
           },
           "zaxis": {
            "backgroundcolor": "#E5ECF6",
            "gridcolor": "white",
            "gridwidth": 2,
            "linecolor": "white",
            "showbackground": true,
            "ticks": "",
            "zerolinecolor": "white"
           }
          },
          "shapedefaults": {
           "line": {
            "color": "#2a3f5f"
           }
          },
          "ternary": {
           "aaxis": {
            "gridcolor": "white",
            "linecolor": "white",
            "ticks": ""
           },
           "baxis": {
            "gridcolor": "white",
            "linecolor": "white",
            "ticks": ""
           },
           "bgcolor": "#E5ECF6",
           "caxis": {
            "gridcolor": "white",
            "linecolor": "white",
            "ticks": ""
           }
          },
          "title": {
           "x": 0.05
          },
          "xaxis": {
           "automargin": true,
           "gridcolor": "white",
           "linecolor": "white",
           "ticks": "",
           "title": {
            "standoff": 15
           },
           "zerolinecolor": "white",
           "zerolinewidth": 2
          },
          "yaxis": {
           "automargin": true,
           "gridcolor": "white",
           "linecolor": "white",
           "ticks": "",
           "title": {
            "standoff": 15
           },
           "zerolinecolor": "white",
           "zerolinewidth": 2
          }
         }
        },
        "xaxis": {
         "anchor": "y",
         "domain": [
          0,
          1
         ],
         "title": {
          "text": "Shooting Accuracy"
         }
        },
        "yaxis": {
         "anchor": "x",
         "domain": [
          0,
          1
         ],
         "title": {
          "text": "Goals"
         }
        }
       }
      }
     },
     "metadata": {}
    }
   ],
   "source": [
    "fig = px.line(df, x=\"Shooting Accuracy\", y=\"Goals\")\n",
    "fig.show()"
   ]
  },
  {
   "cell_type": "code",
   "execution_count": 38,
   "metadata": {},
   "outputs": [],
   "source": [
    "# Hacer regresion lineal\n",
    "# Formula del 5\n",
    "from sklearn.linear_model import LinearRegression\n",
    "from sklearn.model_selection import train_test_split\n",
    "from sklearn.preprocessing import PolynomialFeatures\n",
    "import numpy as np \n",
    "from sklearn.metrics import r2_score, mean_absolute_error, mean_squared_error"
   ]
  },
  {
   "cell_type": "code",
   "execution_count": 25,
   "metadata": {},
   "outputs": [],
   "source": [
    "def p2f(x):\n",
    "    return float(x.strip('%'))/100\n",
    "df[\"Shooting Accuracy\"] = df[\"Shooting Accuracy\"].apply(p2f)\n",
    "df[\"Shooting Accuracy\"] = df[\"Shooting Accuracy\"]*100"
   ]
  },
  {
   "cell_type": "code",
   "execution_count": 33,
   "metadata": {},
   "outputs": [
    {
     "output_type": "stream",
     "name": "stdout",
     "text": [
      "Accuracy: -1.5453033713476878\n"
     ]
    }
   ],
   "source": [
    "X = np.array(df[[\"Shooting Accuracy\", \"Shots on target\"]])\n",
    "y = np.array(df[\"Goals\"])\n",
    "model = LinearRegression()\n",
    "X_train, X_test, y_train, y_test = train_test_split(X, y, test_size=0.2)\n",
    "model_trained = model.fit(X_train, y_train)\n",
    "accuracy = model_trained.score(X_test, y_test)\n",
    "print('Accuracy:', accuracy)"
   ]
  },
  {
   "cell_type": "code",
   "execution_count": null,
   "metadata": {},
   "outputs": [],
   "source": [
    "#Hacer regresion no lineal \n",
    "# Fromula del 5 "
   ]
  },
  {
   "source": [
    "\n",
    "# Min and max degree of polynomials features to consider\n",
    "degree_min = 2\n",
    "degree_max = 8\n",
    "# Make a pipeline model with polynomial transformation and LASSO regression with cross-validation, run it for increasing degree of polynomial (complexity of the model)\n",
    "scores = []\n",
    "for degree in range(degree_min,degree_max+1):\n",
    "    print(\"################\")\n",
    "    polinominal_model = PolynomialFeatures(degree) \n",
    "    X_poly = polinominal_model.fit_transform(X_train ,y_train)\n",
    "\n",
    "    #######\n",
    "    \n",
    "    print(X_poly.shape)\n",
    "\n",
    "    lin_reg_model = LinearRegression()\n",
    "    lin_reg_model.fit(X_poly, y_train)\n",
    "    y_pred = lin_reg_model.predict(X_poly)\n",
    "    accuracy = model_trained.score(X_test, y_test)\n",
    "    \n",
    "\n",
    "    print(\"y_pred\", y_pred.shape)\n",
    "    print('Accuracy:', accuracy)\n",
    "    print('RMSE:', mean_squared_error(y_train, y_pred, squared=False))\n"
   ],
   "cell_type": "code",
   "metadata": {},
   "execution_count": 42,
   "outputs": [
    {
     "output_type": "stream",
     "name": "stdout",
     "text": [
      "################\n(12, 6)\ny_pred (12,)\nAccuracy: -1.5453033713476878\nRMSE: 1.1588933012135938\n################\n(12, 10)\ny_pred (12,)\nAccuracy: -1.5453033713476878\nRMSE: 0.7689162413133518\n################\n(12, 15)\ny_pred (12,)\nAccuracy: -1.5453033713476878\nRMSE: 1.494514395421886e-11\n################\n(12, 21)\ny_pred (12,)\nAccuracy: -1.5453033713476878\nRMSE: 7.1994101491507e-11\n################\n(12, 28)\ny_pred (12,)\nAccuracy: -1.5453033713476878\nRMSE: 3.8581615350244304e-11\n################\n(12, 36)\ny_pred (12,)\nAccuracy: -1.5453033713476878\nRMSE: 3.2442651054434776e-10\n################\n(12, 45)\ny_pred (12,)\nAccuracy: -1.5453033713476878\nRMSE: 6.834569952889903e-11\n"
     ]
    }
   ]
  },
  {
   "cell_type": "code",
   "execution_count": 53,
   "metadata": {},
   "outputs": [],
   "source": [
    "# Tratar goles como categoria:\n",
    "# Hacer Ramndom Forest, y S\n",
    "from numpy import mean\n",
    "from numpy import std\n",
    "from sklearn.ensemble import RandomForestClassifier\n",
    "from sklearn.model_selection import RepeatedStratifiedKFold, RepeatedKFold\n",
    "from sklearn.model_selection import cross_val_score"
   ]
  },
  {
   "cell_type": "code",
   "execution_count": 54,
   "metadata": {},
   "outputs": [
    {
     "output_type": "stream",
     "name": "stdout",
     "text": [
      "Accuracy: 0.361 (0.178)\n"
     ]
    }
   ],
   "source": [
    "model_batches = RandomForestClassifier()\n",
    "# evaluate the model\n",
    "\n",
    "cv = RepeatedStratifiedKFold(n_splits=2, n_repeats=3, random_state=2)\n",
    "n_scores = cross_val_score(model_batches, X_train, y_train, scoring='accuracy', cv=cv, n_jobs=-1, error_score='raise')\n",
    "# report performance\n",
    "print('Accuracy: %.3f (%.3f)' % (mean(n_scores), std(n_scores)))"
   ]
  },
  {
   "cell_type": "code",
   "execution_count": 56,
   "metadata": {},
   "outputs": [],
   "source": [
    "from sklearn import svm"
   ]
  },
  {
   "cell_type": "code",
   "execution_count": 57,
   "metadata": {},
   "outputs": [
    {
     "output_type": "stream",
     "name": "stdout",
     "text": [
      "score: 0.3125\n"
     ]
    }
   ],
   "source": [
    "C = 1\n",
    "clf = svm.LinearSVC(C=C)\n",
    "clf.fit(X, y)\n",
    "print ('score:', clf.score(X, y))"
   ]
  },
  {
   "cell_type": "code",
   "execution_count": null,
   "metadata": {},
   "outputs": [],
   "source": []
  }
 ]
}