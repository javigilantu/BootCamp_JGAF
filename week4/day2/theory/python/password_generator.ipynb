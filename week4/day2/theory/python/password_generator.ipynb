{
 "metadata": {
  "language_info": {
   "codemirror_mode": {
    "name": "ipython",
    "version": 3
   },
   "file_extension": ".py",
   "mimetype": "text/x-python",
   "name": "python",
   "nbconvert_exporter": "python",
   "pygments_lexer": "ipython3",
   "version": "3.9.0-final"
  },
  "orig_nbformat": 2,
  "kernelspec": {
   "name": "python3",
   "display_name": "Python 3.9.0 64-bit",
   "metadata": {
    "interpreter": {
     "hash": "55e468aa44997b1a111e264ecfc47cca8eaefaa39ff5edd28dad934b35afc7e9"
    }
   }
  }
 },
 "nbformat": 4,
 "nbformat_minor": 2,
 "cells": [
  {
   "source": [
    "Crea una función llamada \"generador\" con dos argumentos de entrada 'longitud' (entero) y 'dificultad' (entero). La función retornará una contraseña (string) de tamaño 'longitud' y con las siguientes características dependiendo del valor de 'dificultad':\n",
    "\n",
    "1. Si 'dificultad' tiene valor 1, entonces la contraseña solo contendrá números. \n",
    "2. Si 'dificultad' tiene valor 2, entonces la contraseña contendrá números y letras\n",
    "3. Si 'dificultad' tiene valor 3, entonces la contraseña contendrá números, letras y signos de puntuación (!,?¡:-.\"')\n",
    "4. Si 'dificultad' tiene valor 4, entonces la contraseña será como la del punto 3. pero con el doble de longitud y solo números pares. \n",
    "5. Para cualquier otro caso, la contraseña será \"numpy_y_pandas_son_lo_mejor\""
   ],
   "cell_type": "markdown",
   "metadata": {}
  },
  {
   "cell_type": "code",
   "execution_count": 11,
   "metadata": {},
   "outputs": [
    {
     "output_type": "execute_result",
     "data": {
      "text/plain": [
       "['u', 6, 'x', 1]"
      ]
     },
     "metadata": {},
     "execution_count": 11
    }
   ],
   "source": [
    "import random\n",
    "import string\n",
    "string.ascii_letters\n",
    "\n",
    "def generador(longitud, dificultad):\n",
    "    contraseña = []\n",
    "    if dificultad == 1:\n",
    "        contraseña = [random.randint(0, 9) for x in range(longitud)]\n",
    "    elif dificultad == 2:\n",
    "        numeros = [random.randint(0, 9) for x in range(int(longitud/2))]\n",
    "        letra = [random.choice(string.ascii_letters) for x in range(int(longitud/2))]\n",
    "        contraseña = list(zip(letra, numeros))\n",
    "    elif dificultad == 3:\n",
    "        numeros = [random.randint(0, 9) for x in range(int(longitud/3))]\n",
    "        letra = [random.choice(string.ascii_letters) for x in range(int(longitud/3))]\n",
    "        signo = [random.choice(\"!,?¡:-.'\") for x in range(int(longitud/3)) ]\n",
    "        contraseña = list(zip(letra, numeros, signo))\n",
    "    elif dificultad==4:\n",
    "        numeros = [random.randint(0, 9) for x in range(int(longitud/1.5)) if x %2==0]\n",
    "        letra = [random.choice(string.ascii_letters) for x in range(int(longitud/1.5))]\n",
    "        signo = [random.choice(\"!,?¡:-.'\") for x in range(int(longitud/1.5))]\n",
    "        contraseña = list(zip(letra, numeros, signo))\n",
    "    else:\n",
    "        contraseña = [\"numpy_y_pandas_son_lo_mejor\"]\n",
    "    contraseña = [z for x in contraseña for z in x]\n",
    "\n",
    "    return contraseña\n",
    "generador(longitud=4, dificultad=2)"
   ]
  },
  {
   "cell_type": "code",
   "execution_count": null,
   "metadata": {},
   "outputs": [],
   "source": []
  }
 ]
}