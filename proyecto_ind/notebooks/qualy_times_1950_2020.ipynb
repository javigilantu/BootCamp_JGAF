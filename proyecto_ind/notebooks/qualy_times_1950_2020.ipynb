{
 "metadata": {
  "language_info": {
   "codemirror_mode": {
    "name": "ipython",
    "version": 3
   },
   "file_extension": ".py",
   "mimetype": "text/x-python",
   "name": "python",
   "nbconvert_exporter": "python",
   "pygments_lexer": "ipython3",
   "version": "3.9.0-final"
  },
  "orig_nbformat": 2,
  "kernelspec": {
   "name": "python3",
   "display_name": "Python 3.9.0 64-bit",
   "metadata": {
    "interpreter": {
     "hash": "55e468aa44997b1a111e264ecfc47cca8eaefaa39ff5edd28dad934b35afc7e9"
    }
   }
  }
 },
 "nbformat": 4,
 "nbformat_minor": 2,
 "cells": [
  {
   "source": [
    "# Part 3 of the proyect"
   ],
   "cell_type": "markdown",
   "metadata": {}
  },
  {
   "cell_type": "code",
   "execution_count": 1,
   "metadata": {},
   "outputs": [],
   "source": [
    "import numpy as np \n",
    "import pandas as pd "
   ]
  },
  {
   "cell_type": "code",
   "execution_count": 2,
   "metadata": {},
   "outputs": [
    {
     "output_type": "execute_result",
     "data": {
      "text/plain": [
       "   Unnamed: 0  Year Position  Driver No.             Venue  \\\n",
       "0           0  1950        1           2     great-britain   \n",
       "1           1  1950        1          34            monaco   \n",
       "2           2  1950        1          98  indianapolis-500   \n",
       "3           3  1950        1          14       switzerland   \n",
       "4           4  1950        1           8           belgium   \n",
       "5           5  1950        1           6            france   \n",
       "6           6  1950        1          18             italy   \n",
       "7           7  1951        1          24       switzerland   \n",
       "8           8  1951        1          18  indianapolis-500   \n",
       "9           9  1951        1           2           belgium   \n",
       "\n",
       "                 Name NameTag                      Team  Lap Time  Laps  \n",
       "0         Nino Farina     FAR                Alfa Romeo  1:50.800   NaN  \n",
       "1  Juan Manuel Fangio     FAN                Alfa Romeo  1:50.200   NaN  \n",
       "2       Walt Faulkner     FAU  Kurtis Kraft Offenhauser  1:06.992   NaN  \n",
       "3  Juan Manuel Fangio     FAN                Alfa Romeo  2:42.100   NaN  \n",
       "4         Nino Farina     FAR                Alfa Romeo  4:37.000   NaN  \n",
       "5  Juan Manuel Fangio     FAN                Alfa Romeo  2:30.600   NaN  \n",
       "6  Juan Manuel Fangio     FAN                Alfa Romeo  1:58.600   NaN  \n",
       "7  Juan Manuel Fangio     FAN                Alfa Romeo  2:35.900   NaN  \n",
       "8          Duke Nalon     NAL         Kurtis Kraft Novi  1:05.935   NaN  \n",
       "9  Juan Manuel Fangio     FAN                Alfa Romeo  4:25.000   NaN  "
      ],
      "text/html": "<div>\n<style scoped>\n    .dataframe tbody tr th:only-of-type {\n        vertical-align: middle;\n    }\n\n    .dataframe tbody tr th {\n        vertical-align: top;\n    }\n\n    .dataframe thead th {\n        text-align: right;\n    }\n</style>\n<table border=\"1\" class=\"dataframe\">\n  <thead>\n    <tr style=\"text-align: right;\">\n      <th></th>\n      <th>Unnamed: 0</th>\n      <th>Year</th>\n      <th>Position</th>\n      <th>Driver No.</th>\n      <th>Venue</th>\n      <th>Name</th>\n      <th>NameTag</th>\n      <th>Team</th>\n      <th>Lap Time</th>\n      <th>Laps</th>\n    </tr>\n  </thead>\n  <tbody>\n    <tr>\n      <th>0</th>\n      <td>0</td>\n      <td>1950</td>\n      <td>1</td>\n      <td>2</td>\n      <td>great-britain</td>\n      <td>Nino Farina</td>\n      <td>FAR</td>\n      <td>Alfa Romeo</td>\n      <td>1:50.800</td>\n      <td>NaN</td>\n    </tr>\n    <tr>\n      <th>1</th>\n      <td>1</td>\n      <td>1950</td>\n      <td>1</td>\n      <td>34</td>\n      <td>monaco</td>\n      <td>Juan Manuel Fangio</td>\n      <td>FAN</td>\n      <td>Alfa Romeo</td>\n      <td>1:50.200</td>\n      <td>NaN</td>\n    </tr>\n    <tr>\n      <th>2</th>\n      <td>2</td>\n      <td>1950</td>\n      <td>1</td>\n      <td>98</td>\n      <td>indianapolis-500</td>\n      <td>Walt Faulkner</td>\n      <td>FAU</td>\n      <td>Kurtis Kraft Offenhauser</td>\n      <td>1:06.992</td>\n      <td>NaN</td>\n    </tr>\n    <tr>\n      <th>3</th>\n      <td>3</td>\n      <td>1950</td>\n      <td>1</td>\n      <td>14</td>\n      <td>switzerland</td>\n      <td>Juan Manuel Fangio</td>\n      <td>FAN</td>\n      <td>Alfa Romeo</td>\n      <td>2:42.100</td>\n      <td>NaN</td>\n    </tr>\n    <tr>\n      <th>4</th>\n      <td>4</td>\n      <td>1950</td>\n      <td>1</td>\n      <td>8</td>\n      <td>belgium</td>\n      <td>Nino Farina</td>\n      <td>FAR</td>\n      <td>Alfa Romeo</td>\n      <td>4:37.000</td>\n      <td>NaN</td>\n    </tr>\n    <tr>\n      <th>5</th>\n      <td>5</td>\n      <td>1950</td>\n      <td>1</td>\n      <td>6</td>\n      <td>france</td>\n      <td>Juan Manuel Fangio</td>\n      <td>FAN</td>\n      <td>Alfa Romeo</td>\n      <td>2:30.600</td>\n      <td>NaN</td>\n    </tr>\n    <tr>\n      <th>6</th>\n      <td>6</td>\n      <td>1950</td>\n      <td>1</td>\n      <td>18</td>\n      <td>italy</td>\n      <td>Juan Manuel Fangio</td>\n      <td>FAN</td>\n      <td>Alfa Romeo</td>\n      <td>1:58.600</td>\n      <td>NaN</td>\n    </tr>\n    <tr>\n      <th>7</th>\n      <td>7</td>\n      <td>1951</td>\n      <td>1</td>\n      <td>24</td>\n      <td>switzerland</td>\n      <td>Juan Manuel Fangio</td>\n      <td>FAN</td>\n      <td>Alfa Romeo</td>\n      <td>2:35.900</td>\n      <td>NaN</td>\n    </tr>\n    <tr>\n      <th>8</th>\n      <td>8</td>\n      <td>1951</td>\n      <td>1</td>\n      <td>18</td>\n      <td>indianapolis-500</td>\n      <td>Duke Nalon</td>\n      <td>NAL</td>\n      <td>Kurtis Kraft Novi</td>\n      <td>1:05.935</td>\n      <td>NaN</td>\n    </tr>\n    <tr>\n      <th>9</th>\n      <td>9</td>\n      <td>1951</td>\n      <td>1</td>\n      <td>2</td>\n      <td>belgium</td>\n      <td>Juan Manuel Fangio</td>\n      <td>FAN</td>\n      <td>Alfa Romeo</td>\n      <td>4:25.000</td>\n      <td>NaN</td>\n    </tr>\n  </tbody>\n</table>\n</div>"
     },
     "metadata": {},
     "execution_count": 2
    }
   ],
   "source": [
    "qualy_times1 = pd.read_csv(\"C:\\\\Users\\\\javig\\\\OneDrive\\\\Documents\\\\Bootcamp\\\\proyect1_data\\\\qualifying_times_1950-2005.csv\")\n",
    "qualy_times1.head(10)"
   ]
  },
  {
   "cell_type": "code",
   "execution_count": 3,
   "metadata": {},
   "outputs": [
    {
     "output_type": "execute_result",
     "data": {
      "text/plain": [
       "   Unnamed: 0  Year Position  Driver No.    Venue                  Name  \\\n",
       "0           0  2006        1           5  bahrain    Michael Schumacher   \n",
       "1           1  2006        2           6  bahrain          Felipe Massa   \n",
       "2           2  2006        3          12  bahrain         Jenson Button   \n",
       "3           3  2006        4           1  bahrain       Fernando Alonso   \n",
       "4           4  2006        5           4  bahrain    Juan Pablo Montoya   \n",
       "5           5  2006        6          11  bahrain    Rubens Barrichello   \n",
       "6           6  2006        7           9  bahrain           Mark Webber   \n",
       "7           7  2006        8          15  bahrain       Christian Klien   \n",
       "8           8  2006        9           2  bahrain  Giancarlo Fisichella   \n",
       "9           9  2006       10          16  bahrain         Nick Heidfeld   \n",
       "\n",
       "  NameTag               Team        Q1        Q2        Q3  Laps  \n",
       "0     MSC            Ferrari  1:33.310  1:32.025  1:31.431    20  \n",
       "1     MAS            Ferrari  1:33.579  1:32.014  1:31.478    20  \n",
       "2     BUT              Honda  1:32.603  1:32.025  1:31.549    23  \n",
       "3     ALO            Renault  1:32.433  1:31.215  1:31.702    20  \n",
       "4     MOY   McLaren Mercedes  1:33.233  1:31.487  1:32.164    20  \n",
       "5     BAR              Honda  1:33.922  1:32.322  1:32.579    26  \n",
       "6     WEB  Williams Cosworth  1:33.454  1:32.309  1:33.006    20  \n",
       "7     KLI        RBR Ferrari  1:34.308  1:32.106  1:33.112    25  \n",
       "8     FIS            Renault  1:32.934  1:31.831  1:33.496    20  \n",
       "9     HEI         Sauber BMW  1:33.374  1:31.958  1:33.926    24  "
      ],
      "text/html": "<div>\n<style scoped>\n    .dataframe tbody tr th:only-of-type {\n        vertical-align: middle;\n    }\n\n    .dataframe tbody tr th {\n        vertical-align: top;\n    }\n\n    .dataframe thead th {\n        text-align: right;\n    }\n</style>\n<table border=\"1\" class=\"dataframe\">\n  <thead>\n    <tr style=\"text-align: right;\">\n      <th></th>\n      <th>Unnamed: 0</th>\n      <th>Year</th>\n      <th>Position</th>\n      <th>Driver No.</th>\n      <th>Venue</th>\n      <th>Name</th>\n      <th>NameTag</th>\n      <th>Team</th>\n      <th>Q1</th>\n      <th>Q2</th>\n      <th>Q3</th>\n      <th>Laps</th>\n    </tr>\n  </thead>\n  <tbody>\n    <tr>\n      <th>0</th>\n      <td>0</td>\n      <td>2006</td>\n      <td>1</td>\n      <td>5</td>\n      <td>bahrain</td>\n      <td>Michael Schumacher</td>\n      <td>MSC</td>\n      <td>Ferrari</td>\n      <td>1:33.310</td>\n      <td>1:32.025</td>\n      <td>1:31.431</td>\n      <td>20</td>\n    </tr>\n    <tr>\n      <th>1</th>\n      <td>1</td>\n      <td>2006</td>\n      <td>2</td>\n      <td>6</td>\n      <td>bahrain</td>\n      <td>Felipe Massa</td>\n      <td>MAS</td>\n      <td>Ferrari</td>\n      <td>1:33.579</td>\n      <td>1:32.014</td>\n      <td>1:31.478</td>\n      <td>20</td>\n    </tr>\n    <tr>\n      <th>2</th>\n      <td>2</td>\n      <td>2006</td>\n      <td>3</td>\n      <td>12</td>\n      <td>bahrain</td>\n      <td>Jenson Button</td>\n      <td>BUT</td>\n      <td>Honda</td>\n      <td>1:32.603</td>\n      <td>1:32.025</td>\n      <td>1:31.549</td>\n      <td>23</td>\n    </tr>\n    <tr>\n      <th>3</th>\n      <td>3</td>\n      <td>2006</td>\n      <td>4</td>\n      <td>1</td>\n      <td>bahrain</td>\n      <td>Fernando Alonso</td>\n      <td>ALO</td>\n      <td>Renault</td>\n      <td>1:32.433</td>\n      <td>1:31.215</td>\n      <td>1:31.702</td>\n      <td>20</td>\n    </tr>\n    <tr>\n      <th>4</th>\n      <td>4</td>\n      <td>2006</td>\n      <td>5</td>\n      <td>4</td>\n      <td>bahrain</td>\n      <td>Juan Pablo Montoya</td>\n      <td>MOY</td>\n      <td>McLaren Mercedes</td>\n      <td>1:33.233</td>\n      <td>1:31.487</td>\n      <td>1:32.164</td>\n      <td>20</td>\n    </tr>\n    <tr>\n      <th>5</th>\n      <td>5</td>\n      <td>2006</td>\n      <td>6</td>\n      <td>11</td>\n      <td>bahrain</td>\n      <td>Rubens Barrichello</td>\n      <td>BAR</td>\n      <td>Honda</td>\n      <td>1:33.922</td>\n      <td>1:32.322</td>\n      <td>1:32.579</td>\n      <td>26</td>\n    </tr>\n    <tr>\n      <th>6</th>\n      <td>6</td>\n      <td>2006</td>\n      <td>7</td>\n      <td>9</td>\n      <td>bahrain</td>\n      <td>Mark Webber</td>\n      <td>WEB</td>\n      <td>Williams Cosworth</td>\n      <td>1:33.454</td>\n      <td>1:32.309</td>\n      <td>1:33.006</td>\n      <td>20</td>\n    </tr>\n    <tr>\n      <th>7</th>\n      <td>7</td>\n      <td>2006</td>\n      <td>8</td>\n      <td>15</td>\n      <td>bahrain</td>\n      <td>Christian Klien</td>\n      <td>KLI</td>\n      <td>RBR Ferrari</td>\n      <td>1:34.308</td>\n      <td>1:32.106</td>\n      <td>1:33.112</td>\n      <td>25</td>\n    </tr>\n    <tr>\n      <th>8</th>\n      <td>8</td>\n      <td>2006</td>\n      <td>9</td>\n      <td>2</td>\n      <td>bahrain</td>\n      <td>Giancarlo Fisichella</td>\n      <td>FIS</td>\n      <td>Renault</td>\n      <td>1:32.934</td>\n      <td>1:31.831</td>\n      <td>1:33.496</td>\n      <td>20</td>\n    </tr>\n    <tr>\n      <th>9</th>\n      <td>9</td>\n      <td>2006</td>\n      <td>10</td>\n      <td>16</td>\n      <td>bahrain</td>\n      <td>Nick Heidfeld</td>\n      <td>HEI</td>\n      <td>Sauber BMW</td>\n      <td>1:33.374</td>\n      <td>1:31.958</td>\n      <td>1:33.926</td>\n      <td>24</td>\n    </tr>\n  </tbody>\n</table>\n</div>"
     },
     "metadata": {},
     "execution_count": 3
    }
   ],
   "source": [
    "qualy_times2 = pd.read_csv(\"C:\\\\Users\\\\javig\\\\OneDrive\\\\Documents\\\\Bootcamp\\\\proyect1_data\\\\qualifying_times_2006-2020.csv\")\n",
    "qualy_times2.head(10)"
   ]
  },
  {
   "cell_type": "code",
   "execution_count": 4,
   "metadata": {},
   "outputs": [],
   "source": [
    "qualy_times2 = qualy_times2.drop([\"Q1\",\"Q2\"], axis=1)"
   ]
  },
  {
   "cell_type": "code",
   "execution_count": 5,
   "metadata": {},
   "outputs": [
    {
     "output_type": "execute_result",
     "data": {
      "text/plain": [
       "      Unnamed: 0  Year Position  Driver No.      Venue                Name  \\\n",
       "0              0  2006        1           5    bahrain  Michael Schumacher   \n",
       "1              1  2006        2           6    bahrain        Felipe Massa   \n",
       "2              2  2006        3          12    bahrain       Jenson Button   \n",
       "3              3  2006        4           1    bahrain     Fernando Alonso   \n",
       "4              4  2006        5           4    bahrain  Juan Pablo Montoya   \n",
       "...          ...   ...      ...         ...        ...                 ...   \n",
       "6084        6084  2020       16           7  abu-dhabi    Kimi RÃ¤ikkÃ¶nen   \n",
       "6085        6085  2020       17          20  abu-dhabi     Kevin Magnussen   \n",
       "6086        6086  2020       18          63  abu-dhabi      George Russell   \n",
       "6087        6087  2020       19          51  abu-dhabi   Pietro Fittipaldi   \n",
       "6088        6088  2020       20           6  abu-dhabi     Nicholas Latifi   \n",
       "\n",
       "     NameTag                       Team        Q3  Laps  \n",
       "0        MSC                    Ferrari  1:31.431    20  \n",
       "1        MAS                    Ferrari  1:31.478    20  \n",
       "2        BUT                      Honda  1:31.549    23  \n",
       "3        ALO                    Renault  1:31.702    20  \n",
       "4        MOY           McLaren Mercedes  1:32.164    20  \n",
       "...      ...                        ...       ...   ...  \n",
       "6084     RAI  Alfa Romeo Racing Ferrari       NaN     6  \n",
       "6085     MAG               Haas Ferrari       NaN     9  \n",
       "6086     RUS          Williams Mercedes       NaN     8  \n",
       "6087     FIT               Haas Ferrari       NaN     9  \n",
       "6088     LAT          Williams Mercedes       NaN     7  \n",
       "\n",
       "[6089 rows x 10 columns]"
      ],
      "text/html": "<div>\n<style scoped>\n    .dataframe tbody tr th:only-of-type {\n        vertical-align: middle;\n    }\n\n    .dataframe tbody tr th {\n        vertical-align: top;\n    }\n\n    .dataframe thead th {\n        text-align: right;\n    }\n</style>\n<table border=\"1\" class=\"dataframe\">\n  <thead>\n    <tr style=\"text-align: right;\">\n      <th></th>\n      <th>Unnamed: 0</th>\n      <th>Year</th>\n      <th>Position</th>\n      <th>Driver No.</th>\n      <th>Venue</th>\n      <th>Name</th>\n      <th>NameTag</th>\n      <th>Team</th>\n      <th>Q3</th>\n      <th>Laps</th>\n    </tr>\n  </thead>\n  <tbody>\n    <tr>\n      <th>0</th>\n      <td>0</td>\n      <td>2006</td>\n      <td>1</td>\n      <td>5</td>\n      <td>bahrain</td>\n      <td>Michael Schumacher</td>\n      <td>MSC</td>\n      <td>Ferrari</td>\n      <td>1:31.431</td>\n      <td>20</td>\n    </tr>\n    <tr>\n      <th>1</th>\n      <td>1</td>\n      <td>2006</td>\n      <td>2</td>\n      <td>6</td>\n      <td>bahrain</td>\n      <td>Felipe Massa</td>\n      <td>MAS</td>\n      <td>Ferrari</td>\n      <td>1:31.478</td>\n      <td>20</td>\n    </tr>\n    <tr>\n      <th>2</th>\n      <td>2</td>\n      <td>2006</td>\n      <td>3</td>\n      <td>12</td>\n      <td>bahrain</td>\n      <td>Jenson Button</td>\n      <td>BUT</td>\n      <td>Honda</td>\n      <td>1:31.549</td>\n      <td>23</td>\n    </tr>\n    <tr>\n      <th>3</th>\n      <td>3</td>\n      <td>2006</td>\n      <td>4</td>\n      <td>1</td>\n      <td>bahrain</td>\n      <td>Fernando Alonso</td>\n      <td>ALO</td>\n      <td>Renault</td>\n      <td>1:31.702</td>\n      <td>20</td>\n    </tr>\n    <tr>\n      <th>4</th>\n      <td>4</td>\n      <td>2006</td>\n      <td>5</td>\n      <td>4</td>\n      <td>bahrain</td>\n      <td>Juan Pablo Montoya</td>\n      <td>MOY</td>\n      <td>McLaren Mercedes</td>\n      <td>1:32.164</td>\n      <td>20</td>\n    </tr>\n    <tr>\n      <th>...</th>\n      <td>...</td>\n      <td>...</td>\n      <td>...</td>\n      <td>...</td>\n      <td>...</td>\n      <td>...</td>\n      <td>...</td>\n      <td>...</td>\n      <td>...</td>\n      <td>...</td>\n    </tr>\n    <tr>\n      <th>6084</th>\n      <td>6084</td>\n      <td>2020</td>\n      <td>16</td>\n      <td>7</td>\n      <td>abu-dhabi</td>\n      <td>Kimi RÃ¤ikkÃ¶nen</td>\n      <td>RAI</td>\n      <td>Alfa Romeo Racing Ferrari</td>\n      <td>NaN</td>\n      <td>6</td>\n    </tr>\n    <tr>\n      <th>6085</th>\n      <td>6085</td>\n      <td>2020</td>\n      <td>17</td>\n      <td>20</td>\n      <td>abu-dhabi</td>\n      <td>Kevin Magnussen</td>\n      <td>MAG</td>\n      <td>Haas Ferrari</td>\n      <td>NaN</td>\n      <td>9</td>\n    </tr>\n    <tr>\n      <th>6086</th>\n      <td>6086</td>\n      <td>2020</td>\n      <td>18</td>\n      <td>63</td>\n      <td>abu-dhabi</td>\n      <td>George Russell</td>\n      <td>RUS</td>\n      <td>Williams Mercedes</td>\n      <td>NaN</td>\n      <td>8</td>\n    </tr>\n    <tr>\n      <th>6087</th>\n      <td>6087</td>\n      <td>2020</td>\n      <td>19</td>\n      <td>51</td>\n      <td>abu-dhabi</td>\n      <td>Pietro Fittipaldi</td>\n      <td>FIT</td>\n      <td>Haas Ferrari</td>\n      <td>NaN</td>\n      <td>9</td>\n    </tr>\n    <tr>\n      <th>6088</th>\n      <td>6088</td>\n      <td>2020</td>\n      <td>20</td>\n      <td>6</td>\n      <td>abu-dhabi</td>\n      <td>Nicholas Latifi</td>\n      <td>LAT</td>\n      <td>Williams Mercedes</td>\n      <td>NaN</td>\n      <td>7</td>\n    </tr>\n  </tbody>\n</table>\n<p>6089 rows × 10 columns</p>\n</div>"
     },
     "metadata": {},
     "execution_count": 5
    }
   ],
   "source": [
    "qualy_times2"
   ]
  },
  {
   "cell_type": "code",
   "execution_count": 6,
   "metadata": {},
   "outputs": [
    {
     "output_type": "execute_result",
     "data": {
      "text/plain": [
       "      Unnamed: 0  Year Position  Driver No.      Venue                Name  \\\n",
       "0              0  2006        1           5    bahrain  Michael Schumacher   \n",
       "1              1  2006        2           6    bahrain        Felipe Massa   \n",
       "2              2  2006        3          12    bahrain       Jenson Button   \n",
       "3              3  2006        4           1    bahrain     Fernando Alonso   \n",
       "4              4  2006        5           4    bahrain  Juan Pablo Montoya   \n",
       "...          ...   ...      ...         ...        ...                 ...   \n",
       "6084        6084  2020       16           7  abu-dhabi    Kimi RÃ¤ikkÃ¶nen   \n",
       "6085        6085  2020       17          20  abu-dhabi     Kevin Magnussen   \n",
       "6086        6086  2020       18          63  abu-dhabi      George Russell   \n",
       "6087        6087  2020       19          51  abu-dhabi   Pietro Fittipaldi   \n",
       "6088        6088  2020       20           6  abu-dhabi     Nicholas Latifi   \n",
       "\n",
       "     NameTag                       Team  Lap Time  Laps  \n",
       "0        MSC                    Ferrari  1:31.431    20  \n",
       "1        MAS                    Ferrari  1:31.478    20  \n",
       "2        BUT                      Honda  1:31.549    23  \n",
       "3        ALO                    Renault  1:31.702    20  \n",
       "4        MOY           McLaren Mercedes  1:32.164    20  \n",
       "...      ...                        ...       ...   ...  \n",
       "6084     RAI  Alfa Romeo Racing Ferrari       NaN     6  \n",
       "6085     MAG               Haas Ferrari       NaN     9  \n",
       "6086     RUS          Williams Mercedes       NaN     8  \n",
       "6087     FIT               Haas Ferrari       NaN     9  \n",
       "6088     LAT          Williams Mercedes       NaN     7  \n",
       "\n",
       "[6089 rows x 10 columns]"
      ],
      "text/html": "<div>\n<style scoped>\n    .dataframe tbody tr th:only-of-type {\n        vertical-align: middle;\n    }\n\n    .dataframe tbody tr th {\n        vertical-align: top;\n    }\n\n    .dataframe thead th {\n        text-align: right;\n    }\n</style>\n<table border=\"1\" class=\"dataframe\">\n  <thead>\n    <tr style=\"text-align: right;\">\n      <th></th>\n      <th>Unnamed: 0</th>\n      <th>Year</th>\n      <th>Position</th>\n      <th>Driver No.</th>\n      <th>Venue</th>\n      <th>Name</th>\n      <th>NameTag</th>\n      <th>Team</th>\n      <th>Lap Time</th>\n      <th>Laps</th>\n    </tr>\n  </thead>\n  <tbody>\n    <tr>\n      <th>0</th>\n      <td>0</td>\n      <td>2006</td>\n      <td>1</td>\n      <td>5</td>\n      <td>bahrain</td>\n      <td>Michael Schumacher</td>\n      <td>MSC</td>\n      <td>Ferrari</td>\n      <td>1:31.431</td>\n      <td>20</td>\n    </tr>\n    <tr>\n      <th>1</th>\n      <td>1</td>\n      <td>2006</td>\n      <td>2</td>\n      <td>6</td>\n      <td>bahrain</td>\n      <td>Felipe Massa</td>\n      <td>MAS</td>\n      <td>Ferrari</td>\n      <td>1:31.478</td>\n      <td>20</td>\n    </tr>\n    <tr>\n      <th>2</th>\n      <td>2</td>\n      <td>2006</td>\n      <td>3</td>\n      <td>12</td>\n      <td>bahrain</td>\n      <td>Jenson Button</td>\n      <td>BUT</td>\n      <td>Honda</td>\n      <td>1:31.549</td>\n      <td>23</td>\n    </tr>\n    <tr>\n      <th>3</th>\n      <td>3</td>\n      <td>2006</td>\n      <td>4</td>\n      <td>1</td>\n      <td>bahrain</td>\n      <td>Fernando Alonso</td>\n      <td>ALO</td>\n      <td>Renault</td>\n      <td>1:31.702</td>\n      <td>20</td>\n    </tr>\n    <tr>\n      <th>4</th>\n      <td>4</td>\n      <td>2006</td>\n      <td>5</td>\n      <td>4</td>\n      <td>bahrain</td>\n      <td>Juan Pablo Montoya</td>\n      <td>MOY</td>\n      <td>McLaren Mercedes</td>\n      <td>1:32.164</td>\n      <td>20</td>\n    </tr>\n    <tr>\n      <th>...</th>\n      <td>...</td>\n      <td>...</td>\n      <td>...</td>\n      <td>...</td>\n      <td>...</td>\n      <td>...</td>\n      <td>...</td>\n      <td>...</td>\n      <td>...</td>\n      <td>...</td>\n    </tr>\n    <tr>\n      <th>6084</th>\n      <td>6084</td>\n      <td>2020</td>\n      <td>16</td>\n      <td>7</td>\n      <td>abu-dhabi</td>\n      <td>Kimi RÃ¤ikkÃ¶nen</td>\n      <td>RAI</td>\n      <td>Alfa Romeo Racing Ferrari</td>\n      <td>NaN</td>\n      <td>6</td>\n    </tr>\n    <tr>\n      <th>6085</th>\n      <td>6085</td>\n      <td>2020</td>\n      <td>17</td>\n      <td>20</td>\n      <td>abu-dhabi</td>\n      <td>Kevin Magnussen</td>\n      <td>MAG</td>\n      <td>Haas Ferrari</td>\n      <td>NaN</td>\n      <td>9</td>\n    </tr>\n    <tr>\n      <th>6086</th>\n      <td>6086</td>\n      <td>2020</td>\n      <td>18</td>\n      <td>63</td>\n      <td>abu-dhabi</td>\n      <td>George Russell</td>\n      <td>RUS</td>\n      <td>Williams Mercedes</td>\n      <td>NaN</td>\n      <td>8</td>\n    </tr>\n    <tr>\n      <th>6087</th>\n      <td>6087</td>\n      <td>2020</td>\n      <td>19</td>\n      <td>51</td>\n      <td>abu-dhabi</td>\n      <td>Pietro Fittipaldi</td>\n      <td>FIT</td>\n      <td>Haas Ferrari</td>\n      <td>NaN</td>\n      <td>9</td>\n    </tr>\n    <tr>\n      <th>6088</th>\n      <td>6088</td>\n      <td>2020</td>\n      <td>20</td>\n      <td>6</td>\n      <td>abu-dhabi</td>\n      <td>Nicholas Latifi</td>\n      <td>LAT</td>\n      <td>Williams Mercedes</td>\n      <td>NaN</td>\n      <td>7</td>\n    </tr>\n  </tbody>\n</table>\n<p>6089 rows × 10 columns</p>\n</div>"
     },
     "metadata": {},
     "execution_count": 6
    }
   ],
   "source": [
    "qualy_times2.rename(columns={\"Q3\":\"Lap Time\"}, inplace=True)\n",
    "qualy_times2"
   ]
  },
  {
   "cell_type": "code",
   "execution_count": 7,
   "metadata": {},
   "outputs": [
    {
     "output_type": "execute_result",
     "data": {
      "text/plain": [
       "      Unnamed: 0  Year Position  Driver No.             Venue  \\\n",
       "0              0  1950        1           2     great-britain   \n",
       "1              1  1950        1          34            monaco   \n",
       "2              2  1950        1          98  indianapolis-500   \n",
       "3              3  1950        1          14       switzerland   \n",
       "4              4  1950        1           8           belgium   \n",
       "...          ...   ...      ...         ...               ...   \n",
       "6084        6084  2020       16           7         abu-dhabi   \n",
       "6085        6085  2020       17          20         abu-dhabi   \n",
       "6086        6086  2020       18          63         abu-dhabi   \n",
       "6087        6087  2020       19          51         abu-dhabi   \n",
       "6088        6088  2020       20           6         abu-dhabi   \n",
       "\n",
       "                    Name NameTag                       Team  Lap Time  Laps  \n",
       "0            Nino Farina     FAR                 Alfa Romeo  1:50.800   NaN  \n",
       "1     Juan Manuel Fangio     FAN                 Alfa Romeo  1:50.200   NaN  \n",
       "2          Walt Faulkner     FAU   Kurtis Kraft Offenhauser  1:06.992   NaN  \n",
       "3     Juan Manuel Fangio     FAN                 Alfa Romeo  2:42.100   NaN  \n",
       "4            Nino Farina     FAR                 Alfa Romeo  4:37.000   NaN  \n",
       "...                  ...     ...                        ...       ...   ...  \n",
       "6084    Kimi RÃ¤ikkÃ¶nen     RAI  Alfa Romeo Racing Ferrari       NaN   6.0  \n",
       "6085     Kevin Magnussen     MAG               Haas Ferrari       NaN   9.0  \n",
       "6086      George Russell     RUS          Williams Mercedes       NaN   8.0  \n",
       "6087   Pietro Fittipaldi     FIT               Haas Ferrari       NaN   9.0  \n",
       "6088     Nicholas Latifi     LAT          Williams Mercedes       NaN   7.0  \n",
       "\n",
       "[16038 rows x 10 columns]"
      ],
      "text/html": "<div>\n<style scoped>\n    .dataframe tbody tr th:only-of-type {\n        vertical-align: middle;\n    }\n\n    .dataframe tbody tr th {\n        vertical-align: top;\n    }\n\n    .dataframe thead th {\n        text-align: right;\n    }\n</style>\n<table border=\"1\" class=\"dataframe\">\n  <thead>\n    <tr style=\"text-align: right;\">\n      <th></th>\n      <th>Unnamed: 0</th>\n      <th>Year</th>\n      <th>Position</th>\n      <th>Driver No.</th>\n      <th>Venue</th>\n      <th>Name</th>\n      <th>NameTag</th>\n      <th>Team</th>\n      <th>Lap Time</th>\n      <th>Laps</th>\n    </tr>\n  </thead>\n  <tbody>\n    <tr>\n      <th>0</th>\n      <td>0</td>\n      <td>1950</td>\n      <td>1</td>\n      <td>2</td>\n      <td>great-britain</td>\n      <td>Nino Farina</td>\n      <td>FAR</td>\n      <td>Alfa Romeo</td>\n      <td>1:50.800</td>\n      <td>NaN</td>\n    </tr>\n    <tr>\n      <th>1</th>\n      <td>1</td>\n      <td>1950</td>\n      <td>1</td>\n      <td>34</td>\n      <td>monaco</td>\n      <td>Juan Manuel Fangio</td>\n      <td>FAN</td>\n      <td>Alfa Romeo</td>\n      <td>1:50.200</td>\n      <td>NaN</td>\n    </tr>\n    <tr>\n      <th>2</th>\n      <td>2</td>\n      <td>1950</td>\n      <td>1</td>\n      <td>98</td>\n      <td>indianapolis-500</td>\n      <td>Walt Faulkner</td>\n      <td>FAU</td>\n      <td>Kurtis Kraft Offenhauser</td>\n      <td>1:06.992</td>\n      <td>NaN</td>\n    </tr>\n    <tr>\n      <th>3</th>\n      <td>3</td>\n      <td>1950</td>\n      <td>1</td>\n      <td>14</td>\n      <td>switzerland</td>\n      <td>Juan Manuel Fangio</td>\n      <td>FAN</td>\n      <td>Alfa Romeo</td>\n      <td>2:42.100</td>\n      <td>NaN</td>\n    </tr>\n    <tr>\n      <th>4</th>\n      <td>4</td>\n      <td>1950</td>\n      <td>1</td>\n      <td>8</td>\n      <td>belgium</td>\n      <td>Nino Farina</td>\n      <td>FAR</td>\n      <td>Alfa Romeo</td>\n      <td>4:37.000</td>\n      <td>NaN</td>\n    </tr>\n    <tr>\n      <th>...</th>\n      <td>...</td>\n      <td>...</td>\n      <td>...</td>\n      <td>...</td>\n      <td>...</td>\n      <td>...</td>\n      <td>...</td>\n      <td>...</td>\n      <td>...</td>\n      <td>...</td>\n    </tr>\n    <tr>\n      <th>6084</th>\n      <td>6084</td>\n      <td>2020</td>\n      <td>16</td>\n      <td>7</td>\n      <td>abu-dhabi</td>\n      <td>Kimi RÃ¤ikkÃ¶nen</td>\n      <td>RAI</td>\n      <td>Alfa Romeo Racing Ferrari</td>\n      <td>NaN</td>\n      <td>6.0</td>\n    </tr>\n    <tr>\n      <th>6085</th>\n      <td>6085</td>\n      <td>2020</td>\n      <td>17</td>\n      <td>20</td>\n      <td>abu-dhabi</td>\n      <td>Kevin Magnussen</td>\n      <td>MAG</td>\n      <td>Haas Ferrari</td>\n      <td>NaN</td>\n      <td>9.0</td>\n    </tr>\n    <tr>\n      <th>6086</th>\n      <td>6086</td>\n      <td>2020</td>\n      <td>18</td>\n      <td>63</td>\n      <td>abu-dhabi</td>\n      <td>George Russell</td>\n      <td>RUS</td>\n      <td>Williams Mercedes</td>\n      <td>NaN</td>\n      <td>8.0</td>\n    </tr>\n    <tr>\n      <th>6087</th>\n      <td>6087</td>\n      <td>2020</td>\n      <td>19</td>\n      <td>51</td>\n      <td>abu-dhabi</td>\n      <td>Pietro Fittipaldi</td>\n      <td>FIT</td>\n      <td>Haas Ferrari</td>\n      <td>NaN</td>\n      <td>9.0</td>\n    </tr>\n    <tr>\n      <th>6088</th>\n      <td>6088</td>\n      <td>2020</td>\n      <td>20</td>\n      <td>6</td>\n      <td>abu-dhabi</td>\n      <td>Nicholas Latifi</td>\n      <td>LAT</td>\n      <td>Williams Mercedes</td>\n      <td>NaN</td>\n      <td>7.0</td>\n    </tr>\n  </tbody>\n</table>\n<p>16038 rows × 10 columns</p>\n</div>"
     },
     "metadata": {},
     "execution_count": 7
    }
   ],
   "source": [
    "frames = [qualy_times1, qualy_times2]\n",
    "qualy_times = pd.concat(frames)\n",
    "qualy_times"
   ]
  },
  {
   "cell_type": "code",
   "execution_count": 8,
   "metadata": {},
   "outputs": [
    {
     "output_type": "execute_result",
     "data": {
      "text/plain": [
       "      Unnamed: 0  Year Position  Driver No.             Venue  \\\n",
       "0              0  1950        1           2     great-britain   \n",
       "1              1  1950        1          34            monaco   \n",
       "2              2  1950        1          98  indianapolis-500   \n",
       "3              3  1950        1          14       switzerland   \n",
       "4              4  1950        1           8           belgium   \n",
       "...          ...   ...      ...         ...               ...   \n",
       "5989        5989  2020        1          77             italy   \n",
       "6009        6009  2020        1          18            turkey   \n",
       "6029        6029  2020        1          44           bahrain   \n",
       "6049        6049  2020        1          77           bahrain   \n",
       "6069        6069  2020        1          33         abu-dhabi   \n",
       "\n",
       "                    Name NameTag                       Team  Lap Time  Laps  \n",
       "0            Nino Farina     FAR                 Alfa Romeo  1:50.800   NaN  \n",
       "1     Juan Manuel Fangio     FAN                 Alfa Romeo  1:50.200   NaN  \n",
       "2          Walt Faulkner     FAU   Kurtis Kraft Offenhauser  1:06.992   NaN  \n",
       "3     Juan Manuel Fangio     FAN                 Alfa Romeo  2:42.100   NaN  \n",
       "4            Nino Farina     FAR                 Alfa Romeo  4:37.000   NaN  \n",
       "...                  ...     ...                        ...       ...   ...  \n",
       "5989     Valtteri Bottas     BOT                   Mercedes  1:13.609  22.0  \n",
       "6009        Lance Stroll     STR  Racing Point BWT Mercedes  1:47.765  22.0  \n",
       "6029      Lewis Hamilton     HAM                   Mercedes  1:27.264  16.0  \n",
       "6049     Valtteri Bottas     BOT                   Mercedes    53.377  24.0  \n",
       "6069      Max Verstappen     VER      Red Bull Racing Honda  1:35.246  19.0  \n",
       "\n",
       "[1035 rows x 10 columns]"
      ],
      "text/html": "<div>\n<style scoped>\n    .dataframe tbody tr th:only-of-type {\n        vertical-align: middle;\n    }\n\n    .dataframe tbody tr th {\n        vertical-align: top;\n    }\n\n    .dataframe thead th {\n        text-align: right;\n    }\n</style>\n<table border=\"1\" class=\"dataframe\">\n  <thead>\n    <tr style=\"text-align: right;\">\n      <th></th>\n      <th>Unnamed: 0</th>\n      <th>Year</th>\n      <th>Position</th>\n      <th>Driver No.</th>\n      <th>Venue</th>\n      <th>Name</th>\n      <th>NameTag</th>\n      <th>Team</th>\n      <th>Lap Time</th>\n      <th>Laps</th>\n    </tr>\n  </thead>\n  <tbody>\n    <tr>\n      <th>0</th>\n      <td>0</td>\n      <td>1950</td>\n      <td>1</td>\n      <td>2</td>\n      <td>great-britain</td>\n      <td>Nino Farina</td>\n      <td>FAR</td>\n      <td>Alfa Romeo</td>\n      <td>1:50.800</td>\n      <td>NaN</td>\n    </tr>\n    <tr>\n      <th>1</th>\n      <td>1</td>\n      <td>1950</td>\n      <td>1</td>\n      <td>34</td>\n      <td>monaco</td>\n      <td>Juan Manuel Fangio</td>\n      <td>FAN</td>\n      <td>Alfa Romeo</td>\n      <td>1:50.200</td>\n      <td>NaN</td>\n    </tr>\n    <tr>\n      <th>2</th>\n      <td>2</td>\n      <td>1950</td>\n      <td>1</td>\n      <td>98</td>\n      <td>indianapolis-500</td>\n      <td>Walt Faulkner</td>\n      <td>FAU</td>\n      <td>Kurtis Kraft Offenhauser</td>\n      <td>1:06.992</td>\n      <td>NaN</td>\n    </tr>\n    <tr>\n      <th>3</th>\n      <td>3</td>\n      <td>1950</td>\n      <td>1</td>\n      <td>14</td>\n      <td>switzerland</td>\n      <td>Juan Manuel Fangio</td>\n      <td>FAN</td>\n      <td>Alfa Romeo</td>\n      <td>2:42.100</td>\n      <td>NaN</td>\n    </tr>\n    <tr>\n      <th>4</th>\n      <td>4</td>\n      <td>1950</td>\n      <td>1</td>\n      <td>8</td>\n      <td>belgium</td>\n      <td>Nino Farina</td>\n      <td>FAR</td>\n      <td>Alfa Romeo</td>\n      <td>4:37.000</td>\n      <td>NaN</td>\n    </tr>\n    <tr>\n      <th>...</th>\n      <td>...</td>\n      <td>...</td>\n      <td>...</td>\n      <td>...</td>\n      <td>...</td>\n      <td>...</td>\n      <td>...</td>\n      <td>...</td>\n      <td>...</td>\n      <td>...</td>\n    </tr>\n    <tr>\n      <th>5989</th>\n      <td>5989</td>\n      <td>2020</td>\n      <td>1</td>\n      <td>77</td>\n      <td>italy</td>\n      <td>Valtteri Bottas</td>\n      <td>BOT</td>\n      <td>Mercedes</td>\n      <td>1:13.609</td>\n      <td>22.0</td>\n    </tr>\n    <tr>\n      <th>6009</th>\n      <td>6009</td>\n      <td>2020</td>\n      <td>1</td>\n      <td>18</td>\n      <td>turkey</td>\n      <td>Lance Stroll</td>\n      <td>STR</td>\n      <td>Racing Point BWT Mercedes</td>\n      <td>1:47.765</td>\n      <td>22.0</td>\n    </tr>\n    <tr>\n      <th>6029</th>\n      <td>6029</td>\n      <td>2020</td>\n      <td>1</td>\n      <td>44</td>\n      <td>bahrain</td>\n      <td>Lewis Hamilton</td>\n      <td>HAM</td>\n      <td>Mercedes</td>\n      <td>1:27.264</td>\n      <td>16.0</td>\n    </tr>\n    <tr>\n      <th>6049</th>\n      <td>6049</td>\n      <td>2020</td>\n      <td>1</td>\n      <td>77</td>\n      <td>bahrain</td>\n      <td>Valtteri Bottas</td>\n      <td>BOT</td>\n      <td>Mercedes</td>\n      <td>53.377</td>\n      <td>24.0</td>\n    </tr>\n    <tr>\n      <th>6069</th>\n      <td>6069</td>\n      <td>2020</td>\n      <td>1</td>\n      <td>33</td>\n      <td>abu-dhabi</td>\n      <td>Max Verstappen</td>\n      <td>VER</td>\n      <td>Red Bull Racing Honda</td>\n      <td>1:35.246</td>\n      <td>19.0</td>\n    </tr>\n  </tbody>\n</table>\n<p>1035 rows × 10 columns</p>\n</div>"
     },
     "metadata": {},
     "execution_count": 8
    }
   ],
   "source": [
    "qualy_times = qualy_times[qualy_times.Position == \"1\" ]\n",
    "qualy_times"
   ]
  },
  {
   "cell_type": "code",
   "execution_count": 9,
   "metadata": {},
   "outputs": [
    {
     "output_type": "execute_result",
     "data": {
      "text/plain": [
       "                     0\n",
       "Name                  \n",
       "Alain Prost         33\n",
       "Alan Jones           6\n",
       "Alberto Ascari      14\n",
       "Andrea de Cesaris    1\n",
       "Ayrton Senna        65\n",
       "...                 ..\n",
       "Tony Brooks          3\n",
       "Valtteri Bottas     16\n",
       "Vittorio Brambilla   1\n",
       "Walt Faulkner        1\n",
       "Wolfgang von Trips   1\n",
       "\n",
       "[101 rows x 1 columns]"
      ],
      "text/html": "<div>\n<style scoped>\n    .dataframe tbody tr th:only-of-type {\n        vertical-align: middle;\n    }\n\n    .dataframe tbody tr th {\n        vertical-align: top;\n    }\n\n    .dataframe thead th {\n        text-align: right;\n    }\n</style>\n<table border=\"1\" class=\"dataframe\">\n  <thead>\n    <tr style=\"text-align: right;\">\n      <th></th>\n      <th>0</th>\n    </tr>\n    <tr>\n      <th>Name</th>\n      <th></th>\n    </tr>\n  </thead>\n  <tbody>\n    <tr>\n      <th>Alain Prost</th>\n      <td>33</td>\n    </tr>\n    <tr>\n      <th>Alan Jones</th>\n      <td>6</td>\n    </tr>\n    <tr>\n      <th>Alberto Ascari</th>\n      <td>14</td>\n    </tr>\n    <tr>\n      <th>Andrea de Cesaris</th>\n      <td>1</td>\n    </tr>\n    <tr>\n      <th>Ayrton Senna</th>\n      <td>65</td>\n    </tr>\n    <tr>\n      <th>...</th>\n      <td>...</td>\n    </tr>\n    <tr>\n      <th>Tony Brooks</th>\n      <td>3</td>\n    </tr>\n    <tr>\n      <th>Valtteri Bottas</th>\n      <td>16</td>\n    </tr>\n    <tr>\n      <th>Vittorio Brambilla</th>\n      <td>1</td>\n    </tr>\n    <tr>\n      <th>Walt Faulkner</th>\n      <td>1</td>\n    </tr>\n    <tr>\n      <th>Wolfgang von Trips</th>\n      <td>1</td>\n    </tr>\n  </tbody>\n</table>\n<p>101 rows × 1 columns</p>\n</div>"
     },
     "metadata": {},
     "execution_count": 9
    }
   ],
   "source": [
    "qt_num = qualy_times.pivot_table(index=[\"Name\"], aggfunc= \"size\")\n",
    "qt_num = pd.DataFrame(qt_num)\n",
    "qt_num"
   ]
  },
  {
   "cell_type": "code",
   "execution_count": 10,
   "metadata": {},
   "outputs": [
    {
     "output_type": "execute_result",
     "data": {
      "text/plain": [
       "      Year             Venue                Name                       Team\n",
       "0     1950     great-britain         Nino Farina                 Alfa Romeo\n",
       "1     1950            monaco  Juan Manuel Fangio                 Alfa Romeo\n",
       "2     1950  indianapolis-500       Walt Faulkner   Kurtis Kraft Offenhauser\n",
       "3     1950       switzerland  Juan Manuel Fangio                 Alfa Romeo\n",
       "4     1950           belgium         Nino Farina                 Alfa Romeo\n",
       "...    ...               ...                 ...                        ...\n",
       "5989  2020             italy     Valtteri Bottas                   Mercedes\n",
       "6009  2020            turkey        Lance Stroll  Racing Point BWT Mercedes\n",
       "6029  2020           bahrain      Lewis Hamilton                   Mercedes\n",
       "6049  2020           bahrain     Valtteri Bottas                   Mercedes\n",
       "6069  2020         abu-dhabi      Max Verstappen      Red Bull Racing Honda\n",
       "\n",
       "[1035 rows x 4 columns]"
      ],
      "text/html": "<div>\n<style scoped>\n    .dataframe tbody tr th:only-of-type {\n        vertical-align: middle;\n    }\n\n    .dataframe tbody tr th {\n        vertical-align: top;\n    }\n\n    .dataframe thead th {\n        text-align: right;\n    }\n</style>\n<table border=\"1\" class=\"dataframe\">\n  <thead>\n    <tr style=\"text-align: right;\">\n      <th></th>\n      <th>Year</th>\n      <th>Venue</th>\n      <th>Name</th>\n      <th>Team</th>\n    </tr>\n  </thead>\n  <tbody>\n    <tr>\n      <th>0</th>\n      <td>1950</td>\n      <td>great-britain</td>\n      <td>Nino Farina</td>\n      <td>Alfa Romeo</td>\n    </tr>\n    <tr>\n      <th>1</th>\n      <td>1950</td>\n      <td>monaco</td>\n      <td>Juan Manuel Fangio</td>\n      <td>Alfa Romeo</td>\n    </tr>\n    <tr>\n      <th>2</th>\n      <td>1950</td>\n      <td>indianapolis-500</td>\n      <td>Walt Faulkner</td>\n      <td>Kurtis Kraft Offenhauser</td>\n    </tr>\n    <tr>\n      <th>3</th>\n      <td>1950</td>\n      <td>switzerland</td>\n      <td>Juan Manuel Fangio</td>\n      <td>Alfa Romeo</td>\n    </tr>\n    <tr>\n      <th>4</th>\n      <td>1950</td>\n      <td>belgium</td>\n      <td>Nino Farina</td>\n      <td>Alfa Romeo</td>\n    </tr>\n    <tr>\n      <th>...</th>\n      <td>...</td>\n      <td>...</td>\n      <td>...</td>\n      <td>...</td>\n    </tr>\n    <tr>\n      <th>5989</th>\n      <td>2020</td>\n      <td>italy</td>\n      <td>Valtteri Bottas</td>\n      <td>Mercedes</td>\n    </tr>\n    <tr>\n      <th>6009</th>\n      <td>2020</td>\n      <td>turkey</td>\n      <td>Lance Stroll</td>\n      <td>Racing Point BWT Mercedes</td>\n    </tr>\n    <tr>\n      <th>6029</th>\n      <td>2020</td>\n      <td>bahrain</td>\n      <td>Lewis Hamilton</td>\n      <td>Mercedes</td>\n    </tr>\n    <tr>\n      <th>6049</th>\n      <td>2020</td>\n      <td>bahrain</td>\n      <td>Valtteri Bottas</td>\n      <td>Mercedes</td>\n    </tr>\n    <tr>\n      <th>6069</th>\n      <td>2020</td>\n      <td>abu-dhabi</td>\n      <td>Max Verstappen</td>\n      <td>Red Bull Racing Honda</td>\n    </tr>\n  </tbody>\n</table>\n<p>1035 rows × 4 columns</p>\n</div>"
     },
     "metadata": {},
     "execution_count": 10
    }
   ],
   "source": [
    "qt_team = qualy_times.drop(qualy_times.columns.difference(['Year',\"Venue\",'Name', \"Team\"]), 1)\n",
    "qt_team "
   ]
  },
  {
   "cell_type": "code",
   "execution_count": 11,
   "metadata": {},
   "outputs": [
    {
     "output_type": "execute_result",
     "data": {
      "text/plain": [
       "      Year             Venue                Name                       Team\n",
       "0     1950     great-britain         Nino Farina                 Alfa Romeo\n",
       "1     1950            monaco  Juan Manuel Fangio                 Alfa Romeo\n",
       "2     1950  indianapolis-500       Walt Faulkner   Kurtis Kraft Offenhauser\n",
       "3     1950       switzerland  Juan Manuel Fangio                 Alfa Romeo\n",
       "4     1950           belgium         Nino Farina                 Alfa Romeo\n",
       "...    ...               ...                 ...                        ...\n",
       "5989  2020             italy     Valtteri Bottas                   Mercedes\n",
       "6009  2020            turkey        Lance Stroll  Racing Point BWT Mercedes\n",
       "6029  2020           bahrain      Lewis Hamilton                   Mercedes\n",
       "6049  2020           bahrain     Valtteri Bottas                   Mercedes\n",
       "6069  2020         abu-dhabi      Max Verstappen      Red Bull Racing Honda\n",
       "\n",
       "[1035 rows x 4 columns]"
      ],
      "text/html": "<div>\n<style scoped>\n    .dataframe tbody tr th:only-of-type {\n        vertical-align: middle;\n    }\n\n    .dataframe tbody tr th {\n        vertical-align: top;\n    }\n\n    .dataframe thead th {\n        text-align: right;\n    }\n</style>\n<table border=\"1\" class=\"dataframe\">\n  <thead>\n    <tr style=\"text-align: right;\">\n      <th></th>\n      <th>Year</th>\n      <th>Venue</th>\n      <th>Name</th>\n      <th>Team</th>\n    </tr>\n  </thead>\n  <tbody>\n    <tr>\n      <th>0</th>\n      <td>1950</td>\n      <td>great-britain</td>\n      <td>Nino Farina</td>\n      <td>Alfa Romeo</td>\n    </tr>\n    <tr>\n      <th>1</th>\n      <td>1950</td>\n      <td>monaco</td>\n      <td>Juan Manuel Fangio</td>\n      <td>Alfa Romeo</td>\n    </tr>\n    <tr>\n      <th>2</th>\n      <td>1950</td>\n      <td>indianapolis-500</td>\n      <td>Walt Faulkner</td>\n      <td>Kurtis Kraft Offenhauser</td>\n    </tr>\n    <tr>\n      <th>3</th>\n      <td>1950</td>\n      <td>switzerland</td>\n      <td>Juan Manuel Fangio</td>\n      <td>Alfa Romeo</td>\n    </tr>\n    <tr>\n      <th>4</th>\n      <td>1950</td>\n      <td>belgium</td>\n      <td>Nino Farina</td>\n      <td>Alfa Romeo</td>\n    </tr>\n    <tr>\n      <th>...</th>\n      <td>...</td>\n      <td>...</td>\n      <td>...</td>\n      <td>...</td>\n    </tr>\n    <tr>\n      <th>5989</th>\n      <td>2020</td>\n      <td>italy</td>\n      <td>Valtteri Bottas</td>\n      <td>Mercedes</td>\n    </tr>\n    <tr>\n      <th>6009</th>\n      <td>2020</td>\n      <td>turkey</td>\n      <td>Lance Stroll</td>\n      <td>Racing Point BWT Mercedes</td>\n    </tr>\n    <tr>\n      <th>6029</th>\n      <td>2020</td>\n      <td>bahrain</td>\n      <td>Lewis Hamilton</td>\n      <td>Mercedes</td>\n    </tr>\n    <tr>\n      <th>6049</th>\n      <td>2020</td>\n      <td>bahrain</td>\n      <td>Valtteri Bottas</td>\n      <td>Mercedes</td>\n    </tr>\n    <tr>\n      <th>6069</th>\n      <td>2020</td>\n      <td>abu-dhabi</td>\n      <td>Max Verstappen</td>\n      <td>Red Bull Racing Honda</td>\n    </tr>\n  </tbody>\n</table>\n<p>1035 rows × 4 columns</p>\n</div>"
     },
     "metadata": {},
     "execution_count": 11
    }
   ],
   "source": [
    "qt_ = qualy_times.drop(qualy_times.columns.difference(['Year',\"Venue\",'Name', \"Team\"]), 1)\n",
    "qt_ "
   ]
  },
  {
   "cell_type": "code",
   "execution_count": 12,
   "metadata": {},
   "outputs": [],
   "source": [
    "from world_champions import importer\n",
    "world_champions = importer()"
   ]
  },
  {
   "cell_type": "code",
   "execution_count": 13,
   "metadata": {},
   "outputs": [],
   "source": [
    "wc_num = world_champions.pivot_table(index=[\"Name\"], aggfunc= \"size\")\n",
    "wc_num = pd.DataFrame(wc_num)\n"
   ]
  },
  {
   "cell_type": "code",
   "execution_count": 14,
   "metadata": {},
   "outputs": [
    {
     "output_type": "execute_result",
     "data": {
      "text/plain": [
       "                    0_x  0_y      ratio\n",
       "Name                                   \n",
       "Alain Prost           4   33   8.250000\n",
       "Alan Jones            1    6   1.500000\n",
       "Alberto Ascari        2   14   4.666667\n",
       "Ayrton Senna          3   65  21.666667\n",
       "Damon Hill            1   20  20.000000\n",
       "Denny Hulme           1    1   1.000000\n",
       "Emerson Fittipaldi    2    6   1.500000\n",
       "Fernando Alonso       2   23  11.500000\n",
       "Graham Hill           2   13   2.166667\n",
       "Jack Brabham          3   13   2.166667\n",
       "Jackie Stewart        3   17   5.666667\n",
       "Jacques Villeneuve    1   13   2.166667\n",
       "James Hunt            1   14   4.666667\n",
       "Jenson Button         1    8   4.000000\n",
       "Jim Clark             2   32  10.666667\n",
       "Jochen Rindt          1   10  10.000000\n",
       "Jody Scheckter        1    3   3.000000\n",
       "John Surtees          1    8   4.000000\n",
       "Juan Manuel Fangio    5   29   5.800000\n",
       "Keke Rosberg          1    5   2.500000\n",
       "Kimi RÃ¤ikkÃ¶nen      1   19  19.000000\n",
       "Lewis Hamilton        7   97  13.857143\n",
       "Mario Andretti        1   18  18.000000\n",
       "Michael Schumacher    7   69   9.857143\n",
       "Mika Hakkinen         2   26  13.000000\n",
       "Mike Hawthorn         1    4   4.000000\n",
       "Nelson Piquet         3   24   4.000000\n",
       "Nico Rosberg          1   30  30.000000\n",
       "Nigel Mansell         1   32  10.666667\n",
       "Niki Lauda            3   24   4.000000\n",
       "Nino Farina           1    5   2.500000\n",
       "Phil Hill             1    6   1.500000\n",
       "Sebastian Vettel      4   57  14.250000"
      ],
      "text/html": "<div>\n<style scoped>\n    .dataframe tbody tr th:only-of-type {\n        vertical-align: middle;\n    }\n\n    .dataframe tbody tr th {\n        vertical-align: top;\n    }\n\n    .dataframe thead th {\n        text-align: right;\n    }\n</style>\n<table border=\"1\" class=\"dataframe\">\n  <thead>\n    <tr style=\"text-align: right;\">\n      <th></th>\n      <th>0_x</th>\n      <th>0_y</th>\n      <th>ratio</th>\n    </tr>\n    <tr>\n      <th>Name</th>\n      <th></th>\n      <th></th>\n      <th></th>\n    </tr>\n  </thead>\n  <tbody>\n    <tr>\n      <th>Alain Prost</th>\n      <td>4</td>\n      <td>33</td>\n      <td>8.250000</td>\n    </tr>\n    <tr>\n      <th>Alan Jones</th>\n      <td>1</td>\n      <td>6</td>\n      <td>1.500000</td>\n    </tr>\n    <tr>\n      <th>Alberto Ascari</th>\n      <td>2</td>\n      <td>14</td>\n      <td>4.666667</td>\n    </tr>\n    <tr>\n      <th>Ayrton Senna</th>\n      <td>3</td>\n      <td>65</td>\n      <td>21.666667</td>\n    </tr>\n    <tr>\n      <th>Damon Hill</th>\n      <td>1</td>\n      <td>20</td>\n      <td>20.000000</td>\n    </tr>\n    <tr>\n      <th>Denny Hulme</th>\n      <td>1</td>\n      <td>1</td>\n      <td>1.000000</td>\n    </tr>\n    <tr>\n      <th>Emerson Fittipaldi</th>\n      <td>2</td>\n      <td>6</td>\n      <td>1.500000</td>\n    </tr>\n    <tr>\n      <th>Fernando Alonso</th>\n      <td>2</td>\n      <td>23</td>\n      <td>11.500000</td>\n    </tr>\n    <tr>\n      <th>Graham Hill</th>\n      <td>2</td>\n      <td>13</td>\n      <td>2.166667</td>\n    </tr>\n    <tr>\n      <th>Jack Brabham</th>\n      <td>3</td>\n      <td>13</td>\n      <td>2.166667</td>\n    </tr>\n    <tr>\n      <th>Jackie Stewart</th>\n      <td>3</td>\n      <td>17</td>\n      <td>5.666667</td>\n    </tr>\n    <tr>\n      <th>Jacques Villeneuve</th>\n      <td>1</td>\n      <td>13</td>\n      <td>2.166667</td>\n    </tr>\n    <tr>\n      <th>James Hunt</th>\n      <td>1</td>\n      <td>14</td>\n      <td>4.666667</td>\n    </tr>\n    <tr>\n      <th>Jenson Button</th>\n      <td>1</td>\n      <td>8</td>\n      <td>4.000000</td>\n    </tr>\n    <tr>\n      <th>Jim Clark</th>\n      <td>2</td>\n      <td>32</td>\n      <td>10.666667</td>\n    </tr>\n    <tr>\n      <th>Jochen Rindt</th>\n      <td>1</td>\n      <td>10</td>\n      <td>10.000000</td>\n    </tr>\n    <tr>\n      <th>Jody Scheckter</th>\n      <td>1</td>\n      <td>3</td>\n      <td>3.000000</td>\n    </tr>\n    <tr>\n      <th>John Surtees</th>\n      <td>1</td>\n      <td>8</td>\n      <td>4.000000</td>\n    </tr>\n    <tr>\n      <th>Juan Manuel Fangio</th>\n      <td>5</td>\n      <td>29</td>\n      <td>5.800000</td>\n    </tr>\n    <tr>\n      <th>Keke Rosberg</th>\n      <td>1</td>\n      <td>5</td>\n      <td>2.500000</td>\n    </tr>\n    <tr>\n      <th>Kimi RÃ¤ikkÃ¶nen</th>\n      <td>1</td>\n      <td>19</td>\n      <td>19.000000</td>\n    </tr>\n    <tr>\n      <th>Lewis Hamilton</th>\n      <td>7</td>\n      <td>97</td>\n      <td>13.857143</td>\n    </tr>\n    <tr>\n      <th>Mario Andretti</th>\n      <td>1</td>\n      <td>18</td>\n      <td>18.000000</td>\n    </tr>\n    <tr>\n      <th>Michael Schumacher</th>\n      <td>7</td>\n      <td>69</td>\n      <td>9.857143</td>\n    </tr>\n    <tr>\n      <th>Mika Hakkinen</th>\n      <td>2</td>\n      <td>26</td>\n      <td>13.000000</td>\n    </tr>\n    <tr>\n      <th>Mike Hawthorn</th>\n      <td>1</td>\n      <td>4</td>\n      <td>4.000000</td>\n    </tr>\n    <tr>\n      <th>Nelson Piquet</th>\n      <td>3</td>\n      <td>24</td>\n      <td>4.000000</td>\n    </tr>\n    <tr>\n      <th>Nico Rosberg</th>\n      <td>1</td>\n      <td>30</td>\n      <td>30.000000</td>\n    </tr>\n    <tr>\n      <th>Nigel Mansell</th>\n      <td>1</td>\n      <td>32</td>\n      <td>10.666667</td>\n    </tr>\n    <tr>\n      <th>Niki Lauda</th>\n      <td>3</td>\n      <td>24</td>\n      <td>4.000000</td>\n    </tr>\n    <tr>\n      <th>Nino Farina</th>\n      <td>1</td>\n      <td>5</td>\n      <td>2.500000</td>\n    </tr>\n    <tr>\n      <th>Phil Hill</th>\n      <td>1</td>\n      <td>6</td>\n      <td>1.500000</td>\n    </tr>\n    <tr>\n      <th>Sebastian Vettel</th>\n      <td>4</td>\n      <td>57</td>\n      <td>14.250000</td>\n    </tr>\n  </tbody>\n</table>\n</div>"
     },
     "metadata": {},
     "execution_count": 14
    }
   ],
   "source": [
    "qt_wc = pd.merge(wc_num, qt_num, \"left\", on= [\"Name\"])\n",
    "rat = qt_wc.groupby(['0_y'])['0_x'].transform('sum')\n",
    "qt_wc = qt_wc.assign(ratio= lambda x: x[(\"0_y\")].div(rat))\n",
    "qt_wc = qt_wc.rename({\"WC\": '0_x', \"RW\":'0_y'})\n",
    "qt_wc"
   ]
  },
  {
   "cell_type": "code",
   "execution_count": 15,
   "metadata": {},
   "outputs": [
    {
     "output_type": "execute_result",
     "data": {
      "text/plain": [
       "0.8099240395482793"
      ]
     },
     "metadata": {},
     "execution_count": 15
    }
   ],
   "source": [
    "qt_wc['0_x'].corr(qt_wc['0_y'])"
   ]
  },
  {
   "cell_type": "code",
   "execution_count": 16,
   "metadata": {},
   "outputs": [
    {
     "output_type": "execute_result",
     "data": {
      "text/plain": [
       "   Mode      Mean  Min   Max\n",
       "0   4.0  8.227706  1.0  30.0"
      ],
      "text/html": "<div>\n<style scoped>\n    .dataframe tbody tr th:only-of-type {\n        vertical-align: middle;\n    }\n\n    .dataframe tbody tr th {\n        vertical-align: top;\n    }\n\n    .dataframe thead th {\n        text-align: right;\n    }\n</style>\n<table border=\"1\" class=\"dataframe\">\n  <thead>\n    <tr style=\"text-align: right;\">\n      <th></th>\n      <th>Mode</th>\n      <th>Mean</th>\n      <th>Min</th>\n      <th>Max</th>\n    </tr>\n  </thead>\n  <tbody>\n    <tr>\n      <th>0</th>\n      <td>4.0</td>\n      <td>8.227706</td>\n      <td>1.0</td>\n      <td>30.0</td>\n    </tr>\n  </tbody>\n</table>\n</div>"
     },
     "metadata": {},
     "execution_count": 16
    },
    {
     "output_type": "display_data",
     "data": {
      "text/plain": "<Figure size 432x288 with 1 Axes>",
      "image/svg+xml": "<?xml version=\"1.0\" encoding=\"utf-8\" standalone=\"no\"?>\r\n<!DOCTYPE svg PUBLIC \"-//W3C//DTD SVG 1.1//EN\"\r\n  \"http://www.w3.org/Graphics/SVG/1.1/DTD/svg11.dtd\">\r\n<!-- Created with matplotlib (https://matplotlib.org/) -->\r\n<svg height=\"245.2025pt\" version=\"1.1\" viewBox=\"0 0 368.925 245.2025\" width=\"368.925pt\" xmlns=\"http://www.w3.org/2000/svg\" xmlns:xlink=\"http://www.w3.org/1999/xlink\">\r\n <metadata>\r\n  <rdf:RDF xmlns:cc=\"http://creativecommons.org/ns#\" xmlns:dc=\"http://purl.org/dc/elements/1.1/\" xmlns:rdf=\"http://www.w3.org/1999/02/22-rdf-syntax-ns#\">\r\n   <cc:Work>\r\n    <dc:type rdf:resource=\"http://purl.org/dc/dcmitype/StillImage\"/>\r\n    <dc:date>2021-01-06T09:37:13.718632</dc:date>\r\n    <dc:format>image/svg+xml</dc:format>\r\n    <dc:creator>\r\n     <cc:Agent>\r\n      <dc:title>Matplotlib v3.3.3, https://matplotlib.org/</dc:title>\r\n     </cc:Agent>\r\n    </dc:creator>\r\n   </cc:Work>\r\n  </rdf:RDF>\r\n </metadata>\r\n <defs>\r\n  <style type=\"text/css\">*{stroke-linecap:butt;stroke-linejoin:round;}</style>\r\n </defs>\r\n <g id=\"figure_1\">\r\n  <g id=\"patch_1\">\r\n   <path d=\"M -0 245.2025 \r\nL 368.925 245.2025 \r\nL 368.925 0 \r\nL -0 0 \r\nz\r\n\" style=\"fill:none;\"/>\r\n  </g>\r\n  <g id=\"axes_1\">\r\n   <g id=\"patch_2\">\r\n    <path d=\"M 26.925 224.64 \r\nL 361.725 224.64 \r\nL 361.725 7.2 \r\nL 26.925 7.2 \r\nz\r\n\" style=\"fill:#ffffff;\"/>\r\n   </g>\r\n   <g id=\"patch_3\">\r\n    <path clip-path=\"url(#p94b10ac569)\" d=\"M 110.625 224.64 \r\nL 152.475 224.64 \r\nL 152.475 197.028571 \r\nL 110.625 197.028571 \r\nz\r\n\" style=\"fill:#1f77b4;\"/>\r\n   </g>\r\n   <g id=\"patch_4\">\r\n    <path clip-path=\"url(#p94b10ac569)\" d=\"M 152.475 224.64 \r\nL 194.325 224.64 \r\nL 194.325 167.845323 \r\nL 152.475 167.845323 \r\nz\r\n\" style=\"fill:#ff7f0e;\"/>\r\n   </g>\r\n   <g id=\"patch_5\">\r\n    <path clip-path=\"url(#p94b10ac569)\" d=\"M 194.325 224.64 \r\nL 236.175 224.64 \r\nL 236.175 217.737143 \r\nL 194.325 217.737143 \r\nz\r\n\" style=\"fill:#2ca02c;\"/>\r\n   </g>\r\n   <g id=\"patch_6\">\r\n    <path clip-path=\"url(#p94b10ac569)\" d=\"M 236.175 224.64 \r\nL 278.025 224.64 \r\nL 278.025 17.554286 \r\nL 236.175 17.554286 \r\nz\r\n\" style=\"fill:#d62728;\"/>\r\n   </g>\r\n   <g id=\"matplotlib.axis_1\">\r\n    <g id=\"xtick_1\">\r\n     <g id=\"line2d_1\">\r\n      <defs>\r\n       <path d=\"M 0 0 \r\nL 0 3.5 \r\n\" id=\"m34122aef5a\" style=\"stroke:#000000;stroke-width:0.8;\"/>\r\n      </defs>\r\n      <g>\r\n       <use style=\"stroke:#000000;stroke-width:0.8;\" x=\"194.325\" xlink:href=\"#m34122aef5a\" y=\"224.64\"/>\r\n      </g>\r\n     </g>\r\n     <g id=\"text_1\">\r\n      <!-- 0 -->\r\n      <g transform=\"translate(197.084375 238.0025)rotate(-90)scale(0.1 -0.1)\">\r\n       <defs>\r\n        <path d=\"M 31.78125 66.40625 \r\nQ 24.171875 66.40625 20.328125 58.90625 \r\nQ 16.5 51.421875 16.5 36.375 \r\nQ 16.5 21.390625 20.328125 13.890625 \r\nQ 24.171875 6.390625 31.78125 6.390625 \r\nQ 39.453125 6.390625 43.28125 13.890625 \r\nQ 47.125 21.390625 47.125 36.375 \r\nQ 47.125 51.421875 43.28125 58.90625 \r\nQ 39.453125 66.40625 31.78125 66.40625 \r\nz\r\nM 31.78125 74.21875 \r\nQ 44.046875 74.21875 50.515625 64.515625 \r\nQ 56.984375 54.828125 56.984375 36.375 \r\nQ 56.984375 17.96875 50.515625 8.265625 \r\nQ 44.046875 -1.421875 31.78125 -1.421875 \r\nQ 19.53125 -1.421875 13.0625 8.265625 \r\nQ 6.59375 17.96875 6.59375 36.375 \r\nQ 6.59375 54.828125 13.0625 64.515625 \r\nQ 19.53125 74.21875 31.78125 74.21875 \r\nz\r\n\" id=\"DejaVuSans-48\"/>\r\n       </defs>\r\n       <use xlink:href=\"#DejaVuSans-48\"/>\r\n      </g>\r\n     </g>\r\n    </g>\r\n   </g>\r\n   <g id=\"matplotlib.axis_2\">\r\n    <g id=\"ytick_1\">\r\n     <g id=\"line2d_2\">\r\n      <defs>\r\n       <path d=\"M 0 0 \r\nL -3.5 0 \r\n\" id=\"m7b3e7cf25b\" style=\"stroke:#000000;stroke-width:0.8;\"/>\r\n      </defs>\r\n      <g>\r\n       <use style=\"stroke:#000000;stroke-width:0.8;\" x=\"26.925\" xlink:href=\"#m7b3e7cf25b\" y=\"224.64\"/>\r\n      </g>\r\n     </g>\r\n     <g id=\"text_2\">\r\n      <!-- 0 -->\r\n      <g transform=\"translate(13.5625 228.439219)scale(0.1 -0.1)\">\r\n       <use xlink:href=\"#DejaVuSans-48\"/>\r\n      </g>\r\n     </g>\r\n    </g>\r\n    <g id=\"ytick_2\">\r\n     <g id=\"line2d_3\">\r\n      <g>\r\n       <use style=\"stroke:#000000;stroke-width:0.8;\" x=\"26.925\" xlink:href=\"#m7b3e7cf25b\" y=\"190.125714\"/>\r\n      </g>\r\n     </g>\r\n     <g id=\"text_3\">\r\n      <!-- 5 -->\r\n      <g transform=\"translate(13.5625 193.924933)scale(0.1 -0.1)\">\r\n       <defs>\r\n        <path d=\"M 10.796875 72.90625 \r\nL 49.515625 72.90625 \r\nL 49.515625 64.59375 \r\nL 19.828125 64.59375 \r\nL 19.828125 46.734375 \r\nQ 21.96875 47.46875 24.109375 47.828125 \r\nQ 26.265625 48.1875 28.421875 48.1875 \r\nQ 40.625 48.1875 47.75 41.5 \r\nQ 54.890625 34.8125 54.890625 23.390625 \r\nQ 54.890625 11.625 47.5625 5.09375 \r\nQ 40.234375 -1.421875 26.90625 -1.421875 \r\nQ 22.3125 -1.421875 17.546875 -0.640625 \r\nQ 12.796875 0.140625 7.71875 1.703125 \r\nL 7.71875 11.625 \r\nQ 12.109375 9.234375 16.796875 8.0625 \r\nQ 21.484375 6.890625 26.703125 6.890625 \r\nQ 35.15625 6.890625 40.078125 11.328125 \r\nQ 45.015625 15.765625 45.015625 23.390625 \r\nQ 45.015625 31 40.078125 35.4375 \r\nQ 35.15625 39.890625 26.703125 39.890625 \r\nQ 22.75 39.890625 18.8125 39.015625 \r\nQ 14.890625 38.140625 10.796875 36.28125 \r\nz\r\n\" id=\"DejaVuSans-53\"/>\r\n       </defs>\r\n       <use xlink:href=\"#DejaVuSans-53\"/>\r\n      </g>\r\n     </g>\r\n    </g>\r\n    <g id=\"ytick_3\">\r\n     <g id=\"line2d_4\">\r\n      <g>\r\n       <use style=\"stroke:#000000;stroke-width:0.8;\" x=\"26.925\" xlink:href=\"#m7b3e7cf25b\" y=\"155.611429\"/>\r\n      </g>\r\n     </g>\r\n     <g id=\"text_4\">\r\n      <!-- 10 -->\r\n      <g transform=\"translate(7.2 159.410647)scale(0.1 -0.1)\">\r\n       <defs>\r\n        <path d=\"M 12.40625 8.296875 \r\nL 28.515625 8.296875 \r\nL 28.515625 63.921875 \r\nL 10.984375 60.40625 \r\nL 10.984375 69.390625 \r\nL 28.421875 72.90625 \r\nL 38.28125 72.90625 \r\nL 38.28125 8.296875 \r\nL 54.390625 8.296875 \r\nL 54.390625 0 \r\nL 12.40625 0 \r\nz\r\n\" id=\"DejaVuSans-49\"/>\r\n       </defs>\r\n       <use xlink:href=\"#DejaVuSans-49\"/>\r\n       <use x=\"63.623047\" xlink:href=\"#DejaVuSans-48\"/>\r\n      </g>\r\n     </g>\r\n    </g>\r\n    <g id=\"ytick_4\">\r\n     <g id=\"line2d_5\">\r\n      <g>\r\n       <use style=\"stroke:#000000;stroke-width:0.8;\" x=\"26.925\" xlink:href=\"#m7b3e7cf25b\" y=\"121.097143\"/>\r\n      </g>\r\n     </g>\r\n     <g id=\"text_5\">\r\n      <!-- 15 -->\r\n      <g transform=\"translate(7.2 124.896362)scale(0.1 -0.1)\">\r\n       <use xlink:href=\"#DejaVuSans-49\"/>\r\n       <use x=\"63.623047\" xlink:href=\"#DejaVuSans-53\"/>\r\n      </g>\r\n     </g>\r\n    </g>\r\n    <g id=\"ytick_5\">\r\n     <g id=\"line2d_6\">\r\n      <g>\r\n       <use style=\"stroke:#000000;stroke-width:0.8;\" x=\"26.925\" xlink:href=\"#m7b3e7cf25b\" y=\"86.582857\"/>\r\n      </g>\r\n     </g>\r\n     <g id=\"text_6\">\r\n      <!-- 20 -->\r\n      <g transform=\"translate(7.2 90.382076)scale(0.1 -0.1)\">\r\n       <defs>\r\n        <path d=\"M 19.1875 8.296875 \r\nL 53.609375 8.296875 \r\nL 53.609375 0 \r\nL 7.328125 0 \r\nL 7.328125 8.296875 \r\nQ 12.9375 14.109375 22.625 23.890625 \r\nQ 32.328125 33.6875 34.8125 36.53125 \r\nQ 39.546875 41.84375 41.421875 45.53125 \r\nQ 43.3125 49.21875 43.3125 52.78125 \r\nQ 43.3125 58.59375 39.234375 62.25 \r\nQ 35.15625 65.921875 28.609375 65.921875 \r\nQ 23.96875 65.921875 18.8125 64.3125 \r\nQ 13.671875 62.703125 7.8125 59.421875 \r\nL 7.8125 69.390625 \r\nQ 13.765625 71.78125 18.9375 73 \r\nQ 24.125 74.21875 28.421875 74.21875 \r\nQ 39.75 74.21875 46.484375 68.546875 \r\nQ 53.21875 62.890625 53.21875 53.421875 \r\nQ 53.21875 48.921875 51.53125 44.890625 \r\nQ 49.859375 40.875 45.40625 35.40625 \r\nQ 44.1875 33.984375 37.640625 27.21875 \r\nQ 31.109375 20.453125 19.1875 8.296875 \r\nz\r\n\" id=\"DejaVuSans-50\"/>\r\n       </defs>\r\n       <use xlink:href=\"#DejaVuSans-50\"/>\r\n       <use x=\"63.623047\" xlink:href=\"#DejaVuSans-48\"/>\r\n      </g>\r\n     </g>\r\n    </g>\r\n    <g id=\"ytick_6\">\r\n     <g id=\"line2d_7\">\r\n      <g>\r\n       <use style=\"stroke:#000000;stroke-width:0.8;\" x=\"26.925\" xlink:href=\"#m7b3e7cf25b\" y=\"52.068571\"/>\r\n      </g>\r\n     </g>\r\n     <g id=\"text_7\">\r\n      <!-- 25 -->\r\n      <g transform=\"translate(7.2 55.86779)scale(0.1 -0.1)\">\r\n       <use xlink:href=\"#DejaVuSans-50\"/>\r\n       <use x=\"63.623047\" xlink:href=\"#DejaVuSans-53\"/>\r\n      </g>\r\n     </g>\r\n    </g>\r\n    <g id=\"ytick_7\">\r\n     <g id=\"line2d_8\">\r\n      <g>\r\n       <use style=\"stroke:#000000;stroke-width:0.8;\" x=\"26.925\" xlink:href=\"#m7b3e7cf25b\" y=\"17.554286\"/>\r\n      </g>\r\n     </g>\r\n     <g id=\"text_8\">\r\n      <!-- 30 -->\r\n      <g transform=\"translate(7.2 21.353504)scale(0.1 -0.1)\">\r\n       <defs>\r\n        <path d=\"M 40.578125 39.3125 \r\nQ 47.65625 37.796875 51.625 33 \r\nQ 55.609375 28.21875 55.609375 21.1875 \r\nQ 55.609375 10.40625 48.1875 4.484375 \r\nQ 40.765625 -1.421875 27.09375 -1.421875 \r\nQ 22.515625 -1.421875 17.65625 -0.515625 \r\nQ 12.796875 0.390625 7.625 2.203125 \r\nL 7.625 11.71875 \r\nQ 11.71875 9.328125 16.59375 8.109375 \r\nQ 21.484375 6.890625 26.8125 6.890625 \r\nQ 36.078125 6.890625 40.9375 10.546875 \r\nQ 45.796875 14.203125 45.796875 21.1875 \r\nQ 45.796875 27.640625 41.28125 31.265625 \r\nQ 36.765625 34.90625 28.71875 34.90625 \r\nL 20.21875 34.90625 \r\nL 20.21875 43.015625 \r\nL 29.109375 43.015625 \r\nQ 36.375 43.015625 40.234375 45.921875 \r\nQ 44.09375 48.828125 44.09375 54.296875 \r\nQ 44.09375 59.90625 40.109375 62.90625 \r\nQ 36.140625 65.921875 28.71875 65.921875 \r\nQ 24.65625 65.921875 20.015625 65.03125 \r\nQ 15.375 64.15625 9.8125 62.3125 \r\nL 9.8125 71.09375 \r\nQ 15.4375 72.65625 20.34375 73.4375 \r\nQ 25.25 74.21875 29.59375 74.21875 \r\nQ 40.828125 74.21875 47.359375 69.109375 \r\nQ 53.90625 64.015625 53.90625 55.328125 \r\nQ 53.90625 49.265625 50.4375 45.09375 \r\nQ 46.96875 40.921875 40.578125 39.3125 \r\nz\r\n\" id=\"DejaVuSans-51\"/>\r\n       </defs>\r\n       <use xlink:href=\"#DejaVuSans-51\"/>\r\n       <use x=\"63.623047\" xlink:href=\"#DejaVuSans-48\"/>\r\n      </g>\r\n     </g>\r\n    </g>\r\n   </g>\r\n   <g id=\"patch_7\">\r\n    <path d=\"M 26.925 224.64 \r\nL 26.925 7.2 \r\n\" style=\"fill:none;stroke:#000000;stroke-linecap:square;stroke-linejoin:miter;stroke-width:0.8;\"/>\r\n   </g>\r\n   <g id=\"patch_8\">\r\n    <path d=\"M 361.725 224.64 \r\nL 361.725 7.2 \r\n\" style=\"fill:none;stroke:#000000;stroke-linecap:square;stroke-linejoin:miter;stroke-width:0.8;\"/>\r\n   </g>\r\n   <g id=\"patch_9\">\r\n    <path d=\"M 26.925 224.64 \r\nL 361.725 224.64 \r\n\" style=\"fill:none;stroke:#000000;stroke-linecap:square;stroke-linejoin:miter;stroke-width:0.8;\"/>\r\n   </g>\r\n   <g id=\"patch_10\">\r\n    <path d=\"M 26.925 7.2 \r\nL 361.725 7.2 \r\n\" style=\"fill:none;stroke:#000000;stroke-linecap:square;stroke-linejoin:miter;stroke-width:0.8;\"/>\r\n   </g>\r\n   <g id=\"legend_1\">\r\n    <g id=\"patch_11\">\r\n     <path d=\"M 295.476563 73.9125 \r\nL 354.725 73.9125 \r\nQ 356.725 73.9125 356.725 71.9125 \r\nL 356.725 14.2 \r\nQ 356.725 12.2 354.725 12.2 \r\nL 295.476563 12.2 \r\nQ 293.476563 12.2 293.476563 14.2 \r\nL 293.476563 71.9125 \r\nQ 293.476563 73.9125 295.476563 73.9125 \r\nz\r\n\" style=\"fill:#ffffff;opacity:0.8;stroke:#cccccc;stroke-linejoin:miter;\"/>\r\n    </g>\r\n    <g id=\"patch_12\">\r\n     <path d=\"M 297.476563 23.798437 \r\nL 317.476563 23.798437 \r\nL 317.476563 16.798437 \r\nL 297.476563 16.798437 \r\nz\r\n\" style=\"fill:#1f77b4;\"/>\r\n    </g>\r\n    <g id=\"text_9\">\r\n     <!-- Mode -->\r\n     <g transform=\"translate(325.476563 23.798437)scale(0.1 -0.1)\">\r\n      <defs>\r\n       <path d=\"M 9.8125 72.90625 \r\nL 24.515625 72.90625 \r\nL 43.109375 23.296875 \r\nL 61.8125 72.90625 \r\nL 76.515625 72.90625 \r\nL 76.515625 0 \r\nL 66.890625 0 \r\nL 66.890625 64.015625 \r\nL 48.09375 14.015625 \r\nL 38.1875 14.015625 \r\nL 19.390625 64.015625 \r\nL 19.390625 0 \r\nL 9.8125 0 \r\nz\r\n\" id=\"DejaVuSans-77\"/>\r\n       <path d=\"M 30.609375 48.390625 \r\nQ 23.390625 48.390625 19.1875 42.75 \r\nQ 14.984375 37.109375 14.984375 27.296875 \r\nQ 14.984375 17.484375 19.15625 11.84375 \r\nQ 23.34375 6.203125 30.609375 6.203125 \r\nQ 37.796875 6.203125 41.984375 11.859375 \r\nQ 46.1875 17.53125 46.1875 27.296875 \r\nQ 46.1875 37.015625 41.984375 42.703125 \r\nQ 37.796875 48.390625 30.609375 48.390625 \r\nz\r\nM 30.609375 56 \r\nQ 42.328125 56 49.015625 48.375 \r\nQ 55.71875 40.765625 55.71875 27.296875 \r\nQ 55.71875 13.875 49.015625 6.21875 \r\nQ 42.328125 -1.421875 30.609375 -1.421875 \r\nQ 18.84375 -1.421875 12.171875 6.21875 \r\nQ 5.515625 13.875 5.515625 27.296875 \r\nQ 5.515625 40.765625 12.171875 48.375 \r\nQ 18.84375 56 30.609375 56 \r\nz\r\n\" id=\"DejaVuSans-111\"/>\r\n       <path d=\"M 45.40625 46.390625 \r\nL 45.40625 75.984375 \r\nL 54.390625 75.984375 \r\nL 54.390625 0 \r\nL 45.40625 0 \r\nL 45.40625 8.203125 \r\nQ 42.578125 3.328125 38.25 0.953125 \r\nQ 33.9375 -1.421875 27.875 -1.421875 \r\nQ 17.96875 -1.421875 11.734375 6.484375 \r\nQ 5.515625 14.40625 5.515625 27.296875 \r\nQ 5.515625 40.1875 11.734375 48.09375 \r\nQ 17.96875 56 27.875 56 \r\nQ 33.9375 56 38.25 53.625 \r\nQ 42.578125 51.265625 45.40625 46.390625 \r\nz\r\nM 14.796875 27.296875 \r\nQ 14.796875 17.390625 18.875 11.75 \r\nQ 22.953125 6.109375 30.078125 6.109375 \r\nQ 37.203125 6.109375 41.296875 11.75 \r\nQ 45.40625 17.390625 45.40625 27.296875 \r\nQ 45.40625 37.203125 41.296875 42.84375 \r\nQ 37.203125 48.484375 30.078125 48.484375 \r\nQ 22.953125 48.484375 18.875 42.84375 \r\nQ 14.796875 37.203125 14.796875 27.296875 \r\nz\r\n\" id=\"DejaVuSans-100\"/>\r\n       <path d=\"M 56.203125 29.59375 \r\nL 56.203125 25.203125 \r\nL 14.890625 25.203125 \r\nQ 15.484375 15.921875 20.484375 11.0625 \r\nQ 25.484375 6.203125 34.421875 6.203125 \r\nQ 39.59375 6.203125 44.453125 7.46875 \r\nQ 49.3125 8.734375 54.109375 11.28125 \r\nL 54.109375 2.78125 \r\nQ 49.265625 0.734375 44.1875 -0.34375 \r\nQ 39.109375 -1.421875 33.890625 -1.421875 \r\nQ 20.796875 -1.421875 13.15625 6.1875 \r\nQ 5.515625 13.8125 5.515625 26.8125 \r\nQ 5.515625 40.234375 12.765625 48.109375 \r\nQ 20.015625 56 32.328125 56 \r\nQ 43.359375 56 49.78125 48.890625 \r\nQ 56.203125 41.796875 56.203125 29.59375 \r\nz\r\nM 47.21875 32.234375 \r\nQ 47.125 39.59375 43.09375 43.984375 \r\nQ 39.0625 48.390625 32.421875 48.390625 \r\nQ 24.90625 48.390625 20.390625 44.140625 \r\nQ 15.875 39.890625 15.1875 32.171875 \r\nz\r\n\" id=\"DejaVuSans-101\"/>\r\n      </defs>\r\n      <use xlink:href=\"#DejaVuSans-77\"/>\r\n      <use x=\"86.279297\" xlink:href=\"#DejaVuSans-111\"/>\r\n      <use x=\"147.460938\" xlink:href=\"#DejaVuSans-100\"/>\r\n      <use x=\"210.9375\" xlink:href=\"#DejaVuSans-101\"/>\r\n     </g>\r\n    </g>\r\n    <g id=\"patch_13\">\r\n     <path d=\"M 297.476563 38.476562 \r\nL 317.476563 38.476562 \r\nL 317.476563 31.476562 \r\nL 297.476563 31.476562 \r\nz\r\n\" style=\"fill:#ff7f0e;\"/>\r\n    </g>\r\n    <g id=\"text_10\">\r\n     <!-- Mean -->\r\n     <g transform=\"translate(325.476563 38.476562)scale(0.1 -0.1)\">\r\n      <defs>\r\n       <path d=\"M 34.28125 27.484375 \r\nQ 23.390625 27.484375 19.1875 25 \r\nQ 14.984375 22.515625 14.984375 16.5 \r\nQ 14.984375 11.71875 18.140625 8.90625 \r\nQ 21.296875 6.109375 26.703125 6.109375 \r\nQ 34.1875 6.109375 38.703125 11.40625 \r\nQ 43.21875 16.703125 43.21875 25.484375 \r\nL 43.21875 27.484375 \r\nz\r\nM 52.203125 31.203125 \r\nL 52.203125 0 \r\nL 43.21875 0 \r\nL 43.21875 8.296875 \r\nQ 40.140625 3.328125 35.546875 0.953125 \r\nQ 30.953125 -1.421875 24.3125 -1.421875 \r\nQ 15.921875 -1.421875 10.953125 3.296875 \r\nQ 6 8.015625 6 15.921875 \r\nQ 6 25.140625 12.171875 29.828125 \r\nQ 18.359375 34.515625 30.609375 34.515625 \r\nL 43.21875 34.515625 \r\nL 43.21875 35.40625 \r\nQ 43.21875 41.609375 39.140625 45 \r\nQ 35.0625 48.390625 27.6875 48.390625 \r\nQ 23 48.390625 18.546875 47.265625 \r\nQ 14.109375 46.140625 10.015625 43.890625 \r\nL 10.015625 52.203125 \r\nQ 14.9375 54.109375 19.578125 55.046875 \r\nQ 24.21875 56 28.609375 56 \r\nQ 40.484375 56 46.34375 49.84375 \r\nQ 52.203125 43.703125 52.203125 31.203125 \r\nz\r\n\" id=\"DejaVuSans-97\"/>\r\n       <path d=\"M 54.890625 33.015625 \r\nL 54.890625 0 \r\nL 45.90625 0 \r\nL 45.90625 32.71875 \r\nQ 45.90625 40.484375 42.875 44.328125 \r\nQ 39.84375 48.1875 33.796875 48.1875 \r\nQ 26.515625 48.1875 22.3125 43.546875 \r\nQ 18.109375 38.921875 18.109375 30.90625 \r\nL 18.109375 0 \r\nL 9.078125 0 \r\nL 9.078125 54.6875 \r\nL 18.109375 54.6875 \r\nL 18.109375 46.1875 \r\nQ 21.34375 51.125 25.703125 53.5625 \r\nQ 30.078125 56 35.796875 56 \r\nQ 45.21875 56 50.046875 50.171875 \r\nQ 54.890625 44.34375 54.890625 33.015625 \r\nz\r\n\" id=\"DejaVuSans-110\"/>\r\n      </defs>\r\n      <use xlink:href=\"#DejaVuSans-77\"/>\r\n      <use x=\"86.279297\" xlink:href=\"#DejaVuSans-101\"/>\r\n      <use x=\"147.802734\" xlink:href=\"#DejaVuSans-97\"/>\r\n      <use x=\"209.082031\" xlink:href=\"#DejaVuSans-110\"/>\r\n     </g>\r\n    </g>\r\n    <g id=\"patch_14\">\r\n     <path d=\"M 297.476563 53.154687 \r\nL 317.476563 53.154687 \r\nL 317.476563 46.154687 \r\nL 297.476563 46.154687 \r\nz\r\n\" style=\"fill:#2ca02c;\"/>\r\n    </g>\r\n    <g id=\"text_11\">\r\n     <!-- Min -->\r\n     <g transform=\"translate(325.476563 53.154687)scale(0.1 -0.1)\">\r\n      <defs>\r\n       <path d=\"M 9.421875 54.6875 \r\nL 18.40625 54.6875 \r\nL 18.40625 0 \r\nL 9.421875 0 \r\nz\r\nM 9.421875 75.984375 \r\nL 18.40625 75.984375 \r\nL 18.40625 64.59375 \r\nL 9.421875 64.59375 \r\nz\r\n\" id=\"DejaVuSans-105\"/>\r\n      </defs>\r\n      <use xlink:href=\"#DejaVuSans-77\"/>\r\n      <use x=\"86.279297\" xlink:href=\"#DejaVuSans-105\"/>\r\n      <use x=\"114.0625\" xlink:href=\"#DejaVuSans-110\"/>\r\n     </g>\r\n    </g>\r\n    <g id=\"patch_15\">\r\n     <path d=\"M 297.476563 67.832812 \r\nL 317.476563 67.832812 \r\nL 317.476563 60.832812 \r\nL 297.476563 60.832812 \r\nz\r\n\" style=\"fill:#d62728;\"/>\r\n    </g>\r\n    <g id=\"text_12\">\r\n     <!-- Max -->\r\n     <g transform=\"translate(325.476563 67.832812)scale(0.1 -0.1)\">\r\n      <defs>\r\n       <path d=\"M 54.890625 54.6875 \r\nL 35.109375 28.078125 \r\nL 55.90625 0 \r\nL 45.3125 0 \r\nL 29.390625 21.484375 \r\nL 13.484375 0 \r\nL 2.875 0 \r\nL 24.125 28.609375 \r\nL 4.6875 54.6875 \r\nL 15.28125 54.6875 \r\nL 29.78125 35.203125 \r\nL 44.28125 54.6875 \r\nz\r\n\" id=\"DejaVuSans-120\"/>\r\n      </defs>\r\n      <use xlink:href=\"#DejaVuSans-77\"/>\r\n      <use x=\"86.279297\" xlink:href=\"#DejaVuSans-97\"/>\r\n      <use x=\"147.558594\" xlink:href=\"#DejaVuSans-120\"/>\r\n     </g>\r\n    </g>\r\n   </g>\r\n  </g>\r\n </g>\r\n <defs>\r\n  <clipPath id=\"p94b10ac569\">\r\n   <rect height=\"217.44\" width=\"334.8\" x=\"26.925\" y=\"7.2\"/>\r\n  </clipPath>\r\n </defs>\r\n</svg>\r\n",
      "image/png": "[encoded data removed]"
     },
     "metadata": {
      "needs_background": "light"
     }
    }
   ],
   "source": [
    "\n",
    "qt_graph = pd.DataFrame()\n",
    "\n",
    "qt_graph[\"Mode\"]= qt_wc.ratio.mode(0)\n",
    "qt_graph[\"Mean\"]= qt_wc.ratio.mean()\n",
    "qt_graph[\"Min\"]= qt_wc.ratio.min()\n",
    "qt_graph[\"Max\"]= qt_wc.ratio.max()\n",
    "axes = qt_graph.plot.bar()\n",
    "qt_graph"
   ]
  },
  {
   "cell_type": "code",
   "execution_count": 31,
   "metadata": {},
   "outputs": [
    {
     "output_type": "display_data",
     "data": {
      "application/vnd.plotly.v1+json": {
       "config": {
        "plotlyServerURL": "https://plot.ly"
       },
       "data": [
        {
         "marker": {
          "size": [
           10,
           20,
           30,
           40
          ]
         },
         "mode": "markers",
         "type": "scatter",
         "x": [
          "Alain Prost",
          "Alan Jones",
          "Alberto Ascari",
          "Ayrton Senna",
          "Damon Hill",
          "Denny Hulme",
          "Emerson Fittipaldi",
          "Fernando Alonso",
          "Graham Hill",
          "Jack Brabham",
          "Jackie Stewart",
          "Jacques Villeneuve",
          "James Hunt",
          "Jenson Button",
          "Jim Clark",
          "Jochen Rindt",
          "Jody Scheckter",
          "John Surtees",
          "Juan Manuel Fangio",
          "Keke Rosberg",
          "Kimi RÃ¤ikkÃ¶nen",
          "Lewis Hamilton",
          "Mario Andretti",
          "Michael Schumacher",
          "Mika Hakkinen",
          "Mike Hawthorn",
          "Nelson Piquet",
          "Nico Rosberg",
          "Nigel Mansell",
          "Niki Lauda",
          "Nino Farina",
          "Phil Hill",
          "Sebastian Vettel"
         ],
         "y": [
          8.25,
          1.5,
          4.666666666666667,
          21.666666666666668,
          20,
          1,
          1.5,
          11.5,
          2.1666666666666665,
          2.1666666666666665,
          5.666666666666667,
          2.1666666666666665,
          4.666666666666667,
          4,
          10.666666666666666,
          10,
          3,
          4,
          5.8,
          2.5,
          19,
          13.857142857142858,
          18,
          9.857142857142858,
          13,
          4,
          4,
          30,
          10.666666666666666,
          4,
          2.5,
          1.5,
          14.25
         ]
        }
       ],
       "layout": {
        "template": {
         "data": {
          "bar": [
           {
            "error_x": {
             "color": "#2a3f5f"
            },
            "error_y": {
             "color": "#2a3f5f"
            },
            "marker": {
             "line": {
              "color": "#E5ECF6",
              "width": 0.5
             }
            },
            "type": "bar"
           }
          ],
          "barpolar": [
           {
            "marker": {
             "line": {
              "color": "#E5ECF6",
              "width": 0.5
             }
            },
            "type": "barpolar"
           }
          ],
          "carpet": [
           {
            "aaxis": {
             "endlinecolor": "#2a3f5f",
             "gridcolor": "white",
             "linecolor": "white",
             "minorgridcolor": "white",
             "startlinecolor": "#2a3f5f"
            },
            "baxis": {
             "endlinecolor": "#2a3f5f",
             "gridcolor": "white",
             "linecolor": "white",
             "minorgridcolor": "white",
             "startlinecolor": "#2a3f5f"
            },
            "type": "carpet"
           }
          ],
          "choropleth": [
           {
            "colorbar": {
             "outlinewidth": 0,
             "ticks": ""
            },
            "type": "choropleth"
           }
          ],
          "contour": [
           {
            "colorbar": {
             "outlinewidth": 0,
             "ticks": ""
            },
            "colorscale": [
             [
              0,
              "#0d0887"
             ],
             [
              0.1111111111111111,
              "#46039f"
             ],
             [
              0.2222222222222222,
              "#7201a8"
             ],
             [
              0.3333333333333333,
              "#9c179e"
             ],
             [
              0.4444444444444444,
              "#bd3786"
             ],
             [
              0.5555555555555556,
              "#d8576b"
             ],
             [
              0.6666666666666666,
              "#ed7953"
             ],
             [
              0.7777777777777778,
              "#fb9f3a"
             ],
             [
              0.8888888888888888,
              "#fdca26"
             ],
             [
              1,
              "#f0f921"
             ]
            ],
            "type": "contour"
           }
          ],
          "contourcarpet": [
           {
            "colorbar": {
             "outlinewidth": 0,
             "ticks": ""
            },
            "type": "contourcarpet"
           }
          ],
          "heatmap": [
           {
            "colorbar": {
             "outlinewidth": 0,
             "ticks": ""
            },
            "colorscale": [
             [
              0,
              "#0d0887"
             ],
             [
              0.1111111111111111,
              "#46039f"
             ],
             [
              0.2222222222222222,
              "#7201a8"
             ],
             [
              0.3333333333333333,
              "#9c179e"
             ],
             [
              0.4444444444444444,
              "#bd3786"
             ],
             [
              0.5555555555555556,
              "#d8576b"
             ],
             [
              0.6666666666666666,
              "#ed7953"
             ],
             [
              0.7777777777777778,
              "#fb9f3a"
             ],
             [
              0.8888888888888888,
              "#fdca26"
             ],
             [
              1,
              "#f0f921"
             ]
            ],
            "type": "heatmap"
           }
          ],
          "heatmapgl": [
           {
            "colorbar": {
             "outlinewidth": 0,
             "ticks": ""
            },
            "colorscale": [
             [
              0,
              "#0d0887"
             ],
             [
              0.1111111111111111,
              "#46039f"
             ],
             [
              0.2222222222222222,
              "#7201a8"
             ],
             [
              0.3333333333333333,
              "#9c179e"
             ],
             [
              0.4444444444444444,
              "#bd3786"
             ],
             [
              0.5555555555555556,
              "#d8576b"
             ],
             [
              0.6666666666666666,
              "#ed7953"
             ],
             [
              0.7777777777777778,
              "#fb9f3a"
             ],
             [
              0.8888888888888888,
              "#fdca26"
             ],
             [
              1,
              "#f0f921"
             ]
            ],
            "type": "heatmapgl"
           }
          ],
          "histogram": [
           {
            "marker": {
             "colorbar": {
              "outlinewidth": 0,
              "ticks": ""
             }
            },
            "type": "histogram"
           }
          ],
          "histogram2d": [
           {
            "colorbar": {
             "outlinewidth": 0,
             "ticks": ""
            },
            "colorscale": [
             [
              0,
              "#0d0887"
             ],
             [
              0.1111111111111111,
              "#46039f"
             ],
             [
              0.2222222222222222,
              "#7201a8"
             ],
             [
              0.3333333333333333,
              "#9c179e"
             ],
             [
              0.4444444444444444,
              "#bd3786"
             ],
             [
              0.5555555555555556,
              "#d8576b"
             ],
             [
              0.6666666666666666,
              "#ed7953"
             ],
             [
              0.7777777777777778,
              "#fb9f3a"
             ],
             [
              0.8888888888888888,
              "#fdca26"
             ],
             [
              1,
              "#f0f921"
             ]
            ],
            "type": "histogram2d"
           }
          ],
          "histogram2dcontour": [
           {
            "colorbar": {
             "outlinewidth": 0,
             "ticks": ""
            },
            "colorscale": [
             [
              0,
              "#0d0887"
             ],
             [
              0.1111111111111111,
              "#46039f"
             ],
             [
              0.2222222222222222,
              "#7201a8"
             ],
             [
              0.3333333333333333,
              "#9c179e"
             ],
             [
              0.4444444444444444,
              "#bd3786"
             ],
             [
              0.5555555555555556,
              "#d8576b"
             ],
             [
              0.6666666666666666,
              "#ed7953"
             ],
             [
              0.7777777777777778,
              "#fb9f3a"
             ],
             [
              0.8888888888888888,
              "#fdca26"
             ],
             [
              1,
              "#f0f921"
             ]
            ],
            "type": "histogram2dcontour"
           }
          ],
          "mesh3d": [
           {
            "colorbar": {
             "outlinewidth": 0,
             "ticks": ""
            },
            "type": "mesh3d"
           }
          ],
          "parcoords": [
           {
            "line": {
             "colorbar": {
              "outlinewidth": 0,
              "ticks": ""
             }
            },
            "type": "parcoords"
           }
          ],
          "pie": [
           {
            "automargin": true,
            "type": "pie"
           }
          ],
          "scatter": [
           {
            "marker": {
             "colorbar": {
              "outlinewidth": 0,
              "ticks": ""
             }
            },
            "type": "scatter"
           }
          ],
          "scatter3d": [
           {
            "line": {
             "colorbar": {
              "outlinewidth": 0,
              "ticks": ""
             }
            },
            "marker": {
             "colorbar": {
              "outlinewidth": 0,
              "ticks": ""
             }
            },
            "type": "scatter3d"
           }
          ],
          "scattercarpet": [
           {
            "marker": {
             "colorbar": {
              "outlinewidth": 0,
              "ticks": ""
             }
            },
            "type": "scattercarpet"
           }
          ],
          "scattergeo": [
           {
            "marker": {
             "colorbar": {
              "outlinewidth": 0,
              "ticks": ""
             }
            },
            "type": "scattergeo"
           }
          ],
          "scattergl": [
           {
            "marker": {
             "colorbar": {
              "outlinewidth": 0,
              "ticks": ""
             }
            },
            "type": "scattergl"
           }
          ],
          "scattermapbox": [
           {
            "marker": {
             "colorbar": {
              "outlinewidth": 0,
              "ticks": ""
             }
            },
            "type": "scattermapbox"
           }
          ],
          "scatterpolar": [
           {
            "marker": {
             "colorbar": {
              "outlinewidth": 0,
              "ticks": ""
             }
            },
            "type": "scatterpolar"
           }
          ],
          "scatterpolargl": [
           {
            "marker": {
             "colorbar": {
              "outlinewidth": 0,
              "ticks": ""
             }
            },
            "type": "scatterpolargl"
           }
          ],
          "scatterternary": [
           {
            "marker": {
             "colorbar": {
              "outlinewidth": 0,
              "ticks": ""
             }
            },
            "type": "scatterternary"
           }
          ],
          "surface": [
           {
            "colorbar": {
             "outlinewidth": 0,
             "ticks": ""
            },
            "colorscale": [
             [
              0,
              "#0d0887"
             ],
             [
              0.1111111111111111,
              "#46039f"
             ],
             [
              0.2222222222222222,
              "#7201a8"
             ],
             [
              0.3333333333333333,
              "#9c179e"
             ],
             [
              0.4444444444444444,
              "#bd3786"
             ],
             [
              0.5555555555555556,
              "#d8576b"
             ],
             [
              0.6666666666666666,
              "#ed7953"
             ],
             [
              0.7777777777777778,
              "#fb9f3a"
             ],
             [
              0.8888888888888888,
              "#fdca26"
             ],
             [
              1,
              "#f0f921"
             ]
            ],
            "type": "surface"
           }
          ],
          "table": [
           {
            "cells": {
             "fill": {
              "color": "#EBF0F8"
             },
             "line": {
              "color": "white"
             }
            },
            "header": {
             "fill": {
              "color": "#C8D4E3"
             },
             "line": {
              "color": "white"
             }
            },
            "type": "table"
           }
          ]
         },
         "layout": {
          "annotationdefaults": {
           "arrowcolor": "#2a3f5f",
           "arrowhead": 0,
           "arrowwidth": 1
          },
          "autotypenumbers": "strict",
          "coloraxis": {
           "colorbar": {
            "outlinewidth": 0,
            "ticks": ""
           }
          },
          "colorscale": {
           "diverging": [
            [
             0,
             "#8e0152"
            ],
            [
             0.1,
             "#c51b7d"
            ],
            [
             0.2,
             "#de77ae"
            ],
            [
             0.3,
             "#f1b6da"
            ],
            [
             0.4,
             "#fde0ef"
            ],
            [
             0.5,
             "#f7f7f7"
            ],
            [
             0.6,
             "#e6f5d0"
            ],
            [
             0.7,
             "#b8e186"
            ],
            [
             0.8,
             "#7fbc41"
            ],
            [
             0.9,
             "#4d9221"
            ],
            [
             1,
             "#276419"
            ]
           ],
           "sequential": [
            [
             0,
             "#0d0887"
            ],
            [
             0.1111111111111111,
             "#46039f"
            ],
            [
             0.2222222222222222,
             "#7201a8"
            ],
            [
             0.3333333333333333,
             "#9c179e"
            ],
            [
             0.4444444444444444,
             "#bd3786"
            ],
            [
             0.5555555555555556,
             "#d8576b"
            ],
            [
             0.6666666666666666,
             "#ed7953"
            ],
            [
             0.7777777777777778,
             "#fb9f3a"
            ],
            [
             0.8888888888888888,
             "#fdca26"
            ],
            [
             1,
             "#f0f921"
            ]
           ],
           "sequentialminus": [
            [
             0,
             "#0d0887"
            ],
            [
             0.1111111111111111,
             "#46039f"
            ],
            [
             0.2222222222222222,
             "#7201a8"
            ],
            [
             0.3333333333333333,
             "#9c179e"
            ],
            [
             0.4444444444444444,
             "#bd3786"
            ],
            [
             0.5555555555555556,
             "#d8576b"
            ],
            [
             0.6666666666666666,
             "#ed7953"
            ],
            [
             0.7777777777777778,
             "#fb9f3a"
            ],
            [
             0.8888888888888888,
             "#fdca26"
            ],
            [
             1,
             "#f0f921"
            ]
           ]
          },
          "colorway": [
           "#636efa",
           "#EF553B",
           "#00cc96",
           "#ab63fa",
           "#FFA15A",
           "#19d3f3",
           "#FF6692",
           "#B6E880",
           "#FF97FF",
           "#FECB52"
          ],
          "font": {
           "color": "#2a3f5f"
          },
          "geo": {
           "bgcolor": "white",
           "lakecolor": "white",
           "landcolor": "#E5ECF6",
           "showlakes": true,
           "showland": true,
           "subunitcolor": "white"
          },
          "hoverlabel": {
           "align": "left"
          },
          "hovermode": "closest",
          "mapbox": {
           "style": "light"
          },
          "paper_bgcolor": "white",
          "plot_bgcolor": "#E5ECF6",
          "polar": {
           "angularaxis": {
            "gridcolor": "white",
            "linecolor": "white",
            "ticks": ""
           },
           "bgcolor": "#E5ECF6",
           "radialaxis": {
            "gridcolor": "white",
            "linecolor": "white",
            "ticks": ""
           }
          },
          "scene": {
           "xaxis": {
            "backgroundcolor": "#E5ECF6",
            "gridcolor": "white",
            "gridwidth": 2,
            "linecolor": "white",
            "showbackground": true,
            "ticks": "",
            "zerolinecolor": "white"
           },
           "yaxis": {
            "backgroundcolor": "#E5ECF6",
            "gridcolor": "white",
            "gridwidth": 2,
            "linecolor": "white",
            "showbackground": true,
            "ticks": "",
            "zerolinecolor": "white"
           },
           "zaxis": {
            "backgroundcolor": "#E5ECF6",
            "gridcolor": "white",
            "gridwidth": 2,
            "linecolor": "white",
            "showbackground": true,
            "ticks": "",
            "zerolinecolor": "white"
           }
          },
          "shapedefaults": {
           "line": {
            "color": "#2a3f5f"
           }
          },
          "ternary": {
           "aaxis": {
            "gridcolor": "white",
            "linecolor": "white",
            "ticks": ""
           },
           "baxis": {
            "gridcolor": "white",
            "linecolor": "white",
            "ticks": ""
           },
           "bgcolor": "#E5ECF6",
           "caxis": {
            "gridcolor": "white",
            "linecolor": "white",
            "ticks": ""
           }
          },
          "title": {
           "x": 0.05
          },
          "xaxis": {
           "automargin": true,
           "gridcolor": "white",
           "linecolor": "white",
           "ticks": "",
           "title": {
            "standoff": 15
           },
           "zerolinecolor": "white",
           "zerolinewidth": 2
          },
          "yaxis": {
           "automargin": true,
           "gridcolor": "white",
           "linecolor": "white",
           "ticks": "",
           "title": {
            "standoff": 15
           },
           "zerolinecolor": "white",
           "zerolinewidth": 2
          }
         }
        }
       }
      }
     },
     "metadata": {}
    }
   ],
   "source": [
    "import plotly.graph_objects as go\n",
    "fig = go.Figure(data=[go.Scatter(\n",
    "    x=qt_wc.index, y=qt_wc[\"ratio\"],\n",
    "    mode='markers',\n",
    "    marker_size=[ 10,20,30,40])])\n",
    "fig.show()"
   ]
  },
  {
   "cell_type": "code",
   "execution_count": null,
   "metadata": {},
   "outputs": [],
   "source": []
  }
 ]
}