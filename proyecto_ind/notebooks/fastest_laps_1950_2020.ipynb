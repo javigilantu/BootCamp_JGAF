{
 "metadata": {
  "language_info": {
   "codemirror_mode": {
    "name": "ipython",
    "version": 3
   },
   "file_extension": ".py",
   "mimetype": "text/x-python",
   "name": "python",
   "nbconvert_exporter": "python",
   "pygments_lexer": "ipython3",
   "version": "3.9.0-final"
  },
  "orig_nbformat": 2,
  "kernelspec": {
   "name": "python3",
   "display_name": "Python 3.9.0 64-bit",
   "metadata": {
    "interpreter": {
     "hash": "55e468aa44997b1a111e264ecfc47cca8eaefaa39ff5edd28dad934b35afc7e9"
    }
   }
  }
 },
 "nbformat": 4,
 "nbformat_minor": 2,
 "cells": [
  {
   "source": [
    "# Part 2 of the proyect\n"
   ],
   "cell_type": "markdown",
   "metadata": {}
  },
  {
   "cell_type": "code",
   "execution_count": 3,
   "metadata": {},
   "outputs": [],
   "source": [
    "import numpy as np \n",
    "import pandas as pd "
   ]
  },
  {
   "cell_type": "code",
   "execution_count": 4,
   "metadata": {},
   "outputs": [
    {
     "output_type": "execute_result",
     "data": {
      "text/plain": [
       "    Unnamed: 0  Year             Venue                Name Driver Tag  \\\n",
       "0            0  1950     Great Britain         Nino Farina        FAR   \n",
       "1            1  1950            Monaco  Juan Manuel Fangio        FAN   \n",
       "2            2  1950  Indianapolis 500     Johnnie Parsons        PAR   \n",
       "3            3  1950       Switzerland         Nino Farina        FAR   \n",
       "4            4  1950           Belgium         Nino Farina        FAR   \n",
       "5            5  1950            France  Juan Manuel Fangio        FAN   \n",
       "6            6  1950             Italy  Juan Manuel Fangio        FAN   \n",
       "7            7  1951       Switzerland  Juan Manuel Fangio        FAN   \n",
       "8            8  1951  Indianapolis 500         Lee Wallard        WAL   \n",
       "9            9  1951           Belgium  Juan Manuel Fangio        FAN   \n",
       "10          10  1951            France  Juan Manuel Fangio        FAN   \n",
       "11          11  1951     Great Britain         Nino Farina        FAR   \n",
       "12          12  1951           Germany  Juan Manuel Fangio        FAN   \n",
       "13          13  1951             Italy         Nino Farina        FAR   \n",
       "14          14  1951             Spain  Juan Manuel Fangio        FAN   \n",
       "15          15  1952       Switzerland       Piero Taruffi        TAR   \n",
       "16          16  1952  Indianapolis 500       Bill Vukovich        VUK   \n",
       "17          17  1952           Belgium      Alberto Ascari        ASC   \n",
       "18          18  1952            France      Alberto Ascari        ASC   \n",
       "19          19  1952     Great Britain      Alberto Ascari        ASC   \n",
       "\n",
       "                        Team  Lap Time  \n",
       "0                 Alfa Romeo  1:50.600  \n",
       "1                 Alfa Romeo  1:51.000  \n",
       "2   Kurtis Kraft Offenhauser       NaN  \n",
       "3                 Alfa Romeo  2:41.600  \n",
       "4                 Alfa Romeo  4:34.100  \n",
       "5                 Alfa Romeo  2:35.600  \n",
       "6                 Alfa Romeo  2:00.000  \n",
       "7                 Alfa Romeo  2:51.100  \n",
       "8   Kurtis Kraft Offenhauser  1:07.260  \n",
       "9                 Alfa Romeo  4:22.100  \n",
       "10                Alfa Romeo  2:27.800  \n",
       "11                Alfa Romeo  1:44.000  \n",
       "12                Alfa Romeo  9:55.800  \n",
       "13                Alfa Romeo  1:56.500  \n",
       "14                Alfa Romeo  2:16.930  \n",
       "15                   Ferrari  2:49.100  \n",
       "16  Kurtis Kraft Offenhauser  1:06.600  \n",
       "17                   Ferrari  4:55.000  \n",
       "18                   Ferrari  2:17.300  \n",
       "19                   Ferrari  1:52.000  "
      ],
      "text/html": "<div>\n<style scoped>\n    .dataframe tbody tr th:only-of-type {\n        vertical-align: middle;\n    }\n\n    .dataframe tbody tr th {\n        vertical-align: top;\n    }\n\n    .dataframe thead th {\n        text-align: right;\n    }\n</style>\n<table border=\"1\" class=\"dataframe\">\n  <thead>\n    <tr style=\"text-align: right;\">\n      <th></th>\n      <th>Unnamed: 0</th>\n      <th>Year</th>\n      <th>Venue</th>\n      <th>Name</th>\n      <th>Driver Tag</th>\n      <th>Team</th>\n      <th>Lap Time</th>\n    </tr>\n  </thead>\n  <tbody>\n    <tr>\n      <th>0</th>\n      <td>0</td>\n      <td>1950</td>\n      <td>Great Britain</td>\n      <td>Nino Farina</td>\n      <td>FAR</td>\n      <td>Alfa Romeo</td>\n      <td>1:50.600</td>\n    </tr>\n    <tr>\n      <th>1</th>\n      <td>1</td>\n      <td>1950</td>\n      <td>Monaco</td>\n      <td>Juan Manuel Fangio</td>\n      <td>FAN</td>\n      <td>Alfa Romeo</td>\n      <td>1:51.000</td>\n    </tr>\n    <tr>\n      <th>2</th>\n      <td>2</td>\n      <td>1950</td>\n      <td>Indianapolis 500</td>\n      <td>Johnnie Parsons</td>\n      <td>PAR</td>\n      <td>Kurtis Kraft Offenhauser</td>\n      <td>NaN</td>\n    </tr>\n    <tr>\n      <th>3</th>\n      <td>3</td>\n      <td>1950</td>\n      <td>Switzerland</td>\n      <td>Nino Farina</td>\n      <td>FAR</td>\n      <td>Alfa Romeo</td>\n      <td>2:41.600</td>\n    </tr>\n    <tr>\n      <th>4</th>\n      <td>4</td>\n      <td>1950</td>\n      <td>Belgium</td>\n      <td>Nino Farina</td>\n      <td>FAR</td>\n      <td>Alfa Romeo</td>\n      <td>4:34.100</td>\n    </tr>\n    <tr>\n      <th>5</th>\n      <td>5</td>\n      <td>1950</td>\n      <td>France</td>\n      <td>Juan Manuel Fangio</td>\n      <td>FAN</td>\n      <td>Alfa Romeo</td>\n      <td>2:35.600</td>\n    </tr>\n    <tr>\n      <th>6</th>\n      <td>6</td>\n      <td>1950</td>\n      <td>Italy</td>\n      <td>Juan Manuel Fangio</td>\n      <td>FAN</td>\n      <td>Alfa Romeo</td>\n      <td>2:00.000</td>\n    </tr>\n    <tr>\n      <th>7</th>\n      <td>7</td>\n      <td>1951</td>\n      <td>Switzerland</td>\n      <td>Juan Manuel Fangio</td>\n      <td>FAN</td>\n      <td>Alfa Romeo</td>\n      <td>2:51.100</td>\n    </tr>\n    <tr>\n      <th>8</th>\n      <td>8</td>\n      <td>1951</td>\n      <td>Indianapolis 500</td>\n      <td>Lee Wallard</td>\n      <td>WAL</td>\n      <td>Kurtis Kraft Offenhauser</td>\n      <td>1:07.260</td>\n    </tr>\n    <tr>\n      <th>9</th>\n      <td>9</td>\n      <td>1951</td>\n      <td>Belgium</td>\n      <td>Juan Manuel Fangio</td>\n      <td>FAN</td>\n      <td>Alfa Romeo</td>\n      <td>4:22.100</td>\n    </tr>\n    <tr>\n      <th>10</th>\n      <td>10</td>\n      <td>1951</td>\n      <td>France</td>\n      <td>Juan Manuel Fangio</td>\n      <td>FAN</td>\n      <td>Alfa Romeo</td>\n      <td>2:27.800</td>\n    </tr>\n    <tr>\n      <th>11</th>\n      <td>11</td>\n      <td>1951</td>\n      <td>Great Britain</td>\n      <td>Nino Farina</td>\n      <td>FAR</td>\n      <td>Alfa Romeo</td>\n      <td>1:44.000</td>\n    </tr>\n    <tr>\n      <th>12</th>\n      <td>12</td>\n      <td>1951</td>\n      <td>Germany</td>\n      <td>Juan Manuel Fangio</td>\n      <td>FAN</td>\n      <td>Alfa Romeo</td>\n      <td>9:55.800</td>\n    </tr>\n    <tr>\n      <th>13</th>\n      <td>13</td>\n      <td>1951</td>\n      <td>Italy</td>\n      <td>Nino Farina</td>\n      <td>FAR</td>\n      <td>Alfa Romeo</td>\n      <td>1:56.500</td>\n    </tr>\n    <tr>\n      <th>14</th>\n      <td>14</td>\n      <td>1951</td>\n      <td>Spain</td>\n      <td>Juan Manuel Fangio</td>\n      <td>FAN</td>\n      <td>Alfa Romeo</td>\n      <td>2:16.930</td>\n    </tr>\n    <tr>\n      <th>15</th>\n      <td>15</td>\n      <td>1952</td>\n      <td>Switzerland</td>\n      <td>Piero Taruffi</td>\n      <td>TAR</td>\n      <td>Ferrari</td>\n      <td>2:49.100</td>\n    </tr>\n    <tr>\n      <th>16</th>\n      <td>16</td>\n      <td>1952</td>\n      <td>Indianapolis 500</td>\n      <td>Bill Vukovich</td>\n      <td>VUK</td>\n      <td>Kurtis Kraft Offenhauser</td>\n      <td>1:06.600</td>\n    </tr>\n    <tr>\n      <th>17</th>\n      <td>17</td>\n      <td>1952</td>\n      <td>Belgium</td>\n      <td>Alberto Ascari</td>\n      <td>ASC</td>\n      <td>Ferrari</td>\n      <td>4:55.000</td>\n    </tr>\n    <tr>\n      <th>18</th>\n      <td>18</td>\n      <td>1952</td>\n      <td>France</td>\n      <td>Alberto Ascari</td>\n      <td>ASC</td>\n      <td>Ferrari</td>\n      <td>2:17.300</td>\n    </tr>\n    <tr>\n      <th>19</th>\n      <td>19</td>\n      <td>1952</td>\n      <td>Great Britain</td>\n      <td>Alberto Ascari</td>\n      <td>ASC</td>\n      <td>Ferrari</td>\n      <td>1:52.000</td>\n    </tr>\n  </tbody>\n</table>\n</div>"
     },
     "metadata": {},
     "execution_count": 4
    }
   ],
   "source": [
    "fastest_laps = pd.read_csv(\"C:\\\\Users\\\\javig\\\\OneDrive\\\\Documents\\\\Bootcamp\\\\proyect1_data\\\\fastest_laps_1950-2020.csv\")\n",
    "fastest_laps.head(20)"
   ]
  },
  {
   "cell_type": "code",
   "execution_count": 5,
   "metadata": {},
   "outputs": [
    {
     "output_type": "execute_result",
     "data": {
      "text/plain": [
       "      Year             Venue                Name                      Team\n",
       "0     1950     Great Britain         Nino Farina                Alfa Romeo\n",
       "1     1950            Monaco  Juan Manuel Fangio                Alfa Romeo\n",
       "2     1950  Indianapolis 500     Johnnie Parsons  Kurtis Kraft Offenhauser\n",
       "3     1950       Switzerland         Nino Farina                Alfa Romeo\n",
       "4     1950           Belgium         Nino Farina                Alfa Romeo\n",
       "...    ...               ...                 ...                       ...\n",
       "1030  2020    Emilia Romagna      Lewis Hamilton                  Mercedes\n",
       "1031  2020            Turkey        Lando Norris           McLaren Renault\n",
       "1032  2020           Bahrain      Max Verstappen     Red Bull Racing Honda\n",
       "1033  2020            Sakhir      George Russell                  Mercedes\n",
       "1034  2020         Abu Dhabi    Daniel Ricciardo                   Renault\n",
       "\n",
       "[1035 rows x 4 columns]"
      ],
      "text/html": "<div>\n<style scoped>\n    .dataframe tbody tr th:only-of-type {\n        vertical-align: middle;\n    }\n\n    .dataframe tbody tr th {\n        vertical-align: top;\n    }\n\n    .dataframe thead th {\n        text-align: right;\n    }\n</style>\n<table border=\"1\" class=\"dataframe\">\n  <thead>\n    <tr style=\"text-align: right;\">\n      <th></th>\n      <th>Year</th>\n      <th>Venue</th>\n      <th>Name</th>\n      <th>Team</th>\n    </tr>\n  </thead>\n  <tbody>\n    <tr>\n      <th>0</th>\n      <td>1950</td>\n      <td>Great Britain</td>\n      <td>Nino Farina</td>\n      <td>Alfa Romeo</td>\n    </tr>\n    <tr>\n      <th>1</th>\n      <td>1950</td>\n      <td>Monaco</td>\n      <td>Juan Manuel Fangio</td>\n      <td>Alfa Romeo</td>\n    </tr>\n    <tr>\n      <th>2</th>\n      <td>1950</td>\n      <td>Indianapolis 500</td>\n      <td>Johnnie Parsons</td>\n      <td>Kurtis Kraft Offenhauser</td>\n    </tr>\n    <tr>\n      <th>3</th>\n      <td>1950</td>\n      <td>Switzerland</td>\n      <td>Nino Farina</td>\n      <td>Alfa Romeo</td>\n    </tr>\n    <tr>\n      <th>4</th>\n      <td>1950</td>\n      <td>Belgium</td>\n      <td>Nino Farina</td>\n      <td>Alfa Romeo</td>\n    </tr>\n    <tr>\n      <th>...</th>\n      <td>...</td>\n      <td>...</td>\n      <td>...</td>\n      <td>...</td>\n    </tr>\n    <tr>\n      <th>1030</th>\n      <td>2020</td>\n      <td>Emilia Romagna</td>\n      <td>Lewis Hamilton</td>\n      <td>Mercedes</td>\n    </tr>\n    <tr>\n      <th>1031</th>\n      <td>2020</td>\n      <td>Turkey</td>\n      <td>Lando Norris</td>\n      <td>McLaren Renault</td>\n    </tr>\n    <tr>\n      <th>1032</th>\n      <td>2020</td>\n      <td>Bahrain</td>\n      <td>Max Verstappen</td>\n      <td>Red Bull Racing Honda</td>\n    </tr>\n    <tr>\n      <th>1033</th>\n      <td>2020</td>\n      <td>Sakhir</td>\n      <td>George Russell</td>\n      <td>Mercedes</td>\n    </tr>\n    <tr>\n      <th>1034</th>\n      <td>2020</td>\n      <td>Abu Dhabi</td>\n      <td>Daniel Ricciardo</td>\n      <td>Renault</td>\n    </tr>\n  </tbody>\n</table>\n<p>1035 rows × 4 columns</p>\n</div>"
     },
     "metadata": {},
     "execution_count": 5
    }
   ],
   "source": [
    "fl_team= fastest_laps.drop(fastest_laps.columns.difference(['Year','Venue','Name', \"Team\"]), 1)\n",
    "fl_team"
   ]
  },
  {
   "cell_type": "code",
   "execution_count": 6,
   "metadata": {},
   "outputs": [
    {
     "output_type": "execute_result",
     "data": {
      "text/plain": [
       "      Year             Venue                Name\n",
       "0     1950     Great Britain         Nino Farina\n",
       "1     1950            Monaco  Juan Manuel Fangio\n",
       "2     1950  Indianapolis 500     Johnnie Parsons\n",
       "3     1950       Switzerland         Nino Farina\n",
       "4     1950           Belgium         Nino Farina\n",
       "...    ...               ...                 ...\n",
       "1030  2020    Emilia Romagna      Lewis Hamilton\n",
       "1031  2020            Turkey        Lando Norris\n",
       "1032  2020           Bahrain      Max Verstappen\n",
       "1033  2020            Sakhir      George Russell\n",
       "1034  2020         Abu Dhabi    Daniel Ricciardo\n",
       "\n",
       "[1035 rows x 3 columns]"
      ],
      "text/html": "<div>\n<style scoped>\n    .dataframe tbody tr th:only-of-type {\n        vertical-align: middle;\n    }\n\n    .dataframe tbody tr th {\n        vertical-align: top;\n    }\n\n    .dataframe thead th {\n        text-align: right;\n    }\n</style>\n<table border=\"1\" class=\"dataframe\">\n  <thead>\n    <tr style=\"text-align: right;\">\n      <th></th>\n      <th>Year</th>\n      <th>Venue</th>\n      <th>Name</th>\n    </tr>\n  </thead>\n  <tbody>\n    <tr>\n      <th>0</th>\n      <td>1950</td>\n      <td>Great Britain</td>\n      <td>Nino Farina</td>\n    </tr>\n    <tr>\n      <th>1</th>\n      <td>1950</td>\n      <td>Monaco</td>\n      <td>Juan Manuel Fangio</td>\n    </tr>\n    <tr>\n      <th>2</th>\n      <td>1950</td>\n      <td>Indianapolis 500</td>\n      <td>Johnnie Parsons</td>\n    </tr>\n    <tr>\n      <th>3</th>\n      <td>1950</td>\n      <td>Switzerland</td>\n      <td>Nino Farina</td>\n    </tr>\n    <tr>\n      <th>4</th>\n      <td>1950</td>\n      <td>Belgium</td>\n      <td>Nino Farina</td>\n    </tr>\n    <tr>\n      <th>...</th>\n      <td>...</td>\n      <td>...</td>\n      <td>...</td>\n    </tr>\n    <tr>\n      <th>1030</th>\n      <td>2020</td>\n      <td>Emilia Romagna</td>\n      <td>Lewis Hamilton</td>\n    </tr>\n    <tr>\n      <th>1031</th>\n      <td>2020</td>\n      <td>Turkey</td>\n      <td>Lando Norris</td>\n    </tr>\n    <tr>\n      <th>1032</th>\n      <td>2020</td>\n      <td>Bahrain</td>\n      <td>Max Verstappen</td>\n    </tr>\n    <tr>\n      <th>1033</th>\n      <td>2020</td>\n      <td>Sakhir</td>\n      <td>George Russell</td>\n    </tr>\n    <tr>\n      <th>1034</th>\n      <td>2020</td>\n      <td>Abu Dhabi</td>\n      <td>Daniel Ricciardo</td>\n    </tr>\n  </tbody>\n</table>\n<p>1035 rows × 3 columns</p>\n</div>"
     },
     "metadata": {},
     "execution_count": 6
    }
   ],
   "source": [
    "fl_= fastest_laps.drop(fastest_laps.columns.difference(['Year','Venue','Name']), 1)\n",
    "fl_"
   ]
  },
  {
   "cell_type": "code",
   "execution_count": 7,
   "metadata": {},
   "outputs": [
    {
     "output_type": "execute_result",
     "data": {
      "text/plain": [
       "                     0\n",
       "Name                  \n",
       "Adrian Sutil         1\n",
       "Alain Prost         41\n",
       "Alan Jones          13\n",
       "Alberto Ascari      12\n",
       "Alessandro Nannini   2\n",
       "...                 ..\n",
       "Tony Bettenhausen    1\n",
       "Tony Brooks          3\n",
       "Valtteri Bottas     15\n",
       "Vitaly Petrov        1\n",
       "Vittorio Brambilla   1\n",
       "\n",
       "[132 rows x 1 columns]"
      ],
      "text/html": "<div>\n<style scoped>\n    .dataframe tbody tr th:only-of-type {\n        vertical-align: middle;\n    }\n\n    .dataframe tbody tr th {\n        vertical-align: top;\n    }\n\n    .dataframe thead th {\n        text-align: right;\n    }\n</style>\n<table border=\"1\" class=\"dataframe\">\n  <thead>\n    <tr style=\"text-align: right;\">\n      <th></th>\n      <th>0</th>\n    </tr>\n    <tr>\n      <th>Name</th>\n      <th></th>\n    </tr>\n  </thead>\n  <tbody>\n    <tr>\n      <th>Adrian Sutil</th>\n      <td>1</td>\n    </tr>\n    <tr>\n      <th>Alain Prost</th>\n      <td>41</td>\n    </tr>\n    <tr>\n      <th>Alan Jones</th>\n      <td>13</td>\n    </tr>\n    <tr>\n      <th>Alberto Ascari</th>\n      <td>12</td>\n    </tr>\n    <tr>\n      <th>Alessandro Nannini</th>\n      <td>2</td>\n    </tr>\n    <tr>\n      <th>...</th>\n      <td>...</td>\n    </tr>\n    <tr>\n      <th>Tony Bettenhausen</th>\n      <td>1</td>\n    </tr>\n    <tr>\n      <th>Tony Brooks</th>\n      <td>3</td>\n    </tr>\n    <tr>\n      <th>Valtteri Bottas</th>\n      <td>15</td>\n    </tr>\n    <tr>\n      <th>Vitaly Petrov</th>\n      <td>1</td>\n    </tr>\n    <tr>\n      <th>Vittorio Brambilla</th>\n      <td>1</td>\n    </tr>\n  </tbody>\n</table>\n<p>132 rows × 1 columns</p>\n</div>"
     },
     "metadata": {},
     "execution_count": 7
    }
   ],
   "source": [
    "fl_num = fl_.pivot_table(index=[\"Name\"], aggfunc= \"size\")\n",
    "fl_num = pd.DataFrame(fl_num)\n",
    "fl_num"
   ]
  },
  {
   "cell_type": "code",
   "execution_count": 8,
   "metadata": {},
   "outputs": [],
   "source": [
    "from world_champions import importer\n",
    "world_champions = importer()"
   ]
  },
  {
   "cell_type": "code",
   "execution_count": 9,
   "metadata": {},
   "outputs": [
    {
     "output_type": "execute_result",
     "data": {
      "text/plain": [
       "      Unnamed: 0  Year Position                Name Driver Tag Nationality  \\\n",
       "0              0  1950        1         Nino Farina        FAR         ITA   \n",
       "22            22  1951        1  Juan Manuel Fangio        FAN         ARG   \n",
       "41            41  1952        1      Alberto Ascari        ASC         ITA   \n",
       "63            63  1953        1      Alberto Ascari        ASC         ITA   \n",
       "82            82  1954        1  Juan Manuel Fangio        FAN         ARG   \n",
       "...          ...   ...      ...                 ...        ...         ...   \n",
       "1465        1465  2016        1        Nico Rosberg        ROS         GER   \n",
       "1489        1489  2017        1      Lewis Hamilton        HAM         GBR   \n",
       "1512        1512  2018        1      Lewis Hamilton        HAM         GBR   \n",
       "1532        1532  2019        1      Lewis Hamilton        HAM         GBR   \n",
       "1552        1552  2020        1      Lewis Hamilton        HAM         GBR   \n",
       "\n",
       "               Team  Points  \n",
       "0        Alfa Romeo    30.0  \n",
       "22       Alfa Romeo    31.0  \n",
       "41          Ferrari    36.0  \n",
       "63          Ferrari    34.5  \n",
       "82    Mercedes-Benz    42.0  \n",
       "...             ...     ...  \n",
       "1465       Mercedes   385.0  \n",
       "1489       Mercedes   363.0  \n",
       "1512       Mercedes   408.0  \n",
       "1532       Mercedes   413.0  \n",
       "1552       Mercedes   347.0  \n",
       "\n",
       "[71 rows x 8 columns]"
      ],
      "text/html": "<div>\n<style scoped>\n    .dataframe tbody tr th:only-of-type {\n        vertical-align: middle;\n    }\n\n    .dataframe tbody tr th {\n        vertical-align: top;\n    }\n\n    .dataframe thead th {\n        text-align: right;\n    }\n</style>\n<table border=\"1\" class=\"dataframe\">\n  <thead>\n    <tr style=\"text-align: right;\">\n      <th></th>\n      <th>Unnamed: 0</th>\n      <th>Year</th>\n      <th>Position</th>\n      <th>Name</th>\n      <th>Driver Tag</th>\n      <th>Nationality</th>\n      <th>Team</th>\n      <th>Points</th>\n    </tr>\n  </thead>\n  <tbody>\n    <tr>\n      <th>0</th>\n      <td>0</td>\n      <td>1950</td>\n      <td>1</td>\n      <td>Nino Farina</td>\n      <td>FAR</td>\n      <td>ITA</td>\n      <td>Alfa Romeo</td>\n      <td>30.0</td>\n    </tr>\n    <tr>\n      <th>22</th>\n      <td>22</td>\n      <td>1951</td>\n      <td>1</td>\n      <td>Juan Manuel Fangio</td>\n      <td>FAN</td>\n      <td>ARG</td>\n      <td>Alfa Romeo</td>\n      <td>31.0</td>\n    </tr>\n    <tr>\n      <th>41</th>\n      <td>41</td>\n      <td>1952</td>\n      <td>1</td>\n      <td>Alberto Ascari</td>\n      <td>ASC</td>\n      <td>ITA</td>\n      <td>Ferrari</td>\n      <td>36.0</td>\n    </tr>\n    <tr>\n      <th>63</th>\n      <td>63</td>\n      <td>1953</td>\n      <td>1</td>\n      <td>Alberto Ascari</td>\n      <td>ASC</td>\n      <td>ITA</td>\n      <td>Ferrari</td>\n      <td>34.5</td>\n    </tr>\n    <tr>\n      <th>82</th>\n      <td>82</td>\n      <td>1954</td>\n      <td>1</td>\n      <td>Juan Manuel Fangio</td>\n      <td>FAN</td>\n      <td>ARG</td>\n      <td>Mercedes-Benz</td>\n      <td>42.0</td>\n    </tr>\n    <tr>\n      <th>...</th>\n      <td>...</td>\n      <td>...</td>\n      <td>...</td>\n      <td>...</td>\n      <td>...</td>\n      <td>...</td>\n      <td>...</td>\n      <td>...</td>\n    </tr>\n    <tr>\n      <th>1465</th>\n      <td>1465</td>\n      <td>2016</td>\n      <td>1</td>\n      <td>Nico Rosberg</td>\n      <td>ROS</td>\n      <td>GER</td>\n      <td>Mercedes</td>\n      <td>385.0</td>\n    </tr>\n    <tr>\n      <th>1489</th>\n      <td>1489</td>\n      <td>2017</td>\n      <td>1</td>\n      <td>Lewis Hamilton</td>\n      <td>HAM</td>\n      <td>GBR</td>\n      <td>Mercedes</td>\n      <td>363.0</td>\n    </tr>\n    <tr>\n      <th>1512</th>\n      <td>1512</td>\n      <td>2018</td>\n      <td>1</td>\n      <td>Lewis Hamilton</td>\n      <td>HAM</td>\n      <td>GBR</td>\n      <td>Mercedes</td>\n      <td>408.0</td>\n    </tr>\n    <tr>\n      <th>1532</th>\n      <td>1532</td>\n      <td>2019</td>\n      <td>1</td>\n      <td>Lewis Hamilton</td>\n      <td>HAM</td>\n      <td>GBR</td>\n      <td>Mercedes</td>\n      <td>413.0</td>\n    </tr>\n    <tr>\n      <th>1552</th>\n      <td>1552</td>\n      <td>2020</td>\n      <td>1</td>\n      <td>Lewis Hamilton</td>\n      <td>HAM</td>\n      <td>GBR</td>\n      <td>Mercedes</td>\n      <td>347.0</td>\n    </tr>\n  </tbody>\n</table>\n<p>71 rows × 8 columns</p>\n</div>"
     },
     "metadata": {},
     "execution_count": 9
    }
   ],
   "source": [
    "world_champions"
   ]
  },
  {
   "cell_type": "code",
   "execution_count": 10,
   "metadata": {},
   "outputs": [
    {
     "output_type": "execute_result",
     "data": {
      "text/plain": [
       "                    0\n",
       "Name                 \n",
       "Alain Prost         4\n",
       "Alan Jones          1\n",
       "Alberto Ascari      2\n",
       "Ayrton Senna        3\n",
       "Damon Hill          1\n",
       "Denny Hulme         1\n",
       "Emerson Fittipaldi  2\n",
       "Fernando Alonso     2\n",
       "Graham Hill         2\n",
       "Jack Brabham        3\n",
       "Jackie Stewart      3\n",
       "Jacques Villeneuve  1\n",
       "James Hunt          1\n",
       "Jenson Button       1\n",
       "Jim Clark           2\n",
       "Jochen Rindt        1\n",
       "Jody Scheckter      1\n",
       "John Surtees        1\n",
       "Juan Manuel Fangio  5\n",
       "Keke Rosberg        1\n",
       "Kimi RÃ¤ikkÃ¶nen    1\n",
       "Lewis Hamilton      7\n",
       "Mario Andretti      1\n",
       "Michael Schumacher  7\n",
       "Mika Hakkinen       2\n",
       "Mike Hawthorn       1\n",
       "Nelson Piquet       3\n",
       "Nico Rosberg        1\n",
       "Nigel Mansell       1\n",
       "Niki Lauda          3\n",
       "Nino Farina         1\n",
       "Phil Hill           1\n",
       "Sebastian Vettel    4"
      ],
      "text/html": "<div>\n<style scoped>\n    .dataframe tbody tr th:only-of-type {\n        vertical-align: middle;\n    }\n\n    .dataframe tbody tr th {\n        vertical-align: top;\n    }\n\n    .dataframe thead th {\n        text-align: right;\n    }\n</style>\n<table border=\"1\" class=\"dataframe\">\n  <thead>\n    <tr style=\"text-align: right;\">\n      <th></th>\n      <th>0</th>\n    </tr>\n    <tr>\n      <th>Name</th>\n      <th></th>\n    </tr>\n  </thead>\n  <tbody>\n    <tr>\n      <th>Alain Prost</th>\n      <td>4</td>\n    </tr>\n    <tr>\n      <th>Alan Jones</th>\n      <td>1</td>\n    </tr>\n    <tr>\n      <th>Alberto Ascari</th>\n      <td>2</td>\n    </tr>\n    <tr>\n      <th>Ayrton Senna</th>\n      <td>3</td>\n    </tr>\n    <tr>\n      <th>Damon Hill</th>\n      <td>1</td>\n    </tr>\n    <tr>\n      <th>Denny Hulme</th>\n      <td>1</td>\n    </tr>\n    <tr>\n      <th>Emerson Fittipaldi</th>\n      <td>2</td>\n    </tr>\n    <tr>\n      <th>Fernando Alonso</th>\n      <td>2</td>\n    </tr>\n    <tr>\n      <th>Graham Hill</th>\n      <td>2</td>\n    </tr>\n    <tr>\n      <th>Jack Brabham</th>\n      <td>3</td>\n    </tr>\n    <tr>\n      <th>Jackie Stewart</th>\n      <td>3</td>\n    </tr>\n    <tr>\n      <th>Jacques Villeneuve</th>\n      <td>1</td>\n    </tr>\n    <tr>\n      <th>James Hunt</th>\n      <td>1</td>\n    </tr>\n    <tr>\n      <th>Jenson Button</th>\n      <td>1</td>\n    </tr>\n    <tr>\n      <th>Jim Clark</th>\n      <td>2</td>\n    </tr>\n    <tr>\n      <th>Jochen Rindt</th>\n      <td>1</td>\n    </tr>\n    <tr>\n      <th>Jody Scheckter</th>\n      <td>1</td>\n    </tr>\n    <tr>\n      <th>John Surtees</th>\n      <td>1</td>\n    </tr>\n    <tr>\n      <th>Juan Manuel Fangio</th>\n      <td>5</td>\n    </tr>\n    <tr>\n      <th>Keke Rosberg</th>\n      <td>1</td>\n    </tr>\n    <tr>\n      <th>Kimi RÃ¤ikkÃ¶nen</th>\n      <td>1</td>\n    </tr>\n    <tr>\n      <th>Lewis Hamilton</th>\n      <td>7</td>\n    </tr>\n    <tr>\n      <th>Mario Andretti</th>\n      <td>1</td>\n    </tr>\n    <tr>\n      <th>Michael Schumacher</th>\n      <td>7</td>\n    </tr>\n    <tr>\n      <th>Mika Hakkinen</th>\n      <td>2</td>\n    </tr>\n    <tr>\n      <th>Mike Hawthorn</th>\n      <td>1</td>\n    </tr>\n    <tr>\n      <th>Nelson Piquet</th>\n      <td>3</td>\n    </tr>\n    <tr>\n      <th>Nico Rosberg</th>\n      <td>1</td>\n    </tr>\n    <tr>\n      <th>Nigel Mansell</th>\n      <td>1</td>\n    </tr>\n    <tr>\n      <th>Niki Lauda</th>\n      <td>3</td>\n    </tr>\n    <tr>\n      <th>Nino Farina</th>\n      <td>1</td>\n    </tr>\n    <tr>\n      <th>Phil Hill</th>\n      <td>1</td>\n    </tr>\n    <tr>\n      <th>Sebastian Vettel</th>\n      <td>4</td>\n    </tr>\n  </tbody>\n</table>\n</div>"
     },
     "metadata": {},
     "execution_count": 10
    }
   ],
   "source": [
    "wc_num = world_champions.pivot_table(index=[\"Name\"], aggfunc= \"size\")\n",
    "wc_num = pd.DataFrame(wc_num)\n",
    "wc_num"
   ]
  },
  {
   "cell_type": "code",
   "execution_count": 11,
   "metadata": {},
   "outputs": [
    {
     "output_type": "execute_result",
     "data": {
      "text/plain": [
       "                    0_x  0_y      ratio\n",
       "Name                                   \n",
       "Alain Prost           4   41  10.250000\n",
       "Alan Jones            1   13  13.000000\n",
       "Alberto Ascari        2   12   6.000000\n",
       "Ayrton Senna          3   19   4.750000\n",
       "Damon Hill            1   19   4.750000\n",
       "Denny Hulme           1    8   2.666667\n",
       "Emerson Fittipaldi    2    6   2.000000\n",
       "Fernando Alonso       2   23   4.600000\n",
       "Graham Hill           2   10   3.333333\n",
       "Jack Brabham          3    9   2.250000\n",
       "Jackie Stewart        3   15   5.000000\n",
       "Jacques Villeneuve    1    9   2.250000\n",
       "James Hunt            1    8   2.666667\n",
       "Jenson Button         1    8   2.666667\n",
       "Jim Clark             2   28  14.000000\n",
       "Jochen Rindt          1    3   1.500000\n",
       "Jody Scheckter        1    5   1.666667\n",
       "John Surtees          1   11  11.000000\n",
       "Juan Manuel Fangio    5   22   4.400000\n",
       "Keke Rosberg          1    3   1.500000\n",
       "Kimi RÃ¤ikkÃ¶nen      1   46  46.000000\n",
       "Lewis Hamilton        7   53   7.571429\n",
       "Mario Andretti        1   10   3.333333\n",
       "Michael Schumacher    7   76  10.857143\n",
       "Mika Hakkinen         2   25  12.500000\n",
       "Mike Hawthorn         1    5   1.666667\n",
       "Nelson Piquet         3   23   4.600000\n",
       "Nico Rosberg          1   20  20.000000\n",
       "Nigel Mansell         1   30  30.000000\n",
       "Niki Lauda            3   24   8.000000\n",
       "Nino Farina           1    5   1.666667\n",
       "Phil Hill             1    6   2.000000\n",
       "Sebastian Vettel      4   38   9.500000"
      ],
      "text/html": "<div>\n<style scoped>\n    .dataframe tbody tr th:only-of-type {\n        vertical-align: middle;\n    }\n\n    .dataframe tbody tr th {\n        vertical-align: top;\n    }\n\n    .dataframe thead th {\n        text-align: right;\n    }\n</style>\n<table border=\"1\" class=\"dataframe\">\n  <thead>\n    <tr style=\"text-align: right;\">\n      <th></th>\n      <th>0_x</th>\n      <th>0_y</th>\n      <th>ratio</th>\n    </tr>\n    <tr>\n      <th>Name</th>\n      <th></th>\n      <th></th>\n      <th></th>\n    </tr>\n  </thead>\n  <tbody>\n    <tr>\n      <th>Alain Prost</th>\n      <td>4</td>\n      <td>41</td>\n      <td>10.250000</td>\n    </tr>\n    <tr>\n      <th>Alan Jones</th>\n      <td>1</td>\n      <td>13</td>\n      <td>13.000000</td>\n    </tr>\n    <tr>\n      <th>Alberto Ascari</th>\n      <td>2</td>\n      <td>12</td>\n      <td>6.000000</td>\n    </tr>\n    <tr>\n      <th>Ayrton Senna</th>\n      <td>3</td>\n      <td>19</td>\n      <td>4.750000</td>\n    </tr>\n    <tr>\n      <th>Damon Hill</th>\n      <td>1</td>\n      <td>19</td>\n      <td>4.750000</td>\n    </tr>\n    <tr>\n      <th>Denny Hulme</th>\n      <td>1</td>\n      <td>8</td>\n      <td>2.666667</td>\n    </tr>\n    <tr>\n      <th>Emerson Fittipaldi</th>\n      <td>2</td>\n      <td>6</td>\n      <td>2.000000</td>\n    </tr>\n    <tr>\n      <th>Fernando Alonso</th>\n      <td>2</td>\n      <td>23</td>\n      <td>4.600000</td>\n    </tr>\n    <tr>\n      <th>Graham Hill</th>\n      <td>2</td>\n      <td>10</td>\n      <td>3.333333</td>\n    </tr>\n    <tr>\n      <th>Jack Brabham</th>\n      <td>3</td>\n      <td>9</td>\n      <td>2.250000</td>\n    </tr>\n    <tr>\n      <th>Jackie Stewart</th>\n      <td>3</td>\n      <td>15</td>\n      <td>5.000000</td>\n    </tr>\n    <tr>\n      <th>Jacques Villeneuve</th>\n      <td>1</td>\n      <td>9</td>\n      <td>2.250000</td>\n    </tr>\n    <tr>\n      <th>James Hunt</th>\n      <td>1</td>\n      <td>8</td>\n      <td>2.666667</td>\n    </tr>\n    <tr>\n      <th>Jenson Button</th>\n      <td>1</td>\n      <td>8</td>\n      <td>2.666667</td>\n    </tr>\n    <tr>\n      <th>Jim Clark</th>\n      <td>2</td>\n      <td>28</td>\n      <td>14.000000</td>\n    </tr>\n    <tr>\n      <th>Jochen Rindt</th>\n      <td>1</td>\n      <td>3</td>\n      <td>1.500000</td>\n    </tr>\n    <tr>\n      <th>Jody Scheckter</th>\n      <td>1</td>\n      <td>5</td>\n      <td>1.666667</td>\n    </tr>\n    <tr>\n      <th>John Surtees</th>\n      <td>1</td>\n      <td>11</td>\n      <td>11.000000</td>\n    </tr>\n    <tr>\n      <th>Juan Manuel Fangio</th>\n      <td>5</td>\n      <td>22</td>\n      <td>4.400000</td>\n    </tr>\n    <tr>\n      <th>Keke Rosberg</th>\n      <td>1</td>\n      <td>3</td>\n      <td>1.500000</td>\n    </tr>\n    <tr>\n      <th>Kimi RÃ¤ikkÃ¶nen</th>\n      <td>1</td>\n      <td>46</td>\n      <td>46.000000</td>\n    </tr>\n    <tr>\n      <th>Lewis Hamilton</th>\n      <td>7</td>\n      <td>53</td>\n      <td>7.571429</td>\n    </tr>\n    <tr>\n      <th>Mario Andretti</th>\n      <td>1</td>\n      <td>10</td>\n      <td>3.333333</td>\n    </tr>\n    <tr>\n      <th>Michael Schumacher</th>\n      <td>7</td>\n      <td>76</td>\n      <td>10.857143</td>\n    </tr>\n    <tr>\n      <th>Mika Hakkinen</th>\n      <td>2</td>\n      <td>25</td>\n      <td>12.500000</td>\n    </tr>\n    <tr>\n      <th>Mike Hawthorn</th>\n      <td>1</td>\n      <td>5</td>\n      <td>1.666667</td>\n    </tr>\n    <tr>\n      <th>Nelson Piquet</th>\n      <td>3</td>\n      <td>23</td>\n      <td>4.600000</td>\n    </tr>\n    <tr>\n      <th>Nico Rosberg</th>\n      <td>1</td>\n      <td>20</td>\n      <td>20.000000</td>\n    </tr>\n    <tr>\n      <th>Nigel Mansell</th>\n      <td>1</td>\n      <td>30</td>\n      <td>30.000000</td>\n    </tr>\n    <tr>\n      <th>Niki Lauda</th>\n      <td>3</td>\n      <td>24</td>\n      <td>8.000000</td>\n    </tr>\n    <tr>\n      <th>Nino Farina</th>\n      <td>1</td>\n      <td>5</td>\n      <td>1.666667</td>\n    </tr>\n    <tr>\n      <th>Phil Hill</th>\n      <td>1</td>\n      <td>6</td>\n      <td>2.000000</td>\n    </tr>\n    <tr>\n      <th>Sebastian Vettel</th>\n      <td>4</td>\n      <td>38</td>\n      <td>9.500000</td>\n    </tr>\n  </tbody>\n</table>\n</div>"
     },
     "metadata": {},
     "execution_count": 11
    }
   ],
   "source": [
    "fl_wc = pd.merge(wc_num, fl_num, \"left\", on= [\"Name\"])\n",
    "rat = fl_wc.groupby(['0_y'])['0_x'].transform('sum')\n",
    "fl_wc = fl_wc.assign(ratio= lambda x: x[(\"0_y\")].div(rat))\n",
    "fl_wc = fl_wc.rename({\"WC\": '0_x', \"FL\":'0_y'})\n",
    "fl_wc"
   ]
  },
  {
   "cell_type": "code",
   "execution_count": 12,
   "metadata": {},
   "outputs": [
    {
     "output_type": "execute_result",
     "data": {
      "text/plain": [
       "0.7503690205469159"
      ]
     },
     "metadata": {},
     "execution_count": 12
    }
   ],
   "source": [
    "fl_wc['0_x'].corr(fl_wc['0_y'])"
   ]
  },
  {
   "cell_type": "code",
   "execution_count": 13,
   "metadata": {},
   "outputs": [
    {
     "output_type": "execute_result",
     "data": {
      "text/plain": [
       "0    1.666667\n",
       "1    2.666667\n",
       "dtype: float64"
      ]
     },
     "metadata": {},
     "execution_count": 13
    }
   ],
   "source": [
    "fl_wc.ratio.mode(0)"
   ]
  },
  {
   "cell_type": "code",
   "execution_count": 14,
   "metadata": {},
   "outputs": [
    {
     "output_type": "execute_result",
     "data": {
      "text/plain": [
       "       Mode      Mean  Min   Max\n",
       "0  1.666667  7.816522  1.5  46.0\n",
       "1  2.666667  7.816522  1.5  46.0"
      ],
      "text/html": "<div>\n<style scoped>\n    .dataframe tbody tr th:only-of-type {\n        vertical-align: middle;\n    }\n\n    .dataframe tbody tr th {\n        vertical-align: top;\n    }\n\n    .dataframe thead th {\n        text-align: right;\n    }\n</style>\n<table border=\"1\" class=\"dataframe\">\n  <thead>\n    <tr style=\"text-align: right;\">\n      <th></th>\n      <th>Mode</th>\n      <th>Mean</th>\n      <th>Min</th>\n      <th>Max</th>\n    </tr>\n  </thead>\n  <tbody>\n    <tr>\n      <th>0</th>\n      <td>1.666667</td>\n      <td>7.816522</td>\n      <td>1.5</td>\n      <td>46.0</td>\n    </tr>\n    <tr>\n      <th>1</th>\n      <td>2.666667</td>\n      <td>7.816522</td>\n      <td>1.5</td>\n      <td>46.0</td>\n    </tr>\n  </tbody>\n</table>\n</div>"
     },
     "metadata": {},
     "execution_count": 14
    },
    {
     "output_type": "display_data",
     "data": {
      "text/plain": "<Figure size 432x288 with 1 Axes>",
      "image/svg+xml": "<?xml version=\"1.0\" encoding=\"utf-8\" standalone=\"no\"?>\r\n<!DOCTYPE svg PUBLIC \"-//W3C//DTD SVG 1.1//EN\"\r\n  \"http://www.w3.org/Graphics/SVG/1.1/DTD/svg11.dtd\">\r\n<!-- Created with matplotlib (https://matplotlib.org/) -->\r\n<svg height=\"245.2025pt\" version=\"1.1\" viewBox=\"0 0 368.925 245.2025\" width=\"368.925pt\" xmlns=\"http://www.w3.org/2000/svg\" xmlns:xlink=\"http://www.w3.org/1999/xlink\">\r\n <metadata>\r\n  <rdf:RDF xmlns:cc=\"http://creativecommons.org/ns#\" xmlns:dc=\"http://purl.org/dc/elements/1.1/\" xmlns:rdf=\"http://www.w3.org/1999/02/22-rdf-syntax-ns#\">\r\n   <cc:Work>\r\n    <dc:type rdf:resource=\"http://purl.org/dc/dcmitype/StillImage\"/>\r\n    <dc:date>2021-01-06T09:16:30.527309</dc:date>\r\n    <dc:format>image/svg+xml</dc:format>\r\n    <dc:creator>\r\n     <cc:Agent>\r\n      <dc:title>Matplotlib v3.3.3, https://matplotlib.org/</dc:title>\r\n     </cc:Agent>\r\n    </dc:creator>\r\n   </cc:Work>\r\n  </rdf:RDF>\r\n </metadata>\r\n <defs>\r\n  <style type=\"text/css\">*{stroke-linecap:butt;stroke-linejoin:round;}</style>\r\n </defs>\r\n <g id=\"figure_1\">\r\n  <g id=\"patch_1\">\r\n   <path d=\"M -0 245.2025 \r\nL 368.925 245.2025 \r\nL 368.925 0 \r\nL -0 0 \r\nz\r\n\" style=\"fill:none;\"/>\r\n  </g>\r\n  <g id=\"axes_1\">\r\n   <g id=\"patch_2\">\r\n    <path d=\"M 26.925 224.64 \r\nL 361.725 224.64 \r\nL 361.725 7.2 \r\nL 26.925 7.2 \r\nz\r\n\" style=\"fill:#ffffff;\"/>\r\n   </g>\r\n   <g id=\"patch_3\">\r\n    <path clip-path=\"url(#p9c1465a87d)\" d=\"M 68.775 224.64 \r\nL 89.7 224.64 \r\nL 89.7 217.136894 \r\nL 68.775 217.136894 \r\nz\r\n\" style=\"fill:#1f77b4;\"/>\r\n   </g>\r\n   <g id=\"patch_4\">\r\n    <path clip-path=\"url(#p9c1465a87d)\" d=\"M 236.175 224.64 \r\nL 257.1 224.64 \r\nL 257.1 212.635031 \r\nL 236.175 212.635031 \r\nz\r\n\" style=\"fill:#1f77b4;\"/>\r\n   </g>\r\n   <g id=\"patch_5\">\r\n    <path clip-path=\"url(#p9c1465a87d)\" d=\"M 89.7 224.64 \r\nL 110.625 224.64 \r\nL 110.625 189.451084 \r\nL 89.7 189.451084 \r\nz\r\n\" style=\"fill:#ff7f0e;\"/>\r\n   </g>\r\n   <g id=\"patch_6\">\r\n    <path clip-path=\"url(#p9c1465a87d)\" d=\"M 257.1 224.64 \r\nL 278.025 224.64 \r\nL 278.025 189.451084 \r\nL 257.1 189.451084 \r\nz\r\n\" style=\"fill:#ff7f0e;\"/>\r\n   </g>\r\n   <g id=\"patch_7\">\r\n    <path clip-path=\"url(#p9c1465a87d)\" d=\"M 110.625 224.64 \r\nL 131.55 224.64 \r\nL 131.55 217.887205 \r\nL 110.625 217.887205 \r\nz\r\n\" style=\"fill:#2ca02c;\"/>\r\n   </g>\r\n   <g id=\"patch_8\">\r\n    <path clip-path=\"url(#p9c1465a87d)\" d=\"M 278.025 224.64 \r\nL 298.95 224.64 \r\nL 298.95 217.887205 \r\nL 278.025 217.887205 \r\nz\r\n\" style=\"fill:#2ca02c;\"/>\r\n   </g>\r\n   <g id=\"patch_9\">\r\n    <path clip-path=\"url(#p9c1465a87d)\" d=\"M 131.55 224.64 \r\nL 152.475 224.64 \r\nL 152.475 17.554286 \r\nL 131.55 17.554286 \r\nz\r\n\" style=\"fill:#d62728;\"/>\r\n   </g>\r\n   <g id=\"patch_10\">\r\n    <path clip-path=\"url(#p9c1465a87d)\" d=\"M 298.95 224.64 \r\nL 319.875 224.64 \r\nL 319.875 17.554286 \r\nL 298.95 17.554286 \r\nz\r\n\" style=\"fill:#d62728;\"/>\r\n   </g>\r\n   <g id=\"matplotlib.axis_1\">\r\n    <g id=\"xtick_1\">\r\n     <g id=\"line2d_1\">\r\n      <defs>\r\n       <path d=\"M 0 0 \r\nL 0 3.5 \r\n\" id=\"m4d4bb4005a\" style=\"stroke:#000000;stroke-width:0.8;\"/>\r\n      </defs>\r\n      <g>\r\n       <use style=\"stroke:#000000;stroke-width:0.8;\" x=\"110.625\" xlink:href=\"#m4d4bb4005a\" y=\"224.64\"/>\r\n      </g>\r\n     </g>\r\n     <g id=\"text_1\">\r\n      <!-- 0 -->\r\n      <g transform=\"translate(113.384375 238.0025)rotate(-90)scale(0.1 -0.1)\">\r\n       <defs>\r\n        <path d=\"M 31.78125 66.40625 \r\nQ 24.171875 66.40625 20.328125 58.90625 \r\nQ 16.5 51.421875 16.5 36.375 \r\nQ 16.5 21.390625 20.328125 13.890625 \r\nQ 24.171875 6.390625 31.78125 6.390625 \r\nQ 39.453125 6.390625 43.28125 13.890625 \r\nQ 47.125 21.390625 47.125 36.375 \r\nQ 47.125 51.421875 43.28125 58.90625 \r\nQ 39.453125 66.40625 31.78125 66.40625 \r\nz\r\nM 31.78125 74.21875 \r\nQ 44.046875 74.21875 50.515625 64.515625 \r\nQ 56.984375 54.828125 56.984375 36.375 \r\nQ 56.984375 17.96875 50.515625 8.265625 \r\nQ 44.046875 -1.421875 31.78125 -1.421875 \r\nQ 19.53125 -1.421875 13.0625 8.265625 \r\nQ 6.59375 17.96875 6.59375 36.375 \r\nQ 6.59375 54.828125 13.0625 64.515625 \r\nQ 19.53125 74.21875 31.78125 74.21875 \r\nz\r\n\" id=\"DejaVuSans-48\"/>\r\n       </defs>\r\n       <use xlink:href=\"#DejaVuSans-48\"/>\r\n      </g>\r\n     </g>\r\n    </g>\r\n    <g id=\"xtick_2\">\r\n     <g id=\"line2d_2\">\r\n      <g>\r\n       <use style=\"stroke:#000000;stroke-width:0.8;\" x=\"278.025\" xlink:href=\"#m4d4bb4005a\" y=\"224.64\"/>\r\n      </g>\r\n     </g>\r\n     <g id=\"text_2\">\r\n      <!-- 1 -->\r\n      <g transform=\"translate(280.784375 238.0025)rotate(-90)scale(0.1 -0.1)\">\r\n       <defs>\r\n        <path d=\"M 12.40625 8.296875 \r\nL 28.515625 8.296875 \r\nL 28.515625 63.921875 \r\nL 10.984375 60.40625 \r\nL 10.984375 69.390625 \r\nL 28.421875 72.90625 \r\nL 38.28125 72.90625 \r\nL 38.28125 8.296875 \r\nL 54.390625 8.296875 \r\nL 54.390625 0 \r\nL 12.40625 0 \r\nz\r\n\" id=\"DejaVuSans-49\"/>\r\n       </defs>\r\n       <use xlink:href=\"#DejaVuSans-49\"/>\r\n      </g>\r\n     </g>\r\n    </g>\r\n   </g>\r\n   <g id=\"matplotlib.axis_2\">\r\n    <g id=\"ytick_1\">\r\n     <g id=\"line2d_3\">\r\n      <defs>\r\n       <path d=\"M 0 0 \r\nL -3.5 0 \r\n\" id=\"m4e65c9b74d\" style=\"stroke:#000000;stroke-width:0.8;\"/>\r\n      </defs>\r\n      <g>\r\n       <use style=\"stroke:#000000;stroke-width:0.8;\" x=\"26.925\" xlink:href=\"#m4e65c9b74d\" y=\"224.64\"/>\r\n      </g>\r\n     </g>\r\n     <g id=\"text_3\">\r\n      <!-- 0 -->\r\n      <g transform=\"translate(13.5625 228.439219)scale(0.1 -0.1)\">\r\n       <use xlink:href=\"#DejaVuSans-48\"/>\r\n      </g>\r\n     </g>\r\n    </g>\r\n    <g id=\"ytick_2\">\r\n     <g id=\"line2d_4\">\r\n      <g>\r\n       <use style=\"stroke:#000000;stroke-width:0.8;\" x=\"26.925\" xlink:href=\"#m4e65c9b74d\" y=\"179.621366\"/>\r\n      </g>\r\n     </g>\r\n     <g id=\"text_4\">\r\n      <!-- 10 -->\r\n      <g transform=\"translate(7.2 183.420585)scale(0.1 -0.1)\">\r\n       <use xlink:href=\"#DejaVuSans-49\"/>\r\n       <use x=\"63.623047\" xlink:href=\"#DejaVuSans-48\"/>\r\n      </g>\r\n     </g>\r\n    </g>\r\n    <g id=\"ytick_3\">\r\n     <g id=\"line2d_5\">\r\n      <g>\r\n       <use style=\"stroke:#000000;stroke-width:0.8;\" x=\"26.925\" xlink:href=\"#m4e65c9b74d\" y=\"134.602733\"/>\r\n      </g>\r\n     </g>\r\n     <g id=\"text_5\">\r\n      <!-- 20 -->\r\n      <g transform=\"translate(7.2 138.401952)scale(0.1 -0.1)\">\r\n       <defs>\r\n        <path d=\"M 19.1875 8.296875 \r\nL 53.609375 8.296875 \r\nL 53.609375 0 \r\nL 7.328125 0 \r\nL 7.328125 8.296875 \r\nQ 12.9375 14.109375 22.625 23.890625 \r\nQ 32.328125 33.6875 34.8125 36.53125 \r\nQ 39.546875 41.84375 41.421875 45.53125 \r\nQ 43.3125 49.21875 43.3125 52.78125 \r\nQ 43.3125 58.59375 39.234375 62.25 \r\nQ 35.15625 65.921875 28.609375 65.921875 \r\nQ 23.96875 65.921875 18.8125 64.3125 \r\nQ 13.671875 62.703125 7.8125 59.421875 \r\nL 7.8125 69.390625 \r\nQ 13.765625 71.78125 18.9375 73 \r\nQ 24.125 74.21875 28.421875 74.21875 \r\nQ 39.75 74.21875 46.484375 68.546875 \r\nQ 53.21875 62.890625 53.21875 53.421875 \r\nQ 53.21875 48.921875 51.53125 44.890625 \r\nQ 49.859375 40.875 45.40625 35.40625 \r\nQ 44.1875 33.984375 37.640625 27.21875 \r\nQ 31.109375 20.453125 19.1875 8.296875 \r\nz\r\n\" id=\"DejaVuSans-50\"/>\r\n       </defs>\r\n       <use xlink:href=\"#DejaVuSans-50\"/>\r\n       <use x=\"63.623047\" xlink:href=\"#DejaVuSans-48\"/>\r\n      </g>\r\n     </g>\r\n    </g>\r\n    <g id=\"ytick_4\">\r\n     <g id=\"line2d_6\">\r\n      <g>\r\n       <use style=\"stroke:#000000;stroke-width:0.8;\" x=\"26.925\" xlink:href=\"#m4e65c9b74d\" y=\"89.584099\"/>\r\n      </g>\r\n     </g>\r\n     <g id=\"text_6\">\r\n      <!-- 30 -->\r\n      <g transform=\"translate(7.2 93.383318)scale(0.1 -0.1)\">\r\n       <defs>\r\n        <path d=\"M 40.578125 39.3125 \r\nQ 47.65625 37.796875 51.625 33 \r\nQ 55.609375 28.21875 55.609375 21.1875 \r\nQ 55.609375 10.40625 48.1875 4.484375 \r\nQ 40.765625 -1.421875 27.09375 -1.421875 \r\nQ 22.515625 -1.421875 17.65625 -0.515625 \r\nQ 12.796875 0.390625 7.625 2.203125 \r\nL 7.625 11.71875 \r\nQ 11.71875 9.328125 16.59375 8.109375 \r\nQ 21.484375 6.890625 26.8125 6.890625 \r\nQ 36.078125 6.890625 40.9375 10.546875 \r\nQ 45.796875 14.203125 45.796875 21.1875 \r\nQ 45.796875 27.640625 41.28125 31.265625 \r\nQ 36.765625 34.90625 28.71875 34.90625 \r\nL 20.21875 34.90625 \r\nL 20.21875 43.015625 \r\nL 29.109375 43.015625 \r\nQ 36.375 43.015625 40.234375 45.921875 \r\nQ 44.09375 48.828125 44.09375 54.296875 \r\nQ 44.09375 59.90625 40.109375 62.90625 \r\nQ 36.140625 65.921875 28.71875 65.921875 \r\nQ 24.65625 65.921875 20.015625 65.03125 \r\nQ 15.375 64.15625 9.8125 62.3125 \r\nL 9.8125 71.09375 \r\nQ 15.4375 72.65625 20.34375 73.4375 \r\nQ 25.25 74.21875 29.59375 74.21875 \r\nQ 40.828125 74.21875 47.359375 69.109375 \r\nQ 53.90625 64.015625 53.90625 55.328125 \r\nQ 53.90625 49.265625 50.4375 45.09375 \r\nQ 46.96875 40.921875 40.578125 39.3125 \r\nz\r\n\" id=\"DejaVuSans-51\"/>\r\n       </defs>\r\n       <use xlink:href=\"#DejaVuSans-51\"/>\r\n       <use x=\"63.623047\" xlink:href=\"#DejaVuSans-48\"/>\r\n      </g>\r\n     </g>\r\n    </g>\r\n    <g id=\"ytick_5\">\r\n     <g id=\"line2d_7\">\r\n      <g>\r\n       <use style=\"stroke:#000000;stroke-width:0.8;\" x=\"26.925\" xlink:href=\"#m4e65c9b74d\" y=\"44.565466\"/>\r\n      </g>\r\n     </g>\r\n     <g id=\"text_7\">\r\n      <!-- 40 -->\r\n      <g transform=\"translate(7.2 48.364685)scale(0.1 -0.1)\">\r\n       <defs>\r\n        <path d=\"M 37.796875 64.3125 \r\nL 12.890625 25.390625 \r\nL 37.796875 25.390625 \r\nz\r\nM 35.203125 72.90625 \r\nL 47.609375 72.90625 \r\nL 47.609375 25.390625 \r\nL 58.015625 25.390625 \r\nL 58.015625 17.1875 \r\nL 47.609375 17.1875 \r\nL 47.609375 0 \r\nL 37.796875 0 \r\nL 37.796875 17.1875 \r\nL 4.890625 17.1875 \r\nL 4.890625 26.703125 \r\nz\r\n\" id=\"DejaVuSans-52\"/>\r\n       </defs>\r\n       <use xlink:href=\"#DejaVuSans-52\"/>\r\n       <use x=\"63.623047\" xlink:href=\"#DejaVuSans-48\"/>\r\n      </g>\r\n     </g>\r\n    </g>\r\n   </g>\r\n   <g id=\"patch_11\">\r\n    <path d=\"M 26.925 224.64 \r\nL 26.925 7.2 \r\n\" style=\"fill:none;stroke:#000000;stroke-linecap:square;stroke-linejoin:miter;stroke-width:0.8;\"/>\r\n   </g>\r\n   <g id=\"patch_12\">\r\n    <path d=\"M 361.725 224.64 \r\nL 361.725 7.2 \r\n\" style=\"fill:none;stroke:#000000;stroke-linecap:square;stroke-linejoin:miter;stroke-width:0.8;\"/>\r\n   </g>\r\n   <g id=\"patch_13\">\r\n    <path d=\"M 26.925 224.64 \r\nL 361.725 224.64 \r\n\" style=\"fill:none;stroke:#000000;stroke-linecap:square;stroke-linejoin:miter;stroke-width:0.8;\"/>\r\n   </g>\r\n   <g id=\"patch_14\">\r\n    <path d=\"M 26.925 7.2 \r\nL 361.725 7.2 \r\n\" style=\"fill:none;stroke:#000000;stroke-linecap:square;stroke-linejoin:miter;stroke-width:0.8;\"/>\r\n   </g>\r\n   <g id=\"legend_1\">\r\n    <g id=\"patch_15\">\r\n     <path d=\"M 33.925 73.9125 \r\nL 93.173438 73.9125 \r\nQ 95.173438 73.9125 95.173438 71.9125 \r\nL 95.173438 14.2 \r\nQ 95.173438 12.2 93.173438 12.2 \r\nL 33.925 12.2 \r\nQ 31.925 12.2 31.925 14.2 \r\nL 31.925 71.9125 \r\nQ 31.925 73.9125 33.925 73.9125 \r\nz\r\n\" style=\"fill:#ffffff;opacity:0.8;stroke:#cccccc;stroke-linejoin:miter;\"/>\r\n    </g>\r\n    <g id=\"patch_16\">\r\n     <path d=\"M 35.925 23.798437 \r\nL 55.925 23.798437 \r\nL 55.925 16.798437 \r\nL 35.925 16.798437 \r\nz\r\n\" style=\"fill:#1f77b4;\"/>\r\n    </g>\r\n    <g id=\"text_8\">\r\n     <!-- Mode -->\r\n     <g transform=\"translate(63.925 23.798437)scale(0.1 -0.1)\">\r\n      <defs>\r\n       <path d=\"M 9.8125 72.90625 \r\nL 24.515625 72.90625 \r\nL 43.109375 23.296875 \r\nL 61.8125 72.90625 \r\nL 76.515625 72.90625 \r\nL 76.515625 0 \r\nL 66.890625 0 \r\nL 66.890625 64.015625 \r\nL 48.09375 14.015625 \r\nL 38.1875 14.015625 \r\nL 19.390625 64.015625 \r\nL 19.390625 0 \r\nL 9.8125 0 \r\nz\r\n\" id=\"DejaVuSans-77\"/>\r\n       <path d=\"M 30.609375 48.390625 \r\nQ 23.390625 48.390625 19.1875 42.75 \r\nQ 14.984375 37.109375 14.984375 27.296875 \r\nQ 14.984375 17.484375 19.15625 11.84375 \r\nQ 23.34375 6.203125 30.609375 6.203125 \r\nQ 37.796875 6.203125 41.984375 11.859375 \r\nQ 46.1875 17.53125 46.1875 27.296875 \r\nQ 46.1875 37.015625 41.984375 42.703125 \r\nQ 37.796875 48.390625 30.609375 48.390625 \r\nz\r\nM 30.609375 56 \r\nQ 42.328125 56 49.015625 48.375 \r\nQ 55.71875 40.765625 55.71875 27.296875 \r\nQ 55.71875 13.875 49.015625 6.21875 \r\nQ 42.328125 -1.421875 30.609375 -1.421875 \r\nQ 18.84375 -1.421875 12.171875 6.21875 \r\nQ 5.515625 13.875 5.515625 27.296875 \r\nQ 5.515625 40.765625 12.171875 48.375 \r\nQ 18.84375 56 30.609375 56 \r\nz\r\n\" id=\"DejaVuSans-111\"/>\r\n       <path d=\"M 45.40625 46.390625 \r\nL 45.40625 75.984375 \r\nL 54.390625 75.984375 \r\nL 54.390625 0 \r\nL 45.40625 0 \r\nL 45.40625 8.203125 \r\nQ 42.578125 3.328125 38.25 0.953125 \r\nQ 33.9375 -1.421875 27.875 -1.421875 \r\nQ 17.96875 -1.421875 11.734375 6.484375 \r\nQ 5.515625 14.40625 5.515625 27.296875 \r\nQ 5.515625 40.1875 11.734375 48.09375 \r\nQ 17.96875 56 27.875 56 \r\nQ 33.9375 56 38.25 53.625 \r\nQ 42.578125 51.265625 45.40625 46.390625 \r\nz\r\nM 14.796875 27.296875 \r\nQ 14.796875 17.390625 18.875 11.75 \r\nQ 22.953125 6.109375 30.078125 6.109375 \r\nQ 37.203125 6.109375 41.296875 11.75 \r\nQ 45.40625 17.390625 45.40625 27.296875 \r\nQ 45.40625 37.203125 41.296875 42.84375 \r\nQ 37.203125 48.484375 30.078125 48.484375 \r\nQ 22.953125 48.484375 18.875 42.84375 \r\nQ 14.796875 37.203125 14.796875 27.296875 \r\nz\r\n\" id=\"DejaVuSans-100\"/>\r\n       <path d=\"M 56.203125 29.59375 \r\nL 56.203125 25.203125 \r\nL 14.890625 25.203125 \r\nQ 15.484375 15.921875 20.484375 11.0625 \r\nQ 25.484375 6.203125 34.421875 6.203125 \r\nQ 39.59375 6.203125 44.453125 7.46875 \r\nQ 49.3125 8.734375 54.109375 11.28125 \r\nL 54.109375 2.78125 \r\nQ 49.265625 0.734375 44.1875 -0.34375 \r\nQ 39.109375 -1.421875 33.890625 -1.421875 \r\nQ 20.796875 -1.421875 13.15625 6.1875 \r\nQ 5.515625 13.8125 5.515625 26.8125 \r\nQ 5.515625 40.234375 12.765625 48.109375 \r\nQ 20.015625 56 32.328125 56 \r\nQ 43.359375 56 49.78125 48.890625 \r\nQ 56.203125 41.796875 56.203125 29.59375 \r\nz\r\nM 47.21875 32.234375 \r\nQ 47.125 39.59375 43.09375 43.984375 \r\nQ 39.0625 48.390625 32.421875 48.390625 \r\nQ 24.90625 48.390625 20.390625 44.140625 \r\nQ 15.875 39.890625 15.1875 32.171875 \r\nz\r\n\" id=\"DejaVuSans-101\"/>\r\n      </defs>\r\n      <use xlink:href=\"#DejaVuSans-77\"/>\r\n      <use x=\"86.279297\" xlink:href=\"#DejaVuSans-111\"/>\r\n      <use x=\"147.460938\" xlink:href=\"#DejaVuSans-100\"/>\r\n      <use x=\"210.9375\" xlink:href=\"#DejaVuSans-101\"/>\r\n     </g>\r\n    </g>\r\n    <g id=\"patch_17\">\r\n     <path d=\"M 35.925 38.476562 \r\nL 55.925 38.476562 \r\nL 55.925 31.476562 \r\nL 35.925 31.476562 \r\nz\r\n\" style=\"fill:#ff7f0e;\"/>\r\n    </g>\r\n    <g id=\"text_9\">\r\n     <!-- Mean -->\r\n     <g transform=\"translate(63.925 38.476562)scale(0.1 -0.1)\">\r\n      <defs>\r\n       <path d=\"M 34.28125 27.484375 \r\nQ 23.390625 27.484375 19.1875 25 \r\nQ 14.984375 22.515625 14.984375 16.5 \r\nQ 14.984375 11.71875 18.140625 8.90625 \r\nQ 21.296875 6.109375 26.703125 6.109375 \r\nQ 34.1875 6.109375 38.703125 11.40625 \r\nQ 43.21875 16.703125 43.21875 25.484375 \r\nL 43.21875 27.484375 \r\nz\r\nM 52.203125 31.203125 \r\nL 52.203125 0 \r\nL 43.21875 0 \r\nL 43.21875 8.296875 \r\nQ 40.140625 3.328125 35.546875 0.953125 \r\nQ 30.953125 -1.421875 24.3125 -1.421875 \r\nQ 15.921875 -1.421875 10.953125 3.296875 \r\nQ 6 8.015625 6 15.921875 \r\nQ 6 25.140625 12.171875 29.828125 \r\nQ 18.359375 34.515625 30.609375 34.515625 \r\nL 43.21875 34.515625 \r\nL 43.21875 35.40625 \r\nQ 43.21875 41.609375 39.140625 45 \r\nQ 35.0625 48.390625 27.6875 48.390625 \r\nQ 23 48.390625 18.546875 47.265625 \r\nQ 14.109375 46.140625 10.015625 43.890625 \r\nL 10.015625 52.203125 \r\nQ 14.9375 54.109375 19.578125 55.046875 \r\nQ 24.21875 56 28.609375 56 \r\nQ 40.484375 56 46.34375 49.84375 \r\nQ 52.203125 43.703125 52.203125 31.203125 \r\nz\r\n\" id=\"DejaVuSans-97\"/>\r\n       <path d=\"M 54.890625 33.015625 \r\nL 54.890625 0 \r\nL 45.90625 0 \r\nL 45.90625 32.71875 \r\nQ 45.90625 40.484375 42.875 44.328125 \r\nQ 39.84375 48.1875 33.796875 48.1875 \r\nQ 26.515625 48.1875 22.3125 43.546875 \r\nQ 18.109375 38.921875 18.109375 30.90625 \r\nL 18.109375 0 \r\nL 9.078125 0 \r\nL 9.078125 54.6875 \r\nL 18.109375 54.6875 \r\nL 18.109375 46.1875 \r\nQ 21.34375 51.125 25.703125 53.5625 \r\nQ 30.078125 56 35.796875 56 \r\nQ 45.21875 56 50.046875 50.171875 \r\nQ 54.890625 44.34375 54.890625 33.015625 \r\nz\r\n\" id=\"DejaVuSans-110\"/>\r\n      </defs>\r\n      <use xlink:href=\"#DejaVuSans-77\"/>\r\n      <use x=\"86.279297\" xlink:href=\"#DejaVuSans-101\"/>\r\n      <use x=\"147.802734\" xlink:href=\"#DejaVuSans-97\"/>\r\n      <use x=\"209.082031\" xlink:href=\"#DejaVuSans-110\"/>\r\n     </g>\r\n    </g>\r\n    <g id=\"patch_18\">\r\n     <path d=\"M 35.925 53.154687 \r\nL 55.925 53.154687 \r\nL 55.925 46.154687 \r\nL 35.925 46.154687 \r\nz\r\n\" style=\"fill:#2ca02c;\"/>\r\n    </g>\r\n    <g id=\"text_10\">\r\n     <!-- Min -->\r\n     <g transform=\"translate(63.925 53.154687)scale(0.1 -0.1)\">\r\n      <defs>\r\n       <path d=\"M 9.421875 54.6875 \r\nL 18.40625 54.6875 \r\nL 18.40625 0 \r\nL 9.421875 0 \r\nz\r\nM 9.421875 75.984375 \r\nL 18.40625 75.984375 \r\nL 18.40625 64.59375 \r\nL 9.421875 64.59375 \r\nz\r\n\" id=\"DejaVuSans-105\"/>\r\n      </defs>\r\n      <use xlink:href=\"#DejaVuSans-77\"/>\r\n      <use x=\"86.279297\" xlink:href=\"#DejaVuSans-105\"/>\r\n      <use x=\"114.0625\" xlink:href=\"#DejaVuSans-110\"/>\r\n     </g>\r\n    </g>\r\n    <g id=\"patch_19\">\r\n     <path d=\"M 35.925 67.832812 \r\nL 55.925 67.832812 \r\nL 55.925 60.832812 \r\nL 35.925 60.832812 \r\nz\r\n\" style=\"fill:#d62728;\"/>\r\n    </g>\r\n    <g id=\"text_11\">\r\n     <!-- Max -->\r\n     <g transform=\"translate(63.925 67.832812)scale(0.1 -0.1)\">\r\n      <defs>\r\n       <path d=\"M 54.890625 54.6875 \r\nL 35.109375 28.078125 \r\nL 55.90625 0 \r\nL 45.3125 0 \r\nL 29.390625 21.484375 \r\nL 13.484375 0 \r\nL 2.875 0 \r\nL 24.125 28.609375 \r\nL 4.6875 54.6875 \r\nL 15.28125 54.6875 \r\nL 29.78125 35.203125 \r\nL 44.28125 54.6875 \r\nz\r\n\" id=\"DejaVuSans-120\"/>\r\n      </defs>\r\n      <use xlink:href=\"#DejaVuSans-77\"/>\r\n      <use x=\"86.279297\" xlink:href=\"#DejaVuSans-97\"/>\r\n      <use x=\"147.558594\" xlink:href=\"#DejaVuSans-120\"/>\r\n     </g>\r\n    </g>\r\n   </g>\r\n  </g>\r\n </g>\r\n <defs>\r\n  <clipPath id=\"p9c1465a87d\">\r\n   <rect height=\"217.44\" width=\"334.8\" x=\"26.925\" y=\"7.2\"/>\r\n  </clipPath>\r\n </defs>\r\n</svg>\r\n",
      "image/png": "[encoded data removed]"
     },
     "metadata": {
      "needs_background": "light"
     }
    }
   ],
   "source": [
    "fl_graph = pd.DataFrame()\n",
    "\n",
    "fl_graph[\"Mode\"]= fl_wc.ratio.mode(0)\n",
    "fl_graph[\"Mean\"]= fl_wc.ratio.mean()\n",
    "fl_graph[\"Min\"]= fl_wc.ratio.min()\n",
    "fl_graph[\"Max\"]= fl_wc.ratio.max()\n",
    "axes = fl_graph.plot.bar()\n",
    "fl_graph"
   ]
  },
  {
   "cell_type": "code",
   "execution_count": null,
   "metadata": {},
   "outputs": [],
   "source": []
  },
  {
   "cell_type": "code",
   "execution_count": 32,
   "metadata": {},
   "outputs": [
    {
     "output_type": "execute_result",
     "data": {
      "text/plain": [
       "{'whiskers': [<matplotlib.lines.Line2D at 0x256eb1415e0>,\n",
       "  <matplotlib.lines.Line2D at 0x256eb141610>],\n",
       " 'caps': [<matplotlib.lines.Line2D at 0x256eb141970>,\n",
       "  <matplotlib.lines.Line2D at 0x256eb141b80>],\n",
       " 'boxes': [<matplotlib.patches.PathPatch at 0x256eb146ee0>],\n",
       " 'medians': [<matplotlib.lines.Line2D at 0x256eb133400>],\n",
       " 'fliers': [<matplotlib.lines.Line2D at 0x256eb133280>],\n",
       " 'means': []}"
      ]
     },
     "metadata": {},
     "execution_count": 32
    },
    {
     "output_type": "display_data",
     "data": {
      "text/plain": "<Figure size 432x288 with 1 Axes>",
      "image/svg+xml": "<?xml version=\"1.0\" encoding=\"utf-8\" standalone=\"no\"?>\r\n<!DOCTYPE svg PUBLIC \"-//W3C//DTD SVG 1.1//EN\"\r\n  \"http://www.w3.org/Graphics/SVG/1.1/DTD/svg11.dtd\">\r\n<!-- Created with matplotlib (https://matplotlib.org/) -->\r\n<svg height=\"248.518125pt\" version=\"1.1\" viewBox=\"0 0 368.925 248.518125\" width=\"368.925pt\" xmlns=\"http://www.w3.org/2000/svg\" xmlns:xlink=\"http://www.w3.org/1999/xlink\">\r\n <metadata>\r\n  <rdf:RDF xmlns:cc=\"http://creativecommons.org/ns#\" xmlns:dc=\"http://purl.org/dc/elements/1.1/\" xmlns:rdf=\"http://www.w3.org/1999/02/22-rdf-syntax-ns#\">\r\n   <cc:Work>\r\n    <dc:type rdf:resource=\"http://purl.org/dc/dcmitype/StillImage\"/>\r\n    <dc:date>2021-01-06T09:29:01.568070</dc:date>\r\n    <dc:format>image/svg+xml</dc:format>\r\n    <dc:creator>\r\n     <cc:Agent>\r\n      <dc:title>Matplotlib v3.3.3, https://matplotlib.org/</dc:title>\r\n     </cc:Agent>\r\n    </dc:creator>\r\n   </cc:Work>\r\n  </rdf:RDF>\r\n </metadata>\r\n <defs>\r\n  <style type=\"text/css\">*{stroke-linecap:butt;stroke-linejoin:round;}</style>\r\n </defs>\r\n <g id=\"figure_1\">\r\n  <g id=\"patch_1\">\r\n   <path d=\"M -0 248.518125 \r\nL 368.925 248.518125 \r\nL 368.925 0 \r\nL -0 0 \r\nz\r\n\" style=\"fill:none;\"/>\r\n  </g>\r\n  <g id=\"axes_1\">\r\n   <g id=\"patch_2\">\r\n    <path d=\"M 26.925 224.64 \r\nL 361.725 224.64 \r\nL 361.725 7.2 \r\nL 26.925 7.2 \r\nz\r\n\" style=\"fill:#ffffff;\"/>\r\n   </g>\r\n   <g id=\"matplotlib.axis_1\">\r\n    <g id=\"xtick_1\">\r\n     <g id=\"line2d_1\">\r\n      <defs>\r\n       <path d=\"M 0 0 \r\nL 0 3.5 \r\n\" id=\"m857753d01c\" style=\"stroke:#000000;stroke-width:0.8;\"/>\r\n      </defs>\r\n      <g>\r\n       <use style=\"stroke:#000000;stroke-width:0.8;\" x=\"194.325\" xlink:href=\"#m857753d01c\" y=\"224.64\"/>\r\n      </g>\r\n     </g>\r\n     <g id=\"text_1\">\r\n      <!-- 1 -->\r\n      <g transform=\"translate(191.14375 239.238437)scale(0.1 -0.1)\">\r\n       <defs>\r\n        <path d=\"M 12.40625 8.296875 \r\nL 28.515625 8.296875 \r\nL 28.515625 63.921875 \r\nL 10.984375 60.40625 \r\nL 10.984375 69.390625 \r\nL 28.421875 72.90625 \r\nL 38.28125 72.90625 \r\nL 38.28125 8.296875 \r\nL 54.390625 8.296875 \r\nL 54.390625 0 \r\nL 12.40625 0 \r\nz\r\n\" id=\"DejaVuSans-49\"/>\r\n       </defs>\r\n       <use xlink:href=\"#DejaVuSans-49\"/>\r\n      </g>\r\n     </g>\r\n    </g>\r\n   </g>\r\n   <g id=\"matplotlib.axis_2\">\r\n    <g id=\"ytick_1\">\r\n     <g id=\"line2d_2\">\r\n      <defs>\r\n       <path d=\"M 0 0 \r\nL -3.5 0 \r\n\" id=\"m4b764bbe11\" style=\"stroke:#000000;stroke-width:0.8;\"/>\r\n      </defs>\r\n      <g>\r\n       <use style=\"stroke:#000000;stroke-width:0.8;\" x=\"26.925\" xlink:href=\"#m4b764bbe11\" y=\"221.419489\"/>\r\n      </g>\r\n     </g>\r\n     <g id=\"text_2\">\r\n      <!-- 0 -->\r\n      <g transform=\"translate(13.5625 225.218708)scale(0.1 -0.1)\">\r\n       <defs>\r\n        <path d=\"M 31.78125 66.40625 \r\nQ 24.171875 66.40625 20.328125 58.90625 \r\nQ 16.5 51.421875 16.5 36.375 \r\nQ 16.5 21.390625 20.328125 13.890625 \r\nQ 24.171875 6.390625 31.78125 6.390625 \r\nQ 39.453125 6.390625 43.28125 13.890625 \r\nQ 47.125 21.390625 47.125 36.375 \r\nQ 47.125 51.421875 43.28125 58.90625 \r\nQ 39.453125 66.40625 31.78125 66.40625 \r\nz\r\nM 31.78125 74.21875 \r\nQ 44.046875 74.21875 50.515625 64.515625 \r\nQ 56.984375 54.828125 56.984375 36.375 \r\nQ 56.984375 17.96875 50.515625 8.265625 \r\nQ 44.046875 -1.421875 31.78125 -1.421875 \r\nQ 19.53125 -1.421875 13.0625 8.265625 \r\nQ 6.59375 17.96875 6.59375 36.375 \r\nQ 6.59375 54.828125 13.0625 64.515625 \r\nQ 19.53125 74.21875 31.78125 74.21875 \r\nz\r\n\" id=\"DejaVuSans-48\"/>\r\n       </defs>\r\n       <use xlink:href=\"#DejaVuSans-48\"/>\r\n      </g>\r\n     </g>\r\n    </g>\r\n    <g id=\"ytick_2\">\r\n     <g id=\"line2d_3\">\r\n      <g>\r\n       <use style=\"stroke:#000000;stroke-width:0.8;\" x=\"26.925\" xlink:href=\"#m4b764bbe11\" y=\"176.998652\"/>\r\n      </g>\r\n     </g>\r\n     <g id=\"text_3\">\r\n      <!-- 10 -->\r\n      <g transform=\"translate(7.2 180.79787)scale(0.1 -0.1)\">\r\n       <use xlink:href=\"#DejaVuSans-49\"/>\r\n       <use x=\"63.623047\" xlink:href=\"#DejaVuSans-48\"/>\r\n      </g>\r\n     </g>\r\n    </g>\r\n    <g id=\"ytick_3\">\r\n     <g id=\"line2d_4\">\r\n      <g>\r\n       <use style=\"stroke:#000000;stroke-width:0.8;\" x=\"26.925\" xlink:href=\"#m4b764bbe11\" y=\"132.577814\"/>\r\n      </g>\r\n     </g>\r\n     <g id=\"text_4\">\r\n      <!-- 20 -->\r\n      <g transform=\"translate(7.2 136.377033)scale(0.1 -0.1)\">\r\n       <defs>\r\n        <path d=\"M 19.1875 8.296875 \r\nL 53.609375 8.296875 \r\nL 53.609375 0 \r\nL 7.328125 0 \r\nL 7.328125 8.296875 \r\nQ 12.9375 14.109375 22.625 23.890625 \r\nQ 32.328125 33.6875 34.8125 36.53125 \r\nQ 39.546875 41.84375 41.421875 45.53125 \r\nQ 43.3125 49.21875 43.3125 52.78125 \r\nQ 43.3125 58.59375 39.234375 62.25 \r\nQ 35.15625 65.921875 28.609375 65.921875 \r\nQ 23.96875 65.921875 18.8125 64.3125 \r\nQ 13.671875 62.703125 7.8125 59.421875 \r\nL 7.8125 69.390625 \r\nQ 13.765625 71.78125 18.9375 73 \r\nQ 24.125 74.21875 28.421875 74.21875 \r\nQ 39.75 74.21875 46.484375 68.546875 \r\nQ 53.21875 62.890625 53.21875 53.421875 \r\nQ 53.21875 48.921875 51.53125 44.890625 \r\nQ 49.859375 40.875 45.40625 35.40625 \r\nQ 44.1875 33.984375 37.640625 27.21875 \r\nQ 31.109375 20.453125 19.1875 8.296875 \r\nz\r\n\" id=\"DejaVuSans-50\"/>\r\n       </defs>\r\n       <use xlink:href=\"#DejaVuSans-50\"/>\r\n       <use x=\"63.623047\" xlink:href=\"#DejaVuSans-48\"/>\r\n      </g>\r\n     </g>\r\n    </g>\r\n    <g id=\"ytick_4\">\r\n     <g id=\"line2d_5\">\r\n      <g>\r\n       <use style=\"stroke:#000000;stroke-width:0.8;\" x=\"26.925\" xlink:href=\"#m4b764bbe11\" y=\"88.156977\"/>\r\n      </g>\r\n     </g>\r\n     <g id=\"text_5\">\r\n      <!-- 30 -->\r\n      <g transform=\"translate(7.2 91.956195)scale(0.1 -0.1)\">\r\n       <defs>\r\n        <path d=\"M 40.578125 39.3125 \r\nQ 47.65625 37.796875 51.625 33 \r\nQ 55.609375 28.21875 55.609375 21.1875 \r\nQ 55.609375 10.40625 48.1875 4.484375 \r\nQ 40.765625 -1.421875 27.09375 -1.421875 \r\nQ 22.515625 -1.421875 17.65625 -0.515625 \r\nQ 12.796875 0.390625 7.625 2.203125 \r\nL 7.625 11.71875 \r\nQ 11.71875 9.328125 16.59375 8.109375 \r\nQ 21.484375 6.890625 26.8125 6.890625 \r\nQ 36.078125 6.890625 40.9375 10.546875 \r\nQ 45.796875 14.203125 45.796875 21.1875 \r\nQ 45.796875 27.640625 41.28125 31.265625 \r\nQ 36.765625 34.90625 28.71875 34.90625 \r\nL 20.21875 34.90625 \r\nL 20.21875 43.015625 \r\nL 29.109375 43.015625 \r\nQ 36.375 43.015625 40.234375 45.921875 \r\nQ 44.09375 48.828125 44.09375 54.296875 \r\nQ 44.09375 59.90625 40.109375 62.90625 \r\nQ 36.140625 65.921875 28.71875 65.921875 \r\nQ 24.65625 65.921875 20.015625 65.03125 \r\nQ 15.375 64.15625 9.8125 62.3125 \r\nL 9.8125 71.09375 \r\nQ 15.4375 72.65625 20.34375 73.4375 \r\nQ 25.25 74.21875 29.59375 74.21875 \r\nQ 40.828125 74.21875 47.359375 69.109375 \r\nQ 53.90625 64.015625 53.90625 55.328125 \r\nQ 53.90625 49.265625 50.4375 45.09375 \r\nQ 46.96875 40.921875 40.578125 39.3125 \r\nz\r\n\" id=\"DejaVuSans-51\"/>\r\n       </defs>\r\n       <use xlink:href=\"#DejaVuSans-51\"/>\r\n       <use x=\"63.623047\" xlink:href=\"#DejaVuSans-48\"/>\r\n      </g>\r\n     </g>\r\n    </g>\r\n    <g id=\"ytick_5\">\r\n     <g id=\"line2d_6\">\r\n      <g>\r\n       <use style=\"stroke:#000000;stroke-width:0.8;\" x=\"26.925\" xlink:href=\"#m4b764bbe11\" y=\"43.736139\"/>\r\n      </g>\r\n     </g>\r\n     <g id=\"text_6\">\r\n      <!-- 40 -->\r\n      <g transform=\"translate(7.2 47.535358)scale(0.1 -0.1)\">\r\n       <defs>\r\n        <path d=\"M 37.796875 64.3125 \r\nL 12.890625 25.390625 \r\nL 37.796875 25.390625 \r\nz\r\nM 35.203125 72.90625 \r\nL 47.609375 72.90625 \r\nL 47.609375 25.390625 \r\nL 58.015625 25.390625 \r\nL 58.015625 17.1875 \r\nL 47.609375 17.1875 \r\nL 47.609375 0 \r\nL 37.796875 0 \r\nL 37.796875 17.1875 \r\nL 4.890625 17.1875 \r\nL 4.890625 26.703125 \r\nz\r\n\" id=\"DejaVuSans-52\"/>\r\n       </defs>\r\n       <use xlink:href=\"#DejaVuSans-52\"/>\r\n       <use x=\"63.623047\" xlink:href=\"#DejaVuSans-48\"/>\r\n      </g>\r\n     </g>\r\n    </g>\r\n   </g>\r\n   <g id=\"line2d_7\">\r\n    <path clip-path=\"url(#pb139c9988e)\" d=\"M 194.325 211.424801 \r\nL 194.325 214.756364 \r\n\" style=\"fill:none;stroke:#ff0000;stroke-linecap:square;\"/>\r\n   </g>\r\n   <g id=\"line2d_8\">\r\n    <path clip-path=\"url(#pb139c9988e)\" d=\"M 194.325 175.888131 \r\nL 194.325 132.577814 \r\n\" style=\"fill:none;stroke:#ff0000;stroke-linecap:square;\"/>\r\n   </g>\r\n   <g id=\"line2d_9\">\r\n    <path clip-path=\"url(#pb139c9988e)\" d=\"M 181.77 214.756364 \r\nL 206.88 214.756364 \r\n\" style=\"fill:none;stroke:#ff0000;stroke-linecap:square;\"/>\r\n   </g>\r\n   <g id=\"line2d_10\">\r\n    <path clip-path=\"url(#pb139c9988e)\" d=\"M 181.77 132.577814 \r\nL 206.88 132.577814 \r\n\" style=\"fill:none;stroke:#ff0000;stroke-linecap:square;\"/>\r\n   </g>\r\n   <g id=\"line2d_11\">\r\n    <defs>\r\n     <path d=\"M 0 3 \r\nC 0.795609 3 1.55874 2.683901 2.12132 2.12132 \r\nC 2.683901 1.55874 3 0.795609 3 0 \r\nC 3 -0.795609 2.683901 -1.55874 2.12132 -2.12132 \r\nC 1.55874 -2.683901 0.795609 -3 0 -3 \r\nC -0.795609 -3 -1.55874 -2.683901 -2.12132 -2.12132 \r\nC -2.683901 -1.55874 -3 -0.795609 -3 0 \r\nC -3 0.795609 -2.683901 1.55874 -2.12132 2.12132 \r\nC -1.55874 2.683901 -0.795609 3 0 3 \r\nz\r\n\" id=\"m03f110bbb9\" style=\"stroke:#ff0000;\"/>\r\n    </defs>\r\n    <g clip-path=\"url(#pb139c9988e)\">\r\n     <use style=\"fill-opacity:0;stroke:#ff0000;\" x=\"194.325\" xlink:href=\"#m03f110bbb9\" y=\"17.083636\"/>\r\n     <use style=\"fill-opacity:0;stroke:#ff0000;\" x=\"194.325\" xlink:href=\"#m03f110bbb9\" y=\"88.156977\"/>\r\n    </g>\r\n   </g>\r\n   <g id=\"patch_3\">\r\n    <path clip-path=\"url(#pb139c9988e)\" d=\"M 169.215 211.424801 \r\nL 219.435 211.424801 \r\nL 219.435 210.698144 \r\nL 206.88 200.985904 \r\nL 219.435 191.273664 \r\nL 219.435 175.888131 \r\nL 169.215 175.888131 \r\nL 169.215 191.273664 \r\nL 181.77 200.985904 \r\nL 169.215 210.698144 \r\nL 169.215 211.424801 \r\nz\r\n\" style=\"fill:#1f77b4;stroke:#ff0000;stroke-linejoin:miter;\"/>\r\n   </g>\r\n   <g id=\"line2d_12\">\r\n    <path clip-path=\"url(#pb139c9988e)\" d=\"M 181.77 200.985904 \r\nL 206.88 200.985904 \r\n\" style=\"fill:none;stroke:#ff0000;stroke-linecap:square;\"/>\r\n   </g>\r\n   <g id=\"patch_4\">\r\n    <path d=\"M 26.925 224.64 \r\nL 26.925 7.2 \r\n\" style=\"fill:none;stroke:#000000;stroke-linecap:square;stroke-linejoin:miter;stroke-width:0.8;\"/>\r\n   </g>\r\n   <g id=\"patch_5\">\r\n    <path d=\"M 361.725 224.64 \r\nL 361.725 7.2 \r\n\" style=\"fill:none;stroke:#000000;stroke-linecap:square;stroke-linejoin:miter;stroke-width:0.8;\"/>\r\n   </g>\r\n   <g id=\"patch_6\">\r\n    <path d=\"M 26.925 224.64 \r\nL 361.725 224.64 \r\n\" style=\"fill:none;stroke:#000000;stroke-linecap:square;stroke-linejoin:miter;stroke-width:0.8;\"/>\r\n   </g>\r\n   <g id=\"patch_7\">\r\n    <path d=\"M 26.925 7.2 \r\nL 361.725 7.2 \r\n\" style=\"fill:none;stroke:#000000;stroke-linecap:square;stroke-linejoin:miter;stroke-width:0.8;\"/>\r\n   </g>\r\n  </g>\r\n </g>\r\n <defs>\r\n  <clipPath id=\"pb139c9988e\">\r\n   <rect height=\"217.44\" width=\"334.8\" x=\"26.925\" y=\"7.2\"/>\r\n  </clipPath>\r\n </defs>\r\n</svg>\r\n",
      "image/png": "[encoded data removed]"
     },
     "metadata": {
      "needs_background": "light"
     }
    }
   ],
   "source": [
    "import matplotlib as plt \n",
    "c= \"red\"\n",
    "plt.pyplot.boxplot(fl_wc.ratio,notch=True, patch_artist=True, boxprops=dict( color=c),\n",
    "            capprops=dict(color=c),\n",
    "            whiskerprops=dict(color=c),\n",
    "            flierprops=dict(color=c, markeredgecolor=c),\n",
    "            medianprops=dict(color=c))"
   ]
  },
  {
   "cell_type": "code",
   "execution_count": 27,
   "metadata": {},
   "outputs": [
    {
     "output_type": "error",
     "ename": "AttributeError",
     "evalue": "module 'plotly' has no attribute 'box'",
     "traceback": [
      "\u001b[1;31m---------------------------------------------------------------------------\u001b[0m",
      "\u001b[1;31mAttributeError\u001b[0m                            Traceback (most recent call last)",
      "\u001b[1;32m<ipython-input-27-17efa0bc83bd>\u001b[0m in \u001b[0;36m<module>\u001b[1;34m\u001b[0m\n\u001b[0;32m      1\u001b[0m \u001b[1;32mimport\u001b[0m \u001b[0mplotly\u001b[0m \u001b[1;32mas\u001b[0m \u001b[0mp\u001b[0m\u001b[1;33m\u001b[0m\u001b[1;33m\u001b[0m\u001b[0m\n\u001b[0;32m      2\u001b[0m \u001b[0mdf\u001b[0m \u001b[1;33m=\u001b[0m \u001b[0mp\u001b[0m\u001b[1;33m.\u001b[0m\u001b[0mdata\u001b[0m\u001b[1;33m.\u001b[0m\u001b[0mtips\u001b[0m\u001b[1;33m(\u001b[0m\u001b[1;33m)\u001b[0m\u001b[1;33m\u001b[0m\u001b[1;33m\u001b[0m\u001b[0m\n\u001b[1;32m----> 3\u001b[1;33m \u001b[0mfig\u001b[0m \u001b[1;33m=\u001b[0m \u001b[0mp\u001b[0m\u001b[1;33m.\u001b[0m\u001b[0mbox\u001b[0m\u001b[1;33m(\u001b[0m\u001b[0mdf\u001b[0m\u001b[1;33m,\u001b[0m \u001b[0mx\u001b[0m\u001b[1;33m=\u001b[0m\u001b[1;34m\"time\"\u001b[0m\u001b[1;33m,\u001b[0m \u001b[0my\u001b[0m\u001b[1;33m=\u001b[0m\u001b[1;34m\"total_bill\"\u001b[0m\u001b[1;33m,\u001b[0m \u001b[0mpoints\u001b[0m\u001b[1;33m=\u001b[0m\u001b[1;34m\"all\"\u001b[0m\u001b[1;33m)\u001b[0m\u001b[1;33m\u001b[0m\u001b[1;33m\u001b[0m\u001b[0m\n\u001b[0m\u001b[0;32m      4\u001b[0m \u001b[0mfig\u001b[0m\u001b[1;33m.\u001b[0m\u001b[0mshow\u001b[0m\u001b[1;33m(\u001b[0m\u001b[1;33m)\u001b[0m\u001b[1;33m\u001b[0m\u001b[1;33m\u001b[0m\u001b[0m\n",
      "\u001b[1;32m~\\AppData\\Local\\Programs\\Python\\Python39\\lib\\site-packages\\_plotly_utils\\importers.py\u001b[0m in \u001b[0;36m__getattr__\u001b[1;34m(import_name)\u001b[0m\n\u001b[0;32m     37\u001b[0m             \u001b[1;32mreturn\u001b[0m \u001b[0mgetattr\u001b[0m\u001b[1;33m(\u001b[0m\u001b[0mclass_module\u001b[0m\u001b[1;33m,\u001b[0m \u001b[0mclass_name\u001b[0m\u001b[1;33m)\u001b[0m\u001b[1;33m\u001b[0m\u001b[1;33m\u001b[0m\u001b[0m\n\u001b[0;32m     38\u001b[0m \u001b[1;33m\u001b[0m\u001b[0m\n\u001b[1;32m---> 39\u001b[1;33m         raise AttributeError(\n\u001b[0m\u001b[0;32m     40\u001b[0m             \"module {__name__!r} has no attribute {name!r}\".format(\n\u001b[0;32m     41\u001b[0m                 \u001b[0mname\u001b[0m\u001b[1;33m=\u001b[0m\u001b[0mimport_name\u001b[0m\u001b[1;33m,\u001b[0m \u001b[0m__name__\u001b[0m\u001b[1;33m=\u001b[0m\u001b[0mparent_name\u001b[0m\u001b[1;33m\u001b[0m\u001b[1;33m\u001b[0m\u001b[0m\n",
      "\u001b[1;31mAttributeError\u001b[0m: module 'plotly' has no attribute 'box'"
     ]
    }
   ],
   "source": [
    "import plotly as p\n",
    "df = p.data.tips()\n",
    "fig = p.box(df, x=\"time\", y=\"total_bill\", points=\"all\")\n",
    "fig.show()"
   ]
  },
  {
   "cell_type": "code",
   "execution_count": 23,
   "metadata": {},
   "outputs": [],
   "source": [
    "from race_winner import importer_rw\n",
    "winners = importer_rw()"
   ]
  },
  {
   "cell_type": "code",
   "execution_count": 24,
   "metadata": {},
   "outputs": [],
   "source": [
    "wn_ = winners.drop(winners.columns.difference(['Year',\"Date\",'Name']), 1)\n"
   ]
  },
  {
   "cell_type": "code",
   "execution_count": 25,
   "metadata": {},
   "outputs": [],
   "source": [
    "rw_num = wn_.pivot_table(index=[\"Name\"], aggfunc= \"size\")\n",
    "rw_num = pd.DataFrame(rw_num)\n"
   ]
  },
  {
   "cell_type": "code",
   "execution_count": 26,
   "metadata": {},
   "outputs": [
    {
     "output_type": "execute_result",
     "data": {
      "text/plain": [
       "                    0_x   0_y     ratio\n",
       "Name                                   \n",
       "Adrian Sutil          1   NaN       NaN\n",
       "Alain Prost          41  51.0  1.243902\n",
       "Alan Jones           13  12.0  0.413793\n",
       "Alberto Ascari       12  13.0  0.433333\n",
       "Alessandro Nannini    2   1.0  0.022727\n",
       "...                 ...   ...       ...\n",
       "Tony Bettenhausen     1   NaN       NaN\n",
       "Tony Brooks           3   6.0  0.113208\n",
       "Valtteri Bottas      15   9.0  0.264706\n",
       "Vitaly Petrov         1   NaN       NaN\n",
       "Vittorio Brambilla    1   1.0  0.022727\n",
       "\n",
       "[132 rows x 3 columns]"
      ],
      "text/html": "<div>\n<style scoped>\n    .dataframe tbody tr th:only-of-type {\n        vertical-align: middle;\n    }\n\n    .dataframe tbody tr th {\n        vertical-align: top;\n    }\n\n    .dataframe thead th {\n        text-align: right;\n    }\n</style>\n<table border=\"1\" class=\"dataframe\">\n  <thead>\n    <tr style=\"text-align: right;\">\n      <th></th>\n      <th>0_x</th>\n      <th>0_y</th>\n      <th>ratio</th>\n    </tr>\n    <tr>\n      <th>Name</th>\n      <th></th>\n      <th></th>\n      <th></th>\n    </tr>\n  </thead>\n  <tbody>\n    <tr>\n      <th>Adrian Sutil</th>\n      <td>1</td>\n      <td>NaN</td>\n      <td>NaN</td>\n    </tr>\n    <tr>\n      <th>Alain Prost</th>\n      <td>41</td>\n      <td>51.0</td>\n      <td>1.243902</td>\n    </tr>\n    <tr>\n      <th>Alan Jones</th>\n      <td>13</td>\n      <td>12.0</td>\n      <td>0.413793</td>\n    </tr>\n    <tr>\n      <th>Alberto Ascari</th>\n      <td>12</td>\n      <td>13.0</td>\n      <td>0.433333</td>\n    </tr>\n    <tr>\n      <th>Alessandro Nannini</th>\n      <td>2</td>\n      <td>1.0</td>\n      <td>0.022727</td>\n    </tr>\n    <tr>\n      <th>...</th>\n      <td>...</td>\n      <td>...</td>\n      <td>...</td>\n    </tr>\n    <tr>\n      <th>Tony Bettenhausen</th>\n      <td>1</td>\n      <td>NaN</td>\n      <td>NaN</td>\n    </tr>\n    <tr>\n      <th>Tony Brooks</th>\n      <td>3</td>\n      <td>6.0</td>\n      <td>0.113208</td>\n    </tr>\n    <tr>\n      <th>Valtteri Bottas</th>\n      <td>15</td>\n      <td>9.0</td>\n      <td>0.264706</td>\n    </tr>\n    <tr>\n      <th>Vitaly Petrov</th>\n      <td>1</td>\n      <td>NaN</td>\n      <td>NaN</td>\n    </tr>\n    <tr>\n      <th>Vittorio Brambilla</th>\n      <td>1</td>\n      <td>1.0</td>\n      <td>0.022727</td>\n    </tr>\n  </tbody>\n</table>\n<p>132 rows × 3 columns</p>\n</div>"
     },
     "metadata": {},
     "execution_count": 26
    }
   ],
   "source": [
    "rw_fl = pd.merge(fl_num, rw_num, \"left\", on= [\"Name\"])\n",
    "rat = rw_fl.groupby(['0_y'])['0_x'].transform('sum')\n",
    "rw_fl = rw_fl.assign(ratio= lambda x: x[(\"0_y\")].div(rat))\n",
    "rw_fl = rw_fl.rename({\"WC\": '0_x', \"RW\":'0_y'})\n",
    "rw_fl"
   ]
  },
  {
   "cell_type": "code",
   "execution_count": 27,
   "metadata": {},
   "outputs": [
    {
     "output_type": "execute_result",
     "data": {
      "text/plain": [
       "0.9055455701117455"
      ]
     },
     "metadata": {},
     "execution_count": 27
    }
   ],
   "source": [
    "rw_fl['0_x'].corr(rw_fl['0_y'])"
   ]
  },
  {
   "cell_type": "code",
   "execution_count": null,
   "metadata": {},
   "outputs": [],
   "source": []
  }
 ]
}