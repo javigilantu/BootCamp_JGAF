{
 "metadata": {
  "language_info": {
   "codemirror_mode": {
    "name": "ipython",
    "version": 3
   },
   "file_extension": ".py",
   "mimetype": "text/x-python",
   "name": "python",
   "nbconvert_exporter": "python",
   "pygments_lexer": "ipython3",
   "version": "3.9.0-final"
  },
  "orig_nbformat": 2,
  "kernelspec": {
   "name": "python3",
   "display_name": "Python 3.9.0 64-bit",
   "metadata": {
    "interpreter": {
     "hash": "55e468aa44997b1a111e264ecfc47cca8eaefaa39ff5edd28dad934b35afc7e9"
    }
   }
  }
 },
 "nbformat": 4,
 "nbformat_minor": 2,
 "cells": [
  {
   "source": [
    "# Part 0"
   ],
   "cell_type": "markdown",
   "metadata": {}
  },
  {
   "cell_type": "code",
   "execution_count": 3,
   "metadata": {},
   "outputs": [],
   "source": [
    "import numpy as np \n",
    "import pandas as pd "
   ]
  },
  {
   "cell_type": "code",
   "execution_count": 4,
   "metadata": {},
   "outputs": [
    {
     "output_type": "execute_result",
     "data": {
      "text/plain": [
       "   Unnamed: 0             Venue         Date                Name NameTag  \\\n",
       "0           0     Great Britain  13 May 1950         Nino Farina     FAR   \n",
       "1           1            Monaco  21 May 1950  Juan Manuel Fangio     FAN   \n",
       "2           2  Indianapolis 500  30 May 1950     Johnnie Parsons     PAR   \n",
       "3           3       Switzerland  04 Jun 1950         Nino Farina     FAR   \n",
       "4           4           Belgium  18 Jun 1950  Juan Manuel Fangio     FAN   \n",
       "5           5            France  02 Jul 1950  Juan Manuel Fangio     FAN   \n",
       "6           6             Italy  03 Sep 1950         Nino Farina     FAR   \n",
       "7           7       Switzerland  27 May 1951  Juan Manuel Fangio     FAN   \n",
       "8           8  Indianapolis 500  30 May 1951         Lee Wallard     WAL   \n",
       "9           9           Belgium  17 Jun 1951         Nino Farina     FAR   \n",
       "\n",
       "                       Team   Laps         Time  \n",
       "0                Alfa Romeo   70.0  2:13:23.600  \n",
       "1                Alfa Romeo  100.0  3:13:18.700  \n",
       "2  Kurtis Kraft Offenhauser  138.0  2:46:55.970  \n",
       "3                Alfa Romeo   42.0  2:02:53.700  \n",
       "4                Alfa Romeo   35.0  2:47:26.000  \n",
       "5                Alfa Romeo   64.0  2:57:52.800  \n",
       "6                Alfa Romeo   80.0  2:51:17.400  \n",
       "7                Alfa Romeo   42.0  2:07:53.640  \n",
       "8  Kurtis Kraft Offenhauser  200.0  3:57:38.050  \n",
       "9                Alfa Romeo   36.0  2:45:46.200  "
      ],
      "text/html": "<div>\n<style scoped>\n    .dataframe tbody tr th:only-of-type {\n        vertical-align: middle;\n    }\n\n    .dataframe tbody tr th {\n        vertical-align: top;\n    }\n\n    .dataframe thead th {\n        text-align: right;\n    }\n</style>\n<table border=\"1\" class=\"dataframe\">\n  <thead>\n    <tr style=\"text-align: right;\">\n      <th></th>\n      <th>Unnamed: 0</th>\n      <th>Venue</th>\n      <th>Date</th>\n      <th>Name</th>\n      <th>NameTag</th>\n      <th>Team</th>\n      <th>Laps</th>\n      <th>Time</th>\n    </tr>\n  </thead>\n  <tbody>\n    <tr>\n      <th>0</th>\n      <td>0</td>\n      <td>Great Britain</td>\n      <td>13 May 1950</td>\n      <td>Nino Farina</td>\n      <td>FAR</td>\n      <td>Alfa Romeo</td>\n      <td>70.0</td>\n      <td>2:13:23.600</td>\n    </tr>\n    <tr>\n      <th>1</th>\n      <td>1</td>\n      <td>Monaco</td>\n      <td>21 May 1950</td>\n      <td>Juan Manuel Fangio</td>\n      <td>FAN</td>\n      <td>Alfa Romeo</td>\n      <td>100.0</td>\n      <td>3:13:18.700</td>\n    </tr>\n    <tr>\n      <th>2</th>\n      <td>2</td>\n      <td>Indianapolis 500</td>\n      <td>30 May 1950</td>\n      <td>Johnnie Parsons</td>\n      <td>PAR</td>\n      <td>Kurtis Kraft Offenhauser</td>\n      <td>138.0</td>\n      <td>2:46:55.970</td>\n    </tr>\n    <tr>\n      <th>3</th>\n      <td>3</td>\n      <td>Switzerland</td>\n      <td>04 Jun 1950</td>\n      <td>Nino Farina</td>\n      <td>FAR</td>\n      <td>Alfa Romeo</td>\n      <td>42.0</td>\n      <td>2:02:53.700</td>\n    </tr>\n    <tr>\n      <th>4</th>\n      <td>4</td>\n      <td>Belgium</td>\n      <td>18 Jun 1950</td>\n      <td>Juan Manuel Fangio</td>\n      <td>FAN</td>\n      <td>Alfa Romeo</td>\n      <td>35.0</td>\n      <td>2:47:26.000</td>\n    </tr>\n    <tr>\n      <th>5</th>\n      <td>5</td>\n      <td>France</td>\n      <td>02 Jul 1950</td>\n      <td>Juan Manuel Fangio</td>\n      <td>FAN</td>\n      <td>Alfa Romeo</td>\n      <td>64.0</td>\n      <td>2:57:52.800</td>\n    </tr>\n    <tr>\n      <th>6</th>\n      <td>6</td>\n      <td>Italy</td>\n      <td>03 Sep 1950</td>\n      <td>Nino Farina</td>\n      <td>FAR</td>\n      <td>Alfa Romeo</td>\n      <td>80.0</td>\n      <td>2:51:17.400</td>\n    </tr>\n    <tr>\n      <th>7</th>\n      <td>7</td>\n      <td>Switzerland</td>\n      <td>27 May 1951</td>\n      <td>Juan Manuel Fangio</td>\n      <td>FAN</td>\n      <td>Alfa Romeo</td>\n      <td>42.0</td>\n      <td>2:07:53.640</td>\n    </tr>\n    <tr>\n      <th>8</th>\n      <td>8</td>\n      <td>Indianapolis 500</td>\n      <td>30 May 1951</td>\n      <td>Lee Wallard</td>\n      <td>WAL</td>\n      <td>Kurtis Kraft Offenhauser</td>\n      <td>200.0</td>\n      <td>3:57:38.050</td>\n    </tr>\n    <tr>\n      <th>9</th>\n      <td>9</td>\n      <td>Belgium</td>\n      <td>17 Jun 1951</td>\n      <td>Nino Farina</td>\n      <td>FAR</td>\n      <td>Alfa Romeo</td>\n      <td>36.0</td>\n      <td>2:45:46.200</td>\n    </tr>\n  </tbody>\n</table>\n</div>"
     },
     "metadata": {},
     "execution_count": 4
    }
   ],
   "source": [
    "winners = pd.read_csv(\"C:\\\\Users\\\\javig\\\\OneDrive\\\\Documents\\\\Bootcamp\\\\proyect1_data\\\\race_wins_1950-2020.csv\")\n",
    "winners.head(10)"
   ]
  },
  {
   "cell_type": "code",
   "execution_count": null,
   "metadata": {},
   "outputs": [],
   "source": []
  },
  {
   "cell_type": "code",
   "execution_count": 5,
   "metadata": {},
   "outputs": [],
   "source": [
    "from world_champions import importer"
   ]
  },
  {
   "cell_type": "code",
   "execution_count": 6,
   "metadata": {},
   "outputs": [
    {
     "output_type": "execute_result",
     "data": {
      "text/plain": [
       "      Unnamed: 0  Year Position                Name Driver Tag Nationality  \\\n",
       "0              0  1950        1         Nino Farina        FAR         ITA   \n",
       "22            22  1951        1  Juan Manuel Fangio        FAN         ARG   \n",
       "41            41  1952        1      Alberto Ascari        ASC         ITA   \n",
       "63            63  1953        1      Alberto Ascari        ASC         ITA   \n",
       "82            82  1954        1  Juan Manuel Fangio        FAN         ARG   \n",
       "...          ...   ...      ...                 ...        ...         ...   \n",
       "1465        1465  2016        1        Nico Rosberg        ROS         GER   \n",
       "1489        1489  2017        1      Lewis Hamilton        HAM         GBR   \n",
       "1512        1512  2018        1      Lewis Hamilton        HAM         GBR   \n",
       "1532        1532  2019        1      Lewis Hamilton        HAM         GBR   \n",
       "1552        1552  2020        1      Lewis Hamilton        HAM         GBR   \n",
       "\n",
       "               Team  Points  \n",
       "0        Alfa Romeo    30.0  \n",
       "22       Alfa Romeo    31.0  \n",
       "41          Ferrari    36.0  \n",
       "63          Ferrari    34.5  \n",
       "82    Mercedes-Benz    42.0  \n",
       "...             ...     ...  \n",
       "1465       Mercedes   385.0  \n",
       "1489       Mercedes   363.0  \n",
       "1512       Mercedes   408.0  \n",
       "1532       Mercedes   413.0  \n",
       "1552       Mercedes   347.0  \n",
       "\n",
       "[71 rows x 8 columns]"
      ],
      "text/html": "<div>\n<style scoped>\n    .dataframe tbody tr th:only-of-type {\n        vertical-align: middle;\n    }\n\n    .dataframe tbody tr th {\n        vertical-align: top;\n    }\n\n    .dataframe thead th {\n        text-align: right;\n    }\n</style>\n<table border=\"1\" class=\"dataframe\">\n  <thead>\n    <tr style=\"text-align: right;\">\n      <th></th>\n      <th>Unnamed: 0</th>\n      <th>Year</th>\n      <th>Position</th>\n      <th>Name</th>\n      <th>Driver Tag</th>\n      <th>Nationality</th>\n      <th>Team</th>\n      <th>Points</th>\n    </tr>\n  </thead>\n  <tbody>\n    <tr>\n      <th>0</th>\n      <td>0</td>\n      <td>1950</td>\n      <td>1</td>\n      <td>Nino Farina</td>\n      <td>FAR</td>\n      <td>ITA</td>\n      <td>Alfa Romeo</td>\n      <td>30.0</td>\n    </tr>\n    <tr>\n      <th>22</th>\n      <td>22</td>\n      <td>1951</td>\n      <td>1</td>\n      <td>Juan Manuel Fangio</td>\n      <td>FAN</td>\n      <td>ARG</td>\n      <td>Alfa Romeo</td>\n      <td>31.0</td>\n    </tr>\n    <tr>\n      <th>41</th>\n      <td>41</td>\n      <td>1952</td>\n      <td>1</td>\n      <td>Alberto Ascari</td>\n      <td>ASC</td>\n      <td>ITA</td>\n      <td>Ferrari</td>\n      <td>36.0</td>\n    </tr>\n    <tr>\n      <th>63</th>\n      <td>63</td>\n      <td>1953</td>\n      <td>1</td>\n      <td>Alberto Ascari</td>\n      <td>ASC</td>\n      <td>ITA</td>\n      <td>Ferrari</td>\n      <td>34.5</td>\n    </tr>\n    <tr>\n      <th>82</th>\n      <td>82</td>\n      <td>1954</td>\n      <td>1</td>\n      <td>Juan Manuel Fangio</td>\n      <td>FAN</td>\n      <td>ARG</td>\n      <td>Mercedes-Benz</td>\n      <td>42.0</td>\n    </tr>\n    <tr>\n      <th>...</th>\n      <td>...</td>\n      <td>...</td>\n      <td>...</td>\n      <td>...</td>\n      <td>...</td>\n      <td>...</td>\n      <td>...</td>\n      <td>...</td>\n    </tr>\n    <tr>\n      <th>1465</th>\n      <td>1465</td>\n      <td>2016</td>\n      <td>1</td>\n      <td>Nico Rosberg</td>\n      <td>ROS</td>\n      <td>GER</td>\n      <td>Mercedes</td>\n      <td>385.0</td>\n    </tr>\n    <tr>\n      <th>1489</th>\n      <td>1489</td>\n      <td>2017</td>\n      <td>1</td>\n      <td>Lewis Hamilton</td>\n      <td>HAM</td>\n      <td>GBR</td>\n      <td>Mercedes</td>\n      <td>363.0</td>\n    </tr>\n    <tr>\n      <th>1512</th>\n      <td>1512</td>\n      <td>2018</td>\n      <td>1</td>\n      <td>Lewis Hamilton</td>\n      <td>HAM</td>\n      <td>GBR</td>\n      <td>Mercedes</td>\n      <td>408.0</td>\n    </tr>\n    <tr>\n      <th>1532</th>\n      <td>1532</td>\n      <td>2019</td>\n      <td>1</td>\n      <td>Lewis Hamilton</td>\n      <td>HAM</td>\n      <td>GBR</td>\n      <td>Mercedes</td>\n      <td>413.0</td>\n    </tr>\n    <tr>\n      <th>1552</th>\n      <td>1552</td>\n      <td>2020</td>\n      <td>1</td>\n      <td>Lewis Hamilton</td>\n      <td>HAM</td>\n      <td>GBR</td>\n      <td>Mercedes</td>\n      <td>347.0</td>\n    </tr>\n  </tbody>\n</table>\n<p>71 rows × 8 columns</p>\n</div>"
     },
     "metadata": {},
     "execution_count": 6
    }
   ],
   "source": [
    "world_champions = importer()\n",
    "world_champions"
   ]
  },
  {
   "cell_type": "code",
   "execution_count": 7,
   "metadata": {},
   "outputs": [
    {
     "output_type": "execute_result",
     "data": {
      "text/plain": [
       "             Date                Name                       Team\n",
       "0     13 May 1950         Nino Farina                 Alfa Romeo\n",
       "1     21 May 1950  Juan Manuel Fangio                 Alfa Romeo\n",
       "2     30 May 1950     Johnnie Parsons   Kurtis Kraft Offenhauser\n",
       "3     04 Jun 1950         Nino Farina                 Alfa Romeo\n",
       "4     18 Jun 1950  Juan Manuel Fangio                 Alfa Romeo\n",
       "...           ...                 ...                        ...\n",
       "1033  01 Nov 2020      Lewis Hamilton                   Mercedes\n",
       "1034  15 Nov 2020      Lewis Hamilton                   Mercedes\n",
       "1035  29 Nov 2020      Lewis Hamilton                   Mercedes\n",
       "1036  06 Dec 2020        Sergio Perez  Racing Point BWT Mercedes\n",
       "1037  13 Dec 2020      Max Verstappen      Red Bull Racing Honda\n",
       "\n",
       "[1038 rows x 3 columns]"
      ],
      "text/html": "<div>\n<style scoped>\n    .dataframe tbody tr th:only-of-type {\n        vertical-align: middle;\n    }\n\n    .dataframe tbody tr th {\n        vertical-align: top;\n    }\n\n    .dataframe thead th {\n        text-align: right;\n    }\n</style>\n<table border=\"1\" class=\"dataframe\">\n  <thead>\n    <tr style=\"text-align: right;\">\n      <th></th>\n      <th>Date</th>\n      <th>Name</th>\n      <th>Team</th>\n    </tr>\n  </thead>\n  <tbody>\n    <tr>\n      <th>0</th>\n      <td>13 May 1950</td>\n      <td>Nino Farina</td>\n      <td>Alfa Romeo</td>\n    </tr>\n    <tr>\n      <th>1</th>\n      <td>21 May 1950</td>\n      <td>Juan Manuel Fangio</td>\n      <td>Alfa Romeo</td>\n    </tr>\n    <tr>\n      <th>2</th>\n      <td>30 May 1950</td>\n      <td>Johnnie Parsons</td>\n      <td>Kurtis Kraft Offenhauser</td>\n    </tr>\n    <tr>\n      <th>3</th>\n      <td>04 Jun 1950</td>\n      <td>Nino Farina</td>\n      <td>Alfa Romeo</td>\n    </tr>\n    <tr>\n      <th>4</th>\n      <td>18 Jun 1950</td>\n      <td>Juan Manuel Fangio</td>\n      <td>Alfa Romeo</td>\n    </tr>\n    <tr>\n      <th>...</th>\n      <td>...</td>\n      <td>...</td>\n      <td>...</td>\n    </tr>\n    <tr>\n      <th>1033</th>\n      <td>01 Nov 2020</td>\n      <td>Lewis Hamilton</td>\n      <td>Mercedes</td>\n    </tr>\n    <tr>\n      <th>1034</th>\n      <td>15 Nov 2020</td>\n      <td>Lewis Hamilton</td>\n      <td>Mercedes</td>\n    </tr>\n    <tr>\n      <th>1035</th>\n      <td>29 Nov 2020</td>\n      <td>Lewis Hamilton</td>\n      <td>Mercedes</td>\n    </tr>\n    <tr>\n      <th>1036</th>\n      <td>06 Dec 2020</td>\n      <td>Sergio Perez</td>\n      <td>Racing Point BWT Mercedes</td>\n    </tr>\n    <tr>\n      <th>1037</th>\n      <td>13 Dec 2020</td>\n      <td>Max Verstappen</td>\n      <td>Red Bull Racing Honda</td>\n    </tr>\n  </tbody>\n</table>\n<p>1038 rows × 3 columns</p>\n</div>"
     },
     "metadata": {},
     "execution_count": 7
    }
   ],
   "source": [
    "wn_team = winners.drop(winners.columns.difference(['Year',\"Date\",'Name', \"Team\"]), 1)\n",
    "wn_team "
   ]
  },
  {
   "cell_type": "code",
   "execution_count": 8,
   "metadata": {},
   "outputs": [
    {
     "output_type": "execute_result",
     "data": {
      "text/plain": [
       "             Date                Name\n",
       "0     13 May 1950         Nino Farina\n",
       "1     21 May 1950  Juan Manuel Fangio\n",
       "2     30 May 1950     Johnnie Parsons\n",
       "3     04 Jun 1950         Nino Farina\n",
       "4     18 Jun 1950  Juan Manuel Fangio\n",
       "...           ...                 ...\n",
       "1033  01 Nov 2020      Lewis Hamilton\n",
       "1034  15 Nov 2020      Lewis Hamilton\n",
       "1035  29 Nov 2020      Lewis Hamilton\n",
       "1036  06 Dec 2020        Sergio Perez\n",
       "1037  13 Dec 2020      Max Verstappen\n",
       "\n",
       "[1038 rows x 2 columns]"
      ],
      "text/html": "<div>\n<style scoped>\n    .dataframe tbody tr th:only-of-type {\n        vertical-align: middle;\n    }\n\n    .dataframe tbody tr th {\n        vertical-align: top;\n    }\n\n    .dataframe thead th {\n        text-align: right;\n    }\n</style>\n<table border=\"1\" class=\"dataframe\">\n  <thead>\n    <tr style=\"text-align: right;\">\n      <th></th>\n      <th>Date</th>\n      <th>Name</th>\n    </tr>\n  </thead>\n  <tbody>\n    <tr>\n      <th>0</th>\n      <td>13 May 1950</td>\n      <td>Nino Farina</td>\n    </tr>\n    <tr>\n      <th>1</th>\n      <td>21 May 1950</td>\n      <td>Juan Manuel Fangio</td>\n    </tr>\n    <tr>\n      <th>2</th>\n      <td>30 May 1950</td>\n      <td>Johnnie Parsons</td>\n    </tr>\n    <tr>\n      <th>3</th>\n      <td>04 Jun 1950</td>\n      <td>Nino Farina</td>\n    </tr>\n    <tr>\n      <th>4</th>\n      <td>18 Jun 1950</td>\n      <td>Juan Manuel Fangio</td>\n    </tr>\n    <tr>\n      <th>...</th>\n      <td>...</td>\n      <td>...</td>\n    </tr>\n    <tr>\n      <th>1033</th>\n      <td>01 Nov 2020</td>\n      <td>Lewis Hamilton</td>\n    </tr>\n    <tr>\n      <th>1034</th>\n      <td>15 Nov 2020</td>\n      <td>Lewis Hamilton</td>\n    </tr>\n    <tr>\n      <th>1035</th>\n      <td>29 Nov 2020</td>\n      <td>Lewis Hamilton</td>\n    </tr>\n    <tr>\n      <th>1036</th>\n      <td>06 Dec 2020</td>\n      <td>Sergio Perez</td>\n    </tr>\n    <tr>\n      <th>1037</th>\n      <td>13 Dec 2020</td>\n      <td>Max Verstappen</td>\n    </tr>\n  </tbody>\n</table>\n<p>1038 rows × 2 columns</p>\n</div>"
     },
     "metadata": {},
     "execution_count": 8
    }
   ],
   "source": [
    "wn_ = winners.drop(winners.columns.difference(['Year',\"Date\",'Name']), 1)\n",
    "wn_ "
   ]
  },
  {
   "cell_type": "code",
   "execution_count": 9,
   "metadata": {},
   "outputs": [
    {
     "output_type": "execute_result",
     "data": {
      "text/plain": [
       "                     0\n",
       "Name                  \n",
       "Alain Prost         51\n",
       "Alan Jones          12\n",
       "Alberto Ascari      13\n",
       "Alessandro Nannini   1\n",
       "Ayrton Senna        41\n",
       "...                 ..\n",
       "Tony Brooks          6\n",
       "Troy Ruttman         1\n",
       "Valtteri Bottas      9\n",
       "Vittorio Brambilla   1\n",
       "Wolfgang von Trips   2\n",
       "\n",
       "[110 rows x 1 columns]"
      ],
      "text/html": "<div>\n<style scoped>\n    .dataframe tbody tr th:only-of-type {\n        vertical-align: middle;\n    }\n\n    .dataframe tbody tr th {\n        vertical-align: top;\n    }\n\n    .dataframe thead th {\n        text-align: right;\n    }\n</style>\n<table border=\"1\" class=\"dataframe\">\n  <thead>\n    <tr style=\"text-align: right;\">\n      <th></th>\n      <th>0</th>\n    </tr>\n    <tr>\n      <th>Name</th>\n      <th></th>\n    </tr>\n  </thead>\n  <tbody>\n    <tr>\n      <th>Alain Prost</th>\n      <td>51</td>\n    </tr>\n    <tr>\n      <th>Alan Jones</th>\n      <td>12</td>\n    </tr>\n    <tr>\n      <th>Alberto Ascari</th>\n      <td>13</td>\n    </tr>\n    <tr>\n      <th>Alessandro Nannini</th>\n      <td>1</td>\n    </tr>\n    <tr>\n      <th>Ayrton Senna</th>\n      <td>41</td>\n    </tr>\n    <tr>\n      <th>...</th>\n      <td>...</td>\n    </tr>\n    <tr>\n      <th>Tony Brooks</th>\n      <td>6</td>\n    </tr>\n    <tr>\n      <th>Troy Ruttman</th>\n      <td>1</td>\n    </tr>\n    <tr>\n      <th>Valtteri Bottas</th>\n      <td>9</td>\n    </tr>\n    <tr>\n      <th>Vittorio Brambilla</th>\n      <td>1</td>\n    </tr>\n    <tr>\n      <th>Wolfgang von Trips</th>\n      <td>2</td>\n    </tr>\n  </tbody>\n</table>\n<p>110 rows × 1 columns</p>\n</div>"
     },
     "metadata": {},
     "execution_count": 9
    }
   ],
   "source": [
    "rw_num = wn_.pivot_table(index=[\"Name\"], aggfunc= \"size\")\n",
    "rw_num = pd.DataFrame(rw_num)\n",
    "rw_num"
   ]
  },
  {
   "cell_type": "code",
   "execution_count": 10,
   "metadata": {},
   "outputs": [
    {
     "output_type": "stream",
     "name": "stdout",
     "text": [
      "0    95\ndtype: int64\n0    1\ndtype: int64\n"
     ]
    }
   ],
   "source": [
    "print (rw_num.max())\n",
    "print (rw_num.min())\n"
   ]
  },
  {
   "cell_type": "code",
   "execution_count": 11,
   "metadata": {},
   "outputs": [
    {
     "output_type": "execute_result",
     "data": {
      "text/plain": [
       "                    0\n",
       "Name                 \n",
       "Alain Prost         4\n",
       "Alan Jones          1\n",
       "Alberto Ascari      2\n",
       "Ayrton Senna        3\n",
       "Damon Hill          1\n",
       "Denny Hulme         1\n",
       "Emerson Fittipaldi  2\n",
       "Fernando Alonso     2\n",
       "Graham Hill         2\n",
       "Jack Brabham        3\n",
       "Jackie Stewart      3\n",
       "Jacques Villeneuve  1\n",
       "James Hunt          1\n",
       "Jenson Button       1\n",
       "Jim Clark           2\n",
       "Jochen Rindt        1\n",
       "Jody Scheckter      1\n",
       "John Surtees        1\n",
       "Juan Manuel Fangio  5\n",
       "Keke Rosberg        1\n",
       "Kimi RÃ¤ikkÃ¶nen    1\n",
       "Lewis Hamilton      7\n",
       "Mario Andretti      1\n",
       "Michael Schumacher  7\n",
       "Mika Hakkinen       2\n",
       "Mike Hawthorn       1\n",
       "Nelson Piquet       3\n",
       "Nico Rosberg        1\n",
       "Nigel Mansell       1\n",
       "Niki Lauda          3\n",
       "Nino Farina         1\n",
       "Phil Hill           1\n",
       "Sebastian Vettel    4"
      ],
      "text/html": "<div>\n<style scoped>\n    .dataframe tbody tr th:only-of-type {\n        vertical-align: middle;\n    }\n\n    .dataframe tbody tr th {\n        vertical-align: top;\n    }\n\n    .dataframe thead th {\n        text-align: right;\n    }\n</style>\n<table border=\"1\" class=\"dataframe\">\n  <thead>\n    <tr style=\"text-align: right;\">\n      <th></th>\n      <th>0</th>\n    </tr>\n    <tr>\n      <th>Name</th>\n      <th></th>\n    </tr>\n  </thead>\n  <tbody>\n    <tr>\n      <th>Alain Prost</th>\n      <td>4</td>\n    </tr>\n    <tr>\n      <th>Alan Jones</th>\n      <td>1</td>\n    </tr>\n    <tr>\n      <th>Alberto Ascari</th>\n      <td>2</td>\n    </tr>\n    <tr>\n      <th>Ayrton Senna</th>\n      <td>3</td>\n    </tr>\n    <tr>\n      <th>Damon Hill</th>\n      <td>1</td>\n    </tr>\n    <tr>\n      <th>Denny Hulme</th>\n      <td>1</td>\n    </tr>\n    <tr>\n      <th>Emerson Fittipaldi</th>\n      <td>2</td>\n    </tr>\n    <tr>\n      <th>Fernando Alonso</th>\n      <td>2</td>\n    </tr>\n    <tr>\n      <th>Graham Hill</th>\n      <td>2</td>\n    </tr>\n    <tr>\n      <th>Jack Brabham</th>\n      <td>3</td>\n    </tr>\n    <tr>\n      <th>Jackie Stewart</th>\n      <td>3</td>\n    </tr>\n    <tr>\n      <th>Jacques Villeneuve</th>\n      <td>1</td>\n    </tr>\n    <tr>\n      <th>James Hunt</th>\n      <td>1</td>\n    </tr>\n    <tr>\n      <th>Jenson Button</th>\n      <td>1</td>\n    </tr>\n    <tr>\n      <th>Jim Clark</th>\n      <td>2</td>\n    </tr>\n    <tr>\n      <th>Jochen Rindt</th>\n      <td>1</td>\n    </tr>\n    <tr>\n      <th>Jody Scheckter</th>\n      <td>1</td>\n    </tr>\n    <tr>\n      <th>John Surtees</th>\n      <td>1</td>\n    </tr>\n    <tr>\n      <th>Juan Manuel Fangio</th>\n      <td>5</td>\n    </tr>\n    <tr>\n      <th>Keke Rosberg</th>\n      <td>1</td>\n    </tr>\n    <tr>\n      <th>Kimi RÃ¤ikkÃ¶nen</th>\n      <td>1</td>\n    </tr>\n    <tr>\n      <th>Lewis Hamilton</th>\n      <td>7</td>\n    </tr>\n    <tr>\n      <th>Mario Andretti</th>\n      <td>1</td>\n    </tr>\n    <tr>\n      <th>Michael Schumacher</th>\n      <td>7</td>\n    </tr>\n    <tr>\n      <th>Mika Hakkinen</th>\n      <td>2</td>\n    </tr>\n    <tr>\n      <th>Mike Hawthorn</th>\n      <td>1</td>\n    </tr>\n    <tr>\n      <th>Nelson Piquet</th>\n      <td>3</td>\n    </tr>\n    <tr>\n      <th>Nico Rosberg</th>\n      <td>1</td>\n    </tr>\n    <tr>\n      <th>Nigel Mansell</th>\n      <td>1</td>\n    </tr>\n    <tr>\n      <th>Niki Lauda</th>\n      <td>3</td>\n    </tr>\n    <tr>\n      <th>Nino Farina</th>\n      <td>1</td>\n    </tr>\n    <tr>\n      <th>Phil Hill</th>\n      <td>1</td>\n    </tr>\n    <tr>\n      <th>Sebastian Vettel</th>\n      <td>4</td>\n    </tr>\n  </tbody>\n</table>\n</div>"
     },
     "metadata": {},
     "execution_count": 11
    }
   ],
   "source": [
    "wc_num = world_champions.pivot_table(index=[\"Name\"], aggfunc= \"size\")\n",
    "wc_num = pd.DataFrame(wc_num)\n",
    "wc_num"
   ]
  },
  {
   "cell_type": "code",
   "execution_count": 12,
   "metadata": {},
   "outputs": [
    {
     "output_type": "execute_result",
     "data": {
      "text/plain": [
       "Team\n",
       "Alfa Romeo                    11\n",
       "AlphaTauri Honda               1\n",
       "BRM                           17\n",
       "Benetton BMW                   1\n",
       "Benetton Ford                 14\n",
       "Benetton Renault              12\n",
       "Brabham Alfa Romeo             2\n",
       "Brabham BMW                    8\n",
       "Brabham Climax                 2\n",
       "Brabham Ford                  15\n",
       "Brabham Repco                  8\n",
       "Brawn Mercedes                 8\n",
       "Cooper Climax                 14\n",
       "Cooper Maserati                2\n",
       "Eagle Weslake                  1\n",
       "Epperly Offenhauser            2\n",
       "Ferrari                      239\n",
       "Hesketh Ford                   1\n",
       "Honda                          3\n",
       "Jordan Ford                    1\n",
       "Jordan Mugen Honda             3\n",
       "Kurtis Kraft Offenhauser       5\n",
       "Kuzma Offenhauser              1\n",
       "Ligier Ford                    5\n",
       "Ligier Matra                   3\n",
       "Ligier Mugen Honda             1\n",
       "Lotus BRM                      1\n",
       "Lotus Climax                  24\n",
       "Lotus Ford                    47\n",
       "Lotus Honda                    2\n",
       "Lotus Renault                  7\n",
       "March Ford                     3\n",
       "Maserati                       9\n",
       "Matra Ford                     9\n",
       "McLaren Ford                  35\n",
       "McLaren Honda                 44\n",
       "McLaren Mercedes              78\n",
       "McLaren TAG                   25\n",
       "Mercedes                     106\n",
       "Mercedes-Benz                  9\n",
       "Penske Ford                    1\n",
       "Porsche                        1\n",
       "RBR Renault                   15\n",
       "Racing Point BWT Mercedes      1\n",
       "Red Bull Racing Honda          5\n",
       "Red Bull Racing Renault       35\n",
       "Red Bull Racing TAG Heuer      9\n",
       "Renault                       35\n",
       "STR Ferrari                    1\n",
       "Sauber BMW                     1\n",
       "Shadow Ford                    1\n",
       "Stewart Ford                   1\n",
       "Tyrrell Ford                  23\n",
       "Vanwall                       10\n",
       "Watson Offenhauser             3\n",
       "Williams BMW                  10\n",
       "Williams Ford                 17\n",
       "Williams Honda                23\n",
       "Williams Renault              64\n",
       "Wolf Ford                      3\n",
       "dtype: int64"
      ]
     },
     "metadata": {},
     "execution_count": 12
    }
   ],
   "source": [
    "wn_team_num= wn_team.pivot_table(index=[\"Team\"], aggfunc= \"size\")\n",
    "wn_team_num"
   ]
  },
  {
   "cell_type": "code",
   "execution_count": 13,
   "metadata": {},
   "outputs": [
    {
     "output_type": "execute_result",
     "data": {
      "text/plain": [
       "                    0_x  0_y      ratio\n",
       "Name                                   \n",
       "Alain Prost           4   51  12.750000\n",
       "Alan Jones            1   12   6.000000\n",
       "Alberto Ascari        2   13   6.500000\n",
       "Ayrton Senna          3   41  13.666667\n",
       "Damon Hill            1   22  22.000000\n",
       "Denny Hulme           1    8   8.000000\n",
       "Emerson Fittipaldi    2   14   2.000000\n",
       "Fernando Alonso       2   32  16.000000\n",
       "Graham Hill           2   14   2.000000\n",
       "Jack Brabham          3   14   2.000000\n",
       "Jackie Stewart        3   27   9.000000\n",
       "Jacques Villeneuve    1   11  11.000000\n",
       "James Hunt            1   10   5.000000\n",
       "Jenson Button         1   15  15.000000\n",
       "Jim Clark             2   25   5.000000\n",
       "Jochen Rindt          1    6   3.000000\n",
       "Jody Scheckter        1   10   5.000000\n",
       "John Surtees          1    6   3.000000\n",
       "Juan Manuel Fangio    5   24   4.800000\n",
       "Keke Rosberg          1    5   2.500000\n",
       "Kimi RÃ¤ikkÃ¶nen      1   21  21.000000\n",
       "Lewis Hamilton        7   95  13.571429\n",
       "Mario Andretti        1   12   6.000000\n",
       "Michael Schumacher    7   91  13.000000\n",
       "Mika Hakkinen         2   20  10.000000\n",
       "Mike Hawthorn         1    3   1.500000\n",
       "Nelson Piquet         3   23   5.750000\n",
       "Nico Rosberg          1   23   5.750000\n",
       "Nigel Mansell         1   31  31.000000\n",
       "Niki Lauda            3   25   5.000000\n",
       "Nino Farina           1    5   2.500000\n",
       "Phil Hill             1    3   1.500000\n",
       "Sebastian Vettel      4   53  13.250000"
      ],
      "text/html": "<div>\n<style scoped>\n    .dataframe tbody tr th:only-of-type {\n        vertical-align: middle;\n    }\n\n    .dataframe tbody tr th {\n        vertical-align: top;\n    }\n\n    .dataframe thead th {\n        text-align: right;\n    }\n</style>\n<table border=\"1\" class=\"dataframe\">\n  <thead>\n    <tr style=\"text-align: right;\">\n      <th></th>\n      <th>0_x</th>\n      <th>0_y</th>\n      <th>ratio</th>\n    </tr>\n    <tr>\n      <th>Name</th>\n      <th></th>\n      <th></th>\n      <th></th>\n    </tr>\n  </thead>\n  <tbody>\n    <tr>\n      <th>Alain Prost</th>\n      <td>4</td>\n      <td>51</td>\n      <td>12.750000</td>\n    </tr>\n    <tr>\n      <th>Alan Jones</th>\n      <td>1</td>\n      <td>12</td>\n      <td>6.000000</td>\n    </tr>\n    <tr>\n      <th>Alberto Ascari</th>\n      <td>2</td>\n      <td>13</td>\n      <td>6.500000</td>\n    </tr>\n    <tr>\n      <th>Ayrton Senna</th>\n      <td>3</td>\n      <td>41</td>\n      <td>13.666667</td>\n    </tr>\n    <tr>\n      <th>Damon Hill</th>\n      <td>1</td>\n      <td>22</td>\n      <td>22.000000</td>\n    </tr>\n    <tr>\n      <th>Denny Hulme</th>\n      <td>1</td>\n      <td>8</td>\n      <td>8.000000</td>\n    </tr>\n    <tr>\n      <th>Emerson Fittipaldi</th>\n      <td>2</td>\n      <td>14</td>\n      <td>2.000000</td>\n    </tr>\n    <tr>\n      <th>Fernando Alonso</th>\n      <td>2</td>\n      <td>32</td>\n      <td>16.000000</td>\n    </tr>\n    <tr>\n      <th>Graham Hill</th>\n      <td>2</td>\n      <td>14</td>\n      <td>2.000000</td>\n    </tr>\n    <tr>\n      <th>Jack Brabham</th>\n      <td>3</td>\n      <td>14</td>\n      <td>2.000000</td>\n    </tr>\n    <tr>\n      <th>Jackie Stewart</th>\n      <td>3</td>\n      <td>27</td>\n      <td>9.000000</td>\n    </tr>\n    <tr>\n      <th>Jacques Villeneuve</th>\n      <td>1</td>\n      <td>11</td>\n      <td>11.000000</td>\n    </tr>\n    <tr>\n      <th>James Hunt</th>\n      <td>1</td>\n      <td>10</td>\n      <td>5.000000</td>\n    </tr>\n    <tr>\n      <th>Jenson Button</th>\n      <td>1</td>\n      <td>15</td>\n      <td>15.000000</td>\n    </tr>\n    <tr>\n      <th>Jim Clark</th>\n      <td>2</td>\n      <td>25</td>\n      <td>5.000000</td>\n    </tr>\n    <tr>\n      <th>Jochen Rindt</th>\n      <td>1</td>\n      <td>6</td>\n      <td>3.000000</td>\n    </tr>\n    <tr>\n      <th>Jody Scheckter</th>\n      <td>1</td>\n      <td>10</td>\n      <td>5.000000</td>\n    </tr>\n    <tr>\n      <th>John Surtees</th>\n      <td>1</td>\n      <td>6</td>\n      <td>3.000000</td>\n    </tr>\n    <tr>\n      <th>Juan Manuel Fangio</th>\n      <td>5</td>\n      <td>24</td>\n      <td>4.800000</td>\n    </tr>\n    <tr>\n      <th>Keke Rosberg</th>\n      <td>1</td>\n      <td>5</td>\n      <td>2.500000</td>\n    </tr>\n    <tr>\n      <th>Kimi RÃ¤ikkÃ¶nen</th>\n      <td>1</td>\n      <td>21</td>\n      <td>21.000000</td>\n    </tr>\n    <tr>\n      <th>Lewis Hamilton</th>\n      <td>7</td>\n      <td>95</td>\n      <td>13.571429</td>\n    </tr>\n    <tr>\n      <th>Mario Andretti</th>\n      <td>1</td>\n      <td>12</td>\n      <td>6.000000</td>\n    </tr>\n    <tr>\n      <th>Michael Schumacher</th>\n      <td>7</td>\n      <td>91</td>\n      <td>13.000000</td>\n    </tr>\n    <tr>\n      <th>Mika Hakkinen</th>\n      <td>2</td>\n      <td>20</td>\n      <td>10.000000</td>\n    </tr>\n    <tr>\n      <th>Mike Hawthorn</th>\n      <td>1</td>\n      <td>3</td>\n      <td>1.500000</td>\n    </tr>\n    <tr>\n      <th>Nelson Piquet</th>\n      <td>3</td>\n      <td>23</td>\n      <td>5.750000</td>\n    </tr>\n    <tr>\n      <th>Nico Rosberg</th>\n      <td>1</td>\n      <td>23</td>\n      <td>5.750000</td>\n    </tr>\n    <tr>\n      <th>Nigel Mansell</th>\n      <td>1</td>\n      <td>31</td>\n      <td>31.000000</td>\n    </tr>\n    <tr>\n      <th>Niki Lauda</th>\n      <td>3</td>\n      <td>25</td>\n      <td>5.000000</td>\n    </tr>\n    <tr>\n      <th>Nino Farina</th>\n      <td>1</td>\n      <td>5</td>\n      <td>2.500000</td>\n    </tr>\n    <tr>\n      <th>Phil Hill</th>\n      <td>1</td>\n      <td>3</td>\n      <td>1.500000</td>\n    </tr>\n    <tr>\n      <th>Sebastian Vettel</th>\n      <td>4</td>\n      <td>53</td>\n      <td>13.250000</td>\n    </tr>\n  </tbody>\n</table>\n</div>"
     },
     "metadata": {},
     "execution_count": 13
    }
   ],
   "source": [
    "rw_wc = pd.merge(wc_num, rw_num, \"left\", on= [\"Name\"])\n",
    "rat = rw_wc.groupby(['0_y'])['0_x'].transform('sum')\n",
    "rw_wc = rw_wc.assign(ratio= lambda x: x[(\"0_y\")].div(rat))\n",
    "rw_wc = rw_wc.rename({\"WC\": '0_x', \"RW\":'0_y'})\n",
    "rw_wc"
   ]
  },
  {
   "cell_type": "code",
   "execution_count": 14,
   "metadata": {},
   "outputs": [
    {
     "output_type": "execute_result",
     "data": {
      "text/plain": [
       "0.8764652292210385"
      ]
     },
     "metadata": {},
     "execution_count": 14
    }
   ],
   "source": [
    "rw_wc['0_x'].corr(rw_wc['0_y'])"
   ]
  },
  {
   "cell_type": "code",
   "execution_count": 15,
   "metadata": {},
   "outputs": [
    {
     "output_type": "execute_result",
     "data": {
      "text/plain": [
       "31.0"
      ]
     },
     "metadata": {},
     "execution_count": 15
    }
   ],
   "source": [
    "rw_wc.ratio.max()"
   ]
  },
  {
   "cell_type": "code",
   "execution_count": 16,
   "metadata": {},
   "outputs": [
    {
     "output_type": "execute_result",
     "data": {
      "text/plain": [
       "   Mode      Mean  Min   Max\n",
       "0   5.0  8.607215  1.5  31.0"
      ],
      "text/html": "<div>\n<style scoped>\n    .dataframe tbody tr th:only-of-type {\n        vertical-align: middle;\n    }\n\n    .dataframe tbody tr th {\n        vertical-align: top;\n    }\n\n    .dataframe thead th {\n        text-align: right;\n    }\n</style>\n<table border=\"1\" class=\"dataframe\">\n  <thead>\n    <tr style=\"text-align: right;\">\n      <th></th>\n      <th>Mode</th>\n      <th>Mean</th>\n      <th>Min</th>\n      <th>Max</th>\n    </tr>\n  </thead>\n  <tbody>\n    <tr>\n      <th>0</th>\n      <td>5.0</td>\n      <td>8.607215</td>\n      <td>1.5</td>\n      <td>31.0</td>\n    </tr>\n  </tbody>\n</table>\n</div>"
     },
     "metadata": {},
     "execution_count": 16
    },
    {
     "output_type": "display_data",
     "data": {
      "text/plain": "<Figure size 432x288 with 1 Axes>",
      "image/svg+xml": "<?xml version=\"1.0\" encoding=\"utf-8\" standalone=\"no\"?>\r\n<!DOCTYPE svg PUBLIC \"-//W3C//DTD SVG 1.1//EN\"\r\n  \"http://www.w3.org/Graphics/SVG/1.1/DTD/svg11.dtd\">\r\n<!-- Created with matplotlib (https://matplotlib.org/) -->\r\n<svg height=\"245.2025pt\" version=\"1.1\" viewBox=\"0 0 368.925 245.2025\" width=\"368.925pt\" xmlns=\"http://www.w3.org/2000/svg\" xmlns:xlink=\"http://www.w3.org/1999/xlink\">\r\n <metadata>\r\n  <rdf:RDF xmlns:cc=\"http://creativecommons.org/ns#\" xmlns:dc=\"http://purl.org/dc/elements/1.1/\" xmlns:rdf=\"http://www.w3.org/1999/02/22-rdf-syntax-ns#\">\r\n   <cc:Work>\r\n    <dc:type rdf:resource=\"http://purl.org/dc/dcmitype/StillImage\"/>\r\n    <dc:date>2021-01-06T11:19:53.653923</dc:date>\r\n    <dc:format>image/svg+xml</dc:format>\r\n    <dc:creator>\r\n     <cc:Agent>\r\n      <dc:title>Matplotlib v3.3.3, https://matplotlib.org/</dc:title>\r\n     </cc:Agent>\r\n    </dc:creator>\r\n   </cc:Work>\r\n  </rdf:RDF>\r\n </metadata>\r\n <defs>\r\n  <style type=\"text/css\">*{stroke-linecap:butt;stroke-linejoin:round;}</style>\r\n </defs>\r\n <g id=\"figure_1\">\r\n  <g id=\"patch_1\">\r\n   <path d=\"M -0 245.2025 \r\nL 368.925 245.2025 \r\nL 368.925 0 \r\nL -0 0 \r\nz\r\n\" style=\"fill:none;\"/>\r\n  </g>\r\n  <g id=\"axes_1\">\r\n   <g id=\"patch_2\">\r\n    <path d=\"M 26.925 224.64 \r\nL 361.725 224.64 \r\nL 361.725 7.2 \r\nL 26.925 7.2 \r\nz\r\n\" style=\"fill:#ffffff;\"/>\r\n   </g>\r\n   <g id=\"patch_3\">\r\n    <path clip-path=\"url(#p76e1bba052)\" d=\"M 110.625 224.64 \r\nL 152.475 224.64 \r\nL 152.475 191.239078 \r\nL 110.625 191.239078 \r\nz\r\n\" style=\"fill:#1f77b4;\"/>\r\n   </g>\r\n   <g id=\"patch_4\">\r\n    <path clip-path=\"url(#p76e1bba052)\" d=\"M 152.475 224.64 \r\nL 194.325 224.64 \r\nL 194.325 167.142217 \r\nL 152.475 167.142217 \r\nz\r\n\" style=\"fill:#ff7f0e;\"/>\r\n   </g>\r\n   <g id=\"patch_5\">\r\n    <path clip-path=\"url(#p76e1bba052)\" d=\"M 194.325 224.64 \r\nL 236.175 224.64 \r\nL 236.175 214.619724 \r\nL 194.325 214.619724 \r\nz\r\n\" style=\"fill:#2ca02c;\"/>\r\n   </g>\r\n   <g id=\"patch_6\">\r\n    <path clip-path=\"url(#p76e1bba052)\" d=\"M 236.175 224.64 \r\nL 278.025 224.64 \r\nL 278.025 17.554286 \r\nL 236.175 17.554286 \r\nz\r\n\" style=\"fill:#d62728;\"/>\r\n   </g>\r\n   <g id=\"matplotlib.axis_1\">\r\n    <g id=\"xtick_1\">\r\n     <g id=\"line2d_1\">\r\n      <defs>\r\n       <path d=\"M 0 0 \r\nL 0 3.5 \r\n\" id=\"m7bdd5f1240\" style=\"stroke:#000000;stroke-width:0.8;\"/>\r\n      </defs>\r\n      <g>\r\n       <use style=\"stroke:#000000;stroke-width:0.8;\" x=\"194.325\" xlink:href=\"#m7bdd5f1240\" y=\"224.64\"/>\r\n      </g>\r\n     </g>\r\n     <g id=\"text_1\">\r\n      <!-- 0 -->\r\n      <g transform=\"translate(197.084375 238.0025)rotate(-90)scale(0.1 -0.1)\">\r\n       <defs>\r\n        <path d=\"M 31.78125 66.40625 \r\nQ 24.171875 66.40625 20.328125 58.90625 \r\nQ 16.5 51.421875 16.5 36.375 \r\nQ 16.5 21.390625 20.328125 13.890625 \r\nQ 24.171875 6.390625 31.78125 6.390625 \r\nQ 39.453125 6.390625 43.28125 13.890625 \r\nQ 47.125 21.390625 47.125 36.375 \r\nQ 47.125 51.421875 43.28125 58.90625 \r\nQ 39.453125 66.40625 31.78125 66.40625 \r\nz\r\nM 31.78125 74.21875 \r\nQ 44.046875 74.21875 50.515625 64.515625 \r\nQ 56.984375 54.828125 56.984375 36.375 \r\nQ 56.984375 17.96875 50.515625 8.265625 \r\nQ 44.046875 -1.421875 31.78125 -1.421875 \r\nQ 19.53125 -1.421875 13.0625 8.265625 \r\nQ 6.59375 17.96875 6.59375 36.375 \r\nQ 6.59375 54.828125 13.0625 64.515625 \r\nQ 19.53125 74.21875 31.78125 74.21875 \r\nz\r\n\" id=\"DejaVuSans-48\"/>\r\n       </defs>\r\n       <use xlink:href=\"#DejaVuSans-48\"/>\r\n      </g>\r\n     </g>\r\n    </g>\r\n   </g>\r\n   <g id=\"matplotlib.axis_2\">\r\n    <g id=\"ytick_1\">\r\n     <g id=\"line2d_2\">\r\n      <defs>\r\n       <path d=\"M 0 0 \r\nL -3.5 0 \r\n\" id=\"mc9f9d10162\" style=\"stroke:#000000;stroke-width:0.8;\"/>\r\n      </defs>\r\n      <g>\r\n       <use style=\"stroke:#000000;stroke-width:0.8;\" x=\"26.925\" xlink:href=\"#mc9f9d10162\" y=\"224.64\"/>\r\n      </g>\r\n     </g>\r\n     <g id=\"text_2\">\r\n      <!-- 0 -->\r\n      <g transform=\"translate(13.5625 228.439219)scale(0.1 -0.1)\">\r\n       <use xlink:href=\"#DejaVuSans-48\"/>\r\n      </g>\r\n     </g>\r\n    </g>\r\n    <g id=\"ytick_2\">\r\n     <g id=\"line2d_3\">\r\n      <g>\r\n       <use style=\"stroke:#000000;stroke-width:0.8;\" x=\"26.925\" xlink:href=\"#mc9f9d10162\" y=\"191.239078\"/>\r\n      </g>\r\n     </g>\r\n     <g id=\"text_3\">\r\n      <!-- 5 -->\r\n      <g transform=\"translate(13.5625 195.038297)scale(0.1 -0.1)\">\r\n       <defs>\r\n        <path d=\"M 10.796875 72.90625 \r\nL 49.515625 72.90625 \r\nL 49.515625 64.59375 \r\nL 19.828125 64.59375 \r\nL 19.828125 46.734375 \r\nQ 21.96875 47.46875 24.109375 47.828125 \r\nQ 26.265625 48.1875 28.421875 48.1875 \r\nQ 40.625 48.1875 47.75 41.5 \r\nQ 54.890625 34.8125 54.890625 23.390625 \r\nQ 54.890625 11.625 47.5625 5.09375 \r\nQ 40.234375 -1.421875 26.90625 -1.421875 \r\nQ 22.3125 -1.421875 17.546875 -0.640625 \r\nQ 12.796875 0.140625 7.71875 1.703125 \r\nL 7.71875 11.625 \r\nQ 12.109375 9.234375 16.796875 8.0625 \r\nQ 21.484375 6.890625 26.703125 6.890625 \r\nQ 35.15625 6.890625 40.078125 11.328125 \r\nQ 45.015625 15.765625 45.015625 23.390625 \r\nQ 45.015625 31 40.078125 35.4375 \r\nQ 35.15625 39.890625 26.703125 39.890625 \r\nQ 22.75 39.890625 18.8125 39.015625 \r\nQ 14.890625 38.140625 10.796875 36.28125 \r\nz\r\n\" id=\"DejaVuSans-53\"/>\r\n       </defs>\r\n       <use xlink:href=\"#DejaVuSans-53\"/>\r\n      </g>\r\n     </g>\r\n    </g>\r\n    <g id=\"ytick_3\">\r\n     <g id=\"line2d_4\">\r\n      <g>\r\n       <use style=\"stroke:#000000;stroke-width:0.8;\" x=\"26.925\" xlink:href=\"#mc9f9d10162\" y=\"157.838157\"/>\r\n      </g>\r\n     </g>\r\n     <g id=\"text_4\">\r\n      <!-- 10 -->\r\n      <g transform=\"translate(7.2 161.637375)scale(0.1 -0.1)\">\r\n       <defs>\r\n        <path d=\"M 12.40625 8.296875 \r\nL 28.515625 8.296875 \r\nL 28.515625 63.921875 \r\nL 10.984375 60.40625 \r\nL 10.984375 69.390625 \r\nL 28.421875 72.90625 \r\nL 38.28125 72.90625 \r\nL 38.28125 8.296875 \r\nL 54.390625 8.296875 \r\nL 54.390625 0 \r\nL 12.40625 0 \r\nz\r\n\" id=\"DejaVuSans-49\"/>\r\n       </defs>\r\n       <use xlink:href=\"#DejaVuSans-49\"/>\r\n       <use x=\"63.623047\" xlink:href=\"#DejaVuSans-48\"/>\r\n      </g>\r\n     </g>\r\n    </g>\r\n    <g id=\"ytick_4\">\r\n     <g id=\"line2d_5\">\r\n      <g>\r\n       <use style=\"stroke:#000000;stroke-width:0.8;\" x=\"26.925\" xlink:href=\"#mc9f9d10162\" y=\"124.437235\"/>\r\n      </g>\r\n     </g>\r\n     <g id=\"text_5\">\r\n      <!-- 15 -->\r\n      <g transform=\"translate(7.2 128.236454)scale(0.1 -0.1)\">\r\n       <use xlink:href=\"#DejaVuSans-49\"/>\r\n       <use x=\"63.623047\" xlink:href=\"#DejaVuSans-53\"/>\r\n      </g>\r\n     </g>\r\n    </g>\r\n    <g id=\"ytick_5\">\r\n     <g id=\"line2d_6\">\r\n      <g>\r\n       <use style=\"stroke:#000000;stroke-width:0.8;\" x=\"26.925\" xlink:href=\"#mc9f9d10162\" y=\"91.036313\"/>\r\n      </g>\r\n     </g>\r\n     <g id=\"text_6\">\r\n      <!-- 20 -->\r\n      <g transform=\"translate(7.2 94.835532)scale(0.1 -0.1)\">\r\n       <defs>\r\n        <path d=\"M 19.1875 8.296875 \r\nL 53.609375 8.296875 \r\nL 53.609375 0 \r\nL 7.328125 0 \r\nL 7.328125 8.296875 \r\nQ 12.9375 14.109375 22.625 23.890625 \r\nQ 32.328125 33.6875 34.8125 36.53125 \r\nQ 39.546875 41.84375 41.421875 45.53125 \r\nQ 43.3125 49.21875 43.3125 52.78125 \r\nQ 43.3125 58.59375 39.234375 62.25 \r\nQ 35.15625 65.921875 28.609375 65.921875 \r\nQ 23.96875 65.921875 18.8125 64.3125 \r\nQ 13.671875 62.703125 7.8125 59.421875 \r\nL 7.8125 69.390625 \r\nQ 13.765625 71.78125 18.9375 73 \r\nQ 24.125 74.21875 28.421875 74.21875 \r\nQ 39.75 74.21875 46.484375 68.546875 \r\nQ 53.21875 62.890625 53.21875 53.421875 \r\nQ 53.21875 48.921875 51.53125 44.890625 \r\nQ 49.859375 40.875 45.40625 35.40625 \r\nQ 44.1875 33.984375 37.640625 27.21875 \r\nQ 31.109375 20.453125 19.1875 8.296875 \r\nz\r\n\" id=\"DejaVuSans-50\"/>\r\n       </defs>\r\n       <use xlink:href=\"#DejaVuSans-50\"/>\r\n       <use x=\"63.623047\" xlink:href=\"#DejaVuSans-48\"/>\r\n      </g>\r\n     </g>\r\n    </g>\r\n    <g id=\"ytick_6\">\r\n     <g id=\"line2d_7\">\r\n      <g>\r\n       <use style=\"stroke:#000000;stroke-width:0.8;\" x=\"26.925\" xlink:href=\"#mc9f9d10162\" y=\"57.635392\"/>\r\n      </g>\r\n     </g>\r\n     <g id=\"text_7\">\r\n      <!-- 25 -->\r\n      <g transform=\"translate(7.2 61.43461)scale(0.1 -0.1)\">\r\n       <use xlink:href=\"#DejaVuSans-50\"/>\r\n       <use x=\"63.623047\" xlink:href=\"#DejaVuSans-53\"/>\r\n      </g>\r\n     </g>\r\n    </g>\r\n    <g id=\"ytick_7\">\r\n     <g id=\"line2d_8\">\r\n      <g>\r\n       <use style=\"stroke:#000000;stroke-width:0.8;\" x=\"26.925\" xlink:href=\"#mc9f9d10162\" y=\"24.23447\"/>\r\n      </g>\r\n     </g>\r\n     <g id=\"text_8\">\r\n      <!-- 30 -->\r\n      <g transform=\"translate(7.2 28.033689)scale(0.1 -0.1)\">\r\n       <defs>\r\n        <path d=\"M 40.578125 39.3125 \r\nQ 47.65625 37.796875 51.625 33 \r\nQ 55.609375 28.21875 55.609375 21.1875 \r\nQ 55.609375 10.40625 48.1875 4.484375 \r\nQ 40.765625 -1.421875 27.09375 -1.421875 \r\nQ 22.515625 -1.421875 17.65625 -0.515625 \r\nQ 12.796875 0.390625 7.625 2.203125 \r\nL 7.625 11.71875 \r\nQ 11.71875 9.328125 16.59375 8.109375 \r\nQ 21.484375 6.890625 26.8125 6.890625 \r\nQ 36.078125 6.890625 40.9375 10.546875 \r\nQ 45.796875 14.203125 45.796875 21.1875 \r\nQ 45.796875 27.640625 41.28125 31.265625 \r\nQ 36.765625 34.90625 28.71875 34.90625 \r\nL 20.21875 34.90625 \r\nL 20.21875 43.015625 \r\nL 29.109375 43.015625 \r\nQ 36.375 43.015625 40.234375 45.921875 \r\nQ 44.09375 48.828125 44.09375 54.296875 \r\nQ 44.09375 59.90625 40.109375 62.90625 \r\nQ 36.140625 65.921875 28.71875 65.921875 \r\nQ 24.65625 65.921875 20.015625 65.03125 \r\nQ 15.375 64.15625 9.8125 62.3125 \r\nL 9.8125 71.09375 \r\nQ 15.4375 72.65625 20.34375 73.4375 \r\nQ 25.25 74.21875 29.59375 74.21875 \r\nQ 40.828125 74.21875 47.359375 69.109375 \r\nQ 53.90625 64.015625 53.90625 55.328125 \r\nQ 53.90625 49.265625 50.4375 45.09375 \r\nQ 46.96875 40.921875 40.578125 39.3125 \r\nz\r\n\" id=\"DejaVuSans-51\"/>\r\n       </defs>\r\n       <use xlink:href=\"#DejaVuSans-51\"/>\r\n       <use x=\"63.623047\" xlink:href=\"#DejaVuSans-48\"/>\r\n      </g>\r\n     </g>\r\n    </g>\r\n   </g>\r\n   <g id=\"patch_7\">\r\n    <path d=\"M 26.925 224.64 \r\nL 26.925 7.2 \r\n\" style=\"fill:none;stroke:#000000;stroke-linecap:square;stroke-linejoin:miter;stroke-width:0.8;\"/>\r\n   </g>\r\n   <g id=\"patch_8\">\r\n    <path d=\"M 361.725 224.64 \r\nL 361.725 7.2 \r\n\" style=\"fill:none;stroke:#000000;stroke-linecap:square;stroke-linejoin:miter;stroke-width:0.8;\"/>\r\n   </g>\r\n   <g id=\"patch_9\">\r\n    <path d=\"M 26.925 224.64 \r\nL 361.725 224.64 \r\n\" style=\"fill:none;stroke:#000000;stroke-linecap:square;stroke-linejoin:miter;stroke-width:0.8;\"/>\r\n   </g>\r\n   <g id=\"patch_10\">\r\n    <path d=\"M 26.925 7.2 \r\nL 361.725 7.2 \r\n\" style=\"fill:none;stroke:#000000;stroke-linecap:square;stroke-linejoin:miter;stroke-width:0.8;\"/>\r\n   </g>\r\n   <g id=\"legend_1\">\r\n    <g id=\"patch_11\">\r\n     <path d=\"M 295.476563 73.9125 \r\nL 354.725 73.9125 \r\nQ 356.725 73.9125 356.725 71.9125 \r\nL 356.725 14.2 \r\nQ 356.725 12.2 354.725 12.2 \r\nL 295.476563 12.2 \r\nQ 293.476563 12.2 293.476563 14.2 \r\nL 293.476563 71.9125 \r\nQ 293.476563 73.9125 295.476563 73.9125 \r\nz\r\n\" style=\"fill:#ffffff;opacity:0.8;stroke:#cccccc;stroke-linejoin:miter;\"/>\r\n    </g>\r\n    <g id=\"patch_12\">\r\n     <path d=\"M 297.476563 23.798437 \r\nL 317.476563 23.798437 \r\nL 317.476563 16.798437 \r\nL 297.476563 16.798437 \r\nz\r\n\" style=\"fill:#1f77b4;\"/>\r\n    </g>\r\n    <g id=\"text_9\">\r\n     <!-- Mode -->\r\n     <g transform=\"translate(325.476563 23.798437)scale(0.1 -0.1)\">\r\n      <defs>\r\n       <path d=\"M 9.8125 72.90625 \r\nL 24.515625 72.90625 \r\nL 43.109375 23.296875 \r\nL 61.8125 72.90625 \r\nL 76.515625 72.90625 \r\nL 76.515625 0 \r\nL 66.890625 0 \r\nL 66.890625 64.015625 \r\nL 48.09375 14.015625 \r\nL 38.1875 14.015625 \r\nL 19.390625 64.015625 \r\nL 19.390625 0 \r\nL 9.8125 0 \r\nz\r\n\" id=\"DejaVuSans-77\"/>\r\n       <path d=\"M 30.609375 48.390625 \r\nQ 23.390625 48.390625 19.1875 42.75 \r\nQ 14.984375 37.109375 14.984375 27.296875 \r\nQ 14.984375 17.484375 19.15625 11.84375 \r\nQ 23.34375 6.203125 30.609375 6.203125 \r\nQ 37.796875 6.203125 41.984375 11.859375 \r\nQ 46.1875 17.53125 46.1875 27.296875 \r\nQ 46.1875 37.015625 41.984375 42.703125 \r\nQ 37.796875 48.390625 30.609375 48.390625 \r\nz\r\nM 30.609375 56 \r\nQ 42.328125 56 49.015625 48.375 \r\nQ 55.71875 40.765625 55.71875 27.296875 \r\nQ 55.71875 13.875 49.015625 6.21875 \r\nQ 42.328125 -1.421875 30.609375 -1.421875 \r\nQ 18.84375 -1.421875 12.171875 6.21875 \r\nQ 5.515625 13.875 5.515625 27.296875 \r\nQ 5.515625 40.765625 12.171875 48.375 \r\nQ 18.84375 56 30.609375 56 \r\nz\r\n\" id=\"DejaVuSans-111\"/>\r\n       <path d=\"M 45.40625 46.390625 \r\nL 45.40625 75.984375 \r\nL 54.390625 75.984375 \r\nL 54.390625 0 \r\nL 45.40625 0 \r\nL 45.40625 8.203125 \r\nQ 42.578125 3.328125 38.25 0.953125 \r\nQ 33.9375 -1.421875 27.875 -1.421875 \r\nQ 17.96875 -1.421875 11.734375 6.484375 \r\nQ 5.515625 14.40625 5.515625 27.296875 \r\nQ 5.515625 40.1875 11.734375 48.09375 \r\nQ 17.96875 56 27.875 56 \r\nQ 33.9375 56 38.25 53.625 \r\nQ 42.578125 51.265625 45.40625 46.390625 \r\nz\r\nM 14.796875 27.296875 \r\nQ 14.796875 17.390625 18.875 11.75 \r\nQ 22.953125 6.109375 30.078125 6.109375 \r\nQ 37.203125 6.109375 41.296875 11.75 \r\nQ 45.40625 17.390625 45.40625 27.296875 \r\nQ 45.40625 37.203125 41.296875 42.84375 \r\nQ 37.203125 48.484375 30.078125 48.484375 \r\nQ 22.953125 48.484375 18.875 42.84375 \r\nQ 14.796875 37.203125 14.796875 27.296875 \r\nz\r\n\" id=\"DejaVuSans-100\"/>\r\n       <path d=\"M 56.203125 29.59375 \r\nL 56.203125 25.203125 \r\nL 14.890625 25.203125 \r\nQ 15.484375 15.921875 20.484375 11.0625 \r\nQ 25.484375 6.203125 34.421875 6.203125 \r\nQ 39.59375 6.203125 44.453125 7.46875 \r\nQ 49.3125 8.734375 54.109375 11.28125 \r\nL 54.109375 2.78125 \r\nQ 49.265625 0.734375 44.1875 -0.34375 \r\nQ 39.109375 -1.421875 33.890625 -1.421875 \r\nQ 20.796875 -1.421875 13.15625 6.1875 \r\nQ 5.515625 13.8125 5.515625 26.8125 \r\nQ 5.515625 40.234375 12.765625 48.109375 \r\nQ 20.015625 56 32.328125 56 \r\nQ 43.359375 56 49.78125 48.890625 \r\nQ 56.203125 41.796875 56.203125 29.59375 \r\nz\r\nM 47.21875 32.234375 \r\nQ 47.125 39.59375 43.09375 43.984375 \r\nQ 39.0625 48.390625 32.421875 48.390625 \r\nQ 24.90625 48.390625 20.390625 44.140625 \r\nQ 15.875 39.890625 15.1875 32.171875 \r\nz\r\n\" id=\"DejaVuSans-101\"/>\r\n      </defs>\r\n      <use xlink:href=\"#DejaVuSans-77\"/>\r\n      <use x=\"86.279297\" xlink:href=\"#DejaVuSans-111\"/>\r\n      <use x=\"147.460938\" xlink:href=\"#DejaVuSans-100\"/>\r\n      <use x=\"210.9375\" xlink:href=\"#DejaVuSans-101\"/>\r\n     </g>\r\n    </g>\r\n    <g id=\"patch_13\">\r\n     <path d=\"M 297.476563 38.476562 \r\nL 317.476563 38.476562 \r\nL 317.476563 31.476562 \r\nL 297.476563 31.476562 \r\nz\r\n\" style=\"fill:#ff7f0e;\"/>\r\n    </g>\r\n    <g id=\"text_10\">\r\n     <!-- Mean -->\r\n     <g transform=\"translate(325.476563 38.476562)scale(0.1 -0.1)\">\r\n      <defs>\r\n       <path d=\"M 34.28125 27.484375 \r\nQ 23.390625 27.484375 19.1875 25 \r\nQ 14.984375 22.515625 14.984375 16.5 \r\nQ 14.984375 11.71875 18.140625 8.90625 \r\nQ 21.296875 6.109375 26.703125 6.109375 \r\nQ 34.1875 6.109375 38.703125 11.40625 \r\nQ 43.21875 16.703125 43.21875 25.484375 \r\nL 43.21875 27.484375 \r\nz\r\nM 52.203125 31.203125 \r\nL 52.203125 0 \r\nL 43.21875 0 \r\nL 43.21875 8.296875 \r\nQ 40.140625 3.328125 35.546875 0.953125 \r\nQ 30.953125 -1.421875 24.3125 -1.421875 \r\nQ 15.921875 -1.421875 10.953125 3.296875 \r\nQ 6 8.015625 6 15.921875 \r\nQ 6 25.140625 12.171875 29.828125 \r\nQ 18.359375 34.515625 30.609375 34.515625 \r\nL 43.21875 34.515625 \r\nL 43.21875 35.40625 \r\nQ 43.21875 41.609375 39.140625 45 \r\nQ 35.0625 48.390625 27.6875 48.390625 \r\nQ 23 48.390625 18.546875 47.265625 \r\nQ 14.109375 46.140625 10.015625 43.890625 \r\nL 10.015625 52.203125 \r\nQ 14.9375 54.109375 19.578125 55.046875 \r\nQ 24.21875 56 28.609375 56 \r\nQ 40.484375 56 46.34375 49.84375 \r\nQ 52.203125 43.703125 52.203125 31.203125 \r\nz\r\n\" id=\"DejaVuSans-97\"/>\r\n       <path d=\"M 54.890625 33.015625 \r\nL 54.890625 0 \r\nL 45.90625 0 \r\nL 45.90625 32.71875 \r\nQ 45.90625 40.484375 42.875 44.328125 \r\nQ 39.84375 48.1875 33.796875 48.1875 \r\nQ 26.515625 48.1875 22.3125 43.546875 \r\nQ 18.109375 38.921875 18.109375 30.90625 \r\nL 18.109375 0 \r\nL 9.078125 0 \r\nL 9.078125 54.6875 \r\nL 18.109375 54.6875 \r\nL 18.109375 46.1875 \r\nQ 21.34375 51.125 25.703125 53.5625 \r\nQ 30.078125 56 35.796875 56 \r\nQ 45.21875 56 50.046875 50.171875 \r\nQ 54.890625 44.34375 54.890625 33.015625 \r\nz\r\n\" id=\"DejaVuSans-110\"/>\r\n      </defs>\r\n      <use xlink:href=\"#DejaVuSans-77\"/>\r\n      <use x=\"86.279297\" xlink:href=\"#DejaVuSans-101\"/>\r\n      <use x=\"147.802734\" xlink:href=\"#DejaVuSans-97\"/>\r\n      <use x=\"209.082031\" xlink:href=\"#DejaVuSans-110\"/>\r\n     </g>\r\n    </g>\r\n    <g id=\"patch_14\">\r\n     <path d=\"M 297.476563 53.154687 \r\nL 317.476563 53.154687 \r\nL 317.476563 46.154687 \r\nL 297.476563 46.154687 \r\nz\r\n\" style=\"fill:#2ca02c;\"/>\r\n    </g>\r\n    <g id=\"text_11\">\r\n     <!-- Min -->\r\n     <g transform=\"translate(325.476563 53.154687)scale(0.1 -0.1)\">\r\n      <defs>\r\n       <path d=\"M 9.421875 54.6875 \r\nL 18.40625 54.6875 \r\nL 18.40625 0 \r\nL 9.421875 0 \r\nz\r\nM 9.421875 75.984375 \r\nL 18.40625 75.984375 \r\nL 18.40625 64.59375 \r\nL 9.421875 64.59375 \r\nz\r\n\" id=\"DejaVuSans-105\"/>\r\n      </defs>\r\n      <use xlink:href=\"#DejaVuSans-77\"/>\r\n      <use x=\"86.279297\" xlink:href=\"#DejaVuSans-105\"/>\r\n      <use x=\"114.0625\" xlink:href=\"#DejaVuSans-110\"/>\r\n     </g>\r\n    </g>\r\n    <g id=\"patch_15\">\r\n     <path d=\"M 297.476563 67.832812 \r\nL 317.476563 67.832812 \r\nL 317.476563 60.832812 \r\nL 297.476563 60.832812 \r\nz\r\n\" style=\"fill:#d62728;\"/>\r\n    </g>\r\n    <g id=\"text_12\">\r\n     <!-- Max -->\r\n     <g transform=\"translate(325.476563 67.832812)scale(0.1 -0.1)\">\r\n      <defs>\r\n       <path d=\"M 54.890625 54.6875 \r\nL 35.109375 28.078125 \r\nL 55.90625 0 \r\nL 45.3125 0 \r\nL 29.390625 21.484375 \r\nL 13.484375 0 \r\nL 2.875 0 \r\nL 24.125 28.609375 \r\nL 4.6875 54.6875 \r\nL 15.28125 54.6875 \r\nL 29.78125 35.203125 \r\nL 44.28125 54.6875 \r\nz\r\n\" id=\"DejaVuSans-120\"/>\r\n      </defs>\r\n      <use xlink:href=\"#DejaVuSans-77\"/>\r\n      <use x=\"86.279297\" xlink:href=\"#DejaVuSans-97\"/>\r\n      <use x=\"147.558594\" xlink:href=\"#DejaVuSans-120\"/>\r\n     </g>\r\n    </g>\r\n   </g>\r\n  </g>\r\n </g>\r\n <defs>\r\n  <clipPath id=\"p76e1bba052\">\r\n   <rect height=\"217.44\" width=\"334.8\" x=\"26.925\" y=\"7.2\"/>\r\n  </clipPath>\r\n </defs>\r\n</svg>\r\n",
      "image/png": "[encoded data removed]"
     },
     "metadata": {
      "needs_background": "light"
     }
    }
   ],
   "source": [
    "rw_graph = pd.DataFrame()\n",
    "\n",
    "rw_graph[\"Mode\"]= rw_wc.ratio.mode()\n",
    "rw_graph[\"Mean\"]= rw_wc.ratio.mean()\n",
    "rw_graph[\"Min\"]= rw_wc.ratio.min()\n",
    "rw_graph[\"Max\"]= rw_wc.ratio.max()\n",
    "axes = rw_graph.plot.bar()\n",
    "rw_graph"
   ]
  },
  {
   "cell_type": "code",
   "execution_count": 69,
   "metadata": {},
   "outputs": [
    {
     "output_type": "execute_result",
     "data": {
      "text/plain": [
       "                 Venue                Name\n",
       "0        Great Britain         Nino Farina\n",
       "1               Monaco  Juan Manuel Fangio\n",
       "2     Indianapolis 500     Johnnie Parsons\n",
       "3          Switzerland         Nino Farina\n",
       "4              Belgium  Juan Manuel Fangio\n",
       "...                ...                 ...\n",
       "1033    Emilia Romagna      Lewis Hamilton\n",
       "1034            Turkey      Lewis Hamilton\n",
       "1035           Bahrain      Lewis Hamilton\n",
       "1036            Sakhir        Sergio Perez\n",
       "1037         Abu Dhabi      Max Verstappen\n",
       "\n",
       "[1038 rows x 2 columns]"
      ],
      "text/html": "<div>\n<style scoped>\n    .dataframe tbody tr th:only-of-type {\n        vertical-align: middle;\n    }\n\n    .dataframe tbody tr th {\n        vertical-align: top;\n    }\n\n    .dataframe thead th {\n        text-align: right;\n    }\n</style>\n<table border=\"1\" class=\"dataframe\">\n  <thead>\n    <tr style=\"text-align: right;\">\n      <th></th>\n      <th>Venue</th>\n      <th>Name</th>\n    </tr>\n  </thead>\n  <tbody>\n    <tr>\n      <th>0</th>\n      <td>Great Britain</td>\n      <td>Nino Farina</td>\n    </tr>\n    <tr>\n      <th>1</th>\n      <td>Monaco</td>\n      <td>Juan Manuel Fangio</td>\n    </tr>\n    <tr>\n      <th>2</th>\n      <td>Indianapolis 500</td>\n      <td>Johnnie Parsons</td>\n    </tr>\n    <tr>\n      <th>3</th>\n      <td>Switzerland</td>\n      <td>Nino Farina</td>\n    </tr>\n    <tr>\n      <th>4</th>\n      <td>Belgium</td>\n      <td>Juan Manuel Fangio</td>\n    </tr>\n    <tr>\n      <th>...</th>\n      <td>...</td>\n      <td>...</td>\n    </tr>\n    <tr>\n      <th>1033</th>\n      <td>Emilia Romagna</td>\n      <td>Lewis Hamilton</td>\n    </tr>\n    <tr>\n      <th>1034</th>\n      <td>Turkey</td>\n      <td>Lewis Hamilton</td>\n    </tr>\n    <tr>\n      <th>1035</th>\n      <td>Bahrain</td>\n      <td>Lewis Hamilton</td>\n    </tr>\n    <tr>\n      <th>1036</th>\n      <td>Sakhir</td>\n      <td>Sergio Perez</td>\n    </tr>\n    <tr>\n      <th>1037</th>\n      <td>Abu Dhabi</td>\n      <td>Max Verstappen</td>\n    </tr>\n  </tbody>\n</table>\n<p>1038 rows × 2 columns</p>\n</div>"
     },
     "metadata": {},
     "execution_count": 69
    }
   ],
   "source": [
    "wn_venue = winners.drop(winners.columns.difference([\"Venue\",'Name' ]), 1)\n",
    "wn_venue "
   ]
  },
  {
   "cell_type": "code",
   "execution_count": 67,
   "metadata": {},
   "outputs": [
    {
     "output_type": "execute_result",
     "data": {
      "text/plain": [
       "['Great Britain',\n",
       " 'Belgium',\n",
       " 'Italy',\n",
       " 'France',\n",
       " 'Monaco',\n",
       " 'Germany',\n",
       " 'Spain',\n",
       " 'Canada',\n",
       " 'Brazil',\n",
       " 'Hungary']"
      ]
     },
     "metadata": {},
     "execution_count": 67
    }
   ],
   "source": [
    "rw_wc_venue = pd.merge(wc_num, wn_venue, \"left\", on= [\"Name\"])\n",
    "n = 10\n",
    "rw_wc_venue.Venue.value_counts()[:n].index.tolist()"
   ]
  },
  {
   "cell_type": "code",
   "execution_count": 68,
   "metadata": {},
   "outputs": [
    {
     "output_type": "execute_result",
     "data": {
      "text/plain": [
       "array(['France', 'Netherlands', 'Italy', 'South Africa', 'Brazil',\n",
       "       'Belgium', 'Great Britain', 'Austria', 'San Marino', 'Monaco',\n",
       "       'Germany', 'Europe', 'Portugal', 'Australia', 'Mexico', 'Spain',\n",
       "       'United States', 'Canada', 'Argentina', 'USA East', 'USA West',\n",
       "       'Las Vegas', 'Switzerland', 'Detroit', 'Hungary', 'Japan',\n",
       "       'Sweden', 'Malaysia', 'Bahrain', 'China', 'Singapore',\n",
       "       'South Korea', 'Luxembourg', 'Turkey', 'Dallas', 'Abu Dhabi',\n",
       "       'Russia', 'Azerbaijan', 'Styria', 'Tuscany', 'Eifel',\n",
       "       'Emilia Romagna', 'Pacific', 'India'], dtype=object)"
      ]
     },
     "metadata": {},
     "execution_count": 68
    }
   ],
   "source": [
    "rw_wc_venue.Venue.unique()"
   ]
  },
  {
   "cell_type": "code",
   "execution_count": 94,
   "metadata": {},
   "outputs": [
    {
     "output_type": "execute_result",
     "data": {
      "text/plain": [
       "             Venue  Number\n",
       "0        Abu Dhabi      10\n",
       "1        Argentina      17\n",
       "2        Australia      27\n",
       "3          Austria      16\n",
       "4       Azerbaijan       1\n",
       "5          Bahrain      14\n",
       "6          Belgium      51\n",
       "7           Brazil      32\n",
       "8           Canada      37\n",
       "9            China      14\n",
       "10          Dallas       1\n",
       "11         Detroit       5\n",
       "12           Eifel       1\n",
       "13  Emilia Romagna       1\n",
       "14          Europe      18\n",
       "15          France      46\n",
       "16         Germany      45\n",
       "17   Great Britain      53\n",
       "18         Hungary      30\n",
       "19           India       3\n",
       "20           Italy      48\n",
       "21           Japan      29\n",
       "22       Las Vegas       1\n",
       "23      Luxembourg       2\n",
       "24        Malaysia      14\n",
       "25          Mexico      13\n",
       "26          Monaco      46\n",
       "27     Netherlands      24\n",
       "28         Pacific       2\n",
       "29        Portugal      12\n",
       "30          Russia       5\n",
       "31      San Marino      19\n",
       "32       Singapore      12\n",
       "33    South Africa      17\n",
       "34     South Korea       4\n",
       "35           Spain      43\n",
       "36          Styria       1\n",
       "37          Sweden       5\n",
       "38     Switzerland       5\n",
       "39          Turkey       5\n",
       "40         Tuscany       1\n",
       "41        USA East       3\n",
       "42        USA West       4\n",
       "43   United States      28"
      ],
      "text/html": "<div>\n<style scoped>\n    .dataframe tbody tr th:only-of-type {\n        vertical-align: middle;\n    }\n\n    .dataframe tbody tr th {\n        vertical-align: top;\n    }\n\n    .dataframe thead th {\n        text-align: right;\n    }\n</style>\n<table border=\"1\" class=\"dataframe\">\n  <thead>\n    <tr style=\"text-align: right;\">\n      <th></th>\n      <th>Venue</th>\n      <th>Number</th>\n    </tr>\n  </thead>\n  <tbody>\n    <tr>\n      <th>0</th>\n      <td>Abu Dhabi</td>\n      <td>10</td>\n    </tr>\n    <tr>\n      <th>1</th>\n      <td>Argentina</td>\n      <td>17</td>\n    </tr>\n    <tr>\n      <th>2</th>\n      <td>Australia</td>\n      <td>27</td>\n    </tr>\n    <tr>\n      <th>3</th>\n      <td>Austria</td>\n      <td>16</td>\n    </tr>\n    <tr>\n      <th>4</th>\n      <td>Azerbaijan</td>\n      <td>1</td>\n    </tr>\n    <tr>\n      <th>5</th>\n      <td>Bahrain</td>\n      <td>14</td>\n    </tr>\n    <tr>\n      <th>6</th>\n      <td>Belgium</td>\n      <td>51</td>\n    </tr>\n    <tr>\n      <th>7</th>\n      <td>Brazil</td>\n      <td>32</td>\n    </tr>\n    <tr>\n      <th>8</th>\n      <td>Canada</td>\n      <td>37</td>\n    </tr>\n    <tr>\n      <th>9</th>\n      <td>China</td>\n      <td>14</td>\n    </tr>\n    <tr>\n      <th>10</th>\n      <td>Dallas</td>\n      <td>1</td>\n    </tr>\n    <tr>\n      <th>11</th>\n      <td>Detroit</td>\n      <td>5</td>\n    </tr>\n    <tr>\n      <th>12</th>\n      <td>Eifel</td>\n      <td>1</td>\n    </tr>\n    <tr>\n      <th>13</th>\n      <td>Emilia Romagna</td>\n      <td>1</td>\n    </tr>\n    <tr>\n      <th>14</th>\n      <td>Europe</td>\n      <td>18</td>\n    </tr>\n    <tr>\n      <th>15</th>\n      <td>France</td>\n      <td>46</td>\n    </tr>\n    <tr>\n      <th>16</th>\n      <td>Germany</td>\n      <td>45</td>\n    </tr>\n    <tr>\n      <th>17</th>\n      <td>Great Britain</td>\n      <td>53</td>\n    </tr>\n    <tr>\n      <th>18</th>\n      <td>Hungary</td>\n      <td>30</td>\n    </tr>\n    <tr>\n      <th>19</th>\n      <td>India</td>\n      <td>3</td>\n    </tr>\n    <tr>\n      <th>20</th>\n      <td>Italy</td>\n      <td>48</td>\n    </tr>\n    <tr>\n      <th>21</th>\n      <td>Japan</td>\n      <td>29</td>\n    </tr>\n    <tr>\n      <th>22</th>\n      <td>Las Vegas</td>\n      <td>1</td>\n    </tr>\n    <tr>\n      <th>23</th>\n      <td>Luxembourg</td>\n      <td>2</td>\n    </tr>\n    <tr>\n      <th>24</th>\n      <td>Malaysia</td>\n      <td>14</td>\n    </tr>\n    <tr>\n      <th>25</th>\n      <td>Mexico</td>\n      <td>13</td>\n    </tr>\n    <tr>\n      <th>26</th>\n      <td>Monaco</td>\n      <td>46</td>\n    </tr>\n    <tr>\n      <th>27</th>\n      <td>Netherlands</td>\n      <td>24</td>\n    </tr>\n    <tr>\n      <th>28</th>\n      <td>Pacific</td>\n      <td>2</td>\n    </tr>\n    <tr>\n      <th>29</th>\n      <td>Portugal</td>\n      <td>12</td>\n    </tr>\n    <tr>\n      <th>30</th>\n      <td>Russia</td>\n      <td>5</td>\n    </tr>\n    <tr>\n      <th>31</th>\n      <td>San Marino</td>\n      <td>19</td>\n    </tr>\n    <tr>\n      <th>32</th>\n      <td>Singapore</td>\n      <td>12</td>\n    </tr>\n    <tr>\n      <th>33</th>\n      <td>South Africa</td>\n      <td>17</td>\n    </tr>\n    <tr>\n      <th>34</th>\n      <td>South Korea</td>\n      <td>4</td>\n    </tr>\n    <tr>\n      <th>35</th>\n      <td>Spain</td>\n      <td>43</td>\n    </tr>\n    <tr>\n      <th>36</th>\n      <td>Styria</td>\n      <td>1</td>\n    </tr>\n    <tr>\n      <th>37</th>\n      <td>Sweden</td>\n      <td>5</td>\n    </tr>\n    <tr>\n      <th>38</th>\n      <td>Switzerland</td>\n      <td>5</td>\n    </tr>\n    <tr>\n      <th>39</th>\n      <td>Turkey</td>\n      <td>5</td>\n    </tr>\n    <tr>\n      <th>40</th>\n      <td>Tuscany</td>\n      <td>1</td>\n    </tr>\n    <tr>\n      <th>41</th>\n      <td>USA East</td>\n      <td>3</td>\n    </tr>\n    <tr>\n      <th>42</th>\n      <td>USA West</td>\n      <td>4</td>\n    </tr>\n    <tr>\n      <th>43</th>\n      <td>United States</td>\n      <td>28</td>\n    </tr>\n  </tbody>\n</table>\n</div>"
     },
     "metadata": {},
     "execution_count": 94
    }
   ],
   "source": [
    "rw_wc_venue_pv = rw_wc_venue.pivot_table(index=[\"Venue\"], aggfunc= \"size\")\n",
    "rw_wc_venue_df = pd.DataFrame(rw_wc_venue_pv)\n",
    "rw_wc_venue_df = rw_wc_venue_df.reset_index()\n",
    "rw_wc_venue_df.columns=[\"Venue\", \"Number\"]\n",
    "rw_wc_venue_df"
   ]
  },
  {
   "cell_type": "code",
   "execution_count": 97,
   "metadata": {},
   "outputs": [
    {
     "output_type": "display_data",
     "data": {
      "application/vnd.plotly.v1+json": {
       "config": {
        "plotlyServerURL": "https://plot.ly"
       },
       "data": [
        {
         "mode": "markers",
         "type": "scatter",
         "x": [
          "Abu Dhabi",
          "Argentina",
          "Australia",
          "Austria",
          "Azerbaijan",
          "Bahrain",
          "Belgium",
          "Brazil",
          "Canada",
          "China",
          "Dallas",
          "Detroit",
          "Eifel",
          "Emilia Romagna",
          "Europe",
          "France",
          "Germany",
          "Great Britain",
          "Hungary",
          "India",
          "Italy",
          "Japan",
          "Las Vegas",
          "Luxembourg",
          "Malaysia",
          "Mexico",
          "Monaco",
          "Netherlands",
          "Pacific",
          "Portugal",
          "Russia",
          "San Marino",
          "Singapore",
          "South Africa",
          "South Korea",
          "Spain",
          "Styria",
          "Sweden",
          "Switzerland",
          "Turkey",
          "Tuscany",
          "USA East",
          "USA West",
          "United States"
         ],
         "y": [
          10,
          17,
          27,
          16,
          1,
          14,
          51,
          32,
          37,
          14,
          1,
          5,
          1,
          1,
          18,
          46,
          45,
          53,
          30,
          3,
          48,
          29,
          1,
          2,
          14,
          13,
          46,
          24,
          2,
          12,
          5,
          19,
          12,
          17,
          4,
          43,
          1,
          5,
          5,
          5,
          1,
          3,
          4,
          28
         ]
        }
       ],
       "layout": {
        "template": {
         "data": {
          "bar": [
           {
            "error_x": {
             "color": "#2a3f5f"
            },
            "error_y": {
             "color": "#2a3f5f"
            },
            "marker": {
             "line": {
              "color": "#E5ECF6",
              "width": 0.5
             }
            },
            "type": "bar"
           }
          ],
          "barpolar": [
           {
            "marker": {
             "line": {
              "color": "#E5ECF6",
              "width": 0.5
             }
            },
            "type": "barpolar"
           }
          ],
          "carpet": [
           {
            "aaxis": {
             "endlinecolor": "#2a3f5f",
             "gridcolor": "white",
             "linecolor": "white",
             "minorgridcolor": "white",
             "startlinecolor": "#2a3f5f"
            },
            "baxis": {
             "endlinecolor": "#2a3f5f",
             "gridcolor": "white",
             "linecolor": "white",
             "minorgridcolor": "white",
             "startlinecolor": "#2a3f5f"
            },
            "type": "carpet"
           }
          ],
          "choropleth": [
           {
            "colorbar": {
             "outlinewidth": 0,
             "ticks": ""
            },
            "type": "choropleth"
           }
          ],
          "contour": [
           {
            "colorbar": {
             "outlinewidth": 0,
             "ticks": ""
            },
            "colorscale": [
             [
              0,
              "#0d0887"
             ],
             [
              0.1111111111111111,
              "#46039f"
             ],
             [
              0.2222222222222222,
              "#7201a8"
             ],
             [
              0.3333333333333333,
              "#9c179e"
             ],
             [
              0.4444444444444444,
              "#bd3786"
             ],
             [
              0.5555555555555556,
              "#d8576b"
             ],
             [
              0.6666666666666666,
              "#ed7953"
             ],
             [
              0.7777777777777778,
              "#fb9f3a"
             ],
             [
              0.8888888888888888,
              "#fdca26"
             ],
             [
              1,
              "#f0f921"
             ]
            ],
            "type": "contour"
           }
          ],
          "contourcarpet": [
           {
            "colorbar": {
             "outlinewidth": 0,
             "ticks": ""
            },
            "type": "contourcarpet"
           }
          ],
          "heatmap": [
           {
            "colorbar": {
             "outlinewidth": 0,
             "ticks": ""
            },
            "colorscale": [
             [
              0,
              "#0d0887"
             ],
             [
              0.1111111111111111,
              "#46039f"
             ],
             [
              0.2222222222222222,
              "#7201a8"
             ],
             [
              0.3333333333333333,
              "#9c179e"
             ],
             [
              0.4444444444444444,
              "#bd3786"
             ],
             [
              0.5555555555555556,
              "#d8576b"
             ],
             [
              0.6666666666666666,
              "#ed7953"
             ],
             [
              0.7777777777777778,
              "#fb9f3a"
             ],
             [
              0.8888888888888888,
              "#fdca26"
             ],
             [
              1,
              "#f0f921"
             ]
            ],
            "type": "heatmap"
           }
          ],
          "heatmapgl": [
           {
            "colorbar": {
             "outlinewidth": 0,
             "ticks": ""
            },
            "colorscale": [
             [
              0,
              "#0d0887"
             ],
             [
              0.1111111111111111,
              "#46039f"
             ],
             [
              0.2222222222222222,
              "#7201a8"
             ],
             [
              0.3333333333333333,
              "#9c179e"
             ],
             [
              0.4444444444444444,
              "#bd3786"
             ],
             [
              0.5555555555555556,
              "#d8576b"
             ],
             [
              0.6666666666666666,
              "#ed7953"
             ],
             [
              0.7777777777777778,
              "#fb9f3a"
             ],
             [
              0.8888888888888888,
              "#fdca26"
             ],
             [
              1,
              "#f0f921"
             ]
            ],
            "type": "heatmapgl"
           }
          ],
          "histogram": [
           {
            "marker": {
             "colorbar": {
              "outlinewidth": 0,
              "ticks": ""
             }
            },
            "type": "histogram"
           }
          ],
          "histogram2d": [
           {
            "colorbar": {
             "outlinewidth": 0,
             "ticks": ""
            },
            "colorscale": [
             [
              0,
              "#0d0887"
             ],
             [
              0.1111111111111111,
              "#46039f"
             ],
             [
              0.2222222222222222,
              "#7201a8"
             ],
             [
              0.3333333333333333,
              "#9c179e"
             ],
             [
              0.4444444444444444,
              "#bd3786"
             ],
             [
              0.5555555555555556,
              "#d8576b"
             ],
             [
              0.6666666666666666,
              "#ed7953"
             ],
             [
              0.7777777777777778,
              "#fb9f3a"
             ],
             [
              0.8888888888888888,
              "#fdca26"
             ],
             [
              1,
              "#f0f921"
             ]
            ],
            "type": "histogram2d"
           }
          ],
          "histogram2dcontour": [
           {
            "colorbar": {
             "outlinewidth": 0,
             "ticks": ""
            },
            "colorscale": [
             [
              0,
              "#0d0887"
             ],
             [
              0.1111111111111111,
              "#46039f"
             ],
             [
              0.2222222222222222,
              "#7201a8"
             ],
             [
              0.3333333333333333,
              "#9c179e"
             ],
             [
              0.4444444444444444,
              "#bd3786"
             ],
             [
              0.5555555555555556,
              "#d8576b"
             ],
             [
              0.6666666666666666,
              "#ed7953"
             ],
             [
              0.7777777777777778,
              "#fb9f3a"
             ],
             [
              0.8888888888888888,
              "#fdca26"
             ],
             [
              1,
              "#f0f921"
             ]
            ],
            "type": "histogram2dcontour"
           }
          ],
          "mesh3d": [
           {
            "colorbar": {
             "outlinewidth": 0,
             "ticks": ""
            },
            "type": "mesh3d"
           }
          ],
          "parcoords": [
           {
            "line": {
             "colorbar": {
              "outlinewidth": 0,
              "ticks": ""
             }
            },
            "type": "parcoords"
           }
          ],
          "pie": [
           {
            "automargin": true,
            "type": "pie"
           }
          ],
          "scatter": [
           {
            "marker": {
             "colorbar": {
              "outlinewidth": 0,
              "ticks": ""
             }
            },
            "type": "scatter"
           }
          ],
          "scatter3d": [
           {
            "line": {
             "colorbar": {
              "outlinewidth": 0,
              "ticks": ""
             }
            },
            "marker": {
             "colorbar": {
              "outlinewidth": 0,
              "ticks": ""
             }
            },
            "type": "scatter3d"
           }
          ],
          "scattercarpet": [
           {
            "marker": {
             "colorbar": {
              "outlinewidth": 0,
              "ticks": ""
             }
            },
            "type": "scattercarpet"
           }
          ],
          "scattergeo": [
           {
            "marker": {
             "colorbar": {
              "outlinewidth": 0,
              "ticks": ""
             }
            },
            "type": "scattergeo"
           }
          ],
          "scattergl": [
           {
            "marker": {
             "colorbar": {
              "outlinewidth": 0,
              "ticks": ""
             }
            },
            "type": "scattergl"
           }
          ],
          "scattermapbox": [
           {
            "marker": {
             "colorbar": {
              "outlinewidth": 0,
              "ticks": ""
             }
            },
            "type": "scattermapbox"
           }
          ],
          "scatterpolar": [
           {
            "marker": {
             "colorbar": {
              "outlinewidth": 0,
              "ticks": ""
             }
            },
            "type": "scatterpolar"
           }
          ],
          "scatterpolargl": [
           {
            "marker": {
             "colorbar": {
              "outlinewidth": 0,
              "ticks": ""
             }
            },
            "type": "scatterpolargl"
           }
          ],
          "scatterternary": [
           {
            "marker": {
             "colorbar": {
              "outlinewidth": 0,
              "ticks": ""
             }
            },
            "type": "scatterternary"
           }
          ],
          "surface": [
           {
            "colorbar": {
             "outlinewidth": 0,
             "ticks": ""
            },
            "colorscale": [
             [
              0,
              "#0d0887"
             ],
             [
              0.1111111111111111,
              "#46039f"
             ],
             [
              0.2222222222222222,
              "#7201a8"
             ],
             [
              0.3333333333333333,
              "#9c179e"
             ],
             [
              0.4444444444444444,
              "#bd3786"
             ],
             [
              0.5555555555555556,
              "#d8576b"
             ],
             [
              0.6666666666666666,
              "#ed7953"
             ],
             [
              0.7777777777777778,
              "#fb9f3a"
             ],
             [
              0.8888888888888888,
              "#fdca26"
             ],
             [
              1,
              "#f0f921"
             ]
            ],
            "type": "surface"
           }
          ],
          "table": [
           {
            "cells": {
             "fill": {
              "color": "#EBF0F8"
             },
             "line": {
              "color": "white"
             }
            },
            "header": {
             "fill": {
              "color": "#C8D4E3"
             },
             "line": {
              "color": "white"
             }
            },
            "type": "table"
           }
          ]
         },
         "layout": {
          "annotationdefaults": {
           "arrowcolor": "#2a3f5f",
           "arrowhead": 0,
           "arrowwidth": 1
          },
          "autotypenumbers": "strict",
          "coloraxis": {
           "colorbar": {
            "outlinewidth": 0,
            "ticks": ""
           }
          },
          "colorscale": {
           "diverging": [
            [
             0,
             "#8e0152"
            ],
            [
             0.1,
             "#c51b7d"
            ],
            [
             0.2,
             "#de77ae"
            ],
            [
             0.3,
             "#f1b6da"
            ],
            [
             0.4,
             "#fde0ef"
            ],
            [
             0.5,
             "#f7f7f7"
            ],
            [
             0.6,
             "#e6f5d0"
            ],
            [
             0.7,
             "#b8e186"
            ],
            [
             0.8,
             "#7fbc41"
            ],
            [
             0.9,
             "#4d9221"
            ],
            [
             1,
             "#276419"
            ]
           ],
           "sequential": [
            [
             0,
             "#0d0887"
            ],
            [
             0.1111111111111111,
             "#46039f"
            ],
            [
             0.2222222222222222,
             "#7201a8"
            ],
            [
             0.3333333333333333,
             "#9c179e"
            ],
            [
             0.4444444444444444,
             "#bd3786"
            ],
            [
             0.5555555555555556,
             "#d8576b"
            ],
            [
             0.6666666666666666,
             "#ed7953"
            ],
            [
             0.7777777777777778,
             "#fb9f3a"
            ],
            [
             0.8888888888888888,
             "#fdca26"
            ],
            [
             1,
             "#f0f921"
            ]
           ],
           "sequentialminus": [
            [
             0,
             "#0d0887"
            ],
            [
             0.1111111111111111,
             "#46039f"
            ],
            [
             0.2222222222222222,
             "#7201a8"
            ],
            [
             0.3333333333333333,
             "#9c179e"
            ],
            [
             0.4444444444444444,
             "#bd3786"
            ],
            [
             0.5555555555555556,
             "#d8576b"
            ],
            [
             0.6666666666666666,
             "#ed7953"
            ],
            [
             0.7777777777777778,
             "#fb9f3a"
            ],
            [
             0.8888888888888888,
             "#fdca26"
            ],
            [
             1,
             "#f0f921"
            ]
           ]
          },
          "colorway": [
           "#636efa",
           "#EF553B",
           "#00cc96",
           "#ab63fa",
           "#FFA15A",
           "#19d3f3",
           "#FF6692",
           "#B6E880",
           "#FF97FF",
           "#FECB52"
          ],
          "font": {
           "color": "#2a3f5f"
          },
          "geo": {
           "bgcolor": "white",
           "lakecolor": "white",
           "landcolor": "#E5ECF6",
           "showlakes": true,
           "showland": true,
           "subunitcolor": "white"
          },
          "hoverlabel": {
           "align": "left"
          },
          "hovermode": "closest",
          "mapbox": {
           "style": "light"
          },
          "paper_bgcolor": "white",
          "plot_bgcolor": "#E5ECF6",
          "polar": {
           "angularaxis": {
            "gridcolor": "white",
            "linecolor": "white",
            "ticks": ""
           },
           "bgcolor": "#E5ECF6",
           "radialaxis": {
            "gridcolor": "white",
            "linecolor": "white",
            "ticks": ""
           }
          },
          "scene": {
           "xaxis": {
            "backgroundcolor": "#E5ECF6",
            "gridcolor": "white",
            "gridwidth": 2,
            "linecolor": "white",
            "showbackground": true,
            "ticks": "",
            "zerolinecolor": "white"
           },
           "yaxis": {
            "backgroundcolor": "#E5ECF6",
            "gridcolor": "white",
            "gridwidth": 2,
            "linecolor": "white",
            "showbackground": true,
            "ticks": "",
            "zerolinecolor": "white"
           },
           "zaxis": {
            "backgroundcolor": "#E5ECF6",
            "gridcolor": "white",
            "gridwidth": 2,
            "linecolor": "white",
            "showbackground": true,
            "ticks": "",
            "zerolinecolor": "white"
           }
          },
          "shapedefaults": {
           "line": {
            "color": "#2a3f5f"
           }
          },
          "ternary": {
           "aaxis": {
            "gridcolor": "white",
            "linecolor": "white",
            "ticks": ""
           },
           "baxis": {
            "gridcolor": "white",
            "linecolor": "white",
            "ticks": ""
           },
           "bgcolor": "#E5ECF6",
           "caxis": {
            "gridcolor": "white",
            "linecolor": "white",
            "ticks": ""
           }
          },
          "title": {
           "x": 0.05
          },
          "xaxis": {
           "automargin": true,
           "gridcolor": "white",
           "linecolor": "white",
           "ticks": "",
           "title": {
            "standoff": 15
           },
           "zerolinecolor": "white",
           "zerolinewidth": 2
          },
          "yaxis": {
           "automargin": true,
           "gridcolor": "white",
           "linecolor": "white",
           "ticks": "",
           "title": {
            "standoff": 15
           },
           "zerolinecolor": "white",
           "zerolinewidth": 2
          }
         }
        },
        "title": {
         "text": "Most popular races"
        }
       }
      }
     },
     "metadata": {}
    }
   ],
   "source": [
    "import plotly.graph_objects as go\n",
    "fig = go.Figure(data=[go.Scatter(\n",
    "    x=rw_wc_venue_df['Venue'], y=rw_wc_venue_df[\"Number\"],\n",
    "    mode='markers',\n",
    "    )])\n",
    "\n",
    "fig.update_layout(title=\"Most popular races\")\n",
    "fig.show()"
   ]
  },
  {
   "cell_type": "code",
   "execution_count": null,
   "metadata": {},
   "outputs": [],
   "source": []
  }
 ]
}