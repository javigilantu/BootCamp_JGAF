{
 "cells": [
  {
   "cell_type": "markdown",
   "metadata": {},
   "source": [
    "## Repaso\n",
    "\n",
    "1. Variables y tipos:\n",
    "    - Creación de variables\n",
    "    - String\n",
    "    - Enteros\n",
    "    - Booleanos\n",
    "    - None (Ningún tipo)\n",
    "    - Diccionarios\n",
    "    - type()\n",
    "    - isinstance()\n",
    "2. Operadores lógicos:\n",
    "    - Suma\n",
    "    - Resta\n",
    "    - División\n",
    "    - División absoluta\n",
    "    - Exponente\n",
    "    - Multiplicación\n",
    "    - And, or, not\n",
    "3. Listas, \"\", Tuplas y Set (Conjuntos):\n",
    "    - Acceso a dato por posiciones\n",
    "    - Tamaño de lista \n",
    "    - Listas dentro de listas\n",
    "    - Añadir datos a la listas\n",
    "    - Eliminar datos de listas\n",
    "    - Coger x elementos de listas [[:x]]\n",
    "4. Bucles:\n",
    "    - For\n",
    "    - range\n",
    "    - enumerate\n",
    "    - while\n",
    "    - break\n",
    "    - Acumuladores\n",
    "5. Funciones:\n",
    "    - Función con parámetros\n",
    "    - Funciones dentro de Funciones\n",
    "    - Funciones recursivas   no cae\n",
    "    - Return\n",
    "    - Valores por defecto\n",
    "    - *args, **kwargs\n",
    "    - Lambda\n",
    "6. Input \n",
    "7. Importar módulos (librería, paquete)\n",
    "8. Dict/List comprehension, zip()\n",
    "10. Map/Filter & Reduce (functools) esto no cae\n",
    "11. Ficheros\n",
    "12. Try / Except\n",
    "13. Classes"
   ]
  },
  {
   "cell_type": "code",
   "execution_count": 2,
   "metadata": {},
   "outputs": [
    {
     "output_type": "stream",
     "name": "stdout",
     "text": [
      "dict_items([('KEY', 'VALUE')])\n"
     ]
    }
   ],
   "source": [
    "#1)\n",
    "x = 23\n",
    "y =\" esto es un string\"\n",
    "z = None # sinonimos: 0, \"\", False\n",
    "1==1 \n",
    "d = True\n",
    "s = False\n",
    "dict_1 = { \"KEY\" : \"VALUE\"} #los diccionarios no tienen posicion\n",
    "dict_2= dict_1.items()\n",
    "print (dict_2)"
   ]
  },
  {
   "cell_type": "code",
   "execution_count": 7,
   "metadata": {},
   "outputs": [
    {
     "output_type": "stream",
     "name": "stdout",
     "text": [
      "(4, 7, [6, 'arg'], 9, 'popeyes')\n[4, 7, [6, 'arg'], 'popeyes', 16]\n"
     ]
    },
    {
     "output_type": "execute_result",
     "data": {
      "text/plain": [
       "[16]"
      ]
     },
     "metadata": {},
     "execution_count": 7
    }
   ],
   "source": [
    "x = [4, 7, [6, \"arg\"], 9 , (\"popeyes\")]\n",
    "x = tuple(x)\n",
    "print (x)\n",
    "x = list(x)\n",
    "x.append(16)\n",
    "x.pop(3)\n",
    "print(x)\n",
    "x[4:]"
   ]
  },
  {
   "cell_type": "code",
   "execution_count": null,
   "metadata": {},
   "outputs": [],
   "source": [
    "# bucles:\n",
    "# for iteracion por tantas x en un rango o valor ej: for x in range(10)\n",
    "# enumerate da posicion y valor ej: for pos, val in enumerate(l)\n",
    "# while se va a repetir esa teracion mientras el while sea cierto \n",
    "# break se rompe una funcion o un while o un for "
   ]
  }
 ],
 "metadata": {
  "language_info": {
   "codemirror_mode": {
    "name": "ipython",
    "version": 3
   },
   "file_extension": ".py",
   "mimetype": "text/x-python",
   "name": "python",
   "nbconvert_exporter": "python",
   "pygments_lexer": "ipython3",
   "version": "3.9.0-final"
  },
  "orig_nbformat": 2,
  "kernelspec": {
   "name": "python3",
   "display_name": "Python 3.9.0 64-bit",
   "metadata": {
    "interpreter": {
     "hash": "55e468aa44997b1a111e264ecfc47cca8eaefaa39ff5edd28dad934b35afc7e9"
    }
   }
  }
 },
 "nbformat": 4,
 "nbformat_minor": 2
}