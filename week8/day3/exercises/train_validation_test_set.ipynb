{
 "metadata": {
  "language_info": {
   "codemirror_mode": {
    "name": "ipython",
    "version": 3
   },
   "file_extension": ".py",
   "mimetype": "text/x-python",
   "name": "python",
   "nbconvert_exporter": "python",
   "pygments_lexer": "ipython3",
   "version": "3.9.0-final"
  },
  "orig_nbformat": 2,
  "kernelspec": {
   "name": "python3",
   "display_name": "Python 3.9.0 64-bit",
   "metadata": {
    "interpreter": {
     "hash": "55e468aa44997b1a111e264ecfc47cca8eaefaa39ff5edd28dad934b35afc7e9"
    }
   }
  }
 },
 "nbformat": 4,
 "nbformat_minor": 2,
 "cells": [
  {
   "cell_type": "markdown",
   "metadata": {},
   "source": [
    "### 1. \n",
    "\n",
    "Crear una función que reciba cuatro parámetros: una lista 'L', un número 'T', un número 'V' y un booleano 'S'. La función debe devolver otras dos listas: \"lista_train_val\" y \"lista_test\".\n",
    "\n",
    "- \"lista_train_val\" es una lista con dos elementos. Cada elemento es una lista: \"list_train\", que representa el conjunto de entrenamiento y \"list_val\", que representa el conjunto de validación. \n",
    "- \"list_test\" es el conjunto de test. Como mínimo ha de tener 1 elemento (si 'L' > 1).\n",
    "- \"L\" es cualquier lista de elementos. Al principio, entra con un tamaño completo (100%). Esta es la lista que se partirá y se generarán los conjuntos entrenamiento, de validación y de test.\n",
    "- \"T\" es un número entre 1 y 100 que va a representar el tamaño, en porcentaje, del conjunto de test \"list_test\". \n",
    "- \"V\" es un número entre 0 y 100 que va a representar el tamaño, en porcentaje, del conjunto de validación \"list_val\". Su valor por defecto es 0.\n",
    "- \"S\", que por defecto es False, determinará si los conjuntos \"list_train\", \"list_test\" y \"list_val\" están aleatoriamente ordenados. ¿Encuentras alguna posible incoherencia si se reordenan aleatoriamente?\n",
    "\n",
    "Prueba la función con una lista de 100 elementos números aleatorios del 0 al 100. \n",
    "\n",
    "### 2. \n",
    "\n",
    "Rehacer el ejercicio anterior en otra función para que no devuelva dos listas, sino los tres conjuntos: \n",
    "\n",
    "--> return list_train, list_val, list_test "
   ]
  },
  {
   "cell_type": "code",
   "execution_count": 1,
   "metadata": {},
   "outputs": [],
   "source": [
    "import numpy as numpy\n",
    "import pandas as pd \n",
    "import random"
   ]
  },
  {
   "cell_type": "code",
   "execution_count": 31,
   "metadata": {},
   "outputs": [],
   "source": [
    "def train_validation_solution(L, T, V=0, S= False):\n",
    "    \n",
    "    if T != 0 & S == True:\n",
    "        leng = len(L)\n",
    "        cut = int(leng * (T/100))\n",
    "        random.shuffle(L)\n",
    "        list_test = L[:cut]\n",
    "    elif T != 0:\n",
    "        leng = len(L)\n",
    "        cut = int(leng * (T/100))\n",
    "        list_test= L[:cut]\n",
    "    else:\n",
    "        list_test = list_test\n",
    "    \n",
    "    if V == 0:\n",
    "        list_val = []\n",
    "        list_train = L\n",
    "    elif S== True:\n",
    "        leng = len(L)\n",
    "        cut = int(leng * (V/100))\n",
    "        random.shuffle(L)\n",
    "        list_val = L[:cut]\n",
    "        list_train= L[cut:]\n",
    "    else:\n",
    "        leng = len(L)\n",
    "        cut = int(leng * (T/100))\n",
    "        list_val= L[:cut]\n",
    "        list_train= L[:cut]\n",
    "    \n",
    "    lista_train_val = [list_train, list_val]\n",
    "     \n",
    "    return lista_train_val"
   ]
  },
  {
   "cell_type": "code",
   "execution_count": 23,
   "metadata": {},
   "outputs": [],
   "source": [
    "L = list( range(0, 100))\n",
    "T = 25\n",
    "V = 10\n",
    "S = True"
   ]
  },
  {
   "cell_type": "code",
   "execution_count": 28,
   "metadata": {},
   "outputs": [
    {
     "output_type": "error",
     "ename": "TypeError",
     "evalue": "'NoneType' object is not iterable",
     "traceback": [
      "\u001b[1;31m---------------------------------------------------------------------------\u001b[0m",
      "\u001b[1;31mTypeError\u001b[0m                                 Traceback (most recent call last)",
      "\u001b[1;32m<ipython-input-28-a134336a4724>\u001b[0m in \u001b[0;36m<module>\u001b[1;34m\u001b[0m\n\u001b[1;32m----> 1\u001b[1;33m \u001b[0ml_\u001b[0m \u001b[1;33m=\u001b[0m \u001b[0mlist\u001b[0m\u001b[1;33m(\u001b[0m\u001b[0mrandom\u001b[0m\u001b[1;33m.\u001b[0m\u001b[0mshuffle\u001b[0m\u001b[1;33m(\u001b[0m\u001b[0mL\u001b[0m\u001b[1;33m)\u001b[0m\u001b[1;33m)\u001b[0m\u001b[1;33m\u001b[0m\u001b[1;33m\u001b[0m\u001b[0m\n\u001b[0m\u001b[0;32m      2\u001b[0m \u001b[0mprint\u001b[0m\u001b[1;33m(\u001b[0m\u001b[0ml_\u001b[0m\u001b[1;33m)\u001b[0m\u001b[1;33m\u001b[0m\u001b[1;33m\u001b[0m\u001b[0m\n",
      "\u001b[1;31mTypeError\u001b[0m: 'NoneType' object is not iterable"
     ]
    }
   ],
   "source": [
    "l_ = random.shuffle(L)\n",
    "print(l_)"
   ]
  },
  {
   "cell_type": "code",
   "execution_count": 32,
   "metadata": {},
   "outputs": [
    {
     "output_type": "execute_result",
     "data": {
      "text/plain": [
       "[[52,\n",
       "  19,\n",
       "  40,\n",
       "  89,\n",
       "  51,\n",
       "  38,\n",
       "  74,\n",
       "  80,\n",
       "  59,\n",
       "  86,\n",
       "  66,\n",
       "  17,\n",
       "  27,\n",
       "  1,\n",
       "  69,\n",
       "  23,\n",
       "  53,\n",
       "  56,\n",
       "  97,\n",
       "  16,\n",
       "  30,\n",
       "  45,\n",
       "  39,\n",
       "  49,\n",
       "  25,\n",
       "  64,\n",
       "  94,\n",
       "  68,\n",
       "  99,\n",
       "  26,\n",
       "  10,\n",
       "  31,\n",
       "  37,\n",
       "  9,\n",
       "  54,\n",
       "  0,\n",
       "  36,\n",
       "  3,\n",
       "  67,\n",
       "  65,\n",
       "  72,\n",
       "  63,\n",
       "  81,\n",
       "  46,\n",
       "  4,\n",
       "  85,\n",
       "  44,\n",
       "  75,\n",
       "  88,\n",
       "  47,\n",
       "  57,\n",
       "  8,\n",
       "  78,\n",
       "  7,\n",
       "  18,\n",
       "  5,\n",
       "  32,\n",
       "  91,\n",
       "  62,\n",
       "  98,\n",
       "  84,\n",
       "  90,\n",
       "  93,\n",
       "  50,\n",
       "  55,\n",
       "  58,\n",
       "  34,\n",
       "  28,\n",
       "  33,\n",
       "  60,\n",
       "  92,\n",
       "  42,\n",
       "  24,\n",
       "  13,\n",
       "  43,\n",
       "  76,\n",
       "  41,\n",
       "  11,\n",
       "  71,\n",
       "  96,\n",
       "  20,\n",
       "  2,\n",
       "  70,\n",
       "  35,\n",
       "  29,\n",
       "  82,\n",
       "  73,\n",
       "  12,\n",
       "  22,\n",
       "  61],\n",
       " [95, 14, 77, 83, 6, 48, 15, 79, 87, 21]]"
      ]
     },
     "metadata": {},
     "execution_count": 32
    }
   ],
   "source": [
    "train_validation_solution(L= L, T= T, V=V, S= S)"
   ]
  },
  {
   "cell_type": "code",
   "execution_count": null,
   "metadata": {},
   "outputs": [],
   "source": [
    "def train_validation_solution2(L, T, V=0, S= False):\n",
    "    \n",
    "    if T != 0 & S == True:\n",
    "        leng = len(L)\n",
    "        cut = int(leng * (T/100))\n",
    "        l_ = random.shuffle(L)\n",
    "        list_test = l_[:cut]\n",
    "    \n",
    "    elif T != 0:\n",
    "        leng = len(L)\n",
    "        cut = int(leng * (T/100))\n",
    "        list_test= L[:cut]\n",
    "    \n",
    "    else:\n",
    "        list_test = list_test\n",
    "    \n",
    "    if V == 0:\n",
    "        list_val = []\n",
    "        list_train = L\n",
    "    \n",
    "    elif S== True:\n",
    "        leng = len(L)\n",
    "        cut = int(leng * (T/100))\n",
    "        l_ = random.shuffle(L)\n",
    "        list_val = l_[:cut]\n",
    "        list_train= l_[cut:]\n",
    "    \n",
    "    else:\n",
    "        leng = len(L)\n",
    "        cut = int(leng * (T/100))\n",
    "        list_val= L[:cut]\n",
    "        list_train= L[:cut]\n",
    "    \n",
    "    \n",
    "    lista_train_val = [list_train, list_val, list_test]\n",
    "     \n",
    "    return lista_train_val"
   ]
  }
 ]
}