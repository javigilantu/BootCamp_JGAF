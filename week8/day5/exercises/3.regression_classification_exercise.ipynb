{
 "metadata": {
  "language_info": {
   "codemirror_mode": {
    "name": "ipython",
    "version": 3
   },
   "file_extension": ".py",
   "mimetype": "text/x-python",
   "name": "python",
   "nbconvert_exporter": "python",
   "pygments_lexer": "ipython3",
   "version": "3.9.0-final"
  },
  "orig_nbformat": 2,
  "kernelspec": {
   "name": "python3",
   "display_name": "Python 3.9.0 64-bit",
   "metadata": {
    "interpreter": {
     "hash": "55e468aa44997b1a111e264ecfc47cca8eaefaa39ff5edd28dad934b35afc7e9"
    }
   }
  }
 },
 "nbformat": 4,
 "nbformat_minor": 2,
 "cells": [
  {
   "cell_type": "markdown",
   "metadata": {},
   "source": [
    "### Nivel intermedio:\n",
    "\n",
    "Hacer con objetivo de preparar entrevista técnica y tener un código reutilizable, útil y funcional."
   ]
  },
  {
   "cell_type": "markdown",
   "metadata": {},
   "source": [
    "## 1. \n",
    "\n",
    "Crea un programa que pregunte al usuario qué tipo de algoritmo desea utilizar (entre regresión lineal, regresión logística y Knn).\n",
    "\n",
    "Se presupone que el usuario proporcionará un dataframe con los datos a entrenar, el nombre de la columna target que está en el dataframe.\n",
    "\n",
    "El programa debe contener, como mínimo, estas tres funciones tal que así:"
   ]
  },
  {
   "cell_type": "code",
   "execution_count": 3,
   "metadata": {},
   "outputs": [],
   "source": [
    "def choose_model(option_user, params=None):\n",
    "    # your code\n",
    "    return model\n",
    "\n",
    "def train_model(model, df, target_name):\n",
    "    # your code\n",
    "    return model_trained, accuracy\n",
    "\n",
    "def main():\n",
    "    # your code\n",
    "    print(accuracy)\n",
    "    return model_trained"
   ]
  },
  {
   "cell_type": "code",
   "execution_count": 1,
   "metadata": {},
   "outputs": [],
   "source": [
    "param = {\"k\":3}"
   ]
  },
  {
   "cell_type": "code",
   "execution_count": 28,
   "metadata": {},
   "outputs": [],
   "source": [
    "from sklearn.model_selection import train_test_split\n",
    "from sklearn.linear_model import LinearRegression\n",
    "from sklearn import model_selection\n",
    "from sklearn.metrics import classification_report\n",
    "from sklearn.neighbors import KNeighborsClassifier\n",
    "from sklearn.linear_model import LogisticRegression\n",
    "from sklearn import metrics\n",
    "from sklearn.metrics import r2_score, mean_absolute_error, accuracy_score\n",
    "from sklearn import linear_model\n",
    "from sklearn.metrics import classification_report\n",
    "import pandas as pd \n",
    "import numpy as np "
   ]
  },
  {
   "cell_type": "code",
   "execution_count": 36,
   "metadata": {},
   "outputs": [],
   "source": [
    "def choose_model(option_user, params=None):\n",
    "    # Define parameter\n",
    "    # nombrar los modelos\n",
    "    x = LinearRegression()\n",
    "    y = linear_model.LogisticRegression()\n",
    "    z = KNeighborsClassifier(n_neighbors=params['k'])\n",
    "    # que modelo se escoge\n",
    "    if option_user == 'LinearRegression':\n",
    "        model=x\n",
    "        return model\n",
    "    elif option_user == 'LogisticRegression':\n",
    "        model=y\n",
    "        return model\n",
    "    elif option_user == 'Knn':\n",
    "        model=z\n",
    "        return model"
   ]
  },
  {
   "cell_type": "code",
   "execution_count": 56,
   "metadata": {},
   "outputs": [
    {
     "output_type": "execute_result",
     "data": {
      "text/plain": [
       "LinearRegression()"
      ]
     },
     "metadata": {},
     "execution_count": 56
    }
   ],
   "source": [
    "choose_model(option_user='LinearRegression', params={'k': 7, 'n_splits': 10, 'random_state': 7})"
   ]
  },
  {
   "cell_type": "code",
   "execution_count": 59,
   "metadata": {},
   "outputs": [],
   "source": [
    "def train_model(model, df, target_name, n_splits, random_state, params):\n",
    "    # Pasar los df a np.array para los modelos\n",
    "    X=  np.array(df.drop([target_name], 1))\n",
    "    y =np.array(a mi no)\n",
    "    X_train, X_test, y_train, y_test = train_test_split(X, y, test_size=0.2)\n",
    "    # Definir los distintos modelos\n",
    "    # Definir acuracy          \n",
    "    if model == LinearRegression():\n",
    "        \n",
    "        model.fit(X_train, y_train)\n",
    "        print('#################\\n', 'Model fit score', model.score(X_train, y_train), '\\n###############' )\n",
    "        \n",
    "        kfold = model_selection.KFold(n_splits=10, random_state=seed)\n",
    "        cv_results = model_selection.cross_val_score(model, X_train, y_train, cv=kfold, scoring='accuracy')\n",
    "        msg = \"%s: %f (%f)\" % (name, cv_results.mean(), cv_results.std())\n",
    "        print('#################\\n', 'MSG', msg, '\\n###############' )\n",
    "        \n",
    "        y_pred = model.predict(X_test)\n",
    "        accuracy = metrics.accuracy_score(y_test, y_pred)\n",
    "        print('#################\\n', 'Model test score', accuracy, '\\n###############' )\n",
    "        \n",
    "        model_trained= pd.DataFrame({\"Target\": y, \"Preiction\": y_pred})\n",
    "        \n",
    "        return model_trained, accuracy\n",
    "    \n",
    "    elif model == linear_model.LogisticRegression():\n",
    "        \n",
    "        model.fit(X_train, y_train)\n",
    "        print('#################\\n', 'Model fit score', model.score(X_train, y_train), '\\n###############' )\n",
    "        \n",
    "        kfold = model_selection.KFold(n_splits=10, random_state=seed)\n",
    "        cv_results = model_selection.cross_val_score(model, X_train, y_train, cv=kfold, scoring='accuracy')\n",
    "        msg = \"%s: %f (%f)\" % (name, cv_results.mean(), cv_results.std())\n",
    "        print('#################\\n', 'MSG', msg, '\\n###############' )\n",
    "        \n",
    "        y_pred = model.predict(X_test)\n",
    "        accuracy = metrics.accuracy_score(y_test, y_pred)\n",
    "        print('#################\\n', 'Model test score', accuracy, '\\n###############' )\n",
    "        \n",
    "        model_trained= pd.DataFrame({\"Target\": y, \"Preiction\": y_pred})\n",
    "        \n",
    "        return model_trained, accuracy\n",
    "    \n",
    "    elif model == KNeighborsClassifier(n_neighbors=params['k']):\n",
    "        \n",
    "        model.fit(X_train, y_train)\n",
    "        print('#################\\n', 'Model fit score', model.score(X_train, y_train), '\\n###############' )\n",
    "        \n",
    "        y_pred = model.predict(X_test)\n",
    "        accuracy = metrics.accuracy_score(y_test, y_pred)\n",
    "        print('#################\\n', 'Model test score', accuracy, '\\n###############' )\n",
    "        \n",
    "        model_trained= pd.DataFrame({\"Target\": y, \"Preiction\": y_pred})\n",
    "        \n",
    "        return model_trained, accuracy"
   ]
  },
  {
   "cell_type": "code",
   "execution_count": 62,
   "metadata": {},
   "outputs": [],
   "source": [
    "train_model(model= LinearRegression(), df= df, target_name= 'variety', n_splits=10, random_state=15, params={'k': 7, 'n_splits': 10, 'random_state': 7})"
   ]
  },
  {
   "cell_type": "code",
   "execution_count": 57,
   "metadata": {},
   "outputs": [],
   "source": [
    "def main(option_user, df, target_name, params=None, n_splits= 10, random_state= 15):\n",
    "    #Invocar las funciones \n",
    "    model= choose_model(option_user=option_user, params=params)\n",
    "    model_trained = train_model(model= model, df=df, target_name=target_name, n_splits=n_splits, random_state=random_state, params=params)\n",
    "    # your code\n",
    "    return model_trained"
   ]
  },
  {
   "cell_type": "code",
   "execution_count": 55,
   "metadata": {},
   "outputs": [],
   "source": [
    "df = pd.read_csv(\"C:\\\\Users\\\\javig\\\\OneDrive\\\\Documents\\\\Bootcamp\\\\The_Bridge_Javier\\\\BootCamp_JGAF\\\\week8\\\\day5\\\\data\\\\iris.csv\")\n",
    "main(option_user='LinearRegression',df=df, target_name='variety', params={'k': 7, 'n_splits': 10, 'random_state': 7})"
   ]
  },
  {
   "cell_type": "markdown",
   "metadata": {},
   "source": [
    "-----------------------------\n",
    "\"choose_model\" recibe:\n",
    "\n",
    "- 'option_user': la opción del usuario. \n",
    "- 'params': es un diccionario que puede contener ciertos parámetros necesarios para la creación de los modelos (por ejemplo, el valor k para el algoritmo Knn). Por defecto, su valor es None.\n",
    "\n",
    "Deberá crear el modelo necesario sin entrenar, retornándolo al final.\n",
    "\n",
    "----------------\n",
    "\n",
    "\"train_model\" recibe:\n",
    "\n",
    "- 'model': el modelo sin entrenar elegido por el usario\n",
    "- 'df': el dataframe tratado y limpio que contiene todos los datos del conjunto de entrenamiento y de test, incluyendo el target. \n",
    "- 'target_name': el nombre de la columna que representa el target.\n",
    "\n",
    "Retornará el modelo entrenado con los datos y la precisión del modelo.\n",
    "\n",
    "\n",
    "----------------\n",
    "\n",
    "\"main\": \n",
    "\n",
    "Es la función que ha de ser ejecutada cada vez que queremos lanzar el programa. \n",
    "\n",
    "Al final, mostrará la precisión del modelo entrenado y retornará el modelo entrenado.\n",
    "\n",
    "----------------\n"
   ]
  },
  {
   "cell_type": "markdown",
   "metadata": {},
   "source": [
    "## 2.\n"
   ]
  },
  {
   "cell_type": "markdown",
   "metadata": {},
   "source": [
    "Haz que el programa sea capaz de predecir un nuevo ejemplo del modelo elegido y entrenado con la siguiente función:"
   ]
  },
  {
   "cell_type": "code",
   "execution_count": null,
   "metadata": {},
   "outputs": [],
   "source": [
    "def predict_new_data(model_trained, to_pred):\n",
    "    # your code\n",
    "    y_pred = model_trained.predict(to_pred)\n",
    "    return y_pred"
   ]
  },
  {
   "cell_type": "markdown",
   "metadata": {},
   "source": [
    "----------------\n",
    "\n",
    "\"predict_new_data\" recibe:\n",
    "\n",
    "- 'model_trained': el modelo entrenado elegido por el usario\n",
    "- 'to_pred': los datos del nuevo ejemplo a predecir.\n",
    "\n",
    "Retornará y mostrará por pantalla la predicción.\n",
    "\n",
    "----------------\n",
    "\n",
    "Se presupone que el usuario proporcionará los datos del nuevo ejemplo."
   ]
  },
  {
   "cell_type": "code",
   "execution_count": null,
   "metadata": {},
   "outputs": [],
   "source": []
  }
 ]
}